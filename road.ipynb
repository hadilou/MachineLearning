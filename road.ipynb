{
  "nbformat": 4,
  "nbformat_minor": 0,
  "metadata": {
    "colab": {
      "name": "road.ipynb",
      "version": "0.3.2",
      "provenance": [],
      "collapsed_sections": [],
      "include_colab_link": true
    },
    "kernelspec": {
      "name": "python3",
      "display_name": "Python 3"
    }
  },
  "cells": [
    {
      "cell_type": "markdown",
      "metadata": {
        "id": "view-in-github",
        "colab_type": "text"
      },
      "source": [
        "<a href=\"https://colab.research.google.com/github/hadilou/MachineLearning/blob/master/road.ipynb\" target=\"_parent\"><img src=\"https://colab.research.google.com/assets/colab-badge.svg\" alt=\"Open In Colab\"/></a>"
      ]
    },
    {
      "metadata": {
        "id": "hnhYgpVu_EbG",
        "colab_type": "code",
        "outputId": "94e91ad7-1f8f-458d-bcb0-78b8089395fe",
        "colab": {
          "base_uri": "https://localhost:8080/",
          "height": 17
        }
      },
      "cell_type": "code",
      "source": [
        "import os\n",
        "import sys\n",
        "import random\n",
        "import math\n",
        "import re\n",
        "import time\n",
        "import numpy as np\n",
        "import pandas as pd\n",
        "from numpy import genfromtxt\n",
        "import cv2\n",
        "import matplotlib\n",
        "import matplotlib.pyplot as plt\n",
        "#matplotlib.use(\"gtk\")\n",
        "#import gc\n",
        "#import seaborn as sns\n",
        "%matplotlib inline\n",
        "#%pylab inline\n",
        "#pal = sns.color_palette()\n",
        "import skimage.draw\n",
        "import plotly.offline as py\n",
        "py.init_notebook_mode(connected=True)\n",
        "import plotly.graph_objs as go\n",
        "import plotly.tools as tls\n",
        "\n",
        "#from PIL import Image\n",
        "from tqdm import tqdm"
      ],
      "execution_count": 2,
      "outputs": [
        {
          "output_type": "display_data",
          "data": {
            "text/html": [
              "<script type=\"text/javascript\">window.PlotlyConfig = {MathJaxConfig: 'local'};</script><script type=\"text/javascript\">if (window.MathJax) {MathJax.Hub.Config({SVG: {font: \"STIX-Web\"}});}</script><script>requirejs.config({paths: { 'plotly': ['https://cdn.plot.ly/plotly-latest.min']},});if(!window._Plotly) {require(['plotly'],function(plotly) {window._Plotly=plotly;});}</script>"
            ],
            "text/vnd.plotly.v1+html": "<script type=\"text/javascript\">window.PlotlyConfig = {MathJaxConfig: 'local'};</script><script type=\"text/javascript\">if (window.MathJax) {MathJax.Hub.Config({SVG: {font: \"STIX-Web\"}});}</script><script>requirejs.config({paths: { 'plotly': ['https://cdn.plot.ly/plotly-latest.min']},});if(!window._Plotly) {require(['plotly'],function(plotly) {window._Plotly=plotly;});}</script>"
          },
          "metadata": {
            "tags": []
          }
        }
      ]
    },
    {
      "metadata": {
        "id": "inImkSbF_rTP",
        "colab_type": "code",
        "outputId": "c7808d04-507b-4287-fb66-b86df0068f7f",
        "colab": {
          "base_uri": "https://localhost:8080/",
          "height": 51
        }
      },
      "cell_type": "code",
      "source": [
        "# Root directory of the project\n",
        "ROOT_DIR = os.path.abspath(\"C:/Users/Kayode Hadilou ADJE/AnacondaProjects/Mask_RCNN\")\n",
        "print(ROOT_DIR)\n",
        "\n",
        "# Import Mask RCNN\n",
        "sys.path.append(ROOT_DIR)  # To find local version of the library\n",
        "from mrcnn.config import Config\n",
        "from mrcnn import utils\n",
        "import mrcnn.model as modellib\n",
        "from mrcnn import visualize\n",
        "from mrcnn.model import log\n"
      ],
      "execution_count": 3,
      "outputs": [
        {
          "output_type": "stream",
          "text": [
            "C:\\Users\\Kayode Hadilou ADJE\\AnacondaProjects\\Mask_RCNN\n"
          ],
          "name": "stdout"
        },
        {
          "output_type": "stream",
          "text": [
            "Using TensorFlow backend.\n"
          ],
          "name": "stderr"
        }
      ]
    },
    {
      "metadata": {
        "id": "Iro6nkXj_xMb",
        "colab_type": "code",
        "colab": {}
      },
      "cell_type": "code",
      "source": [
        "\n",
        "# Directory to save logs and trained model\n",
        "MODEL_DIR = os.path.join(ROOT_DIR, \"logs\")\n",
        "\n",
        "# Local path to trained weights file\n",
        "COCO_MODEL_PATH = os.path.join(ROOT_DIR, \"mask_rcnn_coco.h5\")\n",
        "# Download COCO trained weights from Releases if needed\n",
        "if not os.path.exists(COCO_MODEL_PATH):\n",
        "    utils.download_trained_weights(COCO_MODEL_PATH)"
      ],
      "execution_count": 0,
      "outputs": []
    },
    {
      "metadata": {
        "id": "EeDtDeWf___P",
        "colab_type": "code",
        "outputId": "6cdcbe2a-701f-4023-8257-2c7f74becabc",
        "colab": {
          "base_uri": "https://localhost:8080/",
          "height": 901
        }
      },
      "cell_type": "code",
      "source": [
        "class RoadConfig(Config):\n",
        "    \"\"\"Configuration for training on the toy shapes dataset.\n",
        "    Derives from the base Config class and overrides values specific\n",
        "    to the toy shapes dataset.\n",
        "    \"\"\"\n",
        "    # Give the configuration a recognizable name\n",
        "    NAME = \"road\"\n",
        "\n",
        "    # Train on 1 GPU and 8 images per GPU. We can put multiple images on each\n",
        "    # GPU because the images are small. Batch size is 8 (GPUs * images/GPU).\n",
        "    GPU_COUNT = 1\n",
        "    IMAGES_PER_GPU = 8\n",
        "\n",
        "    # Number of classes (including background)\n",
        "    NUM_CLASSES = 1 + 10  # background + 3 shapes\n",
        "\n",
        "    # Use small images for faster training. Set the limits of the small side\n",
        "    # the large side, and that determines the image shape.\n",
        "    IMAGE_MIN_DIM = 128\n",
        "    IMAGE_MAX_DIM = 128\n",
        "\n",
        "    # Use smaller anchors because our image and objects are small\n",
        "    RPN_ANCHOR_SCALES = (8, 16, 32, 64, 128)  # anchor side in pixels\n",
        "\n",
        "    # Reduce training ROIs per image because the images are small and have\n",
        "    # few objects. Aim to allow ROI sampling to pick 33% positive ROIs.\n",
        "    TRAIN_ROIS_PER_IMAGE = 32\n",
        "\n",
        "    # Use a small epoch since the data is simple\n",
        "    STEPS_PER_EPOCH = 100\n",
        "\n",
        "    # use small validation steps since the epoch is small\n",
        "    VALIDATION_STEPS = 5\n",
        "    \n",
        "config = RoadConfig()\n",
        "config.display()"
      ],
      "execution_count": 5,
      "outputs": [
        {
          "output_type": "stream",
          "text": [
            "\n",
            "Configurations:\n",
            "BACKBONE                       resnet101\n",
            "BACKBONE_STRIDES               [4, 8, 16, 32, 64]\n",
            "BATCH_SIZE                     8\n",
            "BBOX_STD_DEV                   [0.1 0.1 0.2 0.2]\n",
            "COMPUTE_BACKBONE_SHAPE         None\n",
            "DETECTION_MAX_INSTANCES        100\n",
            "DETECTION_MIN_CONFIDENCE       0.7\n",
            "DETECTION_NMS_THRESHOLD        0.3\n",
            "FPN_CLASSIF_FC_LAYERS_SIZE     1024\n",
            "GPU_COUNT                      1\n",
            "GRADIENT_CLIP_NORM             5.0\n",
            "IMAGES_PER_GPU                 8\n",
            "IMAGE_CHANNEL_COUNT            3\n",
            "IMAGE_MAX_DIM                  128\n",
            "IMAGE_META_SIZE                23\n",
            "IMAGE_MIN_DIM                  128\n",
            "IMAGE_MIN_SCALE                0\n",
            "IMAGE_RESIZE_MODE              square\n",
            "IMAGE_SHAPE                    [128 128   3]\n",
            "LEARNING_MOMENTUM              0.9\n",
            "LEARNING_RATE                  0.001\n",
            "LOSS_WEIGHTS                   {'rpn_class_loss': 1.0, 'rpn_bbox_loss': 1.0, 'mrcnn_class_loss': 1.0, 'mrcnn_bbox_loss': 1.0, 'mrcnn_mask_loss': 1.0}\n",
            "MASK_POOL_SIZE                 14\n",
            "MASK_SHAPE                     [28, 28]\n",
            "MAX_GT_INSTANCES               100\n",
            "MEAN_PIXEL                     [123.7 116.8 103.9]\n",
            "MINI_MASK_SHAPE                (56, 56)\n",
            "NAME                           road\n",
            "NUM_CLASSES                    11\n",
            "POOL_SIZE                      7\n",
            "POST_NMS_ROIS_INFERENCE        1000\n",
            "POST_NMS_ROIS_TRAINING         2000\n",
            "PRE_NMS_LIMIT                  6000\n",
            "ROI_POSITIVE_RATIO             0.33\n",
            "RPN_ANCHOR_RATIOS              [0.5, 1, 2]\n",
            "RPN_ANCHOR_SCALES              (8, 16, 32, 64, 128)\n",
            "RPN_ANCHOR_STRIDE              1\n",
            "RPN_BBOX_STD_DEV               [0.1 0.1 0.2 0.2]\n",
            "RPN_NMS_THRESHOLD              0.7\n",
            "RPN_TRAIN_ANCHORS_PER_IMAGE    256\n",
            "STEPS_PER_EPOCH                100\n",
            "TOP_DOWN_PYRAMID_SIZE          256\n",
            "TRAIN_BN                       False\n",
            "TRAIN_ROIS_PER_IMAGE           32\n",
            "USE_MINI_MASK                  True\n",
            "USE_RPN_ROIS                   True\n",
            "VALIDATION_STEPS               5\n",
            "WEIGHT_DECAY                   0.0001\n",
            "\n",
            "\n"
          ],
          "name": "stdout"
        }
      ]
    },
    {
      "metadata": {
        "id": "a3V-cEGTB2Lu",
        "colab_type": "code",
        "colab": {}
      },
      "cell_type": "code",
      "source": [
        "def get_ax(rows=1, cols=1, size=8):\n",
        "    \"\"\"Return a Matplotlib Axes array to be used in\n",
        "    all visualizations in the notebook. Provide a\n",
        "    central point to control graph sizes.\n",
        "    \n",
        "    Change the default size attribute to control the size\n",
        "    of rendered images\n",
        "    \"\"\"\n",
        "    _, ax = plt.subplots(rows, cols, figsize=(size*cols, size*rows))\n",
        "    return ax"
      ],
      "execution_count": 0,
      "outputs": []
    },
    {
      "metadata": {
        "id": "jNh1e4HTZ4mp",
        "colab_type": "code",
        "colab": {}
      },
      "cell_type": "code",
      "source": [
        "\n",
        "class RoadDataset(utils.Dataset):\n",
        "    \n",
        "    def load_road(self, dataset_dir, subset):\n",
        "        \"\"\"Load a subset of the Road dataset.\n",
        "        dataset_dir: Root directory of the dataset.\n",
        "        subset: Subset to load: train or val\n",
        "        \"\"\"\n",
        "\n",
        "        # Add classes. We have only one class to add.\n",
        "        self.add_class(\"road\",1, \"stop\")\n",
        "        self.add_class(\"road\",2,\"leftturn\")\n",
        "        self.add_class(\"road\",3,\"rightturn\")\n",
        "        self.add_class(\"road\",4,\"rail\")\n",
        "        self.add_class(\"road\",5,\"35\")\n",
        "        self.add_class(\"road\",6,\"forward\")\n",
        "        self.add_class(\"road\",7,\"bike\")\n",
        "        self.add_class(\"road\",8,\"40\")\n",
        "        self.add_class(\"road\",9,\"ped\")\n",
        "        self.add_class(\"road\",10,\"xing\")\n",
        "        self.add_class(\"road\",11,\"diamond\")\n",
        "        self.add_class(\"road\",12,\"car\")\n",
        "        self.add_class(\"road\",13,\"pool\")\n",
        "        self.add_class(\"road\",14,\"lane\")\n",
        "        self.add_class(\"road\",15,\"keep\")\n",
        "        self.add_class(\"road\",16,\"clear\")\n",
        "        self.add_class(\"road\",17,\"25\")\n",
        "        self.add_class(\"road\",18,\"crossing\")\n",
        "        self.add_class(\"road\",19,\"X-\")\n",
        "        self.add_class(\"road\",20,\"forward&right\")\n",
        "        self.add_class(\"road\",21,\"speed\")\n",
        "        self.add_class(\"road\",22,\"hump\")\n",
        "        self.add_class(\"road\",23,\"30\")\n",
        "        self.add_class(\"road\",24,\"slow\")\n",
        "        self.add_class(\"road\",25,\"school\")\n",
        "        self.add_class(\"road\",26,\"stripe\")\n",
        "        self.add_class(\"road\",27,\"forward&left\")\n",
        "        self.add_class(\"road\",28,\"yield\")\n",
        "        \n",
        "        # Train or validation dataset?\n",
        "        assert subset in [\"train\", \"val\"]\n",
        "        dataset_dir = os.path.join(dataset_dir, subset)\n",
        "        dataset_dir = dataset_dir + '/'\n",
        "\n",
        "        # Load annotations\n",
        "        # VGG Image Annotator (up to version 1.6) saves each image in the form:\n",
        "        # { 'filename': '28503151_5b5b7ec140_b.jpg',\n",
        "        #   'regions': {\n",
        "        #       '0': {\n",
        "        #           'region_attributes': {},\n",
        "        #           'shape_attributes': {\n",
        "        #               'all_points_x': [...],\n",
        "        #               'all_points_y': [...],\n",
        "        #               'name': 'polygon'}},\n",
        "        #       ... more regions ...\n",
        "        #   },\n",
        "        #   'size': 100202\n",
        "        # }\n",
        "        # We mostly care about the x and y coordinates of each region\n",
        "        # Note: In VIA 2.0, regions was changed from a dict to a list.\n",
        "        \n",
        "        \n",
        "        annotations = pd.read_csv(\"D:/Datasets/RoadmarkingDataset/New folder/dataset_annotations.txt\")\n",
        "        \n",
        "        annotations = np.asarray(annotations)\n",
        "        # don't need the dict keys\n",
        "\n",
        "        # The VIA tool saves images in the JSON even if they don't have any\n",
        "        # annotations. Skip unannotated images.\n",
        "        #annotations = [a for a in annotations if a['label']]\n",
        "\n",
        "        # Add images\n",
        "        for a in annotations:\n",
        "            # Get the x, y coordinaets of points of the polygons that make up\n",
        "            # the outline of each object instance. These are stores in the\n",
        "            # shape_attributes (see json format above)\n",
        "            # The if condition is needed to support VIA versions 1.x and 2.x.\n",
        "            print(a)\n",
        "            polygons = {\n",
        "                'all_points_x': [int(a[0]),int(a[2]),int(a[4]),int(a[6])],\n",
        "                'all_points_y': [int(a[1]),int(a[3]),int(a[5]),int(a[7])],\n",
        "                'name': 'polygon'\n",
        "            } \n",
        "\n",
        "            # load_mask() needs the image size to convert polygons to masks.\n",
        "            # Unfortunately, VIA doesn't include it in JSON, so we must read\n",
        "            # the image. This is only managable since the dataset is tiny.\n",
        "            dataDIR = \"D:/Datasets/RoadmarkingDataset/RoadMarkingDataset/\"\n",
        "            image_path = dataDIR + a[9] #a[9]=a(file_name)\n",
        "            print(a[9])\n",
        "            image = skimage.io.imread(image_path)\n",
        "            height, width = image.shape[:2]\n",
        "\n",
        "            self.add_image(\n",
        "                \"road\",\n",
        "                image_id=a[9],  # use file name as a unique image id\n",
        "                path=image_path,\n",
        "                width=width, height=height,\n",
        "                polygons=polygons)\n",
        "    def load_mask(self, image_id):\n",
        "        \"\"\"Generate instance masks for an image.\n",
        "        Returns:\n",
        "        masks: A bool array of shape [height, width, instance count] with\n",
        "            one mask per instance.\n",
        "        class_ids: a 1D array of class IDs of the instance masks.\n",
        "        \"\"\"\n",
        "        # If not a road dataset image, delegate to parent class.\n",
        "        image_info = self.image_info[image_id]\n",
        "        if image_info[\"source\"] != \"road\":\n",
        "            return super(self.__class__, self).load_mask(image_id)\n",
        "\n",
        "        # Convert polygons to a bitmap mask of shape\n",
        "        # [height, width, instance_count]\n",
        "        info = self.image_info[image_id]\n",
        "        mask = np.zeros([info[\"height\"], info[\"width\"], len(info[\"polygons\"])],\n",
        "                        dtype=np.uint8)\n",
        "        for i, p in enumerate(info[\"polygons\"]):\n",
        "            # Get indexes of pixels inside the polygon and set them to 1\n",
        "            print(p)\n",
        "            #rr, cc = skimage.draw.polygon(p['all_points_y'], p['all_points_x'])\n",
        "            #mask[rr, cc, i] = 1\n",
        "\n",
        "        # Return mask, and array of class IDs of each instance. Since we have\n",
        "        # one class ID only, we return an array of 1s\n",
        "        return mask, np.ones([mask.shape[-1]], dtype=np.int32)\n",
        "    def image_reference(self, image_id):\n",
        "        \"\"\"Return the path of the image.\"\"\"\n",
        "        info = self.image_info[image_id]\n",
        "        if info[\"source\"] == \"road\":\n",
        "            return info[\"path\"]\n",
        "        else:\n",
        "            super(self.__class__, self).image_reference(image_id)\n",
        "    \n"
      ],
      "execution_count": 0,
      "outputs": []
    },
    {
      "metadata": {
        "id": "JTj6mUSt3Ncx",
        "colab_type": "text"
      },
      "cell_type": "markdown",
      "source": [
        "next code builds dataset should be run only once"
      ]
    },
    {
      "metadata": {
        "id": "HZbaqDPUuu5R",
        "colab_type": "code",
        "outputId": "ca0ccc6d-7950-47e3-cd36-039b43cdf27b",
        "colab": {
          "base_uri": "https://localhost:8080/",
          "height": 24718
        }
      },
      "cell_type": "code",
      "source": [
        "    def save(filename, output_dir):\n",
        "        \"\"\"Resize the image contained in `filename` and save it to the `output_dir`\"\"\"\n",
        "        image = Image.open(os.path.join(\"D:/Datasets/RoadmarkingDataset/RoadMarkingDataset\",filename))\n",
        "        # Use bilinear interpolation instead of the default \"nearest neighbor\" method\n",
        "        image.save(os.path.join(output_dir, filename.split('/')[-1]))\n",
        "    \n",
        "    \n",
        "    \n",
        "    train_data_dir = os.path.join(\"D:/Datasets/RoadmarkingDataset/RoadMarkingDataset\")\n",
        "    \n",
        "\n",
        "    # Get the filenames in each directory (train and test)\n",
        "    filenames = os.listdir(train_data_dir)\n",
        "    #print(filenames)\n",
        "    filenames = [ f for f in filenames if f.endswith('.jpg')]\n",
        "\n",
        "    # Split the images in 'train_signs' into 60% train and 20% val 20% test\n",
        "    # Make sure to always shuffle with a fixed seed so that the split is reproducible\n",
        "    random.seed(230)\n",
        "    filenames.sort()\n",
        "    random.shuffle(filenames)\n",
        "\n",
        "    split = int(0.6 * len(filenames))\n",
        "    train_filenames = filenames[:split]\n",
        "    temp = filenames[split:]\n",
        "    split2 = int(0.2 * len(temp))\n",
        "    test_filenames = temp[:split2]\n",
        "    val_filenames = temp[split2:]\n",
        "     \n",
        "    filenames = {'train': train_filenames,\n",
        "                 'val': val_filenames,\n",
        "                 'test': test_filenames}\n",
        "    for split in ['train', 'val', 'test']:\n",
        "        output_dir_split = os.path.join(\"D:/Datasets/RoadmarkingDataset/RoadMarkingDataset\", '{}'.format(split))\n",
        "        if not os.path.exists(output_dir_split):\n",
        "            os.mkdir(output_dir_split)\n",
        "        else:\n",
        "            print(\"Warning: dir {} already exists\".format(output_dir_split))\n",
        "\n",
        "        print(\"Processing {} data, saving preprocessed data to {}\".format(split, output_dir_split))\n",
        "        for filename in tqdm(filenames[split]):\n",
        "            print(filename)\n",
        "            save(filename, output_dir_split)\n",
        "\n",
        "    print(\"Done building dataset\")"
      ],
      "execution_count": 0,
      "outputs": [
        {
          "output_type": "stream",
          "text": [
            "Warning: dir D:/Datasets/RoadmarkingDataset/RoadMarkingDataset\\train already exists\n",
            "Processing train data, saving preprocessed data to D:/Datasets/RoadmarkingDataset/RoadMarkingDataset\\train\n"
          ],
          "name": "stdout"
        },
        {
          "output_type": "stream",
          "text": [
            "\r  0%|                                                                                          | 0/865 [00:00<?, ?it/s]"
          ],
          "name": "stderr"
        },
        {
          "output_type": "stream",
          "text": [
            "roadmark_0658.jpg\n"
          ],
          "name": "stdout"
        },
        {
          "output_type": "stream",
          "text": [
            "\r  0%|                                                                                  | 1/865 [00:00<01:32,  9.35it/s]"
          ],
          "name": "stderr"
        },
        {
          "output_type": "stream",
          "text": [
            "roadmark_0107.jpg\n"
          ],
          "name": "stdout"
        },
        {
          "output_type": "stream",
          "text": [
            "\r  0%|▏                                                                                 | 2/865 [00:00<01:41,  8.49it/s]"
          ],
          "name": "stderr"
        },
        {
          "output_type": "stream",
          "text": [
            "roadmark_0071.jpg\n",
            "roadmark_0103.jpg\n"
          ],
          "name": "stdout"
        },
        {
          "output_type": "stream",
          "text": [
            "\r  0%|▍                                                                                 | 4/865 [00:00<01:47,  7.98it/s]"
          ],
          "name": "stderr"
        },
        {
          "output_type": "stream",
          "text": [
            "roadmark_0371.jpg\n",
            "roadmark_0021.jpg\n"
          ],
          "name": "stdout"
        },
        {
          "output_type": "stream",
          "text": [
            "\r  1%|▌                                                                                 | 6/865 [00:00<01:28,  9.70it/s]"
          ],
          "name": "stderr"
        },
        {
          "output_type": "stream",
          "text": [
            "roadmark_1332.jpg\n"
          ],
          "name": "stdout"
        },
        {
          "output_type": "stream",
          "text": [
            "\r  1%|▋                                                                                 | 7/865 [00:00<01:39,  8.60it/s]"
          ],
          "name": "stderr"
        },
        {
          "output_type": "stream",
          "text": [
            "roadmark_0393.jpg\n"
          ],
          "name": "stdout"
        },
        {
          "output_type": "stream",
          "text": [
            "\r  1%|▊                                                                                 | 8/865 [00:00<01:47,  7.97it/s]"
          ],
          "name": "stderr"
        },
        {
          "output_type": "stream",
          "text": [
            "roadmark_0213.jpg\n"
          ],
          "name": "stdout"
        },
        {
          "output_type": "stream",
          "text": [
            "\r  1%|▊                                                                                 | 9/865 [00:01<01:47,  7.95it/s]"
          ],
          "name": "stderr"
        },
        {
          "output_type": "stream",
          "text": [
            "roadmark_0898.jpg\n",
            "roadmark_0746.jpg\n",
            "roadmark_0806.jpg\n"
          ],
          "name": "stdout"
        },
        {
          "output_type": "stream",
          "text": [
            "\r  1%|█                                                                                | 12/865 [00:01<01:26,  9.91it/s]"
          ],
          "name": "stderr"
        },
        {
          "output_type": "stream",
          "text": [
            "roadmark_0697.jpg\n",
            "roadmark_1086.jpg\n",
            "roadmark_0979.jpg\n"
          ],
          "name": "stdout"
        },
        {
          "output_type": "stream",
          "text": [
            "\r  2%|█▍                                                                               | 15/865 [00:01<01:12, 11.70it/s]"
          ],
          "name": "stderr"
        },
        {
          "output_type": "stream",
          "text": [
            "roadmark_0780.jpg\n",
            "roadmark_0493.jpg\n",
            "roadmark_0163.jpg\n"
          ],
          "name": "stdout"
        },
        {
          "output_type": "stream",
          "text": [
            "\r  2%|█▋                                                                               | 18/865 [00:01<01:02, 13.55it/s]"
          ],
          "name": "stderr"
        },
        {
          "output_type": "stream",
          "text": [
            "roadmark_1142.jpg\n",
            "roadmark_1356.jpg\n",
            "roadmark_0831.jpg\n"
          ],
          "name": "stdout"
        },
        {
          "output_type": "stream",
          "text": [
            "\r  2%|█▉                                                                               | 21/865 [00:01<00:52, 16.19it/s]"
          ],
          "name": "stderr"
        },
        {
          "output_type": "stream",
          "text": [
            "roadmark_0138.jpg\n",
            "roadmark_1226.jpg\n",
            "roadmark_0094.jpg\n"
          ],
          "name": "stdout"
        },
        {
          "output_type": "stream",
          "text": [
            "\r  3%|██▏                                                                              | 24/865 [00:01<00:45, 18.31it/s]"
          ],
          "name": "stderr"
        },
        {
          "output_type": "stream",
          "text": [
            "roadmark_0742.jpg\n",
            "roadmark_0639.jpg\n",
            "roadmark_1274.jpg\n"
          ],
          "name": "stdout"
        },
        {
          "output_type": "stream",
          "text": [
            "\r  3%|██▌                                                                              | 27/865 [00:01<00:48, 17.16it/s]"
          ],
          "name": "stderr"
        },
        {
          "output_type": "stream",
          "text": [
            "roadmark_0582.jpg\n",
            "roadmark_0770.jpg\n",
            "roadmark_1262.jpg\n"
          ],
          "name": "stdout"
        },
        {
          "output_type": "stream",
          "text": [
            "\r  3%|██▊                                                                              | 30/865 [00:02<00:46, 18.15it/s]"
          ],
          "name": "stderr"
        },
        {
          "output_type": "stream",
          "text": [
            "roadmark_0406.jpg\n",
            "roadmark_1106.jpg\n",
            "roadmark_0538.jpg\n"
          ],
          "name": "stdout"
        },
        {
          "output_type": "stream",
          "text": [
            "\r  4%|███                                                                              | 33/865 [00:02<00:44, 18.60it/s]"
          ],
          "name": "stderr"
        },
        {
          "output_type": "stream",
          "text": [
            "roadmark_0491.jpg\n",
            "roadmark_1397.jpg\n",
            "roadmark_1372.jpg\n"
          ],
          "name": "stdout"
        },
        {
          "output_type": "stream",
          "text": [
            "\r  4%|███▎                                                                             | 36/865 [00:02<00:45, 18.27it/s]"
          ],
          "name": "stderr"
        },
        {
          "output_type": "stream",
          "text": [
            "roadmark_1065.jpg\n",
            "roadmark_0714.jpg\n",
            "roadmark_0945.jpg\n"
          ],
          "name": "stdout"
        },
        {
          "output_type": "stream",
          "text": [
            "\r  5%|███▋                                                                             | 39/865 [00:02<00:47, 17.48it/s]"
          ],
          "name": "stderr"
        },
        {
          "output_type": "stream",
          "text": [
            "roadmark_1373.jpg\n",
            "roadmark_0279.jpg\n",
            "roadmark_0908.jpg\n"
          ],
          "name": "stdout"
        },
        {
          "output_type": "stream",
          "text": [
            "\r  5%|███▉                                                                             | 42/865 [00:02<00:42, 19.48it/s]"
          ],
          "name": "stderr"
        },
        {
          "output_type": "stream",
          "text": [
            "roadmark_0220.jpg\n",
            "roadmark_0204.jpg\n",
            "roadmark_1137.jpg\n"
          ],
          "name": "stdout"
        },
        {
          "output_type": "stream",
          "text": [
            "\r  5%|████▏                                                                            | 45/865 [00:03<01:05, 12.57it/s]"
          ],
          "name": "stderr"
        },
        {
          "output_type": "stream",
          "text": [
            "roadmark_0924.jpg\n",
            "roadmark_0726.jpg\n"
          ],
          "name": "stdout"
        },
        {
          "output_type": "stream",
          "text": [
            "\r  5%|████▍                                                                            | 47/865 [00:03<00:59, 13.77it/s]"
          ],
          "name": "stderr"
        },
        {
          "output_type": "stream",
          "text": [
            "roadmark_0879.jpg\n",
            "roadmark_0016.jpg\n"
          ],
          "name": "stdout"
        },
        {
          "output_type": "stream",
          "text": [
            "\r  6%|████▌                                                                            | 49/865 [00:03<00:58, 14.01it/s]"
          ],
          "name": "stderr"
        },
        {
          "output_type": "stream",
          "text": [
            "roadmark_0621.jpg\n",
            "roadmark_1252.jpg\n"
          ],
          "name": "stdout"
        },
        {
          "output_type": "stream",
          "text": [
            "\r  6%|████▊                                                                            | 51/865 [00:03<01:01, 13.20it/s]"
          ],
          "name": "stderr"
        },
        {
          "output_type": "stream",
          "text": [
            "roadmark_0828.jpg\n",
            "roadmark_0487.jpg\n",
            "roadmark_0982.jpg\n"
          ],
          "name": "stdout"
        },
        {
          "output_type": "stream",
          "text": [
            "\r  6%|█████                                                                            | 54/865 [00:03<00:53, 15.26it/s]"
          ],
          "name": "stderr"
        },
        {
          "output_type": "stream",
          "text": [
            "roadmark_0165.jpg\n",
            "roadmark_1323.jpg\n",
            "roadmark_1233.jpg\n"
          ],
          "name": "stdout"
        },
        {
          "output_type": "stream",
          "text": [
            "\r  7%|█████▎                                                                           | 57/865 [00:03<00:47, 16.95it/s]"
          ],
          "name": "stderr"
        },
        {
          "output_type": "stream",
          "text": [
            "roadmark_0852.jpg\n",
            "roadmark_0440.jpg\n"
          ],
          "name": "stdout"
        },
        {
          "output_type": "stream",
          "text": [
            "\r  7%|█████▌                                                                           | 59/865 [00:03<00:48, 16.53it/s]"
          ],
          "name": "stderr"
        },
        {
          "output_type": "stream",
          "text": [
            "roadmark_1385.jpg\n",
            "roadmark_0517.jpg\n"
          ],
          "name": "stdout"
        },
        {
          "output_type": "stream",
          "text": [
            "\r  7%|█████▋                                                                           | 61/865 [00:04<00:49, 16.25it/s]"
          ],
          "name": "stderr"
        },
        {
          "output_type": "stream",
          "text": [
            "roadmark_0588.jpg\n",
            "roadmark_0699.jpg\n",
            "roadmark_0682.jpg\n"
          ],
          "name": "stdout"
        },
        {
          "output_type": "stream",
          "text": [
            "\r  7%|█████▉                                                                           | 64/865 [00:04<00:44, 18.06it/s]"
          ],
          "name": "stderr"
        },
        {
          "output_type": "stream",
          "text": [
            "roadmark_1075.jpg\n",
            "roadmark_0672.jpg\n",
            "roadmark_1254.jpg\n"
          ],
          "name": "stdout"
        },
        {
          "output_type": "stream",
          "text": [
            "\r  8%|██████▎                                                                          | 67/865 [00:04<00:43, 18.43it/s]"
          ],
          "name": "stderr"
        },
        {
          "output_type": "stream",
          "text": [
            "roadmark_1129.jpg\n",
            "roadmark_0264.jpg\n",
            "roadmark_0451.jpg\n"
          ],
          "name": "stdout"
        },
        {
          "output_type": "stream",
          "text": [
            "\r  8%|██████▌                                                                          | 70/865 [00:04<00:39, 20.01it/s]"
          ],
          "name": "stderr"
        },
        {
          "output_type": "stream",
          "text": [
            "roadmark_1425.jpg\n",
            "roadmark_0058.jpg\n",
            "roadmark_1066.jpg\n"
          ],
          "name": "stdout"
        },
        {
          "output_type": "stream",
          "text": [
            "\r  8%|██████▊                                                                          | 73/865 [00:04<00:37, 21.33it/s]"
          ],
          "name": "stderr"
        },
        {
          "output_type": "stream",
          "text": [
            "roadmark_0758.jpg\n",
            "roadmark_0007.jpg\n",
            "roadmark_0333.jpg\n"
          ],
          "name": "stdout"
        },
        {
          "output_type": "stream",
          "text": [
            "\r  9%|███████                                                                          | 76/865 [00:04<00:38, 20.35it/s]"
          ],
          "name": "stderr"
        },
        {
          "output_type": "stream",
          "text": [
            "roadmark_1121.jpg\n",
            "roadmark_0410.jpg\n",
            "roadmark_1118.jpg\n"
          ],
          "name": "stdout"
        },
        {
          "output_type": "stream",
          "text": [
            "\r  9%|███████▍                                                                         | 79/865 [00:04<00:36, 21.32it/s]"
          ],
          "name": "stderr"
        },
        {
          "output_type": "stream",
          "text": [
            "roadmark_0967.jpg\n",
            "roadmark_0207.jpg\n",
            "roadmark_1359.jpg\n"
          ],
          "name": "stdout"
        },
        {
          "output_type": "stream",
          "text": [
            "\r  9%|███████▋                                                                         | 82/865 [00:05<00:43, 17.87it/s]"
          ],
          "name": "stderr"
        },
        {
          "output_type": "stream",
          "text": [
            "roadmark_0116.jpg\n",
            "roadmark_0448.jpg\n",
            "roadmark_0642.jpg\n"
          ],
          "name": "stdout"
        },
        {
          "output_type": "stream",
          "text": [
            "\r 10%|███████▉                                                                         | 85/865 [00:05<00:40, 19.11it/s]"
          ],
          "name": "stderr"
        },
        {
          "output_type": "stream",
          "text": [
            "roadmark_0214.jpg\n",
            "roadmark_0830.jpg\n",
            "roadmark_1007.jpg\n"
          ],
          "name": "stdout"
        },
        {
          "output_type": "stream",
          "text": [
            "\r 10%|████████▏                                                                        | 88/865 [00:05<00:41, 18.50it/s]"
          ],
          "name": "stderr"
        },
        {
          "output_type": "stream",
          "text": [
            "roadmark_1119.jpg\n",
            "roadmark_0511.jpg\n"
          ],
          "name": "stdout"
        },
        {
          "output_type": "stream",
          "text": [
            "\r 10%|████████▍                                                                        | 90/865 [00:05<00:41, 18.56it/s]"
          ],
          "name": "stderr"
        },
        {
          "output_type": "stream",
          "text": [
            "roadmark_1073.jpg\n",
            "roadmark_0115.jpg\n",
            "roadmark_0150.jpg\n",
            "roadmark_0320.jpg\n"
          ],
          "name": "stdout"
        },
        {
          "output_type": "stream",
          "text": [
            "\r 11%|████████▊                                                                        | 94/865 [00:05<00:36, 20.87it/s]"
          ],
          "name": "stderr"
        },
        {
          "output_type": "stream",
          "text": [
            "roadmark_0756.jpg\n",
            "roadmark_1374.jpg\n",
            "roadmark_0681.jpg\n",
            "roadmark_0684.jpg\n"
          ],
          "name": "stdout"
        },
        {
          "output_type": "stream",
          "text": [
            "\r 11%|█████████▏                                                                       | 98/865 [00:05<00:33, 22.71it/s]"
          ],
          "name": "stderr"
        },
        {
          "output_type": "stream",
          "text": [
            "roadmark_0307.jpg\n",
            "roadmark_0882.jpg\n",
            "roadmark_0356.jpg\n"
          ],
          "name": "stdout"
        },
        {
          "output_type": "stream",
          "text": [
            "\r 12%|█████████▎                                                                      | 101/865 [00:05<00:34, 22.31it/s]"
          ],
          "name": "stderr"
        },
        {
          "output_type": "stream",
          "text": [
            "roadmark_0503.jpg\n",
            "roadmark_0535.jpg\n",
            "roadmark_1182.jpg\n"
          ],
          "name": "stdout"
        },
        {
          "output_type": "stream",
          "text": [
            "\r 12%|█████████▌                                                                      | 104/865 [00:06<00:32, 23.72it/s]"
          ],
          "name": "stderr"
        },
        {
          "output_type": "stream",
          "text": [
            "roadmark_0576.jpg\n",
            "roadmark_0840.jpg\n",
            "roadmark_0436.jpg\n"
          ],
          "name": "stdout"
        },
        {
          "output_type": "stream",
          "text": [
            "\r 12%|█████████▉                                                                      | 107/865 [00:06<00:32, 23.58it/s]"
          ],
          "name": "stderr"
        },
        {
          "output_type": "stream",
          "text": [
            "roadmark_0719.jpg\n",
            "roadmark_0789.jpg\n",
            "roadmark_0254.jpg\n"
          ],
          "name": "stdout"
        },
        {
          "output_type": "stream",
          "text": [
            "\r 13%|██████████▏                                                                     | 110/865 [00:06<00:55, 13.57it/s]"
          ],
          "name": "stderr"
        },
        {
          "output_type": "stream",
          "text": [
            "roadmark_0502.jpg\n",
            "roadmark_0141.jpg\n"
          ],
          "name": "stdout"
        },
        {
          "output_type": "stream",
          "text": [
            "\r 13%|██████████▎                                                                     | 112/865 [00:06<00:58, 12.87it/s]"
          ],
          "name": "stderr"
        },
        {
          "output_type": "stream",
          "text": [
            "roadmark_0592.jpg\n",
            "roadmark_0050.jpg\n"
          ],
          "name": "stdout"
        },
        {
          "output_type": "stream",
          "text": [
            "\r 13%|██████████▌                                                                     | 114/865 [00:06<00:53, 14.11it/s]"
          ],
          "name": "stderr"
        },
        {
          "output_type": "stream",
          "text": [
            "roadmark_1329.jpg\n",
            "roadmark_1130.jpg\n",
            "roadmark_0677.jpg\n"
          ],
          "name": "stdout"
        },
        {
          "output_type": "stream",
          "text": [
            "\r 14%|██████████▊                                                                     | 117/865 [00:06<00:46, 16.03it/s]"
          ],
          "name": "stderr"
        },
        {
          "output_type": "stream",
          "text": [
            "roadmark_0922.jpg\n",
            "roadmark_1025.jpg\n"
          ],
          "name": "stdout"
        },
        {
          "output_type": "stream",
          "text": [
            "\r 14%|███████████                                                                     | 119/865 [00:07<00:57, 12.89it/s]"
          ],
          "name": "stderr"
        },
        {
          "output_type": "stream",
          "text": [
            "roadmark_1195.jpg\n",
            "roadmark_0152.jpg\n"
          ],
          "name": "stdout"
        },
        {
          "output_type": "stream",
          "text": [
            "\r 14%|███████████▏                                                                    | 121/865 [00:07<00:51, 14.40it/s]"
          ],
          "name": "stderr"
        },
        {
          "output_type": "stream",
          "text": [
            "roadmark_0598.jpg\n",
            "roadmark_0158.jpg\n"
          ],
          "name": "stdout"
        },
        {
          "output_type": "stream",
          "text": [
            "\r 14%|███████████▍                                                                    | 123/865 [00:07<00:48, 15.29it/s]"
          ],
          "name": "stderr"
        },
        {
          "output_type": "stream",
          "text": [
            "roadmark_1286.jpg\n",
            "roadmark_0509.jpg\n",
            "roadmark_0086.jpg\n"
          ],
          "name": "stdout"
        },
        {
          "output_type": "stream",
          "text": [
            "\r 15%|███████████▋                                                                    | 126/865 [00:07<00:44, 16.78it/s]"
          ],
          "name": "stderr"
        },
        {
          "output_type": "stream",
          "text": [
            "roadmark_0337.jpg\n",
            "roadmark_1157.jpg\n",
            "roadmark_0347.jpg\n"
          ],
          "name": "stdout"
        },
        {
          "output_type": "stream",
          "text": [
            "\r 15%|███████████▉                                                                    | 129/865 [00:07<00:43, 16.98it/s]"
          ],
          "name": "stderr"
        },
        {
          "output_type": "stream",
          "text": [
            "roadmark_1139.jpg\n",
            "roadmark_0510.jpg\n",
            "roadmark_0219.jpg\n"
          ],
          "name": "stdout"
        },
        {
          "output_type": "stream",
          "text": [
            "\r 15%|████████████▏                                                                   | 132/865 [00:07<00:40, 18.17it/s]"
          ],
          "name": "stderr"
        },
        {
          "output_type": "stream",
          "text": [
            "roadmark_0468.jpg\n",
            "roadmark_1083.jpg\n"
          ],
          "name": "stdout"
        },
        {
          "output_type": "stream",
          "text": [
            "\r 15%|████████████▍                                                                   | 134/865 [00:08<00:45, 15.94it/s]"
          ],
          "name": "stderr"
        },
        {
          "output_type": "stream",
          "text": [
            "roadmark_0474.jpg\n",
            "roadmark_0211.jpg\n"
          ],
          "name": "stdout"
        },
        {
          "output_type": "stream",
          "text": [
            "\r 16%|████████████▌                                                                   | 136/865 [00:08<00:45, 15.93it/s]"
          ],
          "name": "stderr"
        },
        {
          "output_type": "stream",
          "text": [
            "roadmark_0975.jpg\n",
            "roadmark_1120.jpg\n",
            "roadmark_1052.jpg\n"
          ],
          "name": "stdout"
        },
        {
          "output_type": "stream",
          "text": [
            "\r 16%|████████████▊                                                                   | 139/865 [00:08<00:39, 18.24it/s]"
          ],
          "name": "stderr"
        },
        {
          "output_type": "stream",
          "text": [
            "roadmark_1426.jpg\n",
            "roadmark_0088.jpg\n",
            "roadmark_0059.jpg\n"
          ],
          "name": "stdout"
        },
        {
          "output_type": "stream",
          "text": [
            "\r 16%|█████████████▏                                                                  | 142/865 [00:08<00:43, 16.68it/s]"
          ],
          "name": "stderr"
        },
        {
          "output_type": "stream",
          "text": [
            "roadmark_0433.jpg\n",
            "roadmark_0675.jpg\n"
          ],
          "name": "stdout"
        },
        {
          "output_type": "stream",
          "text": [
            "\r 17%|█████████████▎                                                                  | 144/865 [00:08<00:43, 16.63it/s]"
          ],
          "name": "stderr"
        },
        {
          "output_type": "stream",
          "text": [
            "roadmark_0847.jpg\n",
            "roadmark_1013.jpg\n",
            "roadmark_0911.jpg\n"
          ],
          "name": "stdout"
        },
        {
          "output_type": "stream",
          "text": [
            "\r 17%|█████████████▌                                                                  | 147/865 [00:08<00:43, 16.45it/s]"
          ],
          "name": "stderr"
        },
        {
          "output_type": "stream",
          "text": [
            "roadmark_0172.jpg\n",
            "roadmark_0670.jpg\n"
          ],
          "name": "stdout"
        },
        {
          "output_type": "stream",
          "text": [
            "\r 17%|█████████████▊                                                                  | 149/865 [00:08<00:42, 16.94it/s]"
          ],
          "name": "stderr"
        },
        {
          "output_type": "stream",
          "text": [
            "roadmark_0952.jpg\n",
            "roadmark_0395.jpg\n",
            "roadmark_0019.jpg\n"
          ],
          "name": "stdout"
        },
        {
          "output_type": "stream",
          "text": [
            "\r 18%|██████████████                                                                  | 152/865 [00:09<00:39, 18.11it/s]"
          ],
          "name": "stderr"
        },
        {
          "output_type": "stream",
          "text": [
            "roadmark_1115.jpg\n",
            "roadmark_0730.jpg\n"
          ],
          "name": "stdout"
        },
        {
          "output_type": "stream",
          "text": [
            "\r 18%|██████████████▏                                                                 | 154/865 [00:09<00:43, 16.20it/s]"
          ],
          "name": "stderr"
        },
        {
          "output_type": "stream",
          "text": [
            "roadmark_1344.jpg\n",
            "roadmark_0866.jpg\n",
            "roadmark_1223.jpg\n"
          ],
          "name": "stdout"
        },
        {
          "output_type": "stream",
          "text": [
            "\r 18%|██████████████▌                                                                 | 157/865 [00:09<00:39, 17.89it/s]"
          ],
          "name": "stderr"
        },
        {
          "output_type": "stream",
          "text": [
            "roadmark_0800.jpg\n",
            "roadmark_0190.jpg\n"
          ],
          "name": "stdout"
        },
        {
          "output_type": "stream",
          "text": [
            "\r 18%|██████████████▋                                                                 | 159/865 [00:09<00:38, 18.27it/s]"
          ],
          "name": "stderr"
        },
        {
          "output_type": "stream",
          "text": [
            "roadmark_0472.jpg\n",
            "roadmark_0877.jpg\n",
            "roadmark_1250.jpg\n"
          ],
          "name": "stdout"
        },
        {
          "output_type": "stream",
          "text": [
            "\r 19%|██████████████▉                                                                 | 162/865 [00:09<00:34, 20.16it/s]"
          ],
          "name": "stderr"
        },
        {
          "output_type": "stream",
          "text": [
            "roadmark_1190.jpg\n",
            "roadmark_0788.jpg\n",
            "roadmark_0489.jpg\n"
          ],
          "name": "stdout"
        },
        {
          "output_type": "stream",
          "text": [
            "\r 19%|███████████████▎                                                                | 165/865 [00:09<00:43, 16.27it/s]"
          ],
          "name": "stderr"
        },
        {
          "output_type": "stream",
          "text": [
            "roadmark_0100.jpg\n",
            "roadmark_1194.jpg\n"
          ],
          "name": "stdout"
        },
        {
          "output_type": "stream",
          "text": [
            "\r 19%|███████████████▍                                                                | 167/865 [00:09<00:40, 17.11it/s]"
          ],
          "name": "stderr"
        },
        {
          "output_type": "stream",
          "text": [
            "roadmark_0267.jpg\n",
            "roadmark_0641.jpg\n"
          ],
          "name": "stdout"
        },
        {
          "output_type": "stream",
          "text": [
            "\r 20%|███████████████▋                                                                | 169/865 [00:10<00:48, 14.50it/s]"
          ],
          "name": "stderr"
        },
        {
          "output_type": "stream",
          "text": [
            "roadmark_0420.jpg\n",
            "roadmark_1003.jpg\n"
          ],
          "name": "stdout"
        },
        {
          "output_type": "stream",
          "text": [
            "\r 20%|███████████████▊                                                                | 171/865 [00:10<01:01, 11.28it/s]"
          ],
          "name": "stderr"
        },
        {
          "output_type": "stream",
          "text": [
            "roadmark_1209.jpg\n",
            "roadmark_0305.jpg\n",
            "roadmark_0200.jpg\n"
          ],
          "name": "stdout"
        },
        {
          "output_type": "stream",
          "text": [
            "\r 20%|████████████████                                                                | 174/865 [00:10<00:51, 13.33it/s]"
          ],
          "name": "stderr"
        },
        {
          "output_type": "stream",
          "text": [
            "roadmark_1282.jpg\n",
            "roadmark_0844.jpg\n",
            "roadmark_0727.jpg\n"
          ],
          "name": "stdout"
        },
        {
          "output_type": "stream",
          "text": [
            "\r 20%|████████████████▎                                                               | 177/865 [00:10<00:45, 15.19it/s]"
          ],
          "name": "stderr"
        },
        {
          "output_type": "stream",
          "text": [
            "roadmark_1196.jpg\n",
            "roadmark_1399.jpg\n",
            "roadmark_0271.jpg\n"
          ],
          "name": "stdout"
        },
        {
          "output_type": "stream",
          "text": [
            "\r 21%|████████████████▋                                                               | 180/865 [00:10<00:46, 14.82it/s]"
          ],
          "name": "stderr"
        },
        {
          "output_type": "stream",
          "text": [
            "roadmark_1301.jpg\n",
            "roadmark_0562.jpg\n",
            "roadmark_0608.jpg\n"
          ],
          "name": "stdout"
        },
        {
          "output_type": "stream",
          "text": [
            "\r 21%|████████████████▉                                                               | 183/865 [00:10<00:41, 16.25it/s]"
          ],
          "name": "stderr"
        },
        {
          "output_type": "stream",
          "text": [
            "roadmark_1383.jpg\n",
            "roadmark_0311.jpg\n"
          ],
          "name": "stdout"
        },
        {
          "output_type": "stream",
          "text": [
            "\r 21%|█████████████████                                                               | 185/865 [00:11<00:42, 15.83it/s]"
          ],
          "name": "stderr"
        },
        {
          "output_type": "stream",
          "text": [
            "roadmark_0047.jpg\n",
            "roadmark_1297.jpg\n"
          ],
          "name": "stdout"
        },
        {
          "output_type": "stream",
          "text": [
            "\r 22%|█████████████████▎                                                              | 187/865 [00:11<00:40, 16.68it/s]"
          ],
          "name": "stderr"
        },
        {
          "output_type": "stream",
          "text": [
            "roadmark_1418.jpg\n",
            "roadmark_0121.jpg\n"
          ],
          "name": "stdout"
        },
        {
          "output_type": "stream",
          "text": [
            "\r 22%|█████████████████▍                                                              | 189/865 [00:11<00:50, 13.40it/s]"
          ],
          "name": "stderr"
        },
        {
          "output_type": "stream",
          "text": [
            "roadmark_0790.jpg\n",
            "roadmark_0993.jpg\n",
            "roadmark_0110.jpg\n"
          ],
          "name": "stdout"
        },
        {
          "output_type": "stream",
          "text": [
            "\r 22%|█████████████████▊                                                              | 192/865 [00:11<00:44, 15.26it/s]"
          ],
          "name": "stderr"
        },
        {
          "output_type": "stream",
          "text": [
            "roadmark_1313.jpg\n",
            "roadmark_1030.jpg\n",
            "roadmark_0935.jpg\n",
            "roadmark_1058.jpg\n"
          ],
          "name": "stdout"
        },
        {
          "output_type": "stream",
          "text": [
            "\r 23%|██████████████████▏                                                             | 196/865 [00:11<00:37, 18.02it/s]"
          ],
          "name": "stderr"
        },
        {
          "output_type": "stream",
          "text": [
            "roadmark_1016.jpg\n",
            "roadmark_0128.jpg\n",
            "roadmark_0620.jpg\n"
          ],
          "name": "stdout"
        },
        {
          "output_type": "stream",
          "text": [
            "\r 23%|██████████████████▍                                                             | 199/865 [00:11<00:34, 19.48it/s]"
          ],
          "name": "stderr"
        },
        {
          "output_type": "stream",
          "text": [
            "roadmark_0072.jpg\n",
            "roadmark_0268.jpg\n",
            "roadmark_0270.jpg\n"
          ],
          "name": "stdout"
        },
        {
          "output_type": "stream",
          "text": [
            "\r 23%|██████████████████▋                                                             | 202/865 [00:11<00:32, 20.57it/s]"
          ],
          "name": "stderr"
        },
        {
          "output_type": "stream",
          "text": [
            "roadmark_0042.jpg\n",
            "roadmark_0570.jpg\n",
            "roadmark_0437.jpg\n"
          ],
          "name": "stdout"
        },
        {
          "output_type": "stream",
          "text": [
            "\r 24%|██████████████████▉                                                             | 205/865 [00:12<00:30, 21.63it/s]"
          ],
          "name": "stderr"
        },
        {
          "output_type": "stream",
          "text": [
            "roadmark_0643.jpg\n",
            "roadmark_0819.jpg\n",
            "roadmark_0001.jpg\n"
          ],
          "name": "stdout"
        },
        {
          "output_type": "stream",
          "text": [
            "\r 24%|███████████████████▏                                                            | 208/865 [00:12<00:29, 22.59it/s]"
          ],
          "name": "stderr"
        },
        {
          "output_type": "stream",
          "text": [
            "roadmark_0955.jpg\n",
            "roadmark_1293.jpg\n",
            "roadmark_0546.jpg\n"
          ],
          "name": "stdout"
        },
        {
          "output_type": "stream",
          "text": [
            "\r 24%|███████████████████▌                                                            | 211/865 [00:12<01:11,  9.13it/s]"
          ],
          "name": "stderr"
        },
        {
          "output_type": "stream",
          "text": [
            "roadmark_0895.jpg\n",
            "roadmark_1015.jpg\n",
            "roadmark_0400.jpg\n"
          ],
          "name": "stdout"
        },
        {
          "output_type": "stream",
          "text": [
            "\r 25%|███████████████████▊                                                            | 214/865 [00:13<00:57, 11.31it/s]"
          ],
          "name": "stderr"
        },
        {
          "output_type": "stream",
          "text": [
            "roadmark_1248.jpg\n",
            "roadmark_0025.jpg\n",
            "roadmark_0600.jpg\n"
          ],
          "name": "stdout"
        },
        {
          "output_type": "stream",
          "text": [
            "\r 25%|████████████████████                                                            | 217/865 [00:13<00:52, 12.46it/s]"
          ],
          "name": "stderr"
        },
        {
          "output_type": "stream",
          "text": [
            "roadmark_0808.jpg\n",
            "roadmark_1212.jpg\n",
            "roadmark_0530.jpg\n"
          ],
          "name": "stdout"
        },
        {
          "output_type": "stream",
          "text": [
            "\r 25%|████████████████████▎                                                           | 220/865 [00:13<00:44, 14.58it/s]"
          ],
          "name": "stderr"
        },
        {
          "output_type": "stream",
          "text": [
            "roadmark_0878.jpg\n",
            "roadmark_0501.jpg\n",
            "roadmark_1166.jpg\n"
          ],
          "name": "stdout"
        },
        {
          "output_type": "stream",
          "text": [
            "\r 26%|████████████████████▌                                                           | 223/865 [00:13<00:38, 16.75it/s]"
          ],
          "name": "stderr"
        },
        {
          "output_type": "stream",
          "text": [
            "roadmark_0825.jpg\n",
            "roadmark_0070.jpg\n",
            "roadmark_0635.jpg\n"
          ],
          "name": "stdout"
        },
        {
          "output_type": "stream",
          "text": [
            "\r 26%|████████████████████▉                                                           | 226/865 [00:13<00:33, 18.80it/s]"
          ],
          "name": "stderr"
        },
        {
          "output_type": "stream",
          "text": [
            "roadmark_1438.jpg\n",
            "roadmark_0439.jpg\n",
            "roadmark_0262.jpg\n"
          ],
          "name": "stdout"
        },
        {
          "output_type": "stream",
          "text": [
            "\r 26%|█████████████████████▏                                                          | 229/865 [00:13<00:32, 19.87it/s]"
          ],
          "name": "stderr"
        },
        {
          "output_type": "stream",
          "text": [
            "roadmark_0779.jpg\n",
            "roadmark_0112.jpg\n",
            "roadmark_1202.jpg\n"
          ],
          "name": "stdout"
        },
        {
          "output_type": "stream",
          "text": [
            "\r 27%|█████████████████████▍                                                          | 232/865 [00:13<00:29, 21.39it/s]"
          ],
          "name": "stderr"
        },
        {
          "output_type": "stream",
          "text": [
            "roadmark_1335.jpg\n",
            "roadmark_0221.jpg\n",
            "roadmark_0565.jpg\n"
          ],
          "name": "stdout"
        },
        {
          "output_type": "stream",
          "text": [
            "\r 27%|█████████████████████▋                                                          | 235/865 [00:14<00:29, 21.05it/s]"
          ],
          "name": "stderr"
        },
        {
          "output_type": "stream",
          "text": [
            "roadmark_0738.jpg\n",
            "roadmark_0144.jpg\n",
            "roadmark_0805.jpg\n"
          ],
          "name": "stdout"
        },
        {
          "output_type": "stream",
          "text": [
            "\r 28%|██████████████████████                                                          | 238/865 [00:14<00:31, 19.97it/s]"
          ],
          "name": "stderr"
        },
        {
          "output_type": "stream",
          "text": [
            "roadmark_0914.jpg\n",
            "roadmark_1375.jpg\n",
            "roadmark_0753.jpg\n",
            "roadmark_0290.jpg\n"
          ],
          "name": "stdout"
        },
        {
          "output_type": "stream",
          "text": [
            "\r 28%|██████████████████████▍                                                         | 242/865 [00:14<00:28, 21.99it/s]"
          ],
          "name": "stderr"
        },
        {
          "output_type": "stream",
          "text": [
            "roadmark_1388.jpg\n",
            "roadmark_1241.jpg\n",
            "roadmark_0634.jpg\n"
          ],
          "name": "stdout"
        },
        {
          "output_type": "stream",
          "text": [
            "\r 28%|██████████████████████▋                                                         | 245/865 [00:14<00:28, 22.10it/s]"
          ],
          "name": "stderr"
        },
        {
          "output_type": "stream",
          "text": [
            "roadmark_0812.jpg\n",
            "roadmark_0527.jpg\n",
            "roadmark_1132.jpg\n"
          ],
          "name": "stdout"
        },
        {
          "output_type": "stream",
          "text": [
            "\r 29%|██████████████████████▉                                                         | 248/865 [00:14<00:31, 19.66it/s]"
          ],
          "name": "stderr"
        },
        {
          "output_type": "stream",
          "text": [
            "roadmark_0710.jpg\n",
            "roadmark_1411.jpg\n",
            "roadmark_0344.jpg\n"
          ],
          "name": "stdout"
        },
        {
          "output_type": "stream",
          "text": [
            "\r 29%|███████████████████████▏                                                        | 251/865 [00:14<00:32, 18.83it/s]"
          ],
          "name": "stderr"
        },
        {
          "output_type": "stream",
          "text": [
            "roadmark_1210.jpg\n",
            "roadmark_0470.jpg\n"
          ],
          "name": "stdout"
        },
        {
          "output_type": "stream",
          "text": [
            "\r 29%|███████████████████████▍                                                        | 253/865 [00:15<00:38, 16.00it/s]"
          ],
          "name": "stderr"
        },
        {
          "output_type": "stream",
          "text": [
            "roadmark_0716.jpg\n",
            "roadmark_1044.jpg\n",
            "roadmark_0283.jpg\n"
          ],
          "name": "stdout"
        },
        {
          "output_type": "stream",
          "text": [
            "\r 30%|███████████████████████▋                                                        | 256/865 [00:15<00:34, 17.78it/s]"
          ],
          "name": "stderr"
        },
        {
          "output_type": "stream",
          "text": [
            "roadmark_1347.jpg\n",
            "roadmark_0921.jpg\n",
            "roadmark_0340.jpg\n"
          ],
          "name": "stdout"
        },
        {
          "output_type": "stream",
          "text": [
            "\r 30%|███████████████████████▉                                                        | 259/865 [00:15<00:30, 20.13it/s]"
          ],
          "name": "stderr"
        },
        {
          "output_type": "stream",
          "text": [
            "roadmark_0667.jpg\n",
            "roadmark_0593.jpg\n",
            "roadmark_1236.jpg\n",
            "roadmark_0947.jpg\n"
          ],
          "name": "stdout"
        },
        {
          "output_type": "stream",
          "text": [
            "\r 30%|████████████████████████▎                                                       | 263/865 [00:15<00:27, 22.24it/s]"
          ],
          "name": "stderr"
        },
        {
          "output_type": "stream",
          "text": [
            "roadmark_0164.jpg\n",
            "roadmark_0686.jpg\n",
            "roadmark_0775.jpg\n"
          ],
          "name": "stdout"
        },
        {
          "output_type": "stream",
          "text": [
            "\r 31%|████████████████████████▌                                                       | 266/865 [00:15<00:28, 21.22it/s]"
          ],
          "name": "stderr"
        },
        {
          "output_type": "stream",
          "text": [
            "roadmark_0014.jpg\n",
            "roadmark_0618.jpg\n",
            "roadmark_1431.jpg\n"
          ],
          "name": "stdout"
        },
        {
          "output_type": "stream",
          "text": [
            "\r 31%|████████████████████████▉                                                       | 269/865 [00:15<00:26, 22.53it/s]"
          ],
          "name": "stderr"
        },
        {
          "output_type": "stream",
          "text": [
            "roadmark_1014.jpg\n",
            "roadmark_0708.jpg\n",
            "roadmark_0156.jpg\n"
          ],
          "name": "stdout"
        },
        {
          "output_type": "stream",
          "text": [
            "\r 31%|█████████████████████████▏                                                      | 272/865 [00:15<00:25, 22.90it/s]"
          ],
          "name": "stderr"
        },
        {
          "output_type": "stream",
          "text": [
            "roadmark_0997.jpg\n",
            "roadmark_0011.jpg\n",
            "roadmark_1421.jpg\n"
          ],
          "name": "stdout"
        },
        {
          "output_type": "stream",
          "text": [
            "\r 32%|█████████████████████████▍                                                      | 275/865 [00:15<00:25, 23.39it/s]"
          ],
          "name": "stderr"
        },
        {
          "output_type": "stream",
          "text": [
            "roadmark_1270.jpg\n",
            "roadmark_0282.jpg\n",
            "roadmark_0490.jpg\n"
          ],
          "name": "stdout"
        },
        {
          "output_type": "stream",
          "text": [
            "\r 32%|█████████████████████████▋                                                      | 278/865 [00:16<00:27, 21.18it/s]"
          ],
          "name": "stderr"
        },
        {
          "output_type": "stream",
          "text": [
            "roadmark_0009.jpg\n",
            "roadmark_1363.jpg\n",
            "roadmark_0797.jpg\n"
          ],
          "name": "stdout"
        },
        {
          "output_type": "stream",
          "text": [
            "\r 32%|█████████████████████████▉                                                      | 281/865 [00:16<00:26, 21.81it/s]"
          ],
          "name": "stderr"
        },
        {
          "output_type": "stream",
          "text": [
            "roadmark_0085.jpg\n",
            "roadmark_0932.jpg\n",
            "roadmark_0559.jpg\n"
          ],
          "name": "stdout"
        },
        {
          "output_type": "stream",
          "text": [
            "\r 33%|██████████████████████████▎                                                     | 284/865 [00:16<00:40, 14.20it/s]"
          ],
          "name": "stderr"
        },
        {
          "output_type": "stream",
          "text": [
            "roadmark_1144.jpg\n",
            "roadmark_0026.jpg\n",
            "roadmark_0615.jpg\n"
          ],
          "name": "stdout"
        },
        {
          "output_type": "stream",
          "text": [
            "\r 33%|██████████████████████████▌                                                     | 287/865 [00:16<00:34, 16.84it/s]"
          ],
          "name": "stderr"
        },
        {
          "output_type": "stream",
          "text": [
            "roadmark_0166.jpg\n",
            "roadmark_0841.jpg\n",
            "roadmark_0105.jpg\n"
          ],
          "name": "stdout"
        },
        {
          "output_type": "stream",
          "text": [
            "\r 34%|██████████████████████████▊                                                     | 290/865 [00:16<00:30, 18.91it/s]"
          ],
          "name": "stderr"
        },
        {
          "output_type": "stream",
          "text": [
            "roadmark_0977.jpg\n",
            "roadmark_0161.jpg\n",
            "roadmark_0656.jpg\n"
          ],
          "name": "stdout"
        },
        {
          "output_type": "stream",
          "text": [
            "\r 34%|███████████████████████████                                                     | 293/865 [00:16<00:33, 17.33it/s]"
          ],
          "name": "stderr"
        },
        {
          "output_type": "stream",
          "text": [
            "roadmark_0322.jpg\n",
            "roadmark_0520.jpg\n",
            "roadmark_0090.jpg\n"
          ],
          "name": "stdout"
        },
        {
          "output_type": "stream",
          "text": [
            "\r 34%|███████████████████████████▍                                                    | 296/865 [00:17<00:29, 19.05it/s]"
          ],
          "name": "stderr"
        },
        {
          "output_type": "stream",
          "text": [
            "roadmark_0334.jpg\n",
            "roadmark_0774.jpg\n",
            "roadmark_0973.jpg\n"
          ],
          "name": "stdout"
        },
        {
          "output_type": "stream",
          "text": [
            "\r 35%|███████████████████████████▋                                                    | 299/865 [00:17<00:27, 20.94it/s]"
          ],
          "name": "stderr"
        },
        {
          "output_type": "stream",
          "text": [
            "roadmark_0225.jpg\n",
            "roadmark_1264.jpg\n",
            "roadmark_1419.jpg\n"
          ],
          "name": "stdout"
        },
        {
          "output_type": "stream",
          "text": [
            "\r 35%|███████████████████████████▉                                                    | 302/865 [00:17<00:30, 18.27it/s]"
          ],
          "name": "stderr"
        },
        {
          "output_type": "stream",
          "text": [
            "roadmark_1206.jpg\n",
            "roadmark_0355.jpg\n",
            "roadmark_0036.jpg\n"
          ],
          "name": "stdout"
        },
        {
          "output_type": "stream",
          "text": [
            "\r 35%|████████████████████████████▏                                                   | 305/865 [00:17<00:40, 13.87it/s]"
          ],
          "name": "stderr"
        },
        {
          "output_type": "stream",
          "text": [
            "roadmark_1090.jpg\n",
            "roadmark_1036.jpg\n",
            "roadmark_0386.jpg\n"
          ],
          "name": "stdout"
        },
        {
          "output_type": "stream",
          "text": [
            "\r 36%|████████████████████████████▍                                                   | 308/865 [00:18<00:46, 12.01it/s]"
          ],
          "name": "stderr"
        },
        {
          "output_type": "stream",
          "text": [
            "roadmark_0507.jpg\n",
            "roadmark_0959.jpg\n",
            "roadmark_1312.jpg\n"
          ],
          "name": "stdout"
        },
        {
          "output_type": "stream",
          "text": [
            "\r 36%|████████████████████████████▊                                                   | 311/865 [00:18<00:37, 14.60it/s]"
          ],
          "name": "stderr"
        },
        {
          "output_type": "stream",
          "text": [
            "roadmark_0508.jpg\n",
            "roadmark_1187.jpg\n"
          ],
          "name": "stdout"
        },
        {
          "output_type": "stream",
          "text": [
            "\r 36%|████████████████████████████▉                                                   | 313/865 [00:18<00:36, 15.04it/s]"
          ],
          "name": "stderr"
        },
        {
          "output_type": "stream",
          "text": [
            "roadmark_1432.jpg\n",
            "roadmark_0704.jpg\n"
          ],
          "name": "stdout"
        },
        {
          "output_type": "stream",
          "text": [
            "\r 36%|█████████████████████████████▏                                                  | 315/865 [00:18<00:34, 15.81it/s]"
          ],
          "name": "stderr"
        },
        {
          "output_type": "stream",
          "text": [
            "roadmark_0536.jpg\n",
            "roadmark_0616.jpg\n"
          ],
          "name": "stdout"
        },
        {
          "output_type": "stream",
          "text": [
            "\r 37%|█████████████████████████████▎                                                  | 317/865 [00:18<00:34, 16.01it/s]"
          ],
          "name": "stderr"
        },
        {
          "output_type": "stream",
          "text": [
            "roadmark_0826.jpg\n",
            "roadmark_0350.jpg\n",
            "roadmark_0377.jpg\n"
          ],
          "name": "stdout"
        },
        {
          "output_type": "stream",
          "text": [
            "\r 37%|█████████████████████████████▌                                                  | 320/865 [00:18<00:29, 18.51it/s]"
          ],
          "name": "stderr"
        },
        {
          "output_type": "stream",
          "text": [
            "roadmark_1436.jpg\n",
            "roadmark_1428.jpg\n",
            "roadmark_0209.jpg\n"
          ],
          "name": "stdout"
        },
        {
          "output_type": "stream",
          "text": [
            "\r 37%|█████████████████████████████▊                                                  | 323/865 [00:18<00:29, 18.57it/s]"
          ],
          "name": "stderr"
        },
        {
          "output_type": "stream",
          "text": [
            "roadmark_0227.jpg\n",
            "roadmark_0873.jpg\n",
            "roadmark_1185.jpg\n"
          ],
          "name": "stdout"
        },
        {
          "output_type": "stream",
          "text": [
            "\r 38%|██████████████████████████████▏                                                 | 326/865 [00:19<00:32, 16.45it/s]"
          ],
          "name": "stderr"
        },
        {
          "output_type": "stream",
          "text": [
            "roadmark_0837.jpg\n",
            "roadmark_1076.jpg\n",
            "roadmark_0374.jpg\n"
          ],
          "name": "stdout"
        },
        {
          "output_type": "stream",
          "text": [
            "\r 38%|██████████████████████████████▍                                                 | 329/865 [00:19<00:29, 18.30it/s]"
          ],
          "name": "stderr"
        },
        {
          "output_type": "stream",
          "text": [
            "roadmark_1163.jpg\n",
            "roadmark_1173.jpg\n",
            "roadmark_0182.jpg\n"
          ],
          "name": "stdout"
        },
        {
          "output_type": "stream",
          "text": [
            "\r 38%|██████████████████████████████▋                                                 | 332/865 [00:19<00:26, 19.82it/s]"
          ],
          "name": "stderr"
        },
        {
          "output_type": "stream",
          "text": [
            "roadmark_0055.jpg\n",
            "roadmark_0962.jpg\n",
            "roadmark_0113.jpg\n"
          ],
          "name": "stdout"
        },
        {
          "output_type": "stream",
          "text": [
            "\r 39%|██████████████████████████████▉                                                 | 335/865 [00:19<00:24, 21.27it/s]"
          ],
          "name": "stderr"
        },
        {
          "output_type": "stream",
          "text": [
            "roadmark_1439.jpg\n",
            "roadmark_0741.jpg\n",
            "roadmark_1441.jpg\n"
          ],
          "name": "stdout"
        },
        {
          "output_type": "stream",
          "text": [
            "\r 39%|███████████████████████████████▎                                                | 338/865 [00:19<00:24, 21.27it/s]"
          ],
          "name": "stderr"
        },
        {
          "output_type": "stream",
          "text": [
            "roadmark_0394.jpg\n",
            "roadmark_1253.jpg\n",
            "roadmark_0871.jpg\n",
            "roadmark_0771.jpg\n"
          ],
          "name": "stdout"
        },
        {
          "output_type": "stream",
          "text": [
            "\r 40%|███████████████████████████████▋                                                | 342/865 [00:19<00:22, 23.32it/s]"
          ],
          "name": "stderr"
        },
        {
          "output_type": "stream",
          "text": [
            "roadmark_1244.jpg\n",
            "roadmark_1422.jpg\n",
            "roadmark_0357.jpg\n"
          ],
          "name": "stdout"
        },
        {
          "output_type": "stream",
          "text": [
            "\r 40%|███████████████████████████████▉                                                | 345/865 [00:19<00:25, 20.15it/s]"
          ],
          "name": "stderr"
        },
        {
          "output_type": "stream",
          "text": [
            "roadmark_0348.jpg\n",
            "roadmark_1197.jpg\n",
            "roadmark_1391.jpg\n"
          ],
          "name": "stdout"
        },
        {
          "output_type": "stream",
          "text": [
            "\r 40%|████████████████████████████████▏                                               | 348/865 [00:20<00:29, 17.36it/s]"
          ],
          "name": "stderr"
        },
        {
          "output_type": "stream",
          "text": [
            "roadmark_0627.jpg\n",
            "roadmark_0995.jpg\n",
            "roadmark_0177.jpg\n"
          ],
          "name": "stdout"
        },
        {
          "output_type": "stream",
          "text": [
            "\r 41%|████████████████████████████████▍                                               | 351/865 [00:20<00:26, 19.11it/s]"
          ],
          "name": "stderr"
        },
        {
          "output_type": "stream",
          "text": [
            "roadmark_0674.jpg\n",
            "roadmark_0089.jpg\n",
            "roadmark_1000.jpg\n"
          ],
          "name": "stdout"
        },
        {
          "output_type": "stream",
          "text": [
            "\r 41%|████████████████████████████████▋                                               | 354/865 [00:20<00:24, 20.88it/s]"
          ],
          "name": "stderr"
        },
        {
          "output_type": "stream",
          "text": [
            "roadmark_0312.jpg\n",
            "roadmark_0583.jpg\n",
            "roadmark_1107.jpg\n"
          ],
          "name": "stdout"
        },
        {
          "output_type": "stream",
          "text": [
            "\r 41%|█████████████████████████████████                                               | 357/865 [00:20<00:24, 21.13it/s]"
          ],
          "name": "stderr"
        },
        {
          "output_type": "stream",
          "text": [
            "roadmark_0446.jpg\n",
            "roadmark_0157.jpg\n",
            "roadmark_1122.jpg\n"
          ],
          "name": "stdout"
        },
        {
          "output_type": "stream",
          "text": [
            "\r 42%|█████████████████████████████████▎                                              | 360/865 [00:20<00:22, 22.31it/s]"
          ],
          "name": "stderr"
        },
        {
          "output_type": "stream",
          "text": [
            "roadmark_0385.jpg\n",
            "roadmark_0874.jpg\n",
            "roadmark_0661.jpg\n"
          ],
          "name": "stdout"
        },
        {
          "output_type": "stream",
          "text": [
            "\r 42%|█████████████████████████████████▌                                              | 363/865 [00:20<00:21, 23.22it/s]"
          ],
          "name": "stderr"
        },
        {
          "output_type": "stream",
          "text": [
            "roadmark_0786.jpg\n",
            "roadmark_0405.jpg\n",
            "roadmark_0495.jpg\n"
          ],
          "name": "stdout"
        },
        {
          "output_type": "stream",
          "text": [
            "\r 42%|█████████████████████████████████▊                                              | 366/865 [00:20<00:20, 23.84it/s]"
          ],
          "name": "stderr"
        },
        {
          "output_type": "stream",
          "text": [
            "roadmark_0821.jpg\n",
            "roadmark_0239.jpg\n",
            "roadmark_1101.jpg\n"
          ],
          "name": "stdout"
        },
        {
          "output_type": "stream",
          "text": [
            "\r 43%|██████████████████████████████████▏                                             | 369/865 [00:20<00:21, 23.23it/s]"
          ],
          "name": "stderr"
        },
        {
          "output_type": "stream",
          "text": [
            "roadmark_1430.jpg\n",
            "roadmark_0118.jpg\n",
            "roadmark_0691.jpg\n"
          ],
          "name": "stdout"
        },
        {
          "output_type": "stream",
          "text": [
            "\r 43%|██████████████████████████████████▍                                             | 372/865 [00:21<00:22, 22.24it/s]"
          ],
          "name": "stderr"
        },
        {
          "output_type": "stream",
          "text": [
            "roadmark_1255.jpg\n",
            "roadmark_0918.jpg\n",
            "roadmark_0654.jpg\n"
          ],
          "name": "stdout"
        },
        {
          "output_type": "stream",
          "text": [
            "\r 43%|██████████████████████████████████▋                                             | 375/865 [00:21<00:21, 22.74it/s]"
          ],
          "name": "stderr"
        },
        {
          "output_type": "stream",
          "text": [
            "roadmark_0215.jpg\n",
            "roadmark_0462.jpg\n",
            "roadmark_0465.jpg\n"
          ],
          "name": "stdout"
        },
        {
          "output_type": "stream",
          "text": [
            "\r 44%|██████████████████████████████████▉                                             | 378/865 [00:21<00:27, 17.80it/s]"
          ],
          "name": "stderr"
        },
        {
          "output_type": "stream",
          "text": [
            "roadmark_0067.jpg\n",
            "roadmark_1386.jpg\n"
          ],
          "name": "stdout"
        },
        {
          "output_type": "stream",
          "text": [
            "\r 44%|███████████████████████████████████▏                                            | 380/865 [00:21<00:27, 17.70it/s]"
          ],
          "name": "stderr"
        },
        {
          "output_type": "stream",
          "text": [
            "roadmark_0777.jpg\n",
            "roadmark_0740.jpg\n",
            "roadmark_1271.jpg\n"
          ],
          "name": "stdout"
        },
        {
          "output_type": "stream",
          "text": [
            "\r 44%|███████████████████████████████████▍                                            | 383/865 [00:21<00:24, 19.57it/s]"
          ],
          "name": "stderr"
        },
        {
          "output_type": "stream",
          "text": [
            "roadmark_1380.jpg\n",
            "roadmark_0845.jpg\n",
            "roadmark_0235.jpg\n"
          ],
          "name": "stdout"
        },
        {
          "output_type": "stream",
          "text": [
            "\r 45%|███████████████████████████████████▋                                            | 386/865 [00:21<00:22, 21.10it/s]"
          ],
          "name": "stderr"
        },
        {
          "output_type": "stream",
          "text": [
            "roadmark_1424.jpg\n",
            "roadmark_0985.jpg\n",
            "roadmark_0964.jpg\n"
          ],
          "name": "stdout"
        },
        {
          "output_type": "stream",
          "text": [
            "\r 45%|███████████████████████████████████▉                                            | 389/865 [00:21<00:22, 21.15it/s]"
          ],
          "name": "stderr"
        },
        {
          "output_type": "stream",
          "text": [
            "roadmark_0923.jpg\n",
            "roadmark_0367.jpg\n",
            "roadmark_0764.jpg\n"
          ],
          "name": "stdout"
        },
        {
          "output_type": "stream",
          "text": [
            "\r 45%|████████████████████████████████████▎                                           | 392/865 [00:22<00:21, 21.84it/s]"
          ],
          "name": "stderr"
        },
        {
          "output_type": "stream",
          "text": [
            "roadmark_0441.jpg\n",
            "roadmark_0804.jpg\n",
            "roadmark_0567.jpg\n"
          ],
          "name": "stdout"
        },
        {
          "output_type": "stream",
          "text": [
            "\r 46%|████████████████████████████████████▌                                           | 395/865 [00:22<00:23, 19.76it/s]"
          ],
          "name": "stderr"
        },
        {
          "output_type": "stream",
          "text": [
            "roadmark_0839.jpg\n",
            "roadmark_1393.jpg\n",
            "roadmark_0461.jpg\n"
          ],
          "name": "stdout"
        },
        {
          "output_type": "stream",
          "text": [
            "\r 46%|████████████████████████████████████▊                                           | 398/865 [00:22<00:23, 20.21it/s]"
          ],
          "name": "stderr"
        },
        {
          "output_type": "stream",
          "text": [
            "roadmark_1427.jpg\n",
            "roadmark_1188.jpg\n",
            "roadmark_0447.jpg\n"
          ],
          "name": "stdout"
        },
        {
          "output_type": "stream",
          "text": [
            "\r 46%|█████████████████████████████████████                                           | 401/865 [00:22<00:21, 21.35it/s]"
          ],
          "name": "stderr"
        },
        {
          "output_type": "stream",
          "text": [
            "roadmark_0715.jpg\n",
            "roadmark_0529.jpg\n",
            "roadmark_0078.jpg\n"
          ],
          "name": "stdout"
        },
        {
          "output_type": "stream",
          "text": [
            "\r 47%|█████████████████████████████████████▎                                          | 404/865 [00:22<00:20, 22.79it/s]"
          ],
          "name": "stderr"
        },
        {
          "output_type": "stream",
          "text": [
            "roadmark_0983.jpg\n",
            "roadmark_1215.jpg\n",
            "roadmark_0858.jpg\n",
            "roadmark_1289.jpg\n"
          ],
          "name": "stdout"
        },
        {
          "output_type": "stream",
          "text": [
            "\r 47%|█████████████████████████████████████▋                                          | 408/865 [00:22<00:18, 25.23it/s]"
          ],
          "name": "stderr"
        },
        {
          "output_type": "stream",
          "text": [
            "roadmark_0482.jpg\n",
            "roadmark_1172.jpg\n",
            "roadmark_0884.jpg\n"
          ],
          "name": "stdout"
        },
        {
          "output_type": "stream",
          "text": [
            "\r 48%|██████████████████████████████████████                                          | 411/865 [00:22<00:17, 26.08it/s]"
          ],
          "name": "stderr"
        },
        {
          "output_type": "stream",
          "text": [
            "roadmark_1220.jpg\n",
            "roadmark_0909.jpg\n",
            "roadmark_0926.jpg\n"
          ],
          "name": "stdout"
        },
        {
          "output_type": "stream",
          "text": [
            "\r 48%|██████████████████████████████████████▎                                         | 414/865 [00:23<00:17, 25.23it/s]"
          ],
          "name": "stderr"
        },
        {
          "output_type": "stream",
          "text": [
            "roadmark_1038.jpg\n",
            "roadmark_0485.jpg\n",
            "roadmark_0941.jpg\n"
          ],
          "name": "stdout"
        },
        {
          "output_type": "stream",
          "text": [
            "\r 48%|██████████████████████████████████████▌                                         | 417/865 [00:23<00:17, 26.02it/s]"
          ],
          "name": "stderr"
        },
        {
          "output_type": "stream",
          "text": [
            "roadmark_1381.jpg\n",
            "roadmark_0881.jpg\n",
            "roadmark_0002.jpg\n"
          ],
          "name": "stdout"
        },
        {
          "output_type": "stream",
          "text": [
            "\r 49%|██████████████████████████████████████▊                                         | 420/865 [00:23<00:17, 25.90it/s]"
          ],
          "name": "stderr"
        },
        {
          "output_type": "stream",
          "text": [
            "roadmark_0685.jpg\n",
            "roadmark_0408.jpg\n",
            "roadmark_0689.jpg\n"
          ],
          "name": "stdout"
        },
        {
          "output_type": "stream",
          "text": [
            "\r 49%|███████████████████████████████████████                                         | 423/865 [00:23<00:30, 14.61it/s]"
          ],
          "name": "stderr"
        },
        {
          "output_type": "stream",
          "text": [
            "roadmark_0705.jpg\n",
            "roadmark_1178.jpg\n",
            "roadmark_0589.jpg\n"
          ],
          "name": "stdout"
        },
        {
          "output_type": "stream",
          "text": [
            "\r 49%|███████████████████████████████████████▍                                        | 426/865 [00:23<00:26, 16.72it/s]"
          ],
          "name": "stderr"
        },
        {
          "output_type": "stream",
          "text": [
            "roadmark_0285.jpg\n",
            "roadmark_0369.jpg\n",
            "roadmark_1354.jpg\n"
          ],
          "name": "stdout"
        },
        {
          "output_type": "stream",
          "text": [
            "\r 50%|███████████████████████████████████████▋                                        | 429/865 [00:23<00:23, 18.37it/s]"
          ],
          "name": "stderr"
        },
        {
          "output_type": "stream",
          "text": [
            "roadmark_0390.jpg\n",
            "roadmark_1367.jpg\n",
            "roadmark_0547.jpg\n"
          ],
          "name": "stdout"
        },
        {
          "output_type": "stream",
          "text": [
            "\r 50%|███████████████████████████████████████▉                                        | 432/865 [00:24<00:22, 18.87it/s]"
          ],
          "name": "stderr"
        },
        {
          "output_type": "stream",
          "text": [
            "roadmark_1352.jpg\n",
            "roadmark_0933.jpg\n",
            "roadmark_0013.jpg\n"
          ],
          "name": "stdout"
        },
        {
          "output_type": "stream",
          "text": [
            "\r 50%|████████████████████████████████████████▏                                       | 435/865 [00:24<00:22, 19.33it/s]"
          ],
          "name": "stderr"
        },
        {
          "output_type": "stream",
          "text": [
            "roadmark_1415.jpg\n",
            "roadmark_1211.jpg\n",
            "roadmark_0755.jpg\n"
          ],
          "name": "stdout"
        },
        {
          "output_type": "stream",
          "text": [
            "\r 51%|████████████████████████████████████████▌                                       | 438/865 [00:24<00:22, 19.23it/s]"
          ],
          "name": "stderr"
        },
        {
          "output_type": "stream",
          "text": [
            "roadmark_0925.jpg\n",
            "roadmark_0868.jpg\n",
            "roadmark_0694.jpg\n"
          ],
          "name": "stdout"
        },
        {
          "output_type": "stream",
          "text": [
            "\r 51%|████████████████████████████████████████▊                                       | 441/865 [00:24<00:20, 20.58it/s]"
          ],
          "name": "stderr"
        },
        {
          "output_type": "stream",
          "text": [
            "roadmark_0809.jpg\n",
            "roadmark_1296.jpg\n",
            "roadmark_0186.jpg\n"
          ],
          "name": "stdout"
        },
        {
          "output_type": "stream",
          "text": [
            "\r 51%|█████████████████████████████████████████                                       | 444/865 [00:24<00:25, 16.52it/s]"
          ],
          "name": "stderr"
        },
        {
          "output_type": "stream",
          "text": [
            "roadmark_1051.jpg\n",
            "roadmark_0327.jpg\n",
            "roadmark_0387.jpg\n"
          ],
          "name": "stdout"
        },
        {
          "output_type": "stream",
          "text": [
            "\r 52%|█████████████████████████████████████████▎                                      | 447/865 [00:24<00:22, 18.49it/s]"
          ],
          "name": "stderr"
        },
        {
          "output_type": "stream",
          "text": [
            "roadmark_1309.jpg\n",
            "roadmark_0237.jpg\n",
            "roadmark_1423.jpg\n"
          ],
          "name": "stdout"
        },
        {
          "output_type": "stream",
          "text": [
            "\r 52%|█████████████████████████████████████████▌                                      | 450/865 [00:25<00:22, 18.43it/s]"
          ],
          "name": "stderr"
        },
        {
          "output_type": "stream",
          "text": [
            "roadmark_1089.jpg\n",
            "roadmark_0178.jpg\n",
            "roadmark_0966.jpg\n"
          ],
          "name": "stdout"
        },
        {
          "output_type": "stream",
          "text": [
            "\r 52%|█████████████████████████████████████████▉                                      | 453/865 [00:25<00:21, 19.46it/s]"
          ],
          "name": "stderr"
        },
        {
          "output_type": "stream",
          "text": [
            "roadmark_0427.jpg\n",
            "roadmark_0091.jpg\n",
            "roadmark_1203.jpg\n"
          ],
          "name": "stdout"
        },
        {
          "output_type": "stream",
          "text": [
            "\r 53%|██████████████████████████████████████████▏                                     | 456/865 [00:25<00:20, 20.38it/s]"
          ],
          "name": "stderr"
        },
        {
          "output_type": "stream",
          "text": [
            "roadmark_0196.jpg\n",
            "roadmark_0785.jpg\n",
            "roadmark_0505.jpg\n"
          ],
          "name": "stdout"
        },
        {
          "output_type": "stream",
          "text": [
            "\r 53%|██████████████████████████████████████████▍                                     | 459/865 [00:25<00:20, 20.19it/s]"
          ],
          "name": "stderr"
        },
        {
          "output_type": "stream",
          "text": [
            "roadmark_0234.jpg\n",
            "roadmark_0431.jpg\n",
            "roadmark_0229.jpg\n"
          ],
          "name": "stdout"
        },
        {
          "output_type": "stream",
          "text": [
            "\r 53%|██████████████████████████████████████████▋                                     | 462/865 [00:25<00:19, 20.40it/s]"
          ],
          "name": "stderr"
        },
        {
          "output_type": "stream",
          "text": [
            "roadmark_0464.jpg\n",
            "roadmark_1074.jpg\n",
            "roadmark_0301.jpg\n"
          ],
          "name": "stdout"
        },
        {
          "output_type": "stream",
          "text": [
            "\r 54%|███████████████████████████████████████████                                     | 465/865 [00:25<00:19, 20.41it/s]"
          ],
          "name": "stderr"
        },
        {
          "output_type": "stream",
          "text": [
            "roadmark_0278.jpg\n",
            "roadmark_0479.jpg\n",
            "roadmark_1229.jpg\n"
          ],
          "name": "stdout"
        },
        {
          "output_type": "stream",
          "text": [
            "\r 54%|███████████████████████████████████████████▎                                    | 468/865 [00:25<00:17, 22.08it/s]"
          ],
          "name": "stderr"
        },
        {
          "output_type": "stream",
          "text": [
            "roadmark_0610.jpg\n",
            "roadmark_0418.jpg\n",
            "roadmark_0269.jpg\n"
          ],
          "name": "stdout"
        },
        {
          "output_type": "stream",
          "text": [
            "\r 54%|███████████████████████████████████████████▌                                    | 471/865 [00:26<00:18, 21.23it/s]"
          ],
          "name": "stderr"
        },
        {
          "output_type": "stream",
          "text": [
            "roadmark_1362.jpg\n",
            "roadmark_0999.jpg\n",
            "roadmark_0865.jpg\n"
          ],
          "name": "stdout"
        },
        {
          "output_type": "stream",
          "text": [
            "\r 55%|███████████████████████████████████████████▊                                    | 474/865 [00:26<00:16, 23.16it/s]"
          ],
          "name": "stderr"
        },
        {
          "output_type": "stream",
          "text": [
            "roadmark_0750.jpg\n",
            "roadmark_1378.jpg\n",
            "roadmark_1398.jpg\n"
          ],
          "name": "stdout"
        },
        {
          "output_type": "stream",
          "text": [
            "\r 55%|████████████████████████████████████████████                                    | 477/865 [00:26<00:18, 21.22it/s]"
          ],
          "name": "stderr"
        },
        {
          "output_type": "stream",
          "text": [
            "roadmark_0585.jpg\n",
            "roadmark_0417.jpg\n",
            "roadmark_0954.jpg\n"
          ],
          "name": "stdout"
        },
        {
          "output_type": "stream",
          "text": [
            "\r 55%|████████████████████████████████████████████▍                                   | 480/865 [00:26<00:16, 22.89it/s]"
          ],
          "name": "stderr"
        },
        {
          "output_type": "stream",
          "text": [
            "roadmark_0080.jpg\n",
            "roadmark_0169.jpg\n",
            "roadmark_0429.jpg\n"
          ],
          "name": "stdout"
        },
        {
          "output_type": "stream",
          "text": [
            "\r 56%|████████████████████████████████████████████▋                                   | 483/865 [00:26<00:17, 22.08it/s]"
          ],
          "name": "stderr"
        },
        {
          "output_type": "stream",
          "text": [
            "roadmark_0198.jpg\n",
            "roadmark_1281.jpg\n",
            "roadmark_1170.jpg\n"
          ],
          "name": "stdout"
        },
        {
          "output_type": "stream",
          "text": [
            "\r 56%|████████████████████████████████████████████▉                                   | 486/865 [00:26<00:16, 23.45it/s]"
          ],
          "name": "stderr"
        },
        {
          "output_type": "stream",
          "text": [
            "roadmark_1124.jpg\n",
            "roadmark_0341.jpg\n",
            "roadmark_0737.jpg\n"
          ],
          "name": "stdout"
        },
        {
          "output_type": "stream",
          "text": [
            "\r 57%|█████████████████████████████████████████████▏                                  | 489/865 [00:26<00:16, 22.44it/s]"
          ],
          "name": "stderr"
        },
        {
          "output_type": "stream",
          "text": [
            "roadmark_0238.jpg\n",
            "roadmark_0079.jpg\n",
            "roadmark_0104.jpg\n"
          ],
          "name": "stdout"
        },
        {
          "output_type": "stream",
          "text": [
            "\r 57%|█████████████████████████████████████████████▌                                  | 492/865 [00:26<00:16, 22.56it/s]"
          ],
          "name": "stderr"
        },
        {
          "output_type": "stream",
          "text": [
            "roadmark_1133.jpg\n",
            "roadmark_0313.jpg\n",
            "roadmark_0859.jpg\n"
          ],
          "name": "stdout"
        },
        {
          "output_type": "stream",
          "text": [
            "\r 57%|█████████████████████████████████████████████▊                                  | 495/865 [00:27<00:16, 21.82it/s]"
          ],
          "name": "stderr"
        },
        {
          "output_type": "stream",
          "text": [
            "roadmark_1104.jpg\n",
            "roadmark_0438.jpg\n",
            "roadmark_0731.jpg\n"
          ],
          "name": "stdout"
        },
        {
          "output_type": "stream",
          "text": [
            "\r 58%|██████████████████████████████████████████████                                  | 498/865 [00:27<00:17, 21.49it/s]"
          ],
          "name": "stderr"
        },
        {
          "output_type": "stream",
          "text": [
            "roadmark_0321.jpg\n",
            "roadmark_0773.jpg\n",
            "roadmark_1077.jpg\n"
          ],
          "name": "stdout"
        },
        {
          "output_type": "stream",
          "text": [
            "\r 58%|██████████████████████████████████████████████▎                                 | 501/865 [00:27<00:19, 18.68it/s]"
          ],
          "name": "stderr"
        },
        {
          "output_type": "stream",
          "text": [
            "roadmark_0930.jpg\n",
            "roadmark_0666.jpg\n",
            "roadmark_0540.jpg\n"
          ],
          "name": "stdout"
        },
        {
          "output_type": "stream",
          "text": [
            "\r 58%|██████████████████████████████████████████████▌                                 | 504/865 [00:27<00:17, 20.34it/s]"
          ],
          "name": "stderr"
        },
        {
          "output_type": "stream",
          "text": [
            "roadmark_1405.jpg\n",
            "roadmark_1017.jpg\n",
            "roadmark_1407.jpg\n"
          ],
          "name": "stdout"
        },
        {
          "output_type": "stream",
          "text": [
            "\r 59%|██████████████████████████████████████████████▉                                 | 507/865 [00:27<00:16, 22.21it/s]"
          ],
          "name": "stderr"
        },
        {
          "output_type": "stream",
          "text": [
            "roadmark_0519.jpg\n",
            "roadmark_0230.jpg\n",
            "roadmark_0129.jpg\n"
          ],
          "name": "stdout"
        },
        {
          "output_type": "stream",
          "text": [
            "\r 59%|███████████████████████████████████████████████▏                                | 510/865 [00:27<00:15, 23.47it/s]"
          ],
          "name": "stderr"
        },
        {
          "output_type": "stream",
          "text": [
            "roadmark_0848.jpg\n",
            "roadmark_0646.jpg\n",
            "roadmark_0403.jpg\n"
          ],
          "name": "stdout"
        },
        {
          "output_type": "stream",
          "text": [
            "\r 59%|███████████████████████████████████████████████▍                                | 513/865 [00:27<00:16, 21.36it/s]"
          ],
          "name": "stderr"
        },
        {
          "output_type": "stream",
          "text": [
            "roadmark_0195.jpg\n",
            "roadmark_1043.jpg\n",
            "roadmark_1207.jpg\n"
          ],
          "name": "stdout"
        },
        {
          "output_type": "stream",
          "text": [
            "\r 60%|███████████████████████████████████████████████▋                                | 516/865 [00:28<00:16, 20.85it/s]"
          ],
          "name": "stderr"
        },
        {
          "output_type": "stream",
          "text": [
            "roadmark_1410.jpg\n",
            "roadmark_0057.jpg\n",
            "roadmark_1143.jpg\n"
          ],
          "name": "stdout"
        },
        {
          "output_type": "stream",
          "text": [
            "\r 60%|████████████████████████████████████████████████                                | 519/865 [00:28<00:18, 18.42it/s]"
          ],
          "name": "stderr"
        },
        {
          "output_type": "stream",
          "text": [
            "roadmark_1148.jpg\n",
            "roadmark_0261.jpg\n",
            "roadmark_1035.jpg\n"
          ],
          "name": "stdout"
        },
        {
          "output_type": "stream",
          "text": [
            "\r 60%|████████████████████████████████████████████████▎                               | 522/865 [00:28<00:16, 20.44it/s]"
          ],
          "name": "stderr"
        },
        {
          "output_type": "stream",
          "text": [
            "roadmark_1159.jpg\n",
            "roadmark_1402.jpg\n",
            "roadmark_0876.jpg\n"
          ],
          "name": "stdout"
        },
        {
          "output_type": "stream",
          "text": [
            "\r 61%|████████████████████████████████████████████████▌                               | 525/865 [00:28<00:17, 19.71it/s]"
          ],
          "name": "stderr"
        },
        {
          "output_type": "stream",
          "text": [
            "roadmark_0373.jpg\n",
            "roadmark_0537.jpg\n",
            "roadmark_1181.jpg\n"
          ],
          "name": "stdout"
        },
        {
          "output_type": "stream",
          "text": [
            "\r 61%|████████████████████████████████████████████████▊                               | 528/865 [00:28<00:15, 21.07it/s]"
          ],
          "name": "stderr"
        },
        {
          "output_type": "stream",
          "text": [
            "roadmark_1304.jpg\n",
            "roadmark_1149.jpg\n",
            "roadmark_0423.jpg\n"
          ],
          "name": "stdout"
        },
        {
          "output_type": "stream",
          "text": [
            "\r 61%|█████████████████████████████████████████████████                               | 531/865 [00:28<00:14, 22.41it/s]"
          ],
          "name": "stderr"
        },
        {
          "output_type": "stream",
          "text": [
            "roadmark_0700.jpg\n",
            "roadmark_0328.jpg\n",
            "roadmark_1055.jpg\n"
          ],
          "name": "stdout"
        },
        {
          "output_type": "stream",
          "text": [
            "\r 62%|█████████████████████████████████████████████████▍                              | 534/865 [00:28<00:14, 22.38it/s]"
          ],
          "name": "stderr"
        },
        {
          "output_type": "stream",
          "text": [
            "roadmark_1280.jpg\n",
            "roadmark_1259.jpg\n",
            "roadmark_0488.jpg\n"
          ],
          "name": "stdout"
        },
        {
          "output_type": "stream",
          "text": [
            "\r 62%|█████████████████████████████████████████████████▋                              | 537/865 [00:29<00:26, 12.19it/s]"
          ],
          "name": "stderr"
        },
        {
          "output_type": "stream",
          "text": [
            "roadmark_0370.jpg\n",
            "roadmark_0903.jpg\n",
            "roadmark_1239.jpg\n"
          ],
          "name": "stdout"
        },
        {
          "output_type": "stream",
          "text": [
            "\r 62%|█████████████████████████████████████████████████▉                              | 540/865 [00:29<00:24, 13.06it/s]"
          ],
          "name": "stderr"
        },
        {
          "output_type": "stream",
          "text": [
            "roadmark_0499.jpg\n",
            "roadmark_1011.jpg\n",
            "roadmark_0990.jpg\n",
            "roadmark_0291.jpg\n"
          ],
          "name": "stdout"
        },
        {
          "output_type": "stream",
          "text": [
            "\r 63%|██████████████████████████████████████████████████▎                             | 544/865 [00:29<00:20, 15.51it/s]"
          ],
          "name": "stderr"
        },
        {
          "output_type": "stream",
          "text": [
            "roadmark_0457.jpg\n",
            "roadmark_0887.jpg\n",
            "roadmark_0316.jpg\n",
            "roadmark_0512.jpg\n"
          ],
          "name": "stdout"
        },
        {
          "output_type": "stream",
          "text": [
            "\r 63%|██████████████████████████████████████████████████▋                             | 548/865 [00:29<00:17, 18.10it/s]"
          ],
          "name": "stderr"
        },
        {
          "output_type": "stream",
          "text": [
            "roadmark_0286.jpg\n",
            "roadmark_0217.jpg\n",
            "roadmark_0383.jpg\n"
          ],
          "name": "stdout"
        },
        {
          "output_type": "stream",
          "text": [
            "\r 64%|██████████████████████████████████████████████████▉                             | 551/865 [00:30<00:19, 15.89it/s]"
          ],
          "name": "stderr"
        },
        {
          "output_type": "stream",
          "text": [
            "roadmark_0176.jpg\n",
            "roadmark_0718.jpg\n",
            "roadmark_0250.jpg\n"
          ],
          "name": "stdout"
        },
        {
          "output_type": "stream",
          "text": [
            "\r 64%|███████████████████████████████████████████████████▏                            | 554/865 [00:30<00:16, 18.30it/s]"
          ],
          "name": "stderr"
        },
        {
          "output_type": "stream",
          "text": [
            "roadmark_0117.jpg\n",
            "roadmark_0574.jpg\n",
            "roadmark_0660.jpg\n"
          ],
          "name": "stdout"
        },
        {
          "output_type": "stream",
          "text": [
            "\r 64%|███████████████████████████████████████████████████▌                            | 557/865 [00:30<00:15, 20.27it/s]"
          ],
          "name": "stderr"
        },
        {
          "output_type": "stream",
          "text": [
            "roadmark_0613.jpg\n",
            "roadmark_0662.jpg\n",
            "roadmark_1033.jpg\n"
          ],
          "name": "stdout"
        },
        {
          "output_type": "stream",
          "text": [
            "\r 65%|███████████████████████████████████████████████████▊                            | 560/865 [00:30<00:15, 19.95it/s]"
          ],
          "name": "stderr"
        },
        {
          "output_type": "stream",
          "text": [
            "roadmark_0506.jpg\n",
            "roadmark_0514.jpg\n",
            "roadmark_0338.jpg\n"
          ],
          "name": "stdout"
        },
        {
          "output_type": "stream",
          "text": [
            "\r 65%|████████████████████████████████████████████████████                            | 563/865 [00:30<00:14, 21.51it/s]"
          ],
          "name": "stderr"
        },
        {
          "output_type": "stream",
          "text": [
            "roadmark_1153.jpg\n",
            "roadmark_1091.jpg\n",
            "roadmark_0633.jpg\n"
          ],
          "name": "stdout"
        },
        {
          "output_type": "stream",
          "text": [
            "\r 65%|████████████████████████████████████████████████████▎                           | 566/865 [00:30<00:15, 19.54it/s]"
          ],
          "name": "stderr"
        },
        {
          "output_type": "stream",
          "text": [
            "roadmark_0401.jpg\n",
            "roadmark_0722.jpg\n",
            "roadmark_1225.jpg\n"
          ],
          "name": "stdout"
        },
        {
          "output_type": "stream",
          "text": [
            "\r 66%|████████████████████████████████████████████████████▌                           | 569/865 [00:30<00:14, 20.23it/s]"
          ],
          "name": "stderr"
        },
        {
          "output_type": "stream",
          "text": [
            "roadmark_0363.jpg\n",
            "roadmark_0599.jpg\n",
            "roadmark_1071.jpg\n"
          ],
          "name": "stdout"
        },
        {
          "output_type": "stream",
          "text": [
            "\r 66%|████████████████████████████████████████████████████▉                           | 572/865 [00:31<00:13, 21.09it/s]"
          ],
          "name": "stderr"
        },
        {
          "output_type": "stream",
          "text": [
            "roadmark_1054.jpg\n",
            "roadmark_1105.jpg\n",
            "roadmark_1222.jpg\n",
            "roadmark_0834.jpg\n"
          ],
          "name": "stdout"
        },
        {
          "output_type": "stream",
          "text": [
            "\r 67%|█████████████████████████████████████████████████████▎                          | 576/865 [00:31<00:12, 23.21it/s]"
          ],
          "name": "stderr"
        },
        {
          "output_type": "stream",
          "text": [
            "roadmark_1070.jpg\n",
            "roadmark_0020.jpg\n",
            "roadmark_1247.jpg\n"
          ],
          "name": "stdout"
        },
        {
          "output_type": "stream",
          "text": [
            "\r 67%|█████████████████████████████████████████████████████▌                          | 579/865 [00:31<00:11, 24.67it/s]"
          ],
          "name": "stderr"
        },
        {
          "output_type": "stream",
          "text": [
            "roadmark_0402.jpg\n",
            "roadmark_0015.jpg\n",
            "roadmark_0168.jpg\n"
          ],
          "name": "stdout"
        },
        {
          "output_type": "stream",
          "text": [
            "\r 67%|█████████████████████████████████████████████████████▊                          | 582/865 [00:31<00:12, 22.59it/s]"
          ],
          "name": "stderr"
        },
        {
          "output_type": "stream",
          "text": [
            "roadmark_0421.jpg\n",
            "roadmark_1002.jpg\n",
            "roadmark_0430.jpg\n"
          ],
          "name": "stdout"
        },
        {
          "output_type": "stream",
          "text": [
            "\r 68%|██████████████████████████████████████████████████████                          | 585/865 [00:31<00:12, 23.21it/s]"
          ],
          "name": "stderr"
        },
        {
          "output_type": "stream",
          "text": [
            "roadmark_1046.jpg\n",
            "roadmark_0601.jpg\n",
            "roadmark_1305.jpg\n"
          ],
          "name": "stdout"
        },
        {
          "output_type": "stream",
          "text": [
            "\r 68%|██████████████████████████████████████████████████████▍                         | 588/865 [00:31<00:11, 24.45it/s]"
          ],
          "name": "stderr"
        },
        {
          "output_type": "stream",
          "text": [
            "roadmark_1060.jpg\n",
            "roadmark_0343.jpg\n",
            "roadmark_1059.jpg\n"
          ],
          "name": "stdout"
        },
        {
          "output_type": "stream",
          "text": [
            "\r 68%|██████████████████████████████████████████████████████▋                         | 591/865 [00:31<00:11, 24.49it/s]"
          ],
          "name": "stderr"
        },
        {
          "output_type": "stream",
          "text": [
            "roadmark_0901.jpg\n",
            "roadmark_0043.jpg\n",
            "roadmark_0767.jpg\n"
          ],
          "name": "stdout"
        },
        {
          "output_type": "stream",
          "text": [
            "\r 69%|██████████████████████████████████████████████████████▉                         | 594/865 [00:31<00:12, 21.76it/s]"
          ],
          "name": "stderr"
        },
        {
          "output_type": "stream",
          "text": [
            "roadmark_1040.jpg\n",
            "roadmark_0396.jpg\n",
            "roadmark_0434.jpg\n"
          ],
          "name": "stdout"
        },
        {
          "output_type": "stream",
          "text": [
            "\r 69%|███████████████████████████████████████████████████████▏                        | 597/865 [00:32<00:11, 22.49it/s]"
          ],
          "name": "stderr"
        },
        {
          "output_type": "stream",
          "text": [
            "roadmark_0723.jpg\n",
            "roadmark_0860.jpg\n",
            "roadmark_1088.jpg\n",
            "roadmark_0231.jpg\n"
          ],
          "name": "stdout"
        },
        {
          "output_type": "stream",
          "text": [
            "\r 69%|███████████████████████████████████████████████████████▌                        | 601/865 [00:32<00:10, 24.29it/s]"
          ],
          "name": "stderr"
        },
        {
          "output_type": "stream",
          "text": [
            "roadmark_0940.jpg\n",
            "roadmark_0148.jpg\n",
            "roadmark_0246.jpg\n"
          ],
          "name": "stdout"
        },
        {
          "output_type": "stream",
          "text": [
            "\r 70%|███████████████████████████████████████████████████████▊                        | 604/865 [00:32<00:10, 25.63it/s]"
          ],
          "name": "stderr"
        },
        {
          "output_type": "stream",
          "text": [
            "roadmark_1317.jpg\n",
            "roadmark_1174.jpg\n",
            "roadmark_1096.jpg\n"
          ],
          "name": "stdout"
        },
        {
          "output_type": "stream",
          "text": [
            "\r 70%|████████████████████████████████████████████████████████▏                       | 607/865 [00:32<00:10, 24.27it/s]"
          ],
          "name": "stderr"
        },
        {
          "output_type": "stream",
          "text": [
            "roadmark_1364.jpg\n",
            "roadmark_0243.jpg\n",
            "roadmark_1277.jpg\n"
          ],
          "name": "stdout"
        },
        {
          "output_type": "stream",
          "text": [
            "\r 71%|████████████████████████████████████████████████████████▍                       | 610/865 [00:32<00:11, 22.53it/s]"
          ],
          "name": "stderr"
        },
        {
          "output_type": "stream",
          "text": [
            "roadmark_1409.jpg\n",
            "roadmark_0336.jpg\n",
            "roadmark_1234.jpg\n"
          ],
          "name": "stdout"
        },
        {
          "output_type": "stream",
          "text": [
            "\r 71%|████████████████████████████████████████████████████████▋                       | 613/865 [00:33<00:19, 12.99it/s]"
          ],
          "name": "stderr"
        },
        {
          "output_type": "stream",
          "text": [
            "roadmark_1192.jpg\n",
            "roadmark_1116.jpg\n",
            "roadmark_0953.jpg\n",
            "roadmark_0192.jpg\n"
          ],
          "name": "stdout"
        },
        {
          "output_type": "stream",
          "text": [
            "\r 71%|█████████████████████████████████████████████████████████                       | 617/865 [00:33<00:15, 15.63it/s]"
          ],
          "name": "stderr"
        },
        {
          "output_type": "stream",
          "text": [
            "roadmark_0888.jpg\n",
            "roadmark_0298.jpg\n",
            "roadmark_0936.jpg\n"
          ],
          "name": "stdout"
        },
        {
          "output_type": "stream",
          "text": [
            "\r 72%|█████████████████████████████████████████████████████████▎                      | 620/865 [00:33<00:14, 17.12it/s]"
          ],
          "name": "stderr"
        },
        {
          "output_type": "stream",
          "text": [
            "roadmark_0248.jpg\n",
            "roadmark_1126.jpg\n",
            "roadmark_1145.jpg\n"
          ],
          "name": "stdout"
        },
        {
          "output_type": "stream",
          "text": [
            "\r 72%|█████████████████████████████████████████████████████████▌                      | 623/865 [00:33<00:13, 18.45it/s]"
          ],
          "name": "stderr"
        },
        {
          "output_type": "stream",
          "text": [
            "roadmark_0552.jpg\n",
            "roadmark_1242.jpg\n",
            "roadmark_1094.jpg\n"
          ],
          "name": "stdout"
        },
        {
          "output_type": "stream",
          "text": [
            "\r 72%|█████████████████████████████████████████████████████████▉                      | 626/865 [00:33<00:11, 19.98it/s]"
          ],
          "name": "stderr"
        },
        {
          "output_type": "stream",
          "text": [
            "roadmark_0721.jpg\n",
            "roadmark_0366.jpg\n",
            "roadmark_1384.jpg\n"
          ],
          "name": "stdout"
        },
        {
          "output_type": "stream",
          "text": [
            "\r 73%|██████████████████████████████████████████████████████████▏                     | 629/865 [00:33<00:13, 17.91it/s]"
          ],
          "name": "stderr"
        },
        {
          "output_type": "stream",
          "text": [
            "roadmark_0027.jpg\n",
            "roadmark_0099.jpg\n",
            "roadmark_0594.jpg\n"
          ],
          "name": "stdout"
        },
        {
          "output_type": "stream",
          "text": [
            "\r 73%|██████████████████████████████████████████████████████████▍                     | 632/865 [00:34<00:13, 17.82it/s]"
          ],
          "name": "stderr"
        },
        {
          "output_type": "stream",
          "text": [
            "roadmark_0384.jpg\n",
            "roadmark_0352.jpg\n"
          ],
          "name": "stdout"
        },
        {
          "output_type": "stream",
          "text": [
            "\r 73%|██████████████████████████████████████████████████████████▋                     | 634/865 [00:34<00:12, 18.03it/s]"
          ],
          "name": "stderr"
        },
        {
          "output_type": "stream",
          "text": [
            "roadmark_0471.jpg\n",
            "roadmark_0886.jpg\n",
            "roadmark_0450.jpg\n"
          ],
          "name": "stdout"
        },
        {
          "output_type": "stream",
          "text": [
            "\r 74%|██████████████████████████████████████████████████████████▉                     | 637/865 [00:34<00:11, 19.67it/s]"
          ],
          "name": "stderr"
        },
        {
          "output_type": "stream",
          "text": [
            "roadmark_0880.jpg\n",
            "roadmark_1413.jpg\n",
            "roadmark_0361.jpg\n"
          ],
          "name": "stdout"
        },
        {
          "output_type": "stream",
          "text": [
            "\r 74%|███████████████████████████████████████████████████████████▏                    | 640/865 [00:34<00:10, 20.93it/s]"
          ],
          "name": "stderr"
        },
        {
          "output_type": "stream",
          "text": [
            "roadmark_1081.jpg\n",
            "roadmark_0233.jpg\n",
            "roadmark_0531.jpg\n"
          ],
          "name": "stdout"
        },
        {
          "output_type": "stream",
          "text": [
            "\r 74%|███████████████████████████████████████████████████████████▍                    | 643/865 [00:34<00:10, 20.57it/s]"
          ],
          "name": "stderr"
        },
        {
          "output_type": "stream",
          "text": [
            "roadmark_0306.jpg\n",
            "roadmark_0289.jpg\n",
            "roadmark_0543.jpg\n"
          ],
          "name": "stdout"
        },
        {
          "output_type": "stream",
          "text": [
            "\r 75%|███████████████████████████████████████████████████████████▋                    | 646/865 [00:34<00:14, 15.42it/s]"
          ],
          "name": "stderr"
        },
        {
          "output_type": "stream",
          "text": [
            "roadmark_0703.jpg\n",
            "roadmark_0889.jpg\n",
            "roadmark_0960.jpg\n"
          ],
          "name": "stdout"
        },
        {
          "output_type": "stream",
          "text": [
            "\r 75%|████████████████████████████████████████████████████████████                    | 649/865 [00:34<00:12, 17.01it/s]"
          ],
          "name": "stderr"
        },
        {
          "output_type": "stream",
          "text": [
            "roadmark_0006.jpg\n",
            "roadmark_0892.jpg\n",
            "roadmark_0609.jpg\n"
          ],
          "name": "stdout"
        },
        {
          "output_type": "stream",
          "text": [
            "\r 75%|████████████████████████████████████████████████████████████▎                   | 652/865 [00:35<00:11, 18.04it/s]"
          ],
          "name": "stderr"
        },
        {
          "output_type": "stream",
          "text": [
            "roadmark_1379.jpg\n",
            "roadmark_0404.jpg\n",
            "roadmark_1321.jpg\n"
          ],
          "name": "stdout"
        },
        {
          "output_type": "stream",
          "text": [
            "\r 76%|████████████████████████████████████████████████████████████▌                   | 655/865 [00:35<00:10, 19.36it/s]"
          ],
          "name": "stderr"
        },
        {
          "output_type": "stream",
          "text": [
            "roadmark_0791.jpg\n",
            "roadmark_0558.jpg\n",
            "roadmark_0907.jpg\n"
          ],
          "name": "stdout"
        },
        {
          "output_type": "stream",
          "text": [
            "\r 76%|████████████████████████████████████████████████████████████▊                   | 658/865 [00:35<00:09, 21.25it/s]"
          ],
          "name": "stderr"
        },
        {
          "output_type": "stream",
          "text": [
            "roadmark_0135.jpg\n",
            "roadmark_0494.jpg\n",
            "roadmark_0917.jpg\n"
          ],
          "name": "stdout"
        },
        {
          "output_type": "stream",
          "text": [
            "\r 76%|█████████████████████████████████████████████████████████████▏                  | 661/865 [00:35<00:09, 21.35it/s]"
          ],
          "name": "stderr"
        },
        {
          "output_type": "stream",
          "text": [
            "roadmark_0123.jpg\n",
            "roadmark_0199.jpg\n",
            "roadmark_0324.jpg\n"
          ],
          "name": "stdout"
        },
        {
          "output_type": "stream",
          "text": [
            "\r 77%|█████████████████████████████████████████████████████████████▍                  | 664/865 [00:35<00:09, 21.42it/s]"
          ],
          "name": "stderr"
        },
        {
          "output_type": "stream",
          "text": [
            "roadmark_0822.jpg\n",
            "roadmark_0189.jpg\n",
            "roadmark_0577.jpg\n"
          ],
          "name": "stdout"
        },
        {
          "output_type": "stream",
          "text": [
            "\r 77%|█████████████████████████████████████████████████████████████▋                  | 667/865 [00:35<00:08, 22.49it/s]"
          ],
          "name": "stderr"
        },
        {
          "output_type": "stream",
          "text": [
            "roadmark_1320.jpg\n",
            "roadmark_0449.jpg\n",
            "roadmark_0101.jpg\n"
          ],
          "name": "stdout"
        },
        {
          "output_type": "stream",
          "text": [
            "\r 77%|█████████████████████████████████████████████████████████████▉                  | 670/865 [00:35<00:08, 23.19it/s]"
          ],
          "name": "stderr"
        },
        {
          "output_type": "stream",
          "text": [
            "roadmark_0193.jpg\n",
            "roadmark_0295.jpg\n",
            "roadmark_0783.jpg\n"
          ],
          "name": "stdout"
        },
        {
          "output_type": "stream",
          "text": [
            "\r 78%|██████████████████████████████████████████████████████████████▏                 | 673/865 [00:36<00:09, 20.46it/s]"
          ],
          "name": "stderr"
        },
        {
          "output_type": "stream",
          "text": [
            "roadmark_1319.jpg\n",
            "roadmark_1417.jpg\n",
            "roadmark_1275.jpg\n"
          ],
          "name": "stdout"
        },
        {
          "output_type": "stream",
          "text": [
            "\r 78%|██████████████████████████████████████████████████████████████▌                 | 676/865 [00:36<00:09, 20.87it/s]"
          ],
          "name": "stderr"
        },
        {
          "output_type": "stream",
          "text": [
            "roadmark_0224.jpg\n",
            "roadmark_0162.jpg\n",
            "roadmark_0368.jpg\n"
          ],
          "name": "stdout"
        },
        {
          "output_type": "stream",
          "text": [
            "\r 78%|██████████████████████████████████████████████████████████████▊                 | 679/865 [00:36<00:10, 18.41it/s]"
          ],
          "name": "stderr"
        },
        {
          "output_type": "stream",
          "text": [
            "roadmark_0332.jpg\n",
            "roadmark_0735.jpg\n"
          ],
          "name": "stdout"
        },
        {
          "output_type": "stream",
          "text": [
            "\r 79%|██████████████████████████████████████████████████████████████▉                 | 681/865 [00:36<00:10, 17.03it/s]"
          ],
          "name": "stderr"
        },
        {
          "output_type": "stream",
          "text": [
            "roadmark_1171.jpg\n",
            "roadmark_0725.jpg\n",
            "roadmark_1371.jpg\n"
          ],
          "name": "stdout"
        },
        {
          "output_type": "stream",
          "text": [
            "\r 79%|███████████████████████████████████████████████████████████████▎                | 684/865 [00:36<00:09, 18.75it/s]"
          ],
          "name": "stderr"
        },
        {
          "output_type": "stream",
          "text": [
            "roadmark_0632.jpg\n",
            "roadmark_0081.jpg\n",
            "roadmark_1345.jpg\n"
          ],
          "name": "stdout"
        },
        {
          "output_type": "stream",
          "text": [
            "\r 79%|███████████████████████████████████████████████████████████████▌                | 687/865 [00:36<00:09, 18.45it/s]"
          ],
          "name": "stderr"
        },
        {
          "output_type": "stream",
          "text": [
            "roadmark_1366.jpg\n",
            "roadmark_1348.jpg\n",
            "roadmark_0412.jpg\n"
          ],
          "name": "stdout"
        },
        {
          "output_type": "stream",
          "text": [
            "\r 80%|███████████████████████████████████████████████████████████████▊                | 690/865 [00:36<00:09, 19.10it/s]"
          ],
          "name": "stderr"
        },
        {
          "output_type": "stream",
          "text": [
            "roadmark_0303.jpg\n",
            "roadmark_0900.jpg\n"
          ],
          "name": "stdout"
        },
        {
          "output_type": "stream",
          "text": [
            "\r 80%|████████████████████████████████████████████████████████████████                | 692/865 [00:37<00:09, 18.10it/s]"
          ],
          "name": "stderr"
        },
        {
          "output_type": "stream",
          "text": [
            "roadmark_0247.jpg\n",
            "roadmark_1053.jpg\n",
            "roadmark_1368.jpg\n"
          ],
          "name": "stdout"
        },
        {
          "output_type": "stream",
          "text": [
            "\r 80%|████████████████████████████████████████████████████████████████▎               | 695/865 [00:37<00:08, 20.34it/s]"
          ],
          "name": "stderr"
        },
        {
          "output_type": "stream",
          "text": [
            "roadmark_0991.jpg\n",
            "roadmark_0136.jpg\n",
            "roadmark_1353.jpg\n"
          ],
          "name": "stdout"
        },
        {
          "output_type": "stream",
          "text": [
            "\r 81%|████████████████████████████████████████████████████████████████▌               | 698/865 [00:37<00:08, 19.57it/s]"
          ],
          "name": "stderr"
        },
        {
          "output_type": "stream",
          "text": [
            "roadmark_0712.jpg\n",
            "roadmark_0696.jpg\n",
            "roadmark_0752.jpg\n"
          ],
          "name": "stdout"
        },
        {
          "output_type": "stream",
          "text": [
            "\r 81%|████████████████████████████████████████████████████████████████▊               | 701/865 [00:37<00:09, 17.33it/s]"
          ],
          "name": "stderr"
        },
        {
          "output_type": "stream",
          "text": [
            "roadmark_0549.jpg\n",
            "roadmark_0586.jpg\n",
            "roadmark_0469.jpg\n"
          ],
          "name": "stdout"
        },
        {
          "output_type": "stream",
          "text": [
            "\r 81%|█████████████████████████████████████████████████████████████████               | 704/865 [00:37<00:09, 16.50it/s]"
          ],
          "name": "stderr"
        },
        {
          "output_type": "stream",
          "text": [
            "roadmark_1034.jpg\n",
            "roadmark_0575.jpg\n",
            "roadmark_1257.jpg\n"
          ],
          "name": "stdout"
        },
        {
          "output_type": "stream",
          "text": [
            "\r 82%|█████████████████████████████████████████████████████████████████▍              | 707/865 [00:37<00:08, 18.85it/s]"
          ],
          "name": "stderr"
        },
        {
          "output_type": "stream",
          "text": [
            "roadmark_0683.jpg\n",
            "roadmark_0551.jpg\n",
            "roadmark_0846.jpg\n"
          ],
          "name": "stdout"
        },
        {
          "output_type": "stream",
          "text": [
            "\r 82%|█████████████████████████████████████████████████████████████████▋              | 710/865 [00:38<00:07, 20.35it/s]"
          ],
          "name": "stderr"
        },
        {
          "output_type": "stream",
          "text": [
            "roadmark_1342.jpg\n",
            "roadmark_1154.jpg\n",
            "roadmark_0996.jpg\n"
          ],
          "name": "stdout"
        },
        {
          "output_type": "stream",
          "text": [
            "\r 82%|█████████████████████████████████████████████████████████████████▉              | 713/865 [00:38<00:06, 21.84it/s]"
          ],
          "name": "stderr"
        },
        {
          "output_type": "stream",
          "text": [
            "roadmark_0678.jpg\n",
            "roadmark_1437.jpg\n",
            "roadmark_0358.jpg\n"
          ],
          "name": "stdout"
        },
        {
          "output_type": "stream",
          "text": [
            "\r 83%|██████████████████████████████████████████████████████████████████▏             | 716/865 [00:38<00:07, 21.08it/s]"
          ],
          "name": "stderr"
        },
        {
          "output_type": "stream",
          "text": [
            "roadmark_0181.jpg\n",
            "roadmark_0968.jpg\n",
            "roadmark_0111.jpg\n"
          ],
          "name": "stdout"
        },
        {
          "output_type": "stream",
          "text": [
            "\r 83%|██████████████████████████████████████████████████████████████████▍             | 719/865 [00:38<00:06, 22.52it/s]"
          ],
          "name": "stderr"
        },
        {
          "output_type": "stream",
          "text": [
            "roadmark_1243.jpg\n",
            "roadmark_0244.jpg\n",
            "roadmark_0062.jpg\n"
          ],
          "name": "stdout"
        },
        {
          "output_type": "stream",
          "text": [
            "\r 83%|██████████████████████████████████████████████████████████████████▊             | 722/865 [00:38<00:06, 20.85it/s]"
          ],
          "name": "stderr"
        },
        {
          "output_type": "stream",
          "text": [
            "roadmark_1186.jpg\n",
            "roadmark_1328.jpg\n",
            "roadmark_0556.jpg\n"
          ],
          "name": "stdout"
        },
        {
          "output_type": "stream",
          "text": [
            "\r 84%|███████████████████████████████████████████████████████████████████             | 725/865 [00:38<00:06, 22.19it/s]"
          ],
          "name": "stderr"
        },
        {
          "output_type": "stream",
          "text": [
            "roadmark_1097.jpg\n",
            "roadmark_0125.jpg\n",
            "roadmark_0197.jpg\n"
          ],
          "name": "stdout"
        },
        {
          "output_type": "stream",
          "text": [
            "\r 84%|███████████████████████████████████████████████████████████████████▎            | 728/865 [00:38<00:05, 23.84it/s]"
          ],
          "name": "stderr"
        },
        {
          "output_type": "stream",
          "text": [
            "roadmark_0391.jpg\n",
            "roadmark_1082.jpg\n",
            "roadmark_0776.jpg\n"
          ],
          "name": "stdout"
        },
        {
          "output_type": "stream",
          "text": [
            "\r 85%|███████████████████████████████████████████████████████████████████▌            | 731/865 [00:38<00:05, 24.78it/s]"
          ],
          "name": "stderr"
        },
        {
          "output_type": "stream",
          "text": [
            "roadmark_0688.jpg\n",
            "roadmark_1396.jpg\n",
            "roadmark_0092.jpg\n"
          ],
          "name": "stdout"
        },
        {
          "output_type": "stream",
          "text": [
            "\r 85%|███████████████████████████████████████████████████████████████████▉            | 734/865 [00:39<00:06, 20.43it/s]"
          ],
          "name": "stderr"
        },
        {
          "output_type": "stream",
          "text": [
            "roadmark_0300.jpg\n",
            "roadmark_1138.jpg\n",
            "roadmark_0544.jpg\n"
          ],
          "name": "stdout"
        },
        {
          "output_type": "stream",
          "text": [
            "\r 85%|████████████████████████████████████████████████████████████████████▏           | 737/865 [00:39<00:05, 21.57it/s]"
          ],
          "name": "stderr"
        },
        {
          "output_type": "stream",
          "text": [
            "roadmark_0497.jpg\n",
            "roadmark_1114.jpg\n",
            "roadmark_0024.jpg\n"
          ],
          "name": "stdout"
        },
        {
          "output_type": "stream",
          "text": [
            "\r 86%|████████████████████████████████████████████████████████████████████▍           | 740/865 [00:39<00:05, 22.96it/s]"
          ],
          "name": "stderr"
        },
        {
          "output_type": "stream",
          "text": [
            "roadmark_1227.jpg\n",
            "roadmark_1037.jpg\n",
            "roadmark_0893.jpg\n"
          ],
          "name": "stdout"
        },
        {
          "output_type": "stream",
          "text": [
            "\r 86%|████████████████████████████████████████████████████████████████████▋           | 743/865 [00:39<00:05, 23.54it/s]"
          ],
          "name": "stderr"
        },
        {
          "output_type": "stream",
          "text": [
            "roadmark_0915.jpg\n",
            "roadmark_0119.jpg\n",
            "roadmark_0622.jpg\n"
          ],
          "name": "stdout"
        },
        {
          "output_type": "stream",
          "text": [
            "\r 86%|████████████████████████████████████████████████████████████████████▉           | 746/865 [00:39<00:05, 20.76it/s]"
          ],
          "name": "stderr"
        },
        {
          "output_type": "stream",
          "text": [
            "roadmark_1316.jpg\n",
            "roadmark_0354.jpg\n",
            "roadmark_0782.jpg\n"
          ],
          "name": "stdout"
        },
        {
          "output_type": "stream",
          "text": [
            "\r 87%|█████████████████████████████████████████████████████████████████████▎          | 749/865 [00:39<00:05, 21.89it/s]"
          ],
          "name": "stderr"
        },
        {
          "output_type": "stream",
          "text": [
            "roadmark_0706.jpg\n",
            "roadmark_0814.jpg\n",
            "roadmark_1401.jpg\n"
          ],
          "name": "stdout"
        },
        {
          "output_type": "stream",
          "text": [
            "\r 87%|█████████████████████████████████████████████████████████████████████▌          | 752/865 [00:39<00:04, 23.00it/s]"
          ],
          "name": "stderr"
        },
        {
          "output_type": "stream",
          "text": [
            "roadmark_0435.jpg\n",
            "roadmark_0082.jpg\n",
            "roadmark_0596.jpg\n"
          ],
          "name": "stdout"
        },
        {
          "output_type": "stream",
          "text": [
            "\r 87%|█████████████████████████████████████████████████████████████████████▊          | 755/865 [00:40<00:05, 20.48it/s]"
          ],
          "name": "stderr"
        },
        {
          "output_type": "stream",
          "text": [
            "roadmark_1338.jpg\n",
            "roadmark_0572.jpg\n",
            "roadmark_0476.jpg\n"
          ],
          "name": "stdout"
        },
        {
          "output_type": "stream",
          "text": [
            "\r 88%|██████████████████████████████████████████████████████████████████████          | 758/865 [00:40<00:05, 20.58it/s]"
          ],
          "name": "stderr"
        },
        {
          "output_type": "stream",
          "text": [
            "roadmark_0644.jpg\n",
            "roadmark_0359.jpg\n",
            "roadmark_0743.jpg\n"
          ],
          "name": "stdout"
        },
        {
          "output_type": "stream",
          "text": [
            "\r 88%|██████████████████████████████████████████████████████████████████████▍         | 761/865 [00:40<00:05, 20.28it/s]"
          ],
          "name": "stderr"
        },
        {
          "output_type": "stream",
          "text": [
            "roadmark_0891.jpg\n",
            "roadmark_0896.jpg\n",
            "roadmark_0823.jpg\n"
          ],
          "name": "stdout"
        },
        {
          "output_type": "stream",
          "text": [
            "\r 88%|██████████████████████████████████████████████████████████████████████▋         | 764/865 [00:40<00:04, 21.23it/s]"
          ],
          "name": "stderr"
        },
        {
          "output_type": "stream",
          "text": [
            "roadmark_1279.jpg\n",
            "roadmark_0201.jpg\n",
            "roadmark_0183.jpg\n"
          ],
          "name": "stdout"
        },
        {
          "output_type": "stream",
          "text": [
            "\r 89%|██████████████████████████████████████████████████████████████████████▉         | 767/865 [00:40<00:04, 21.85it/s]"
          ],
          "name": "stderr"
        },
        {
          "output_type": "stream",
          "text": [
            "roadmark_1230.jpg\n",
            "roadmark_0263.jpg\n",
            "roadmark_1377.jpg\n",
            "roadmark_0463.jpg\n"
          ],
          "name": "stdout"
        },
        {
          "output_type": "stream",
          "text": [
            "\r 89%|███████████████████████████████████████████████████████████████████████▎        | 771/865 [00:40<00:04, 22.82it/s]"
          ],
          "name": "stderr"
        },
        {
          "output_type": "stream",
          "text": [
            "roadmark_0532.jpg\n",
            "roadmark_0349.jpg\n",
            "roadmark_0787.jpg\n"
          ],
          "name": "stdout"
        },
        {
          "output_type": "stream",
          "text": [
            "\r 89%|███████████████████████████████████████████████████████████████████████▌        | 774/865 [00:40<00:04, 21.38it/s]"
          ],
          "name": "stderr"
        },
        {
          "output_type": "stream",
          "text": [
            "roadmark_0425.jpg\n",
            "roadmark_0335.jpg\n",
            "roadmark_0998.jpg\n"
          ],
          "name": "stdout"
        },
        {
          "output_type": "stream",
          "text": [
            "\r 90%|███████████████████████████████████████████████████████████████████████▊        | 777/865 [00:41<00:04, 21.54it/s]"
          ],
          "name": "stderr"
        },
        {
          "output_type": "stream",
          "text": [
            "roadmark_0795.jpg\n",
            "roadmark_1069.jpg\n",
            "roadmark_1355.jpg\n"
          ],
          "name": "stdout"
        },
        {
          "output_type": "stream",
          "text": [
            "\r 90%|████████████████████████████████████████████████████████████████████████▏       | 780/865 [00:41<00:03, 21.50it/s]"
          ],
          "name": "stderr"
        },
        {
          "output_type": "stream",
          "text": [
            "roadmark_0056.jpg\n",
            "roadmark_0824.jpg\n",
            "roadmark_0428.jpg\n"
          ],
          "name": "stdout"
        },
        {
          "output_type": "stream",
          "text": [
            "\r 91%|████████████████████████████████████████████████████████████████████████▍       | 783/865 [00:41<00:03, 20.52it/s]"
          ],
          "name": "stderr"
        },
        {
          "output_type": "stream",
          "text": [
            "roadmark_0652.jpg\n",
            "roadmark_1111.jpg\n",
            "roadmark_0063.jpg\n"
          ],
          "name": "stdout"
        },
        {
          "output_type": "stream",
          "text": [
            "\r 91%|████████████████████████████████████████████████████████████████████████▋       | 786/865 [00:41<00:03, 20.91it/s]"
          ],
          "name": "stderr"
        },
        {
          "output_type": "stream",
          "text": [
            "roadmark_0673.jpg\n",
            "roadmark_1147.jpg\n",
            "roadmark_0093.jpg\n"
          ],
          "name": "stdout"
        },
        {
          "output_type": "stream",
          "text": [
            "\r 91%|████████████████████████████████████████████████████████████████████████▉       | 789/865 [00:41<00:03, 20.68it/s]"
          ],
          "name": "stderr"
        },
        {
          "output_type": "stream",
          "text": [
            "roadmark_0098.jpg\n",
            "roadmark_1237.jpg\n",
            "roadmark_1175.jpg\n",
            "roadmark_1290.jpg\n"
          ],
          "name": "stdout"
        },
        {
          "output_type": "stream",
          "text": [
            "\r 92%|█████████████████████████████████████████████████████████████████████████▎      | 793/865 [00:41<00:03, 22.90it/s]"
          ],
          "name": "stderr"
        },
        {
          "output_type": "stream",
          "text": [
            "roadmark_1246.jpg\n",
            "roadmark_0981.jpg\n",
            "roadmark_1389.jpg\n"
          ],
          "name": "stdout"
        },
        {
          "output_type": "stream",
          "text": [
            "\r 92%|█████████████████████████████████████████████████████████████████████████▌      | 796/865 [00:41<00:02, 23.83it/s]"
          ],
          "name": "stderr"
        },
        {
          "output_type": "stream",
          "text": [
            "roadmark_0692.jpg\n",
            "roadmark_0676.jpg\n",
            "roadmark_1292.jpg\n"
          ],
          "name": "stdout"
        },
        {
          "output_type": "stream",
          "text": [
            "\r 92%|█████████████████████████████████████████████████████████████████████████▉      | 799/865 [00:42<00:02, 23.06it/s]"
          ],
          "name": "stderr"
        },
        {
          "output_type": "stream",
          "text": [
            "roadmark_0346.jpg\n",
            "roadmark_0655.jpg\n",
            "roadmark_0668.jpg\n"
          ],
          "name": "stdout"
        },
        {
          "output_type": "stream",
          "text": [
            "\r 93%|██████████████████████████████████████████████████████████████████████████▏     | 802/865 [00:42<00:02, 22.70it/s]"
          ],
          "name": "stderr"
        },
        {
          "output_type": "stream",
          "text": [
            "roadmark_1311.jpg\n",
            "roadmark_1183.jpg\n",
            "roadmark_0444.jpg\n"
          ],
          "name": "stdout"
        },
        {
          "output_type": "stream",
          "text": [
            "\r 93%|██████████████████████████████████████████████████████████████████████████▍     | 805/865 [00:42<00:02, 20.52it/s]"
          ],
          "name": "stderr"
        },
        {
          "output_type": "stream",
          "text": [
            "roadmark_1128.jpg\n",
            "roadmark_1412.jpg\n",
            "roadmark_0606.jpg\n"
          ],
          "name": "stdout"
        },
        {
          "output_type": "stream",
          "text": [
            "\r 93%|██████████████████████████████████████████████████████████████████████████▋     | 808/865 [00:42<00:02, 20.54it/s]"
          ],
          "name": "stderr"
        },
        {
          "output_type": "stream",
          "text": [
            "roadmark_0299.jpg\n",
            "roadmark_0897.jpg\n",
            "roadmark_0033.jpg\n"
          ],
          "name": "stdout"
        },
        {
          "output_type": "stream",
          "text": [
            "\r 94%|███████████████████████████████████████████████████████████████████████████     | 811/865 [00:42<00:02, 18.59it/s]"
          ],
          "name": "stderr"
        },
        {
          "output_type": "stream",
          "text": [
            "roadmark_1064.jpg\n",
            "roadmark_0389.jpg\n",
            "roadmark_0728.jpg\n"
          ],
          "name": "stdout"
        },
        {
          "output_type": "stream",
          "text": [
            "\r 94%|███████████████████████████████████████████████████████████████████████████▎    | 814/865 [00:42<00:02, 20.18it/s]"
          ],
          "name": "stderr"
        },
        {
          "output_type": "stream",
          "text": [
            "roadmark_1219.jpg\n",
            "roadmark_1249.jpg\n",
            "roadmark_0603.jpg\n"
          ],
          "name": "stdout"
        },
        {
          "output_type": "stream",
          "text": [
            "\r 94%|███████████████████████████████████████████████████████████████████████████▌    | 817/865 [00:42<00:02, 20.80it/s]"
          ],
          "name": "stderr"
        },
        {
          "output_type": "stream",
          "text": [
            "roadmark_0302.jpg\n",
            "roadmark_0657.jpg\n",
            "roadmark_1263.jpg\n"
          ],
          "name": "stdout"
        },
        {
          "output_type": "stream",
          "text": [
            "\r 95%|███████████████████████████████████████████████████████████████████████████▊    | 820/865 [00:43<00:02, 21.76it/s]"
          ],
          "name": "stderr"
        },
        {
          "output_type": "stream",
          "text": [
            "roadmark_0040.jpg\n",
            "roadmark_0351.jpg\n",
            "roadmark_0030.jpg\n"
          ],
          "name": "stdout"
        },
        {
          "output_type": "stream",
          "text": [
            "\r 95%|████████████████████████████████████████████████████████████████████████████    | 823/865 [00:43<00:02, 19.19it/s]"
          ],
          "name": "stderr"
        },
        {
          "output_type": "stream",
          "text": [
            "roadmark_1327.jpg\n",
            "roadmark_0222.jpg\n",
            "roadmark_0970.jpg\n"
          ],
          "name": "stdout"
        },
        {
          "output_type": "stream",
          "text": [
            "\r 95%|████████████████████████████████████████████████████████████████████████████▍   | 826/865 [00:43<00:01, 21.20it/s]"
          ],
          "name": "stderr"
        },
        {
          "output_type": "stream",
          "text": [
            "roadmark_0994.jpg\n",
            "roadmark_0794.jpg\n",
            "roadmark_1067.jpg\n"
          ],
          "name": "stdout"
        },
        {
          "output_type": "stream",
          "text": [
            "\r 96%|████████████████████████████████████████████████████████████████████████████▋   | 829/865 [00:43<00:01, 22.07it/s]"
          ],
          "name": "stderr"
        },
        {
          "output_type": "stream",
          "text": [
            "roadmark_0459.jpg\n",
            "roadmark_0707.jpg\n",
            "roadmark_1308.jpg\n"
          ],
          "name": "stdout"
        },
        {
          "output_type": "stream",
          "text": [
            "\r 96%|████████████████████████████████████████████████████████████████████████████▉   | 832/865 [00:43<00:01, 16.55it/s]"
          ],
          "name": "stderr"
        },
        {
          "output_type": "stream",
          "text": [
            "roadmark_0473.jpg\n",
            "roadmark_1429.jpg\n",
            "roadmark_1193.jpg\n"
          ],
          "name": "stdout"
        },
        {
          "output_type": "stream",
          "text": [
            "\r 97%|█████████████████████████████████████████████████████████████████████████████▏  | 835/865 [00:43<00:01, 18.66it/s]"
          ],
          "name": "stderr"
        },
        {
          "output_type": "stream",
          "text": [
            "roadmark_0275.jpg\n",
            "roadmark_0232.jpg\n",
            "roadmark_0548.jpg\n"
          ],
          "name": "stdout"
        },
        {
          "output_type": "stream",
          "text": [
            "\r 97%|█████████████████████████████████████████████████████████████████████████████▌  | 838/865 [00:44<00:01, 19.08it/s]"
          ],
          "name": "stderr"
        },
        {
          "output_type": "stream",
          "text": [
            "roadmark_1283.jpg\n",
            "roadmark_1205.jpg\n",
            "roadmark_0899.jpg\n"
          ],
          "name": "stdout"
        },
        {
          "output_type": "stream",
          "text": [
            "\r 97%|█████████████████████████████████████████████████████████████████████████████▊  | 841/865 [00:44<00:01, 21.06it/s]"
          ],
          "name": "stderr"
        },
        {
          "output_type": "stream",
          "text": [
            "roadmark_0628.jpg\n",
            "roadmark_0595.jpg\n",
            "roadmark_0037.jpg\n"
          ],
          "name": "stdout"
        },
        {
          "output_type": "stream",
          "text": [
            "\r 98%|██████████████████████████████████████████████████████████████████████████████  | 844/865 [00:44<00:00, 21.78it/s]"
          ],
          "name": "stderr"
        },
        {
          "output_type": "stream",
          "text": [
            "roadmark_0614.jpg\n",
            "roadmark_0813.jpg\n",
            "roadmark_0379.jpg\n"
          ],
          "name": "stdout"
        },
        {
          "output_type": "stream",
          "text": [
            "\r 98%|██████████████████████████████████████████████████████████████████████████████▎ | 847/865 [00:44<00:00, 22.70it/s]"
          ],
          "name": "stderr"
        },
        {
          "output_type": "stream",
          "text": [
            "roadmark_0260.jpg\n",
            "roadmark_0961.jpg\n",
            "roadmark_0792.jpg\n"
          ],
          "name": "stdout"
        },
        {
          "output_type": "stream",
          "text": [
            "\r 98%|██████████████████████████████████████████████████████████████████████████████▌ | 850/865 [00:44<00:00, 22.16it/s]"
          ],
          "name": "stderr"
        },
        {
          "output_type": "stream",
          "text": [
            "roadmark_0557.jpg\n",
            "roadmark_0894.jpg\n",
            "roadmark_1288.jpg\n"
          ],
          "name": "stdout"
        },
        {
          "output_type": "stream",
          "text": [
            "\r 99%|██████████████████████████████████████████████████████████████████████████████▉ | 853/865 [00:44<00:00, 23.93it/s]"
          ],
          "name": "stderr"
        },
        {
          "output_type": "stream",
          "text": [
            "roadmark_0761.jpg\n",
            "roadmark_0910.jpg\n",
            "roadmark_0934.jpg\n"
          ],
          "name": "stdout"
        },
        {
          "output_type": "stream",
          "text": [
            "\r 99%|███████████████████████████████████████████████████████████████████████████████▏| 856/865 [00:44<00:00, 24.42it/s]"
          ],
          "name": "stderr"
        },
        {
          "output_type": "stream",
          "text": [
            "roadmark_1442.jpg\n",
            "roadmark_1039.jpg\n",
            "roadmark_0802.jpg\n"
          ],
          "name": "stdout"
        },
        {
          "output_type": "stream",
          "text": [
            "\r 99%|███████████████████████████████████████████████████████████████████████████████▍| 859/865 [00:44<00:00, 22.85it/s]"
          ],
          "name": "stderr"
        },
        {
          "output_type": "stream",
          "text": [
            "roadmark_0028.jpg\n",
            "roadmark_0498.jpg\n",
            "roadmark_0631.jpg\n"
          ],
          "name": "stdout"
        },
        {
          "output_type": "stream",
          "text": [
            "\r100%|███████████████████████████████████████████████████████████████████████████████▋| 862/865 [00:45<00:00, 22.56it/s]"
          ],
          "name": "stderr"
        },
        {
          "output_type": "stream",
          "text": [
            "roadmark_0526.jpg\n",
            "roadmark_0160.jpg\n",
            "roadmark_0976.jpg\n"
          ],
          "name": "stdout"
        },
        {
          "output_type": "stream",
          "text": [
            "\r100%|████████████████████████████████████████████████████████████████████████████████| 865/865 [00:45<00:00, 22.36it/s]\n"
          ],
          "name": "stderr"
        },
        {
          "output_type": "stream",
          "text": [
            "Warning: dir D:/Datasets/RoadmarkingDataset/RoadMarkingDataset\\val already exists\n",
            "Processing val data, saving preprocessed data to D:/Datasets/RoadmarkingDataset/RoadMarkingDataset\\val\n"
          ],
          "name": "stdout"
        },
        {
          "output_type": "stream",
          "text": [
            "\r  0%|                                                                                          | 0/463 [00:00<?, ?it/s]"
          ],
          "name": "stderr"
        },
        {
          "output_type": "stream",
          "text": [
            "roadmark_0422.jpg\n",
            "roadmark_1266.jpg\n"
          ],
          "name": "stdout"
        },
        {
          "output_type": "stream",
          "text": [
            "\r  0%|▎                                                                                 | 2/463 [00:00<00:41, 11.23it/s]"
          ],
          "name": "stderr"
        },
        {
          "output_type": "stream",
          "text": [
            "roadmark_0665.jpg\n",
            "roadmark_0052.jpg\n"
          ],
          "name": "stdout"
        },
        {
          "output_type": "stream",
          "text": [
            "\r  1%|▋                                                                                 | 4/463 [00:00<00:36, 12.41it/s]"
          ],
          "name": "stderr"
        },
        {
          "output_type": "stream",
          "text": [
            "roadmark_0759.jpg\n",
            "roadmark_0245.jpg\n"
          ],
          "name": "stdout"
        },
        {
          "output_type": "stream",
          "text": [
            "\r  1%|█                                                                                 | 6/463 [00:00<00:32, 13.97it/s]"
          ],
          "name": "stderr"
        },
        {
          "output_type": "stream",
          "text": [
            "roadmark_0323.jpg\n",
            "roadmark_0864.jpg\n"
          ],
          "name": "stdout"
        },
        {
          "output_type": "stream",
          "text": [
            "\r  2%|█▍                                                                                | 8/463 [00:00<00:30, 15.05it/s]"
          ],
          "name": "stderr"
        },
        {
          "output_type": "stream",
          "text": [
            "roadmark_0060.jpg\n",
            "roadmark_0843.jpg\n",
            "roadmark_0276.jpg\n"
          ],
          "name": "stdout"
        },
        {
          "output_type": "stream",
          "text": [
            "\r  2%|█▉                                                                               | 11/463 [00:00<00:35, 12.83it/s]"
          ],
          "name": "stderr"
        },
        {
          "output_type": "stream",
          "text": [
            "roadmark_0762.jpg\n",
            "roadmark_1049.jpg\n"
          ],
          "name": "stdout"
        },
        {
          "output_type": "stream",
          "text": [
            "\r  3%|██▎                                                                              | 13/463 [00:01<00:37, 12.06it/s]"
          ],
          "name": "stderr"
        },
        {
          "output_type": "stream",
          "text": [
            "roadmark_0832.jpg\n",
            "roadmark_1184.jpg\n",
            "roadmark_0242.jpg\n"
          ],
          "name": "stdout"
        },
        {
          "output_type": "stream",
          "text": [
            "\r  3%|██▊                                                                              | 16/463 [00:01<00:31, 14.06it/s]"
          ],
          "name": "stderr"
        },
        {
          "output_type": "stream",
          "text": [
            "roadmark_0906.jpg\n",
            "roadmark_1199.jpg\n",
            "roadmark_1265.jpg\n"
          ],
          "name": "stdout"
        },
        {
          "output_type": "stream",
          "text": [
            "\r  4%|███▎                                                                             | 19/463 [00:01<00:27, 15.88it/s]"
          ],
          "name": "stderr"
        },
        {
          "output_type": "stream",
          "text": [
            "roadmark_0875.jpg\n",
            "roadmark_0159.jpg\n"
          ],
          "name": "stdout"
        },
        {
          "output_type": "stream",
          "text": [
            "\r  5%|███▋                                                                             | 21/463 [00:01<00:26, 16.43it/s]"
          ],
          "name": "stderr"
        },
        {
          "output_type": "stream",
          "text": [
            "roadmark_0319.jpg\n",
            "roadmark_1216.jpg\n",
            "roadmark_0587.jpg\n"
          ],
          "name": "stdout"
        },
        {
          "output_type": "stream",
          "text": [
            "\r  5%|████▏                                                                            | 24/463 [00:01<00:24, 17.82it/s]"
          ],
          "name": "stderr"
        },
        {
          "output_type": "stream",
          "text": [
            "roadmark_1189.jpg\n",
            "roadmark_1340.jpg\n",
            "roadmark_1315.jpg\n",
            "roadmark_0005.jpg\n"
          ],
          "name": "stdout"
        },
        {
          "output_type": "stream",
          "text": [
            "\r  6%|████▉                                                                            | 28/463 [00:01<00:21, 20.22it/s]"
          ],
          "name": "stderr"
        },
        {
          "output_type": "stream",
          "text": [
            "roadmark_1162.jpg\n",
            "roadmark_0130.jpg\n",
            "roadmark_1358.jpg\n"
          ],
          "name": "stdout"
        },
        {
          "output_type": "stream",
          "text": [
            "\r  7%|█████▍                                                                           | 31/463 [00:01<00:21, 20.15it/s]"
          ],
          "name": "stderr"
        },
        {
          "output_type": "stream",
          "text": [
            "roadmark_0035.jpg\n",
            "roadmark_0031.jpg\n",
            "roadmark_0064.jpg\n"
          ],
          "name": "stdout"
        },
        {
          "output_type": "stream",
          "text": [
            "\r  7%|█████▉                                                                           | 34/463 [00:01<00:20, 20.82it/s]"
          ],
          "name": "stderr"
        },
        {
          "output_type": "stream",
          "text": [
            "roadmark_0194.jpg\n",
            "roadmark_0174.jpg\n",
            "roadmark_0713.jpg\n"
          ],
          "name": "stdout"
        },
        {
          "output_type": "stream",
          "text": [
            "\r  8%|██████▍                                                                          | 37/463 [00:02<00:20, 20.44it/s]"
          ],
          "name": "stderr"
        },
        {
          "output_type": "stream",
          "text": [
            "roadmark_0048.jpg\n",
            "roadmark_0751.jpg\n",
            "roadmark_1341.jpg\n"
          ],
          "name": "stdout"
        },
        {
          "output_type": "stream",
          "text": [
            "\r  9%|██████▉                                                                          | 40/463 [00:02<00:20, 20.47it/s]"
          ],
          "name": "stderr"
        },
        {
          "output_type": "stream",
          "text": [
            "roadmark_0411.jpg\n",
            "roadmark_0938.jpg\n",
            "roadmark_1214.jpg\n"
          ],
          "name": "stdout"
        },
        {
          "output_type": "stream",
          "text": [
            "\r  9%|███████▌                                                                         | 43/463 [00:02<00:20, 20.24it/s]"
          ],
          "name": "stderr"
        },
        {
          "output_type": "stream",
          "text": [
            "roadmark_0736.jpg\n",
            "roadmark_1299.jpg\n",
            "roadmark_0833.jpg\n"
          ],
          "name": "stdout"
        },
        {
          "output_type": "stream",
          "text": [
            "\r 10%|████████                                                                         | 46/463 [00:02<00:19, 21.47it/s]"
          ],
          "name": "stderr"
        },
        {
          "output_type": "stream",
          "text": [
            "roadmark_1232.jpg\n",
            "roadmark_0074.jpg\n",
            "roadmark_0376.jpg\n"
          ],
          "name": "stdout"
        },
        {
          "output_type": "stream",
          "text": [
            "\r 11%|████████▌                                                                        | 49/463 [00:02<00:19, 21.33it/s]"
          ],
          "name": "stderr"
        },
        {
          "output_type": "stream",
          "text": [
            "roadmark_1026.jpg\n",
            "roadmark_0142.jpg\n",
            "roadmark_0584.jpg\n"
          ],
          "name": "stdout"
        },
        {
          "output_type": "stream",
          "text": [
            "\r 11%|█████████                                                                        | 52/463 [00:02<00:26, 15.24it/s]"
          ],
          "name": "stderr"
        },
        {
          "output_type": "stream",
          "text": [
            "roadmark_1061.jpg\n",
            "roadmark_0330.jpg\n",
            "roadmark_1168.jpg\n"
          ],
          "name": "stdout"
        },
        {
          "output_type": "stream",
          "text": [
            "\r 12%|█████████▌                                                                       | 55/463 [00:03<00:23, 17.69it/s]"
          ],
          "name": "stderr"
        },
        {
          "output_type": "stream",
          "text": [
            "roadmark_0345.jpg\n",
            "roadmark_0191.jpg\n",
            "roadmark_0702.jpg\n"
          ],
          "name": "stdout"
        },
        {
          "output_type": "stream",
          "text": [
            "\r 13%|██████████▏                                                                      | 58/463 [00:03<00:21, 18.84it/s]"
          ],
          "name": "stderr"
        },
        {
          "output_type": "stream",
          "text": [
            "roadmark_0765.jpg\n",
            "roadmark_0796.jpg\n",
            "roadmark_0492.jpg\n"
          ],
          "name": "stdout"
        },
        {
          "output_type": "stream",
          "text": [
            "\r 13%|██████████▋                                                                      | 61/463 [00:03<00:20, 19.22it/s]"
          ],
          "name": "stderr"
        },
        {
          "output_type": "stream",
          "text": [
            "roadmark_0253.jpg\n",
            "roadmark_0870.jpg\n",
            "roadmark_0139.jpg\n"
          ],
          "name": "stdout"
        },
        {
          "output_type": "stream",
          "text": [
            "\r 14%|███████████▏                                                                     | 64/463 [00:03<00:23, 17.12it/s]"
          ],
          "name": "stderr"
        },
        {
          "output_type": "stream",
          "text": [
            "roadmark_0645.jpg\n",
            "roadmark_0612.jpg\n",
            "roadmark_1080.jpg\n"
          ],
          "name": "stdout"
        },
        {
          "output_type": "stream",
          "text": [
            "\r 14%|███████████▋                                                                     | 67/463 [00:03<00:21, 18.70it/s]"
          ],
          "name": "stderr"
        },
        {
          "output_type": "stream",
          "text": [
            "roadmark_0590.jpg\n",
            "roadmark_1032.jpg\n",
            "roadmark_0051.jpg\n"
          ],
          "name": "stdout"
        },
        {
          "output_type": "stream",
          "text": [
            "\r 15%|████████████▏                                                                    | 70/463 [00:03<00:20, 18.75it/s]"
          ],
          "name": "stderr"
        },
        {
          "output_type": "stream",
          "text": [
            "roadmark_1176.jpg\n",
            "roadmark_0534.jpg\n"
          ],
          "name": "stdout"
        },
        {
          "output_type": "stream",
          "text": [
            "\r 16%|████████████▌                                                                    | 72/463 [00:03<00:20, 18.62it/s]"
          ],
          "name": "stderr"
        },
        {
          "output_type": "stream",
          "text": [
            "roadmark_0747.jpg\n",
            "roadmark_1218.jpg\n",
            "roadmark_0555.jpg\n"
          ],
          "name": "stdout"
        },
        {
          "output_type": "stream",
          "text": [
            "\r 16%|█████████████                                                                    | 75/463 [00:04<00:19, 19.95it/s]"
          ],
          "name": "stderr"
        },
        {
          "output_type": "stream",
          "text": [
            "roadmark_1331.jpg\n",
            "roadmark_1310.jpg\n",
            "roadmark_1141.jpg\n"
          ],
          "name": "stdout"
        },
        {
          "output_type": "stream",
          "text": [
            "\r 17%|█████████████▋                                                                   | 78/463 [00:04<00:17, 21.51it/s]"
          ],
          "name": "stderr"
        },
        {
          "output_type": "stream",
          "text": [
            "roadmark_0937.jpg\n",
            "roadmark_1284.jpg\n",
            "roadmark_1092.jpg\n"
          ],
          "name": "stdout"
        },
        {
          "output_type": "stream",
          "text": [
            "\r 17%|██████████████▏                                                                  | 81/463 [00:04<00:18, 20.95it/s]"
          ],
          "name": "stderr"
        },
        {
          "output_type": "stream",
          "text": [
            "roadmark_0798.jpg\n",
            "roadmark_0017.jpg\n",
            "roadmark_0647.jpg\n"
          ],
          "name": "stdout"
        },
        {
          "output_type": "stream",
          "text": [
            "\r 18%|██████████████▋                                                                  | 84/463 [00:04<00:17, 21.23it/s]"
          ],
          "name": "stderr"
        },
        {
          "output_type": "stream",
          "text": [
            "roadmark_0277.jpg\n",
            "roadmark_0281.jpg\n",
            "roadmark_0946.jpg\n"
          ],
          "name": "stdout"
        },
        {
          "output_type": "stream",
          "text": [
            "\r 19%|███████████████▏                                                                 | 87/463 [00:04<00:16, 22.69it/s]"
          ],
          "name": "stderr"
        },
        {
          "output_type": "stream",
          "text": [
            "roadmark_1164.jpg\n",
            "roadmark_0987.jpg\n",
            "roadmark_0807.jpg\n"
          ],
          "name": "stdout"
        },
        {
          "output_type": "stream",
          "text": [
            "\r 19%|███████████████▋                                                                 | 90/463 [00:04<00:16, 22.97it/s]"
          ],
          "name": "stderr"
        },
        {
          "output_type": "stream",
          "text": [
            "roadmark_0392.jpg\n",
            "roadmark_1302.jpg\n",
            "roadmark_0481.jpg\n"
          ],
          "name": "stdout"
        },
        {
          "output_type": "stream",
          "text": [
            "\r 20%|████████████████▎                                                                | 93/463 [00:04<00:17, 21.20it/s]"
          ],
          "name": "stderr"
        },
        {
          "output_type": "stream",
          "text": [
            "roadmark_0863.jpg\n",
            "roadmark_0478.jpg\n",
            "roadmark_0455.jpg\n"
          ],
          "name": "stdout"
        },
        {
          "output_type": "stream",
          "text": [
            "\r 21%|████████████████▊                                                                | 96/463 [00:05<00:16, 22.02it/s]"
          ],
          "name": "stderr"
        },
        {
          "output_type": "stream",
          "text": [
            "roadmark_1156.jpg\n",
            "roadmark_0757.jpg\n",
            "roadmark_1057.jpg\n"
          ],
          "name": "stdout"
        },
        {
          "output_type": "stream",
          "text": [
            "\r 21%|█████████████████▎                                                               | 99/463 [00:05<00:15, 23.00it/s]"
          ],
          "name": "stderr"
        },
        {
          "output_type": "stream",
          "text": [
            "roadmark_0102.jpg\n",
            "roadmark_1339.jpg\n",
            "roadmark_0228.jpg\n"
          ],
          "name": "stdout"
        },
        {
          "output_type": "stream",
          "text": [
            "\r 22%|█████████████████▌                                                              | 102/463 [00:05<00:16, 22.11it/s]"
          ],
          "name": "stderr"
        },
        {
          "output_type": "stream",
          "text": [
            "roadmark_0456.jpg\n",
            "roadmark_1273.jpg\n",
            "roadmark_0308.jpg\n"
          ],
          "name": "stdout"
        },
        {
          "output_type": "stream",
          "text": [
            "\r 23%|██████████████████▏                                                             | 105/463 [00:05<00:16, 21.62it/s]"
          ],
          "name": "stderr"
        },
        {
          "output_type": "stream",
          "text": [
            "roadmark_0524.jpg\n",
            "roadmark_0265.jpg\n",
            "roadmark_0850.jpg\n"
          ],
          "name": "stdout"
        },
        {
          "output_type": "stream",
          "text": [
            "\r 23%|██████████████████▋                                                             | 108/463 [00:05<00:17, 20.17it/s]"
          ],
          "name": "stderr"
        },
        {
          "output_type": "stream",
          "text": [
            "roadmark_0980.jpg\n",
            "roadmark_0458.jpg\n",
            "roadmark_0068.jpg\n"
          ],
          "name": "stdout"
        },
        {
          "output_type": "stream",
          "text": [
            "\r 24%|███████████████████▏                                                            | 111/463 [00:05<00:18, 18.94it/s]"
          ],
          "name": "stderr"
        },
        {
          "output_type": "stream",
          "text": [
            "roadmark_0069.jpg\n",
            "roadmark_0329.jpg\n"
          ],
          "name": "stdout"
        },
        {
          "output_type": "stream",
          "text": [
            "\r 24%|███████████████████▌                                                            | 113/463 [00:05<00:19, 18.35it/s]"
          ],
          "name": "stderr"
        },
        {
          "output_type": "stream",
          "text": [
            "roadmark_1103.jpg\n",
            "roadmark_0288.jpg\n",
            "roadmark_0106.jpg\n"
          ],
          "name": "stdout"
        },
        {
          "output_type": "stream",
          "text": [
            "\r 25%|████████████████████                                                            | 116/463 [00:06<00:17, 19.63it/s]"
          ],
          "name": "stderr"
        },
        {
          "output_type": "stream",
          "text": [
            "roadmark_0065.jpg\n",
            "roadmark_0318.jpg\n",
            "roadmark_0904.jpg\n"
          ],
          "name": "stdout"
        },
        {
          "output_type": "stream",
          "text": [
            "\r 26%|████████████████████▌                                                           | 119/463 [00:06<00:17, 20.18it/s]"
          ],
          "name": "stderr"
        },
        {
          "output_type": "stream",
          "text": [
            "roadmark_0580.jpg\n",
            "roadmark_1167.jpg\n",
            "roadmark_0432.jpg\n"
          ],
          "name": "stdout"
        },
        {
          "output_type": "stream",
          "text": [
            "\r 26%|█████████████████████                                                           | 122/463 [00:06<00:25, 13.24it/s]"
          ],
          "name": "stderr"
        },
        {
          "output_type": "stream",
          "text": [
            "roadmark_1337.jpg\n",
            "roadmark_0397.jpg\n",
            "roadmark_0956.jpg\n"
          ],
          "name": "stdout"
        },
        {
          "output_type": "stream",
          "text": [
            "\r 27%|█████████████████████▌                                                          | 125/463 [00:06<00:22, 14.84it/s]"
          ],
          "name": "stderr"
        },
        {
          "output_type": "stream",
          "text": [
            "roadmark_1382.jpg\n",
            "roadmark_0309.jpg\n"
          ],
          "name": "stdout"
        },
        {
          "output_type": "stream",
          "text": [
            "\r 27%|█████████████████████▉                                                          | 127/463 [00:06<00:21, 15.66it/s]"
          ],
          "name": "stderr"
        },
        {
          "output_type": "stream",
          "text": [
            "roadmark_1020.jpg\n",
            "roadmark_0522.jpg\n",
            "roadmark_0851.jpg\n"
          ],
          "name": "stdout"
        },
        {
          "output_type": "stream",
          "text": [
            "\r 28%|██████████████████████▍                                                         | 130/463 [00:06<00:18, 17.54it/s]"
          ],
          "name": "stderr"
        },
        {
          "output_type": "stream",
          "text": [
            "roadmark_0928.jpg\n",
            "roadmark_1406.jpg\n",
            "roadmark_0687.jpg\n"
          ],
          "name": "stdout"
        },
        {
          "output_type": "stream",
          "text": [
            "\r 29%|██████████████████████▉                                                         | 133/463 [00:07<00:17, 18.38it/s]"
          ],
          "name": "stderr"
        },
        {
          "output_type": "stream",
          "text": [
            "roadmark_0362.jpg\n",
            "roadmark_0251.jpg\n",
            "roadmark_1267.jpg\n"
          ],
          "name": "stdout"
        },
        {
          "output_type": "stream",
          "text": [
            "\r 29%|███████████████████████▍                                                        | 136/463 [00:07<00:16, 19.70it/s]"
          ],
          "name": "stderr"
        },
        {
          "output_type": "stream",
          "text": [
            "roadmark_1416.jpg\n",
            "roadmark_1102.jpg\n",
            "roadmark_0388.jpg\n"
          ],
          "name": "stdout"
        },
        {
          "output_type": "stream",
          "text": [
            "\r 30%|████████████████████████                                                        | 139/463 [00:07<00:15, 20.35it/s]"
          ],
          "name": "stderr"
        },
        {
          "output_type": "stream",
          "text": [
            "roadmark_1285.jpg\n",
            "roadmark_0550.jpg\n",
            "roadmark_0650.jpg\n"
          ],
          "name": "stdout"
        },
        {
          "output_type": "stream",
          "text": [
            "\r 31%|████████████████████████▌                                                       | 142/463 [00:07<00:14, 21.61it/s]"
          ],
          "name": "stderr"
        },
        {
          "output_type": "stream",
          "text": [
            "roadmark_0638.jpg\n",
            "roadmark_0399.jpg\n",
            "roadmark_0754.jpg\n"
          ],
          "name": "stdout"
        },
        {
          "output_type": "stream",
          "text": [
            "\r 31%|█████████████████████████                                                       | 145/463 [00:07<00:16, 19.12it/s]"
          ],
          "name": "stderr"
        },
        {
          "output_type": "stream",
          "text": [
            "roadmark_0636.jpg\n",
            "roadmark_0257.jpg\n",
            "roadmark_0739.jpg\n"
          ],
          "name": "stdout"
        },
        {
          "output_type": "stream",
          "text": [
            "\r 32%|█████████████████████████▌                                                      | 148/463 [00:07<00:16, 19.12it/s]"
          ],
          "name": "stderr"
        },
        {
          "output_type": "stream",
          "text": [
            "roadmark_0969.jpg\n",
            "roadmark_0003.jpg\n",
            "roadmark_0857.jpg\n"
          ],
          "name": "stdout"
        },
        {
          "output_type": "stream",
          "text": [
            "\r 33%|██████████████████████████                                                      | 151/463 [00:07<00:15, 20.70it/s]"
          ],
          "name": "stderr"
        },
        {
          "output_type": "stream",
          "text": [
            "roadmark_0553.jpg\n",
            "roadmark_0414.jpg\n",
            "roadmark_1256.jpg\n"
          ],
          "name": "stdout"
        },
        {
          "output_type": "stream",
          "text": [
            "\r 33%|██████████████████████████▌                                                     | 154/463 [00:08<00:14, 21.88it/s]"
          ],
          "name": "stderr"
        },
        {
          "output_type": "stream",
          "text": [
            "roadmark_0944.jpg\n",
            "roadmark_0486.jpg\n",
            "roadmark_1357.jpg\n"
          ],
          "name": "stdout"
        },
        {
          "output_type": "stream",
          "text": [
            "\r 34%|███████████████████████████▏                                                    | 157/463 [00:08<00:14, 21.24it/s]"
          ],
          "name": "stderr"
        },
        {
          "output_type": "stream",
          "text": [
            "roadmark_0445.jpg\n",
            "roadmark_0827.jpg\n",
            "roadmark_1435.jpg\n"
          ],
          "name": "stdout"
        },
        {
          "output_type": "stream",
          "text": [
            "\r 35%|███████████████████████████▋                                                    | 160/463 [00:08<00:15, 20.10it/s]"
          ],
          "name": "stderr"
        },
        {
          "output_type": "stream",
          "text": [
            "roadmark_0203.jpg\n",
            "roadmark_0912.jpg\n",
            "roadmark_0315.jpg\n"
          ],
          "name": "stdout"
        },
        {
          "output_type": "stream",
          "text": [
            "\r 35%|████████████████████████████▏                                                   | 163/463 [00:08<00:14, 20.06it/s]"
          ],
          "name": "stderr"
        },
        {
          "output_type": "stream",
          "text": [
            "roadmark_0124.jpg\n",
            "roadmark_0799.jpg\n",
            "roadmark_0061.jpg\n"
          ],
          "name": "stdout"
        },
        {
          "output_type": "stream",
          "text": [
            "\r 36%|████████████████████████████▋                                                   | 166/463 [00:08<00:13, 21.74it/s]"
          ],
          "name": "stderr"
        },
        {
          "output_type": "stream",
          "text": [
            "roadmark_0274.jpg\n",
            "roadmark_0310.jpg\n",
            "roadmark_0171.jpg\n"
          ],
          "name": "stdout"
        },
        {
          "output_type": "stream",
          "text": [
            "\r 37%|█████████████████████████████▏                                                  | 169/463 [00:08<00:13, 21.51it/s]"
          ],
          "name": "stderr"
        },
        {
          "output_type": "stream",
          "text": [
            "roadmark_1161.jpg\n",
            "roadmark_0004.jpg\n",
            "roadmark_1134.jpg\n"
          ],
          "name": "stdout"
        },
        {
          "output_type": "stream",
          "text": [
            "\r 37%|█████████████████████████████▋                                                  | 172/463 [00:08<00:12, 22.56it/s]"
          ],
          "name": "stderr"
        },
        {
          "output_type": "stream",
          "text": [
            "roadmark_0919.jpg\n",
            "roadmark_0573.jpg\n",
            "roadmark_0226.jpg\n"
          ],
          "name": "stdout"
        },
        {
          "output_type": "stream",
          "text": [
            "\r 38%|██████████████████████████████▏                                                 | 175/463 [00:09<00:12, 22.16it/s]"
          ],
          "name": "stderr"
        },
        {
          "output_type": "stream",
          "text": [
            "roadmark_1136.jpg\n",
            "roadmark_0939.jpg\n",
            "roadmark_1365.jpg\n",
            "roadmark_0663.jpg\n"
          ],
          "name": "stdout"
        },
        {
          "output_type": "stream",
          "text": [
            "\r 39%|██████████████████████████████▉                                                 | 179/463 [00:09<00:12, 22.86it/s]"
          ],
          "name": "stderr"
        },
        {
          "output_type": "stream",
          "text": [
            "roadmark_1336.jpg\n",
            "roadmark_1361.jpg\n",
            "roadmark_0711.jpg\n"
          ],
          "name": "stdout"
        },
        {
          "output_type": "stream",
          "text": [
            "\r 39%|███████████████████████████████▍                                                | 182/463 [00:09<00:12, 23.09it/s]"
          ],
          "name": "stderr"
        },
        {
          "output_type": "stream",
          "text": [
            "roadmark_0077.jpg\n",
            "roadmark_1295.jpg\n",
            "roadmark_0951.jpg\n",
            "roadmark_0989.jpg\n"
          ],
          "name": "stdout"
        },
        {
          "output_type": "stream",
          "text": [
            "\r 40%|████████████████████████████████▏                                               | 186/463 [00:09<00:11, 24.82it/s]"
          ],
          "name": "stderr"
        },
        {
          "output_type": "stream",
          "text": [
            "roadmark_0929.jpg\n",
            "roadmark_1146.jpg\n",
            "roadmark_0513.jpg\n"
          ],
          "name": "stdout"
        },
        {
          "output_type": "stream",
          "text": [
            "\r 41%|████████████████████████████████▋                                               | 189/463 [00:09<00:10, 26.04it/s]"
          ],
          "name": "stderr"
        },
        {
          "output_type": "stream",
          "text": [
            "roadmark_0236.jpg\n",
            "roadmark_0382.jpg\n",
            "roadmark_1200.jpg\n"
          ],
          "name": "stdout"
        },
        {
          "output_type": "stream",
          "text": [
            "\r 41%|█████████████████████████████████▏                                              | 192/463 [00:09<00:10, 24.96it/s]"
          ],
          "name": "stderr"
        },
        {
          "output_type": "stream",
          "text": [
            "roadmark_0353.jpg\n",
            "roadmark_0986.jpg\n",
            "roadmark_1276.jpg\n"
          ],
          "name": "stdout"
        },
        {
          "output_type": "stream",
          "text": [
            "\r 42%|█████████████████████████████████▋                                              | 195/463 [00:09<00:10, 25.10it/s]"
          ],
          "name": "stderr"
        },
        {
          "output_type": "stream",
          "text": [
            "roadmark_0331.jpg\n",
            "roadmark_1158.jpg\n",
            "roadmark_1140.jpg\n"
          ],
          "name": "stdout"
        },
        {
          "output_type": "stream",
          "text": [
            "\r 43%|██████████████████████████████████▏                                             | 198/463 [00:09<00:10, 25.07it/s]"
          ],
          "name": "stderr"
        },
        {
          "output_type": "stream",
          "text": [
            "roadmark_0516.jpg\n",
            "roadmark_0579.jpg\n",
            "roadmark_1269.jpg\n"
          ],
          "name": "stdout"
        },
        {
          "output_type": "stream",
          "text": [
            "\r 43%|██████████████████████████████████▋                                             | 201/463 [00:10<00:10, 25.25it/s]"
          ],
          "name": "stderr"
        },
        {
          "output_type": "stream",
          "text": [
            "roadmark_1155.jpg\n",
            "roadmark_0992.jpg\n",
            "roadmark_0280.jpg\n"
          ],
          "name": "stdout"
        },
        {
          "output_type": "stream",
          "text": [
            "\r 44%|███████████████████████████████████▏                                            | 204/463 [00:10<00:10, 25.69it/s]"
          ],
          "name": "stderr"
        },
        {
          "output_type": "stream",
          "text": [
            "roadmark_0032.jpg\n",
            "roadmark_1238.jpg\n",
            "roadmark_0180.jpg\n"
          ],
          "name": "stdout"
        },
        {
          "output_type": "stream",
          "text": [
            "\r 45%|███████████████████████████████████▊                                            | 207/463 [00:10<00:11, 22.06it/s]"
          ],
          "name": "stderr"
        },
        {
          "output_type": "stream",
          "text": [
            "roadmark_0571.jpg\n",
            "roadmark_0134.jpg\n",
            "roadmark_0605.jpg\n"
          ],
          "name": "stdout"
        },
        {
          "output_type": "stream",
          "text": [
            "\r 45%|████████████████████████████████████▎                                           | 210/463 [00:10<00:11, 21.40it/s]"
          ],
          "name": "stderr"
        },
        {
          "output_type": "stream",
          "text": [
            "roadmark_0763.jpg\n",
            "roadmark_1440.jpg\n",
            "roadmark_1028.jpg\n"
          ],
          "name": "stdout"
        },
        {
          "output_type": "stream",
          "text": [
            "\r 46%|████████████████████████████████████▊                                           | 213/463 [00:10<00:11, 21.88it/s]"
          ],
          "name": "stderr"
        },
        {
          "output_type": "stream",
          "text": [
            "roadmark_1048.jpg\n",
            "roadmark_0173.jpg\n",
            "roadmark_1047.jpg\n"
          ],
          "name": "stdout"
        },
        {
          "output_type": "stream",
          "text": [
            "\r 47%|█████████████████████████████████████▎                                          | 216/463 [00:10<00:12, 20.29it/s]"
          ],
          "name": "stderr"
        },
        {
          "output_type": "stream",
          "text": [
            "roadmark_0249.jpg\n",
            "roadmark_1099.jpg\n",
            "roadmark_0259.jpg\n"
          ],
          "name": "stdout"
        },
        {
          "output_type": "stream",
          "text": [
            "\r 47%|█████████████████████████████████████▊                                          | 219/463 [00:11<00:13, 17.77it/s]"
          ],
          "name": "stderr"
        },
        {
          "output_type": "stream",
          "text": [
            "roadmark_0902.jpg\n",
            "roadmark_1287.jpg\n",
            "roadmark_1306.jpg\n"
          ],
          "name": "stdout"
        },
        {
          "output_type": "stream",
          "text": [
            "\r 48%|██████████████████████████████████████▎                                         | 222/463 [00:11<00:12, 19.69it/s]"
          ],
          "name": "stderr"
        },
        {
          "output_type": "stream",
          "text": [
            "roadmark_0202.jpg\n",
            "roadmark_1330.jpg\n",
            "roadmark_1006.jpg\n"
          ],
          "name": "stdout"
        },
        {
          "output_type": "stream",
          "text": [
            "\r 49%|██████████████████████████████████████▉                                         | 225/463 [00:11<00:11, 20.10it/s]"
          ],
          "name": "stderr"
        },
        {
          "output_type": "stream",
          "text": [
            "roadmark_0442.jpg\n",
            "roadmark_0151.jpg\n",
            "roadmark_0372.jpg\n"
          ],
          "name": "stdout"
        },
        {
          "output_type": "stream",
          "text": [
            "\r 49%|███████████████████████████████████████▍                                        | 228/463 [00:11<00:11, 20.83it/s]"
          ],
          "name": "stderr"
        },
        {
          "output_type": "stream",
          "text": [
            "roadmark_0034.jpg\n",
            "roadmark_0293.jpg\n",
            "roadmark_1245.jpg\n"
          ],
          "name": "stdout"
        },
        {
          "output_type": "stream",
          "text": [
            "\r 50%|███████████████████████████████████████▉                                        | 231/463 [00:11<00:13, 17.75it/s]"
          ],
          "name": "stderr"
        },
        {
          "output_type": "stream",
          "text": [
            "roadmark_0958.jpg\n",
            "roadmark_1018.jpg\n"
          ],
          "name": "stdout"
        },
        {
          "output_type": "stream",
          "text": [
            "\r 50%|████████████████████████████████████████▎                                       | 233/463 [00:11<00:12, 18.17it/s]"
          ],
          "name": "stderr"
        },
        {
          "output_type": "stream",
          "text": [
            "roadmark_1093.jpg\n",
            "roadmark_1198.jpg\n"
          ],
          "name": "stdout"
        },
        {
          "output_type": "stream",
          "text": [
            "\r 51%|████████████████████████████████████████▌                                       | 235/463 [00:11<00:12, 18.53it/s]"
          ],
          "name": "stderr"
        },
        {
          "output_type": "stream",
          "text": [
            "roadmark_0566.jpg\n",
            "roadmark_0475.jpg\n"
          ],
          "name": "stdout"
        },
        {
          "output_type": "stream",
          "text": [
            "\r 51%|████████████████████████████████████████▉                                       | 237/463 [00:12<00:14, 15.26it/s]"
          ],
          "name": "stderr"
        },
        {
          "output_type": "stream",
          "text": [
            "roadmark_0542.jpg\n",
            "roadmark_0132.jpg\n"
          ],
          "name": "stdout"
        },
        {
          "output_type": "stream",
          "text": [
            "\r 52%|█████████████████████████████████████████▎                                      | 239/463 [00:12<00:15, 14.68it/s]"
          ],
          "name": "stderr"
        },
        {
          "output_type": "stream",
          "text": [
            "roadmark_0122.jpg\n",
            "roadmark_1063.jpg\n",
            "roadmark_1300.jpg\n"
          ],
          "name": "stdout"
        },
        {
          "output_type": "stream",
          "text": [
            "\r 52%|█████████████████████████████████████████▊                                      | 242/463 [00:12<00:13, 16.13it/s]"
          ],
          "name": "stderr"
        },
        {
          "output_type": "stream",
          "text": [
            "roadmark_0419.jpg\n",
            "roadmark_0564.jpg\n"
          ],
          "name": "stdout"
        },
        {
          "output_type": "stream",
          "text": [
            "\r 53%|██████████████████████████████████████████▏                                     | 244/463 [00:12<00:12, 16.95it/s]"
          ],
          "name": "stderr"
        },
        {
          "output_type": "stream",
          "text": [
            "roadmark_1062.jpg\n",
            "roadmark_1100.jpg\n",
            "roadmark_0748.jpg\n"
          ],
          "name": "stdout"
        },
        {
          "output_type": "stream",
          "text": [
            "\r 53%|██████████████████████████████████████████▋                                     | 247/463 [00:12<00:11, 18.32it/s]"
          ],
          "name": "stderr"
        },
        {
          "output_type": "stream",
          "text": [
            "roadmark_0849.jpg\n",
            "roadmark_0018.jpg\n",
            "roadmark_0255.jpg\n"
          ],
          "name": "stdout"
        },
        {
          "output_type": "stream",
          "text": [
            "\r 54%|███████████████████████████████████████████▏                                    | 250/463 [00:12<00:11, 18.62it/s]"
          ],
          "name": "stderr"
        },
        {
          "output_type": "stream",
          "text": [
            "roadmark_0294.jpg\n",
            "roadmark_0528.jpg\n"
          ],
          "name": "stdout"
        },
        {
          "output_type": "stream",
          "text": [
            "\r 54%|███████████████████████████████████████████▌                                    | 252/463 [00:12<00:11, 17.80it/s]"
          ],
          "name": "stderr"
        },
        {
          "output_type": "stream",
          "text": [
            "roadmark_1370.jpg\n",
            "roadmark_0835.jpg\n",
            "roadmark_0695.jpg\n"
          ],
          "name": "stdout"
        },
        {
          "output_type": "stream",
          "text": [
            "\r 55%|████████████████████████████████████████████                                    | 255/463 [00:13<00:11, 18.48it/s]"
          ],
          "name": "stderr"
        },
        {
          "output_type": "stream",
          "text": [
            "roadmark_1394.jpg\n",
            "roadmark_0560.jpg\n"
          ],
          "name": "stdout"
        },
        {
          "output_type": "stream",
          "text": [
            "\r 56%|████████████████████████████████████████████▍                                   | 257/463 [00:13<00:11, 17.80it/s]"
          ],
          "name": "stderr"
        },
        {
          "output_type": "stream",
          "text": [
            "roadmark_1334.jpg\n",
            "roadmark_0554.jpg\n"
          ],
          "name": "stdout"
        },
        {
          "output_type": "stream",
          "text": [
            "\r 56%|████████████████████████████████████████████▊                                   | 259/463 [00:13<00:12, 16.75it/s]"
          ],
          "name": "stderr"
        },
        {
          "output_type": "stream",
          "text": [
            "roadmark_1217.jpg\n",
            "roadmark_1261.jpg\n",
            "roadmark_1278.jpg\n"
          ],
          "name": "stdout"
        },
        {
          "output_type": "stream",
          "text": [
            "\r 57%|█████████████████████████████████████████████▎                                  | 262/463 [00:13<00:11, 17.86it/s]"
          ],
          "name": "stderr"
        },
        {
          "output_type": "stream",
          "text": [
            "roadmark_0398.jpg\n",
            "roadmark_0948.jpg\n",
            "roadmark_0415.jpg\n"
          ],
          "name": "stdout"
        },
        {
          "output_type": "stream",
          "text": [
            "\r 57%|█████████████████████████████████████████████▊                                  | 265/463 [00:13<00:10, 18.91it/s]"
          ],
          "name": "stderr"
        },
        {
          "output_type": "stream",
          "text": [
            "roadmark_0076.jpg\n",
            "roadmark_0816.jpg\n",
            "roadmark_0950.jpg\n"
          ],
          "name": "stdout"
        },
        {
          "output_type": "stream",
          "text": [
            "\r 58%|██████████████████████████████████████████████▎                                 | 268/463 [00:13<00:10, 18.23it/s]"
          ],
          "name": "stderr"
        },
        {
          "output_type": "stream",
          "text": [
            "roadmark_1010.jpg\n",
            "roadmark_1056.jpg\n"
          ],
          "name": "stdout"
        },
        {
          "output_type": "stream",
          "text": [
            "\r 58%|██████████████████████████████████████████████▋                                 | 270/463 [00:13<00:11, 17.41it/s]"
          ],
          "name": "stderr"
        },
        {
          "output_type": "stream",
          "text": [
            "roadmark_1079.jpg\n",
            "roadmark_0942.jpg\n"
          ],
          "name": "stdout"
        },
        {
          "output_type": "stream",
          "text": [
            "\r 59%|██████████████████████████████████████████████▉                                 | 272/463 [00:13<00:11, 16.96it/s]"
          ],
          "name": "stderr"
        },
        {
          "output_type": "stream",
          "text": [
            "roadmark_0515.jpg\n",
            "roadmark_1131.jpg\n",
            "roadmark_0108.jpg\n"
          ],
          "name": "stdout"
        },
        {
          "output_type": "stream",
          "text": [
            "\r 59%|███████████████████████████████████████████████▌                                | 275/463 [00:14<00:10, 18.10it/s]"
          ],
          "name": "stderr"
        },
        {
          "output_type": "stream",
          "text": [
            "roadmark_0120.jpg\n",
            "roadmark_0049.jpg\n",
            "roadmark_0339.jpg\n"
          ],
          "name": "stdout"
        },
        {
          "output_type": "stream",
          "text": [
            "\r 60%|████████████████████████████████████████████████                                | 278/463 [00:14<00:09, 19.20it/s]"
          ],
          "name": "stderr"
        },
        {
          "output_type": "stream",
          "text": [
            "roadmark_0484.jpg\n",
            "roadmark_0651.jpg\n"
          ],
          "name": "stdout"
        },
        {
          "output_type": "stream",
          "text": [
            "\r 60%|████████████████████████████████████████████████▍                               | 280/463 [00:14<00:09, 19.27it/s]"
          ],
          "name": "stderr"
        },
        {
          "output_type": "stream",
          "text": [
            "roadmark_0477.jpg\n",
            "roadmark_0815.jpg\n",
            "roadmark_1235.jpg\n"
          ],
          "name": "stdout"
        },
        {
          "output_type": "stream",
          "text": [
            "\r 61%|████████████████████████████████████████████████▉                               | 283/463 [00:14<00:08, 20.44it/s]"
          ],
          "name": "stderr"
        },
        {
          "output_type": "stream",
          "text": [
            "roadmark_1022.jpg\n",
            "roadmark_0380.jpg\n",
            "roadmark_0409.jpg\n"
          ],
          "name": "stdout"
        },
        {
          "output_type": "stream",
          "text": [
            "\r 62%|█████████████████████████████████████████████████▍                              | 286/463 [00:14<00:10, 16.33it/s]"
          ],
          "name": "stderr"
        },
        {
          "output_type": "stream",
          "text": [
            "roadmark_1095.jpg\n",
            "roadmark_0126.jpg\n",
            "roadmark_0096.jpg\n"
          ],
          "name": "stdout"
        },
        {
          "output_type": "stream",
          "text": [
            "\r 62%|█████████████████████████████████████████████████▉                              | 289/463 [00:14<00:10, 17.14it/s]"
          ],
          "name": "stderr"
        },
        {
          "output_type": "stream",
          "text": [
            "roadmark_0965.jpg\n",
            "roadmark_0146.jpg\n",
            "roadmark_1403.jpg\n"
          ],
          "name": "stdout"
        },
        {
          "output_type": "stream",
          "text": [
            "\r 63%|██████████████████████████████████████████████████▍                             | 292/463 [00:15<00:09, 18.41it/s]"
          ],
          "name": "stderr"
        },
        {
          "output_type": "stream",
          "text": [
            "roadmark_0729.jpg\n",
            "roadmark_0744.jpg\n",
            "roadmark_0087.jpg\n"
          ],
          "name": "stdout"
        },
        {
          "output_type": "stream",
          "text": [
            "\r 64%|██████████████████████████████████████████████████▉                             | 295/463 [00:15<00:08, 19.49it/s]"
          ],
          "name": "stderr"
        },
        {
          "output_type": "stream",
          "text": [
            "roadmark_0155.jpg\n",
            "roadmark_1109.jpg\n",
            "roadmark_1346.jpg\n"
          ],
          "name": "stdout"
        },
        {
          "output_type": "stream",
          "text": [
            "\r 64%|███████████████████████████████████████████████████▍                            | 298/463 [00:15<00:10, 16.15it/s]"
          ],
          "name": "stderr"
        },
        {
          "output_type": "stream",
          "text": [
            "roadmark_0625.jpg\n",
            "roadmark_0602.jpg\n"
          ],
          "name": "stdout"
        },
        {
          "output_type": "stream",
          "text": [
            "\r 65%|███████████████████████████████████████████████████▊                            | 300/463 [00:15<00:09, 16.31it/s]"
          ],
          "name": "stderr"
        },
        {
          "output_type": "stream",
          "text": [
            "roadmark_0669.jpg\n",
            "roadmark_0325.jpg\n",
            "roadmark_1392.jpg\n"
          ],
          "name": "stdout"
        },
        {
          "output_type": "stream",
          "text": [
            "\r 65%|████████████████████████████████████████████████████▎                           | 303/463 [00:15<00:08, 18.03it/s]"
          ],
          "name": "stderr"
        },
        {
          "output_type": "stream",
          "text": [
            "roadmark_0416.jpg\n",
            "roadmark_0095.jpg\n"
          ],
          "name": "stdout"
        },
        {
          "output_type": "stream",
          "text": [
            "\r 66%|████████████████████████████████████████████████████▋                           | 305/463 [00:15<00:09, 17.10it/s]"
          ],
          "name": "stderr"
        },
        {
          "output_type": "stream",
          "text": [
            "roadmark_0008.jpg\n",
            "roadmark_0872.jpg\n",
            "roadmark_0218.jpg\n"
          ],
          "name": "stdout"
        },
        {
          "output_type": "stream",
          "text": [
            "\r 67%|█████████████████████████████████████████████████████▏                          | 308/463 [00:15<00:08, 18.54it/s]"
          ],
          "name": "stderr"
        },
        {
          "output_type": "stream",
          "text": [
            "roadmark_1433.jpg\n",
            "roadmark_0140.jpg\n"
          ],
          "name": "stdout"
        },
        {
          "output_type": "stream",
          "text": [
            "\r 67%|█████████████████████████████████████████████████████▌                          | 310/463 [00:16<00:09, 16.56it/s]"
          ],
          "name": "stderr"
        },
        {
          "output_type": "stream",
          "text": [
            "roadmark_0630.jpg\n",
            "roadmark_0518.jpg\n"
          ],
          "name": "stdout"
        },
        {
          "output_type": "stream",
          "text": [
            "\r 67%|█████████████████████████████████████████████████████▉                          | 312/463 [00:16<00:11, 13.26it/s]"
          ],
          "name": "stderr"
        },
        {
          "output_type": "stream",
          "text": [
            "roadmark_0854.jpg\n",
            "roadmark_1260.jpg\n",
            "roadmark_1395.jpg\n"
          ],
          "name": "stdout"
        },
        {
          "output_type": "stream",
          "text": [
            "\r 68%|██████████████████████████████████████████████████████▍                         | 315/463 [00:16<00:09, 15.39it/s]"
          ],
          "name": "stderr"
        },
        {
          "output_type": "stream",
          "text": [
            "roadmark_1443.jpg\n",
            "roadmark_0617.jpg\n",
            "roadmark_1291.jpg\n"
          ],
          "name": "stdout"
        },
        {
          "output_type": "stream",
          "text": [
            "\r 69%|██████████████████████████████████████████████████████▉                         | 318/463 [00:16<00:08, 17.34it/s]"
          ],
          "name": "stderr"
        },
        {
          "output_type": "stream",
          "text": [
            "roadmark_1041.jpg\n",
            "roadmark_0698.jpg\n",
            "roadmark_0533.jpg\n"
          ],
          "name": "stdout"
        },
        {
          "output_type": "stream",
          "text": [
            "\r 69%|███████████████████████████████████████████████████████▍                        | 321/463 [00:16<00:07, 18.26it/s]"
          ],
          "name": "stderr"
        },
        {
          "output_type": "stream",
          "text": [
            "roadmark_0041.jpg\n",
            "roadmark_0258.jpg\n",
            "roadmark_0659.jpg\n"
          ],
          "name": "stdout"
        },
        {
          "output_type": "stream",
          "text": [
            "\r 70%|███████████████████████████████████████████████████████▉                        | 324/463 [00:16<00:09, 15.01it/s]"
          ],
          "name": "stderr"
        },
        {
          "output_type": "stream",
          "text": [
            "roadmark_0223.jpg\n",
            "roadmark_0949.jpg\n"
          ],
          "name": "stdout"
        },
        {
          "output_type": "stream",
          "text": [
            "\r 70%|████████████████████████████████████████████████████████▎                       | 326/463 [00:17<00:09, 14.04it/s]"
          ],
          "name": "stderr"
        },
        {
          "output_type": "stream",
          "text": [
            "roadmark_0483.jpg\n",
            "roadmark_1191.jpg\n"
          ],
          "name": "stdout"
        },
        {
          "output_type": "stream",
          "text": [
            "\r 71%|████████████████████████████████████████████████████████▋                       | 328/463 [00:17<00:09, 14.09it/s]"
          ],
          "name": "stderr"
        },
        {
          "output_type": "stream",
          "text": [
            "roadmark_0525.jpg\n",
            "roadmark_0131.jpg\n"
          ],
          "name": "stdout"
        },
        {
          "output_type": "stream",
          "text": [
            "\r 71%|█████████████████████████████████████████████████████████                       | 330/463 [00:17<00:09, 14.33it/s]"
          ],
          "name": "stderr"
        },
        {
          "output_type": "stream",
          "text": [
            "roadmark_1008.jpg\n",
            "roadmark_0381.jpg\n"
          ],
          "name": "stdout"
        },
        {
          "output_type": "stream",
          "text": [
            "\r 72%|█████████████████████████████████████████████████████████▎                      | 332/463 [00:17<00:09, 13.70it/s]"
          ],
          "name": "stderr"
        },
        {
          "output_type": "stream",
          "text": [
            "roadmark_0931.jpg\n",
            "roadmark_0671.jpg\n"
          ],
          "name": "stdout"
        },
        {
          "output_type": "stream",
          "text": [
            "\r 72%|█████████████████████████████████████████████████████████▋                      | 334/463 [00:17<00:09, 14.23it/s]"
          ],
          "name": "stderr"
        },
        {
          "output_type": "stream",
          "text": [
            "roadmark_1434.jpg\n",
            "roadmark_0861.jpg\n"
          ],
          "name": "stdout"
        },
        {
          "output_type": "stream",
          "text": [
            "\r 73%|██████████████████████████████████████████████████████████                      | 336/463 [00:17<00:08, 14.31it/s]"
          ],
          "name": "stderr"
        },
        {
          "output_type": "stream",
          "text": [
            "roadmark_1179.jpg\n",
            "roadmark_0568.jpg\n"
          ],
          "name": "stdout"
        },
        {
          "output_type": "stream",
          "text": [
            "\r 73%|██████████████████████████████████████████████████████████▍                     | 338/463 [00:17<00:08, 14.65it/s]"
          ],
          "name": "stderr"
        },
        {
          "output_type": "stream",
          "text": [
            "roadmark_1414.jpg\n",
            "roadmark_0073.jpg\n"
          ],
          "name": "stdout"
        },
        {
          "output_type": "stream",
          "text": [
            "\r 73%|██████████████████████████████████████████████████████████▋                     | 340/463 [00:18<00:08, 15.31it/s]"
          ],
          "name": "stderr"
        },
        {
          "output_type": "stream",
          "text": [
            "roadmark_1160.jpg\n",
            "roadmark_0149.jpg\n"
          ],
          "name": "stdout"
        },
        {
          "output_type": "stream",
          "text": [
            "\r 74%|███████████████████████████████████████████████████████████                     | 342/463 [00:18<00:07, 16.39it/s]"
          ],
          "name": "stderr"
        },
        {
          "output_type": "stream",
          "text": [
            "roadmark_1151.jpg\n",
            "roadmark_0375.jpg\n",
            "roadmark_1224.jpg\n"
          ],
          "name": "stdout"
        },
        {
          "output_type": "stream",
          "text": [
            "\r 75%|███████████████████████████████████████████████████████████▌                    | 345/463 [00:18<00:06, 17.70it/s]"
          ],
          "name": "stderr"
        },
        {
          "output_type": "stream",
          "text": [
            "roadmark_0256.jpg\n",
            "roadmark_0413.jpg\n"
          ],
          "name": "stdout"
        },
        {
          "output_type": "stream",
          "text": [
            "\r 75%|███████████████████████████████████████████████████████████▉                    | 347/463 [00:18<00:06, 18.09it/s]"
          ],
          "name": "stderr"
        },
        {
          "output_type": "stream",
          "text": [
            "roadmark_1087.jpg\n",
            "roadmark_1085.jpg\n",
            "roadmark_1204.jpg\n"
          ],
          "name": "stdout"
        },
        {
          "output_type": "stream",
          "text": [
            "\r 76%|████████████████████████████████████████████████████████████▍                   | 350/463 [00:18<00:05, 20.20it/s]"
          ],
          "name": "stderr"
        },
        {
          "output_type": "stream",
          "text": [
            "roadmark_0205.jpg\n",
            "roadmark_0046.jpg\n",
            "roadmark_1400.jpg\n"
          ],
          "name": "stdout"
        },
        {
          "output_type": "stream",
          "text": [
            "\r 76%|████████████████████████████████████████████████████████████▉                   | 353/463 [00:18<00:06, 17.46it/s]"
          ],
          "name": "stderr"
        },
        {
          "output_type": "stream",
          "text": [
            "roadmark_0012.jpg\n",
            "roadmark_0326.jpg\n",
            "roadmark_0927.jpg\n"
          ],
          "name": "stdout"
        },
        {
          "output_type": "stream",
          "text": [
            "\r 77%|█████████████████████████████████████████████████████████████▌                  | 356/463 [00:18<00:05, 19.28it/s]"
          ],
          "name": "stderr"
        },
        {
          "output_type": "stream",
          "text": [
            "roadmark_0664.jpg\n",
            "roadmark_0836.jpg\n",
            "roadmark_0109.jpg\n"
          ],
          "name": "stdout"
        },
        {
          "output_type": "stream",
          "text": [
            "\r 78%|██████████████████████████████████████████████████████████████                  | 359/463 [00:19<00:05, 20.41it/s]"
          ],
          "name": "stderr"
        },
        {
          "output_type": "stream",
          "text": [
            "roadmark_0913.jpg\n",
            "roadmark_0170.jpg\n",
            "roadmark_1029.jpg\n"
          ],
          "name": "stdout"
        },
        {
          "output_type": "stream",
          "text": [
            "\r 78%|██████████████████████████████████████████████████████████████▌                 | 362/463 [00:19<00:04, 22.03it/s]"
          ],
          "name": "stderr"
        },
        {
          "output_type": "stream",
          "text": [
            "roadmark_0978.jpg\n",
            "roadmark_1125.jpg\n",
            "roadmark_1240.jpg\n"
          ],
          "name": "stdout"
        },
        {
          "output_type": "stream",
          "text": [
            "\r 79%|███████████████████████████████████████████████████████████████                 | 365/463 [00:19<00:04, 23.83it/s]"
          ],
          "name": "stderr"
        },
        {
          "output_type": "stream",
          "text": [
            "roadmark_0216.jpg\n",
            "roadmark_0680.jpg\n",
            "roadmark_0188.jpg\n"
          ],
          "name": "stdout"
        },
        {
          "output_type": "stream",
          "text": [
            "\r 79%|███████████████████████████████████████████████████████████████▌                | 368/463 [00:19<00:04, 23.60it/s]"
          ],
          "name": "stderr"
        },
        {
          "output_type": "stream",
          "text": [
            "roadmark_1098.jpg\n",
            "roadmark_0734.jpg\n",
            "roadmark_0690.jpg\n"
          ],
          "name": "stdout"
        },
        {
          "output_type": "stream",
          "text": [
            "\r 80%|████████████████████████████████████████████████████████████████                | 371/463 [00:19<00:03, 23.56it/s]"
          ],
          "name": "stderr"
        },
        {
          "output_type": "stream",
          "text": [
            "roadmark_0885.jpg\n",
            "roadmark_0143.jpg\n",
            "roadmark_1012.jpg\n",
            "roadmark_1150.jpg\n"
          ],
          "name": "stdout"
        },
        {
          "output_type": "stream",
          "text": [
            "\r 81%|████████████████████████████████████████████████████████████████▊               | 375/463 [00:19<00:03, 25.24it/s]"
          ],
          "name": "stderr"
        },
        {
          "output_type": "stream",
          "text": [
            "roadmark_0075.jpg\n",
            "roadmark_0838.jpg\n",
            "roadmark_0133.jpg\n"
          ],
          "name": "stdout"
        },
        {
          "output_type": "stream",
          "text": [
            "\r 82%|█████████████████████████████████████████████████████████████████▎              | 378/463 [00:19<00:03, 22.25it/s]"
          ],
          "name": "stderr"
        },
        {
          "output_type": "stream",
          "text": [
            "roadmark_0460.jpg\n",
            "roadmark_0784.jpg\n",
            "roadmark_0452.jpg\n"
          ],
          "name": "stdout"
        },
        {
          "output_type": "stream",
          "text": [
            "\r 82%|█████████████████████████████████████████████████████████████████▊              | 381/463 [00:19<00:03, 22.66it/s]"
          ],
          "name": "stderr"
        },
        {
          "output_type": "stream",
          "text": [
            "roadmark_0801.jpg\n",
            "roadmark_1360.jpg\n",
            "roadmark_0749.jpg\n"
          ],
          "name": "stdout"
        },
        {
          "output_type": "stream",
          "text": [
            "\r 83%|██████████████████████████████████████████████████████████████████▎             | 384/463 [00:20<00:03, 22.11it/s]"
          ],
          "name": "stderr"
        },
        {
          "output_type": "stream",
          "text": [
            "roadmark_0029.jpg\n",
            "roadmark_0972.jpg\n",
            "roadmark_0210.jpg\n"
          ],
          "name": "stdout"
        },
        {
          "output_type": "stream",
          "text": [
            "\r 84%|██████████████████████████████████████████████████████████████████▊             | 387/463 [00:20<00:03, 22.80it/s]"
          ],
          "name": "stderr"
        },
        {
          "output_type": "stream",
          "text": [
            "roadmark_0500.jpg\n",
            "roadmark_0053.jpg\n",
            "roadmark_0496.jpg\n"
          ],
          "name": "stdout"
        },
        {
          "output_type": "stream",
          "text": [
            "\r 84%|███████████████████████████████████████████████████████████████████▍            | 390/463 [00:20<00:03, 22.89it/s]"
          ],
          "name": "stderr"
        },
        {
          "output_type": "stream",
          "text": [
            "roadmark_0127.jpg\n",
            "roadmark_1213.jpg\n",
            "roadmark_0890.jpg\n"
          ],
          "name": "stdout"
        },
        {
          "output_type": "stream",
          "text": [
            "\r 85%|███████████████████████████████████████████████████████████████████▉            | 393/463 [00:20<00:03, 22.16it/s]"
          ],
          "name": "stderr"
        },
        {
          "output_type": "stream",
          "text": [
            "roadmark_1231.jpg\n",
            "roadmark_1072.jpg\n",
            "roadmark_1123.jpg\n",
            "roadmark_1350.jpg\n"
          ],
          "name": "stdout"
        },
        {
          "output_type": "stream",
          "text": [
            "\r 86%|████████████████████████████████████████████████████████████████████▌           | 397/463 [00:20<00:02, 22.42it/s]"
          ],
          "name": "stderr"
        },
        {
          "output_type": "stream",
          "text": [
            "roadmark_0943.jpg\n",
            "roadmark_0581.jpg\n",
            "roadmark_0766.jpg\n"
          ],
          "name": "stdout"
        },
        {
          "output_type": "stream",
          "text": [
            "\r 86%|█████████████████████████████████████████████████████████████████████           | 400/463 [00:20<00:02, 23.74it/s]"
          ],
          "name": "stderr"
        },
        {
          "output_type": "stream",
          "text": [
            "roadmark_0179.jpg\n",
            "roadmark_0624.jpg\n",
            "roadmark_1152.jpg\n"
          ],
          "name": "stdout"
        },
        {
          "output_type": "stream",
          "text": [
            "\r 87%|█████████████████████████████████████████████████████████████████████▋          | 403/463 [00:20<00:02, 24.46it/s]"
          ],
          "name": "stderr"
        },
        {
          "output_type": "stream",
          "text": [
            "roadmark_1349.jpg\n",
            "roadmark_0604.jpg\n",
            "roadmark_0467.jpg\n"
          ],
          "name": "stdout"
        },
        {
          "output_type": "stream",
          "text": [
            "\r 88%|██████████████████████████████████████████████████████████████████████▏         | 406/463 [00:21<00:02, 22.49it/s]"
          ],
          "name": "stderr"
        },
        {
          "output_type": "stream",
          "text": [
            "roadmark_0578.jpg\n",
            "roadmark_1228.jpg\n",
            "roadmark_1078.jpg\n"
          ],
          "name": "stdout"
        },
        {
          "output_type": "stream",
          "text": [
            "\r 88%|██████████████████████████████████████████████████████████████████████▋         | 409/463 [00:21<00:02, 24.08it/s]"
          ],
          "name": "stderr"
        },
        {
          "output_type": "stream",
          "text": [
            "roadmark_0855.jpg\n",
            "roadmark_0920.jpg\n",
            "roadmark_1318.jpg\n"
          ],
          "name": "stdout"
        },
        {
          "output_type": "stream",
          "text": [
            "\r 89%|███████████████████████████████████████████████████████████████████████▏        | 412/463 [00:21<00:01, 25.54it/s]"
          ],
          "name": "stderr"
        },
        {
          "output_type": "stream",
          "text": [
            "roadmark_0145.jpg\n",
            "roadmark_1169.jpg\n",
            "roadmark_0187.jpg\n"
          ],
          "name": "stdout"
        },
        {
          "output_type": "stream",
          "text": [
            "\r 90%|███████████████████████████████████████████████████████████████████████▋        | 415/463 [00:21<00:01, 24.75it/s]"
          ],
          "name": "stderr"
        },
        {
          "output_type": "stream",
          "text": [
            "roadmark_0360.jpg\n",
            "roadmark_0097.jpg\n",
            "roadmark_0733.jpg\n"
          ],
          "name": "stdout"
        },
        {
          "output_type": "stream",
          "text": [
            "\r 90%|████████████████████████████████████████████████████████████████████████▏       | 418/463 [00:21<00:02, 20.17it/s]"
          ],
          "name": "stderr"
        },
        {
          "output_type": "stream",
          "text": [
            "roadmark_0147.jpg\n",
            "roadmark_0611.jpg\n",
            "roadmark_0241.jpg\n"
          ],
          "name": "stdout"
        },
        {
          "output_type": "stream",
          "text": [
            "\r 91%|████████████████████████████████████████████████████████████████████████▋       | 421/463 [00:21<00:02, 19.88it/s]"
          ],
          "name": "stderr"
        },
        {
          "output_type": "stream",
          "text": [
            "roadmark_0114.jpg\n",
            "roadmark_1390.jpg\n",
            "roadmark_0378.jpg\n"
          ],
          "name": "stdout"
        },
        {
          "output_type": "stream",
          "text": [
            "\r 92%|█████████████████████████████████████████████████████████████████████████▎      | 424/463 [00:21<00:02, 15.90it/s]"
          ],
          "name": "stderr"
        },
        {
          "output_type": "stream",
          "text": [
            "roadmark_1023.jpg\n",
            "roadmark_0653.jpg\n"
          ],
          "name": "stdout"
        },
        {
          "output_type": "stream",
          "text": [
            "\r 92%|█████████████████████████████████████████████████████████████████████████▌      | 426/463 [00:22<00:02, 15.00it/s]"
          ],
          "name": "stderr"
        },
        {
          "output_type": "stream",
          "text": [
            "roadmark_1117.jpg\n",
            "roadmark_0521.jpg\n"
          ],
          "name": "stdout"
        },
        {
          "output_type": "stream",
          "text": [
            "\r 92%|█████████████████████████████████████████████████████████████████████████▉      | 428/463 [00:22<00:02, 15.47it/s]"
          ],
          "name": "stderr"
        },
        {
          "output_type": "stream",
          "text": [
            "roadmark_0856.jpg\n",
            "roadmark_1258.jpg\n"
          ],
          "name": "stdout"
        },
        {
          "output_type": "stream",
          "text": [
            "\r 93%|██████████████████████████████████████████████████████████████████████████▎     | 430/463 [00:22<00:02, 15.96it/s]"
          ],
          "name": "stderr"
        },
        {
          "output_type": "stream",
          "text": [
            "roadmark_0810.jpg\n",
            "roadmark_1303.jpg\n"
          ],
          "name": "stdout"
        },
        {
          "output_type": "stream",
          "text": [
            "\r 93%|██████████████████████████████████████████████████████████████████████████▋     | 432/463 [00:22<00:02, 14.06it/s]"
          ],
          "name": "stderr"
        },
        {
          "output_type": "stream",
          "text": [
            "roadmark_0701.jpg\n",
            "roadmark_0563.jpg\n",
            "roadmark_0084.jpg\n"
          ],
          "name": "stdout"
        },
        {
          "output_type": "stream",
          "text": [
            "\r 94%|███████████████████████████████████████████████████████████████████████████▏    | 435/463 [00:22<00:01, 16.26it/s]"
          ],
          "name": "stderr"
        },
        {
          "output_type": "stream",
          "text": [
            "roadmark_1404.jpg\n",
            "roadmark_1068.jpg\n",
            "roadmark_0407.jpg\n"
          ],
          "name": "stdout"
        },
        {
          "output_type": "stream",
          "text": [
            "\r 95%|███████████████████████████████████████████████████████████████████████████▋    | 438/463 [00:22<00:01, 15.47it/s]"
          ],
          "name": "stderr"
        },
        {
          "output_type": "stream",
          "text": [
            "roadmark_0022.jpg\n",
            "roadmark_0957.jpg\n"
          ],
          "name": "stdout"
        },
        {
          "output_type": "stream",
          "text": [
            "\r 95%|████████████████████████████████████████████████████████████████████████████    | 440/463 [00:23<00:01, 15.52it/s]"
          ],
          "name": "stderr"
        },
        {
          "output_type": "stream",
          "text": [
            "roadmark_1326.jpg\n",
            "roadmark_1177.jpg\n"
          ],
          "name": "stdout"
        },
        {
          "output_type": "stream",
          "text": [
            "\r 95%|████████████████████████████████████████████████████████████████████████████▎   | 442/463 [00:23<00:01, 15.23it/s]"
          ],
          "name": "stderr"
        },
        {
          "output_type": "stream",
          "text": [
            "roadmark_1272.jpg\n",
            "roadmark_0623.jpg\n"
          ],
          "name": "stdout"
        },
        {
          "output_type": "stream",
          "text": [
            "\r 96%|████████████████████████████████████████████████████████████████████████████▋   | 444/463 [00:23<00:01, 12.84it/s]"
          ],
          "name": "stderr"
        },
        {
          "output_type": "stream",
          "text": [
            "roadmark_0607.jpg\n",
            "roadmark_1333.jpg\n"
          ],
          "name": "stdout"
        },
        {
          "output_type": "stream",
          "text": [
            "\r 96%|█████████████████████████████████████████████████████████████████████████████   | 446/463 [00:23<00:01, 13.04it/s]"
          ],
          "name": "stderr"
        },
        {
          "output_type": "stream",
          "text": [
            "roadmark_1294.jpg\n",
            "roadmark_1024.jpg\n"
          ],
          "name": "stdout"
        },
        {
          "output_type": "stream",
          "text": [
            "\r 97%|█████████████████████████████████████████████████████████████████████████████▍  | 448/463 [00:23<00:01, 10.15it/s]"
          ],
          "name": "stderr"
        },
        {
          "output_type": "stream",
          "text": [
            "roadmark_0314.jpg\n",
            "roadmark_0974.jpg\n"
          ],
          "name": "stdout"
        },
        {
          "output_type": "stream",
          "text": [
            "\r 97%|█████████████████████████████████████████████████████████████████████████████▊  | 450/463 [00:24<00:01,  9.97it/s]"
          ],
          "name": "stderr"
        },
        {
          "output_type": "stream",
          "text": [
            "roadmark_1298.jpg\n",
            "roadmark_0175.jpg\n"
          ],
          "name": "stdout"
        },
        {
          "output_type": "stream",
          "text": [
            "\r 98%|██████████████████████████████████████████████████████████████████████████████  | 452/463 [00:24<00:00, 11.40it/s]"
          ],
          "name": "stderr"
        },
        {
          "output_type": "stream",
          "text": [
            "roadmark_1251.jpg\n",
            "roadmark_0208.jpg\n"
          ],
          "name": "stdout"
        },
        {
          "output_type": "stream",
          "text": [
            "\r 98%|██████████████████████████████████████████████████████████████████████████████▍ | 454/463 [00:24<00:00, 12.45it/s]"
          ],
          "name": "stderr"
        },
        {
          "output_type": "stream",
          "text": [
            "roadmark_1343.jpg\n",
            "roadmark_0240.jpg\n"
          ],
          "name": "stdout"
        },
        {
          "output_type": "stream",
          "text": [
            "\r 98%|██████████████████████████████████████████████████████████████████████████████▊ | 456/463 [00:24<00:00, 12.40it/s]"
          ],
          "name": "stderr"
        },
        {
          "output_type": "stream",
          "text": [
            "roadmark_1221.jpg\n",
            "roadmark_1268.jpg\n"
          ],
          "name": "stdout"
        },
        {
          "output_type": "stream",
          "text": [
            "\r 99%|███████████████████████████████████████████████████████████████████████████████▏| 458/463 [00:24<00:00, 12.96it/s]"
          ],
          "name": "stderr"
        },
        {
          "output_type": "stream",
          "text": [
            "roadmark_0778.jpg\n",
            "roadmark_0272.jpg\n"
          ],
          "name": "stdout"
        },
        {
          "output_type": "stream",
          "text": [
            "\r 99%|███████████████████████████████████████████████████████████████████████████████▍| 460/463 [00:24<00:00, 12.77it/s]"
          ],
          "name": "stderr"
        },
        {
          "output_type": "stream",
          "text": [
            "roadmark_0724.jpg\n",
            "roadmark_0561.jpg\n"
          ],
          "name": "stdout"
        },
        {
          "output_type": "stream",
          "text": [
            "\r100%|███████████████████████████████████████████████████████████████████████████████▊| 462/463 [00:24<00:00, 12.72it/s]"
          ],
          "name": "stderr"
        },
        {
          "output_type": "stream",
          "text": [
            "roadmark_0769.jpg\n"
          ],
          "name": "stdout"
        },
        {
          "output_type": "stream",
          "text": [
            "\r100%|████████████████████████████████████████████████████████████████████████████████| 463/463 [00:24<00:00, 18.53it/s]\n"
          ],
          "name": "stderr"
        },
        {
          "output_type": "stream",
          "text": [
            "Warning: dir D:/Datasets/RoadmarkingDataset/RoadMarkingDataset\\test already exists\n",
            "Processing test data, saving preprocessed data to D:/Datasets/RoadmarkingDataset/RoadMarkingDataset\\test\n"
          ],
          "name": "stdout"
        },
        {
          "output_type": "stream",
          "text": [
            "\r  0%|                                                                                          | 0/115 [00:00<?, ?it/s]"
          ],
          "name": "stderr"
        },
        {
          "output_type": "stream",
          "text": [
            "roadmark_0709.jpg\n",
            "roadmark_0167.jpg\n"
          ],
          "name": "stdout"
        },
        {
          "output_type": "stream",
          "text": [
            "\r  2%|█▍                                                                                | 2/115 [00:00<00:07, 14.82it/s]"
          ],
          "name": "stderr"
        },
        {
          "output_type": "stream",
          "text": [
            "roadmark_1325.jpg\n",
            "roadmark_1005.jpg\n"
          ],
          "name": "stdout"
        },
        {
          "output_type": "stream",
          "text": [
            "\r  3%|██▊                                                                               | 4/115 [00:00<00:07, 15.73it/s]"
          ],
          "name": "stderr"
        },
        {
          "output_type": "stream",
          "text": [
            "roadmark_1369.jpg\n",
            "roadmark_0154.jpg\n"
          ],
          "name": "stdout"
        },
        {
          "output_type": "stream",
          "text": [
            "\r  5%|████▎                                                                             | 6/115 [00:00<00:07, 15.56it/s]"
          ],
          "name": "stderr"
        },
        {
          "output_type": "stream",
          "text": [
            "roadmark_0626.jpg\n",
            "roadmark_0693.jpg\n"
          ],
          "name": "stdout"
        },
        {
          "output_type": "stream",
          "text": [
            "\r  7%|█████▋                                                                            | 8/115 [00:00<00:07, 13.92it/s]"
          ],
          "name": "stderr"
        },
        {
          "output_type": "stream",
          "text": [
            "roadmark_0916.jpg\n",
            "roadmark_0364.jpg\n"
          ],
          "name": "stdout"
        },
        {
          "output_type": "stream",
          "text": [
            "\r  9%|███████                                                                          | 10/115 [00:00<00:09, 10.51it/s]"
          ],
          "name": "stderr"
        },
        {
          "output_type": "stream",
          "text": [
            "roadmark_0539.jpg\n"
          ],
          "name": "stdout"
        },
        {
          "output_type": "stream",
          "text": [
            "\r 10%|███████▋                                                                         | 11/115 [00:01<00:13,  7.54it/s]"
          ],
          "name": "stderr"
        },
        {
          "output_type": "stream",
          "text": [
            "roadmark_1135.jpg\n",
            "roadmark_1110.jpg\n"
          ],
          "name": "stdout"
        },
        {
          "output_type": "stream",
          "text": [
            "\r 11%|█████████▏                                                                       | 13/115 [00:01<00:12,  8.48it/s]"
          ],
          "name": "stderr"
        },
        {
          "output_type": "stream",
          "text": [
            "roadmark_0317.jpg\n",
            "roadmark_1042.jpg\n"
          ],
          "name": "stdout"
        },
        {
          "output_type": "stream",
          "text": [
            "\r 13%|██████████▌                                                                      | 15/115 [00:01<00:10,  9.41it/s]"
          ],
          "name": "stderr"
        },
        {
          "output_type": "stream",
          "text": [
            "roadmark_0466.jpg\n",
            "roadmark_0184.jpg\n"
          ],
          "name": "stdout"
        },
        {
          "output_type": "stream",
          "text": [
            "\r 15%|███████████▉                                                                     | 17/115 [00:01<00:09, 10.12it/s]"
          ],
          "name": "stderr"
        },
        {
          "output_type": "stream",
          "text": [
            "roadmark_0869.jpg\n",
            "roadmark_1009.jpg\n"
          ],
          "name": "stdout"
        },
        {
          "output_type": "stream",
          "text": [
            "\r 17%|█████████████▍                                                                   | 19/115 [00:01<00:08, 10.73it/s]"
          ],
          "name": "stderr"
        },
        {
          "output_type": "stream",
          "text": [
            "roadmark_0597.jpg\n",
            "roadmark_0629.jpg\n"
          ],
          "name": "stdout"
        },
        {
          "output_type": "stream",
          "text": [
            "\r 18%|██████████████▊                                                                  | 21/115 [00:01<00:07, 11.91it/s]"
          ],
          "name": "stderr"
        },
        {
          "output_type": "stream",
          "text": [
            "roadmark_1420.jpg\n",
            "roadmark_0569.jpg\n",
            "roadmark_0772.jpg\n"
          ],
          "name": "stdout"
        },
        {
          "output_type": "stream",
          "text": [
            "\r 21%|████████████████▉                                                                | 24/115 [00:01<00:06, 13.81it/s]"
          ],
          "name": "stderr"
        },
        {
          "output_type": "stream",
          "text": [
            "roadmark_0732.jpg\n",
            "roadmark_0292.jpg\n",
            "roadmark_1351.jpg\n"
          ],
          "name": "stdout"
        },
        {
          "output_type": "stream",
          "text": [
            "\r 23%|███████████████████                                                              | 27/115 [00:02<00:05, 15.83it/s]"
          ],
          "name": "stderr"
        },
        {
          "output_type": "stream",
          "text": [
            "roadmark_0905.jpg\n",
            "roadmark_1031.jpg\n"
          ],
          "name": "stdout"
        },
        {
          "output_type": "stream",
          "text": [
            "\r 25%|████████████████████▍                                                            | 29/115 [00:02<00:05, 15.29it/s]"
          ],
          "name": "stderr"
        },
        {
          "output_type": "stream",
          "text": [
            "roadmark_1322.jpg\n",
            "roadmark_0829.jpg\n"
          ],
          "name": "stdout"
        },
        {
          "output_type": "stream",
          "text": [
            "\r 27%|█████████████████████▊                                                           | 31/115 [00:02<00:05, 16.34it/s]"
          ],
          "name": "stderr"
        },
        {
          "output_type": "stream",
          "text": [
            "roadmark_0803.jpg\n",
            "roadmark_1165.jpg\n",
            "roadmark_0818.jpg\n"
          ],
          "name": "stdout"
        },
        {
          "output_type": "stream",
          "text": [
            "\r 30%|███████████████████████▉                                                         | 34/115 [00:02<00:04, 17.78it/s]"
          ],
          "name": "stderr"
        },
        {
          "output_type": "stream",
          "text": [
            "roadmark_0963.jpg\n",
            "roadmark_1324.jpg\n",
            "roadmark_0039.jpg\n"
          ],
          "name": "stdout"
        },
        {
          "output_type": "stream",
          "text": [
            "\r 32%|██████████████████████████                                                       | 37/115 [00:02<00:04, 19.03it/s]"
          ],
          "name": "stderr"
        },
        {
          "output_type": "stream",
          "text": [
            "roadmark_0185.jpg\n",
            "roadmark_0137.jpg\n",
            "roadmark_0649.jpg\n"
          ],
          "name": "stdout"
        },
        {
          "output_type": "stream",
          "text": [
            "\r 35%|████████████████████████████▏                                                    | 40/115 [00:03<00:06, 11.65it/s]"
          ],
          "name": "stderr"
        },
        {
          "output_type": "stream",
          "text": [
            "roadmark_0044.jpg\n",
            "roadmark_0443.jpg\n"
          ],
          "name": "stdout"
        },
        {
          "output_type": "stream",
          "text": [
            "\r 37%|█████████████████████████████▌                                                   | 42/115 [00:03<00:05, 12.20it/s]"
          ],
          "name": "stderr"
        },
        {
          "output_type": "stream",
          "text": [
            "roadmark_0297.jpg\n",
            "roadmark_1113.jpg\n"
          ],
          "name": "stdout"
        },
        {
          "output_type": "stream",
          "text": [
            "\r 38%|██████████████████████████████▉                                                  | 44/115 [00:03<00:05, 13.32it/s]"
          ],
          "name": "stderr"
        },
        {
          "output_type": "stream",
          "text": [
            "roadmark_1004.jpg\n",
            "roadmark_0252.jpg\n"
          ],
          "name": "stdout"
        },
        {
          "output_type": "stream",
          "text": [
            "\r 40%|████████████████████████████████▍                                                | 46/115 [00:03<00:04, 13.91it/s]"
          ],
          "name": "stderr"
        },
        {
          "output_type": "stream",
          "text": [
            "roadmark_1021.jpg\n",
            "roadmark_0883.jpg\n",
            "roadmark_0853.jpg\n"
          ],
          "name": "stdout"
        },
        {
          "output_type": "stream",
          "text": [
            "\r 43%|██████████████████████████████████▌                                              | 49/115 [00:03<00:04, 16.23it/s]"
          ],
          "name": "stderr"
        },
        {
          "output_type": "stream",
          "text": [
            "roadmark_0083.jpg\n",
            "roadmark_0640.jpg\n",
            "roadmark_0679.jpg\n"
          ],
          "name": "stdout"
        },
        {
          "output_type": "stream",
          "text": [
            "\r 45%|████████████████████████████████████▋                                            | 52/115 [00:03<00:03, 17.60it/s]"
          ],
          "name": "stderr"
        },
        {
          "output_type": "stream",
          "text": [
            "roadmark_0480.jpg\n",
            "roadmark_1408.jpg\n"
          ],
          "name": "stdout"
        },
        {
          "output_type": "stream",
          "text": [
            "\r 47%|██████████████████████████████████████                                           | 54/115 [00:03<00:03, 17.36it/s]"
          ],
          "name": "stderr"
        },
        {
          "output_type": "stream",
          "text": [
            "roadmark_0284.jpg\n",
            "roadmark_1376.jpg\n",
            "roadmark_0266.jpg\n"
          ],
          "name": "stdout"
        },
        {
          "output_type": "stream",
          "text": [
            "\r 50%|████████████████████████████████████████▏                                        | 57/115 [00:04<00:03, 18.58it/s]"
          ],
          "name": "stderr"
        },
        {
          "output_type": "stream",
          "text": [
            "roadmark_1027.jpg\n",
            "roadmark_1307.jpg\n",
            "roadmark_0523.jpg\n"
          ],
          "name": "stdout"
        },
        {
          "output_type": "stream",
          "text": [
            "\r 52%|██████████████████████████████████████████▎                                      | 60/115 [00:04<00:02, 20.54it/s]"
          ],
          "name": "stderr"
        },
        {
          "output_type": "stream",
          "text": [
            "roadmark_0545.jpg\n",
            "roadmark_1208.jpg\n",
            "roadmark_0637.jpg\n"
          ],
          "name": "stdout"
        },
        {
          "output_type": "stream",
          "text": [
            "\r 55%|████████████████████████████████████████████▎                                    | 63/115 [00:04<00:02, 21.71it/s]"
          ],
          "name": "stderr"
        },
        {
          "output_type": "stream",
          "text": [
            "roadmark_0648.jpg\n",
            "roadmark_0424.jpg\n",
            "roadmark_1201.jpg\n"
          ],
          "name": "stdout"
        },
        {
          "output_type": "stream",
          "text": [
            "\r 57%|██████████████████████████████████████████████▍                                  | 66/115 [00:04<00:02, 19.83it/s]"
          ],
          "name": "stderr"
        },
        {
          "output_type": "stream",
          "text": [
            "roadmark_0038.jpg\n",
            "roadmark_1108.jpg\n",
            "roadmark_0768.jpg\n"
          ],
          "name": "stdout"
        },
        {
          "output_type": "stream",
          "text": [
            "\r 60%|████████████████████████████████████████████████▌                                | 69/115 [00:04<00:02, 19.84it/s]"
          ],
          "name": "stderr"
        },
        {
          "output_type": "stream",
          "text": [
            "roadmark_1127.jpg\n",
            "roadmark_1019.jpg\n",
            "roadmark_0971.jpg\n"
          ],
          "name": "stdout"
        },
        {
          "output_type": "stream",
          "text": [
            "\r 63%|██████████████████████████████████████████████████▋                              | 72/115 [00:04<00:01, 21.75it/s]"
          ],
          "name": "stderr"
        },
        {
          "output_type": "stream",
          "text": [
            "roadmark_1001.jpg\n",
            "roadmark_0342.jpg\n",
            "roadmark_1050.jpg\n"
          ],
          "name": "stdout"
        },
        {
          "output_type": "stream",
          "text": [
            "\r 65%|████████████████████████████████████████████████████▊                            | 75/115 [00:04<00:02, 19.47it/s]"
          ],
          "name": "stderr"
        },
        {
          "output_type": "stream",
          "text": [
            "roadmark_0988.jpg\n",
            "roadmark_0745.jpg\n",
            "roadmark_1387.jpg\n"
          ],
          "name": "stdout"
        },
        {
          "output_type": "stream",
          "text": [
            "\r 68%|██████████████████████████████████████████████████████▉                          | 78/115 [00:05<00:01, 20.02it/s]"
          ],
          "name": "stderr"
        },
        {
          "output_type": "stream",
          "text": [
            "roadmark_0054.jpg\n",
            "roadmark_0717.jpg\n",
            "roadmark_0817.jpg\n"
          ],
          "name": "stdout"
        },
        {
          "output_type": "stream",
          "text": [
            "\r 70%|█████████████████████████████████████████████████████████                        | 81/115 [00:05<00:01, 21.62it/s]"
          ],
          "name": "stderr"
        },
        {
          "output_type": "stream",
          "text": [
            "roadmark_0760.jpg\n",
            "roadmark_0591.jpg\n",
            "roadmark_0426.jpg\n"
          ],
          "name": "stdout"
        },
        {
          "output_type": "stream",
          "text": [
            "\r 73%|███████████████████████████████████████████████████████████▏                     | 84/115 [00:05<00:01, 18.36it/s]"
          ],
          "name": "stderr"
        },
        {
          "output_type": "stream",
          "text": [
            "roadmark_1084.jpg\n",
            "roadmark_1112.jpg\n",
            "roadmark_0010.jpg\n"
          ],
          "name": "stdout"
        },
        {
          "output_type": "stream",
          "text": [
            "\r 76%|█████████████████████████████████████████████████████████████▎                   | 87/115 [00:05<00:01, 19.68it/s]"
          ],
          "name": "stderr"
        },
        {
          "output_type": "stream",
          "text": [
            "roadmark_0811.jpg\n",
            "roadmark_0862.jpg\n",
            "roadmark_0304.jpg\n"
          ],
          "name": "stdout"
        },
        {
          "output_type": "stream",
          "text": [
            "\r 78%|███████████████████████████████████████████████████████████████▍                 | 90/115 [00:05<00:01, 21.66it/s]"
          ],
          "name": "stderr"
        },
        {
          "output_type": "stream",
          "text": [
            "roadmark_0453.jpg\n",
            "roadmark_0867.jpg\n",
            "roadmark_0793.jpg\n"
          ],
          "name": "stdout"
        },
        {
          "output_type": "stream",
          "text": [
            "\r 81%|█████████████████████████████████████████████████████████████████▌               | 93/115 [00:05<00:00, 22.67it/s]"
          ],
          "name": "stderr"
        },
        {
          "output_type": "stream",
          "text": [
            "roadmark_0454.jpg\n",
            "roadmark_0720.jpg\n",
            "roadmark_1180.jpg\n"
          ],
          "name": "stdout"
        },
        {
          "output_type": "stream",
          "text": [
            "\r 83%|███████████████████████████████████████████████████████████████████▌             | 96/115 [00:05<00:00, 21.85it/s]"
          ],
          "name": "stderr"
        },
        {
          "output_type": "stream",
          "text": [
            "roadmark_0023.jpg\n",
            "roadmark_0984.jpg\n",
            "roadmark_0273.jpg\n"
          ],
          "name": "stdout"
        },
        {
          "output_type": "stream",
          "text": [
            "\r 86%|█████████████████████████████████████████████████████████████████████▋           | 99/115 [00:05<00:00, 20.82it/s]"
          ],
          "name": "stderr"
        },
        {
          "output_type": "stream",
          "text": [
            "roadmark_0504.jpg\n",
            "roadmark_0153.jpg\n",
            "roadmark_0066.jpg\n"
          ],
          "name": "stdout"
        },
        {
          "output_type": "stream",
          "text": [
            "\r 89%|██████████████████████████████████████████████████████████████████████▉         | 102/115 [00:06<00:00, 20.57it/s]"
          ],
          "name": "stderr"
        },
        {
          "output_type": "stream",
          "text": [
            "roadmark_1314.jpg\n",
            "roadmark_1045.jpg\n",
            "roadmark_0212.jpg\n"
          ],
          "name": "stdout"
        },
        {
          "output_type": "stream",
          "text": [
            "\r 91%|█████████████████████████████████████████████████████████████████████████       | 105/115 [00:06<00:00, 20.23it/s]"
          ],
          "name": "stderr"
        },
        {
          "output_type": "stream",
          "text": [
            "roadmark_0287.jpg\n",
            "roadmark_0842.jpg\n",
            "roadmark_0045.jpg\n"
          ],
          "name": "stdout"
        },
        {
          "output_type": "stream",
          "text": [
            "\r 94%|███████████████████████████████████████████████████████████████████████████▏    | 108/115 [00:06<00:00, 20.93it/s]"
          ],
          "name": "stderr"
        },
        {
          "output_type": "stream",
          "text": [
            "roadmark_0781.jpg\n",
            "roadmark_0296.jpg\n",
            "roadmark_0820.jpg\n"
          ],
          "name": "stdout"
        },
        {
          "output_type": "stream",
          "text": [
            "\r 97%|█████████████████████████████████████████████████████████████████████████████▏  | 111/115 [00:06<00:00, 22.70it/s]"
          ],
          "name": "stderr"
        },
        {
          "output_type": "stream",
          "text": [
            "roadmark_0206.jpg\n",
            "roadmark_0619.jpg\n",
            "roadmark_0365.jpg\n"
          ],
          "name": "stdout"
        },
        {
          "output_type": "stream",
          "text": [
            "\r 99%|███████████████████████████████████████████████████████████████████████████████▎| 114/115 [00:06<00:00, 22.56it/s]"
          ],
          "name": "stderr"
        },
        {
          "output_type": "stream",
          "text": [
            "roadmark_0541.jpg\n"
          ],
          "name": "stdout"
        },
        {
          "output_type": "stream",
          "text": [
            "\r100%|████████████████████████████████████████████████████████████████████████████████| 115/115 [00:06<00:00, 17.08it/s]\n"
          ],
          "name": "stderr"
        },
        {
          "output_type": "stream",
          "text": [
            "Done building dataset\n"
          ],
          "name": "stdout"
        }
      ]
    },
    {
      "metadata": {
        "id": "hlyGVfbwqsYB",
        "colab_type": "code",
        "outputId": "944068ed-ce37-49c2-d25b-b1bf3aac62b6",
        "colab": {
          "base_uri": "https://localhost:8080/",
          "height": 153867
        }
      },
      "cell_type": "code",
      "source": [
        "# Training dataset\n",
        "dataset_train = RoadDataset()\n",
        "dataset_train.load_road(\"D:/Datasets/RoadmarkingDataset/RoadMarkingDataset\",\"train\")\n",
        "dataset_train.prepare()\n",
        "\n",
        "# Validation dataset\n",
        "dataset_val = RoadDataset()\n",
        "dataset_val.load_road(\"D:/Datasets/RoadmarkingDataset/RoadMarkingDataset/test\",\"val\")\n",
        "dataset_val.prepare()"
      ],
      "execution_count": 9,
      "outputs": [
        {
          "output_type": "stream",
          "text": [
            "[321.96423300000004 456.40682999999996 433.77786299999997\n",
            " 335.27536000000003 344.327148 344.327148 317.166656 317.166656 'stop'\n",
            " 'roadmark_0001.jpg']\n",
            "roadmark_0001.jpg\n",
            "[313.97753900000004 453.74459800000005 433.77786299999997 329.950928 350.5\n",
            " 349.265442 317.166656 317.166656 'stop' 'roadmark_0002.jpg']\n",
            "roadmark_0002.jpg\n",
            "[307.32196 449.75125099999997 429.78451500000006 325.957581 352.969147\n",
            " 351.734558 317.166656 320.870361 'stop' 'roadmark_0003.jpg']\n",
            "roadmark_0003.jpg\n",
            "[299.335266 452.413483 431.11563099999995 323.29534900000004 359.141968\n",
            " 359.141968 320.870361 322.10495 'stop' 'roadmark_0004.jpg']\n",
            "roadmark_0004.jpg\n",
            "[295.341919 461.731293 431.11563099999995 316.639771 362.845673 361.611115\n",
            " 322.10495 325.808655 'stop' 'roadmark_0005.jpg']\n",
            "roadmark_0005.jpg\n",
            "[287.355255 455.07571399999995 428.4534 311.315308 367.783966 366.549377\n",
            " 324.574066 330.746918 'stop' 'roadmark_0006.jpg']\n",
            "roadmark_0006.jpg\n",
            "[284.69302400000004 455.07571399999995 429.78451500000006 309.984192\n",
            " 373.956787 370.253082 327.043213 329.51236 'stop' 'roadmark_0007.jpg']\n",
            "roadmark_0007.jpg\n",
            "[267.388519 460.4001769999999 425.79116799999997 304.659729 378.89505\n",
            " 378.89505 330.746918 331.981476 'stop' 'roadmark_0008.jpg']\n",
            "roadmark_0008.jpg\n",
            "[262.064056 455.07571399999995 428.4534 295.341919 383.833344 382.598755\n",
            " 334.450623 335.685181 'stop' 'roadmark_0009.jpg']\n",
            "roadmark_0009.jpg\n",
            "[252.746262 456.40682999999996 432.44674699999996 294.01080299999995\n",
            " 390.006165 390.006165 338.154327 338.154327 'stop' 'roadmark_0010.jpg']\n",
            "roadmark_0010.jpg\n",
            "[224.79284700000002 305.99084500000004 319.302002 274.044098 325.808655\n",
            " 330.746918 314.69754 310.993835 'leftturn' 'roadmark_0011.jpg']\n",
            "roadmark_0011.jpg\n",
            "[215.47503700000001 298.00415 316.639771 258.07070899999997 330.746918\n",
            " 335.685181 318.401245 314.69754 'leftturn' 'roadmark_0012.jpg']\n",
            "roadmark_0012.jpg\n",
            "[202.163895 282.030792 308.653076 248.752914 334.450623 344.327148\n",
            " 323.339508 318.401245 'leftturn' 'roadmark_0013.jpg']\n",
            "roadmark_0013.jpg\n",
            "[186.190521 270.050751 304.659729 232.77954100000002 341.858032 350.5\n",
            " 328.277771 323.339508 'leftturn' 'roadmark_0014.jpg']\n",
            "roadmark_0014.jpg\n",
            "[155.574875 252.746262 294.01080299999995 222.13061499999998 348.030853\n",
            " 360.376556 333.216034 327.043213 'leftturn' 'roadmark_0015.jpg']\n",
            "roadmark_0015.jpg\n",
            "[351.24874900000003 441.764557 427.122284 368.553253 331.981476 330.746918\n",
            " 313.46295200000003 309.759247 'leftturn' 'roadmark_0016.jpg']\n",
            "roadmark_0016.jpg\n",
            "[227.455078 284.69302400000004 315.308655 267.388519 322.10495 333.216034\n",
            " 317.166656 309.759247 'leftturn' 'roadmark_0017.jpg']\n",
            "roadmark_0017.jpg\n",
            "[491.015808 568.220459 529.618164 477.70465099999996 334.450623 327.043213\n",
            " 308.524689 314.69754 'rightturn' 'roadmark_0018.jpg']\n",
            "roadmark_0018.jpg\n",
            "[349.917633 443.09567300000003 427.122284 360.566559 335.685181 336.919739\n",
            " 313.46295200000003 314.69754 'leftturn' 'roadmark_0019.jpg']\n",
            "roadmark_0019.jpg\n",
            "[208.819473 275.375214 304.659729 259.401825 327.043213 339.388885\n",
            " 322.10495 313.46295200000003 'leftturn' 'roadmark_0020.jpg']\n",
            "roadmark_0020.jpg\n",
            "[495.00915499999996 582.862732 534.942566 483.029114 338.154327 331.981476\n",
            " 312.228394 317.166656 'rightturn' 'roadmark_0021.jpg']\n",
            "roadmark_0021.jpg\n",
            "[497.67138700000004 592.180542 554.9093019999999 492.346924 344.327148\n",
            " 343.09259 318.401245 320.870361 'rightturn' 'roadmark_0022.jpg']\n",
            "roadmark_0022.jpg\n",
            "[341.930939 445.757904 425.79116799999997 355.242096 344.327148\n",
            " 346.79629500000004 319.63580299999995 318.401245 'leftturn'\n",
            " 'roadmark_0023.jpg']\n",
            "roadmark_0023.jpg\n",
            "[194.1772 262.064056 300.666382 240.76622000000003 333.216034\n",
            " 346.79629500000004 325.808655 317.166656 'leftturn' 'roadmark_0024.jpg']\n",
            "roadmark_0024.jpg\n",
            "[506.989197 601.498352 550.9159549999999 497.67138700000004 355.438263\n",
            " 340.623444 319.63580299999995 330.746918 'rightturn' 'roadmark_0025.jpg']\n",
            "roadmark_0025.jpg\n",
            "[335.27536000000003 447.08902 424.46005199999996 349.917633 349.265442\n",
            " 352.969147 325.808655 323.339508 'leftturn' 'roadmark_0026.jpg']\n",
            "roadmark_0026.jpg\n",
            "[174.21048000000002 252.746262 294.01080299999995 223.46173100000001\n",
            " 340.623444 351.734558 330.746918 323.339508 'leftturn'\n",
            " 'roadmark_0027.jpg']\n",
            "roadmark_0027.jpg\n",
            "[344.59317000000004 428.4534 443.09567300000003 325.957581 327.043213\n",
            " 327.043213 361.611115 361.611115 'leftturn' 'roadmark_0028.jpg']\n",
            "roadmark_0028.jpg\n",
            "[513.644775 616.140625 573.5449219999999 512.3136599999999 364.080261\n",
            " 352.969147 328.277771 330.746918 'rightturn' 'roadmark_0029.jpg']\n",
            "roadmark_0029.jpg\n",
            "[150.250412 234.11064100000002 275.375214 206.157242 351.734558 364.080261\n",
            " 336.919739 328.277771 'leftturn' 'roadmark_0030.jpg']\n",
            "roadmark_0030.jpg\n",
            "[308.653076 452.413483 424.46005199999996 337.937592 376.425934 376.425934\n",
            " 335.685181 335.685181 'leftturn' 'roadmark_0031.jpg']\n",
            "roadmark_0031.jpg\n",
            "[530.9492799999999 648.087341 594.8427730000001 513.644775 373.956787\n",
            " 366.549377 334.450623 336.919739 'rightturn' 'roadmark_0032.jpg']\n",
            "roadmark_0032.jpg\n",
            "[110.316971 218.137268 264.726288 183.52829 361.611115 373.956787\n",
            " 338.154327 334.450623 'leftturn' 'roadmark_0033.jpg']\n",
            "roadmark_0033.jpg\n",
            "[299.335266 460.4001769999999 424.46005199999996 324.626465\n",
            " 393.70986899999997 392.475311 339.388885 341.858032 'leftturn'\n",
            " 'roadmark_0034.jpg']\n",
            "roadmark_0034.jpg\n",
            "[537.604797 689.351929 588.187195 530.9492799999999 387.53704799999997\n",
            " 375.191345 335.685181 345.561737 'rightturn' 'roadmark_0035.jpg']\n",
            "roadmark_0035.jpg\n",
            "[94.343597 184.859406 250.08402999999998 151.581528 373.956787 388.771606\n",
            " 344.327148 343.09259 'leftturn' 'roadmark_0036.jpg']\n",
            "roadmark_0036.jpg\n",
            "[340.599823 443.09567300000003 425.79116799999997 363.22879 334.450623\n",
            " 335.685181 309.759247 309.759247 'leftturn' 'roadmark_0037.jpg']\n",
            "roadmark_0037.jpg\n",
            "[488.353577 576.2071530000001 546.9226070000001 481.69799800000004\n",
            " 334.450623 330.746918 309.759247 312.228394 'rightturn'\n",
            " 'roadmark_0038.jpg']\n",
            "roadmark_0038.jpg\n",
            "[211.48168900000002 280.699677 305.99084500000004 254.077377 325.808655\n",
            " 336.919739 317.166656 313.46295200000003 'leftturn' 'roadmark_0039.jpg']\n",
            "roadmark_0039.jpg\n",
            "[328.619812 445.757904 423.128937 357.904327 339.388885 339.388885\n",
            " 315.932098 314.69754 'leftturn' 'roadmark_0040.jpg']\n",
            "roadmark_0040.jpg\n",
            "[497.67138700000004 584.193848 553.5781860000001 485.691345 343.09259\n",
            " 335.685181 310.993835 318.401245 'rightturn' 'roadmark_0041.jpg']\n",
            "roadmark_0041.jpg\n",
            "[279.368561 307.32196 239.435104 195.50831599999998 340.623444\n",
            " 319.63580299999995 318.401245 330.746918 'leftturn' 'roadmark_0042.jpg']\n",
            "roadmark_0042.jpg\n",
            "[328.619812 447.08902 428.4534 347.255402 348.030853 348.030853\n",
            " 319.63580299999995 319.63580299999995 'leftturn' 'roadmark_0043.jpg']\n",
            "roadmark_0043.jpg\n",
            "[499.00250199999994 602.829468 562.895996 481.69799800000004\n",
            " 346.79629500000004 338.154327 318.401245 320.870361 'rightturn'\n",
            " 'roadmark_0044.jpg']\n",
            "roadmark_0044.jpg\n",
            "[178.203827 259.401825 294.01080299999995 227.455078 335.685181 348.030853\n",
            " 323.339508 320.870361 'leftturn' 'roadmark_0045.jpg']\n",
            "roadmark_0045.jpg\n",
            "[319.302002 451.082367 431.11563099999995 344.59317000000004\n",
            " 354.20370499999996 354.20370499999996 325.808655 325.808655 'leftturn'\n",
            " 'roadmark_0046.jpg']\n",
            "roadmark_0046.jpg\n",
            "[501.664734 609.485046 574.876038 497.67138700000004 355.438263 349.265442\n",
            " 319.63580299999995 324.574066 'rightturn' 'roadmark_0047.jpg']\n",
            "roadmark_0047.jpg\n",
            "[155.574875 254.077377 298.00415 208.819473 344.327148 355.438263\n",
            " 328.277771 327.043213 'leftturn' 'roadmark_0048.jpg']\n",
            "roadmark_0048.jpg\n",
            "[316.639771 449.75125099999997 432.44674699999996 341.930939 365.314819\n",
            " 366.549377 328.277771 327.043213 'leftturn' 'roadmark_0049.jpg']\n",
            "roadmark_0049.jpg\n",
            "[518.969238 626.78949 586.856079 499.00250199999994 366.549377 352.969147\n",
            " 323.339508 328.277771 'rightturn' 'roadmark_0050.jpg']\n",
            "roadmark_0050.jpg\n",
            "[132.945923 231.448425 276.706329 200.83277900000002 351.734558 362.845673\n",
            " 333.216034 328.277771 'leftturn' 'roadmark_0051.jpg']\n",
            "roadmark_0051.jpg\n",
            "[300.666382 448.42013499999996 432.44674699999996 327.288696 371.48764\n",
            " 372.722229 338.154327 334.450623 'leftturn' 'roadmark_0052.jpg']\n",
            "roadmark_0052.jpg\n",
            "[522.962585 650.749573 602.829468 528.287048 369.018524 366.549377\n",
            " 330.746918 333.216034 'rightturn' 'roadmark_0053.jpg']\n",
            "roadmark_0053.jpg\n",
            "[112.979202 210.15058900000002 250.08402999999998 179.534943 360.376556\n",
            " 372.722229 338.154327 334.450623 'leftturn' 'roadmark_0054.jpg']\n",
            "roadmark_0054.jpg\n",
            "[290.017456 459.06906100000003 425.79116799999997 324.626465 380.129639\n",
            " 387.53704799999997 341.858032 343.09259 'leftturn' 'roadmark_0055.jpg']\n",
            "roadmark_0055.jpg\n",
            "[536.273682 668.054077 612.147278 526.955933 388.771606 365.314819\n",
            " 329.51236 341.858032 'rightturn' 'roadmark_0056.jpg']\n",
            "roadmark_0056.jpg\n",
            "[73.045753 202.163895 238.103989 152.912643 370.253082 383.833344\n",
            " 346.79629500000004 343.09259 'leftturn' 'roadmark_0057.jpg']\n",
            "roadmark_0057.jpg\n",
            "[290.017456 464.393524 432.44674699999996 308.653076 398.648163\n",
            " 403.58642599999996 352.969147 354.20370499999996 'leftturn'\n",
            " 'roadmark_0058.jpg']\n",
            "roadmark_0058.jpg\n",
            "[560.2337650000001 696.007507 625.458374 538.935913 401.117279 377.660492\n",
            " 336.919739 356.672852 'rightturn' 'roadmark_0059.jpg']\n",
            "roadmark_0059.jpg\n",
            "[55.741264 163.561569 220.7995 131.614807 386.30246 398.648163\n",
            " 354.20370499999996 349.265442 'leftturn' 'roadmark_0060.jpg']\n",
            "roadmark_0060.jpg\n",
            "[311.315308 479.03576699999996 444.426788 368.553253 352.969147 352.969147\n",
            " 308.524689 307.29013100000003 'rail' 'roadmark_0061.jpg']\n",
            "roadmark_0061.jpg\n",
            "[321.96423300000004 475.04241900000005 447.08902 372.5466 345.561737\n",
            " 345.561737 306.055542 306.055542 'rail' 'roadmark_0062.jpg']\n",
            "roadmark_0062.jpg\n",
            "[292.679688 481.69799800000004 448.42013499999996 363.22879 361.611115\n",
            " 362.845673 310.993835 312.228394 'rail' 'roadmark_0063.jpg']\n",
            "roadmark_0063.jpg\n",
            "[276.706329 500.33361799999994 448.42013499999996 360.566559 375.191345\n",
            " 375.191345 313.46295200000003 313.46295200000003 'rail'\n",
            " 'roadmark_0064.jpg']\n",
            "roadmark_0064.jpg\n",
            "[255.40849300000002 513.644775 452.413483 360.566559 394.944458 394.944458\n",
            " 315.932098 315.932098 'rail' 'roadmark_0065.jpg']\n",
            "roadmark_0065.jpg\n",
            "[332.613159 467.055725 443.09567300000003 375.208832 335.685181 335.685181\n",
            " 303.58642599999996 303.58642599999996 'rail' 'roadmark_0066.jpg']\n",
            "roadmark_0066.jpg\n",
            "[351.24874900000003 459.06906100000003 441.764557 383.195496 323.339508\n",
            " 323.339508 299.882721 299.882721 'rail' 'roadmark_0067.jpg']\n",
            "roadmark_0067.jpg\n",
            "[345.924286 459.06906100000003 444.426788 379.202148 328.277771 328.277771\n",
            " 301.117279 301.117279 'rail' 'roadmark_0068.jpg']\n",
            "roadmark_0068.jpg\n",
            "[238.103989 328.619812 365.891022 308.653076 319.63580299999995 322.10495\n",
            " 301.117279 299.882721 'rail' 'roadmark_0069.jpg']\n",
            "roadmark_0069.jpg\n",
            "[223.46173100000001 319.302002 360.566559 303.32861299999996 325.808655\n",
            " 327.043213 301.117279 301.117279 'rail' 'roadmark_0070.jpg']\n",
            "roadmark_0070.jpg\n",
            "[192.84608500000002 313.97753900000004 355.242096 296.673035 331.981476\n",
            " 331.981476 302.351837 302.351837 'rail' 'roadmark_0071.jpg']\n",
            "roadmark_0071.jpg\n",
            "[335.27536000000003 464.393524 445.757904 376.539948 333.216034 333.216034\n",
            " 302.351837 302.351837 'rail' 'roadmark_0072.jpg']\n",
            "roadmark_0072.jpg\n",
            "[183.52829 301.997498 353.91098 286.024139 335.685181 335.685181\n",
            " 306.055542 304.820984 'rail' 'roadmark_0073.jpg']\n",
            "roadmark_0073.jpg\n",
            "[159.568222 300.666382 345.924286 279.368561 341.858032 341.858032\n",
            " 308.524689 306.055542 'rail' 'roadmark_0074.jpg']\n",
            "roadmark_0074.jpg\n",
            "[144.925964 282.030792 345.924286 270.050751 346.79629500000004 350.5\n",
            " 310.993835 309.759247 'rail' 'roadmark_0075.jpg']\n",
            "roadmark_0075.jpg\n",
            "[108.985855 264.726288 343.262054 256.739594 357.90741 359.141968\n",
            " 310.993835 313.46295200000003 'rail' 'roadmark_0076.jpg']\n",
            "roadmark_0076.jpg\n",
            "[82.363564 232.77954100000002 343.262054 246.090683 366.549377 376.425934\n",
            " 313.46295200000003 315.932098 'rail' 'roadmark_0077.jpg']\n",
            "roadmark_0077.jpg\n",
            "[35.774544 216.806152 331.28204300000004 231.448425 380.129639 390.006165\n",
            " 318.401245 319.63580299999995 'rail' 'roadmark_0078.jpg']\n",
            "roadmark_0078.jpg\n",
            "[365.891022 444.426788 432.44674699999996 379.202148 334.450623 334.450623\n",
            " 310.993835 310.993835 '35' 'roadmark_0079.jpg']\n",
            "roadmark_0079.jpg\n",
            "[222.13061499999998 292.679688 327.288696 264.726288 331.981476 333.216034\n",
            " 314.69754 313.46295200000003 '35' 'roadmark_0080.jpg']\n",
            "roadmark_0080.jpg\n",
            "[357.904327 445.757904 433.77786299999997 376.539948 343.09259 341.858032\n",
            " 315.932098 315.932098 '35' 'roadmark_0081.jpg']\n",
            "roadmark_0081.jpg\n",
            "[372.5466 440.433441 432.44674699999996 381.86438 328.277771 328.277771\n",
            " 309.759247 309.759247 '35' 'roadmark_0082.jpg']\n",
            "roadmark_0082.jpg\n",
            "[232.77954100000002 305.99084500000004 332.613159 275.375214 327.043213\n",
            " 328.277771 310.993835 309.759247 '35' 'roadmark_0083.jpg']\n",
            "roadmark_0083.jpg\n",
            "[200.83277900000002 278.037445 320.633118 247.42179900000002 338.154327\n",
            " 340.623444 319.63580299999995 319.63580299999995 '35' 'roadmark_0084.jpg']\n",
            "roadmark_0084.jpg\n",
            "[352.579865 447.08902 433.77786299999997 375.208832 350.5 350.5\n",
            " 319.63580299999995 319.63580299999995 '35' 'roadmark_0085.jpg']\n",
            "roadmark_0085.jpg\n",
            "[167.554901 260.73294100000004 320.633118 243.428452 348.030853 349.265442\n",
            " 323.339508 322.10495 '35' 'roadmark_0086.jpg']\n",
            "roadmark_0086.jpg\n",
            "[345.924286 449.75125099999997 432.44674699999996 367.22213700000003\n",
            " 362.845673 362.845673 325.808655 325.808655 '35' 'roadmark_0087.jpg']\n",
            "roadmark_0087.jpg\n",
            "[139.601501 244.759567 296.673035 223.46173100000001 356.672852 359.141968\n",
            " 329.51236 327.043213 '35' 'roadmark_0088.jpg']\n",
            "roadmark_0088.jpg\n",
            "[331.28204300000004 460.4001769999999 435.10897800000004 360.566559\n",
            " 375.191345 375.191345 331.981476 331.981476 '35' 'roadmark_0089.jpg']\n",
            "roadmark_0089.jpg\n",
            "[116.972549 223.46173100000001 288.686371 210.15058900000002 364.080261\n",
            " 373.956787 333.216034 331.981476 '35' 'roadmark_0090.jpg']\n",
            "roadmark_0090.jpg\n",
            "[321.96423300000004 463.062408 440.433441 353.91098 393.70986899999997\n",
            " 392.475311 340.623444 340.623444 '35' 'roadmark_0091.jpg']\n",
            "roadmark_0091.jpg\n",
            "[71.71464499999999 188.85273700000002 276.706329 178.203827 383.833344\n",
            " 393.70986899999997 343.09259 339.388885 '35' 'roadmark_0092.jpg']\n",
            "roadmark_0092.jpg\n",
            "[345.924286 435.10897800000004 425.79116799999997 389.85107400000004\n",
            " 383.833344 382.598755 308.524689 309.759247 'forward' 'roadmark_0093.jpg']\n",
            "roadmark_0093.jpg\n",
            "[347.255402 443.09567300000003 425.79116799999997 380.53326400000003\n",
            " 392.475311 392.475311 313.46295200000003 310.993835 'forward'\n",
            " 'roadmark_0094.jpg']\n",
            "roadmark_0094.jpg\n",
            "[339.268707 424.46005199999996 433.77786299999997 385.857727 401.117279\n",
            " 401.117279 310.993835 310.993835 'forward' 'roadmark_0095.jpg']\n",
            "roadmark_0095.jpg\n",
            "[359.23544300000003 435.10897800000004 424.46005199999996 383.195496\n",
            " 371.48764 371.48764 312.228394 310.993835 'forward' 'roadmark_0096.jpg']\n",
            "roadmark_0096.jpg\n",
            "[361.897675 439.102325 427.122284 389.85107400000004 362.845673 365.314819\n",
            " 309.759247 309.759247 'forward' 'roadmark_0097.jpg']\n",
            "roadmark_0097.jpg\n",
            "[355.242096 439.102325 429.78451500000006 388.51995800000003 359.141968\n",
            " 359.141968 308.524689 308.524689 'forward' 'roadmark_0098.jpg']\n",
            "roadmark_0098.jpg\n",
            "[369.884369 432.44674699999996 425.79116799999997 388.51995800000003\n",
            " 352.969147 354.20370499999996 304.820984 306.055542 'forward'\n",
            " 'roadmark_0099.jpg']\n",
            "roadmark_0099.jpg\n",
            "[379.202148 433.77786299999997 428.4534 396.506653 339.388885 338.154327\n",
            " 302.351837 301.117279 'forward' 'roadmark_0100.jpg']\n",
            "roadmark_0100.jpg\n",
            "[373.877716 440.433441 429.78451500000006 389.85107400000004 345.561737\n",
            " 345.561737 303.58642599999996 302.351837 'forward' 'roadmark_0101.jpg']\n",
            "roadmark_0101.jpg\n",
            "[364.559906 437.77120999999994 429.78451500000006 392.513306 349.265442\n",
            " 349.265442 302.351837 302.351837 'forward' 'roadmark_0102.jpg']\n",
            "roadmark_0102.jpg\n",
            "[379.202148 469.717957 439.102325 387.188843 328.277771 328.277771\n",
            " 296.179016 296.179016 'leftturn' 'roadmark_0103.jpg']\n",
            "roadmark_0103.jpg\n",
            "[254.077377 327.288696 360.566559 312.64642299999997 319.63580299999995\n",
            " 329.51236 297.41357400000004 294.944458 'leftturn' 'roadmark_0104.jpg']\n",
            "roadmark_0104.jpg\n",
            "[385.857727 447.08902 468.386841 385.857727 385.857727 298.648163\n",
            " 298.648163 330.746918 'leftturn' 'roadmark_0105.jpg']\n",
            "roadmark_0105.jpg\n",
            "[305.99084500000004 363.22879 320.633118 254.077377 298.648163 298.648163\n",
            " 333.216034 322.10495 'leftturn' 'roadmark_0106.jpg']\n",
            "roadmark_0106.jpg\n",
            "[387.188843 439.102325 480.36688200000003 387.188843 298.648163 298.648163\n",
            " 338.154327 338.154327 'leftturn' 'roadmark_0107.jpg']\n",
            "roadmark_0107.jpg\n",
            "[303.32861299999996 357.904327 313.97753900000004 243.428452\n",
            " 297.41357400000004 299.882721 339.388885 335.685181 'leftturn'\n",
            " 'roadmark_0108.jpg']\n",
            "roadmark_0108.jpg\n",
            "[383.195496 444.426788 480.36688200000003 377.871063 303.58642599999996\n",
            " 302.351837 344.327148 344.327148 'leftturn' 'roadmark_0109.jpg']\n",
            "roadmark_0109.jpg\n",
            "[295.341919 361.897675 298.00415 246.090683 303.58642599999996\n",
            " 303.58642599999996 348.030853 327.043213 'leftturn' 'roadmark_0110.jpg']\n",
            "roadmark_0110.jpg\n",
            "[387.188843 444.426788 485.691345 365.891022 302.351837 302.351837\n",
            " 351.734558 349.265442 'leftturn' 'roadmark_0111.jpg']\n",
            "roadmark_0111.jpg\n",
            "[299.335266 355.242096 299.335266 191.514969 301.117279 301.117279 350.5\n",
            " 346.79629500000004 'leftturn' 'roadmark_0112.jpg']\n",
            "roadmark_0112.jpg\n",
            "[384.526611 447.08902 491.015808 368.553253 303.58642599999996 302.351837\n",
            " 359.141968 360.376556 'leftturn' 'roadmark_0113.jpg']\n",
            "roadmark_0113.jpg\n",
            "[291.34857200000005 351.24874900000003 287.355255 184.859406 304.820984\n",
            " 307.29013100000003 359.141968 341.858032 'leftturn' 'roadmark_0114.jpg']\n",
            "roadmark_0114.jpg\n",
            "[381.86438 449.75125099999997 499.00250199999994 360.566559 306.055542\n",
            " 306.055542 365.314819 365.314819 'leftturn' 'roadmark_0115.jpg']\n",
            "roadmark_0115.jpg\n",
            "[288.686371 351.24874900000003 280.699677 168.88601699999998 306.055542\n",
            " 306.055542 367.783966 351.734558 'leftturn' 'roadmark_0116.jpg']\n",
            "roadmark_0116.jpg\n",
            "[381.86438 452.413483 508.320312 365.891022 309.759247 308.524689\n",
            " 378.89505 380.129639 'leftturn' 'roadmark_0117.jpg']\n",
            "roadmark_0117.jpg\n",
            "[275.375214 340.599823 264.726288 138.270386 309.759247 309.759247\n",
            " 373.956787 359.141968 'leftturn' 'roadmark_0118.jpg']\n",
            "roadmark_0118.jpg\n",
            "[375.208832 452.413483 517.6381230000001 363.22879 310.993835 309.759247\n",
            " 390.006165 387.53704799999997 'leftturn' 'roadmark_0119.jpg']\n",
            "roadmark_0119.jpg\n",
            "[278.037445 131.614807 234.11064100000002 340.599823 309.759247 360.376556\n",
            " 387.53704799999997 314.69754 'leftturn' 'roadmark_0120.jpg']\n",
            "roadmark_0120.jpg\n",
            "[373.877716 460.4001769999999 528.287048 347.255402 312.228394 312.228394\n",
            " 406.055542 396.179016 'leftturn' 'roadmark_0121.jpg']\n",
            "roadmark_0121.jpg\n",
            "[262.064056 341.930939 219.468384 79.701332 313.46295200000003\n",
            " 313.46295200000003 402.351837 381.36419700000005 'leftturn'\n",
            " 'roadmark_0122.jpg']\n",
            "roadmark_0122.jpg\n",
            "[376.539948 449.75125099999997 500.33361799999994 340.599823 306.055542\n",
            " 304.820984 377.660492 377.660492 'leftturn' 'roadmark_0123.jpg']\n",
            "roadmark_0123.jpg\n",
            "[272.712982 337.937592 236.772873 107.65473899999999 307.29013100000003\n",
            " 307.29013100000003 381.36419700000005 362.845673 'leftturn'\n",
            " 'roadmark_0124.jpg']\n",
            "roadmark_0124.jpg\n",
            "[368.553253 449.75125099999997 510.982544 352.579865 310.993835 308.524689\n",
            " 391.240753 391.240753 'leftturn' 'roadmark_0125.jpg']\n",
            "roadmark_0125.jpg\n",
            "[262.064056 324.626465 220.7995 102.33028399999999 308.524689 309.759247\n",
            " 392.475311 373.956787 'leftturn' 'roadmark_0126.jpg']\n",
            "roadmark_0126.jpg\n",
            "[368.553253 448.42013499999996 524.2937009999999 367.22213700000003\n",
            " 315.932098 309.759247 407.29013100000003 401.117279 'leftturn'\n",
            " 'roadmark_0127.jpg']\n",
            "roadmark_0127.jpg\n",
            "[244.759567 324.626465 188.85273700000002 55.741264 314.69754 314.69754\n",
            " 404.820984 394.944458 'leftturn' 'roadmark_0128.jpg']\n",
            "roadmark_0128.jpg\n",
            "[348.586517 395.175537 389.85107400000004 360.566559 320.870361 320.870361\n",
            " 298.648163 297.41357400000004 'forward' 'roadmark_0129.jpg']\n",
            "roadmark_0129.jpg\n",
            "[363.22879 392.513306 397.837769 347.255402 298.648163 299.882721\n",
            " 324.574066 323.339508 'forward' 'roadmark_0130.jpg']\n",
            "roadmark_0130.jpg\n",
            "[352.579865 399.168884 393.844421 363.22879 328.277771 328.277771\n",
            " 298.648163 298.648163 'forward' 'roadmark_0131.jpg']\n",
            "roadmark_0131.jpg\n",
            "[341.930939 408.486694 401.831116 361.897675 331.981476 331.981476\n",
            " 298.648163 299.882721 'forward' 'roadmark_0132.jpg']\n",
            "roadmark_0132.jpg\n",
            "[340.599823 401.831116 395.175537 364.559906 330.746918 331.981476\n",
            " 298.648163 298.648163 'forward' 'roadmark_0133.jpg']\n",
            "roadmark_0133.jpg\n",
            "[341.930939 404.493347 397.837769 363.22879 334.450623 334.450623\n",
            " 302.351837 301.117279 'forward' 'roadmark_0134.jpg']\n",
            "roadmark_0134.jpg\n",
            "[363.22879 401.831116 404.493347 335.27536000000003 303.58642599999996\n",
            " 303.58642599999996 339.388885 339.388885 'forward' 'roadmark_0135.jpg']\n",
            "roadmark_0135.jpg\n",
            "[335.27536000000003 400.5 409.81781 359.23544300000003 348.030853\n",
            " 348.030853 306.055542 306.055542 'forward' 'roadmark_0136.jpg']\n",
            "roadmark_0136.jpg\n",
            "[333.944275 404.493347 397.837769 359.23544300000003 355.438263 352.969147\n",
            " 309.759247 308.524689 'forward' 'roadmark_0137.jpg']\n",
            "roadmark_0137.jpg\n",
            "[163.561569 219.468384 305.99084500000004 266.057404 341.858032 352.969147\n",
            " 312.228394 308.524689 'forward' 'roadmark_0138.jpg']\n",
            "roadmark_0138.jpg\n",
            "[321.96423300000004 411.14892599999996 397.837769 360.566559 362.845673\n",
            " 361.611115 308.524689 308.524689 'forward' 'roadmark_0139.jpg']\n",
            "roadmark_0139.jpg\n",
            "[140.932617 212.81280499999997 308.653076 250.08402999999998 349.265442\n",
            " 357.90741 313.46295200000003 310.993835 'forward' 'roadmark_0140.jpg']\n",
            "roadmark_0140.jpg\n",
            "[312.64642299999997 417.804504 397.837769 359.23544300000003 372.722229\n",
            " 372.722229 310.993835 312.228394 'forward' 'roadmark_0141.jpg']\n",
            "roadmark_0141.jpg\n",
            "[126.290352 195.50831599999998 299.335266 244.759567 352.969147 366.549377\n",
            " 315.932098 315.932098 'forward' 'roadmark_0142.jpg']\n",
            "roadmark_0142.jpg\n",
            "[357.904327 305.99084500000004 409.81781 397.837769 315.932098 378.89505\n",
            " 383.833344 319.63580299999995 'forward' 'roadmark_0143.jpg']\n",
            "roadmark_0143.jpg\n",
            "[77.039101 188.85273700000002 303.32861299999996 235.441757 367.783966\n",
            " 373.956787 314.69754 317.166656 'forward' 'roadmark_0144.jpg']\n",
            "roadmark_0144.jpg\n",
            "[287.355255 412.48004199999997 404.493347 348.586517 394.944458 394.944458\n",
            " 320.870361 319.63580299999995 'forward' 'roadmark_0145.jpg']\n",
            "roadmark_0145.jpg\n",
            "[46.423462 172.87936399999998 287.355255 222.13061499999998 377.660492\n",
            " 385.067902 318.401245 320.870361 'forward' 'roadmark_0146.jpg']\n",
            "roadmark_0146.jpg\n",
            "[509.651428 562.895996 529.618164 484.360229 343.09259 341.858032\n",
            " 320.870361 323.339508 'bike' 'roadmark_0147.jpg']\n",
            "roadmark_0147.jpg\n",
            "[521.63147 578.869385 540.267029 493.67804 351.734558 349.265442\n",
            " 328.277771 329.51236 'bike' 'roadmark_0148.jpg']\n",
            "roadmark_0148.jpg\n",
            "[532.280396 604.160583 554.9093019999999 500.33361799999994 360.376556\n",
            " 359.141968 333.216034 334.450623 'bike' 'roadmark_0149.jpg']\n",
            "roadmark_0149.jpg\n",
            "[514.975891 550.9159549999999 625.458374 562.895996 341.858032 375.191345\n",
            " 370.253082 340.623444 'bike' 'roadmark_0150.jpg']\n",
            "roadmark_0150.jpg\n",
            "[381.86438 443.09567300000003 432.44674699999996 383.195496 330.746918\n",
            " 329.51236 309.759247 309.759247 '35' 'roadmark_0151.jpg']\n",
            "roadmark_0151.jpg\n",
            "[240.76622000000003 305.99084500000004 333.944275 280.699677 328.277771\n",
            " 328.277771 309.759247 309.759247 '35' 'roadmark_0152.jpg']\n",
            "roadmark_0152.jpg\n",
            "[373.877716 445.757904 435.10897800000004 385.857727 334.450623 334.450623\n",
            " 310.993835 310.993835 '35' 'roadmark_0153.jpg']\n",
            "roadmark_0153.jpg\n",
            "[215.47503700000001 294.01080299999995 327.288696 267.388519 331.981476\n",
            " 336.919739 313.46295200000003 312.228394 '35' 'roadmark_0154.jpg']\n",
            "roadmark_0154.jpg\n",
            "[368.553253 456.40682999999996 437.77120999999994 381.86438 343.09259\n",
            " 343.09259 315.932098 315.932098 '35' 'roadmark_0155.jpg']\n",
            "roadmark_0155.jpg\n",
            "[203.49501 283.361908 317.970886 258.07070899999997 340.623444 343.09259\n",
            " 317.166656 315.932098 '35' 'roadmark_0156.jpg']\n",
            "roadmark_0156.jpg\n",
            "[365.891022 464.393524 440.433441 381.86438 355.438263 351.734558\n",
            " 319.63580299999995 320.870361 '35' 'roadmark_0157.jpg']\n",
            "roadmark_0157.jpg\n",
            "[182.197174 267.388519 308.653076 243.428452 349.265442 352.969147\n",
            " 323.339508 320.870361 '35' 'roadmark_0158.jpg']\n",
            "roadmark_0158.jpg\n",
            "[355.242096 464.393524 441.764557 380.53326400000003 366.549377 364.080261\n",
            " 327.043213 328.277771 '35' 'roadmark_0159.jpg']\n",
            "roadmark_0159.jpg\n",
            "[144.925964 246.090683 303.32861299999996 232.77954100000002 360.376556\n",
            " 364.080261 331.981476 327.043213 '35' 'roadmark_0160.jpg']\n",
            "roadmark_0160.jpg\n",
            "[347.255402 471.04907199999997 448.42013499999996 372.5466 382.598755\n",
            " 381.36419700000005 336.919739 336.919739 '35' 'roadmark_0161.jpg']\n",
            "roadmark_0161.jpg\n",
            "[103.6614 224.79284700000002 286.024139 204.826126 375.191345 380.129639\n",
            " 339.388885 336.919739 '35' 'roadmark_0162.jpg']\n",
            "roadmark_0162.jpg\n",
            "[347.255402 487.022461 457.737946 367.22213700000003 402.351837 401.117279\n",
            " 344.327148 346.79629500000004 '35' 'roadmark_0163.jpg']\n",
            "roadmark_0163.jpg\n",
            "[57.07238 188.85273700000002 280.699677 184.859406 391.240753 399.882721\n",
            " 348.030853 343.09259 '35' 'roadmark_0164.jpg']\n",
            "roadmark_0164.jpg\n",
            "[472.380188 487.022461 536.273682 502.99585 323.339508 341.858032\n",
            " 336.919739 318.401245 'bike' 'roadmark_0165.jpg']\n",
            "roadmark_0165.jpg\n",
            "[475.04241900000005 496.340271 549.584839 514.975891 325.808655 352.969147\n",
            " 346.79629500000004 322.10495 'bike' 'roadmark_0166.jpg']\n",
            "roadmark_0166.jpg\n",
            "[487.022461 508.320312 570.88269 525.624817 336.919739 366.549377\n",
            " 356.672852 330.746918 'bike' 'roadmark_0167.jpg']\n",
            "roadmark_0167.jpg\n",
            "[495.00915499999996 525.624817 594.8427730000001 536.273682 344.327148\n",
            " 383.833344 373.956787 338.154327 'bike' 'roadmark_0168.jpg']\n",
            "roadmark_0168.jpg\n",
            "[508.320312 549.584839 632.113953 560.2337650000001 359.141968 409.759247\n",
            " 396.179016 352.969147 'bike' 'roadmark_0169.jpg']\n",
            "roadmark_0169.jpg\n",
            "[360.566559 447.08902 435.10897800000004 389.85107400000004 329.51236\n",
            " 331.981476 313.46295200000003 313.46295200000003 '40' 'roadmark_0170.jpg']\n",
            "roadmark_0170.jpg\n",
            "[243.428452 325.957581 347.255402 291.34857200000005 328.277771 333.216034\n",
            " 310.993835 309.759247 '40' 'roadmark_0171.jpg']\n",
            "roadmark_0171.jpg\n",
            "[365.891022 449.75125099999997 439.102325 383.195496 336.919739 339.388885\n",
            " 309.759247 312.228394 '40' 'roadmark_0172.jpg']\n",
            "roadmark_0172.jpg\n",
            "[235.441757 315.308655 345.924286 282.030792 331.981476 338.154327\n",
            " 313.46295200000003 313.46295200000003 '40' 'roadmark_0173.jpg']\n",
            "roadmark_0173.jpg\n",
            "[357.904327 455.07571399999995 440.433441 383.195496 340.623444 343.09259\n",
            " 317.166656 315.932098 '40' 'roadmark_0174.jpg']\n",
            "roadmark_0174.jpg\n",
            "[219.468384 303.32861299999996 340.599823 274.044098 335.685181 341.858032\n",
            " 315.932098 315.932098 '40' 'roadmark_0175.jpg']\n",
            "roadmark_0175.jpg\n",
            "[355.242096 455.07571399999995 444.426788 373.877716 348.030853 349.265442\n",
            " 317.166656 317.166656 '40' 'roadmark_0176.jpg']\n",
            "roadmark_0176.jpg\n",
            "[200.83277900000002 298.00415 340.599823 272.712982 341.858032 348.030853\n",
            " 319.63580299999995 317.166656 '40' 'roadmark_0177.jpg']\n",
            "roadmark_0177.jpg\n",
            "[345.924286 456.40682999999996 444.426788 372.5466 356.672852 357.90741\n",
            " 322.10495 320.870361 '40' 'roadmark_0178.jpg']\n",
            "roadmark_0178.jpg\n",
            "[174.21048000000002 284.69302400000004 336.606476 264.726288 345.561737\n",
            " 355.438263 320.870361 318.401245 '40' 'roadmark_0179.jpg']\n",
            "roadmark_0179.jpg\n",
            "[340.599823 456.40682999999996 445.757904 368.553253 366.549377 366.549377\n",
            " 324.574066 323.339508 '40' 'roadmark_0180.jpg']\n",
            "roadmark_0180.jpg\n",
            "[151.581528 274.044098 319.302002 246.090683 360.376556 362.845673\n",
            " 323.339508 323.339508 '40' 'roadmark_0181.jpg']\n",
            "roadmark_0181.jpg\n",
            "[335.27536000000003 471.04907199999997 447.08902 363.22879 375.191345\n",
            " 375.191345 333.216034 333.216034 '40' 'roadmark_0182.jpg']\n",
            "roadmark_0182.jpg\n",
            "[132.945923 259.401825 316.639771 226.123962 361.611115 371.48764\n",
            " 329.51236 329.51236 '40' 'roadmark_0183.jpg']\n",
            "roadmark_0183.jpg\n",
            "[321.96423300000004 475.04241900000005 445.757904 365.891022\n",
            " 387.53704799999997 387.53704799999997 338.154327 338.154327 '40'\n",
            " 'roadmark_0184.jpg']\n",
            "roadmark_0184.jpg\n",
            "[106.323624 224.79284700000002 309.984192 210.15058900000002 375.191345\n",
            " 387.53704799999997 340.623444 335.685181 '40' 'roadmark_0185.jpg']\n",
            "roadmark_0185.jpg\n",
            "[365.891022 440.433441 427.122284 371.215485 329.51236 328.277771\n",
            " 307.29013100000003 307.29013100000003 '40' 'roadmark_0186.jpg']\n",
            "roadmark_0186.jpg\n",
            "[246.090683 315.308655 336.606476 283.361908 325.808655 329.51236\n",
            " 310.993835 308.524689 '40' 'roadmark_0187.jpg']\n",
            "roadmark_0187.jpg\n",
            "[364.559906 441.764557 425.79116799999997 371.215485 334.450623 334.450623\n",
            " 310.993835 310.993835 '40' 'roadmark_0188.jpg']\n",
            "roadmark_0188.jpg\n",
            "[255.40849300000002 258.07070899999997 308.653076 331.28204300000004\n",
            " 275.375214 320.870361 331.981476 334.450623 '40' 'roadmark_0189.jpg']\n",
            "roadmark_0189.jpg\n",
            "[360.566559 448.42013499999996 431.11563099999995 371.215485 339.388885\n",
            " 339.388885 313.46295200000003 313.46295200000003 '40' 'roadmark_0190.jpg']\n",
            "roadmark_0190.jpg\n",
            "[359.23544300000003 448.42013499999996 431.11563099999995\n",
            " 367.22213700000003 344.327148 344.327148 317.166656 317.166656 '40'\n",
            " 'roadmark_0191.jpg']\n",
            "roadmark_0191.jpg\n",
            "[356.573212 451.082367 433.77786299999997 364.559906 352.969147 352.969147\n",
            " 322.10495 322.10495 '40' 'roadmark_0192.jpg']\n",
            "roadmark_0192.jpg\n",
            "[344.59317000000004 467.055725 439.102325 361.897675 362.845673 362.845673\n",
            " 322.10495 323.339508 '40' 'roadmark_0193.jpg']\n",
            "roadmark_0193.jpg\n",
            "[345.924286 457.737946 441.764557 355.242096 369.018524 367.783966\n",
            " 328.277771 330.746918 '40' 'roadmark_0194.jpg']\n",
            "roadmark_0194.jpg\n",
            "[340.599823 471.04907199999997 443.09567300000003 356.573212 380.129639\n",
            " 380.129639 333.216034 333.216034 '40' 'roadmark_0195.jpg']\n",
            "roadmark_0195.jpg\n",
            "[325.957581 475.04241900000005 448.42013499999996 357.904327 394.944458\n",
            " 398.648163 336.919739 335.685181 '40' 'roadmark_0196.jpg']\n",
            "roadmark_0196.jpg\n",
            "[351.24874900000003 437.77120999999994 421.797852 373.877716 330.746918\n",
            " 330.746918 308.524689 308.524689 '40' 'roadmark_0197.jpg']\n",
            "roadmark_0197.jpg\n",
            "[222.13061499999998 305.99084500000004 341.930939 282.030792 330.746918\n",
            " 333.216034 312.228394 308.524689 '40' 'roadmark_0198.jpg']\n",
            "roadmark_0198.jpg\n",
            "[348.586517 445.757904 429.78451500000006 371.215485 339.388885 339.388885\n",
            " 309.759247 310.993835 '40' 'roadmark_0199.jpg']\n",
            "roadmark_0199.jpg\n",
            "[208.819473 300.666382 336.606476 267.388519 336.919739 338.154327\n",
            " 315.932098 313.46295200000003 '40' 'roadmark_0200.jpg']\n",
            "roadmark_0200.jpg\n",
            "[340.599823 443.09567300000003 428.4534 368.553253 346.79629500000004\n",
            " 349.265442 310.993835 313.46295200000003 '40' 'roadmark_0201.jpg']\n",
            "roadmark_0201.jpg\n",
            "[198.170547 292.679688 332.613159 256.739594 341.858032 348.030853\n",
            " 319.63580299999995 318.401245 '40' 'roadmark_0202.jpg']\n",
            "roadmark_0202.jpg\n",
            "[332.613159 443.09567300000003 433.77786299999997 363.22879 355.438263\n",
            " 354.20370499999996 319.63580299999995 318.401245 '40' 'roadmark_0203.jpg']\n",
            "roadmark_0203.jpg\n",
            "[174.21048000000002 279.368561 321.96423300000004 247.42179900000002 350.5\n",
            " 356.672852 324.574066 319.63580299999995 '40' 'roadmark_0204.jpg']\n",
            "roadmark_0204.jpg\n",
            "[328.619812 449.75125099999997 432.44674699999996 359.23544300000003\n",
            " 365.314819 366.549377 327.043213 328.277771 '40' 'roadmark_0205.jpg']\n",
            "roadmark_0205.jpg\n",
            "[148.919296 260.73294100000004 313.97753900000004 236.772873 359.141968\n",
            " 369.018524 330.746918 325.808655 '40' 'roadmark_0206.jpg']\n",
            "roadmark_0206.jpg\n",
            "[316.639771 463.062408 433.77786299999997 353.91098 378.89505 378.89505\n",
            " 328.277771 329.51236 '40' 'roadmark_0207.jpg']\n",
            "roadmark_0207.jpg\n",
            "[114.310318 244.759567 309.984192 215.47503700000001 375.191345 380.129639\n",
            " 333.216034 331.981476 '40' 'roadmark_0208.jpg']\n",
            "roadmark_0208.jpg\n",
            "[309.984192 469.717957 444.426788 344.59317000000004 397.41357400000004\n",
            " 397.41357400000004 341.858032 341.858032 '40' 'roadmark_0209.jpg']\n",
            "roadmark_0209.jpg\n",
            "[79.701332 212.81280499999997 295.341919 202.163895 383.833344 396.179016\n",
            " 344.327148 335.685181 '40' 'roadmark_0210.jpg']\n",
            "roadmark_0210.jpg\n",
            "[387.188843 361.897675 444.426788 429.78451500000006 296.179016 325.808655\n",
            " 325.808655 294.944458 'rightturn' 'roadmark_0211.jpg']\n",
            "roadmark_0211.jpg\n",
            "[357.904327 451.082367 435.10897800000004 383.195496 331.981476 331.981476\n",
            " 299.882721 298.648163 'rightturn' 'roadmark_0212.jpg']\n",
            "roadmark_0212.jpg\n",
            "[347.255402 456.40682999999996 435.10897800000004 389.85107400000004\n",
            " 339.388885 340.623444 296.179016 296.179016 'rightturn'\n",
            " 'roadmark_0213.jpg']\n",
            "roadmark_0213.jpg\n",
            "[344.59317000000004 460.4001769999999 435.10897800000004 381.86438\n",
            " 346.79629500000004 344.327148 298.648163 298.648163 'rightturn'\n",
            " 'roadmark_0214.jpg']\n",
            "roadmark_0214.jpg\n",
            "[333.944275 465.72464 440.433441 381.86438 352.969147 352.969147\n",
            " 303.58642599999996 303.58642599999996 'rightturn' 'roadmark_0215.jpg']\n",
            "roadmark_0215.jpg\n",
            "[325.957581 468.386841 443.09567300000003 377.871063 364.080261 364.080261\n",
            " 308.524689 308.524689 'rightturn' 'roadmark_0216.jpg']\n",
            "roadmark_0216.jpg\n",
            "[316.639771 481.69799800000004 447.08902 379.202148 376.425934 373.956787\n",
            " 308.524689 308.524689 'rightturn' 'roadmark_0217.jpg']\n",
            "roadmark_0217.jpg\n",
            "[304.659729 502.99585 453.74459800000005 375.208832 387.53704799999997\n",
            " 392.475311 313.46295200000003 310.993835 'rightturn' 'roadmark_0218.jpg']\n",
            "roadmark_0218.jpg\n",
            "[343.262054 449.75125099999997 423.128937 371.215485 343.09259 343.09259\n",
            " 294.944458 297.41357400000004 'rightturn' 'roadmark_0219.jpg']\n",
            "roadmark_0219.jpg\n",
            "[337.937592 457.737946 427.122284 373.877716 350.5 345.561737 296.179016\n",
            " 296.179016 'rightturn' 'roadmark_0220.jpg']\n",
            "roadmark_0220.jpg\n",
            "[331.28204300000004 455.07571399999995 431.11563099999995 369.884369\n",
            " 357.90741 356.672852 298.648163 299.882721 'rightturn'\n",
            " 'roadmark_0221.jpg']\n",
            "roadmark_0221.jpg\n",
            "[320.633118 455.07571399999995 429.78451500000006 367.22213700000003\n",
            " 371.48764 369.018524 302.351837 301.117279 'rightturn'\n",
            " 'roadmark_0222.jpg']\n",
            "roadmark_0222.jpg\n",
            "[307.32196 477.70465099999996 435.10897800000004 364.559906 386.30246\n",
            " 387.53704799999997 308.524689 307.29013100000003 'rightturn'\n",
            " 'roadmark_0223.jpg']\n",
            "roadmark_0223.jpg\n",
            "[357.904327 439.102325 457.737946 305.99084500000004 308.524689 308.524689\n",
            " 398.648163 397.41357400000004 'rightturn' 'roadmark_0224.jpg']\n",
            "roadmark_0224.jpg\n",
            "[315.308655 448.42013499999996 437.77120999999994 383.195496 350.5\n",
            " 348.030853 299.882721 298.648163 'rightturn' 'roadmark_0225.jpg']\n",
            "roadmark_0225.jpg\n",
            "[301.997498 432.44674699999996 439.102325 372.5466 365.314819 362.845673\n",
            " 303.58642599999996 304.820984 'rightturn' 'roadmark_0226.jpg']\n",
            "roadmark_0226.jpg\n",
            "[298.00415 453.74459800000005 437.77120999999994 372.5466 373.956787\n",
            " 372.722229 304.820984 304.820984 'rightturn' 'roadmark_0227.jpg']\n",
            "roadmark_0227.jpg\n",
            "[280.699677 437.77120999999994 439.102325 361.897675 390.006165 390.006165\n",
            " 309.759247 309.759247 'rightturn' 'roadmark_0228.jpg']\n",
            "roadmark_0228.jpg\n",
            "[279.368561 447.08902 441.764557 371.215485 393.70986899999997 394.944458\n",
            " 309.759247 309.759247 'rightturn' 'roadmark_0229.jpg']\n",
            "roadmark_0229.jpg\n",
            "[377.871063 432.44674699999996 427.122284 385.857727 339.388885 339.388885\n",
            " 314.69754 315.932098 '35' 'roadmark_0230.jpg']\n",
            "roadmark_0230.jpg\n",
            "[202.163895 264.726288 303.32861299999996 254.077377 336.919739 340.623444\n",
            " 318.401245 315.932098 '35' 'roadmark_0231.jpg']\n",
            "roadmark_0231.jpg\n",
            "[365.891022 444.426788 435.10897800000004 384.526611 350.5 351.734558\n",
            " 318.401245 318.401245 '35' 'roadmark_0232.jpg']\n",
            "roadmark_0232.jpg\n",
            "[167.554901 251.415146 298.00415 240.76622000000003 346.79629500000004\n",
            " 349.265442 319.63580299999995 319.63580299999995 '35' 'roadmark_0233.jpg']\n",
            "roadmark_0233.jpg\n",
            "[361.897675 441.764557 433.77786299999997 385.857727 365.314819 361.611115\n",
            " 323.339508 323.339508 '35' 'roadmark_0234.jpg']\n",
            "roadmark_0234.jpg\n",
            "[148.919296 226.123962 283.361908 230.11731 351.734558 359.141968\n",
            " 325.808655 324.574066 '35' 'roadmark_0235.jpg']\n",
            "roadmark_0235.jpg\n",
            "[356.573212 448.42013499999996 433.77786299999997 379.202148 370.253082\n",
            " 372.722229 329.51236 330.746918 '35' 'roadmark_0236.jpg']\n",
            "roadmark_0236.jpg\n",
            "[126.290352 199.50166299999998 272.712982 204.826126 361.611115 369.018524\n",
            " 331.981476 329.51236 '35' 'roadmark_0237.jpg']\n",
            "roadmark_0237.jpg\n",
            "[349.917633 449.75125099999997 436.44009400000004 373.877716 388.771606\n",
            " 385.067902 335.685181 334.450623 '35' 'roadmark_0238.jpg']\n",
            "roadmark_0238.jpg\n",
            "[83.69467900000001 182.197174 258.07070899999997 184.859406 378.89505\n",
            " 378.89505 334.450623 333.216034 '35' 'roadmark_0239.jpg']\n",
            "roadmark_0239.jpg\n",
            "[343.262054 444.426788 435.10897800000004 369.884369 399.882721\n",
            " 403.58642599999996 348.030853 346.79629500000004 '35' 'roadmark_0240.jpg']\n",
            "roadmark_0240.jpg\n",
            "[51.747921000000005 138.270386 232.77954100000002 152.912643 386.30246\n",
            " 393.70986899999997 344.327148 341.858032 '35' 'roadmark_0241.jpg']\n",
            "roadmark_0241.jpg\n",
            "[395.175537 441.764557 460.4001769999999 381.86438 308.524689 309.759247\n",
            " 380.129639 381.36419700000005 'forward' 'roadmark_0242.jpg']\n",
            "roadmark_0242.jpg\n",
            "[120.96588899999999 215.47503700000001 328.619812 270.050751 371.48764\n",
            " 377.660492 308.524689 308.524689 'forward' 'roadmark_0243.jpg']\n",
            "roadmark_0243.jpg\n",
            "[399.168884 444.426788 465.72464 389.85107400000004 309.759247 309.759247\n",
            " 391.240753 391.240753 'forward' 'roadmark_0244.jpg']\n",
            "roadmark_0244.jpg\n",
            "[79.701332 192.84608500000002 315.308655 262.064056 387.53704799999997\n",
            " 388.771606 313.46295200000003 310.993835 'forward' 'roadmark_0245.jpg']\n",
            "roadmark_0245.jpg\n",
            "[395.175537 447.08902 476.37353499999995 387.188843 313.46295200000003\n",
            " 313.46295200000003 407.29013100000003 401.117279 'forward'\n",
            " 'roadmark_0246.jpg']\n",
            "roadmark_0246.jpg\n",
            "[47.754578 135.608154 304.659729 260.73294100000004 393.70986899999997\n",
            " 406.055542 318.401245 313.46295200000003 'forward' 'roadmark_0247.jpg']\n",
            "roadmark_0247.jpg\n",
            "[393.844421 452.413483 479.03576699999996 383.195496 315.932098 314.69754\n",
            " 401.117279 398.648163 'forward' 'roadmark_0248.jpg']\n",
            "roadmark_0248.jpg\n",
            "[9.152246 250.08402999999998 298.00415 82.363564 404.820984 315.932098\n",
            " 323.339508 430.746918 'forward' 'roadmark_0249.jpg']\n",
            "roadmark_0249.jpg\n",
            "[393.844421 459.06906100000003 487.022461 383.195496 319.63580299999995\n",
            " 317.166656 407.29013100000003 398.648163 'forward' 'roadmark_0250.jpg']\n",
            "roadmark_0250.jpg\n",
            "[37.105656 240.76622000000003 284.69302400000004 146.25706499999998\n",
            " 388.771606 319.63580299999995 327.043213 409.759247 'forward'\n",
            " 'roadmark_0251.jpg']\n",
            "roadmark_0251.jpg\n",
            "[388.51995800000003 456.40682999999996 480.36688200000003 384.526611\n",
            " 324.574066 323.339508 402.351837 397.41357400000004 'forward'\n",
            " 'roadmark_0252.jpg']\n",
            "roadmark_0252.jpg\n",
            "[400.5 435.10897800000004 441.764557 399.168884 298.648163 298.648163\n",
            " 328.277771 329.51236 'forward' 'roadmark_0253.jpg']\n",
            "roadmark_0253.jpg\n",
            "[218.137268 278.037445 325.957581 292.679688 327.043213 330.746918\n",
            " 299.882721 299.882721 'forward' 'roadmark_0254.jpg']\n",
            "roadmark_0254.jpg\n",
            "[396.506653 437.77120999999994 444.426788 400.5 299.882721 299.882721\n",
            " 334.450623 334.450623 'forward' 'roadmark_0255.jpg']\n",
            "roadmark_0255.jpg\n",
            "[199.50166299999998 263.395172 328.619812 287.355255 328.277771 334.450623\n",
            " 301.117279 301.117279 'forward' 'roadmark_0256.jpg']\n",
            "roadmark_0256.jpg\n",
            "[396.506653 436.44009400000004 444.426788 405.824463 303.58642599999996\n",
            " 299.882721 341.858032 341.858032 'forward' 'roadmark_0257.jpg']\n",
            "roadmark_0257.jpg\n",
            "[192.84608500000002 258.07070899999997 317.970886 279.368561 335.685181\n",
            " 340.623444 304.820984 302.351837 'forward' 'roadmark_0258.jpg']\n",
            "roadmark_0258.jpg\n",
            "[401.831116 452.413483 433.77786299999997 395.175537 343.09259\n",
            " 346.79629500000004 303.58642599999996 301.117279 'forward'\n",
            " 'roadmark_0259.jpg']\n",
            "roadmark_0259.jpg\n",
            "[170.21713300000002 235.441757 313.97753900000004 279.368561 341.858032\n",
            " 349.265442 306.055542 303.58642599999996 'forward' 'roadmark_0260.jpg']\n",
            "roadmark_0260.jpg\n",
            "[397.837769 457.737946 437.77120999999994 400.5 359.141968\n",
            " 354.20370499999996 303.58642599999996 303.58642599999996 'forward'\n",
            " 'roadmark_0261.jpg']\n",
            "roadmark_0261.jpg\n",
            "[142.263733 216.806152 308.653076 264.726288 349.265442 351.734558\n",
            " 308.524689 306.055542 'forward' 'roadmark_0262.jpg']\n",
            "roadmark_0262.jpg\n",
            "[392.513306 464.393524 440.433441 396.506653 369.018524 366.549377\n",
            " 306.055542 306.055542 'forward' 'roadmark_0263.jpg']\n",
            "roadmark_0263.jpg\n",
            "[111.64808700000002 194.1772 309.984192 259.401825 357.90741 364.080261\n",
            " 306.055542 308.524689 'forward' 'roadmark_0264.jpg']\n",
            "roadmark_0264.jpg\n",
            "[389.85107400000004 475.04241900000005 445.757904 396.506653 385.067902\n",
            " 382.598755 306.055542 307.29013100000003 'forward' 'roadmark_0265.jpg']\n",
            "roadmark_0265.jpg\n",
            "[258.07070899999997 73.045753 155.574875 304.659729 309.759247 366.549377\n",
            " 373.956787 310.993835 'forward' 'roadmark_0266.jpg']\n",
            "roadmark_0266.jpg\n",
            "[391.18219 451.082367 467.055725 403.162231 310.993835 312.228394\n",
            " 396.179016 394.944458 'forward' 'roadmark_0267.jpg']\n",
            "roadmark_0267.jpg\n",
            "[29.118966999999998 239.435104 290.017456 135.608154 377.660492 314.69754\n",
            " 312.228394 386.30246 'forward' 'roadmark_0268.jpg']\n",
            "roadmark_0268.jpg\n",
            "[388.51995800000003 453.74459800000005 484.360229 389.85107400000004\n",
            " 314.69754 314.69754 406.055542 401.117279 'forward' 'roadmark_0269.jpg']\n",
            "roadmark_0269.jpg\n",
            "[26.456739000000002 110.316971 287.355255 224.79284700000002\n",
            " 381.36419700000005 402.351837 315.932098 314.69754 'forward'\n",
            " 'roadmark_0270.jpg']\n",
            "roadmark_0270.jpg\n",
            "[392.513306 445.757904 484.360229 389.85107400000004 317.166656 317.166656\n",
            " 401.117279 399.882721 'forward' 'roadmark_0271.jpg']\n",
            "roadmark_0271.jpg\n",
            "[216.806152 282.030792 94.343597 25.125624 319.63580299999995\n",
            " 319.63580299999995 410.993835 381.36419700000005 'forward'\n",
            " 'roadmark_0272.jpg']\n",
            "roadmark_0272.jpg\n",
            "[381.86438 460.4001769999999 488.353577 380.53326400000003 320.870361\n",
            " 319.63580299999995 399.882721 397.41357400000004 'forward'\n",
            " 'roadmark_0273.jpg']\n",
            "roadmark_0273.jpg\n",
            "[39.767887 188.85273700000002 251.415146 116.972549 367.783966 327.043213\n",
            " 327.043213 399.882721 'forward' 'roadmark_0274.jpg']\n",
            "roadmark_0274.jpg\n",
            "[472.380188 516.307007 537.604797 485.691345 315.932098 315.932098\n",
            " 327.043213 329.51236 'bike' 'roadmark_0275.jpg']\n",
            "roadmark_0275.jpg\n",
            "[481.69799800000004 524.2937009999999 549.584839 491.015808\n",
            " 319.63580299999995 317.166656 331.981476 331.981476 'bike'\n",
            " 'roadmark_0276.jpg']\n",
            "roadmark_0276.jpg\n",
            "[481.69799800000004 534.942566 557.571533 502.99585 320.870361\n",
            " 319.63580299999995 336.919739 339.388885 'bike' 'roadmark_0277.jpg']\n",
            "roadmark_0277.jpg\n",
            "[485.691345 546.9226070000001 569.551575 509.651428 325.808655 323.339508\n",
            " 343.09259 345.561737 'bike' 'roadmark_0278.jpg']\n",
            "roadmark_0278.jpg\n",
            "[493.67804 554.9093019999999 584.193848 516.307007 333.216034 329.51236\n",
            " 351.734558 352.969147 'bike' 'roadmark_0279.jpg']\n",
            "roadmark_0279.jpg\n",
            "[504.32696500000003 569.551575 600.167236 525.624817 340.623444 338.154327\n",
            " 357.90741 361.611115 'bike' 'roadmark_0280.jpg']\n",
            "roadmark_0280.jpg\n",
            "[514.975891 581.531616 617.4717410000001 538.935913 346.79629500000004\n",
            " 344.327148 367.783966 373.956787 'bike' 'roadmark_0281.jpg']\n",
            "roadmark_0281.jpg\n",
            "[526.955933 597.505005 644.0939940000001 560.2337650000001 357.90741\n",
            " 351.734558 381.36419700000005 385.067902 'bike' 'roadmark_0282.jpg']\n",
            "roadmark_0282.jpg\n",
            "[536.273682 620.133972 682.69635 581.531616 367.783966 364.080261\n",
            " 396.179016 402.351837 'bike' 'roadmark_0283.jpg']\n",
            "roadmark_0283.jpg\n",
            "[558.902649 645.42511 715.974182 606.822815 381.36419700000005 376.425934\n",
            " 417.166656 425.808655 'bike' 'roadmark_0284.jpg']\n",
            "roadmark_0284.jpg\n",
            "[381.86438 435.10897800000004 449.75125099999997 365.891022 294.944458\n",
            " 294.944458 312.228394 312.228394 'rail' 'roadmark_0285.jpg']\n",
            "roadmark_0285.jpg\n",
            "[264.726288 352.579865 368.553253 316.639771 310.993835 310.993835\n",
            " 294.944458 294.944458 'rail' 'roadmark_0286.jpg']\n",
            "roadmark_0286.jpg\n",
            "[383.195496 435.10897800000004 452.413483 363.22879 294.944458 294.944458\n",
            " 313.46295200000003 313.46295200000003 'rail' 'roadmark_0287.jpg']\n",
            "roadmark_0287.jpg\n",
            "[255.40849300000002 352.579865 367.22213700000003 315.308655\n",
            " 313.46295200000003 313.46295200000003 294.944458 294.944458 'rail'\n",
            " 'roadmark_0288.jpg']\n",
            "roadmark_0288.jpg\n",
            "[356.573212 456.40682999999996 436.44009400000004 379.202148 317.166656\n",
            " 317.166656 296.179016 296.179016 'rail' 'roadmark_0289.jpg']\n",
            "roadmark_0289.jpg\n",
            "[256.739594 344.59317000000004 365.891022 312.64642299999997 315.932098\n",
            " 315.932098 296.179016 296.179016 'rail' 'roadmark_0290.jpg']\n",
            "roadmark_0290.jpg\n",
            "[359.23544300000003 456.40682999999996 436.44009400000004 379.202148\n",
            " 318.401245 318.401245 298.648163 298.648163 'rail' 'roadmark_0291.jpg']\n",
            "roadmark_0291.jpg\n",
            "[240.76622000000003 343.262054 363.22879 312.64642299999997\n",
            " 319.63580299999995 320.870361 297.41357400000004 296.179016 'rail'\n",
            " 'roadmark_0292.jpg']\n",
            "roadmark_0292.jpg\n",
            "[356.573212 457.737946 437.77120999999994 379.202148 320.870361 320.870361\n",
            " 298.648163 298.648163 'rail' 'roadmark_0293.jpg']\n",
            "roadmark_0293.jpg\n",
            "[232.77954100000002 336.606476 367.22213700000003 304.659729 320.870361\n",
            " 322.10495 298.648163 298.648163 'rail' 'roadmark_0294.jpg']\n",
            "roadmark_0294.jpg\n",
            "[348.586517 464.393524 439.102325 377.871063 327.043213 327.043213\n",
            " 299.882721 299.882721 'rail' 'roadmark_0295.jpg']\n",
            "roadmark_0295.jpg\n",
            "[223.46173100000001 329.950928 364.559906 303.32861299999996 325.808655\n",
            " 325.808655 299.882721 299.882721 'rail' 'roadmark_0296.jpg']\n",
            "roadmark_0296.jpg\n",
            "[345.924286 469.717957 440.433441 377.871063 330.746918 330.746918\n",
            " 302.351837 302.351837 'rail' 'roadmark_0297.jpg']\n",
            "roadmark_0297.jpg\n",
            "[211.48168900000002 327.288696 361.897675 299.335266 329.51236 329.51236\n",
            " 301.117279 301.117279 'rail' 'roadmark_0298.jpg']\n",
            "roadmark_0298.jpg\n",
            "[335.27536000000003 475.04241900000005 441.764557 375.208832 338.154327\n",
            " 336.919739 302.351837 302.351837 'rail' 'roadmark_0299.jpg']\n",
            "roadmark_0299.jpg\n",
            "[206.157242 316.639771 360.566559 288.686371 331.981476 334.450623\n",
            " 301.117279 302.351837 'rail' 'roadmark_0300.jpg']\n",
            "roadmark_0300.jpg\n",
            "[333.944275 476.37353499999995 444.426788 373.877716 338.154327 338.154327\n",
            " 302.351837 302.351837 'rail' 'roadmark_0301.jpg']\n",
            "roadmark_0301.jpg\n",
            "[183.52829 307.32196 357.904327 287.355255 335.685181 338.154327\n",
            " 302.351837 302.351837 'rail' 'roadmark_0302.jpg']\n",
            "roadmark_0302.jpg\n",
            "[333.944275 480.36688200000003 445.757904 373.877716 344.327148 343.09259\n",
            " 303.58642599999996 303.58642599999996 'rail' 'roadmark_0303.jpg']\n",
            "roadmark_0303.jpg\n",
            "[176.872711 300.666382 357.904327 278.037445 340.623444 344.327148\n",
            " 302.351837 302.351837 'rail' 'roadmark_0304.jpg']\n",
            "roadmark_0304.jpg\n",
            "[321.96423300000004 487.022461 444.426788 371.215485 354.20370499999996\n",
            " 350.5 306.055542 306.055542 'rail' 'roadmark_0305.jpg']\n",
            "roadmark_0305.jpg\n",
            "[144.925964 290.017456 349.917633 279.368561 348.030853 352.969147\n",
            " 306.055542 304.820984 'rail' 'roadmark_0306.jpg']\n",
            "roadmark_0306.jpg\n",
            "[307.32196 497.67138700000004 449.75125099999997 367.22213700000003\n",
            " 371.48764 366.549377 308.524689 308.524689 'rail' 'roadmark_0307.jpg']\n",
            "roadmark_0307.jpg\n",
            "[126.290352 272.712982 349.917633 263.395172 357.90741 367.783966\n",
            " 308.524689 308.524689 'rail' 'roadmark_0308.jpg']\n",
            "roadmark_0308.jpg\n",
            "[301.997498 512.3136599999999 448.42013499999996 361.897675 382.598755\n",
            " 382.598755 312.228394 312.228394 'rail' 'roadmark_0309.jpg']\n",
            "roadmark_0309.jpg\n",
            "[89.01913499999999 258.07070899999997 343.262054 262.064056 369.018524\n",
            " 381.36419700000005 313.46295200000003 310.993835 'rail'\n",
            " 'roadmark_0310.jpg']\n",
            "roadmark_0310.jpg\n",
            "[283.361908 526.955933 451.082367 365.891022 390.006165 391.240753\n",
            " 314.69754 314.69754 'rail' 'roadmark_0311.jpg']\n",
            "roadmark_0311.jpg\n",
            "[61.065723 238.103989 335.27536000000003 244.759567 383.833344\n",
            " 393.70986899999997 318.401245 317.166656 'rail' 'roadmark_0312.jpg']\n",
            "roadmark_0312.jpg\n",
            "[284.69302400000004 524.2937009999999 457.737946 357.904327\n",
            " 397.41357400000004 402.351837 319.63580299999995 319.63580299999995\n",
            " 'rail' 'roadmark_0313.jpg']\n",
            "roadmark_0313.jpg\n",
            "[26.456739000000002 206.157242 333.944275 231.448425 393.70986899999997\n",
            " 406.055542 320.870361 322.10495 'rail' 'roadmark_0314.jpg']\n",
            "roadmark_0314.jpg\n",
            "[279.368561 524.2937009999999 460.4001769999999 352.579865 399.882721\n",
            " 399.882721 324.574066 323.339508 'rail' 'roadmark_0315.jpg']\n",
            "roadmark_0315.jpg\n",
            "[39.767887 227.455078 327.288696 228.786194 385.067902 401.117279\n",
            " 323.339508 320.870361 'rail' 'roadmark_0316.jpg']\n",
            "roadmark_0316.jpg\n",
            "[367.22213700000003 439.102325 431.11563099999995 385.857727 328.277771\n",
            " 327.043213 303.58642599999996 304.820984 '40' 'roadmark_0317.jpg']\n",
            "roadmark_0317.jpg\n",
            "[496.340271 566.8893429999999 521.63147 481.69799800000004 328.277771\n",
            " 324.574066 307.29013100000003 309.759247 '40' 'roadmark_0318.jpg']\n",
            "roadmark_0318.jpg\n",
            "[360.566559 445.757904 431.11563099999995 381.86438 335.685181 335.685181\n",
            " 306.055542 306.055542 '40' 'roadmark_0319.jpg']\n",
            "roadmark_0319.jpg\n",
            "[504.32696500000003 582.862732 530.9492799999999 481.69799800000004\n",
            " 330.746918 327.043213 309.759247 308.524689 '40' 'roadmark_0320.jpg']\n",
            "roadmark_0320.jpg\n",
            "[369.884369 445.757904 433.77786299999997 376.539948 335.685181 335.685181\n",
            " 310.993835 310.993835 '40' 'roadmark_0321.jpg']\n",
            "roadmark_0321.jpg\n",
            "[509.651428 588.187195 541.598145 496.340271 335.685181 331.981476\n",
            " 313.46295200000003 313.46295200000003 '40' 'roadmark_0322.jpg']\n",
            "roadmark_0322.jpg\n",
            "[361.897675 456.40682999999996 436.44009400000004 379.202148 343.09259\n",
            " 343.09259 310.993835 312.228394 '40' 'roadmark_0323.jpg']\n",
            "roadmark_0323.jpg\n",
            "[521.63147 602.829468 553.5781860000001 501.664734 339.388885 338.154327\n",
            " 315.932098 317.166656 '40' 'roadmark_0324.jpg']\n",
            "roadmark_0324.jpg\n",
            "[360.566559 456.40682999999996 437.77120999999994 377.871063 352.969147\n",
            " 350.5 315.932098 315.932098 '40' 'roadmark_0325.jpg']\n",
            "roadmark_0325.jpg\n",
            "[533.6115110000001 624.127258 564.227112 510.982544 348.030853 343.09259\n",
            " 319.63580299999995 322.10495 '40' 'roadmark_0326.jpg']\n",
            "roadmark_0326.jpg\n",
            "[352.579865 467.055725 449.75125099999997 371.215485 359.141968 359.141968\n",
            " 325.808655 324.574066 '40' 'roadmark_0327.jpg']\n",
            "roadmark_0327.jpg\n",
            "[541.598145 648.087341 580.2005 517.6381230000001 354.20370499999996\n",
            " 354.20370499999996 325.808655 325.808655 '40' 'roadmark_0328.jpg']\n",
            "roadmark_0328.jpg\n",
            "[352.579865 471.04907199999997 451.082367 371.215485 373.956787 373.956787\n",
            " 329.51236 329.51236 '40' 'roadmark_0329.jpg']\n",
            "roadmark_0329.jpg\n",
            "[560.2337650000001 676.040771 597.505005 526.955933 366.549377 367.783966\n",
            " 330.746918 330.746918 '40' 'roadmark_0330.jpg']\n",
            "roadmark_0330.jpg\n",
            "[336.606476 479.03576699999996 453.74459800000005 367.22213700000003\n",
            " 385.067902 386.30246 336.919739 335.685181 '40' 'roadmark_0331.jpg']\n",
            "roadmark_0331.jpg\n",
            "[574.876038 702.663086 604.160583 538.935913 385.067902 375.191345\n",
            " 334.450623 335.685181 '40' 'roadmark_0332.jpg']\n",
            "roadmark_0332.jpg\n",
            "[332.613159 485.691345 461.731293 365.891022 399.882721 403.58642599999996\n",
            " 346.79629500000004 346.79629500000004 '40' 'roadmark_0333.jpg']\n",
            "roadmark_0333.jpg\n",
            "[610.816162 743.9276120000001 630.782837 556.240417 399.882721\n",
            " 387.53704799999997 343.09259 348.030853 '40' 'roadmark_0334.jpg']\n",
            "roadmark_0334.jpg\n",
            "[252.746262 317.970886 331.28204300000004 283.361908 320.870361 329.51236\n",
            " 310.993835 307.29013100000003 'leftturn' 'roadmark_0335.jpg']\n",
            "roadmark_0335.jpg\n",
            "[234.11064100000002 308.653076 332.613159 280.699677 323.339508 333.216034\n",
            " 312.228394 308.524689 'leftturn' 'roadmark_0336.jpg']\n",
            "roadmark_0336.jpg\n",
            "[232.77954100000002 305.99084500000004 324.626465 270.050751 328.277771\n",
            " 336.919739 317.166656 312.228394 'leftturn' 'roadmark_0337.jpg']\n",
            "roadmark_0337.jpg\n",
            "[222.13061499999998 294.01080299999995 316.639771 260.73294100000004\n",
            " 331.981476 341.858032 319.63580299999995 314.69754 'leftturn'\n",
            " 'roadmark_0338.jpg']\n",
            "roadmark_0338.jpg\n",
            "[199.50166299999998 278.037445 308.653076 251.415146 335.685181 349.265442\n",
            " 324.574066 317.166656 'leftturn' 'roadmark_0339.jpg']\n",
            "roadmark_0339.jpg\n",
            "[186.190521 235.441757 295.341919 268.719635 343.09259 323.339508\n",
            " 334.450623 356.672852 'leftturn' 'roadmark_0340.jpg']\n",
            "roadmark_0340.jpg\n",
            "[167.554901 222.13061499999998 283.361908 248.752914 350.5 329.51236\n",
            " 335.685181 370.253082 'leftturn' 'roadmark_0341.jpg']\n",
            "roadmark_0341.jpg\n",
            "[138.270386 202.163895 271.381866 227.455078 360.376556 336.919739\n",
            " 344.327148 387.53704799999997 'leftturn' 'roadmark_0342.jpg']\n",
            "roadmark_0342.jpg\n",
            "[104.992516 178.203827 255.40849300000002 214.143921 371.48764 341.858032\n",
            " 356.672852 402.351837 'leftturn' 'roadmark_0343.jpg']\n",
            "roadmark_0343.jpg\n",
            "[238.103989 276.706329 312.64642299999997 288.686371 319.63580299999995\n",
            " 308.524689 317.166656 333.216034 'leftturn' 'roadmark_0344.jpg']\n",
            "roadmark_0344.jpg\n",
            "[219.468384 263.395172 303.32861299999996 276.706329 327.043213\n",
            " 313.46295200000003 318.401245 340.623444 'leftturn' 'roadmark_0345.jpg']\n",
            "roadmark_0345.jpg\n",
            "[204.826126 248.752914 296.673035 267.388519 333.216034 317.166656\n",
            " 323.339508 346.79629500000004 'leftturn' 'roadmark_0346.jpg']\n",
            "roadmark_0346.jpg\n",
            "[175.541595 232.77954100000002 279.368561 242.09733599999998 341.858032\n",
            " 324.574066 331.981476 362.845673 'leftturn' 'roadmark_0347.jpg']\n",
            "roadmark_0347.jpg\n",
            "[158.237106 214.143921 266.057404 222.13061499999998 348.030853 329.51236\n",
            " 340.623444 371.48764 'leftturn' 'roadmark_0348.jpg']\n",
            "roadmark_0348.jpg\n",
            "[244.759567 288.686371 329.950928 307.32196 322.10495 307.29013100000003\n",
            " 312.228394 331.981476 'leftturn' 'roadmark_0349.jpg']\n",
            "roadmark_0349.jpg\n",
            "[231.448425 275.375214 324.626465 294.01080299999995 327.043213 312.228394\n",
            " 314.69754 340.623444 'leftturn' 'roadmark_0350.jpg']\n",
            "roadmark_0350.jpg\n",
            "[210.15058900000002 260.73294100000004 317.970886 284.69302400000004\n",
            " 334.450623 318.401245 319.63580299999995 344.327148 'leftturn'\n",
            " 'roadmark_0351.jpg']\n",
            "roadmark_0351.jpg\n",
            "[188.85273700000002 244.759567 307.32196 266.057404 266.057404 341.858032\n",
            " 323.339508 331.981476 'leftturn' 'roadmark_0352.jpg']\n",
            "roadmark_0352.jpg\n",
            "[167.554901 226.123962 288.686371 247.42179900000002 351.734558 329.51236\n",
            " 336.919739 370.253082 'leftturn' 'roadmark_0353.jpg']\n",
            "roadmark_0353.jpg\n",
            "[132.945923 198.170547 274.044098 222.13061499999998 361.611115 338.154327\n",
            " 345.561737 387.53704799999997 'leftturn' 'roadmark_0354.jpg']\n",
            "roadmark_0354.jpg\n",
            "[243.428452 278.037445 332.613159 307.32196 318.401245 306.055542\n",
            " 309.759247 327.043213 'leftturn' 'roadmark_0355.jpg']\n",
            "roadmark_0355.jpg\n",
            "[231.448425 271.381866 320.633118 296.673035 323.339508 309.759247\n",
            " 310.993835 336.919739 'leftturn' 'roadmark_0356.jpg']\n",
            "roadmark_0356.jpg\n",
            "[216.806152 256.739594 304.659729 287.355255 328.277771 314.69754\n",
            " 318.401245 344.327148 'leftturn' 'roadmark_0357.jpg']\n",
            "roadmark_0357.jpg\n",
            "[194.1772 238.103989 296.673035 267.388519 335.685181 319.63580299999995\n",
            " 324.574066 354.20370499999996 'leftturn' 'roadmark_0358.jpg']\n",
            "roadmark_0358.jpg\n",
            "[162.230453 222.13061499999998 274.044098 248.752914 349.265442 325.808655\n",
            " 333.216034 369.018524 'leftturn' 'roadmark_0359.jpg']\n",
            "roadmark_0359.jpg\n",
            "[128.952576 196.83943200000002 258.07070899999997 218.137268 359.141968\n",
            " 334.450623 349.265442 382.598755 'leftturn' 'roadmark_0360.jpg']\n",
            "roadmark_0360.jpg\n",
            "[89.01913499999999 163.561569 227.455078 174.21048000000002 373.956787\n",
            " 346.79629500000004 352.969147 408.524689 'leftturn' 'roadmark_0361.jpg']\n",
            "roadmark_0361.jpg\n",
            "[238.103989 279.368561 325.957581 303.32861299999996 319.63580299999995\n",
            " 307.29013100000003 313.46295200000003 333.216034 'leftturn'\n",
            " 'roadmark_0362.jpg']\n",
            "roadmark_0362.jpg\n",
            "[222.13061499999998 263.395172 317.970886 288.686371 325.808655\n",
            " 313.46295200000003 314.69754 338.154327 'leftturn' 'roadmark_0363.jpg']\n",
            "roadmark_0363.jpg\n",
            "[204.826126 252.746262 308.653076 272.712982 331.981476 317.166656\n",
            " 320.870361 348.030853 'leftturn' 'roadmark_0364.jpg']\n",
            "roadmark_0364.jpg\n",
            "[190.183853 235.441757 286.024139 263.395172 339.388885 322.10495\n",
            " 328.277771 359.141968 'leftturn' 'roadmark_0365.jpg']\n",
            "roadmark_0365.jpg\n",
            "[158.237106 211.48168900000002 279.368561 235.441757 352.969147 329.51236\n",
            " 339.388885 371.48764 'leftturn' 'roadmark_0366.jpg']\n",
            "roadmark_0366.jpg\n",
            "[122.297005 199.50166299999998 255.40849300000002 218.137268 362.845673\n",
            " 335.685181 351.734558 390.006165 'leftturn' 'roadmark_0367.jpg']\n",
            "roadmark_0367.jpg\n",
            "[357.904327 425.79116799999997 425.79116799999997 372.5466 318.401245\n",
            " 318.401245 301.117279 301.117279 'ped' 'roadmark_0368.jpg']\n",
            "roadmark_0368.jpg\n",
            "[480.36688200000003 549.584839 521.63147 464.393524 318.401245 315.932098\n",
            " 302.351837 302.351837 'ped' 'roadmark_0369.jpg']\n",
            "roadmark_0369.jpg\n",
            "[352.579865 433.77786299999997 429.78451500000006 371.215485 322.10495\n",
            " 323.339508 301.117279 302.351837 'ped' 'roadmark_0370.jpg']\n",
            "roadmark_0370.jpg\n",
            "[485.691345 561.56488 521.63147 465.72464 324.574066 319.63580299999995\n",
            " 303.58642599999996 303.58642599999996 'ped' 'roadmark_0371.jpg']\n",
            "roadmark_0371.jpg\n",
            "[344.59317000000004 436.44009400000004 427.122284 369.884369 329.51236\n",
            " 330.746918 307.29013100000003 307.29013100000003 'ped'\n",
            " 'roadmark_0372.jpg']\n",
            "roadmark_0372.jpg\n",
            "[489.684692 573.5449219999999 530.9492799999999 473.711304 330.746918\n",
            " 325.808655 308.524689 308.524689 'ped' 'roadmark_0373.jpg']\n",
            "roadmark_0373.jpg\n",
            "[343.262054 439.102325 428.4534 365.891022 333.216034 336.919739\n",
            " 309.759247 308.524689 'ped' 'roadmark_0374.jpg']\n",
            "roadmark_0374.jpg\n",
            "[497.67138700000004 586.856079 538.935913 481.69799800000004 331.981476\n",
            " 329.51236 309.759247 310.993835 'ped' 'roadmark_0375.jpg']\n",
            "roadmark_0375.jpg\n",
            "[339.268707 437.77120999999994 429.78451500000006 360.566559 343.09259\n",
            " 343.09259 314.69754 314.69754 'ped' 'roadmark_0376.jpg']\n",
            "roadmark_0376.jpg\n",
            "[504.32696500000003 602.829468 549.584839 487.022461 343.09259 338.154327\n",
            " 315.932098 315.932098 'ped' 'roadmark_0377.jpg']\n",
            "roadmark_0377.jpg\n",
            "[333.944275 444.426788 427.122284 349.917633 350.5 352.969147 318.401245\n",
            " 319.63580299999995 'ped' 'roadmark_0378.jpg']\n",
            "roadmark_0378.jpg\n",
            "[513.644775 629.451721 561.56488 488.353577 351.734558 349.265442\n",
            " 319.63580299999995 320.870361 'ped' 'roadmark_0379.jpg']\n",
            "roadmark_0379.jpg\n",
            "[320.633118 447.08902 428.4534 349.917633 362.845673 362.845673 322.10495\n",
            " 323.339508 'ped' 'roadmark_0380.jpg']\n",
            "roadmark_0380.jpg\n",
            "[538.935913 642.762878 574.876038 500.33361799999994 361.611115\n",
            " 354.20370499999996 322.10495 327.043213 'ped' 'roadmark_0381.jpg']\n",
            "roadmark_0381.jpg\n",
            "[305.99084500000004 465.72464 441.764557 345.924286 380.129639 382.598755\n",
            " 324.574066 327.043213 'ped' 'roadmark_0382.jpg']\n",
            "roadmark_0382.jpg\n",
            "[549.584839 680.034119 589.518311 508.320312 377.660492 367.783966\n",
            " 329.51236 331.981476 'ped' 'roadmark_0383.jpg']\n",
            "roadmark_0383.jpg\n",
            "[284.69302400000004 469.717957 437.77120999999994 333.944275 396.179016\n",
            " 398.648163 338.154327 338.154327 'ped' 'roadmark_0384.jpg']\n",
            "roadmark_0384.jpg\n",
            "[572.213806 734.609802 605.491699 518.969238 392.475311 385.067902\n",
            " 335.685181 339.388885 'ped' 'roadmark_0385.jpg']\n",
            "roadmark_0385.jpg\n",
            "[356.573212 440.433441 424.46005199999996 375.208832 314.69754\n",
            " 313.46295200000003 294.944458 297.41357400000004 'xing'\n",
            " 'roadmark_0386.jpg']\n",
            "roadmark_0386.jpg\n",
            "[468.386841 540.267029 509.651428 456.40682999999996 317.166656 310.993835\n",
            " 298.648163 298.648163 'xing' 'roadmark_0387.jpg']\n",
            "roadmark_0387.jpg\n",
            "[361.897675 439.102325 424.46005199999996 377.871063 317.166656\n",
            " 319.63580299999995 296.179016 297.41357400000004 'xing'\n",
            " 'roadmark_0388.jpg']\n",
            "roadmark_0388.jpg\n",
            "[473.711304 548.253723 513.644775 461.731293 322.10495 315.932098\n",
            " 301.117279 301.117279 'xing' 'roadmark_0389.jpg']\n",
            "roadmark_0389.jpg\n",
            "[476.37353499999995 557.571533 518.969238 460.4001769999999 323.339508\n",
            " 322.10495 303.58642599999996 303.58642599999996 'xing'\n",
            " 'roadmark_0390.jpg']\n",
            "roadmark_0390.jpg\n",
            "[356.573212 435.10897800000004 429.78451500000006 371.215485 320.870361\n",
            " 320.870361 303.58642599999996 303.58642599999996 'xing'\n",
            " 'roadmark_0391.jpg']\n",
            "roadmark_0391.jpg\n",
            "[479.03576699999996 565.558228 528.287048 463.062408 329.51236 324.574066\n",
            " 307.29013100000003 306.055542 'xing' 'roadmark_0392.jpg']\n",
            "roadmark_0392.jpg\n",
            "[348.586517 445.757904 431.11563099999995 371.215485 325.808655 325.808655\n",
            " 304.820984 304.820984 'xing' 'roadmark_0393.jpg']\n",
            "roadmark_0393.jpg\n",
            "[487.022461 572.213806 537.604797 468.386841 333.216034 328.277771\n",
            " 309.759247 308.524689 'xing' 'roadmark_0394.jpg']\n",
            "roadmark_0394.jpg\n",
            "[351.24874900000003 440.433441 429.78451500000006 364.559906 330.746918\n",
            " 331.981476 308.524689 307.29013100000003 'xing' 'roadmark_0395.jpg']\n",
            "roadmark_0395.jpg\n",
            "[491.015808 588.187195 550.9159549999999 471.04907199999997 340.623444\n",
            " 331.981476 313.46295200000003 313.46295200000003 'xing'\n",
            " 'roadmark_0396.jpg']\n",
            "roadmark_0396.jpg\n",
            "[340.599823 440.433441 433.77786299999997 361.897675 338.154327 338.154327\n",
            " 312.228394 312.228394 'xing' 'roadmark_0397.jpg']\n",
            "roadmark_0397.jpg\n",
            "[502.99585 609.485046 557.571533 477.70465099999996 346.79629500000004\n",
            " 340.623444 317.166656 317.166656 'xing' 'roadmark_0398.jpg']\n",
            "roadmark_0398.jpg\n",
            "[335.27536000000003 443.09567300000003 433.77786299999997\n",
            " 359.23544300000003 344.327148 344.327148 315.932098 315.932098 'xing'\n",
            " 'roadmark_0399.jpg']\n",
            "roadmark_0399.jpg\n",
            "[514.975891 625.458374 566.8893429999999 487.022461 357.90741\n",
            " 346.79629500000004 322.10495 320.870361 'xing' 'roadmark_0400.jpg']\n",
            "roadmark_0400.jpg\n",
            "[327.288696 449.75125099999997 435.10897800000004 352.579865 352.969147\n",
            " 352.969147 320.870361 319.63580299999995 'xing' 'roadmark_0401.jpg']\n",
            "roadmark_0401.jpg\n",
            "[530.9492799999999 654.74292 574.876038 489.684692 364.080261 356.672852\n",
            " 324.574066 324.574066 'xing' 'roadmark_0402.jpg']\n",
            "roadmark_0402.jpg\n",
            "[316.639771 455.07571399999995 439.102325 348.586517 362.845673 362.845673\n",
            " 319.63580299999995 319.63580299999995 'xing' 'roadmark_0403.jpg']\n",
            "roadmark_0403.jpg\n",
            "[534.942566 681.365234 598.836121 501.664734 380.129639 367.783966\n",
            " 331.981476 333.216034 'xing' 'roadmark_0404.jpg']\n",
            "roadmark_0404.jpg\n",
            "[303.32861299999996 460.4001769999999 445.757904 343.262054 373.956787\n",
            " 376.425934 330.746918 329.51236 'xing' 'roadmark_0405.jpg']\n",
            "roadmark_0405.jpg\n",
            "[560.2337650000001 723.960876 614.8095089999999 505.658081\n",
            " 393.70986899999997 382.598755 336.919739 338.154327 'xing'\n",
            " 'roadmark_0406.jpg']\n",
            "roadmark_0406.jpg\n",
            "[294.01080299999995 469.717957 447.08902 333.944275 391.240753 391.240753\n",
            " 335.685181 335.685181 'xing' 'roadmark_0407.jpg']\n",
            "roadmark_0407.jpg\n",
            "[256.739594 327.288696 335.27536000000003 284.69302400000004 325.808655\n",
            " 329.51236 306.055542 307.29013100000003 'leftturn' 'roadmark_0408.jpg']\n",
            "roadmark_0408.jpg\n",
            "[254.077377 282.030792 332.613159 316.639771 324.574066 310.993835\n",
            " 315.932098 331.981476 'leftturn' 'roadmark_0409.jpg']\n",
            "roadmark_0409.jpg\n",
            "[240.76622000000003 283.361908 331.28204300000004 307.32196 327.043213\n",
            " 312.228394 320.870361 336.919739 'leftturn' 'roadmark_0410.jpg']\n",
            "roadmark_0410.jpg\n",
            "[230.11731 279.368561 328.619812 301.997498 330.746918 314.69754\n",
            " 327.043213 343.09259 'leftturn' 'roadmark_0411.jpg']\n",
            "roadmark_0411.jpg\n",
            "[228.786194 268.719635 325.957581 294.01080299999995 335.685181\n",
            " 319.63580299999995 328.277771 349.265442 'leftturn' 'roadmark_0412.jpg']\n",
            "roadmark_0412.jpg\n",
            "[210.15058900000002 271.381866 317.970886 288.686371 340.623444\n",
            " 319.63580299999995 335.685181 360.376556 'leftturn' 'roadmark_0413.jpg']\n",
            "roadmark_0413.jpg\n",
            "[194.1772 244.759567 308.653076 274.044098 350.5 330.746918 335.685181\n",
            " 365.314819 'leftturn' 'roadmark_0414.jpg']\n",
            "roadmark_0414.jpg\n",
            "[179.534943 242.09733599999998 305.99084500000004 262.064056 356.672852\n",
            " 334.450623 341.858032 378.89505 'leftturn' 'roadmark_0415.jpg']\n",
            "roadmark_0415.jpg\n",
            "[144.925964 231.448425 304.659729 254.077377 370.253082 339.388885\n",
            " 346.79629500000004 390.006165 'leftturn' 'roadmark_0416.jpg']\n",
            "roadmark_0416.jpg\n",
            "[136.93927 230.11731 284.69302400000004 222.13061499999998 377.660492\n",
            " 340.623444 367.783966 409.759247 'leftturn' 'roadmark_0417.jpg']\n",
            "roadmark_0417.jpg\n",
            "[373.877716 448.42013499999996 445.757904 381.86438 327.043213 328.277771\n",
            " 308.524689 308.524689 'leftturn' 'roadmark_0418.jpg']\n",
            "roadmark_0418.jpg\n",
            "[375.208832 445.757904 447.08902 377.871063 331.981476 333.216034\n",
            " 308.524689 310.993835 'leftturn' 'roadmark_0419.jpg']\n",
            "roadmark_0419.jpg\n",
            "[365.891022 449.75125099999997 441.764557 380.53326400000003 333.216034\n",
            " 335.685181 308.524689 308.524689 'leftturn' 'roadmark_0420.jpg']\n",
            "roadmark_0420.jpg\n",
            "[355.242096 448.42013499999996 443.09567300000003 379.202148 335.685181\n",
            " 343.09259 313.46295200000003 310.993835 'leftturn' 'roadmark_0421.jpg']\n",
            "roadmark_0421.jpg\n",
            "[352.579865 457.737946 444.426788 373.877716 343.09259 343.09259 314.69754\n",
            " 313.46295200000003 'leftturn' 'roadmark_0422.jpg']\n",
            "roadmark_0422.jpg\n",
            "[356.573212 452.413483 445.757904 365.891022 349.265442 349.265442\n",
            " 314.69754 315.932098 'leftturn' 'roadmark_0423.jpg']\n",
            "roadmark_0423.jpg\n",
            "[340.599823 457.737946 445.757904 368.553253 350.5 355.438263 314.69754\n",
            " 317.166656 'leftturn' 'roadmark_0424.jpg']\n",
            "roadmark_0424.jpg\n",
            "[320.633118 455.07571399999995 436.44009400000004 360.566559 367.783966\n",
            " 367.783966 323.339508 323.339508 'leftturn' 'roadmark_0425.jpg']\n",
            "roadmark_0425.jpg\n",
            "[323.29534900000004 457.737946 443.09567300000003 355.242096 366.549377\n",
            " 366.549377 330.746918 327.043213 'leftturn' 'roadmark_0426.jpg']\n",
            "roadmark_0426.jpg\n",
            "[333.944275 459.06906100000003 447.08902 345.924286 376.425934 377.660492\n",
            " 331.981476 333.216034 'leftturn' 'roadmark_0427.jpg']\n",
            "roadmark_0427.jpg\n",
            "[315.308655 464.393524 441.764557 337.937592 386.30246 386.30246\n",
            " 339.388885 338.154327 'leftturn' 'roadmark_0428.jpg']\n",
            "roadmark_0428.jpg\n",
            "[311.315308 451.082367 440.433441 333.944275 393.70986899999997 396.179016\n",
            " 341.858032 343.09259 'leftturn' 'roadmark_0429.jpg']\n",
            "roadmark_0429.jpg\n",
            "[311.315308 464.393524 437.77120999999994 325.957581 402.351837 401.117279\n",
            " 338.154327 348.030853 'leftturn' 'roadmark_0430.jpg']\n",
            "roadmark_0430.jpg\n",
            "[348.586517 441.764557 432.44674699999996 356.573212 336.919739 336.919739\n",
            " 320.870361 320.870361 'stop' 'roadmark_0431.jpg']\n",
            "roadmark_0431.jpg\n",
            "[347.255402 436.44009400000004 428.4534 355.242096 339.388885 339.388885\n",
            " 320.870361 320.870361 'stop' 'roadmark_0432.jpg']\n",
            "roadmark_0432.jpg\n",
            "[347.255402 432.44674699999996 429.78451500000006 355.242096 340.623444\n",
            " 339.388885 320.870361 322.10495 'stop' 'roadmark_0433.jpg']\n",
            "roadmark_0433.jpg\n",
            "[341.930939 437.77120999999994 431.11563099999995 351.24874900000003\n",
            " 340.623444 339.388885 323.339508 323.339508 'stop' 'roadmark_0434.jpg']\n",
            "roadmark_0434.jpg\n",
            "[340.599823 435.10897800000004 428.4534 348.586517 343.09259 340.623444\n",
            " 323.339508 323.339508 'stop' 'roadmark_0435.jpg']\n",
            "roadmark_0435.jpg\n",
            "[333.944275 440.433441 428.4534 347.255402 344.327148 343.09259 323.339508\n",
            " 324.574066 'stop' 'roadmark_0436.jpg']\n",
            "roadmark_0436.jpg\n",
            "[331.28204300000004 443.09567300000003 432.44674699999996 341.930939\n",
            " 344.327148 344.327148 324.574066 324.574066 'stop' 'roadmark_0437.jpg']\n",
            "roadmark_0437.jpg\n",
            "[327.288696 441.764557 428.4534 343.262054 346.79629500000004 345.561737\n",
            " 325.808655 325.808655 'stop' 'roadmark_0438.jpg']\n",
            "roadmark_0438.jpg\n",
            "[325.957581 440.433441 428.4534 340.599823 349.265442 350.5 325.808655\n",
            " 327.043213 'stop' 'roadmark_0439.jpg']\n",
            "roadmark_0439.jpg\n",
            "[319.302002 443.09567300000003 428.4534 339.268707 354.20370499999996\n",
            " 349.265442 328.277771 329.51236 'stop' 'roadmark_0440.jpg']\n",
            "roadmark_0440.jpg\n",
            "[316.639771 440.433441 428.4534 337.937592 354.20370499999996\n",
            " 354.20370499999996 329.51236 329.51236 'stop' 'roadmark_0441.jpg']\n",
            "roadmark_0441.jpg\n",
            "[315.308655 441.764557 427.122284 333.944275 357.90741 355.438263\n",
            " 330.746918 330.746918 'stop' 'roadmark_0442.jpg']\n",
            "roadmark_0442.jpg\n",
            "[305.99084500000004 444.426788 427.122284 335.27536000000003 360.376556\n",
            " 360.376556 331.981476 333.216034 'stop' 'roadmark_0443.jpg']\n",
            "roadmark_0443.jpg\n",
            "[304.659729 441.764557 424.46005199999996 328.619812 366.549377 364.080261\n",
            " 333.216034 333.216034 'stop' 'roadmark_0444.jpg']\n",
            "roadmark_0444.jpg\n",
            "[295.341919 447.08902 427.122284 323.29534900000004 367.783966 367.783966\n",
            " 336.919739 336.919739 'stop' 'roadmark_0445.jpg']\n",
            "roadmark_0445.jpg\n",
            "[295.341919 449.75125099999997 435.10897800000004 317.970886 373.956787\n",
            " 373.956787 339.388885 340.623444 'stop' 'roadmark_0446.jpg']\n",
            "roadmark_0446.jpg\n",
            "[284.69302400000004 449.75125099999997 431.11563099999995 317.970886\n",
            " 377.660492 377.660492 341.858032 341.858032 'stop' 'roadmark_0447.jpg']\n",
            "roadmark_0447.jpg\n",
            "[271.381866 453.74459800000005 429.78451500000006 316.639771 382.598755\n",
            " 381.36419700000005 341.858032 344.327148 'stop' 'roadmark_0448.jpg']\n",
            "roadmark_0448.jpg\n",
            "[276.706329 449.75125099999997 428.4534 308.653076 386.30246 386.30246\n",
            " 345.561737 348.030853 'stop' 'roadmark_0449.jpg']\n",
            "roadmark_0449.jpg\n",
            "[272.712982 453.74459800000005 431.11563099999995 312.64642299999997\n",
            " 393.70986899999997 392.475311 348.030853 349.265442 'stop'\n",
            " 'roadmark_0450.jpg']\n",
            "roadmark_0450.jpg\n",
            "[266.057404 451.082367 432.44674699999996 304.659729 401.117279 398.648163\n",
            " 351.734558 354.20370499999996 'stop' 'roadmark_0451.jpg']\n",
            "roadmark_0451.jpg\n",
            "[256.739594 459.06906100000003 432.44674699999996 301.997498 404.820984\n",
            " 403.58642599999996 355.438263 357.90741 'stop' 'roadmark_0452.jpg']\n",
            "roadmark_0452.jpg\n",
            "[251.415146 460.4001769999999 437.77120999999994 300.666382 415.932098\n",
            " 415.932098 354.20370499999996 354.20370499999996 'stop'\n",
            " 'roadmark_0453.jpg']\n",
            "roadmark_0453.jpg\n",
            "[234.11064100000002 467.055725 441.764557 300.666382 419.635803 415.932098\n",
            " 361.611115 360.376556 'stop' 'roadmark_0454.jpg']\n",
            "roadmark_0454.jpg\n",
            "[300.666382 345.924286 356.573212 321.96423300000004 323.339508 328.277771\n",
            " 315.932098 313.46295200000003 'leftturn' 'roadmark_0455.jpg']\n",
            "roadmark_0455.jpg\n",
            "[295.341919 339.268707 352.579865 325.957581 320.870361 330.746918\n",
            " 318.401245 312.228394 'leftturn' 'roadmark_0456.jpg']\n",
            "roadmark_0456.jpg\n",
            "[291.34857200000005 319.302002 349.917633 335.27536000000003 322.10495\n",
            " 313.46295200000003 317.166656 333.216034 'leftturn' 'roadmark_0457.jpg']\n",
            "roadmark_0457.jpg\n",
            "[284.69302400000004 317.970886 348.586517 332.613159 322.10495 312.228394\n",
            " 318.401245 334.450623 'leftturn' 'roadmark_0458.jpg']\n",
            "roadmark_0458.jpg\n",
            "[280.699677 313.97753900000004 348.586517 332.613159 323.339508 314.69754\n",
            " 320.870361 335.685181 'leftturn' 'roadmark_0459.jpg']\n",
            "roadmark_0459.jpg\n",
            "[272.712982 312.64642299999997 343.262054 328.619812 325.808655 317.166656\n",
            " 319.63580299999995 338.154327 'leftturn' 'roadmark_0460.jpg']\n",
            "roadmark_0460.jpg\n",
            "[270.050751 307.32196 340.599823 324.626465 328.277771 318.401245\n",
            " 323.339508 340.623444 'leftturn' 'roadmark_0461.jpg']\n",
            "roadmark_0461.jpg\n",
            "[260.73294100000004 296.673035 336.606476 319.302002 333.216034 322.10495\n",
            " 323.339508 343.09259 'leftturn' 'roadmark_0462.jpg']\n",
            "roadmark_0462.jpg\n",
            "[258.07070899999997 294.01080299999995 332.613159 312.64642299999997\n",
            " 331.981476 323.339508 328.277771 348.030853 'leftturn'\n",
            " 'roadmark_0463.jpg']\n",
            "roadmark_0463.jpg\n",
            "[251.415146 287.355255 329.950928 303.32861299999996 336.919739 324.574066\n",
            " 330.746918 349.265442 'leftturn' 'roadmark_0464.jpg']\n",
            "roadmark_0464.jpg\n",
            "[238.103989 279.368561 325.957581 303.32861299999996 339.388885 327.043213\n",
            " 333.216034 350.5 'leftturn' 'roadmark_0465.jpg']\n",
            "roadmark_0465.jpg\n",
            "[232.77954100000002 276.706329 313.97753900000004 299.335266 340.623444\n",
            " 327.043213 334.450623 352.969147 'leftturn' 'roadmark_0466.jpg']\n",
            "roadmark_0466.jpg\n",
            "[222.13061499999998 268.719635 313.97753900000004 292.679688 344.327148\n",
            " 328.277771 336.919739 360.376556 'leftturn' 'roadmark_0467.jpg']\n",
            "roadmark_0467.jpg\n",
            "[208.819473 258.07070899999997 305.99084500000004 280.699677\n",
            " 346.79629500000004 333.216034 336.919739 366.549377 'leftturn'\n",
            " 'roadmark_0468.jpg']\n",
            "roadmark_0468.jpg\n",
            "[196.83943200000002 250.08402999999998 301.997498 272.712982\n",
            " 354.20370499999996 335.685181 343.09259 370.253082 'leftturn'\n",
            " 'roadmark_0469.jpg']\n",
            "roadmark_0469.jpg\n",
            "[179.534943 247.42179900000002 295.341919 260.73294100000004 357.90741\n",
            " 336.919739 350.5 380.129639 'leftturn' 'roadmark_0470.jpg']\n",
            "roadmark_0470.jpg\n",
            "[162.230453 226.123962 278.037445 243.428452 364.080261 344.327148\n",
            " 351.734558 387.53704799999997 'leftturn' 'roadmark_0471.jpg']\n",
            "roadmark_0471.jpg\n",
            "[150.250412 212.81280499999997 271.381866 224.79284700000002 369.018524\n",
            " 348.030853 357.90741 394.944458 'leftturn' 'roadmark_0472.jpg']\n",
            "roadmark_0472.jpg\n",
            "[128.952576 196.83943200000002 248.752914 208.819473 375.191345 352.969147\n",
            " 362.845673 407.29013100000003 'leftturn' 'roadmark_0473.jpg']\n",
            "roadmark_0473.jpg\n",
            "[103.6614 179.534943 246.090683 178.203827 382.598755 359.141968\n",
            " 370.253082 422.10495 'leftturn' 'roadmark_0474.jpg']\n",
            "roadmark_0474.jpg\n",
            "[74.376869 164.892685 227.455078 151.581528 394.944458 361.611115\n",
            " 382.598755 438.15432699999997 'leftturn' 'roadmark_0475.jpg']\n",
            "roadmark_0475.jpg\n",
            "[385.857727 444.426788 433.77786299999997 396.506653 327.043213 327.043213\n",
            " 312.228394 312.228394 'ped' 'roadmark_0476.jpg']\n",
            "roadmark_0476.jpg\n",
            "[389.85107400000004 440.433441 436.44009400000004 393.844421 327.043213\n",
            " 327.043213 315.932098 315.932098 'ped' 'roadmark_0477.jpg']\n",
            "roadmark_0477.jpg\n",
            "[389.85107400000004 444.426788 436.44009400000004 392.513306 329.51236\n",
            " 329.51236 315.932098 315.932098 'ped' 'roadmark_0478.jpg']\n",
            "roadmark_0478.jpg\n",
            "[287.355255 347.255402 364.559906 316.639771 330.746918 331.981476\n",
            " 318.401245 317.166656 'ped' 'roadmark_0479.jpg']\n",
            "roadmark_0479.jpg\n",
            "[385.857727 447.08902 436.44009400000004 391.18219 331.981476 330.746918\n",
            " 314.69754 315.932098 'ped' 'roadmark_0480.jpg']\n",
            "roadmark_0480.jpg\n",
            "[279.368561 340.599823 357.904327 312.64642299999997 331.981476 333.216034\n",
            " 319.63580299999995 319.63580299999995 'ped' 'roadmark_0481.jpg']\n",
            "roadmark_0481.jpg\n",
            "[385.857727 449.75125099999997 437.77120999999994 392.513306 334.450623\n",
            " 334.450623 315.932098 315.932098 'ped' 'roadmark_0482.jpg']\n",
            "roadmark_0482.jpg\n",
            "[275.375214 341.930939 360.566559 311.315308 334.450623 334.450623\n",
            " 319.63580299999995 319.63580299999995 'ped' 'roadmark_0483.jpg']\n",
            "roadmark_0483.jpg\n",
            "[383.195496 452.413483 441.764557 391.18219 335.685181 335.685181\n",
            " 318.401245 318.401245 'ped' 'roadmark_0484.jpg']\n",
            "roadmark_0484.jpg\n",
            "[272.712982 339.268707 355.242096 304.659729 336.919739 336.919739\n",
            " 320.870361 320.870361 'ped' 'roadmark_0485.jpg']\n",
            "roadmark_0485.jpg\n",
            "[381.86438 455.07571399999995 439.102325 388.51995800000003 339.388885\n",
            " 339.388885 319.63580299999995 319.63580299999995 'ped'\n",
            " 'roadmark_0486.jpg']\n",
            "roadmark_0486.jpg\n",
            "[260.73294100000004 337.937592 353.91098 298.00415 339.388885 339.388885\n",
            " 323.339508 323.339508 'ped' 'roadmark_0487.jpg']\n",
            "roadmark_0487.jpg\n",
            "[379.202148 460.4001769999999 443.09567300000003 389.85107400000004\n",
            " 344.327148 344.327148 322.10495 322.10495 'ped' 'roadmark_0488.jpg']\n",
            "roadmark_0488.jpg\n",
            "[255.40849300000002 331.28204300000004 348.586517 295.341919 343.09259\n",
            " 343.09259 324.574066 324.574066 'ped' 'roadmark_0489.jpg']\n",
            "roadmark_0489.jpg\n",
            "[379.202148 456.40682999999996 445.757904 388.51995800000003\n",
            " 346.79629500000004 346.79629500000004 324.574066 324.574066 'ped'\n",
            " 'roadmark_0490.jpg']\n",
            "roadmark_0490.jpg\n",
            "[246.090683 332.613159 347.255402 294.01080299999995 345.561737 345.561737\n",
            " 327.043213 327.043213 'ped' 'roadmark_0491.jpg']\n",
            "roadmark_0491.jpg\n",
            "[380.53326400000003 459.06906100000003 448.42013499999996\n",
            " 389.85107400000004 350.5 350.5 328.277771 328.277771 'ped'\n",
            " 'roadmark_0492.jpg']\n",
            "roadmark_0492.jpg\n",
            "[246.090683 325.957581 341.930939 283.361908 348.030853 348.030853\n",
            " 330.746918 330.746918 'ped' 'roadmark_0493.jpg']\n",
            "roadmark_0493.jpg\n",
            "[376.539948 465.72464 449.75125099999997 388.51995800000003 356.672852\n",
            " 356.672852 330.746918 330.746918 'ped' 'roadmark_0494.jpg']\n",
            "roadmark_0494.jpg\n",
            "[232.77954100000002 319.302002 339.268707 276.706329 352.969147\n",
            " 354.20370499999996 333.216034 333.216034 'ped' 'roadmark_0495.jpg']\n",
            "roadmark_0495.jpg\n",
            "[372.5466 471.04907199999997 451.082367 384.526611 361.611115 360.376556\n",
            " 331.981476 331.981476 'ped' 'roadmark_0496.jpg']\n",
            "roadmark_0496.jpg\n",
            "[212.81280499999997 303.32861299999996 336.606476 272.712982 359.141968\n",
            " 360.376556 336.919739 334.450623 'ped' 'roadmark_0497.jpg']\n",
            "roadmark_0497.jpg\n",
            "[368.553253 477.70465099999996 453.74459800000005 381.86438 366.549377\n",
            " 366.549377 335.685181 335.685181 'ped' 'roadmark_0498.jpg']\n",
            "roadmark_0498.jpg\n",
            "[202.163895 295.341919 331.28204300000004 263.395172 362.845673 365.314819\n",
            " 339.388885 339.388885 'ped' 'roadmark_0499.jpg']\n",
            "roadmark_0499.jpg\n",
            "[371.215485 487.022461 460.4001769999999 383.195496 376.425934 376.425934\n",
            " 341.858032 340.623444 'ped' 'roadmark_0500.jpg']\n",
            "roadmark_0500.jpg\n",
            "[179.534943 291.34857200000005 323.29534900000004 248.752914 369.018524\n",
            " 373.956787 344.327148 343.09259 'ped' 'roadmark_0501.jpg']\n",
            "roadmark_0501.jpg\n",
            "[359.23544300000003 489.684692 460.4001769999999 381.86438 385.067902\n",
            " 385.067902 345.561737 345.561737 'ped' 'roadmark_0502.jpg']\n",
            "roadmark_0502.jpg\n",
            "[167.554901 271.381866 320.633118 236.772873 375.191345 381.36419700000005\n",
            " 349.265442 348.030853 'ped' 'roadmark_0503.jpg']\n",
            "roadmark_0503.jpg\n",
            "[353.91098 500.33361799999994 468.386841 379.202148 394.944458 394.944458\n",
            " 350.5 350.5 'ped' 'roadmark_0504.jpg']\n",
            "roadmark_0504.jpg\n",
            "[143.594849 260.73294100000004 316.639771 226.123962 385.067902 390.006165\n",
            " 351.734558 351.734558 'ped' 'roadmark_0505.jpg']\n",
            "roadmark_0505.jpg\n",
            "[351.24874900000003 521.63147 471.04907199999997 372.5466\n",
            " 407.29013100000003 407.29013100000003 356.672852 355.438263 'ped'\n",
            " 'roadmark_0506.jpg']\n",
            "roadmark_0506.jpg\n",
            "[107.65473899999999 247.42179900000002 304.659729 218.137268\n",
            " 397.41357400000004 407.29013100000003 357.90741 355.438263 'ped'\n",
            " 'roadmark_0507.jpg']\n",
            "roadmark_0507.jpg\n",
            "[199.50166299999998 235.441757 258.07070899999997 238.103989 333.216034\n",
            " 324.574066 329.51236 338.154327 'leftturn' 'roadmark_0508.jpg']\n",
            "roadmark_0508.jpg\n",
            "[184.859406 223.46173100000001 260.73294100000004 224.79284700000002\n",
            " 334.450623 327.043213 327.043213 340.623444 'leftturn'\n",
            " 'roadmark_0509.jpg']\n",
            "roadmark_0509.jpg\n",
            "[180.866058 216.806152 250.08402999999998 218.137268 336.919739 328.277771\n",
            " 328.277771 344.327148 'leftturn' 'roadmark_0510.jpg']\n",
            "roadmark_0510.jpg\n",
            "[162.230453 210.15058900000002 238.103989 203.49501 339.388885 329.51236\n",
            " 336.919739 346.79629500000004 'leftturn' 'roadmark_0511.jpg']\n",
            "roadmark_0511.jpg\n",
            "[154.243759 200.83277900000002 232.77954100000002 190.183853 340.623444\n",
            " 331.981476 338.154327 351.734558 'leftturn' 'roadmark_0512.jpg']\n",
            "roadmark_0512.jpg\n",
            "[140.932617 191.514969 215.47503700000001 176.872711 344.327148 334.450623\n",
            " 343.09259 356.672852 'leftturn' 'roadmark_0513.jpg']\n",
            "roadmark_0513.jpg\n",
            "[123.62812 172.87936399999998 212.81280499999997 159.568222 349.265442\n",
            " 338.154327 344.327148 361.611115 'leftturn' 'roadmark_0514.jpg']\n",
            "roadmark_0514.jpg\n",
            "[106.323624 164.892685 190.183853 146.25706499999998 352.969147 340.623444\n",
            " 349.265442 365.314819 'leftturn' 'roadmark_0515.jpg']\n",
            "roadmark_0515.jpg\n",
            "[388.51995800000003 448.42013499999996 439.102325 397.837769 325.808655\n",
            " 325.808655 312.228394 312.228394 'xing' 'roadmark_0516.jpg']\n",
            "roadmark_0516.jpg\n",
            "[86.356903 143.594849 174.21048000000002 126.290352 355.438263 345.561737\n",
            " 349.265442 371.48764 'leftturn' 'roadmark_0517.jpg']\n",
            "roadmark_0517.jpg\n",
            "[389.85107400000004 452.413483 443.09567300000003 396.506653 327.043213\n",
            " 327.043213 313.46295200000003 313.46295200000003 'xing'\n",
            " 'roadmark_0518.jpg']\n",
            "roadmark_0518.jpg\n",
            "[388.51995800000003 451.082367 440.433441 393.844421 329.51236 328.277771\n",
            " 312.228394 313.46295200000003 'xing' 'roadmark_0519.jpg']\n",
            "roadmark_0519.jpg\n",
            "[294.01080299999995 361.897675 372.5466 324.626465 328.277771 329.51236\n",
            " 314.69754 315.932098 'xing' 'roadmark_0520.jpg']\n",
            "roadmark_0520.jpg\n",
            "[385.857727 453.74459800000005 441.764557 393.844421 330.746918 330.746918\n",
            " 314.69754 314.69754 'xing' 'roadmark_0521.jpg']\n",
            "roadmark_0521.jpg\n",
            "[284.69302400000004 355.242096 371.215485 327.288696 330.746918 331.981476\n",
            " 315.932098 315.932098 'xing' 'roadmark_0522.jpg']\n",
            "roadmark_0522.jpg\n",
            "[379.202148 457.737946 441.764557 392.513306 333.216034 333.216034\n",
            " 317.166656 317.166656 'xing' 'roadmark_0523.jpg']\n",
            "roadmark_0523.jpg\n",
            "[284.69302400000004 351.24874900000003 367.22213700000003 316.639771\n",
            " 331.981476 331.981476 319.63580299999995 319.63580299999995 'xing'\n",
            " 'roadmark_0524.jpg']\n",
            "roadmark_0524.jpg\n",
            "[381.86438 460.4001769999999 444.426788 392.513306 333.216034 333.216034\n",
            " 318.401245 318.401245 'xing' 'roadmark_0525.jpg']\n",
            "roadmark_0525.jpg\n",
            "[274.044098 349.917633 368.553253 320.633118 334.450623 334.450623\n",
            " 318.401245 317.166656 'xing' 'roadmark_0526.jpg']\n",
            "roadmark_0526.jpg\n",
            "[376.539948 465.72464 449.75125099999997 393.844421 339.388885 339.388885\n",
            " 319.63580299999995 319.63580299999995 'xing' 'roadmark_0527.jpg']\n",
            "roadmark_0527.jpg\n",
            "[271.381866 344.59317000000004 363.22879 307.32196 338.154327 338.154327\n",
            " 322.10495 322.10495 'xing' 'roadmark_0528.jpg']\n",
            "roadmark_0528.jpg\n",
            "[377.871063 465.72464 449.75125099999997 385.857727 341.858032 341.858032\n",
            " 322.10495 322.10495 'xing' 'roadmark_0529.jpg']\n",
            "roadmark_0529.jpg\n",
            "[259.401825 341.930939 360.566559 303.32861299999996 341.858032 341.858032\n",
            " 324.574066 324.574066 'xing' 'roadmark_0530.jpg']\n",
            "roadmark_0530.jpg\n",
            "[373.877716 473.711304 453.74459800000005 384.526611 348.030853 348.030853\n",
            " 325.808655 325.808655 'xing' 'roadmark_0531.jpg']\n",
            "roadmark_0531.jpg\n",
            "[248.752914 337.937592 360.566559 299.335266 346.79629500000004\n",
            " 346.79629500000004 327.043213 327.043213 'xing' 'roadmark_0532.jpg']\n",
            "roadmark_0532.jpg\n",
            "[372.5466 471.04907199999997 455.07571399999995 385.857727 351.734558\n",
            " 350.5 330.746918 330.746918 'xing' 'roadmark_0533.jpg']\n",
            "roadmark_0533.jpg\n",
            "[242.09733599999998 328.619812 352.579865 292.679688 349.265442 351.734558\n",
            " 331.981476 331.981476 'xing' 'roadmark_0534.jpg']\n",
            "roadmark_0534.jpg\n",
            "[372.5466 473.711304 459.06906100000003 383.195496 356.672852\n",
            " 354.20370499999996 331.981476 333.216034 'xing' 'roadmark_0535.jpg']\n",
            "roadmark_0535.jpg\n",
            "[234.11064100000002 325.957581 351.24874900000003 284.69302400000004\n",
            " 355.438263 355.438263 335.685181 334.450623 'xing' 'roadmark_0536.jpg']\n",
            "roadmark_0536.jpg\n",
            "[369.884369 480.36688200000003 455.07571399999995 380.53326400000003\n",
            " 360.376556 360.376556 334.450623 334.450623 'xing' 'roadmark_0537.jpg']\n",
            "roadmark_0537.jpg\n",
            "[218.137268 324.626465 344.59317000000004 275.375214 359.141968 360.376556\n",
            " 336.919739 335.685181 'xing' 'roadmark_0538.jpg']\n",
            "roadmark_0538.jpg\n",
            "[371.215485 484.360229 461.731293 385.857727 366.549377 366.549377\n",
            " 336.919739 336.919739 'xing' 'roadmark_0539.jpg']\n",
            "roadmark_0539.jpg\n",
            "[204.826126 309.984192 349.917633 264.726288 364.080261 366.549377\n",
            " 339.388885 339.388885 'xing' 'roadmark_0540.jpg']\n",
            "roadmark_0540.jpg\n",
            "[359.23544300000003 487.022461 465.72464 379.202148 376.425934 376.425934\n",
            " 340.623444 340.623444 'xing' 'roadmark_0541.jpg']\n",
            "roadmark_0541.jpg\n",
            "[187.521637 298.00415 339.268707 254.077377 370.253082 370.253082\n",
            " 344.327148 344.327148 'xing' 'roadmark_0542.jpg']\n",
            "roadmark_0542.jpg\n",
            "[353.91098 500.33361799999994 471.04907199999997 372.5466 385.067902\n",
            " 385.067902 344.327148 344.327148 'xing' 'roadmark_0543.jpg']\n",
            "roadmark_0543.jpg\n",
            "[163.561569 288.686371 333.944275 242.09733599999998 377.660492\n",
            " 381.36419700000005 349.265442 349.265442 'xing' 'roadmark_0544.jpg']\n",
            "roadmark_0544.jpg\n",
            "[345.924286 502.99585 469.717957 372.5466 392.475311 391.240753 348.030853\n",
            " 349.265442 'xing' 'roadmark_0545.jpg']\n",
            "roadmark_0545.jpg\n",
            "[148.919296 274.044098 321.96423300000004 224.79284700000002\n",
            " 387.53704799999997 392.475311 354.20370499999996 354.20370499999996\n",
            " 'xing' 'roadmark_0546.jpg']\n",
            "roadmark_0546.jpg\n",
            "[339.268707 525.624817 476.37353499999995 369.884369 409.759247 409.759247\n",
            " 354.20370499999996 355.438263 'xing' 'roadmark_0547.jpg']\n",
            "roadmark_0547.jpg\n",
            "[112.979202 262.064056 316.639771 211.48168900000002 401.117279\n",
            " 407.29013100000003 361.611115 359.141968 'xing' 'roadmark_0548.jpg']\n",
            "roadmark_0548.jpg\n",
            "[495.00915499999996 541.598145 576.2071530000001 514.975891 343.09259\n",
            " 340.623444 356.672852 359.141968 'bike' 'roadmark_0549.jpg']\n",
            "roadmark_0549.jpg\n",
            "[500.33361799999994 548.253723 589.518311 522.962585 346.79629500000004\n",
            " 345.561737 362.845673 365.314819 'bike' 'roadmark_0550.jpg']\n",
            "roadmark_0550.jpg\n",
            "[506.989197 562.895996 610.816162 536.273682 351.734558 350.5 375.191345\n",
            " 375.191345 'bike' 'roadmark_0551.jpg']\n",
            "roadmark_0551.jpg\n",
            "[512.3136599999999 576.2071530000001 624.127258 545.591492 357.90741\n",
            " 357.90741 382.598755 382.598755 'bike' 'roadmark_0552.jpg']\n",
            "roadmark_0552.jpg\n",
            "[487.022461 533.6115110000001 569.551575 509.651428 339.388885 339.388885\n",
            " 357.90741 357.90741 'bike' 'roadmark_0553.jpg']\n",
            "roadmark_0553.jpg\n",
            "[489.684692 540.267029 577.538269 517.6381230000001 343.09259 343.09259\n",
            " 361.611115 362.845673 'bike' 'roadmark_0554.jpg']\n",
            "roadmark_0554.jpg\n",
            "[496.340271 549.584839 593.511658 528.287048 348.030853 346.79629500000004\n",
            " 370.253082 370.253082 'bike' 'roadmark_0555.jpg']\n",
            "roadmark_0555.jpg\n",
            "[504.32696500000003 565.558228 609.485046 538.935913 354.20370499999996\n",
            " 354.20370499999996 376.425934 378.89505 'bike' 'roadmark_0556.jpg']\n",
            "roadmark_0556.jpg\n",
            "[510.982544 580.2005 633.445068 554.9093019999999 360.376556 360.376556\n",
            " 385.067902 391.240753 'bike' 'roadmark_0557.jpg']\n",
            "roadmark_0557.jpg\n",
            "[195.50831599999998 234.11064100000002 256.739594 230.11731 331.981476\n",
            " 324.574066 329.51236 339.388885 'leftturn' 'roadmark_0558.jpg']\n",
            "roadmark_0558.jpg\n",
            "[182.197174 226.123962 251.415146 219.468384 334.450623 325.808655\n",
            " 334.450623 343.09259 'leftturn' 'roadmark_0559.jpg']\n",
            "roadmark_0559.jpg\n",
            "[168.88601699999998 207.488358 244.759567 210.15058900000002 338.154327\n",
            " 329.51236 330.746918 346.79629500000004 'leftturn' 'roadmark_0560.jpg']\n",
            "roadmark_0560.jpg\n",
            "[156.905991 192.84608500000002 230.11731 194.1772 340.623444 331.981476\n",
            " 335.685181 350.5 'leftturn' 'roadmark_0561.jpg']\n",
            "roadmark_0561.jpg\n",
            "[139.601501 182.197174 220.7995 179.534943 344.327148 335.685181\n",
            " 339.388885 356.672852 'leftturn' 'roadmark_0562.jpg']\n",
            "roadmark_0562.jpg\n",
            "[115.641434 171.548248 198.170547 162.230453 348.030853 336.919739\n",
            " 345.561737 361.611115 'leftturn' 'roadmark_0563.jpg']\n",
            "roadmark_0563.jpg\n",
            "[176.872711 218.137268 243.428452 202.163895 335.685181 325.808655\n",
            " 331.981476 346.79629500000004 'leftturn' 'roadmark_0564.jpg']\n",
            "roadmark_0564.jpg\n",
            "[196.83943200000002 239.435104 264.726288 235.441757 328.277771 320.870361\n",
            " 325.808655 334.450623 'leftturn' 'roadmark_0565.jpg']\n",
            "roadmark_0565.jpg\n",
            "[184.859406 226.123962 247.42179900000002 220.7995 331.981476 323.339508\n",
            " 330.746918 339.388885 'leftturn' 'roadmark_0566.jpg']\n",
            "roadmark_0566.jpg\n",
            "[151.581528 206.157242 231.448425 196.83943200000002 340.623444 329.51236\n",
            " 333.216034 349.265442 'leftturn' 'roadmark_0567.jpg']\n",
            "roadmark_0567.jpg\n",
            "[139.601501 195.50831599999998 203.49501 179.534943 344.327148 333.216034\n",
            " 344.327148 354.20370499999996 'leftturn' 'roadmark_0568.jpg']\n",
            "roadmark_0568.jpg\n",
            "[114.310318 167.554901 199.50166299999998 155.574875 348.030853 338.154327\n",
            " 339.388885 362.845673 'leftturn' 'roadmark_0569.jpg']\n",
            "roadmark_0569.jpg\n",
            "[90.35025 146.25706499999998 178.203827 134.277039 352.969147 343.09259\n",
            " 349.265442 365.314819 'leftturn' 'roadmark_0570.jpg']\n",
            "roadmark_0570.jpg\n",
            "[65.059067 131.614807 156.905991 107.65473899999999 360.376556 345.561737\n",
            " 355.438263 375.191345 'leftturn' 'roadmark_0571.jpg']\n",
            "roadmark_0571.jpg\n",
            "[25.125624 97.005821 136.93927 66.390182 370.253082 352.969147 360.376556\n",
            " 388.771606 'leftturn' 'roadmark_0572.jpg']\n",
            "roadmark_0572.jpg\n",
            "[240.76622000000003 278.037445 298.00415 263.395172 319.63580299999995\n",
            " 310.993835 318.401245 327.043213 'leftturn' 'roadmark_0573.jpg']\n",
            "roadmark_0573.jpg\n",
            "[228.786194 272.712982 294.01080299999995 270.050751 322.10495\n",
            " 313.46295200000003 318.401245 327.043213 'leftturn' 'roadmark_0574.jpg']\n",
            "roadmark_0574.jpg\n",
            "[224.79284700000002 259.401825 288.686371 256.739594 323.339508 317.166656\n",
            " 319.63580299999995 330.746918 'leftturn' 'roadmark_0575.jpg']\n",
            "roadmark_0575.jpg\n",
            "[215.47503700000001 255.40849300000002 279.368561 250.08402999999998\n",
            " 324.574066 317.166656 322.10495 334.450623 'leftturn' 'roadmark_0576.jpg']\n",
            "roadmark_0576.jpg\n",
            "[202.163895 242.09733599999998 268.719635 244.759567 328.277771 320.870361\n",
            " 322.10495 335.685181 'leftturn' 'roadmark_0577.jpg']\n",
            "roadmark_0577.jpg\n",
            "[194.1772 234.11064100000002 262.064056 235.441757 328.277771 320.870361\n",
            " 325.808655 338.154327 'leftturn' 'roadmark_0578.jpg']\n",
            "roadmark_0578.jpg\n",
            "[178.203827 223.46173100000001 252.746262 224.79284700000002 331.981476\n",
            " 322.10495 328.277771 341.858032 'leftturn' 'roadmark_0579.jpg']\n",
            "roadmark_0579.jpg\n",
            "[164.892685 212.81280499999997 240.76622000000003 207.488358 336.919739\n",
            " 325.808655 333.216034 344.327148 'leftturn' 'roadmark_0580.jpg']\n",
            "roadmark_0580.jpg\n",
            "[147.588181 203.49501 228.786194 199.50166299999998 338.154327 328.277771\n",
            " 334.450623 349.265442 'leftturn' 'roadmark_0581.jpg']\n",
            "roadmark_0581.jpg\n",
            "[123.62812 180.866058 216.806152 179.534943 341.858032 333.216034\n",
            " 335.685181 355.438263 'leftturn' 'roadmark_0582.jpg']\n",
            "roadmark_0582.jpg\n",
            "[106.323624 172.87936399999998 196.83943200000002 152.912643 348.030853\n",
            " 333.216034 346.79629500000004 361.611115 'leftturn' 'roadmark_0583.jpg']\n",
            "roadmark_0583.jpg\n",
            "[75.707985 151.581528 179.534943 134.277039 352.969147 339.388885\n",
            " 352.969147 366.549377 'leftturn' 'roadmark_0584.jpg']\n",
            "roadmark_0584.jpg\n",
            "[43.76123 124.959236 162.230453 100.99916800000001 360.376556 344.327148\n",
            " 354.20370499999996 376.425934 'leftturn' 'roadmark_0585.jpg']\n",
            "roadmark_0585.jpg\n",
            "[513.644775 568.220459 618.8028559999999 548.253723 350.5 348.030853\n",
            " 370.253082 373.956787 'bike' 'roadmark_0586.jpg']\n",
            "roadmark_0586.jpg\n",
            "[525.624817 585.524963 653.411804 562.895996 359.141968 354.20370499999996\n",
            " 382.598755 385.067902 'bike' 'roadmark_0587.jpg']\n",
            "roadmark_0587.jpg\n",
            "[536.273682 604.160583 680.034119 589.518311 367.783966 362.845673\n",
            " 388.771606 401.117279 'bike' 'roadmark_0588.jpg']\n",
            "roadmark_0588.jpg\n",
            "[214.143921 248.752914 271.381866 248.752914 328.277771 319.63580299999995\n",
            " 325.808655 334.450623 'leftturn' 'roadmark_0589.jpg']\n",
            "roadmark_0589.jpg\n",
            "[203.49501 236.772873 264.726288 236.772873 329.51236 322.10495 325.808655\n",
            " 336.919739 'leftturn' 'roadmark_0590.jpg']\n",
            "roadmark_0590.jpg\n",
            "[190.183853 231.448425 262.064056 222.13061499999998 333.216034 324.574066\n",
            " 330.746918 340.623444 'leftturn' 'roadmark_0591.jpg']\n",
            "roadmark_0591.jpg\n",
            "[176.872711 219.468384 243.428452 216.806152 336.919739 328.277771\n",
            " 333.216034 344.327148 'leftturn' 'roadmark_0592.jpg']\n",
            "roadmark_0592.jpg\n",
            "[152.912643 198.170547 235.441757 204.826126 341.858032 331.981476\n",
            " 331.981476 349.265442 'leftturn' 'roadmark_0593.jpg']\n",
            "roadmark_0593.jpg\n",
            "[132.945923 187.521637 220.7995 182.197174 345.561737 334.450623 343.09259\n",
            " 355.438263 'leftturn' 'roadmark_0594.jpg']\n",
            "roadmark_0594.jpg\n",
            "[230.11731 259.401825 290.017456 267.388519 322.10495 315.932098\n",
            " 317.166656 325.808655 'leftturn' 'roadmark_0595.jpg']\n",
            "roadmark_0595.jpg\n",
            "[219.468384 254.077377 282.030792 255.40849300000002 323.339508 315.932098\n",
            " 319.63580299999995 329.51236 'leftturn' 'roadmark_0596.jpg']\n",
            "roadmark_0596.jpg\n",
            "[209.65332 250.843246 272.811218 241.68992599999999 323.34481800000003\n",
            " 315.586212 323.34481800000003 330.241394 'leftturn' 'roadmark_0597.jpg']\n",
            "roadmark_0597.jpg\n",
            "[197.753998 235.282608 261.82724 237.113266 325.93102999999996 320.758606\n",
            " 325.06897000000004 334.551727 'leftturn' 'roadmark_0598.jpg']\n",
            "roadmark_0598.jpg\n",
            "[182.19335900000002 227.044617 252.67392 218.806641 328.517242 322.482758\n",
            " 329.379303 338.0 'leftturn' 'roadmark_0599.jpg']\n",
            "roadmark_0599.jpg\n",
            "[169.378723 212.399307 241.68992599999999 208.737991 332.82757599999997\n",
            " 325.93102999999996 331.103455 342.310333 'leftturn' 'roadmark_0600.jpg']\n",
            "roadmark_0600.jpg\n",
            "[149.241425 196.83866899999998 235.282608 191.34668 336.275848 329.379303\n",
            " 334.551727 347.482758 'leftturn' 'roadmark_0601.jpg']\n",
            "roadmark_0601.jpg\n",
            "[130.934784 180.362701 211.48397799999998 173.955383 341.448273 331.965515\n",
            " 342.310333 352.65518199999997 'leftturn' 'roadmark_0602.jpg']\n",
            "roadmark_0602.jpg\n",
            "[106.220825 162.056061 193.177353 143.749435 346.620697 336.275848\n",
            " 348.34481800000003 360.413788 'leftturn' 'roadmark_0603.jpg']\n",
            "roadmark_0603.jpg\n",
            "[209.65332 240.77459700000003 265.488556 242.60527000000002\n",
            " 325.93102999999996 319.034485 324.206909 331.103455 'leftturn'\n",
            " 'roadmark_0604.jpg']\n",
            "roadmark_0604.jpg\n",
            "[285.625854 314.916473 355.191071 335.96911600000004 325.06897000000004\n",
            " 317.310333 319.034485 332.82757599999997 'leftturn' 'roadmark_0605.jpg']\n",
            "roadmark_0605.jpg\n",
            "[377.159027 391.804352 434.824951 445.808929 329.379303 316.448273\n",
            " 315.586212 328.517242 'rightturn' 'roadmark_0606.jpg']\n",
            "roadmark_0606.jpg\n",
            "[196.83866899999998 233.45195 259.081238 227.959961 326.793091 321.620697\n",
            " 324.206909 334.551727 'leftturn' 'roadmark_0607.jpg']\n",
            "roadmark_0607.jpg\n",
            "[281.964539 311.255157 348.783752 329.561798 328.517242 319.034485\n",
            " 322.482758 338.0 'leftturn' 'roadmark_0608.jpg']\n",
            "roadmark_0608.jpg\n",
            "[374.413055 389.97369399999997 439.40161100000006 449.47024500000003\n",
            " 333.689667 318.17242400000003 319.896545 331.965515 'rightturn'\n",
            " 'roadmark_0609.jpg']\n",
            "roadmark_0609.jpg\n",
            "[369.83639500000004 392.719666 439.40161100000006 450.38559000000004\n",
            " 335.413788 318.17242400000003 319.034485 338.0 'rightturn'\n",
            " 'roadmark_0610.jpg']\n",
            "roadmark_0610.jpg\n",
            "[272.811218 303.01715099999996 345.122437 326.815796 331.103455 320.758606\n",
            " 322.482758 340.586212 'leftturn' 'roadmark_0611.jpg']\n",
            "roadmark_0611.jpg\n",
            "[181.27803 221.55262799999997 254.50457799999998 221.55262799999997\n",
            " 330.241394 323.34481800000003 325.93102999999996 336.275848 'leftturn'\n",
            " 'roadmark_0612.jpg']\n",
            "roadmark_0612.jpg\n",
            "[368.005707 389.97369399999997 435.740265 452.21624800000006 338.862061\n",
            " 322.482758 320.758606 338.0 'rightturn' 'roadmark_0613.jpg']\n",
            "roadmark_0613.jpg\n",
            "[265.488556 299.355835 339.630432 324.069794 331.103455 322.482758\n",
            " 326.793091 342.310333 'leftturn' 'roadmark_0614.jpg']\n",
            "roadmark_0614.jpg\n",
            "[167.54805 213.31465099999997 248.09726 212.399307 332.82757599999997\n",
            " 324.206909 326.793091 339.724152 'leftturn' 'roadmark_0615.jpg']\n",
            "roadmark_0615.jpg\n",
            "[363.429077 388.143036 441.23226900000003 451.300903 342.310333 324.206909\n",
            " 324.206909 342.310333 'rightturn' 'roadmark_0616.jpg']\n",
            "roadmark_0616.jpg\n",
            "[253.58924900000002 288.371857 337.799774 310.339813 337.137939\n",
            " 325.06897000000004 331.965515 347.482758 'leftturn' 'roadmark_0617.jpg']\n",
            "roadmark_0617.jpg\n",
            "[155.648743 199.584671 229.790619 202.330658 335.413788 327.65518199999997\n",
            " 331.103455 342.310333 'leftturn' 'roadmark_0618.jpg']\n",
            "roadmark_0618.jpg\n",
            "[365.25973500000003 383.566376 445.808929 457.70825199999996 347.482758\n",
            " 325.06897000000004 328.517242 349.206909 'rightturn' 'roadmark_0619.jpg']\n",
            "roadmark_0619.jpg\n",
            "[242.60527000000002 283.79519700000003 326.815796 309.4245 338.862061\n",
            " 327.65518199999997 334.551727 350.06897000000004 'leftturn'\n",
            " 'roadmark_0620.jpg']\n",
            "roadmark_0620.jpg\n",
            "[141.91876200000002 195.008011 212.399307 178.532043 338.0 328.517242\n",
            " 338.0 348.34481800000003 'leftturn' 'roadmark_0621.jpg']\n",
            "roadmark_0621.jpg\n",
            "[352.445068 375.328369 446.72424299999994 459.53891 353.517242\n",
            " 327.65518199999997 329.379303 356.103455 'rightturn' 'roadmark_0622.jpg']\n",
            "roadmark_0622.jpg\n",
            "[231.621277 268.234558 325.90045200000003 290.202515 344.896545 331.103455\n",
            " 338.862061 356.103455 'leftturn' 'roadmark_0623.jpg']\n",
            "roadmark_0623.jpg\n",
            "[123.61212900000001 178.532043 204.16133100000002 159.310074\n",
            " 343.17242400000003 331.965515 341.448273 354.379303 'leftturn'\n",
            " 'roadmark_0624.jpg']\n",
            "roadmark_0624.jpg\n",
            "[350.61441 378.989716 442.147583 458.62356600000004 358.689667\n",
            " 332.82757599999997 332.82757599999997 355.241394 'rightturn'\n",
            " 'roadmark_0625.jpg']\n",
            "roadmark_0625.jpg\n",
            "[218.806641 256.335236 311.255157 291.117859 350.93102999999996 335.413788\n",
            " 338.0 361.275848 'leftturn' 'roadmark_0626.jpg']\n",
            "roadmark_0626.jpg\n",
            "[101.644165 158.39473 188.600693 152.90274 347.482758 334.551727\n",
            " 344.034485 356.965515 'leftturn' 'roadmark_0627.jpg']\n",
            "roadmark_0627.jpg\n",
            "[343.291748 371.66705299999995 448.554932 462.284912 366.448273 335.413788\n",
            " 336.275848 363.0 'rightturn' 'roadmark_0628.jpg']\n",
            "roadmark_0628.jpg\n",
            "[199.584671 254.50457799999998 311.255157 277.387878 352.65518199999997\n",
            " 336.275848 345.758606 369.034485 'leftturn' 'roadmark_0629.jpg']\n",
            "roadmark_0629.jpg\n",
            "[82.422195 140.08810400000002 170.294052 127.273453 349.206909 338.862061\n",
            " 345.758606 363.0 'leftturn' 'roadmark_0630.jpg']\n",
            "roadmark_0630.jpg\n",
            "[336.88443 372.582367 449.47024500000003 466.861542 374.206909 339.724152\n",
            " 342.310333 375.93102999999996 'rightturn' 'roadmark_0631.jpg']\n",
            "roadmark_0631.jpg\n",
            "[181.27803 230.705948 294.779175 259.081238 360.413788 342.310333\n",
            " 348.34481800000003 376.793091 'leftturn' 'roadmark_0632.jpg']\n",
            "roadmark_0632.jpg\n",
            "[60.45423100000001 119.03546899999999 151.987411 97.98284100000001\n",
            " 354.379303 342.310333 350.93102999999996 371.620697 'leftturn'\n",
            " 'roadmark_0633.jpg']\n",
            "roadmark_0633.jpg\n",
            "[322.239136 364.34439100000003 458.62356600000004 484.25286900000003\n",
            " 386.275848 343.17242400000003 349.206909 388.0 'rightturn'\n",
            " 'roadmark_0634.jpg']\n",
            "roadmark_0634.jpg\n",
            "[159.310074 216.06063799999998 284.71054100000003 236.19793700000002\n",
            " 369.896545 347.482758 356.965515 388.0 'leftturn' 'roadmark_0635.jpg']\n",
            "roadmark_0635.jpg\n",
            "[30.248283 95.236839 132.76544199999998 65.030891 360.413788\n",
            " 348.34481800000003 356.103455 380.241394 'leftturn' 'roadmark_0636.jpg']\n",
            "roadmark_0636.jpg\n",
            "[312.170471 490.660187 461.36956799999996 358.852417 402.65518199999997\n",
            " 401.793091 354.379303 352.65518199999997 'rightturn' 'roadmark_0637.jpg']\n",
            "roadmark_0637.jpg\n",
            "[125.44279499999999 226.129288 283.79519700000003 194.092682 381.103455\n",
            " 403.517242 362.137939 355.241394 'leftturn' 'roadmark_0638.jpg']\n",
            "roadmark_0638.jpg\n",
            "[6.449657 65.030891 112.628143 12.856978999999999 368.17242400000003\n",
            " 354.379303 362.137939 394.034485 'leftturn' 'roadmark_0639.jpg']\n",
            "roadmark_0639.jpg\n",
            "[370.751709 388.143036 440.316925 449.47024500000003 329.379303 313.862061\n",
            " 313.862061 333.689667 'rightturn' 'roadmark_0640.jpg']\n",
            "roadmark_0640.jpg\n",
            "[280.13388100000003 308.50915499999996 347.868408 334.138458\n",
            " 325.93102999999996 315.586212 319.896545 331.965515 'leftturn'\n",
            " 'roadmark_0641.jpg']\n",
            "roadmark_0641.jpg\n",
            "[197.753998 223.383301 254.50457799999998 235.282608 325.93102999999996\n",
            " 319.034485 321.620697 331.103455 'leftturn' 'roadmark_0642.jpg']\n",
            "roadmark_0642.jpg\n",
            "[367.090393 381.735687 441.23226900000003 445.808929 331.965515 316.448273\n",
            " 316.448273 334.551727 'rightturn' 'roadmark_0643.jpg']\n",
            "roadmark_0643.jpg\n",
            "[273.72653199999996 301.18649300000004 346.03775 329.561798 328.517242\n",
            " 319.034485 321.620697 335.413788 'leftturn' 'roadmark_0644.jpg']\n",
            "roadmark_0644.jpg\n",
            "[187.685349 219.72197000000003 251.758575 224.29862999999997 326.793091\n",
            " 320.758606 324.206909 333.689667 'leftturn' 'roadmark_0645.jpg']\n",
            "roadmark_0645.jpg\n",
            "[361.598389 384.481689 438.486267 449.47024500000003 334.551727 319.034485\n",
            " 319.034485 338.0 'rightturn' 'roadmark_0646.jpg']\n",
            "roadmark_0646.jpg\n",
            "[267.319214 295.694519 345.122437 320.408478 329.379303 320.758606\n",
            " 323.34481800000003 338.0 'leftturn' 'roadmark_0647.jpg']\n",
            "roadmark_0647.jpg\n",
            "[178.532043 215.145309 247.181915 211.48397799999998 328.517242 321.620697\n",
            " 326.793091 336.275848 'leftturn' 'roadmark_0648.jpg']\n",
            "roadmark_0648.jpg\n",
            "[359.767731 377.159027 441.23226900000003 442.147583 336.275848 320.758606\n",
            " 319.896545 336.275848 'rightturn' 'roadmark_0649.jpg']\n",
            "roadmark_0649.jpg\n",
            "[261.82724 287.45651200000003 332.30777 322.239136 331.103455 322.482758\n",
            " 322.482758 338.862061 'leftturn' 'roadmark_0650.jpg']\n",
            "roadmark_0650.jpg\n",
            "[165.717392 202.330658 238.02861000000001 208.737991 330.241394 324.206909\n",
            " 325.06897000000004 337.137939 'leftturn' 'roadmark_0651.jpg']\n",
            "roadmark_0651.jpg\n",
            "[360.683075 449.47024500000003 439.40161100000006 378.074371 339.724152\n",
            " 340.586212 319.896545 320.758606 'rightturn' 'roadmark_0652.jpg']\n",
            "roadmark_0652.jpg\n",
            "[241.68992599999999 287.45651200000003 338.715088 313.08581499999997\n",
            " 334.551727 320.758606 325.06897000000004 341.448273 'leftturn'\n",
            " 'roadmark_0653.jpg']\n",
            "roadmark_0653.jpg\n",
            "[155.648743 197.753998 233.45195 191.34668 331.965515 324.206909\n",
            " 328.517242 340.586212 'leftturn' 'roadmark_0654.jpg']\n",
            "roadmark_0654.jpg\n",
            "[348.783752 450.38559000000004 436.65560899999997 374.413055\n",
            " 343.17242400000003 343.17242400000003 321.620697 322.482758 'rightturn'\n",
            " 'roadmark_0655.jpg']\n",
            "roadmark_0655.jpg\n",
            "[239.85926800000001 304.847839 331.392456 282.879852 336.275848\n",
            " 343.17242400000003 330.241394 322.482758 'leftturn' 'roadmark_0656.jpg']\n",
            "roadmark_0656.jpg\n",
            "[141.003433 184.93936200000002 226.129288 175.78604099999998 337.137939\n",
            " 343.17242400000003 328.517242 325.93102999999996 'leftturn'\n",
            " 'roadmark_0657.jpg']\n",
            "roadmark_0657.jpg\n",
            "[351.52975499999997 448.554932 441.23226900000003 368.921051 345.758606\n",
            " 345.758606 322.482758 321.620697 'rightturn' 'roadmark_0658.jpg']\n",
            "roadmark_0658.jpg\n",
            "[228.87528999999998 299.355835 327.73111 267.319214 342.310333\n",
            " 348.34481800000003 331.103455 326.793091 'leftturn' 'roadmark_0659.jpg']\n",
            "roadmark_0659.jpg\n",
            "[130.934784 169.378723 213.31465099999997 182.19335900000002 336.275848\n",
            " 346.620697 332.82757599999997 326.793091 'leftturn' 'roadmark_0660.jpg']\n",
            "roadmark_0660.jpg\n",
            "[347.868408 449.47024500000003 439.40161100000006 371.66705299999995\n",
            " 351.793091 349.206909 324.206909 324.206909 'rightturn'\n",
            " 'roadmark_0661.jpg']\n",
            "roadmark_0661.jpg\n",
            "[220.637299 289.28717 316.747131 270.065216 342.310333 350.93102999999996\n",
            " 337.137939 326.793091 'leftturn' 'roadmark_0662.jpg']\n",
            "roadmark_0662.jpg\n",
            "[114.458809 157.479401 204.16133100000002 168.463394 339.724152\n",
            " 350.06897000000004 337.137939 330.241394 'leftturn' 'roadmark_0663.jpg']\n",
            "roadmark_0663.jpg\n",
            "[339.630432 452.21624800000006 435.740265 365.25973500000003 355.241394\n",
            " 353.517242 328.517242 328.517242 'rightturn' 'roadmark_0664.jpg']\n",
            "roadmark_0664.jpg\n",
            "[205.991989 284.71054100000003 314.001129 259.081238 346.620697 355.241394\n",
            " 339.724152 331.103455 'leftturn' 'roadmark_0665.jpg']\n",
            "roadmark_0665.jpg\n",
            "[103.47483100000001 153.818085 190.431351 152.90274 344.034485 333.689667\n",
            " 337.137939 351.793091 'leftturn' 'roadmark_0666.jpg']\n",
            "roadmark_0666.jpg\n",
            "[335.05377200000004 357.021729 439.40161100000006 447.639587\n",
            " 357.82757599999997 333.689667 334.551727 360.413788 'rightturn'\n",
            " 'roadmark_0667.jpg']\n",
            "roadmark_0667.jpg\n",
            "[206.907318 243.52059900000003 299.355835 278.30319199999997\n",
            " 348.34481800000003 336.275848 336.275848 363.0 'leftturn'\n",
            " 'roadmark_0668.jpg']\n",
            "roadmark_0668.jpg\n",
            "[87.914185 139.172775 177.616699 135.51144399999998 347.482758 337.137939\n",
            " 340.586212 356.965515 'leftturn' 'roadmark_0669.jpg']\n",
            "roadmark_0669.jpg\n",
            "[329.561798 357.937073 436.65560899999997 437.57092300000005 363.862061\n",
            " 336.275848 337.137939 362.137939 'rightturn' 'roadmark_0670.jpg']\n",
            "roadmark_0670.jpg\n",
            "[187.685349 232.536606 296.609833 269.149872 352.65518199999997 338.862061\n",
            " 339.724152 363.862061 'leftturn' 'roadmark_0671.jpg']\n",
            "roadmark_0671.jpg\n",
            "[71.43821700000001 117.204803 171.209381 116.289474 350.93102999999996\n",
            " 340.586212 342.310333 362.137939 'leftturn' 'roadmark_0672.jpg']\n",
            "roadmark_0672.jpg\n",
            "[318.577789 451.300903 437.57092300000005 350.61441 367.310333 366.448273\n",
            " 334.551727 336.275848 'rightturn' 'roadmark_0673.jpg']\n",
            "roadmark_0673.jpg\n",
            "[169.378723 225.213959 281.964539 259.081238 356.103455 340.586212\n",
            " 344.034485 369.896545 'leftturn' 'roadmark_0674.jpg']\n",
            "roadmark_0674.jpg\n",
            "[53.13158000000001 116.289474 151.987411 100.728836 354.379303 340.586212\n",
            " 350.06897000000004 365.586212 'leftturn' 'roadmark_0675.jpg']\n",
            "roadmark_0675.jpg\n",
            "[306.678497 339.630432 446.72424299999994 448.554932 373.34481800000003\n",
            " 338.862061 339.724152 372.482758 'rightturn' 'roadmark_0676.jpg']\n",
            "roadmark_0676.jpg\n",
            "[156.564072 208.737991 274.64187599999997 248.09726 363.862061\n",
            " 343.17242400000003 346.620697 376.793091 'leftturn' 'roadmark_0677.jpg']\n",
            "roadmark_0677.jpg\n",
            "[33.909611 99.813499 137.342102 87.914185 357.82757599999997 344.896545\n",
            " 348.34481800000003 370.758606 'leftturn' 'roadmark_0678.jpg']\n",
            "roadmark_0678.jpg\n",
            "[310.339813 454.046906 435.740265 335.96911600000004 378.517242 378.517242\n",
            " 344.034485 343.17242400000003 'rightturn' 'roadmark_0679.jpg']\n",
            "roadmark_0679.jpg\n",
            "[139.172775 229.790619 281.964539 199.584671 370.758606 381.965515\n",
            " 350.06897000000004 345.758606 'leftturn' 'roadmark_0680.jpg']\n",
            "roadmark_0680.jpg\n",
            "[14.687643 82.422195 119.03546899999999 62.284896999999994 362.137939\n",
            " 348.34481800000003 352.65518199999997 376.793091 'leftturn'\n",
            " 'roadmark_0681.jpg']\n",
            "roadmark_0681.jpg\n",
            "[299.355835 333.223114 433.90960700000005 440.316925 387.137939 344.896545\n",
            " 346.620697 385.413788 'rightturn' 'roadmark_0682.jpg']\n",
            "roadmark_0682.jpg\n",
            "[129.104126 183.10870400000002 252.67392 223.383301 369.896545\n",
            " 352.65518199999997 353.517242 391.448273 'leftturn' 'roadmark_0683.jpg']\n",
            "roadmark_0683.jpg\n",
            "[282.879852 326.815796 431.16360499999996 443.978271 398.34481800000003\n",
            " 350.93102999999996 349.206909 390.586212 'rightturn' 'roadmark_0684.jpg']\n",
            "roadmark_0684.jpg\n",
            "[110.79748500000001 180.362701 235.282608 205.991989 376.793091\n",
            " 350.93102999999996 362.137939 396.620697 'leftturn' 'roadmark_0685.jpg']\n",
            "roadmark_0685.jpg\n",
            "[271.89587400000005 323.154449 431.16360499999996 439.40161100000006\n",
            " 403.517242 350.93102999999996 356.103455 406.103455 'rightturn'\n",
            " 'roadmark_0686.jpg']\n",
            "roadmark_0686.jpg\n",
            "[97.06750500000001 151.07208300000002 224.29862999999997 181.27803\n",
            " 382.82757599999997 363.0 362.137939 410.413788 'leftturn'\n",
            " 'roadmark_0687.jpg']\n",
            "roadmark_0687.jpg\n",
            "[265.488556 454.96225 438.486267 313.08581499999997 417.310333 417.310333\n",
            " 363.862061 363.862061 'rightturn' 'roadmark_0688.jpg']\n",
            "roadmark_0688.jpg\n",
            "[51.300915 140.08810400000002 226.129288 164.80206299999998 395.758606\n",
            " 364.724152 368.17242400000003 419.034485 'leftturn' 'roadmark_0689.jpg']\n",
            "roadmark_0689.jpg\n",
            "[651.758606 711.2551269999999 716.747131 649.927917 354.379303 356.965515\n",
            " 376.793091 369.896545 'bike' 'roadmark_0690.jpg']\n",
            "roadmark_0690.jpg\n",
            "[643.520569 711.2551269999999 715.831787 646.2666019999999 354.379303\n",
            " 359.551727 381.103455 373.34481800000003 'bike' 'roadmark_0691.jpg']\n",
            "roadmark_0691.jpg\n",
            "[640.774597 703.932495 712.170471 645.351257 357.82757599999997 359.551727\n",
            " 382.82757599999997 377.65518199999997 'bike' 'roadmark_0692.jpg']\n",
            "roadmark_0692.jpg\n",
            "[638.028625 702.101807 708.509155 639.8592530000001 357.82757599999997\n",
            " 363.0 383.689667 378.517242 'bike' 'roadmark_0693.jpg']\n",
            "roadmark_0693.jpg\n",
            "[631.621277 696.609863 711.2551269999999 636.197937 360.413788 363.862061\n",
            " 386.275848 381.103455 'bike' 'roadmark_0694.jpg']\n",
            "roadmark_0694.jpg\n",
            "[631.621277 696.609863 714.916504 633.4519650000001 363.0 363.862061\n",
            " 392.310333 385.413788 'bike' 'roadmark_0695.jpg']\n",
            "roadmark_0695.jpg\n",
            "[621.5526120000001 692.948486 714.916504 635.282593 363.862061\n",
            " 368.17242400000003 394.034485 390.586212 'bike' 'roadmark_0696.jpg']\n",
            "roadmark_0696.jpg\n",
            "[621.5526120000001 692.0332030000001 716.747131 631.621277\n",
            " 368.17242400000003 370.758606 400.06897000000004 394.034485 'bike'\n",
            " 'roadmark_0697.jpg']\n",
            "roadmark_0697.jpg\n",
            "[620.637329 696.609863 716.747131 632.536621 372.482758 376.793091\n",
            " 403.517242 401.793091 'bike' 'roadmark_0698.jpg']\n",
            "roadmark_0698.jpg\n",
            "[214.22997999999998 248.09726 279.218536 252.67392 324.206909 319.034485\n",
            " 322.482758 329.379303 'leftturn' 'roadmark_0699.jpg']\n",
            "roadmark_0699.jpg\n",
            "[207.822647 238.02861000000001 273.72653199999996 249.92791699999998\n",
            " 325.93102999999996 320.758606 320.758606 331.965515 'leftturn'\n",
            " 'roadmark_0700.jpg']\n",
            "roadmark_0700.jpg\n",
            "[203.246002 239.85926800000001 267.319214 239.85926800000001\n",
            " 325.93102999999996 319.896545 323.34481800000003 333.689667 'leftturn'\n",
            " 'roadmark_0701.jpg']\n",
            "roadmark_0701.jpg\n",
            "[193.177353 231.621277 264.573242 231.621277 327.65518199999997 320.758606\n",
            " 323.34481800000003 336.275848 'leftturn' 'roadmark_0702.jpg']\n",
            "roadmark_0702.jpg\n",
            "[184.93936200000002 222.46795699999998 256.335236 225.213959 329.379303\n",
            " 323.34481800000003 325.06897000000004 337.137939 'leftturn'\n",
            " 'roadmark_0703.jpg']\n",
            "roadmark_0703.jpg\n",
            "[181.27803 214.22997999999998 243.52059900000003 216.06063799999998\n",
            " 331.103455 324.206909 328.517242 340.586212 'leftturn'\n",
            " 'roadmark_0704.jpg']\n",
            "roadmark_0704.jpg\n",
            "[164.80206299999998 208.737991 243.52059900000003 205.991989\n",
            " 332.82757599999997 325.93102999999996 329.379303 343.17242400000003\n",
            " 'leftturn' 'roadmark_0705.jpg']\n",
            "roadmark_0705.jpg\n",
            "[152.90274 193.177353 235.282608 195.92334 336.275848 328.517242\n",
            " 331.965515 346.620697 'leftturn' 'roadmark_0706.jpg']\n",
            "roadmark_0706.jpg\n",
            "[144.664764 187.685349 220.637299 183.10870400000002 338.0 331.103455\n",
            " 334.551727 348.34481800000003 'leftturn' 'roadmark_0707.jpg']\n",
            "roadmark_0707.jpg\n",
            "[125.44279499999999 168.463394 206.907318 170.294052 343.17242400000003\n",
            " 333.689667 337.137939 353.517242 'leftturn' 'roadmark_0708.jpg']\n",
            "roadmark_0708.jpg\n",
            "[108.96682 157.479401 196.83866899999998 156.564072 346.620697 336.275848\n",
            " 340.586212 356.965515 'leftturn' 'roadmark_0709.jpg']\n",
            "roadmark_0709.jpg\n",
            "[93.406181 142.834091 188.600693 139.172775 349.206909 339.724152\n",
            " 344.896545 363.0 'leftturn' 'roadmark_0710.jpg']\n",
            "roadmark_0710.jpg\n",
            "[70.52288100000001 132.76544199999998 173.955383 114.458809 353.517242\n",
            " 341.448273 348.34481800000003 369.896545 'leftturn' 'roadmark_0711.jpg']\n",
            "roadmark_0711.jpg\n",
            "[387.227692 445.808929 436.65560899999997 387.227692 337.137939 335.413788\n",
            " 316.448273 318.17242400000003 '35' 'roadmark_0712.jpg']\n",
            "roadmark_0712.jpg\n",
            "[279.218536 339.630432 348.783752 303.01715099999996 333.689667 336.275848\n",
            " 319.896545 318.17242400000003 '35' 'roadmark_0713.jpg']\n",
            "roadmark_0713.jpg\n",
            "[384.481689 443.978271 433.90960700000005 388.143036 338.0 338.862061\n",
            " 319.034485 319.034485 '35' 'roadmark_0714.jpg']\n",
            "roadmark_0714.jpg\n",
            "[273.72653199999996 329.561798 352.445068 301.18649300000004 334.551727\n",
            " 336.275848 321.620697 321.620697 '35' 'roadmark_0715.jpg']\n",
            "roadmark_0715.jpg\n",
            "[378.989716 447.639587 437.57092300000005 388.143036 340.586212 340.586212\n",
            " 322.482758 322.482758 '35' 'roadmark_0716.jpg']\n",
            "roadmark_0716.jpg\n",
            "[266.4039 320.408478 345.122437 297.525177 338.862061 341.448273\n",
            " 325.06897000000004 321.620697 '35' 'roadmark_0717.jpg']\n",
            "roadmark_0717.jpg\n",
            "[380.820374 455.877563 442.147583 390.889008 344.034485 344.034485\n",
            " 324.206909 324.206909 '35' 'roadmark_0718.jpg']\n",
            "roadmark_0718.jpg\n",
            "[259.081238 326.815796 342.37643399999996 293.863831 339.724152 344.896545\n",
            " 326.793091 323.34481800000003 '35' 'roadmark_0719.jpg']\n",
            "roadmark_0719.jpg\n",
            "[380.820374 453.131592 439.40161100000006 388.143036 350.06897000000004\n",
            " 349.206909 326.793091 325.93102999999996 '35' 'roadmark_0720.jpg']\n",
            "roadmark_0720.jpg\n",
            "[249.92791699999998 318.577789 341.46109 286.541199 344.034485 347.482758\n",
            " 328.517242 325.93102999999996 '35' 'roadmark_0721.jpg']\n",
            "roadmark_0721.jpg\n",
            "[378.074371 456.792908 441.23226900000003 389.05835 354.379303 354.379303\n",
            " 328.517242 328.517242 '35' 'roadmark_0722.jpg']\n",
            "roadmark_0722.jpg\n",
            "[233.45195 308.50915499999996 338.715088 282.879852 350.06897000000004\n",
            " 353.517242 332.82757599999997 329.379303 '35' 'roadmark_0723.jpg']\n",
            "roadmark_0723.jpg\n",
            "[375.328369 457.70825199999996 446.72424299999994 383.566376 356.103455\n",
            " 357.82757599999997 331.103455 332.82757599999997 '35' 'roadmark_0724.jpg']\n",
            "roadmark_0724.jpg\n",
            "[223.383301 297.525177 333.223114 277.387878 355.241394 358.689667\n",
            " 335.413788 329.379303 '35' 'roadmark_0725.jpg']\n",
            "roadmark_0725.jpg\n",
            "[376.243713 463.200226 452.21624800000006 384.481689 364.724152 364.724152\n",
            " 334.551727 334.551727 '35' 'roadmark_0726.jpg']\n",
            "roadmark_0726.jpg\n",
            "[212.399307 297.525177 329.561798 259.081238 359.551727 363.862061 338.0\n",
            " 336.275848 '35' 'roadmark_0727.jpg']\n",
            "roadmark_0727.jpg\n",
            "[367.090393 467.77688600000005 453.131592 384.481689 370.758606 369.034485\n",
            " 338.0 338.862061 '35' 'roadmark_0728.jpg']\n",
            "roadmark_0728.jpg\n",
            "[192.262009 276.472534 322.239136 251.758575 363.862061 369.034485\n",
            " 344.034485 338.0 '35' 'roadmark_0729.jpg']\n",
            "roadmark_0729.jpg\n",
            "[367.090393 473.26889000000006 454.046906 382.651031 378.517242\n",
            " 377.65518199999997 343.17242400000003 343.17242400000003 '35'\n",
            " 'roadmark_0730.jpg']\n",
            "roadmark_0730.jpg\n",
            "[170.294052 272.811218 312.170471 233.45195 375.93102999999996\n",
            " 375.93102999999996 346.620697 343.17242400000003 '35' 'roadmark_0731.jpg']\n",
            "roadmark_0731.jpg\n",
            "[357.021729 474.184204 457.70825199999996 376.243713 392.310333 389.724152\n",
            " 348.34481800000003 347.482758 '35' 'roadmark_0732.jpg']\n",
            "roadmark_0732.jpg\n",
            "[154.73341399999998 258.165894 300.271179 219.72197000000003 381.103455\n",
            " 385.413788 349.206909 346.620697 '35' 'roadmark_0733.jpg']\n",
            "roadmark_0733.jpg\n",
            "[358.852417 488.829529 463.200226 378.989716 400.93102999999996\n",
            " 400.93102999999996 351.793091 350.93102999999996 '35' 'roadmark_0734.jpg']\n",
            "roadmark_0734.jpg\n",
            "[122.696793 226.129288 309.4245 203.246002 388.862061 400.06897000000004\n",
            " 354.379303 351.793091 '35' 'roadmark_0735.jpg']\n",
            "roadmark_0735.jpg\n",
            "[359.767731 497.98284900000004 468.69223 367.090393 418.17242400000003\n",
            " 414.724152 360.413788 363.862061 '35' 'roadmark_0736.jpg']\n",
            "roadmark_0736.jpg\n",
            "[63.200230000000005 179.447372 292.948517 217.89129599999998 405.241394\n",
            " 362.137939 362.137939 411.275848 '35' 'roadmark_0737.jpg']\n",
            "roadmark_0737.jpg\n",
            "[196.83866899999998 225.213959 253.58924900000002 223.383301\n",
            " 325.06897000000004 319.896545 324.206909 333.689667 'leftturn'\n",
            " 'roadmark_0738.jpg']\n",
            "roadmark_0738.jpg\n",
            "[184.024033 222.46795699999998 242.60527000000002 218.806641\n",
            " 327.65518199999997 319.896545 326.793091 337.137939 'leftturn'\n",
            " 'roadmark_0739.jpg']\n",
            "roadmark_0739.jpg\n",
            "[173.955383 211.48397799999998 236.19793700000002 210.56864900000002\n",
            " 328.517242 322.482758 331.103455 338.0 'leftturn' 'roadmark_0740.jpg']\n",
            "roadmark_0740.jpg\n",
            "[157.479401 196.83866899999998 234.367279 194.092682 331.103455\n",
            " 325.93102999999996 330.241394 343.17242400000003 'leftturn'\n",
            " 'roadmark_0741.jpg']\n",
            "roadmark_0741.jpg\n",
            "[143.749435 189.516022 215.145309 179.447372 334.551727 327.65518199999997\n",
            " 337.137939 346.620697 'leftturn' 'roadmark_0742.jpg']\n",
            "roadmark_0742.jpg\n",
            "[120.86613500000001 177.616699 196.83866899999998 171.209381 340.586212\n",
            " 330.241394 338.0 348.34481800000003 'leftturn' 'roadmark_0743.jpg']\n",
            "roadmark_0743.jpg\n",
            "[103.47483100000001 160.225403 186.77002 147.410751 342.310333\n",
            " 332.82757599999997 343.17242400000003 354.379303 'leftturn'\n",
            " 'roadmark_0744.jpg']\n",
            "roadmark_0744.jpg\n",
            "[76.93020600000001 141.003433 169.378723 125.44279499999999 347.482758\n",
            " 336.275848 344.896545 358.689667 'leftturn' 'roadmark_0745.jpg']\n",
            "roadmark_0745.jpg\n",
            "[59.538902 114.458809 147.410751 108.96682 351.793091 340.586212\n",
            " 347.482758 366.448273 'leftturn' 'roadmark_0746.jpg']\n",
            "roadmark_0746.jpg\n",
            "[186.77002 221.55262799999997 248.09726 218.806641 327.65518199999997\n",
            " 321.620697 325.93102999999996 334.551727 'leftturn' 'roadmark_0747.jpg']\n",
            "roadmark_0747.jpg\n",
            "[196.83866899999998 227.044617 265.488556 230.705948 327.65518199999997\n",
            " 322.482758 325.06897000000004 336.275848 'leftturn' 'roadmark_0748.jpg']\n",
            "roadmark_0748.jpg\n",
            "[182.19335900000002 222.46795699999998 254.50457799999998\n",
            " 216.06063799999998 331.103455 324.206909 328.517242 341.448273 'leftturn'\n",
            " 'roadmark_0749.jpg']\n",
            "roadmark_0749.jpg\n",
            "[162.056061 203.246002 245.35125699999998 203.246002 334.551727 326.793091\n",
            " 331.965515 345.758606 'leftturn' 'roadmark_0750.jpg']\n",
            "roadmark_0750.jpg\n",
            "[378.989716 436.65560899999997 434.824951 391.804352 308.689667 310.413788\n",
            " 296.620697 296.620697 '40' 'roadmark_0751.jpg']\n",
            "roadmark_0751.jpg\n",
            "[292.033173 357.021729 367.090393 327.73111 305.241394 308.689667\n",
            " 295.758606 295.758606 '40' 'roadmark_0752.jpg']\n",
            "roadmark_0752.jpg\n",
            "[364.34439100000003 441.23226900000003 426.586945 390.889008 313.0\n",
            " 313.862061 289.724152 289.724152 'rightturn' 'roadmark_0753.jpg']\n",
            "roadmark_0753.jpg\n",
            "[388.143036 440.316925 434.824951 392.719666 309.551727 309.551727\n",
            " 295.758606 295.758606 '35' 'roadmark_0754.jpg']\n",
            "roadmark_0754.jpg\n",
            "[285.625854 342.37643399999996 360.683075 316.747131 309.551727 310.413788\n",
            " 297.482758 298.34481800000003 '35' 'roadmark_0755.jpg']\n",
            "roadmark_0755.jpg\n",
            "[295.694519 346.03775 350.61441 312.170471 344.896545 345.758606\n",
            " 326.793091 326.793091 'diamond' 'roadmark_0756.jpg']\n",
            "roadmark_0756.jpg\n",
            "[273.72653199999996 346.953094 356.10641499999997 307.59381099999996\n",
            " 343.17242400000003 346.620697 325.93102999999996 325.06897000000004 'car'\n",
            " 'roadmark_0757.jpg']\n",
            "roadmark_0757.jpg\n",
            "[244.435928 339.630432 350.61441 287.45651200000003 349.206909 351.793091\n",
            " 329.379303 326.793091 'pool' 'roadmark_0758.jpg']\n",
            "roadmark_0758.jpg\n",
            "[230.705948 335.96911600000004 348.783752 277.387878 351.793091 355.241394\n",
            " 331.103455 331.965515 'lane' 'roadmark_0759.jpg']\n",
            "roadmark_0759.jpg\n",
            "[217.89129599999998 244.435928 277.387878 257.25057999999996 311.275848\n",
            " 306.103455 306.103455 314.724152 'leftturn' 'roadmark_0760.jpg']\n",
            "roadmark_0760.jpg\n",
            "[202.330658 242.60527000000002 267.319214 246.266586 313.0 305.241394\n",
            " 307.82757599999997 319.034485 'leftturn' 'roadmark_0761.jpg']\n",
            "roadmark_0761.jpg\n",
            "[188.600693 233.45195 265.488556 239.85926800000001 316.448273\n",
            " 307.82757599999997 309.551727 321.620697 'leftturn' 'roadmark_0762.jpg']\n",
            "roadmark_0762.jpg\n",
            "[177.616699 226.129288 259.081238 231.621277 319.034485 308.689667\n",
            " 310.413788 322.482758 'leftturn' 'roadmark_0763.jpg']\n",
            "roadmark_0763.jpg\n",
            "[172.12471000000002 212.399307 245.35125699999998 218.806641 319.034485\n",
            " 310.413788 312.137939 326.793091 'leftturn' 'roadmark_0764.jpg']\n",
            "roadmark_0764.jpg\n",
            "[154.73341399999998 202.330658 237.113266 206.907318 325.06897000000004\n",
            " 313.0 316.448273 329.379303 'leftturn' 'roadmark_0765.jpg']\n",
            "roadmark_0765.jpg\n",
            "[137.342102 187.685349 223.383301 187.685349 329.379303 316.448273\n",
            " 319.896545 333.689667 'leftturn' 'roadmark_0766.jpg']\n",
            "roadmark_0766.jpg\n",
            "[110.79748500000001 165.717392 213.31465099999997 171.209381 335.413788\n",
            " 321.620697 321.620697 341.448273 'leftturn' 'roadmark_0767.jpg']\n",
            "roadmark_0767.jpg\n",
            "[89.74485 157.479401 203.246002 161.140732 340.586212 323.34481800000003\n",
            " 325.06897000000004 344.896545 'leftturn' 'roadmark_0768.jpg']\n",
            "roadmark_0768.jpg\n",
            "[65.94622 124.52745800000001 174.870712 139.172775 346.620697 330.241394\n",
            " 331.965515 350.93102999999996 'leftturn' 'roadmark_0769.jpg']\n",
            "roadmark_0769.jpg\n",
            "[37.570938 114.458809 165.717392 102.559494 353.517242 331.965515\n",
            " 335.413788 360.413788 'leftturn' 'roadmark_0770.jpg']\n",
            "roadmark_0770.jpg\n",
            "[292.948517 323.154449 360.683075 338.715088 301.793091 294.034485\n",
            " 297.482758 308.689667 'leftturn' 'roadmark_0771.jpg']\n",
            "roadmark_0771.jpg\n",
            "[285.625854 317.66247599999997 348.783752 337.799774 305.241394 295.758606\n",
            " 297.482758 311.275848 'leftturn' 'roadmark_0772.jpg']\n",
            "roadmark_0772.jpg\n",
            "[278.30319199999997 311.255157 351.52975499999997 334.138458 305.241394\n",
            " 297.482758 299.206909 312.137939 'leftturn' 'roadmark_0773.jpg']\n",
            "roadmark_0773.jpg\n",
            "[274.64187599999997 303.932495 346.953094 330.47711200000003 309.551727\n",
            " 299.206909 301.793091 315.586212 'leftturn' 'roadmark_0774.jpg']\n",
            "roadmark_0774.jpg\n",
            "[268.234558 294.779175 344.207092 324.069794 313.0 302.65518199999997\n",
            " 303.517242 315.586212 'leftturn' 'roadmark_0775.jpg']\n",
            "roadmark_0775.jpg\n",
            "[259.081238 288.371857 341.46109 321.32379199999997 316.448273 305.241394\n",
            " 306.965515 319.034485 'leftturn' 'roadmark_0776.jpg']\n",
            "roadmark_0776.jpg\n",
            "[249.92791699999998 281.964539 335.96911600000004 314.916473\n",
            " 318.17242400000003 308.689667 309.551727 324.206909 'leftturn'\n",
            " 'roadmark_0777.jpg']\n",
            "roadmark_0777.jpg\n",
            "[240.77459700000003 278.30319199999997 329.561798 305.763153 322.482758\n",
            " 308.689667 310.413788 327.65518199999997 'leftturn' 'roadmark_0778.jpg']\n",
            "roadmark_0778.jpg\n",
            "[189.516022 225.213959 252.67392 232.536606 300.93102999999996 292.310333\n",
            " 294.034485 306.965515 'leftturn' 'roadmark_0779.jpg']\n",
            "roadmark_0779.jpg\n",
            "[177.616699 213.31465099999997 253.58924900000002 222.46795699999998\n",
            " 304.379303 296.620697 298.34481800000003 310.413788 'leftturn'\n",
            " 'roadmark_0780.jpg']\n",
            "roadmark_0780.jpg\n",
            "[157.479401 205.991989 237.113266 211.48397799999998 310.413788 299.206909\n",
            " 300.93102999999996 314.724152 'leftturn' 'roadmark_0781.jpg']\n",
            "roadmark_0781.jpg\n",
            "[150.156754 198.669342 228.87528999999998 198.669342 311.275848\n",
            " 300.93102999999996 303.517242 317.310333 'leftturn' 'roadmark_0782.jpg']\n",
            "roadmark_0782.jpg\n",
            "[144.664764 185.854691 213.31465099999997 187.685349 310.413788 303.517242\n",
            " 306.103455 320.758606 'leftturn' 'roadmark_0783.jpg']\n",
            "roadmark_0783.jpg\n",
            "[117.204803 164.80206299999998 208.737991 169.378723 317.310333 306.965515\n",
            " 307.82757599999997 323.34481800000003 'leftturn' 'roadmark_0784.jpg']\n",
            "roadmark_0784.jpg\n",
            "[94.32151 146.495422 189.516022 146.495422 321.620697 310.413788\n",
            " 311.275848 325.93102999999996 'leftturn' 'roadmark_0785.jpg']\n",
            "roadmark_0785.jpg\n",
            "[73.268883 130.019455 173.955383 133.680771 328.517242 313.0 315.586212\n",
            " 331.103455 'leftturn' 'roadmark_0786.jpg']\n",
            "roadmark_0786.jpg\n",
            "[43.062927 108.051491 160.225403 108.96682 331.965515 318.17242400000003\n",
            " 319.896545 337.137939 'leftturn' 'roadmark_0787.jpg']\n",
            "roadmark_0787.jpg\n",
            "[25.671625 84.252861 130.019455 88.829521 336.275848 322.482758 324.206909\n",
            " 343.17242400000003 'leftturn' 'roadmark_0788.jpg']\n",
            "roadmark_0788.jpg\n",
            "[133.680771 173.955383 211.48397799999998 183.10870400000002\n",
            " 318.17242400000003 308.689667 311.275848 325.93102999999996 'leftturn'\n",
            " 'roadmark_0789.jpg']\n",
            "roadmark_0789.jpg\n",
            "[117.204803 164.80206299999998 199.584671 172.12471000000002 320.758606\n",
            " 312.137939 311.275848 329.379303 'leftturn' 'roadmark_0790.jpg']\n",
            "roadmark_0790.jpg\n",
            "[105.305489 147.410751 187.685349 156.564072 324.206909 313.0 316.448273\n",
            " 332.82757599999997 'leftturn' 'roadmark_0791.jpg']\n",
            "roadmark_0791.jpg\n",
            "[81.506866 132.76544199999998 174.870712 134.596115 327.65518199999997\n",
            " 316.448273 320.758606 340.586212 'leftturn' 'roadmark_0792.jpg']\n",
            "roadmark_0792.jpg\n",
            "[128.188782 163.88673400000002 213.31465099999997 173.955383 322.482758\n",
            " 313.0 312.137939 331.965515 'leftturn' 'roadmark_0793.jpg']\n",
            "roadmark_0793.jpg\n",
            "[103.47483100000001 151.07208300000002 203.246002 162.056061 326.793091\n",
            " 314.724152 315.586212 331.103455 'leftturn' 'roadmark_0794.jpg']\n",
            "roadmark_0794.jpg\n",
            "[97.06750500000001 138.257431 183.10870400000002 141.91876200000002\n",
            " 324.206909 314.724152 316.448273 337.137939 'leftturn'\n",
            " 'roadmark_0795.jpg']\n",
            "roadmark_0795.jpg\n",
            "[568.463379 593.177368 629.790588 611.484009 292.310333 288.862061\n",
            " 297.482758 301.793091 'rightturn' 'roadmark_0796.jpg']\n",
            "roadmark_0796.jpg\n",
            "[570.294067 592.262024 633.4519650000001 616.0606690000001 291.448273\n",
            " 289.724152 296.620697 302.65518199999997 'rightturn' 'roadmark_0797.jpg']\n",
            "roadmark_0797.jpg\n",
            "[575.786011 588.600708 640.774597 629.790588 292.310333 288.0 295.758606\n",
            " 303.517242 'rightturn' 'roadmark_0798.jpg']\n",
            "roadmark_0798.jpg\n",
            "[587.6853639999999 596.838684 644.435913 638.028625 294.034485 289.724152\n",
            " 295.758606 305.241394 'rightturn' 'roadmark_0799.jpg']\n",
            "roadmark_0799.jpg\n",
            "[583.108704 605.07666 658.1658940000001 644.435913 292.310333 288.0\n",
            " 295.758606 305.241394 'rightturn' 'roadmark_0800.jpg']\n",
            "roadmark_0800.jpg\n",
            "[592.262024 605.992004 672.8112179999999 661.827209 291.448273 289.724152\n",
            " 297.482758 308.689667 'rightturn' 'roadmark_0801.jpg']\n",
            "roadmark_0801.jpg\n",
            "[607.822632 619.721985 686.541199 670.065247 295.758606 289.724152\n",
            " 300.06897000000004 309.551727 'rightturn' 'roadmark_0802.jpg']\n",
            "roadmark_0802.jpg\n",
            "[606.9073490000001 624.298645 695.694519 684.71051 293.17242400000003\n",
            " 289.724152 300.06897000000004 311.275848 'rightturn' 'roadmark_0803.jpg']\n",
            "roadmark_0803.jpg\n",
            "[616.0606690000001 630.705933 704.847839 693.863831 295.758606 291.448273\n",
            " 300.06897000000004 313.0 'rightturn' 'roadmark_0804.jpg']\n",
            "roadmark_0804.jpg\n",
            "[625.213989 636.197937 719.493164 714.916504 295.758606 291.448273\n",
            " 302.65518199999997 314.724152 'rightturn' 'roadmark_0805.jpg']\n",
            "roadmark_0805.jpg\n",
            "[638.943909 647.181946 736.88446 732.3078 299.206909 292.310333 304.379303\n",
            " 319.034485 'rightturn' 'roadmark_0806.jpg']\n",
            "roadmark_0806.jpg\n",
            "[652.6738889999999 660.911926 768.0057370000001 742.376404 301.793091\n",
            " 294.896545 311.275848 319.034485 'rightturn' 'roadmark_0807.jpg']\n",
            "roadmark_0807.jpg\n",
            "[655.4199219999999 670.065247 774.413025 761.598389 302.65518199999997\n",
            " 295.758606 311.275848 322.482758 'rightturn' 'roadmark_0808.jpg']\n",
            "roadmark_0808.jpg\n",
            "[669.149902 685.625854 791.804321 773.497742 302.65518199999997 297.482758\n",
            " 315.586212 322.482758 'rightturn' 'roadmark_0809.jpg']\n",
            "roadmark_0809.jpg\n",
            "[166.632721 209.65332 238.943939 203.246002 313.862061 305.241394\n",
            " 306.103455 317.310333 'leftturn' 'roadmark_0810.jpg']\n",
            "roadmark_0810.jpg\n",
            "[146.495422 189.516022 229.790619 189.516022 316.448273 307.82757599999997\n",
            " 306.965515 323.34481800000003 'leftturn' 'roadmark_0811.jpg']\n",
            "roadmark_0811.jpg\n",
            "[130.019455 171.209381 216.06063799999998 182.19335900000002 320.758606\n",
            " 310.413788 306.965515 323.34481800000003 'leftturn' 'roadmark_0812.jpg']\n",
            "roadmark_0812.jpg\n",
            "[120.86613500000001 179.447372 208.737991 173.955383 322.482758 309.551727\n",
            " 310.413788 326.793091 'leftturn' 'roadmark_0813.jpg']\n",
            "roadmark_0813.jpg\n",
            "[116.289474 158.39473 186.77002 159.310074 320.758606 313.0 313.0\n",
            " 331.103455 'leftturn' 'roadmark_0814.jpg']\n",
            "roadmark_0814.jpg\n",
            "[89.74485 146.495422 179.447372 151.07208300000002 327.65518199999997\n",
            " 315.586212 317.310333 334.551727 'leftturn' 'roadmark_0815.jpg']\n",
            "roadmark_0815.jpg\n",
            "[76.014877 125.44279499999999 165.717392 132.76544199999998 330.241394\n",
            " 320.758606 322.482758 338.862061 'leftturn' 'roadmark_0816.jpg']\n",
            "roadmark_0816.jpg\n",
            "[55.877575 106.220825 137.342102 113.54348 337.137939 325.06897000000004\n",
            " 325.06897000000004 344.896545 'leftturn' 'roadmark_0817.jpg']\n",
            "roadmark_0817.jpg\n",
            "[262.742554 321.32379199999997 371.66705299999995 335.96911600000004\n",
            " 314.724152 296.620697 295.758606 317.310333 'rail' 'roadmark_0818.jpg']\n",
            "roadmark_0818.jpg\n",
            "[364.34439100000003 386.31234700000005 442.147583 448.554932 315.586212\n",
            " 296.620697 296.620697 315.586212 'rail' 'roadmark_0819.jpg']\n",
            "roadmark_0819.jpg\n",
            "[250.843246 315.831818 363.429077 328.646454 317.310333 299.206909\n",
            " 298.34481800000003 319.896545 'rail' 'roadmark_0820.jpg']\n",
            "roadmark_0820.jpg\n",
            "[357.937073 385.39703399999996 438.486267 454.96225 321.620697 296.620697\n",
            " 297.482758 321.620697 'rail' 'roadmark_0821.jpg']\n",
            "roadmark_0821.jpg\n",
            "[194.092682 219.72197000000003 264.573242 238.02861000000001 309.551727\n",
            " 303.517242 300.93102999999996 313.862061 'leftturn' 'roadmark_0822.jpg']\n",
            "roadmark_0822.jpg\n",
            "[158.39473 192.262009 241.68992599999999 210.56864900000002 317.310333\n",
            " 307.82757599999997 306.103455 320.758606 'leftturn' 'roadmark_0823.jpg']\n",
            "roadmark_0823.jpg\n",
            "[98.89817 227.959961 265.488556 145.580093 338.0 307.82757599999997\n",
            " 308.689667 347.482758 'leftturn' 'roadmark_0824.jpg']\n",
            "roadmark_0824.jpg\n",
            "[76.93020600000001 228.87528999999998 263.657898 129.104126 344.034485\n",
            " 308.689667 312.137939 353.517242 'leftturn' 'roadmark_0825.jpg']\n",
            "roadmark_0825.jpg\n",
            "[55.877575 213.31465099999997 259.996582 108.051491 350.06897000000004\n",
            " 313.0 313.0 362.137939 'leftturn' 'roadmark_0826.jpg']\n",
            "roadmark_0826.jpg\n",
            "[26.586958000000003 200.5 262.742554 72.353546 356.965515 316.448273\n",
            " 313.862061 374.206909 'leftturn' 'roadmark_0827.jpg']\n",
            "roadmark_0827.jpg\n",
            "[8.28032 197.753998 241.68992599999999 38.486271 362.137939 317.310333\n",
            " 319.896545 384.551727 'leftturn' 'roadmark_0828.jpg']\n",
            "roadmark_0828.jpg\n",
            "[157.479401 221.55262799999997 244.435928 179.447372 313.862061\n",
            " 298.34481800000003 302.65518199999997 318.17242400000003 'leftturn'\n",
            " 'roadmark_0829.jpg']\n",
            "roadmark_0829.jpg\n",
            "[133.680771 207.822647 234.367279 162.056061 314.724152 300.93102999999996\n",
            " 300.93102999999996 321.620697 'leftturn' 'roadmark_0830.jpg']\n",
            "roadmark_0830.jpg\n",
            "[117.204803 216.06063799999998 259.996582 156.564072 323.34481800000003\n",
            " 300.93102999999996 300.93102999999996 335.413788 'leftturn'\n",
            " 'roadmark_0831.jpg']\n",
            "roadmark_0831.jpg\n",
            "[108.051491 213.31465099999997 253.58924900000002 141.91876200000002\n",
            " 327.65518199999997 302.65518199999997 305.241394 338.862061 'leftturn'\n",
            " 'roadmark_0832.jpg']\n",
            "roadmark_0832.jpg\n",
            "[81.506866 199.584671 257.25057999999996 132.76544199999998 331.103455\n",
            " 304.379303 300.93102999999996 341.448273 'leftturn' 'roadmark_0833.jpg']\n",
            "roadmark_0833.jpg\n",
            "[59.538902 204.16133100000002 245.35125699999998 110.79748500000001\n",
            " 335.413788 302.65518199999997 304.379303 347.482758 'leftturn'\n",
            " 'roadmark_0834.jpg']\n",
            "roadmark_0834.jpg\n",
            "[33.909611 196.83866899999998 234.367279 87.914185 340.586212 304.379303\n",
            " 307.82757599999997 353.517242 'leftturn' 'roadmark_0835.jpg']\n",
            "roadmark_0835.jpg\n",
            "[26.586958000000003 197.753998 232.536606 64.115562 341.448273 305.241394\n",
            " 308.689667 359.551727 'leftturn' 'roadmark_0836.jpg']\n",
            "roadmark_0836.jpg\n",
            "[4.618993 177.616699 214.22997999999998 29.332952000000002 345.758606\n",
            " 307.82757599999997 312.137939 370.758606 'leftturn' 'roadmark_0837.jpg']\n",
            "roadmark_0837.jpg\n",
            "[8.28032 174.870712 211.48397799999998 8.28032 351.793091 310.413788\n",
            " 314.724152 377.65518199999997 'leftturn' 'roadmark_0838.jpg']\n",
            "roadmark_0838.jpg\n",
            "[52.216248 116.289474 149.241425 100.728836 344.034485 327.65518199999997\n",
            " 331.965515 352.65518199999997 'leftturn' 'roadmark_0839.jpg']\n",
            "roadmark_0839.jpg\n",
            "[95.236839 135.51144399999998 181.27803 135.51144399999998 333.689667\n",
            " 322.482758 323.34481800000003 342.310333 'leftturn' 'roadmark_0840.jpg']\n",
            "roadmark_0840.jpg\n",
            "[552.902771 592.262024 762.513733 694.779175 311.275848 306.965515\n",
            " 355.241394 377.65518199999997 'rightturn' 'roadmark_0841.jpg']\n",
            "roadmark_0841.jpg\n",
            "[539.172791 588.600708 713.085815 678.303223 303.517242 298.34481800000003\n",
            " 335.413788 358.689667 'rightturn' 'roadmark_0842.jpg']\n",
            "roadmark_0842.jpg\n",
            "[31.163615999999998 200.5 237.113266 62.284896999999994 337.137939\n",
            " 300.06897000000004 303.517242 347.482758 'forward' 'roadmark_0843.jpg']\n",
            "roadmark_0843.jpg\n",
            "[14.687643 155.648743 208.737991 32.078945000000004 346.620697 310.413788\n",
            " 313.862061 364.724152 'leftturn' 'roadmark_0844.jpg']\n",
            "roadmark_0844.jpg\n",
            "[2.7883299999999998 141.91876200000002 201.415329 3.703661 349.206909\n",
            " 314.724152 313.862061 373.34481800000003 'leftturn' 'roadmark_0845.jpg']\n",
            "roadmark_0845.jpg\n",
            "[9.195652 180.362701 218.806641 25.671625 349.206909 309.551727 314.724152\n",
            " 370.758606 'leftturn' 'roadmark_0846.jpg']\n",
            "roadmark_0846.jpg\n",
            "[11.026316 169.378723 205.07666 27.502289 347.482758 309.551727 317.310333\n",
            " 369.034485 'leftturn' 'roadmark_0847.jpg']\n",
            "roadmark_0847.jpg\n",
            "[126.358124 212.399307 253.58924900000002 145.580093 319.034485\n",
            " 300.93102999999996 301.793091 329.379303 'leftturn' 'roadmark_0848.jpg']\n",
            "roadmark_0848.jpg\n",
            "[110.79748500000001 203.246002 242.60527000000002 140.08810400000002\n",
            " 322.482758 300.93102999999996 306.103455 330.241394 'leftturn'\n",
            " 'roadmark_0849.jpg']\n",
            "roadmark_0849.jpg\n",
            "[97.06750500000001 210.56864900000002 233.45195 100.728836\n",
            " 327.65518199999997 301.793091 307.82757599999997 338.862061 'leftturn'\n",
            " 'roadmark_0850.jpg']\n",
            "roadmark_0850.jpg\n",
            "[215.145309 244.435928 274.64187599999997 240.77459700000003 304.379303\n",
            " 297.482758 296.620697 308.689667 'leftturn' 'roadmark_0851.jpg']\n",
            "roadmark_0851.jpg\n",
            "[201.415329 243.52059900000003 266.4039 237.113266 306.965515 295.758606\n",
            " 296.620697 311.275848 'leftturn' 'roadmark_0852.jpg']\n",
            "roadmark_0852.jpg\n",
            "[206.907318 241.68992599999999 262.742554 230.705948 306.103455 295.758606\n",
            " 299.206909 313.0 'leftturn' 'roadmark_0853.jpg']\n",
            "roadmark_0853.jpg\n",
            "[191.34668 227.044617 253.58924900000002 222.46795699999998 308.689667\n",
            " 299.206909 299.206909 313.0 'leftturn' 'roadmark_0854.jpg']\n",
            "roadmark_0854.jpg\n",
            "[178.532043 217.89129599999998 241.68992599999999 217.89129599999998\n",
            " 310.413788 300.93102999999996 302.65518199999997 313.862061 'leftturn'\n",
            " 'roadmark_0855.jpg']\n",
            "roadmark_0855.jpg\n",
            "[178.532043 217.89129599999998 244.435928 203.246002 310.413788\n",
            " 300.93102999999996 302.65518199999997 319.034485 'leftturn'\n",
            " 'roadmark_0856.jpg']\n",
            "roadmark_0856.jpg\n",
            "[162.97138999999999 209.65332 237.113266 198.669342 314.724152 303.517242\n",
            " 306.965515 322.482758 'leftturn' 'roadmark_0857.jpg']\n",
            "roadmark_0857.jpg\n",
            "[153.818085 199.584671 226.129288 195.008011 316.448273 306.965515\n",
            " 306.965515 322.482758 'leftturn' 'roadmark_0858.jpg']\n",
            "roadmark_0858.jpg\n",
            "[146.495422 201.415329 227.044617 186.77002 318.17242400000003 304.379303\n",
            " 311.275848 326.793091 'leftturn' 'roadmark_0859.jpg']\n",
            "roadmark_0859.jpg\n",
            "[134.596115 183.10870400000002 213.31465099999997 175.78604099999998\n",
            " 320.758606 309.551727 310.413788 330.241394 'leftturn'\n",
            " 'roadmark_0860.jpg']\n",
            "roadmark_0860.jpg\n",
            "[123.61212900000001 183.10870400000002 209.65332 162.97138999999999\n",
            " 320.758606 308.689667 314.724152 331.965515 'leftturn'\n",
            " 'roadmark_0861.jpg']\n",
            "roadmark_0861.jpg\n",
            "[36.655605 123.61212900000001 167.54805 56.792908 342.310333 319.034485\n",
            " 323.34481800000003 356.965515 'leftturn' 'roadmark_0862.jpg']\n",
            "roadmark_0862.jpg\n",
            "[248.09726 263.657898 285.625854 270.98056 295.758606 291.448273\n",
            " 291.448273 302.65518199999997 'leftturn' 'roadmark_0863.jpg']\n",
            "roadmark_0863.jpg\n",
            "[11.941647999999999 92.490845 160.225403 29.332952000000002 347.482758\n",
            " 325.06897000000004 321.620697 363.862061 'leftturn' 'roadmark_0864.jpg']\n",
            "roadmark_0864.jpg\n",
            "[241.68992599999999 256.335236 283.79519700000003 256.335236 297.482758\n",
            " 290.586212 291.448273 305.241394 'leftturn' 'roadmark_0865.jpg']\n",
            "roadmark_0865.jpg\n",
            "[230.705948 251.758575 282.879852 253.58924900000002 299.206909\n",
            " 293.17242400000003 291.448273 306.965515 'leftturn' 'roadmark_0866.jpg']\n",
            "roadmark_0866.jpg\n",
            "[228.87528999999998 250.843246 283.79519700000003 252.67392\n",
            " 300.06897000000004 292.310333 293.17242400000003 306.965515 'leftturn'\n",
            " 'roadmark_0867.jpg']\n",
            "roadmark_0867.jpg\n",
            "[220.637299 244.435928 276.472534 245.35125699999998 303.517242 295.758606\n",
            " 296.620697 308.689667 'leftturn' 'roadmark_0868.jpg']\n",
            "roadmark_0868.jpg\n",
            "[215.145309 243.52059900000003 270.98056 241.68992599999999 303.517242\n",
            " 296.620697 297.482758 307.82757599999997 'leftturn' 'roadmark_0869.jpg']\n",
            "roadmark_0869.jpg\n",
            "[207.822647 238.02861000000001 270.065216 232.536606 306.103455 296.620697\n",
            " 299.206909 312.137939 'leftturn' 'roadmark_0870.jpg']\n",
            "roadmark_0870.jpg\n",
            "[202.330658 226.129288 267.319214 229.790619 306.103455 299.206909\n",
            " 300.93102999999996 313.862061 'leftturn' 'roadmark_0871.jpg']\n",
            "roadmark_0871.jpg\n",
            "[200.5 223.383301 269.149872 233.45195 307.82757599999997\n",
            " 298.34481800000003 300.06897000000004 313.0 'leftturn'\n",
            " 'roadmark_0872.jpg']\n",
            "roadmark_0872.jpg\n",
            "[190.431351 216.975967 258.165894 223.383301 309.551727 300.93102999999996\n",
            " 300.06897000000004 315.586212 'leftturn' 'roadmark_0873.jpg']\n",
            "roadmark_0873.jpg\n",
            "[185.854691 214.22997999999998 251.758575 224.29862999999997 313.0\n",
            " 301.793091 301.793091 319.034485 'leftturn' 'roadmark_0874.jpg']\n",
            "roadmark_0874.jpg\n",
            "[179.447372 205.07666 244.435928 208.737991 310.413788 305.241394\n",
            " 304.379303 319.896545 'leftturn' 'roadmark_0875.jpg']\n",
            "roadmark_0875.jpg\n",
            "[162.056061 210.56864900000002 247.181915 192.262009 316.448273 303.517242\n",
            " 304.379303 321.620697 'leftturn' 'roadmark_0876.jpg']\n",
            "roadmark_0876.jpg\n",
            "[153.818085 192.262009 237.113266 192.262009 316.448273 305.241394\n",
            " 305.241394 322.482758 'leftturn' 'roadmark_0877.jpg']\n",
            "roadmark_0877.jpg\n",
            "[143.749435 184.024033 240.77459700000003 186.77002 318.17242400000003\n",
            " 307.82757599999997 305.241394 325.93102999999996 'leftturn'\n",
            " 'roadmark_0878.jpg']\n",
            "roadmark_0878.jpg\n",
            "[130.019455 179.447372 239.85926800000001 167.54805 323.34481800000003\n",
            " 307.82757599999997 308.689667 331.103455 'leftturn' 'roadmark_0879.jpg']\n",
            "roadmark_0879.jpg\n",
            "[108.96682 176.70137 222.46795699999998 161.140732 324.206909 309.551727\n",
            " 309.551727 331.103455 'leftturn' 'roadmark_0880.jpg']\n",
            "roadmark_0880.jpg\n",
            "[100.728836 165.717392 215.145309 140.08810400000002 326.793091 310.413788\n",
            " 311.275848 335.413788 'leftturn' 'roadmark_0881.jpg']\n",
            "roadmark_0881.jpg\n",
            "[84.252861 156.564072 204.16133100000002 136.426773 329.379303 312.137939\n",
            " 315.586212 338.0 'leftturn' 'roadmark_0882.jpg']\n",
            "roadmark_0882.jpg\n",
            "[62.284896999999994 141.003433 192.262009 113.54348 335.413788 316.448273\n",
            " 317.310333 344.034485 'leftturn' 'roadmark_0883.jpg']\n",
            "roadmark_0883.jpg\n",
            "[43.062927 131.850113 183.10870400000002 94.32151 338.0 318.17242400000003\n",
            " 319.034485 350.06897000000004 'leftturn' 'roadmark_0884.jpg']\n",
            "roadmark_0884.jpg\n",
            "[27.502289 127.273453 171.209381 67.776886 341.448273 320.758606\n",
            " 325.06897000000004 357.82757599999997 'leftturn' 'roadmark_0885.jpg']\n",
            "roadmark_0885.jpg\n",
            "[103.47483100000001 143.749435 177.616699 137.342102 325.93102999999996\n",
            " 317.310333 320.758606 338.862061 'leftturn' 'roadmark_0886.jpg']\n",
            "roadmark_0886.jpg\n",
            "[80.59153 133.680771 167.54805 121.78146399999999 332.82757599999997\n",
            " 321.620697 324.206909 348.34481800000003 'leftturn' 'roadmark_0887.jpg']\n",
            "roadmark_0887.jpg\n",
            "[162.056061 195.008011 227.044617 185.854691 310.413788 301.793091\n",
            " 307.82757599999997 317.310333 'leftturn' 'roadmark_0888.jpg']\n",
            "roadmark_0888.jpg\n",
            "[154.73341399999998 185.854691 215.145309 186.77002 312.137939 305.241394\n",
            " 305.241394 317.310333 'leftturn' 'roadmark_0889.jpg']\n",
            "roadmark_0889.jpg\n",
            "[20.179634 70.52288100000001 109.882149 54.046909 341.448273 328.517242\n",
            " 333.689667 351.793091 'leftturn' 'roadmark_0890.jpg']\n",
            "roadmark_0890.jpg\n",
            "[205.07666 242.60527000000002 263.657898 234.367279 322.482758 315.586212\n",
            " 320.758606 331.965515 'leftturn' 'roadmark_0891.jpg']\n",
            "roadmark_0891.jpg\n",
            "[124.52745800000001 178.532043 207.822647 185.854691 339.724152 331.103455\n",
            " 333.689667 348.34481800000003 'leftturn' 'roadmark_0892.jpg']\n",
            "roadmark_0892.jpg\n",
            "[59.538902 127.273453 161.140732 104.39016 353.517242 339.724152\n",
            " 348.34481800000003 366.448273 'leftturn' 'roadmark_0893.jpg']\n",
            "roadmark_0893.jpg\n",
            "[240.77459700000003 270.065216 300.271179 271.89587400000005\n",
            " 323.34481800000003 315.586212 315.586212 325.93102999999996 'leftturn'\n",
            " 'roadmark_0894.jpg']\n",
            "roadmark_0894.jpg\n",
            "[281.049194 300.271179 350.61441 335.96911600000004 332.82757599999997\n",
            " 319.896545 322.482758 338.0 '35' 'roadmark_0895.jpg']\n",
            "roadmark_0895.jpg\n",
            "[387.227692 393.63501 440.316925 449.47024500000003 336.275848\n",
            " 318.17242400000003 318.17242400000003 337.137939 '35' 'roadmark_0896.jpg']\n",
            "roadmark_0896.jpg\n",
            "[211.48397799999998 249.92791699999998 321.32379199999997 288.371857\n",
            " 361.275848 337.137939 334.551727 369.034485 '35' 'roadmark_0897.jpg']\n",
            "roadmark_0897.jpg\n",
            "[372.582367 383.566376 451.300903 463.200226 365.586212 334.551727\n",
            " 333.689667 359.551727 '35' 'roadmark_0898.jpg']\n",
            "roadmark_0898.jpg\n",
            "[279.218536 307.59381099999996 340.545776 321.32379199999997\n",
            " 318.17242400000003 311.275848 313.862061 323.34481800000003 'leftturn'\n",
            " 'roadmark_0899.jpg']\n",
            "roadmark_0899.jpg\n",
            "[242.60527000000002 270.98056 310.339813 292.033173 330.241394 319.896545\n",
            " 321.620697 335.413788 'leftturn' 'roadmark_0900.jpg']\n",
            "roadmark_0900.jpg\n",
            "[161.140732 203.246002 260.911896 221.55262799999997 351.793091 336.275848\n",
            " 340.586212 366.448273 'leftturn' 'roadmark_0901.jpg']\n",
            "roadmark_0901.jpg\n",
            "[259.996582 290.202515 343.291748 312.170471 329.379303 319.034485\n",
            " 319.034485 334.551727 'leftturn' 'roadmark_0902.jpg']\n",
            "roadmark_0902.jpg\n",
            "[196.83866899999998 239.85926800000001 301.18649300000004 269.149872\n",
            " 349.206909 331.965515 334.551727 356.965515 'leftturn'\n",
            " 'roadmark_0903.jpg']\n",
            "roadmark_0903.jpg\n",
            "[271.89587400000005 301.18649300000004 347.868408 329.561798 337.137939\n",
            " 321.620697 326.793091 342.310333 'leftturn' 'roadmark_0904.jpg']\n",
            "roadmark_0904.jpg\n",
            "[180.362701 234.367279 314.916473 267.319214 363.862061 345.758606\n",
            " 349.206909 380.241394 'leftturn' 'roadmark_0905.jpg']\n",
            "roadmark_0905.jpg\n",
            "[258.165894 284.71054100000003 340.545776 315.831818 332.82757599999997\n",
            " 321.620697 321.620697 340.586212 'leftturn' 'roadmark_0906.jpg']\n",
            "roadmark_0906.jpg\n",
            "[190.431351 227.044617 303.01715099999996 259.081238 354.379303 340.586212\n",
            " 342.310333 371.620697 'leftturn' 'roadmark_0907.jpg']\n",
            "roadmark_0907.jpg\n",
            "[292.948517 305.763153 351.52975499999997 334.138458 324.206909 311.275848\n",
            " 313.862061 331.103455 'leftturn' 'roadmark_0908.jpg']\n",
            "roadmark_0908.jpg\n",
            "[265.488556 292.033173 345.122437 320.408478 334.551727 319.896545\n",
            " 322.482758 341.448273 'leftturn' 'roadmark_0909.jpg']\n",
            "roadmark_0909.jpg\n",
            "[228.87528999999998 262.742554 324.985138 301.18649300000004 353.517242\n",
            " 331.965515 338.862061 359.551727 'leftturn' 'roadmark_0910.jpg']\n",
            "roadmark_0910.jpg\n",
            "[170.294052 216.06063799999998 304.847839 262.742554 374.206909 347.482758\n",
            " 350.06897000000004 384.551727 'leftturn' 'roadmark_0911.jpg']\n",
            "roadmark_0911.jpg\n",
            "[381.735687 394.550354 431.16360499999996 426.586945 315.586212\n",
            " 302.65518199999997 305.241394 319.896545 'leftturn' 'roadmark_0912.jpg']\n",
            "roadmark_0912.jpg\n",
            "[378.989716 389.97369399999997 425.67163099999993 429.332947 322.482758\n",
            " 306.965515 309.551727 325.93102999999996 'leftturn' 'roadmark_0913.jpg']\n",
            "roadmark_0913.jpg\n",
            "[356.10641499999997 369.83639500000004 432.99429299999997\n",
            " 433.90960700000005 338.0 317.310333 319.034485 340.586212 'leftturn'\n",
            " 'roadmark_0914.jpg']\n",
            "roadmark_0914.jpg\n",
            "[331.392456 352.445068 429.332947 435.740265 354.379303 329.379303\n",
            " 332.82757599999997 364.724152 'leftturn' 'roadmark_0915.jpg']\n",
            "roadmark_0915.jpg\n",
            "[358.852417 367.090393 464.11557 487.914185 400.93102999999996 358.689667\n",
            " 358.689667 400.06897000000004 'leftturn' 'roadmark_0916.jpg']\n",
            "roadmark_0916.jpg\n",
            "[354.275757 364.34439100000003 463.200226 485.168182 387.137939 359.551727\n",
            " 359.551727 398.34481800000003 'leftturn' 'roadmark_0917.jpg']\n",
            "roadmark_0917.jpg\n",
            "[384.481689 391.804352 439.40161100000006 444.893585 337.137939\n",
            " 318.17242400000003 319.896545 339.724152 '35' 'roadmark_0918.jpg']\n",
            "roadmark_0918.jpg\n",
            "[490.660187 476.014862 523.612122 556.564087 338.862061 322.482758\n",
            " 319.034485 336.275848 '35' 'roadmark_0919.jpg']\n",
            "roadmark_0919.jpg\n",
            "[371.66705299999995 382.651031 447.639587 459.53891 361.275848\n",
            " 332.82757599999997 333.689667 363.862061 '35' 'roadmark_0920.jpg']\n",
            "roadmark_0920.jpg\n",
            "[539.172791 498.898163 569.378723 620.637329 367.310333 337.137939\n",
            " 333.689667 363.862061 '35' 'roadmark_0921.jpg']\n",
            "roadmark_0921.jpg\n",
            "[302.101837 323.154449 365.25973500000003 350.61441 325.06897000000004\n",
            " 313.0 312.137939 330.241394 'leftturn' 'roadmark_0922.jpg']\n",
            "roadmark_0922.jpg\n",
            "[270.065216 302.101837 348.783752 325.90045200000003 335.413788 320.758606\n",
            " 325.06897000000004 342.310333 'leftturn' 'roadmark_0923.jpg']\n",
            "roadmark_0923.jpg\n",
            "[197.753998 260.911896 314.001129 286.541199 356.965515 335.413788\n",
            " 341.448273 369.034485 'leftturn' 'roadmark_0924.jpg']\n",
            "roadmark_0924.jpg\n",
            "[298.440491 313.08581499999997 356.10641499999997 348.783752\n",
            " 325.06897000000004 314.724152 315.586212 325.93102999999996 'leftturn'\n",
            " 'roadmark_0925.jpg']\n",
            "roadmark_0925.jpg\n",
            "[260.911896 288.371857 345.122437 324.985138 336.275848 322.482758\n",
            " 323.34481800000003 340.586212 'leftturn' 'roadmark_0926.jpg']\n",
            "roadmark_0926.jpg\n",
            "[203.246002 247.181915 314.001129 282.879852 355.241394 338.0 340.586212\n",
            " 366.448273 'leftturn' 'roadmark_0927.jpg']\n",
            "roadmark_0927.jpg\n",
            "[331.392456 346.03775 375.328369 364.34439100000003 313.862061 306.103455\n",
            " 307.82757599999997 318.17242400000003 'leftturn' 'roadmark_0928.jpg']\n",
            "roadmark_0928.jpg\n",
            "[307.59381099999996 327.73111 368.921051 351.52975499999997 319.896545\n",
            " 311.275848 309.551727 325.06897000000004 'leftturn' 'roadmark_0929.jpg']\n",
            "roadmark_0929.jpg\n",
            "[278.30319199999997 307.59381099999996 353.360413 333.223114 330.241394\n",
            " 314.724152 321.620697 341.448273 'leftturn' 'roadmark_0930.jpg']\n",
            "roadmark_0930.jpg\n",
            "[227.044617 262.742554 336.88443 298.440491 353.517242 335.413788\n",
            " 335.413788 363.0 'leftturn' 'roadmark_0931.jpg']\n",
            "roadmark_0931.jpg\n",
            "[319.493134 324.069794 360.683075 354.275757 314.724152 306.965515\n",
            " 306.103455 315.586212 'leftturn' 'roadmark_0932.jpg']\n",
            "roadmark_0932.jpg\n",
            "[313.08581499999997 319.493134 355.191071 351.52975499999997 314.724152\n",
            " 306.103455 307.82757599999997 318.17242400000003 'leftturn'\n",
            " 'roadmark_0933.jpg']\n",
            "roadmark_0933.jpg\n",
            "[309.4245 318.577789 355.191071 350.61441 318.17242400000003 308.689667\n",
            " 311.275848 319.896545 'leftturn' 'roadmark_0934.jpg']\n",
            "roadmark_0934.jpg\n",
            "[307.59381099999996 315.831818 351.52975499999997 349.699097 319.034485\n",
            " 310.413788 309.551727 320.758606 'leftturn' 'roadmark_0935.jpg']\n",
            "roadmark_0935.jpg\n",
            "[301.18649300000004 310.339813 352.445068 346.03775 320.758606 313.0\n",
            " 311.275848 324.206909 'leftturn' 'roadmark_0936.jpg']\n",
            "roadmark_0936.jpg\n",
            "[296.609833 303.01715099999996 351.52975499999997 347.868408 319.896545\n",
            " 310.413788 309.551727 325.06897000000004 'leftturn' 'roadmark_0937.jpg']\n",
            "roadmark_0937.jpg\n",
            "[296.609833 303.932495 346.953094 335.05377200000004 323.34481800000003\n",
            " 311.275848 311.275848 326.793091 'leftturn' 'roadmark_0938.jpg']\n",
            "roadmark_0938.jpg\n",
            "[294.779175 306.678497 346.953094 338.715088 323.34481800000003 313.0\n",
            " 313.0 326.793091 'leftturn' 'roadmark_0939.jpg']\n",
            "roadmark_0939.jpg\n",
            "[294.779175 303.932495 346.953094 339.630432 324.206909 313.862061\n",
            " 313.862061 327.65518199999997 'leftturn' 'roadmark_0940.jpg']\n",
            "roadmark_0940.jpg\n",
            "[295.694519 303.01715099999996 347.868408 342.37643399999996\n",
            " 325.06897000000004 313.0 313.0 326.793091 'leftturn' 'roadmark_0941.jpg']\n",
            "roadmark_0941.jpg\n",
            "[293.863831 300.271179 349.699097 340.545776 324.206909 313.862061 313.0\n",
            " 325.93102999999996 'leftturn' 'roadmark_0942.jpg']\n",
            "roadmark_0942.jpg\n",
            "[292.948517 305.763153 346.03775 339.630432 325.93102999999996 313.862061\n",
            " 313.862061 331.103455 'leftturn' 'roadmark_0943.jpg']\n",
            "roadmark_0943.jpg\n",
            "[286.541199 305.763153 349.699097 341.46109 325.93102999999996 314.724152\n",
            " 313.862061 327.65518199999997 'leftturn' 'roadmark_0944.jpg']\n",
            "roadmark_0944.jpg\n",
            "[291.117859 301.18649300000004 346.953094 341.46109 329.379303 314.724152\n",
            " 317.310333 325.93102999999996 'leftturn' 'roadmark_0945.jpg']\n",
            "roadmark_0945.jpg\n",
            "[291.117859 300.271179 349.699097 341.46109 327.65518199999997 316.448273\n",
            " 313.862061 330.241394 'leftturn' 'roadmark_0946.jpg']\n",
            "roadmark_0946.jpg\n",
            "[293.863831 299.355835 349.699097 340.545776 327.65518199999997 316.448273\n",
            " 319.034485 332.82757599999997 'leftturn' 'roadmark_0947.jpg']\n",
            "roadmark_0947.jpg\n",
            "[289.28717 296.609833 342.37643399999996 335.96911600000004 329.379303\n",
            " 318.17242400000003 318.17242400000003 333.689667 'leftturn'\n",
            " 'roadmark_0948.jpg']\n",
            "roadmark_0948.jpg\n",
            "[289.28717 292.948517 342.37643399999996 333.223114 331.103455 319.896545\n",
            " 320.758606 334.551727 'leftturn' 'roadmark_0949.jpg']\n",
            "roadmark_0949.jpg\n",
            "[279.218536 290.202515 339.630432 330.47711200000003 333.689667 324.206909\n",
            " 324.206909 334.551727 'leftturn' 'roadmark_0950.jpg']\n",
            "roadmark_0950.jpg\n",
            "[277.387878 285.625854 333.223114 325.90045200000003 336.275848\n",
            " 323.34481800000003 323.34481800000003 341.448273 'leftturn'\n",
            " 'roadmark_0951.jpg']\n",
            "roadmark_0951.jpg\n",
            "[260.911896 273.72653199999996 333.223114 318.577789 340.586212\n",
            " 325.93102999999996 327.65518199999997 344.896545 'leftturn'\n",
            " 'roadmark_0952.jpg']\n",
            "roadmark_0952.jpg\n",
            "[249.01258900000002 264.573242 327.73111 304.847839 344.034485 329.379303\n",
            " 331.103455 348.34481800000003 'leftturn' 'roadmark_0953.jpg']\n",
            "roadmark_0953.jpg\n",
            "[231.621277 250.843246 313.08581499999997 299.355835 351.793091 337.137939\n",
            " 335.413788 356.965515 'leftturn' 'roadmark_0954.jpg']\n",
            "roadmark_0954.jpg\n",
            "[199.584671 228.87528999999998 305.763153 280.13388100000003 365.586212\n",
            " 344.034485 344.896545 368.17242400000003 'leftturn' 'roadmark_0955.jpg']\n",
            "roadmark_0955.jpg\n",
            "[163.88673400000002 195.92334 294.779175 259.081238 381.103455 353.517242\n",
            " 353.517242 385.413788 'leftturn' 'roadmark_0956.jpg']\n",
            "roadmark_0956.jpg\n",
            "[354.275757 370.751709 443.06292699999995 441.23226900000003 347.482758\n",
            " 327.65518199999997 327.65518199999997 346.620697 'keep'\n",
            " 'roadmark_0957.jpg']\n",
            "roadmark_0957.jpg\n",
            "[486.08352699999995 460.454224 543.749451 561.1407469999999 346.620697\n",
            " 326.793091 324.206909 340.586212 'keep' 'roadmark_0958.jpg']\n",
            "roadmark_0958.jpg\n",
            "[350.61441 364.34439100000003 443.978271 446.72424299999994 351.793091\n",
            " 330.241394 330.241394 350.93102999999996 'keep' 'roadmark_0959.jpg']\n",
            "roadmark_0959.jpg\n",
            "[491.5755 466.861542 538.257446 576.701355 351.793091 331.103455\n",
            " 325.93102999999996 346.620697 'keep' 'roadmark_0960.jpg']\n",
            "roadmark_0960.jpg\n",
            "[346.03775 359.767731 452.21624800000006 457.70825199999996 347.482758\n",
            " 328.517242 326.793091 347.482758 'clear' 'roadmark_0961.jpg']\n",
            "roadmark_0961.jpg\n",
            "[479.67620800000003 458.62356600000004 556.564087 583.108704\n",
            " 348.34481800000003 326.793091 327.65518199999997 341.448273 'clear'\n",
            " 'roadmark_0962.jpg']\n",
            "roadmark_0962.jpg\n",
            "[338.715088 355.191071 454.046906 465.03088399999996 354.379303 334.551727\n",
            " 332.82757599999997 354.379303 'clear' 'roadmark_0963.jpg']\n",
            "roadmark_0963.jpg\n",
            "[486.998871 467.77688600000005 573.955383 616.0606690000001\n",
            " 357.82757599999997 333.689667 332.82757599999997 351.793091 'clear'\n",
            " 'roadmark_0964.jpg']\n",
            "roadmark_0964.jpg\n",
            "[337.799774 350.61441 378.989716 370.751709 313.862061 306.103455\n",
            " 305.241394 315.586212 'leftturn' 'roadmark_0965.jpg']\n",
            "roadmark_0965.jpg\n",
            "[325.90045200000003 348.783752 377.159027 368.005707 313.862061 304.379303\n",
            " 306.103455 316.448273 'leftturn' 'roadmark_0966.jpg']\n",
            "roadmark_0966.jpg\n",
            "[305.763153 336.88443 367.090393 358.852417 324.206909 308.689667\n",
            " 311.275848 325.93102999999996 'leftturn' 'roadmark_0967.jpg']\n",
            "roadmark_0967.jpg\n",
            "[299.355835 326.815796 361.598389 351.52975499999997 325.93102999999996\n",
            " 313.0 316.448273 327.65518199999997 'leftturn' 'roadmark_0968.jpg']\n",
            "roadmark_0968.jpg\n",
            "[280.13388100000003 309.4245 353.360413 343.291748 332.82757599999997\n",
            " 319.034485 321.620697 337.137939 'leftturn' 'roadmark_0969.jpg']\n",
            "roadmark_0969.jpg\n",
            "[258.165894 289.28717 347.868408 324.069794 338.862061 324.206909\n",
            " 328.517242 344.896545 'leftturn' 'roadmark_0970.jpg']\n",
            "roadmark_0970.jpg\n",
            "[233.45195 269.149872 326.815796 309.4245 350.06897000000004\n",
            " 332.82757599999997 335.413788 356.965515 'leftturn' 'roadmark_0971.jpg']\n",
            "roadmark_0971.jpg\n",
            "[199.584671 249.01258900000002 321.32379199999997 285.625854 359.551727\n",
            " 341.448273 339.724152 369.034485 'leftturn' 'roadmark_0972.jpg']\n",
            "roadmark_0972.jpg\n",
            "[139.172775 215.145309 311.255157 251.758575 381.965515 352.65518199999997\n",
            " 355.241394 393.17242400000003 'leftturn' 'roadmark_0973.jpg']\n",
            "roadmark_0973.jpg\n",
            "[357.937073 378.989716 446.72424299999994 465.03088399999996\n",
            " 343.17242400000003 313.862061 315.586212 344.896545 'rail'\n",
            " 'roadmark_0974.jpg']\n",
            "roadmark_0974.jpg\n",
            "[507.13616900000005 461.36956799999996 525.44281 603.2459719999999\n",
            " 355.241394 317.310333 314.724152 350.06897000000004 'rail'\n",
            " 'roadmark_0975.jpg']\n",
            "roadmark_0975.jpg\n",
            "[353.360413 378.074371 447.639587 461.36956799999996 348.34481800000003\n",
            " 315.586212 317.310333 349.206909 'rail' 'roadmark_0976.jpg']\n",
            "roadmark_0976.jpg\n",
            "[347.868408 377.159027 447.639587 474.184204 356.103455 318.17242400000003\n",
            " 318.17242400000003 361.275848 'rail' 'roadmark_0977.jpg']\n",
            "roadmark_0977.jpg\n",
            "[516.28949 470.52288799999997 529.104126 620.637329 360.413788 319.896545\n",
            " 319.034485 351.793091 'rail' 'roadmark_0978.jpg']\n",
            "roadmark_0978.jpg\n",
            "[338.715088 374.413055 447.639587 485.168182 367.310333 319.896545\n",
            " 322.482758 366.448273 'rail' 'roadmark_0979.jpg']\n",
            "roadmark_0979.jpg\n",
            "[530.934753 471.43820199999993 540.088074 645.351257 372.482758\n",
            " 323.34481800000003 322.482758 357.82757599999997 'rail'\n",
            " 'roadmark_0980.jpg']\n",
            "roadmark_0980.jpg\n",
            "[339.630432 346.953094 378.989716 367.090393 313.862061 301.793091\n",
            " 302.65518199999997 313.862061 'leftturn' 'roadmark_0981.jpg']\n",
            "roadmark_0981.jpg\n",
            "[335.05377200000004 371.66705299999995 447.639587 493.406189\n",
            " 375.93102999999996 324.206909 324.206909 375.06897000000004 'rail'\n",
            " 'roadmark_0982.jpg']\n",
            "roadmark_0982.jpg\n",
            "[537.342102 476.93020599999994 544.664734 661.827209 377.65518199999997\n",
            " 325.93102999999996 325.06897000000004 363.862061 'rail'\n",
            " 'roadmark_0983.jpg']\n",
            "roadmark_0983.jpg\n",
            "[317.66247599999997 370.751709 453.131592 504.390167 388.0\n",
            " 325.93102999999996 325.06897000000004 382.82757599999997 'rail'\n",
            " 'roadmark_0984.jpg']\n",
            "roadmark_0984.jpg\n",
            "[555.648743 483.33752400000003 561.1407469999999 680.13385\n",
            " 393.17242400000003 328.517242 327.65518199999997 372.482758 'rail'\n",
            " 'roadmark_0985.jpg']\n",
            "roadmark_0985.jpg\n",
            "[336.88443 344.207092 378.989716 364.34439100000003 311.275848 303.517242\n",
            " 303.517242 313.862061 'leftturn' 'roadmark_0986.jpg']\n",
            "roadmark_0986.jpg\n",
            "[309.4245 372.582367 456.792908 518.1201169999999 400.93102999999996\n",
            " 331.103455 331.965515 398.34481800000003 'rail' 'roadmark_0987.jpg']\n",
            "roadmark_0987.jpg\n",
            "[579.4473879999999 483.33752400000003 564.802063 724.069824 405.241394\n",
            " 330.241394 328.517242 388.0 'rail' 'roadmark_0988.jpg']\n",
            "roadmark_0988.jpg\n",
            "[294.779175 367.090393 464.11557 534.59613 413.862061 331.103455\n",
            " 332.82757599999997 417.310333 'rail' 'roadmark_0989.jpg']\n",
            "roadmark_0989.jpg\n",
            "[605.992004 490.660187 581.278015 783.5663450000001 422.482758 335.413788\n",
            " 334.551727 406.103455 'rail' 'roadmark_0990.jpg']\n",
            "roadmark_0990.jpg\n",
            "[328.646454 342.37643399999996 376.243713 362.513733 313.862061 304.379303\n",
            " 306.103455 319.034485 'leftturn' 'roadmark_0991.jpg']\n",
            "roadmark_0991.jpg\n",
            "[299.355835 366.175049 471.43820199999993 545.5800780000001 415.586212\n",
            " 335.413788 335.413788 429.37930300000005 'rail' 'roadmark_0992.jpg']\n",
            "roadmark_0992.jpg\n",
            "[613.3146360000001 503.4748230000001 595.007996 775.3283690000001 438.0\n",
            " 340.586212 337.137939 396.620697 'rail' 'roadmark_0993.jpg']\n",
            "roadmark_0993.jpg\n",
            "[328.646454 339.630432 374.413055 363.429077 314.724152 307.82757599999997\n",
            " 306.965515 317.310333 'leftturn' 'roadmark_0994.jpg']\n",
            "roadmark_0994.jpg\n",
            "[307.59381099999996 359.767731 475.099548 536.4267580000001 415.586212\n",
            " 342.310333 340.586212 427.655182 'rail' 'roadmark_0995.jpg']\n",
            "roadmark_0995.jpg\n",
            "[662.742554 506.220825 604.161316 787.227661 466.44827300000003 344.896545\n",
            " 341.448273 404.379303 'rail' 'roadmark_0996.jpg']\n",
            "roadmark_0996.jpg\n",
            "[322.239136 336.88443 373.497711 360.683075 317.310333 306.965515\n",
            " 307.82757599999997 319.896545 'leftturn' 'roadmark_0997.jpg']\n",
            "roadmark_0997.jpg\n",
            "[303.932495 357.021729 477.845551 553.818054 406.103455 345.758606\n",
            " 344.034485 439.72415199999995 'rail' 'roadmark_0998.jpg']\n",
            "roadmark_0998.jpg\n",
            "[660.911926 511.71283 616.0606690000001 794.550354 472.482758 351.793091\n",
            " 344.896545 406.965515 'rail' 'roadmark_0999.jpg']\n",
            "roadmark_0999.jpg\n",
            "[320.408478 338.715088 368.921051 357.937073 319.896545 307.82757599999997\n",
            " 310.413788 321.620697 'leftturn' 'roadmark_1000.jpg']\n",
            "roadmark_1000.jpg\n",
            "[308.50915499999996 550.156738 486.08352699999995 350.61441 413.0\n",
            " 422.482758 357.82757599999997 355.241394 'rail' 'roadmark_1001.jpg']\n",
            "roadmark_1001.jpg\n",
            "[316.747131 334.138458 374.413055 358.852417 319.034485 310.413788\n",
            " 311.275848 322.482758 'leftturn' 'roadmark_1002.jpg']\n",
            "roadmark_1002.jpg\n",
            "[313.08581499999997 335.05377200000004 370.751709 356.10641499999997\n",
            " 319.896545 311.275848 311.275848 325.06897000000004 'leftturn'\n",
            " 'roadmark_1003.jpg']\n",
            "roadmark_1003.jpg\n",
            "[315.831818 336.88443 369.83639500000004 355.191071 319.896545 309.551727\n",
            " 312.137939 325.06897000000004 'leftturn' 'roadmark_1004.jpg']\n",
            "roadmark_1004.jpg\n",
            "[303.932495 332.30777 367.090393 350.61441 325.06897000000004 312.137939\n",
            " 311.275848 329.379303 'leftturn' 'roadmark_1005.jpg']\n",
            "roadmark_1005.jpg\n",
            "[308.50915499999996 333.223114 372.582367 350.61441 323.34481800000003\n",
            " 309.551727 312.137939 328.517242 'leftturn' 'roadmark_1006.jpg']\n",
            "roadmark_1006.jpg\n",
            "[303.01715099999996 331.392456 368.921051 351.52975499999997 324.206909\n",
            " 314.724152 313.862061 326.793091 'leftturn' 'roadmark_1007.jpg']\n",
            "roadmark_1007.jpg\n",
            "[302.101837 327.73111 367.090393 354.275757 325.06897000000004 313.862061\n",
            " 314.724152 326.793091 'leftturn' 'roadmark_1008.jpg']\n",
            "roadmark_1008.jpg\n",
            "[300.271179 324.985138 363.429077 351.52975499999997 325.93102999999996\n",
            " 313.862061 314.724152 329.379303 'leftturn' 'roadmark_1009.jpg']\n",
            "roadmark_1009.jpg\n",
            "[298.440491 319.493134 363.429077 345.122437 325.93102999999996 316.448273\n",
            " 317.310333 331.103455 'leftturn' 'roadmark_1010.jpg']\n",
            "roadmark_1010.jpg\n",
            "[299.355835 320.408478 362.513733 346.953094 326.793091 315.586212\n",
            " 317.310333 331.103455 'leftturn' 'roadmark_1011.jpg']\n",
            "roadmark_1011.jpg\n",
            "[294.779175 317.66247599999997 360.683075 347.868408 326.793091\n",
            " 318.17242400000003 317.310333 332.82757599999997 'leftturn'\n",
            " 'roadmark_1012.jpg']\n",
            "roadmark_1012.jpg\n",
            "[292.033173 318.577789 362.513733 345.122437 329.379303 314.724152\n",
            " 318.17242400000003 332.82757599999997 'leftturn' 'roadmark_1013.jpg']\n",
            "roadmark_1013.jpg\n",
            "[292.033173 316.747131 358.852417 344.207092 329.379303 319.034485\n",
            " 317.310333 332.82757599999997 'leftturn' 'roadmark_1014.jpg']\n",
            "roadmark_1014.jpg\n",
            "[285.625854 313.08581499999997 359.767731 342.37643399999996 330.241394\n",
            " 317.310333 318.17242400000003 337.137939 'leftturn' 'roadmark_1015.jpg']\n",
            "roadmark_1015.jpg\n",
            "[291.117859 313.08581499999997 363.429077 340.545776 328.517242\n",
            " 318.17242400000003 319.896545 331.965515 'leftturn' 'roadmark_1016.jpg']\n",
            "roadmark_1016.jpg\n",
            "[290.202515 315.831818 358.852417 338.715088 329.379303 317.310333\n",
            " 318.17242400000003 337.137939 'leftturn' 'roadmark_1017.jpg']\n",
            "roadmark_1017.jpg\n",
            "[290.202515 312.170471 354.275757 338.715088 329.379303 319.034485\n",
            " 319.034485 337.137939 'leftturn' 'roadmark_1018.jpg']\n",
            "roadmark_1018.jpg\n",
            "[288.371857 312.170471 354.275757 339.630432 331.103455 316.448273\n",
            " 320.758606 336.275848 'leftturn' 'roadmark_1019.jpg']\n",
            "roadmark_1019.jpg\n",
            "[287.45651200000003 310.339813 360.683075 343.291748 334.551727 319.896545\n",
            " 319.034485 337.137939 'leftturn' 'roadmark_1020.jpg']\n",
            "roadmark_1020.jpg\n",
            "[284.71054100000003 313.08581499999997 357.937073 343.291748\n",
            " 332.82757599999997 318.17242400000003 319.896545 334.551727 'leftturn'\n",
            " 'roadmark_1021.jpg']\n",
            "roadmark_1021.jpg\n",
            "[285.625854 310.339813 355.191071 345.122437 332.82757599999997 319.034485\n",
            " 320.758606 335.413788 'leftturn' 'roadmark_1022.jpg']\n",
            "roadmark_1022.jpg\n",
            "[282.879852 309.4245 358.852417 342.37643399999996 331.965515 321.620697\n",
            " 320.758606 334.551727 'leftturn' 'roadmark_1023.jpg']\n",
            "roadmark_1023.jpg\n",
            "[283.79519700000003 314.916473 357.021729 341.46109 332.82757599999997\n",
            " 318.17242400000003 319.034485 338.862061 'leftturn' 'roadmark_1024.jpg']\n",
            "roadmark_1024.jpg\n",
            "[289.28717 312.170471 362.513733 338.715088 332.82757599999997 316.448273\n",
            " 320.758606 334.551727 'leftturn' 'roadmark_1025.jpg']\n",
            "roadmark_1025.jpg\n",
            "[287.45651200000003 312.170471 356.10641499999997 340.545776\n",
            " 332.82757599999997 319.896545 319.034485 335.413788 'leftturn'\n",
            " 'roadmark_1026.jpg']\n",
            "roadmark_1026.jpg\n",
            "[285.625854 312.170471 355.191071 341.46109 331.103455 318.17242400000003\n",
            " 319.034485 337.137939 'leftturn' 'roadmark_1027.jpg']\n",
            "roadmark_1027.jpg\n",
            "[283.79519700000003 313.08581499999997 360.683075 339.630432 331.965515\n",
            " 318.17242400000003 319.896545 336.275848 'leftturn' 'roadmark_1028.jpg']\n",
            "roadmark_1028.jpg\n",
            "[281.049194 314.001129 356.10641499999997 346.953094 332.82757599999997\n",
            " 318.17242400000003 317.310333 335.413788 'leftturn' 'roadmark_1029.jpg']\n",
            "roadmark_1029.jpg\n",
            "[282.879852 316.747131 355.191071 343.291748 331.965515 317.310333\n",
            " 319.034485 335.413788 'leftturn' 'roadmark_1030.jpg']\n",
            "roadmark_1030.jpg\n",
            "[287.45651200000003 309.4245 355.191071 343.291748 331.103455 320.758606\n",
            " 319.034485 336.275848 'leftturn' 'roadmark_1031.jpg']\n",
            "roadmark_1031.jpg\n",
            "[289.28717 311.255157 356.10641499999997 345.122437 331.103455\n",
            " 318.17242400000003 320.758606 337.137939 'leftturn' 'roadmark_1032.jpg']\n",
            "roadmark_1032.jpg\n",
            "[286.541199 310.339813 358.852417 340.545776 331.103455 318.17242400000003\n",
            " 319.896545 338.0 'leftturn' 'roadmark_1033.jpg']\n",
            "roadmark_1033.jpg\n",
            "[285.625854 310.339813 360.683075 344.207092 331.965515 319.896545\n",
            " 320.758606 337.137939 'leftturn' 'roadmark_1034.jpg']\n",
            "roadmark_1034.jpg\n",
            "[286.541199 308.50915499999996 352.445068 342.37643399999996\n",
            " 332.82757599999997 320.758606 320.758606 335.413788 'leftturn'\n",
            " 'roadmark_1035.jpg']\n",
            "roadmark_1035.jpg\n",
            "[292.033173 310.339813 356.10641499999997 341.46109 331.103455 320.758606\n",
            " 320.758606 334.551727 'leftturn' 'roadmark_1036.jpg']\n",
            "roadmark_1036.jpg\n",
            "[290.202515 310.339813 351.52975499999997 342.37643399999996 331.103455\n",
            " 321.620697 321.620697 334.551727 'leftturn' 'roadmark_1037.jpg']\n",
            "roadmark_1037.jpg\n",
            "[292.948517 306.678497 350.61441 341.46109 331.965515 320.758606\n",
            " 320.758606 334.551727 'leftturn' 'roadmark_1038.jpg']\n",
            "roadmark_1038.jpg\n",
            "[291.117859 314.001129 352.445068 336.88443 331.965515 319.896545\n",
            " 322.482758 335.413788 'leftturn' 'roadmark_1039.jpg']\n",
            "roadmark_1039.jpg\n",
            "[284.71054100000003 308.50915499999996 351.52975499999997 345.122437\n",
            " 331.103455 320.758606 321.620697 333.689667 'leftturn'\n",
            " 'roadmark_1040.jpg']\n",
            "roadmark_1040.jpg\n",
            "[283.79519700000003 310.339813 354.275757 345.122437 333.689667 320.758606\n",
            " 319.896545 334.551727 'leftturn' 'roadmark_1041.jpg']\n",
            "roadmark_1041.jpg\n",
            "[285.625854 308.50915499999996 351.52975499999997 339.630432 333.689667\n",
            " 320.758606 321.620697 337.137939 'leftturn' 'roadmark_1042.jpg']\n",
            "roadmark_1042.jpg\n",
            "[286.541199 302.101837 355.191071 336.88443 331.965515 324.206909\n",
            " 321.620697 334.551727 'leftturn' 'roadmark_1043.jpg']\n",
            "roadmark_1043.jpg\n",
            "[281.964539 302.101837 353.360413 335.05377200000004 336.275848 322.482758\n",
            " 321.620697 338.0 'leftturn' 'roadmark_1044.jpg']\n",
            "roadmark_1044.jpg\n",
            "[280.13388100000003 307.59381099999996 352.445068 334.138458 333.689667\n",
            " 322.482758 320.758606 335.413788 'leftturn' 'roadmark_1045.jpg']\n",
            "roadmark_1045.jpg\n",
            "[274.64187599999997 306.678497 350.61441 335.05377200000004 334.551727\n",
            " 319.896545 319.896545 338.0 'leftturn' 'roadmark_1046.jpg']\n",
            "roadmark_1046.jpg\n",
            "[279.218536 304.847839 351.52975499999997 338.715088 335.413788 322.482758\n",
            " 319.896545 338.862061 'leftturn' 'roadmark_1047.jpg']\n",
            "roadmark_1047.jpg\n",
            "[275.55722000000003 307.59381099999996 353.360413 337.799774 337.137939\n",
            " 320.758606 323.34481800000003 338.0 'leftturn' 'roadmark_1048.jpg']\n",
            "roadmark_1048.jpg\n",
            "[274.64187599999997 300.271179 352.445068 334.138458 337.137939\n",
            " 323.34481800000003 319.896545 339.724152 'leftturn' 'roadmark_1049.jpg']\n",
            "roadmark_1049.jpg\n",
            "[276.472534 299.355835 351.52975499999997 335.96911600000004 334.551727\n",
            " 322.482758 321.620697 337.137939 'leftturn' 'roadmark_1050.jpg']\n",
            "roadmark_1050.jpg\n",
            "[281.049194 312.170471 358.852417 335.96911600000004 333.689667 319.896545\n",
            " 319.896545 338.862061 'leftturn' 'roadmark_1051.jpg']\n",
            "roadmark_1051.jpg\n",
            "[275.55722000000003 301.18649300000004 351.52975499999997\n",
            " 335.96911600000004 335.413788 322.482758 319.896545 339.724152 'leftturn'\n",
            " 'roadmark_1052.jpg']\n",
            "roadmark_1052.jpg\n",
            "[278.30319199999997 303.01715099999996 351.52975499999997 336.88443\n",
            " 335.413788 322.482758 320.758606 338.0 'leftturn' 'roadmark_1053.jpg']\n",
            "roadmark_1053.jpg\n",
            "[274.64187599999997 304.847839 353.360413 341.46109 334.551727 320.758606\n",
            " 320.758606 337.137939 'leftturn' 'roadmark_1054.jpg']\n",
            "roadmark_1054.jpg\n",
            "[274.64187599999997 307.59381099999996 353.360413 343.291748 336.275848\n",
            " 320.758606 319.896545 337.137939 'leftturn' 'roadmark_1055.jpg']\n",
            "roadmark_1055.jpg\n",
            "[277.387878 305.763153 354.275757 337.799774 333.689667 319.034485\n",
            " 320.758606 339.724152 'leftturn' 'roadmark_1056.jpg']\n",
            "roadmark_1056.jpg\n",
            "[284.71054100000003 309.4245 352.445068 337.799774 333.689667\n",
            " 318.17242400000003 322.482758 338.0 'leftturn' 'roadmark_1057.jpg']\n",
            "roadmark_1057.jpg\n",
            "[275.55722000000003 303.932495 349.699097 339.630432 333.689667 320.758606\n",
            " 319.034485 338.0 'leftturn' 'roadmark_1058.jpg']\n",
            "roadmark_1058.jpg\n",
            "[274.64187599999997 303.932495 352.445068 342.37643399999996 333.689667\n",
            " 321.620697 320.758606 338.0 'leftturn' 'roadmark_1059.jpg']\n",
            "roadmark_1059.jpg\n",
            "[281.049194 310.339813 352.445068 342.37643399999996 332.82757599999997\n",
            " 320.758606 320.758606 337.137939 'leftturn' 'roadmark_1060.jpg']\n",
            "roadmark_1060.jpg\n",
            "[279.218536 302.101837 347.868408 342.37643399999996 335.413788 322.482758\n",
            " 319.896545 338.862061 'leftturn' 'roadmark_1061.jpg']\n",
            "roadmark_1061.jpg\n",
            "[279.218536 307.59381099999996 353.360413 336.88443 333.689667 319.034485\n",
            " 319.034485 340.586212 'leftturn' 'roadmark_1062.jpg']\n",
            "roadmark_1062.jpg\n",
            "[277.387878 301.18649300000004 351.52975499999997 338.715088 334.551727\n",
            " 320.758606 320.758606 340.586212 'leftturn' 'roadmark_1063.jpg']\n",
            "roadmark_1063.jpg\n",
            "[278.30319199999997 299.355835 347.868408 339.630432 335.413788 320.758606\n",
            " 319.896545 339.724152 'leftturn' 'roadmark_1064.jpg']\n",
            "roadmark_1064.jpg\n",
            "[277.387878 299.355835 346.953094 345.122437 336.275848 320.758606\n",
            " 319.896545 338.862061 'leftturn' 'roadmark_1065.jpg']\n",
            "roadmark_1065.jpg\n",
            "[281.964539 295.694519 349.699097 345.122437 334.551727 321.620697\n",
            " 320.758606 336.275848 'leftturn' 'roadmark_1066.jpg']\n",
            "roadmark_1066.jpg\n",
            "[288.371857 301.18649300000004 349.699097 343.291748 333.689667 321.620697\n",
            " 323.34481800000003 336.275848 'leftturn' 'roadmark_1067.jpg']\n",
            "roadmark_1067.jpg\n",
            "[281.964539 305.763153 343.291748 343.291748 333.689667 322.482758\n",
            " 320.758606 338.0 'leftturn' 'roadmark_1068.jpg']\n",
            "roadmark_1068.jpg\n",
            "[281.964539 300.271179 349.699097 343.291748 333.689667 321.620697\n",
            " 321.620697 338.0 'leftturn' 'roadmark_1069.jpg']\n",
            "roadmark_1069.jpg\n",
            "[281.049194 302.101837 346.953094 343.291748 334.551727 320.758606\n",
            " 322.482758 335.413788 'leftturn' 'roadmark_1070.jpg']\n",
            "roadmark_1070.jpg\n",
            "[279.218536 309.4245 350.61441 341.46109 333.689667 319.896545 319.896545\n",
            " 337.137939 'leftturn' 'roadmark_1071.jpg']\n",
            "roadmark_1071.jpg\n",
            "[279.218536 310.339813 353.360413 338.715088 333.689667 320.758606\n",
            " 319.896545 341.448273 'leftturn' 'roadmark_1072.jpg']\n",
            "roadmark_1072.jpg\n",
            "[276.472534 302.101837 345.122437 338.715088 332.82757599999997 321.620697\n",
            " 319.896545 338.862061 'leftturn' 'roadmark_1073.jpg']\n",
            "roadmark_1073.jpg\n",
            "[281.964539 301.18649300000004 346.953094 340.545776 334.551727\n",
            " 323.34481800000003 319.896545 337.137939 'leftturn' 'roadmark_1074.jpg']\n",
            "roadmark_1074.jpg\n",
            "[277.387878 299.355835 350.61441 339.630432 334.551727 322.482758\n",
            " 322.482758 338.0 'leftturn' 'roadmark_1075.jpg']\n",
            "roadmark_1075.jpg\n",
            "[275.55722000000003 308.50915499999996 350.61441 333.223114 334.551727\n",
            " 319.896545 319.896545 339.724152 'leftturn' 'roadmark_1076.jpg']\n",
            "roadmark_1076.jpg\n",
            "[282.879852 308.50915499999996 350.61441 335.96911600000004\n",
            " 332.82757599999997 320.758606 320.758606 339.724152 'leftturn'\n",
            " 'roadmark_1077.jpg']\n",
            "roadmark_1077.jpg\n",
            "[279.218536 304.847839 343.291748 339.630432 335.413788 320.758606\n",
            " 321.620697 338.862061 'leftturn' 'roadmark_1078.jpg']\n",
            "roadmark_1078.jpg\n",
            "[277.387878 300.271179 350.61441 339.630432 335.413788 321.620697\n",
            " 319.896545 338.0 'leftturn' 'roadmark_1079.jpg']\n",
            "roadmark_1079.jpg\n",
            "[280.13388100000003 303.932495 351.52975499999997 341.46109 333.689667\n",
            " 321.620697 320.758606 337.137939 'leftturn' 'roadmark_1080.jpg']\n",
            "roadmark_1080.jpg\n",
            "[285.625854 308.50915499999996 355.191071 337.799774 333.689667\n",
            " 318.17242400000003 321.620697 340.586212 'leftturn' 'roadmark_1081.jpg']\n",
            "roadmark_1081.jpg\n",
            "[275.55722000000003 301.18649300000004 356.10641499999997 332.30777\n",
            " 336.275848 319.896545 322.482758 341.448273 'leftturn'\n",
            " 'roadmark_1082.jpg']\n",
            "roadmark_1082.jpg\n",
            "[277.387878 306.678497 352.445068 338.715088 334.551727 320.758606\n",
            " 321.620697 337.137939 'leftturn' 'roadmark_1083.jpg']\n",
            "roadmark_1083.jpg\n",
            "[279.218536 306.678497 354.275757 339.630432 332.82757599999997 319.896545\n",
            " 320.758606 338.0 'leftturn' 'roadmark_1084.jpg']\n",
            "roadmark_1084.jpg\n",
            "[281.049194 303.01715099999996 352.445068 344.207092 331.965515 322.482758\n",
            " 319.896545 335.413788 'leftturn' 'roadmark_1085.jpg']\n",
            "roadmark_1085.jpg\n",
            "[383.566376 400.042328 447.639587 468.69223 363.862061 337.137939\n",
            " 336.275848 363.0 '25' 'roadmark_1086.jpg']\n",
            "roadmark_1086.jpg\n",
            "[340.545776 362.513733 470.52288799999997 506.220825 364.724152 330.241394\n",
            " 330.241394 363.862061 'X-crossing' 'roadmark_1087.jpg']\n",
            "roadmark_1087.jpg\n",
            "[327.73111 360.683075 478.76086399999997 529.104126 382.82757599999997\n",
            " 337.137939 337.137939 380.241394 'X-crossing' 'roadmark_1088.jpg']\n",
            "roadmark_1088.jpg\n",
            "[191.34668 287.45651200000003 315.831818 254.50457799999998 364.724152\n",
            " 379.379303 348.34481800000003 343.17242400000003 'leftturn'\n",
            " 'roadmark_1089.jpg']\n",
            "roadmark_1089.jpg\n",
            "[363.429077 371.66705299999995 449.47024500000003 479.67620800000003\n",
            " 377.65518199999997 338.862061 341.448273 371.620697 'forward&right'\n",
            " 'roadmark_1090.jpg']\n",
            "roadmark_1090.jpg\n",
            "[323.154449 355.191071 460.454224 491.5755 363.0 329.379303 330.241394\n",
            " 362.137939 'X-crossing' 'roadmark_1091.jpg']\n",
            "roadmark_1091.jpg\n",
            "[273.72653199999996 332.30777 347.868408 304.847839 332.82757599999997\n",
            " 339.724152 323.34481800000003 320.758606 'leftturn' 'roadmark_1092.jpg']\n",
            "roadmark_1092.jpg\n",
            "[378.074371 380.820374 443.06292699999995 444.893585 338.0 320.758606\n",
            " 322.482758 338.862061 'forward&right' 'roadmark_1093.jpg']\n",
            "roadmark_1093.jpg\n",
            "[235.282608 270.98056 332.30777 315.831818 346.620697 327.65518199999997\n",
            " 330.241394 350.06897000000004 'leftturn' 'roadmark_1094.jpg']\n",
            "roadmark_1094.jpg\n",
            "[362.513733 376.243713 444.893585 465.03088399999996 350.93102999999996\n",
            " 323.34481800000003 328.517242 356.103455 'forward&right'\n",
            " 'roadmark_1095.jpg']\n",
            "roadmark_1095.jpg\n",
            "[361.598389 372.582367 440.316925 465.946228 361.275848 335.413788\n",
            " 335.413788 356.103455 'forward&right' 'roadmark_1096.jpg']\n",
            "roadmark_1096.jpg\n",
            "[357.937073 369.83639500000004 445.808929 466.861542 363.862061 335.413788\n",
            " 336.275848 363.0 'forward&right' 'roadmark_1097.jpg']\n",
            "roadmark_1097.jpg\n",
            "[350.61441 368.921051 438.486267 474.184204 373.34481800000003 339.724152\n",
            " 340.586212 369.034485 'forward&right' 'roadmark_1098.jpg']\n",
            "roadmark_1098.jpg\n",
            "[172.12471000000002 211.48397799999998 298.440491 256.335236 383.689667\n",
            " 358.689667 359.551727 397.482758 'leftturn' 'roadmark_1099.jpg']\n",
            "roadmark_1099.jpg\n",
            "[343.291748 356.10641499999997 440.316925 485.168182 394.896545\n",
            " 350.93102999999996 350.93102999999996 395.758606 'forward&right'\n",
            " 'roadmark_1100.jpg']\n",
            "roadmark_1100.jpg\n",
            "[340.545776 363.429077 460.454224 485.168182 355.241394 327.65518199999997\n",
            " 329.379303 357.82757599999997 'X-crossing' 'roadmark_1101.jpg']\n",
            "roadmark_1101.jpg\n",
            "[313.08581499999997 352.445068 466.861542 507.13616900000005 380.241394\n",
            " 338.862061 339.724152 379.379303 'X-crossing' 'roadmark_1102.jpg']\n",
            "roadmark_1102.jpg\n",
            "[233.45195 270.98056 321.32379199999997 310.339813 352.65518199999997\n",
            " 337.137939 342.310333 366.448273 'leftturn' 'roadmark_1103.jpg']\n",
            "roadmark_1103.jpg\n",
            "[231.621277 270.065216 324.069794 309.4245 358.689667 340.586212\n",
            " 341.448273 368.17242400000003 'leftturn' 'roadmark_1104.jpg']\n",
            "roadmark_1104.jpg\n",
            "[356.10641499999997 373.497711 471.43820199999993 497.98284900000004\n",
            " 354.379303 329.379303 327.65518199999997 353.517242 'X-crossing'\n",
            " 'roadmark_1105.jpg']\n",
            "roadmark_1105.jpg\n",
            "[380.820374 398.21167 436.65560899999997 438.486267 354.379303 329.379303\n",
            " 328.517242 352.65518199999997 'forward' 'roadmark_1106.jpg']\n",
            "roadmark_1106.jpg\n",
            "[498.898163 507.13616900000005 576.701355 580.362671 349.206909 328.517242\n",
            " 329.379303 345.758606 'rightturn' 'roadmark_1107.jpg']\n",
            "roadmark_1107.jpg\n",
            "[356.10641499999997 379.905029 431.16360499999996 447.639587 371.620697\n",
            " 338.862061 337.137939 374.206909 'forward' 'roadmark_1108.jpg']\n",
            "roadmark_1108.jpg\n",
            "[513.543457 520.86615 595.007996 609.65332 359.551727 338.862061\n",
            " 337.137939 355.241394 'rightturn' 'roadmark_1109.jpg']\n",
            "roadmark_1109.jpg\n",
            "[372.582367 390.889008 465.946228 490.660187 396.620697 349.206909\n",
            " 345.758606 386.275848 '25' 'roadmark_1110.jpg']\n",
            "roadmark_1110.jpg\n",
            "[171.209381 208.737991 272.811218 243.52059900000003 365.586212 341.448273\n",
            " 345.758606 369.896545 'leftturn' 'roadmark_1111.jpg']\n",
            "roadmark_1111.jpg\n",
            "[343.291748 372.582367 415.60296600000004 416.518311 338.862061\n",
            " 325.93102999999996 328.517242 346.620697 'leftturn' 'roadmark_1112.jpg']\n",
            "roadmark_1112.jpg\n",
            "[452.21624800000006 450.38559000000004 513.543457 527.2734379999999\n",
            " 349.206909 319.034485 325.06897000000004 344.896545 'forward&right'\n",
            " 'roadmark_1113.jpg']\n",
            "roadmark_1113.jpg\n",
            "[337.799774 361.598389 419.264313 422.010284 350.06897000000004 333.689667\n",
            " 331.965515 358.689667 'leftturn' 'roadmark_1114.jpg']\n",
            "roadmark_1114.jpg\n",
            "[465.946228 466.861542 536.4267580000001 571.209412 359.551727 326.793091\n",
            " 328.517242 352.65518199999997 'forward&right' 'roadmark_1115.jpg']\n",
            "roadmark_1115.jpg\n",
            "[324.069794 363.429077 434.824951 425.67163099999993 364.724152 341.448273\n",
            " 348.34481800000003 379.379303 'leftturn' 'roadmark_1116.jpg']\n",
            "roadmark_1116.jpg\n",
            "[489.74484299999995 488.829529 567.5480349999999 623.383301 384.551727\n",
            " 338.0 339.724152 368.17242400000003 'forward&right' 'roadmark_1117.jpg']\n",
            "roadmark_1117.jpg\n",
            "[383.566376 397.29632599999997 448.554932 466.861542 345.758606 329.379303\n",
            " 326.793091 344.896545 'leftturn' 'roadmark_1118.jpg']\n",
            "roadmark_1118.jpg\n",
            "[501.64416500000004 487.914185 554.7333980000001 586.77002 351.793091\n",
            " 326.793091 323.34481800000003 341.448273 'forward&right'\n",
            " 'roadmark_1119.jpg']\n",
            "roadmark_1119.jpg\n",
            "[370.751709 389.05835 444.893585 466.861542 354.379303 333.689667\n",
            " 335.413788 358.689667 'leftturn' 'roadmark_1120.jpg']\n",
            "roadmark_1120.jpg\n",
            "[510.79748499999994 487.914185 558.394714 609.65332 363.0 331.965515\n",
            " 331.965515 353.517242 'forward&right' 'roadmark_1121.jpg']\n",
            "roadmark_1121.jpg\n",
            "[363.429077 373.497711 448.554932 464.11557 368.17242400000003 341.448273\n",
            " 342.310333 370.758606 'leftturn' 'roadmark_1122.jpg']\n",
            "roadmark_1122.jpg\n",
            "[521.7814940000001 487.914185 573.040039 627.044617 375.06897000000004\n",
            " 338.862061 337.137939 363.0 'forward&right' 'roadmark_1123.jpg']\n",
            "roadmark_1123.jpg\n",
            "[355.191071 372.582367 422.010284 432.078949 373.34481800000003 345.758606\n",
            " 341.448273 379.379303 '25' 'roadmark_1124.jpg']\n",
            "roadmark_1124.jpg\n",
            "[342.37643399999996 363.429077 447.639587 456.792908 356.965515\n",
            " 332.82757599999997 330.241394 354.379303 'stop' 'roadmark_1125.jpg']\n",
            "roadmark_1125.jpg\n",
            "[335.05377200000004 360.683075 454.046906 465.946228 368.17242400000003\n",
            " 340.586212 339.724152 370.758606 'stop' 'roadmark_1126.jpg']\n",
            "roadmark_1126.jpg\n",
            "[362.513733 369.83639500000004 447.639587 450.38559000000004 342.310333\n",
            " 324.206909 322.482758 342.310333 'stop' 'roadmark_1127.jpg']\n",
            "roadmark_1127.jpg\n",
            "[341.46109 363.429077 473.26889000000006 485.168182 360.413788 335.413788\n",
            " 334.551727 363.862061 'speed' 'roadmark_1128.jpg']\n",
            "roadmark_1128.jpg\n",
            "[363.429077 377.159027 451.300903 448.554932 342.310333 323.34481800000003\n",
            " 325.06897000000004 348.34481800000003 'hump' 'roadmark_1129.jpg']\n",
            "roadmark_1129.jpg\n",
            "[346.03775 372.582367 451.300903 454.046906 357.82757599999997 330.241394\n",
            " 333.689667 364.724152 'hump' 'roadmark_1130.jpg']\n",
            "roadmark_1130.jpg\n",
            "[355.191071 368.921051 451.300903 472.353546 347.482758 326.793091\n",
            " 326.793091 346.620697 'speed' 'roadmark_1131.jpg']\n",
            "roadmark_1131.jpg\n",
            "[358.852417 366.175049 430.248291 436.65560899999997 338.0 319.034485\n",
            " 320.758606 338.862061 'hump' 'roadmark_1132.jpg']\n",
            "roadmark_1132.jpg\n",
            "[347.868408 362.513733 454.046906 462.284912 358.689667 338.0 337.137939\n",
            " 361.275848 'stop' 'roadmark_1133.jpg']\n",
            "roadmark_1133.jpg\n",
            "[357.021729 374.413055 441.23226900000003 449.47024500000003 369.034485\n",
            " 338.862061 338.862061 372.482758 '30' 'roadmark_1134.jpg']\n",
            "roadmark_1134.jpg\n",
            "[321.32379199999997 357.937073 446.72424299999994 445.808929 354.379303\n",
            " 331.965515 330.241394 356.965515 'slow' 'roadmark_1135.jpg']\n",
            "roadmark_1135.jpg\n",
            "[349.699097 371.66705299999995 440.316925 443.06292699999995\n",
            " 332.82757599999997 319.034485 313.862061 334.551727 'slow'\n",
            " 'roadmark_1136.jpg']\n",
            "roadmark_1136.jpg\n",
            "[355.191071 361.598389 432.99429299999997 441.23226900000003 329.379303\n",
            " 313.862061 315.586212 330.241394 'school' 'roadmark_1137.jpg']\n",
            "roadmark_1137.jpg\n",
            "[344.207092 354.275757 432.078949 454.96225 339.724152 323.34481800000003\n",
            " 320.758606 337.137939 'school' 'roadmark_1138.jpg']\n",
            "roadmark_1138.jpg\n",
            "[327.73111 343.291748 448.554932 469.607544 357.82757599999997\n",
            " 332.82757599999997 333.689667 350.93102999999996 'school'\n",
            " 'roadmark_1139.jpg']\n",
            "roadmark_1139.jpg\n",
            "[364.34439100000003 365.25973500000003 411.02630600000003 416.518311\n",
            " 324.206909 311.275848 308.689667 323.34481800000003 'xing'\n",
            " 'roadmark_1140.jpg']\n",
            "roadmark_1140.jpg\n",
            "[351.52975499999997 358.852417 417.433624 422.010284 330.241394 314.724152\n",
            " 313.862061 334.551727 'xing' 'roadmark_1141.jpg']\n",
            "roadmark_1141.jpg\n",
            "[346.03775 354.275757 420.179626 422.925629 340.586212 320.758606\n",
            " 321.620697 344.896545 'xing' 'roadmark_1142.jpg']\n",
            "roadmark_1142.jpg\n",
            "[321.32379199999997 342.37643399999996 429.332947 436.65560899999997\n",
            " 366.448273 335.413788 336.275848 366.448273 'xing' 'roadmark_1143.jpg']\n",
            "roadmark_1143.jpg\n",
            "[354.275757 363.429077 497.98284900000004 488.829529 355.241394 324.206909\n",
            " 329.379303 363.862061 'stripe' 'roadmark_1144.jpg']\n",
            "roadmark_1144.jpg\n",
            "[346.03775 375.328369 497.067505 497.067505 364.724152 328.517242\n",
            " 331.103455 369.896545 'stripe' 'roadmark_1145.jpg']\n",
            "roadmark_1145.jpg\n",
            "[346.03775 369.83639500000004 493.406189 506.220825 391.448273 345.758606\n",
            " 344.896545 386.275848 'stripe' 'roadmark_1146.jpg']\n",
            "roadmark_1146.jpg\n",
            "[403.70367400000003 407.36499 459.53891 474.184204 374.206909 338.0\n",
            " 338.862061 369.896545 '30' 'roadmark_1147.jpg']\n",
            "roadmark_1147.jpg\n",
            "[223.383301 259.081238 308.50915499999996 291.117859 347.482758 328.517242\n",
            " 331.965515 351.793091 'leftturn' 'roadmark_1148.jpg']\n",
            "roadmark_1148.jpg\n",
            "[138.257431 189.516022 265.488556 221.55262799999997 372.482758 351.793091\n",
            " 351.793091 387.137939 'leftturn' 'roadmark_1149.jpg']\n",
            "roadmark_1149.jpg\n",
            "[180.362701 213.31465099999997 277.387878 249.01258900000002\n",
            " 352.65518199999997 336.275848 341.448273 362.137939 'leftturn'\n",
            " 'roadmark_1150.jpg']\n",
            "roadmark_1150.jpg\n",
            "[126.358124 167.54805 236.19793700000002 203.246002 355.241394 340.586212\n",
            " 341.448273 372.482758 'leftturn' 'roadmark_1151.jpg']\n",
            "roadmark_1151.jpg\n",
            "[357.937073 368.921051 428.417633 432.078949 351.793091 324.206909\n",
            " 328.517242 354.379303 'rightturn' 'roadmark_1152.jpg']\n",
            "roadmark_1152.jpg\n",
            "[196.83866899999998 231.621277 299.355835 261.82724 350.93102999999996\n",
            " 328.517242 326.793091 353.517242 'forward&left' 'roadmark_1153.jpg']\n",
            "roadmark_1153.jpg\n",
            "[349.699097 361.598389 443.978271 452.21624800000006 371.620697\n",
            " 332.82757599999997 331.965515 370.758606 'rightturn' 'roadmark_1154.jpg']\n",
            "roadmark_1154.jpg\n",
            "[148.32608000000002 205.07666 287.45651200000003 220.637299 358.689667\n",
            " 333.689667 327.65518199999997 368.17242400000003 'forward&left'\n",
            " 'roadmark_1155.jpg']\n",
            "roadmark_1155.jpg\n",
            "[350.61441 363.429077 444.893585 461.36956799999996 380.241394 346.620697\n",
            " 344.896545 378.517242 'rightturn' 'roadmark_1156.jpg']\n",
            "roadmark_1156.jpg\n",
            "[111.712814 189.516022 282.879852 203.246002 371.620697 344.034485 338.0\n",
            " 386.275848 'forward&left' 'roadmark_1157.jpg']\n",
            "roadmark_1157.jpg\n",
            "[136.426773 213.31465099999997 282.879852 211.48397799999998 353.517242\n",
            " 328.517242 327.65518199999997 369.034485 'forward&left'\n",
            " 'roadmark_1158.jpg']\n",
            "roadmark_1158.jpg\n",
            "[352.445068 364.34439100000003 432.99429299999997 430.248291 344.896545\n",
            " 323.34481800000003 319.896545 340.586212 'rightturn' 'roadmark_1159.jpg']\n",
            "roadmark_1159.jpg\n",
            "[319.493134 341.46109 434.824951 432.99429299999997 378.517242 344.034485\n",
            " 338.862061 373.34481800000003 'rightturn' 'roadmark_1160.jpg']\n",
            "roadmark_1160.jpg\n",
            "[390.889008 400.042328 437.57092300000005 445.808929 350.93102999999996\n",
            " 326.793091 327.65518199999997 355.241394 '35' 'roadmark_1161.jpg']\n",
            "roadmark_1161.jpg\n",
            "[266.4039 300.271179 340.545776 309.4245 348.34481800000003\n",
            " 325.93102999999996 331.965515 354.379303 '35' 'roadmark_1162.jpg']\n",
            "roadmark_1162.jpg\n",
            "[383.566376 396.381012 444.893585 447.639587 363.862061 339.724152 338.0\n",
            " 370.758606 '35' 'roadmark_1163.jpg']\n",
            "roadmark_1163.jpg\n",
            "[214.22997999999998 275.55722000000003 326.815796 292.033173 362.137939\n",
            " 336.275848 339.724152 371.620697 '35' 'roadmark_1164.jpg']\n",
            "roadmark_1164.jpg\n",
            "[388.143036 393.63501 423.840973 444.893585 349.206909 319.896545\n",
            " 319.896545 350.06897000000004 'forward' 'roadmark_1165.jpg']\n",
            "roadmark_1165.jpg\n",
            "[253.58924900000002 293.863831 337.799774 315.831818 346.620697 324.206909\n",
            " 325.06897000000004 350.93102999999996 'forward' 'roadmark_1166.jpg']\n",
            "roadmark_1166.jpg\n",
            "[162.056061 200.5 249.01258900000002 206.907318 338.862061\n",
            " 323.34481800000003 331.103455 345.758606 'leftturn' 'roadmark_1167.jpg']\n",
            "roadmark_1167.jpg\n",
            "[387.227692 397.29632599999997 439.40161100000006 445.808929\n",
            " 352.65518199999997 330.241394 327.65518199999997 349.206909 'forward'\n",
            " 'roadmark_1168.jpg']\n",
            "roadmark_1168.jpg\n",
            "[368.921051 382.651031 435.740265 427.50228899999996 351.793091\n",
            " 325.06897000000004 328.517242 349.206909 '35' 'roadmark_1169.jpg']\n",
            "roadmark_1169.jpg\n",
            "[245.35125699999998 288.371857 336.88443 307.59381099999996\n",
            " 343.17242400000003 325.06897000000004 328.517242 350.93102999999996 '35'\n",
            " 'roadmark_1170.jpg']\n",
            "roadmark_1170.jpg\n",
            "[182.19335900000002 238.02861000000001 291.117859 239.85926800000001\n",
            " 355.241394 336.275848 342.310333 369.034485 'leftturn'\n",
            " 'roadmark_1171.jpg']\n",
            "roadmark_1171.jpg\n",
            "[190.431351 233.45195 288.371857 247.181915 354.379303 338.0 342.310333\n",
            " 369.896545 'leftturn' 'roadmark_1172.jpg']\n",
            "roadmark_1172.jpg\n",
            "[332.30777 356.10641499999997 433.90960700000005 419.264313\n",
            " 343.17242400000003 320.758606 324.206909 343.17242400000003 'keep'\n",
            " 'roadmark_1173.jpg']\n",
            "roadmark_1173.jpg\n",
            "[454.96225 446.72424299999994 519.035461 531.850098 342.310333\n",
            " 325.06897000000004 317.310333 338.862061 'keep' 'roadmark_1174.jpg']\n",
            "roadmark_1174.jpg\n",
            "[339.630432 357.021729 439.40161100000006 443.06292699999995 340.586212\n",
            " 325.06897000000004 322.482758 347.482758 'clear' 'roadmark_1175.jpg']\n",
            "roadmark_1175.jpg\n",
            "[468.69223 453.131592 532.765442 565.717407 348.34481800000003\n",
            " 325.93102999999996 320.758606 335.413788 'clear' 'roadmark_1176.jpg']\n",
            "roadmark_1176.jpg\n",
            "[354.275757 374.413055 417.433624 423.840973 359.551727 331.965515\n",
            " 331.103455 361.275848 '35' 'roadmark_1177.jpg']\n",
            "roadmark_1177.jpg\n",
            "[509.882141 483.33752400000003 530.934753 567.5480349999999 359.551727\n",
            " 333.689667 325.06897000000004 352.65518199999997 '35' 'roadmark_1178.jpg']\n",
            "roadmark_1178.jpg\n",
            "[358.852417 371.66705299999995 420.179626 422.925629 347.482758\n",
            " 327.65518199999997 326.793091 351.793091 '35' 'roadmark_1179.jpg']\n",
            "roadmark_1179.jpg\n",
            "[490.660187 466.861542 519.035461 545.5800780000001 350.93102999999996\n",
            " 328.517242 326.793091 345.758606 '35' 'roadmark_1180.jpg']\n",
            "roadmark_1180.jpg\n",
            "[356.10641499999997 373.497711 421.094971 425.67163099999993\n",
            " 357.82757599999997 332.82757599999997 329.379303 353.517242 '35'\n",
            " 'roadmark_1181.jpg']\n",
            "roadmark_1181.jpg\n",
            "[508.96682699999997 480.591522 541.003418 568.463379 357.82757599999997\n",
            " 331.965515 331.965515 352.65518199999997 '35' 'roadmark_1182.jpg']\n",
            "roadmark_1182.jpg\n",
            "[368.921051 373.497711 422.925629 429.332947 363.0 334.551727\n",
            " 332.82757599999997 363.0 '35' 'roadmark_1183.jpg']\n",
            "roadmark_1183.jpg\n",
            "[519.950806 477.845551 531.850098 569.378723 362.137939 335.413788\n",
            " 331.103455 353.517242 '35' 'roadmark_1184.jpg']\n",
            "roadmark_1184.jpg\n",
            "[384.481689 397.29632599999997 438.486267 447.639587 344.034485 324.206909\n",
            " 324.206909 351.793091 'forward' 'roadmark_1185.jpg']\n",
            "roadmark_1185.jpg\n",
            "[562.056091 531.850098 595.007996 633.4519650000001 361.275848 337.137939\n",
            " 330.241394 352.65518199999997 'rightturn' 'roadmark_1186.jpg']\n",
            "roadmark_1186.jpg\n",
            "[393.63501 394.550354 436.65560899999997 439.40161100000006 338.862061\n",
            " 317.310333 319.896545 340.586212 'forward' 'roadmark_1187.jpg']\n",
            "roadmark_1187.jpg\n",
            "[316.747131 347.868408 447.639587 458.62356600000004 413.862061\n",
            " 357.82757599999997 358.689667 423.344818 '35' 'roadmark_1188.jpg']\n",
            "roadmark_1188.jpg\n",
            "[195.92334 259.996582 312.170471 284.71054100000003 355.241394 334.551727\n",
            " 344.034485 371.620697 'leftturn' 'roadmark_1189.jpg']\n",
            "roadmark_1189.jpg\n",
            "[285.625854 352.445068 401.87298599999997 368.005707 360.413788 319.034485\n",
            " 322.482758 363.862061 'leftturn' 'roadmark_1190.jpg']\n",
            "roadmark_1190.jpg\n",
            "[324.069794 385.39703399999996 443.06292699999995 434.824951 351.793091\n",
            " 316.448273 318.17242400000003 357.82757599999997 'rail'\n",
            " 'roadmark_1191.jpg']\n",
            "roadmark_1191.jpg\n",
            "[251.758575 354.275757 437.57092300000005 448.554932 401.793091 331.103455\n",
            " 334.551727 414.724152 'rail' 'roadmark_1192.jpg']\n",
            "roadmark_1192.jpg\n",
            "[336.88443 371.66705299999995 423.840973 453.131592 375.93102999999996\n",
            " 328.517242 326.793091 381.965515 'leftturn' 'roadmark_1193.jpg']\n",
            "roadmark_1193.jpg\n",
            "[369.83639500000004 388.143036 438.486267 454.96225 356.103455 331.103455\n",
            " 331.965515 357.82757599999997 '40' 'roadmark_1194.jpg']\n",
            "roadmark_1194.jpg\n",
            "[238.02861000000001 276.472534 346.953094 316.747131 348.34481800000003\n",
            " 332.82757599999997 334.551727 356.965515 '40' 'roadmark_1195.jpg']\n",
            "roadmark_1195.jpg\n",
            "[520.86615 493.406189 551.072083 590.431335 358.689667 338.0 330.241394\n",
            " 350.93102999999996 '40' 'roadmark_1196.jpg']\n",
            "roadmark_1196.jpg\n",
            "[391.804352 408.280334 466.861542 477.845551 357.82757599999997 331.965515\n",
            " 331.103455 357.82757599999997 '40' 'roadmark_1197.jpg']\n",
            "roadmark_1197.jpg\n",
            "[589.515991 555.648743 615.145325 663.657898 363.0 335.413788 331.103455\n",
            " 353.517242 '40' 'roadmark_1198.jpg']\n",
            "roadmark_1198.jpg\n",
            "[285.625854 329.561798 369.83639500000004 333.223114 325.93102999999996\n",
            " 309.551727 309.551727 337.137939 'leftturn' 'roadmark_1199.jpg']\n",
            "roadmark_1199.jpg\n",
            "[246.266586 321.32379199999997 357.021729 319.493134 338.862061 314.724152\n",
            " 317.310333 347.482758 'leftturn' 'roadmark_1200.jpg']\n",
            "roadmark_1200.jpg\n",
            "[201.415329 304.847839 350.61441 284.71054100000003 352.65518199999997\n",
            " 314.724152 324.206909 366.448273 'leftturn' 'roadmark_1201.jpg']\n",
            "roadmark_1201.jpg\n",
            "[162.056061 294.779175 342.37643399999996 252.67392 364.724152 320.758606\n",
            " 325.06897000000004 390.586212 'leftturn' 'roadmark_1202.jpg']\n",
            "roadmark_1202.jpg\n",
            "[102.559494 287.45651200000003 341.46109 225.213959 385.413788 321.620697\n",
            " 328.517242 404.379303 'leftturn' 'roadmark_1203.jpg']\n",
            "roadmark_1203.jpg\n",
            "[110.79748500000001 283.79519700000003 328.646454 221.55262799999997\n",
            " 381.965515 325.93102999999996 329.379303 410.413788 'leftturn'\n",
            " 'roadmark_1204.jpg']\n",
            "roadmark_1204.jpg\n",
            "[77.845535 278.30319199999997 336.88443 202.330658 390.586212 326.793091\n",
            " 329.379303 419.896545 'leftturn' 'roadmark_1205.jpg']\n",
            "roadmark_1205.jpg\n",
            "[83.337532 293.863831 325.90045200000003 209.65332 392.310333 321.620697\n",
            " 337.137939 418.17242400000003 'leftturn' 'roadmark_1206.jpg']\n",
            "roadmark_1206.jpg\n",
            "[70.52288100000001 295.694519 331.392456 203.246002 395.758606\n",
            " 323.34481800000003 332.82757599999997 422.482758 'leftturn'\n",
            " 'roadmark_1207.jpg']\n",
            "roadmark_1207.jpg\n",
            "[102.559494 270.065216 346.03775 204.16133100000002 387.137939 330.241394\n",
            " 327.65518199999997 419.896545 'leftturn' 'roadmark_1208.jpg']\n",
            "roadmark_1208.jpg\n",
            "[102.559494 299.355835 324.985138 212.399307 382.82757599999997 321.620697\n",
            " 336.275848 419.034485 'leftturn' 'roadmark_1209.jpg']\n",
            "roadmark_1209.jpg\n",
            "[90.660187 292.948517 320.408478 205.07666 385.413788 322.482758\n",
            " 346.620697 421.62069699999995 'leftturn' 'roadmark_1210.jpg']\n",
            "roadmark_1210.jpg\n",
            "[89.74485 284.71054100000003 334.138458 194.092682 388.862061\n",
            " 325.06897000000004 335.413788 428.517242 'leftturn' 'roadmark_1211.jpg']\n",
            "roadmark_1211.jpg\n",
            "[105.305489 289.28717 323.154449 206.907318 383.689667 324.206909\n",
            " 341.448273 419.034485 'leftturn' 'roadmark_1212.jpg']\n",
            "roadmark_1212.jpg\n",
            "[106.220825 293.863831 326.815796 207.822647 388.0 323.34481800000003\n",
            " 344.896545 419.034485 'leftturn' 'roadmark_1213.jpg']\n",
            "roadmark_1213.jpg\n",
            "[95.236839 279.218536 339.630432 200.5 390.586212 327.65518199999997\n",
            " 334.551727 421.62069699999995 'leftturn' 'roadmark_1214.jpg']\n",
            "roadmark_1214.jpg\n",
            "[93.406181 286.541199 332.30777 199.584671 384.551727 325.06897000000004\n",
            " 339.724152 422.482758 'leftturn' 'roadmark_1215.jpg']\n",
            "roadmark_1215.jpg\n",
            "[98.89817 275.55722000000003 336.88443 205.991989 383.689667\n",
            " 327.65518199999997 330.241394 418.17242400000003 'leftturn'\n",
            " 'roadmark_1216.jpg']\n",
            "roadmark_1216.jpg\n",
            "[105.305489 292.033173 319.493134 201.415329 384.551727 324.206909\n",
            " 344.034485 422.482758 'leftturn' 'roadmark_1217.jpg']\n",
            "roadmark_1217.jpg\n",
            "[97.98284100000001 277.387878 331.392456 207.822647 383.689667 328.517242\n",
            " 329.379303 415.586212 'leftturn' 'roadmark_1218.jpg']\n",
            "roadmark_1218.jpg\n",
            "[119.95079799999999 304.847839 300.271179 204.16133100000002 378.517242\n",
            " 319.034485 356.965515 418.17242400000003 'leftturn' 'roadmark_1219.jpg']\n",
            "roadmark_1219.jpg\n",
            "[111.712814 268.234558 331.392456 205.07666 382.82757599999997 330.241394\n",
            " 331.965515 419.896545 'leftturn' 'roadmark_1220.jpg']\n",
            "roadmark_1220.jpg\n",
            "[96.152176 291.117859 321.32379199999997 201.415329 387.137939\n",
            " 323.34481800000003 337.137939 418.17242400000003 'leftturn'\n",
            " 'roadmark_1221.jpg']\n",
            "roadmark_1221.jpg\n",
            "[91.57551600000001 281.964539 333.223114 203.246002 388.862061\n",
            " 327.65518199999997 330.241394 419.034485 'leftturn' 'roadmark_1222.jpg']\n",
            "roadmark_1222.jpg\n",
            "[83.337532 281.049194 331.392456 207.822647 391.448273 327.65518199999997\n",
            " 331.965515 418.17242400000003 'leftturn' 'roadmark_1223.jpg']\n",
            "roadmark_1223.jpg\n",
            "[95.236839 281.964539 332.30777 203.246002 387.137939 326.793091\n",
            " 336.275848 421.62069699999995 'leftturn' 'roadmark_1224.jpg']\n",
            "roadmark_1224.jpg\n",
            "[93.406181 292.033173 328.646454 205.991989 389.724152 325.06897000000004\n",
            " 340.586212 417.310333 'leftturn' 'roadmark_1225.jpg']\n",
            "roadmark_1225.jpg\n",
            "[95.236839 290.202515 321.32379199999997 207.822647 385.413788 324.206909\n",
            " 347.482758 422.482758 'leftturn' 'roadmark_1226.jpg']\n",
            "roadmark_1226.jpg\n",
            "[94.32151 295.694519 308.50915499999996 195.008011 385.413788\n",
            " 323.34481800000003 347.482758 421.62069699999995 'leftturn'\n",
            " 'roadmark_1227.jpg']\n",
            "roadmark_1227.jpg\n",
            "[72.353546 284.71054100000003 324.069794 179.447372 393.17242400000003\n",
            " 326.793091 336.275848 429.37930300000005 'leftturn' 'roadmark_1228.jpg']\n",
            "roadmark_1228.jpg\n",
            "[62.284896999999994 294.779175 313.08581499999997 182.19335900000002\n",
            " 395.758606 321.620697 348.34481800000003 425.93102999999996 'leftturn'\n",
            " 'roadmark_1229.jpg']\n",
            "roadmark_1229.jpg\n",
            "[85.16819 281.049194 335.96911600000004 169.378723 388.0\n",
            " 327.65518199999997 334.551727 438.0 'leftturn' 'roadmark_1230.jpg']\n",
            "roadmark_1230.jpg\n",
            "[64.115562 279.218536 325.90045200000003 173.04003899999998 394.896545\n",
            " 327.65518199999997 336.275848 430.241394 'leftturn' 'roadmark_1231.jpg']\n",
            "roadmark_1231.jpg\n",
            "[72.353546 292.948517 313.08581499999997 171.209381 390.586212\n",
            " 323.34481800000003 349.206909 435.413788 'leftturn' 'roadmark_1232.jpg']\n",
            "roadmark_1232.jpg\n",
            "[79.676201 283.79519700000003 324.985138 172.12471000000002 389.724152\n",
            " 325.93102999999996 337.137939 435.413788 'leftturn' 'roadmark_1233.jpg']\n",
            "roadmark_1233.jpg\n",
            "[83.337532 269.149872 329.561798 173.04003899999998 391.448273 331.103455\n",
            " 336.275848 431.96551500000004 'leftturn' 'roadmark_1234.jpg']\n",
            "roadmark_1234.jpg\n",
            "[71.43821700000001 287.45651200000003 330.47711200000003\n",
            " 162.97138999999999 394.034485 325.93102999999996 338.0 437.13793899999996\n",
            " 'leftturn' 'roadmark_1235.jpg']\n",
            "roadmark_1235.jpg\n",
            "[81.506866 274.64187599999997 325.90045200000003 175.78604099999998\n",
            " 389.724152 328.517242 336.275848 431.103455 'leftturn'\n",
            " 'roadmark_1236.jpg']\n",
            "roadmark_1236.jpg\n",
            "[85.16819 270.98056 336.88443 162.056061 388.0 330.241394 336.275848\n",
            " 439.72415199999995 'leftturn' 'roadmark_1237.jpg']\n",
            "roadmark_1237.jpg\n",
            "[53.13158000000001 273.72653199999996 323.154449 173.955383 401.793091\n",
            " 329.379303 334.551727 431.103455 'leftturn' 'roadmark_1238.jpg']\n",
            "roadmark_1238.jpg\n",
            "[41.232265000000005 275.55722000000003 330.47711200000003 179.447372\n",
            " 402.65518199999997 328.517242 338.862061 430.241394 'leftturn'\n",
            " 'roadmark_1239.jpg']\n",
            "roadmark_1239.jpg\n",
            "[54.962242 281.964539 318.577789 179.447372 398.34481800000003\n",
            " 325.93102999999996 344.034485 430.241394 'leftturn' 'roadmark_1240.jpg']\n",
            "roadmark_1240.jpg\n",
            "[46.724255 287.45651200000003 312.170471 180.362701 400.93102999999996\n",
            " 325.06897000000004 344.034485 429.37930300000005 'leftturn'\n",
            " 'roadmark_1241.jpg']\n",
            "roadmark_1241.jpg\n",
            "[43.97826 278.30319199999997 331.392456 170.294052 400.93102999999996\n",
            " 326.793091 340.586212 430.241394 'leftturn' 'roadmark_1242.jpg']\n",
            "roadmark_1242.jpg\n",
            "[52.216248 288.371857 305.763153 187.685349 397.482758 323.34481800000003\n",
            " 353.517242 426.793091 'leftturn' 'roadmark_1243.jpg']\n",
            "roadmark_1243.jpg\n",
            "[54.962242 281.049194 324.069794 188.600693 397.482758 326.793091\n",
            " 342.310333 425.93102999999996 'leftturn' 'roadmark_1244.jpg']\n",
            "roadmark_1244.jpg\n",
            "[53.13158000000001 281.964539 331.392456 187.685349 398.34481800000003\n",
            " 326.793091 339.724152 429.37930300000005 'leftturn' 'roadmark_1245.jpg']\n",
            "roadmark_1245.jpg\n",
            "[49.470253 274.64187599999997 329.561798 176.70137 400.06897000000004\n",
            " 328.517242 340.586212 431.103455 'leftturn' 'roadmark_1246.jpg']\n",
            "roadmark_1246.jpg\n",
            "[49.470253 281.049194 323.154449 176.70137 399.206909 328.517242 338.0\n",
            " 435.413788 'leftturn' 'roadmark_1247.jpg']\n",
            "roadmark_1247.jpg\n",
            "[52.216248 286.541199 324.069794 190.431351 401.793091 325.06897000000004\n",
            " 343.17242400000003 424.206909 'leftturn' 'roadmark_1248.jpg']\n",
            "roadmark_1248.jpg\n",
            "[72.353546 266.4039 331.392456 184.024033 398.34481800000003 331.103455\n",
            " 332.82757599999997 427.655182 'leftturn' 'roadmark_1249.jpg']\n",
            "roadmark_1249.jpg\n",
            "[87.914185 256.335236 318.577789 197.753998 394.896545 334.551727\n",
            " 331.965515 432.82757599999997 'leftturn' 'roadmark_1250.jpg']\n",
            "roadmark_1250.jpg\n",
            "[48.55492 255.419907 319.493134 189.516022 404.379303 334.551727\n",
            " 332.82757599999997 431.96551500000004 'leftturn' 'roadmark_1251.jpg']\n",
            "roadmark_1251.jpg\n",
            "[39.401604 254.50457799999998 318.577789 184.93936200000002\n",
            " 400.93102999999996 334.551727 334.551727 438.0 'leftturn'\n",
            " 'roadmark_1252.jpg']\n",
            "roadmark_1252.jpg\n",
            "[41.232265000000005 261.82724 334.138458 182.19335900000002 403.517242\n",
            " 332.82757599999997 337.137939 430.241394 'leftturn' 'roadmark_1253.jpg']\n",
            "roadmark_1253.jpg\n",
            "[42.147597999999995 252.67392 325.90045200000003 186.77002 406.103455\n",
            " 335.413788 334.551727 425.93102999999996 'leftturn' 'roadmark_1254.jpg']\n",
            "roadmark_1254.jpg\n",
            "[56.792908 253.58924900000002 331.392456 176.70137 399.206909 335.413788\n",
            " 334.551727 424.206909 'leftturn' 'roadmark_1255.jpg']\n",
            "roadmark_1255.jpg\n",
            "[62.284896999999994 264.573242 326.815796 185.854691 395.758606 331.965515\n",
            " 332.82757599999997 429.37930300000005 'leftturn' 'roadmark_1256.jpg']\n",
            "roadmark_1256.jpg\n",
            "[67.776886 259.996582 326.815796 185.854691 394.034485 334.551727\n",
            " 334.551727 428.517242 'leftturn' 'roadmark_1257.jpg']\n",
            "roadmark_1257.jpg\n",
            "[62.284896999999994 258.165894 329.561798 179.447372 397.482758 333.689667\n",
            " 334.551727 426.793091 'leftturn' 'roadmark_1258.jpg']\n",
            "roadmark_1258.jpg\n",
            "[56.792908 268.234558 318.577789 181.27803 398.34481800000003\n",
            " 332.82757599999997 337.137939 433.689667 'leftturn' 'roadmark_1259.jpg']\n",
            "roadmark_1259.jpg\n",
            "[158.39473 270.98056 321.32379199999997 232.536606 370.758606 328.517242\n",
            " 333.689667 392.310333 'leftturn' 'roadmark_1260.jpg']\n",
            "roadmark_1260.jpg\n",
            "[78.76087199999999 246.266586 303.932495 178.532043 397.482758 338.0 338.0\n",
            " 425.93102999999996 'leftturn' 'roadmark_1261.jpg']\n",
            "roadmark_1261.jpg\n",
            "[303.01715099999996 346.03775 432.078949 466.861542 417.310333 335.413788\n",
            " 338.0 427.655182 'leftturn' 'roadmark_1262.jpg']\n",
            "roadmark_1262.jpg\n",
            "[342.37643399999996 357.021729 408.280334 420.179626 355.241394 315.586212\n",
            " 313.862061 355.241394 'rightturn' 'roadmark_1263.jpg']\n",
            "roadmark_1263.jpg\n",
            "[314.916473 348.783752 421.094971 454.96225 400.93102999999996\n",
            " 327.65518199999997 325.06897000000004 416.448273 'rightturn'\n",
            " 'roadmark_1264.jpg']\n",
            "roadmark_1264.jpg\n",
            "[343.291748 370.751709 423.840973 444.893585 360.413788 317.310333\n",
            " 317.310333 356.965515 'rightturn' 'roadmark_1265.jpg']\n",
            "roadmark_1265.jpg\n",
            "[329.561798 366.175049 433.90960700000005 454.046906 379.379303 321.620697\n",
            " 321.620697 385.413788 'rightturn' 'roadmark_1266.jpg']\n",
            "roadmark_1266.jpg\n",
            "[303.932495 368.921051 443.978271 443.06292699999995 379.379303 321.620697\n",
            " 325.93102999999996 389.724152 'rightturn' 'roadmark_1267.jpg']\n",
            "roadmark_1267.jpg\n",
            "[365.25973500000003 383.566376 452.21624800000006 457.70825199999996\n",
            " 386.275848 351.793091 352.65518199999997 388.862061 '35'\n",
            " 'roadmark_1268.jpg']\n",
            "roadmark_1268.jpg\n",
            "[141.003433 218.806641 270.98056 213.31465099999997 375.93102999999996\n",
            " 347.482758 352.65518199999997 391.448273 '35' 'roadmark_1269.jpg']\n",
            "roadmark_1269.jpg\n",
            "[125.44279499999999 164.80206299999998 213.31465099999997\n",
            " 162.97138999999999 345.758606 335.413788 338.0 353.517242 'leftturn'\n",
            " 'roadmark_1270.jpg']\n",
            "roadmark_1270.jpg\n",
            "[98.89817 150.156754 205.07666 146.495422 350.06897000000004 335.413788\n",
            " 338.0 356.103455 'rightturn' 'roadmark_1271.jpg']\n",
            "roadmark_1271.jpg\n",
            "[556.564087 502.559509 546.495422 591.34668 341.448273 313.862061\n",
            " 311.275848 334.551727 'rightturn' 'roadmark_1272.jpg']\n",
            "roadmark_1272.jpg\n",
            "[605.992004 515.374146 567.5480349999999 638.028625 353.517242 316.448273\n",
            " 313.0 337.137939 'rightturn' 'roadmark_1273.jpg']\n",
            "roadmark_1273.jpg\n",
            "[89.74485 223.383301 249.92791699999998 126.358124 341.448273 316.448273\n",
            " 321.620697 349.206909 'forward' 'roadmark_1274.jpg']\n",
            "roadmark_1274.jpg\n",
            "[400.957672 404.618988 434.824951 435.740265 333.689667 311.275848\n",
            " 310.413788 331.965515 'forward' 'roadmark_1275.jpg']\n",
            "roadmark_1275.jpg\n",
            "[263.657898 316.747131 345.122437 299.355835 327.65518199999997 310.413788\n",
            " 313.0 335.413788 'forward' 'roadmark_1276.jpg']\n",
            "roadmark_1276.jpg\n",
            "[395.465668 400.042328 438.486267 458.62356600000004 374.206909\n",
            " 323.34481800000003 321.620697 376.793091 'forward' 'roadmark_1277.jpg']\n",
            "roadmark_1277.jpg\n",
            "[156.564072 271.89587400000005 304.847839 222.46795699999998 359.551727\n",
            " 324.206909 325.06897000000004 370.758606 'forward' 'roadmark_1278.jpg']\n",
            "roadmark_1278.jpg\n",
            "[156.564072 210.56864900000002 242.60527000000002 181.27803 336.275848\n",
            " 319.034485 323.34481800000003 342.310333 'leftturn' 'roadmark_1279.jpg']\n",
            "roadmark_1279.jpg\n",
            "[107.136154 202.330658 249.01258900000002 150.156754 341.448273 319.896545\n",
            " 320.758606 351.793091 'leftturn' 'roadmark_1280.jpg']\n",
            "roadmark_1280.jpg\n",
            "[509.882141 481.506866 541.918762 565.717407 373.34481800000003\n",
            " 350.06897000000004 344.896545 369.896545 'bike' 'roadmark_1281.jpg']\n",
            "roadmark_1281.jpg\n",
            "[342.37643399999996 369.83639500000004 441.23226900000003 464.11557\n",
            " 354.379303 321.620697 321.620697 355.241394 'rail' 'roadmark_1282.jpg']\n",
            "roadmark_1282.jpg\n",
            "[209.65332 297.525177 361.598389 316.747131 349.206909 319.896545\n",
            " 321.620697 353.517242 'rail' 'roadmark_1283.jpg']\n",
            "roadmark_1283.jpg\n",
            "[322.239136 369.83639500000004 445.808929 482.42221100000006 371.620697\n",
            " 322.482758 323.34481800000003 370.758606 'rail' 'roadmark_1284.jpg']\n",
            "roadmark_1284.jpg\n",
            "[148.32608000000002 281.049194 357.937073 282.879852 364.724152 322.482758\n",
            " 324.206909 370.758606 'rail' 'roadmark_1285.jpg']\n",
            "roadmark_1285.jpg\n",
            "[301.18649300000004 353.360413 462.284912 493.406189 394.034485 342.310333\n",
            " 341.448273 395.758606 'rail' 'roadmark_1286.jpg']\n",
            "roadmark_1286.jpg\n",
            "[62.284896999999994 224.29862999999997 331.392456 214.22997999999998\n",
            " 395.758606 344.034485 345.758606 420.758606 'rail' 'roadmark_1287.jpg']\n",
            "roadmark_1287.jpg\n",
            "[104.39016 160.225403 180.362701 132.76544199999998 344.896545 334.551727\n",
            " 342.310333 355.241394 'leftturn' 'roadmark_1288.jpg']\n",
            "roadmark_1288.jpg\n",
            "[136.426773 180.362701 218.806641 164.80206299999998 336.275848\n",
            " 325.06897000000004 331.103455 345.758606 'leftturn' 'roadmark_1289.jpg']\n",
            "roadmark_1289.jpg\n",
            "[359.767731 379.905029 435.740265 443.06292699999995 351.793091 324.206909\n",
            " 328.517242 351.793091 '40' 'roadmark_1290.jpg']\n",
            "roadmark_1290.jpg\n",
            "[518.1201169999999 475.099548 532.765442 581.278015 355.241394 331.965515\n",
            " 327.65518199999997 346.620697 '40' 'roadmark_1291.jpg']\n",
            "roadmark_1291.jpg\n",
            "[249.92791699999998 288.371857 326.815796 313.08581499999997 336.275848\n",
            " 324.206909 329.379303 350.06897000000004 'leftturn' 'roadmark_1292.jpg']\n",
            "roadmark_1292.jpg\n",
            "[185.854691 240.77459700000003 302.101837 256.335236 356.103455 338.0\n",
            " 343.17242400000003 366.448273 'leftturn' 'roadmark_1293.jpg']\n",
            "roadmark_1293.jpg\n",
            "[242.60527000000002 283.79519700000003 331.392456 298.440491 338.0\n",
            " 325.06897000000004 327.65518199999997 343.17242400000003 'leftturn'\n",
            " 'roadmark_1294.jpg']\n",
            "roadmark_1294.jpg\n",
            "[224.29862999999997 282.879852 327.73111 296.609833 343.17242400000003\n",
            " 321.620697 329.379303 354.379303 'leftturn' 'roadmark_1295.jpg']\n",
            "roadmark_1295.jpg\n",
            "[240.77459700000003 296.609833 329.561798 303.01715099999996 336.275848\n",
            " 316.448273 325.06897000000004 345.758606 'leftturn' 'roadmark_1296.jpg']\n",
            "roadmark_1296.jpg\n",
            "[152.90274 239.85926800000001 288.371857 250.843246 360.413788 337.137939\n",
            " 345.758606 378.517242 'leftturn' 'roadmark_1297.jpg']\n",
            "roadmark_1297.jpg\n",
            "[344.207092 359.767731 426.586945 428.417633 345.758606 326.793091\n",
            " 325.93102999999996 355.241394 'ped' 'roadmark_1298.jpg']\n",
            "roadmark_1298.jpg\n",
            "[489.74484299999995 466.861542 530.0194700000001 561.1407469999999\n",
            " 350.93102999999996 328.517242 325.93102999999996 344.034485 'ped'\n",
            " 'roadmark_1299.jpg']\n",
            "roadmark_1299.jpg\n",
            "[325.90045200000003 352.445068 439.40161100000006 447.639587 364.724152\n",
            " 336.275848 338.0 363.862061 'xing' 'roadmark_1300.jpg']\n",
            "roadmark_1300.jpg\n",
            "[517.204834 479.67620800000003 570.294067 627.959961 378.517242 342.310333\n",
            " 339.724152 366.448273 'xing' 'roadmark_1301.jpg']\n",
            "roadmark_1301.jpg\n",
            "[311.255157 347.868408 439.40161100000006 453.131592 375.93102999999996\n",
            " 339.724152 340.586212 379.379303 'xing' 'roadmark_1302.jpg']\n",
            "roadmark_1302.jpg\n",
            "[504.390167 475.099548 558.394714 602.330688 371.620697 338.0 337.137939\n",
            " 358.689667 'xing' 'roadmark_1303.jpg']\n",
            "roadmark_1303.jpg\n",
            "[258.165894 295.694519 329.561798 306.678497 337.137939 325.06897000000004\n",
            " 325.93102999999996 346.620697 'leftturn' 'roadmark_1304.jpg']\n",
            "roadmark_1304.jpg\n",
            "[195.92334 263.657898 324.985138 281.964539 363.862061 341.448273\n",
            " 349.206909 381.965515 'leftturn' 'roadmark_1305.jpg']\n",
            "roadmark_1305.jpg\n",
            "[386.31234700000005 414.68765299999995 447.639587 447.639587 320.758606\n",
            " 307.82757599999997 311.275848 325.06897000000004 'leftturn'\n",
            " 'roadmark_1306.jpg']\n",
            "roadmark_1306.jpg\n",
            "[377.159027 398.21167 445.808929 455.877563 336.275848 319.034485\n",
            " 319.034485 338.0 'leftturn' 'roadmark_1307.jpg']\n",
            "roadmark_1307.jpg\n",
            "[353.360413 379.905029 450.38559000000004 466.861542 353.517242 331.103455\n",
            " 332.82757599999997 359.551727 'leftturn' 'roadmark_1308.jpg']\n",
            "roadmark_1308.jpg\n",
            "[313.08581499999997 360.683075 444.893585 470.52288799999997 385.413788\n",
            " 348.34481800000003 354.379303 392.310333 'leftturn' 'roadmark_1309.jpg']\n",
            "roadmark_1309.jpg\n",
            "[316.747131 329.561798 423.840973 422.010284 327.65518199999997 309.551727\n",
            " 309.551727 327.65518199999997 'stop' 'roadmark_1310.jpg']\n",
            "roadmark_1310.jpg\n",
            "[262.742554 294.779175 401.87298599999997 415.60296600000004 356.103455\n",
            " 325.93102999999996 324.206909 362.137939 'stop' 'roadmark_1311.jpg']\n",
            "roadmark_1311.jpg\n",
            "[169.378723 237.113266 393.63501 393.63501 400.93102999999996\n",
            " 352.65518199999997 352.65518199999997 408.689667 'stop'\n",
            " 'roadmark_1312.jpg']\n",
            "roadmark_1312.jpg\n",
            "[159.310074 202.330658 240.77459700000003 204.16133100000002\n",
            " 325.06897000000004 314.724152 318.17242400000003 333.689667 'leftturn'\n",
            " 'roadmark_1313.jpg']\n",
            "roadmark_1313.jpg\n",
            "[61.369564000000004 142.834091 180.362701 113.54348 347.482758 329.379303\n",
            " 337.137939 360.413788 'leftturn' 'roadmark_1314.jpg']\n",
            "roadmark_1314.jpg\n",
            "[179.447372 220.637299 252.67392 212.399307 321.620697 312.137939 313.0\n",
            " 327.65518199999997 'leftturn' 'roadmark_1315.jpg']\n",
            "roadmark_1315.jpg\n",
            "[21.094967 103.47483100000001 140.08810400000002 75.099541 358.689667\n",
            " 341.448273 350.06897000000004 371.620697 'leftturn' 'roadmark_1316.jpg']\n",
            "roadmark_1316.jpg\n",
            "[76.014877 146.495422 180.362701 127.273453 340.586212 324.206909\n",
            " 333.689667 350.93102999999996 'leftturn' 'roadmark_1317.jpg']\n",
            "roadmark_1317.jpg\n",
            "[162.056061 212.399307 244.435928 207.822647 325.93102999999996 313.862061\n",
            " 319.896545 333.689667 'leftturn' 'roadmark_1318.jpg']\n",
            "roadmark_1318.jpg\n",
            "[80.59153 142.834091 187.685349 119.03546899999999 338.862061\n",
            " 325.06897000000004 340.586212 356.103455 'leftturn' 'roadmark_1319.jpg']\n",
            "roadmark_1319.jpg\n",
            "[29.332952000000002 116.289474 174.870712 100.728836 349.206909 331.103455\n",
            " 332.82757599999997 358.689667 'leftturn' 'roadmark_1320.jpg']\n",
            "roadmark_1320.jpg\n",
            "[184.93936200000002 247.181915 303.01715099999996 274.64187599999997\n",
            " 352.65518199999997 326.793091 326.793091 359.551727 'leftturn'\n",
            " 'roadmark_1321.jpg']\n",
            "roadmark_1321.jpg\n",
            "[341.46109 362.513733 464.11557 476.93020599999994 363.0 328.517242\n",
            " 327.65518199999997 361.275848 'rightturn' 'roadmark_1322.jpg']\n",
            "roadmark_1322.jpg\n",
            "[253.58924900000002 273.72653199999996 342.37643399999996 323.154449\n",
            " 331.103455 316.448273 316.448273 341.448273 'leftturn'\n",
            " 'roadmark_1323.jpg']\n",
            "roadmark_1323.jpg\n",
            "[294.779175 324.069794 362.513733 349.699097 312.137939 300.93102999999996\n",
            " 302.65518199999997 317.310333 'leftturn' 'roadmark_1324.jpg']\n",
            "roadmark_1324.jpg\n",
            "[180.362701 237.113266 316.747131 289.28717 347.482758 330.241394\n",
            " 335.413788 358.689667 'leftturn' 'roadmark_1325.jpg']\n",
            "roadmark_1325.jpg\n",
            "[377.159027 390.889008 438.486267 454.046906 334.551727 308.689667\n",
            " 311.275848 330.241394 '35' 'roadmark_1326.jpg']\n",
            "roadmark_1326.jpg\n",
            "[509.882141 486.08352699999995 538.257446 561.1407469999999 331.965515\n",
            " 315.586212 311.275848 326.793091 '35' 'roadmark_1327.jpg']\n",
            "roadmark_1327.jpg\n",
            "[368.005707 379.905029 448.554932 467.77688600000005 353.517242 322.482758\n",
            " 322.482758 355.241394 '35' 'roadmark_1328.jpg']\n",
            "roadmark_1328.jpg\n",
            "[554.7333980000001 508.96682699999997 571.209412 618.806641 356.965515\n",
            " 327.65518199999997 322.482758 341.448273 '35' 'roadmark_1329.jpg']\n",
            "roadmark_1329.jpg\n",
            "[227.044617 260.911896 311.255157 291.117859 323.34481800000003 311.275848\n",
            " 316.448273 333.689667 'leftturn' 'roadmark_1330.jpg']\n",
            "roadmark_1330.jpg\n",
            "[115.374146 186.77002 255.419907 211.48397799999998 356.965515 333.689667\n",
            " 344.896545 376.793091 'leftturn' 'roadmark_1331.jpg']\n",
            "roadmark_1331.jpg\n",
            "[190.431351 259.081238 299.355835 273.72653199999996 333.689667 314.724152\n",
            " 324.206909 350.06897000000004 'leftturn' 'roadmark_1332.jpg']\n",
            "roadmark_1332.jpg\n",
            "[198.669342 244.435928 300.271179 264.573242 328.517242 314.724152\n",
            " 320.758606 345.758606 'leftturn' 'roadmark_1333.jpg']\n",
            "roadmark_1333.jpg\n",
            "[138.257431 184.93936200000002 254.50457799999998 220.637299\n",
            " 350.06897000000004 328.517242 332.82757599999997 365.586212 'leftturn'\n",
            " 'roadmark_1334.jpg']\n",
            "roadmark_1334.jpg\n",
            "[145.580093 186.77002 231.621277 182.19335900000002 321.620697 309.551727\n",
            " 311.275848 329.379303 'leftturn' 'roadmark_1335.jpg']\n",
            "roadmark_1335.jpg\n",
            "[79.676201 134.596115 187.685349 130.934784 333.689667 319.896545\n",
            " 325.93102999999996 342.310333 'leftturn' 'roadmark_1336.jpg']\n",
            "roadmark_1336.jpg\n",
            "[11.941647999999999 74.184212 124.52745800000001 50.385585999999996\n",
            " 348.34481800000003 331.965515 336.275848 361.275848 'leftturn'\n",
            " 'roadmark_1337.jpg']\n",
            "roadmark_1337.jpg\n",
            "[267.319214 293.863831 336.88443 330.47711200000003 313.862061\n",
            " 302.65518199999997 304.379303 319.034485 'leftturn' 'roadmark_1338.jpg']\n",
            "roadmark_1338.jpg\n",
            "[234.367279 273.72653199999996 330.47711200000003 299.355835 324.206909\n",
            " 312.137939 314.724152 328.517242 'leftturn' 'roadmark_1339.jpg']\n",
            "roadmark_1339.jpg\n",
            "[177.616699 227.959961 294.779175 262.742554 340.586212 323.34481800000003\n",
            " 325.06897000000004 350.06897000000004 'leftturn' 'roadmark_1340.jpg']\n",
            "roadmark_1340.jpg\n",
            "[105.305489 187.685349 256.335236 209.65332 361.275848 337.137939\n",
            " 342.310333 380.241394 'leftturn' 'roadmark_1341.jpg']\n",
            "roadmark_1341.jpg\n",
            "[398.21167 402.78833 459.53891 474.184204 363.862061 324.206909\n",
            " 323.34481800000003 355.241394 '35' 'roadmark_1342.jpg']\n",
            "roadmark_1342.jpg\n",
            "[237.113266 271.89587400000005 324.985138 302.101837 322.482758 311.275848\n",
            " 309.551727 335.413788 'leftturn' 'roadmark_1343.jpg']\n",
            "roadmark_1343.jpg\n",
            "[118.12013999999999 191.34668 271.89587400000005 218.806641 359.551727\n",
            " 337.137939 338.862061 376.793091 'leftturn' 'roadmark_1344.jpg']\n",
            "roadmark_1344.jpg\n",
            "[262.742554 292.948517 340.545776 323.154449 316.448273 305.241394\n",
            " 306.103455 324.206909 'leftturn' 'roadmark_1345.jpg']\n",
            "roadmark_1345.jpg\n",
            "[170.294052 227.959961 304.847839 259.996582 347.482758 327.65518199999997\n",
            " 328.517242 361.275848 'leftturn' 'roadmark_1346.jpg']\n",
            "roadmark_1346.jpg\n",
            "[271.89587400000005 307.59381099999996 359.767731 327.73111 314.724152\n",
            " 302.65518199999997 307.82757599999997 324.206909 'leftturn'\n",
            " 'roadmark_1347.jpg']\n",
            "roadmark_1347.jpg\n",
            "[205.991989 255.419907 316.747131 278.30319199999997 337.137939 319.034485\n",
            " 324.206909 352.65518199999997 'leftturn' 'roadmark_1348.jpg']\n",
            "roadmark_1348.jpg\n",
            "[108.051491 190.431351 265.488556 222.46795699999998 369.034485 341.448273\n",
            " 346.620697 387.137939 'leftturn' 'roadmark_1349.jpg']\n",
            "roadmark_1349.jpg\n",
            "[239.85926800000001 272.811218 319.493134 303.932495 318.17242400000003\n",
            " 306.965515 307.82757599999997 326.793091 'leftturn' 'roadmark_1350.jpg']\n",
            "roadmark_1350.jpg\n",
            "[170.294052 222.46795699999998 284.71054100000003 251.758575 339.724152\n",
            " 324.206909 325.93102999999996 348.34481800000003 'leftturn'\n",
            " 'roadmark_1351.jpg']\n",
            "roadmark_1351.jpg\n",
            "[87.914185 156.564072 241.68992599999999 172.12471000000002 363.0\n",
            " 344.034485 344.034485 390.586212 'leftturn' 'roadmark_1352.jpg']\n",
            "roadmark_1352.jpg\n",
            "[342.37643399999996 366.175049 432.078949 412.856964 306.103455 295.758606\n",
            " 301.793091 315.586212 'leftturn' 'roadmark_1353.jpg']\n",
            "roadmark_1353.jpg\n",
            "[344.207092 361.598389 432.078949 426.586945 321.620697 305.241394\n",
            " 306.965515 326.793091 'leftturn' 'roadmark_1354.jpg']\n",
            "roadmark_1354.jpg\n",
            "[332.30777 345.122437 439.40161100000006 432.99429299999997 335.413788\n",
            " 312.137939 317.310333 338.0 'leftturn' 'roadmark_1355.jpg']\n",
            "roadmark_1355.jpg\n",
            "[292.033173 335.96911600000004 426.586945 432.99429299999997 356.965515\n",
            " 318.17242400000003 324.206909 367.310333 'leftturn' 'roadmark_1356.jpg']\n",
            "roadmark_1356.jpg\n",
            "[259.081238 304.847839 421.094971 414.68765299999995 374.206909 335.413788\n",
            " 348.34481800000003 395.758606 'leftturn' 'roadmark_1357.jpg']\n",
            "roadmark_1357.jpg\n",
            "[371.66705299999995 386.31234700000005 447.639587 466.861542\n",
            " 343.17242400000003 308.689667 311.275848 341.448273 '35'\n",
            " 'roadmark_1358.jpg']\n",
            "roadmark_1358.jpg\n",
            "[233.45195 272.811218 333.223114 303.01715099999996 332.82757599999997\n",
            " 314.724152 314.724152 340.586212 '35' 'roadmark_1359.jpg']\n",
            "roadmark_1359.jpg\n",
            "[363.429077 378.074371 465.03088399999996 480.591522 385.413788 341.448273\n",
            " 343.17242400000003 384.551727 '35' 'roadmark_1360.jpg']\n",
            "roadmark_1360.jpg\n",
            "[128.188782 195.92334 290.202515 232.536606 371.620697 344.034485\n",
            " 343.17242400000003 382.82757599999997 '35' 'roadmark_1361.jpg']\n",
            "roadmark_1361.jpg\n",
            "[184.024033 219.72197000000003 268.234558 227.044617 321.620697 309.551727\n",
            " 311.275848 328.517242 'leftturn' 'roadmark_1362.jpg']\n",
            "roadmark_1362.jpg\n",
            "[71.43821700000001 139.172775 200.5 110.79748500000001 347.482758\n",
            " 330.241394 336.275848 365.586212 'leftturn' 'roadmark_1363.jpg']\n",
            "roadmark_1363.jpg\n",
            "[378.074371 393.63501 465.03088399999996 484.25286900000003\n",
            " 352.65518199999997 322.482758 324.206909 355.241394 '25'\n",
            " 'roadmark_1364.jpg']\n",
            "roadmark_1364.jpg\n",
            "[374.413055 391.804352 485.168182 502.559509 378.517242 334.551727\n",
            " 339.724152 382.82757599999997 '25' 'roadmark_1365.jpg']\n",
            "roadmark_1365.jpg\n",
            "[112.628143 176.70137 207.822647 169.378723 325.93102999999996 313.0\n",
            " 317.310333 333.689667 'leftturn' 'roadmark_1366.jpg']\n",
            "roadmark_1366.jpg\n",
            "[60.45423100000001 125.44279499999999 164.80206299999998\n",
            " 110.79748500000001 336.275848 322.482758 327.65518199999997\n",
            " 350.06897000000004 'leftturn' 'roadmark_1367.jpg']\n",
            "roadmark_1367.jpg\n",
            "[154.73341399999998 204.16133100000002 241.68992599999999 200.5 322.482758\n",
            " 310.413788 313.862061 328.517242 'leftturn' 'roadmark_1368.jpg']\n",
            "roadmark_1368.jpg\n",
            "[55.877575 131.850113 169.378723 115.374146 338.0 324.206909 328.517242\n",
            " 350.93102999999996 'leftturn' 'roadmark_1369.jpg']\n",
            "roadmark_1369.jpg\n",
            "[82.422195 148.32608000000002 194.092682 136.426773 333.689667 319.034485\n",
            " 323.34481800000003 342.310333 'leftturn' 'roadmark_1370.jpg']\n",
            "roadmark_1370.jpg\n",
            "[349.699097 361.598389 399.12701400000003 395.465668 339.724152 306.103455\n",
            " 308.689667 343.17242400000003 'forward' 'roadmark_1371.jpg']\n",
            "roadmark_1371.jpg\n",
            "[198.669342 270.065216 314.001129 254.50457799999998 331.965515\n",
            " 307.82757599999997 308.689667 341.448273 'forward' 'roadmark_1372.jpg']\n",
            "roadmark_1372.jpg\n",
            "[326.815796 363.429077 402.78833 400.957672 374.206909 315.586212\n",
            " 319.034485 373.34481800000003 'forward' 'roadmark_1373.jpg']\n",
            "roadmark_1373.jpg\n",
            "[135.51144399999998 252.67392 287.45651200000003 198.669342 360.413788\n",
            " 318.17242400000003 319.034485 372.482758 'forward' 'roadmark_1374.jpg']\n",
            "roadmark_1374.jpg\n",
            "[379.905029 387.227692 428.417633 447.639587 325.06897000000004 294.034485\n",
            " 294.034485 322.482758 'rightturn' 'roadmark_1375.jpg']\n",
            "roadmark_1375.jpg\n",
            "[248.09726 286.541199 331.392456 331.392456 328.517242 311.275848\n",
            " 311.275848 340.586212 '35' 'roadmark_1376.jpg']\n",
            "roadmark_1376.jpg\n",
            "[400.042328 400.042328 449.47024500000003 471.43820199999993 334.551727\n",
            " 310.413788 309.551727 331.103455 '35' 'roadmark_1377.jpg']\n",
            "roadmark_1377.jpg\n",
            "[197.753998 249.92791699999998 314.001129 294.779175 350.93102999999996\n",
            " 328.517242 329.379303 361.275848 '35' 'roadmark_1378.jpg']\n",
            "roadmark_1378.jpg\n",
            "[400.957672 400.042328 467.77688600000005 496.15216100000004 366.448273\n",
            " 324.206909 324.206909 357.82757599999997 '35' 'roadmark_1379.jpg']\n",
            "roadmark_1379.jpg\n",
            "[439.40161100000006 433.90960700000005 382.651031 351.52975499999997\n",
            " 337.137939 302.65518199999997 299.206909 332.82757599999997 'leftturn'\n",
            " 'roadmark_1380.jpg']\n",
            "roadmark_1380.jpg\n",
            "[460.454224 434.824951 376.243713 312.170471 391.448273 311.275848\n",
            " 307.82757599999997 368.17242400000003 'leftturn' 'roadmark_1381.jpg']\n",
            "roadmark_1381.jpg\n",
            "[283.79519700000003 335.05377200000004 417.433624 405.534332\n",
            " 375.93102999999996 334.551727 333.689667 381.103455 '25'\n",
            " 'roadmark_1382.jpg']\n",
            "roadmark_1382.jpg\n",
            "[307.59381099999996 402.78833 473.26889000000006 391.804352 363.862061\n",
            " 335.413788 343.17242400000003 385.413788 '25' 'roadmark_1383.jpg']\n",
            "roadmark_1383.jpg\n",
            "[320.408478 351.52975499999997 454.96225 457.70825199999996 349.206909\n",
            " 317.310333 319.034485 352.65518199999997 'xing' 'roadmark_1384.jpg']\n",
            "roadmark_1384.jpg\n",
            "[305.763153 342.37643399999996 442.147583 446.72424299999994 371.620697\n",
            " 333.689667 334.551727 371.620697 'ped' 'roadmark_1385.jpg']\n",
            "roadmark_1385.jpg\n",
            "[331.392456 347.868408 457.70825199999996 459.53891 335.413788 315.586212\n",
            " 313.862061 337.137939 'stop' 'roadmark_1386.jpg']\n",
            "roadmark_1386.jpg\n",
            "[306.678497 334.138458 468.69223 473.26889000000006 361.275848 330.241394\n",
            " 329.379303 364.724152 'stop' 'roadmark_1387.jpg']\n",
            "roadmark_1387.jpg\n",
            "[266.4039 314.001129 498.898163 523.612122 393.17242400000003\n",
            " 352.65518199999997 350.93102999999996 397.482758 'stop'\n",
            " 'roadmark_1388.jpg']\n",
            "roadmark_1388.jpg\n",
            "[184.024033 241.68992599999999 308.50915499999996 270.98056 345.758606\n",
            " 325.06897000000004 325.06897000000004 356.103455 '35' 'roadmark_1389.jpg']\n",
            "roadmark_1389.jpg\n",
            "[356.10641499999997 370.751709 449.47024500000003 455.877563 353.517242\n",
            " 325.93102999999996 325.06897000000004 354.379303 '35' 'roadmark_1390.jpg']\n",
            "roadmark_1390.jpg\n",
            "[353.360413 368.921051 452.21624800000006 443.978271 323.34481800000003\n",
            " 309.551727 309.551727 325.06897000000004 'stop' 'roadmark_1391.jpg']\n",
            "roadmark_1391.jpg\n",
            "[335.96911600000004 357.937073 450.38559000000004 465.946228 339.724152\n",
            " 319.896545 319.034485 342.310333 'stop' 'roadmark_1392.jpg']\n",
            "roadmark_1392.jpg\n",
            "[310.339813 344.207092 465.03088399999996 483.33752400000003 366.448273\n",
            " 335.413788 333.689667 372.482758 'stop' 'roadmark_1393.jpg']\n",
            "roadmark_1393.jpg\n",
            "[284.71054100000003 332.30777 476.014862 492.49084500000004 396.620697\n",
            " 347.482758 346.620697 402.65518199999997 'stop' 'roadmark_1394.jpg']\n",
            "roadmark_1394.jpg\n",
            "[212.399307 255.419907 322.239136 326.815796 364.724152 332.82757599999997\n",
            " 331.965515 363.862061 '25' 'roadmark_1395.jpg']\n",
            "roadmark_1395.jpg\n",
            "[269.149872 313.08581499999997 441.23226900000003 459.53891 366.448273\n",
            " 332.82757599999997 331.103455 368.17242400000003 'stop'\n",
            " 'roadmark_1396.jpg']\n",
            "roadmark_1396.jpg\n",
            "[339.630432 352.445068 422.010284 423.840973 344.896545 314.724152\n",
            " 316.448273 347.482758 '35' 'roadmark_1397.jpg']\n",
            "roadmark_1397.jpg\n",
            "[182.19335900000002 238.02861000000001 293.863831 260.911896 338.862061\n",
            " 319.896545 320.758606 348.34481800000003 '35' 'roadmark_1398.jpg']\n",
            "roadmark_1398.jpg\n",
            "[283.79519700000003 330.47711200000003 427.50228899999996\n",
            " 425.67163099999993 400.06897000000004 338.0 347.482758 403.517242 '35'\n",
            " 'roadmark_1399.jpg']\n",
            "roadmark_1399.jpg\n",
            "[35.740276 162.97138999999999 247.181915 148.32608000000002 379.379303\n",
            " 344.034485 351.793091 394.896545 '35' 'roadmark_1400.jpg']\n",
            "roadmark_1400.jpg\n",
            "[299.355835 383.566376 488.829529 411.94165 352.65518199999997 329.379303\n",
            " 333.689667 375.93102999999996 'ped' 'roadmark_1401.jpg']\n",
            "roadmark_1401.jpg\n",
            "[293.863831 362.513733 466.861542 458.62356600000004 363.0\n",
            " 325.93102999999996 330.241394 373.34481800000003 'xing'\n",
            " 'roadmark_1402.jpg']\n",
            "roadmark_1402.jpg\n",
            "[293.863831 330.47711200000003 403.70367400000003 397.29632599999997\n",
            " 356.103455 319.896545 323.34481800000003 365.586212 '25'\n",
            " 'roadmark_1403.jpg']\n",
            "roadmark_1403.jpg\n",
            "[252.67392 314.916473 387.227692 398.21167 383.689667 337.137939\n",
            " 334.551727 390.586212 '25' 'roadmark_1404.jpg']\n",
            "roadmark_1404.jpg\n",
            "[379.905029 393.63501 422.925629 440.316925 338.0 295.758606 297.482758\n",
            " 333.689667 'forward' 'roadmark_1405.jpg']\n",
            "roadmark_1405.jpg\n",
            "[232.536606 303.01715099999996 344.207092 298.440491 328.517242 301.793091\n",
            " 304.379303 334.551727 'leftturn' 'roadmark_1406.jpg']\n",
            "roadmark_1406.jpg\n",
            "[140.08810400000002 240.77459700000003 272.811218 173.955383\n",
            " 325.93102999999996 303.517242 305.241394 335.413788 'leftturn'\n",
            " 'roadmark_1407.jpg']\n",
            "roadmark_1407.jpg\n",
            "[388.143036 390.889008 435.740265 445.808929 375.93102999999996\n",
            " 307.82757599999997 311.275848 375.93102999999996 'forward'\n",
            " 'roadmark_1408.jpg']\n",
            "roadmark_1408.jpg\n",
            "[149.241425 270.98056 335.96911600000004 229.790619 350.93102999999996\n",
            " 310.413788 311.275848 369.896545 'leftturn' 'roadmark_1409.jpg']\n",
            "roadmark_1409.jpg\n",
            "[33.909611 199.584671 237.113266 72.353546 349.206909 310.413788 313.0\n",
            " 362.137939 'leftturn' 'roadmark_1410.jpg']\n",
            "roadmark_1410.jpg\n",
            "[263.657898 308.50915499999996 359.767731 337.799774 363.862061 330.241394\n",
            " 331.965515 366.448273 '25' 'roadmark_1411.jpg']\n",
            "roadmark_1411.jpg\n",
            "[319.493134 335.96911600000004 432.99429299999997 422.925629 337.137939\n",
            " 317.310333 315.586212 343.17242400000003 'yield' 'roadmark_1412.jpg']\n",
            "roadmark_1412.jpg\n",
            "[281.964539 319.493134 432.99429299999997 425.67163099999993 356.965515\n",
            " 325.06897000000004 326.793091 359.551727 'yield' 'roadmark_1413.jpg']\n",
            "roadmark_1413.jpg\n",
            "[245.35125699999998 285.625854 428.417633 430.248291 376.793091 338.0\n",
            " 336.275848 383.689667 'yield' 'roadmark_1414.jpg']\n",
            "roadmark_1414.jpg\n",
            "[353.360413 367.090393 420.179626 430.248291 350.06897000000004 315.586212\n",
            " 315.586212 352.65518199999997 '25' 'roadmark_1415.jpg']\n",
            "roadmark_1415.jpg\n",
            "[335.05377200000004 349.699097 427.50228899999996 424.756287 319.896545\n",
            " 305.241394 305.241394 325.06897000000004 'yield' 'roadmark_1416.jpg']\n",
            "roadmark_1416.jpg\n",
            "[332.30777 350.61441 443.06292699999995 438.486267 333.689667 313.862061\n",
            " 315.586212 338.0 'yield' 'roadmark_1417.jpg']\n",
            "roadmark_1417.jpg\n",
            "[315.831818 349.699097 463.200226 463.200226 361.275848 327.65518199999997\n",
            " 327.65518199999997 363.0 'yield' 'roadmark_1418.jpg']\n",
            "roadmark_1418.jpg\n",
            "[303.01715099999996 349.699097 477.845551 501.64416500000004 385.413788\n",
            " 340.586212 339.724152 388.862061 'yield' 'roadmark_1419.jpg']\n",
            "roadmark_1419.jpg\n",
            "[342.37643399999996 365.25973500000003 400.957672 401.87298599999997\n",
            " 332.82757599999997 312.137939 311.275848 334.551727 '25'\n",
            " 'roadmark_1420.jpg']\n",
            "roadmark_1420.jpg\n",
            "[314.916473 347.868408 401.87298599999997 397.29632599999997 358.689667\n",
            " 327.65518199999997 325.06897000000004 361.275848 '25' 'roadmark_1421.jpg']\n",
            "roadmark_1421.jpg\n",
            "[283.79519700000003 330.47711200000003 395.465668 383.566376 391.448273\n",
            " 344.034485 342.310333 389.724152 '25' 'roadmark_1422.jpg']\n",
            "roadmark_1422.jpg\n",
            "[364.34439100000003 389.05835 476.014862 483.33752400000003 354.379303\n",
            " 322.482758 325.93102999999996 355.241394 'rightturn' 'roadmark_1423.jpg']\n",
            "roadmark_1423.jpg\n",
            "[199.584671 281.964539 371.66705299999995 301.18649300000004 344.896545\n",
            " 318.17242400000003 313.862061 352.65518199999997 'forward&left'\n",
            " 'roadmark_1424.jpg']\n",
            "roadmark_1424.jpg\n",
            "[176.70137 280.13388100000003 360.683075 281.049194 348.34481800000003\n",
            " 320.758606 319.896545 367.310333 'forward&left' 'roadmark_1425.jpg']\n",
            "roadmark_1425.jpg\n",
            "[352.445068 382.651031 473.26889000000006 486.998871 370.758606 334.551727\n",
            " 332.82757599999997 367.310333 'rightturn' 'roadmark_1426.jpg']\n",
            "roadmark_1426.jpg\n",
            "[354.275757 382.651031 448.554932 474.184204 335.413788 305.241394\n",
            " 306.965515 338.0 'rail' 'roadmark_1427.jpg']\n",
            "roadmark_1427.jpg\n",
            "[227.959961 309.4245 368.921051 332.30777 331.965515 305.241394 306.965515\n",
            " 334.551727 'rail' 'roadmark_1428.jpg']\n",
            "roadmark_1428.jpg\n",
            "[330.47711200000003 373.497711 446.72424299999994 490.660187 353.517242\n",
            " 310.413788 308.689667 359.551727 'rail' 'roadmark_1429.jpg']\n",
            "roadmark_1429.jpg\n",
            "[169.378723 281.049194 355.191071 289.28717 347.482758 312.137939 313.0\n",
            " 357.82757599999997 'rail' 'roadmark_1430.jpg']\n",
            "roadmark_1430.jpg\n",
            "[292.033173 363.429077 458.62356600000004 519.035461 388.862061 319.896545\n",
            " 320.758606 391.448273 'rail' 'roadmark_1431.jpg']\n",
            "roadmark_1431.jpg\n",
            "[82.422195 257.25057999999996 343.291748 236.19793700000002 376.793091\n",
            " 319.034485 321.620697 390.586212 'rail' 'roadmark_1432.jpg']\n",
            "roadmark_1432.jpg\n",
            "[130.019455 181.27803 210.56864900000002 162.056061 326.793091 315.586212\n",
            " 319.034485 336.275848 'leftturn' 'roadmark_1433.jpg']\n",
            "roadmark_1433.jpg\n",
            "[88.829521 132.76544199999998 172.12471000000002 134.596115 331.965515\n",
            " 323.34481800000003 329.379303 344.034485 'leftturn' 'roadmark_1434.jpg']\n",
            "roadmark_1434.jpg\n",
            "[73.268883 130.019455 162.97138999999999 112.628143 334.551727 319.896545\n",
            " 330.241394 344.034485 'leftturn' 'roadmark_1435.jpg']\n",
            "roadmark_1435.jpg\n",
            "[349.699097 374.413055 422.925629 438.486267 340.586212 307.82757599999997\n",
            " 310.413788 338.862061 '40' 'roadmark_1436.jpg']\n",
            "roadmark_1436.jpg\n",
            "[242.60527000000002 280.13388100000003 327.73111 305.763153 321.620697\n",
            " 306.965515 311.275848 333.689667 'leftturn' 'roadmark_1437.jpg']\n",
            "roadmark_1437.jpg\n",
            "[177.616699 215.145309 299.355835 253.58924900000002 343.17242400000003\n",
            " 325.06897000000004 326.793091 355.241394 'leftturn' 'roadmark_1438.jpg']\n",
            "roadmark_1438.jpg\n",
            "[239.85926800000001 269.149872 321.32379199999997 296.609833 316.448273\n",
            " 306.103455 306.103455 325.93102999999996 'leftturn' 'roadmark_1439.jpg']\n",
            "roadmark_1439.jpg\n",
            "[151.07208300000002 216.975967 269.149872 227.044617 346.620697\n",
            " 323.34481800000003 329.379303 360.413788 'leftturn' 'roadmark_1440.jpg']\n",
            "roadmark_1440.jpg\n",
            "[98.89817 164.80206299999998 199.584671 147.410751 336.275848 320.758606\n",
            " 325.93102999999996 345.758606 'leftturn' 'roadmark_1441.jpg']\n",
            "roadmark_1441.jpg\n",
            "[148.32608000000002 207.822647 243.52059900000003 197.753998\n",
            " 327.65518199999997 313.0 317.310333 334.551727 'leftturn'\n",
            " 'roadmark_1442.jpg']\n",
            "roadmark_1442.jpg\n",
            "[24.756292000000002 118.12013999999999 171.209381 92.490845 356.965515\n",
            " 336.275848 344.034485 371.620697 'leftturn' 'roadmark_1443.jpg']\n",
            "roadmark_1443.jpg\n",
            "[321.96423300000004 456.40682999999996 433.77786299999997\n",
            " 335.27536000000003 344.327148 344.327148 317.166656 317.166656 'stop'\n",
            " 'roadmark_0001.jpg']\n",
            "roadmark_0001.jpg\n",
            "[313.97753900000004 453.74459800000005 433.77786299999997 329.950928 350.5\n",
            " 349.265442 317.166656 317.166656 'stop' 'roadmark_0002.jpg']\n",
            "roadmark_0002.jpg\n",
            "[307.32196 449.75125099999997 429.78451500000006 325.957581 352.969147\n",
            " 351.734558 317.166656 320.870361 'stop' 'roadmark_0003.jpg']\n",
            "roadmark_0003.jpg\n",
            "[299.335266 452.413483 431.11563099999995 323.29534900000004 359.141968\n",
            " 359.141968 320.870361 322.10495 'stop' 'roadmark_0004.jpg']\n",
            "roadmark_0004.jpg\n",
            "[295.341919 461.731293 431.11563099999995 316.639771 362.845673 361.611115\n",
            " 322.10495 325.808655 'stop' 'roadmark_0005.jpg']\n",
            "roadmark_0005.jpg\n",
            "[287.355255 455.07571399999995 428.4534 311.315308 367.783966 366.549377\n",
            " 324.574066 330.746918 'stop' 'roadmark_0006.jpg']\n",
            "roadmark_0006.jpg\n",
            "[284.69302400000004 455.07571399999995 429.78451500000006 309.984192\n",
            " 373.956787 370.253082 327.043213 329.51236 'stop' 'roadmark_0007.jpg']\n",
            "roadmark_0007.jpg\n",
            "[267.388519 460.4001769999999 425.79116799999997 304.659729 378.89505\n",
            " 378.89505 330.746918 331.981476 'stop' 'roadmark_0008.jpg']\n",
            "roadmark_0008.jpg\n",
            "[262.064056 455.07571399999995 428.4534 295.341919 383.833344 382.598755\n",
            " 334.450623 335.685181 'stop' 'roadmark_0009.jpg']\n",
            "roadmark_0009.jpg\n",
            "[252.746262 456.40682999999996 432.44674699999996 294.01080299999995\n",
            " 390.006165 390.006165 338.154327 338.154327 'stop' 'roadmark_0010.jpg']\n",
            "roadmark_0010.jpg\n",
            "[224.79284700000002 305.99084500000004 319.302002 274.044098 325.808655\n",
            " 330.746918 314.69754 310.993835 'leftturn' 'roadmark_0011.jpg']\n",
            "roadmark_0011.jpg\n",
            "[215.47503700000001 298.00415 316.639771 258.07070899999997 330.746918\n",
            " 335.685181 318.401245 314.69754 'leftturn' 'roadmark_0012.jpg']\n",
            "roadmark_0012.jpg\n",
            "[202.163895 282.030792 308.653076 248.752914 334.450623 344.327148\n",
            " 323.339508 318.401245 'leftturn' 'roadmark_0013.jpg']\n",
            "roadmark_0013.jpg\n",
            "[186.190521 270.050751 304.659729 232.77954100000002 341.858032 350.5\n",
            " 328.277771 323.339508 'leftturn' 'roadmark_0014.jpg']\n",
            "roadmark_0014.jpg\n",
            "[155.574875 252.746262 294.01080299999995 222.13061499999998 348.030853\n",
            " 360.376556 333.216034 327.043213 'leftturn' 'roadmark_0015.jpg']\n",
            "roadmark_0015.jpg\n",
            "[351.24874900000003 441.764557 427.122284 368.553253 331.981476 330.746918\n",
            " 313.46295200000003 309.759247 'leftturn' 'roadmark_0016.jpg']\n",
            "roadmark_0016.jpg\n",
            "[227.455078 284.69302400000004 315.308655 267.388519 322.10495 333.216034\n",
            " 317.166656 309.759247 'leftturn' 'roadmark_0017.jpg']\n",
            "roadmark_0017.jpg\n",
            "[491.015808 568.220459 529.618164 477.70465099999996 334.450623 327.043213\n",
            " 308.524689 314.69754 'rightturn' 'roadmark_0018.jpg']\n",
            "roadmark_0018.jpg\n",
            "[349.917633 443.09567300000003 427.122284 360.566559 335.685181 336.919739\n",
            " 313.46295200000003 314.69754 'leftturn' 'roadmark_0019.jpg']\n",
            "roadmark_0019.jpg\n",
            "[208.819473 275.375214 304.659729 259.401825 327.043213 339.388885\n",
            " 322.10495 313.46295200000003 'leftturn' 'roadmark_0020.jpg']\n",
            "roadmark_0020.jpg\n",
            "[495.00915499999996 582.862732 534.942566 483.029114 338.154327 331.981476\n",
            " 312.228394 317.166656 'rightturn' 'roadmark_0021.jpg']\n",
            "roadmark_0021.jpg\n",
            "[497.67138700000004 592.180542 554.9093019999999 492.346924 344.327148\n",
            " 343.09259 318.401245 320.870361 'rightturn' 'roadmark_0022.jpg']\n",
            "roadmark_0022.jpg\n",
            "[341.930939 445.757904 425.79116799999997 355.242096 344.327148\n",
            " 346.79629500000004 319.63580299999995 318.401245 'leftturn'\n",
            " 'roadmark_0023.jpg']\n",
            "roadmark_0023.jpg\n",
            "[194.1772 262.064056 300.666382 240.76622000000003 333.216034\n",
            " 346.79629500000004 325.808655 317.166656 'leftturn' 'roadmark_0024.jpg']\n",
            "roadmark_0024.jpg\n",
            "[506.989197 601.498352 550.9159549999999 497.67138700000004 355.438263\n",
            " 340.623444 319.63580299999995 330.746918 'rightturn' 'roadmark_0025.jpg']\n",
            "roadmark_0025.jpg\n",
            "[335.27536000000003 447.08902 424.46005199999996 349.917633 349.265442\n",
            " 352.969147 325.808655 323.339508 'leftturn' 'roadmark_0026.jpg']\n",
            "roadmark_0026.jpg\n",
            "[174.21048000000002 252.746262 294.01080299999995 223.46173100000001\n",
            " 340.623444 351.734558 330.746918 323.339508 'leftturn'\n",
            " 'roadmark_0027.jpg']\n",
            "roadmark_0027.jpg\n",
            "[344.59317000000004 428.4534 443.09567300000003 325.957581 327.043213\n",
            " 327.043213 361.611115 361.611115 'leftturn' 'roadmark_0028.jpg']\n",
            "roadmark_0028.jpg\n",
            "[513.644775 616.140625 573.5449219999999 512.3136599999999 364.080261\n",
            " 352.969147 328.277771 330.746918 'rightturn' 'roadmark_0029.jpg']\n",
            "roadmark_0029.jpg\n",
            "[150.250412 234.11064100000002 275.375214 206.157242 351.734558 364.080261\n",
            " 336.919739 328.277771 'leftturn' 'roadmark_0030.jpg']\n",
            "roadmark_0030.jpg\n",
            "[308.653076 452.413483 424.46005199999996 337.937592 376.425934 376.425934\n",
            " 335.685181 335.685181 'leftturn' 'roadmark_0031.jpg']\n",
            "roadmark_0031.jpg\n",
            "[530.9492799999999 648.087341 594.8427730000001 513.644775 373.956787\n",
            " 366.549377 334.450623 336.919739 'rightturn' 'roadmark_0032.jpg']\n",
            "roadmark_0032.jpg\n",
            "[110.316971 218.137268 264.726288 183.52829 361.611115 373.956787\n",
            " 338.154327 334.450623 'leftturn' 'roadmark_0033.jpg']\n",
            "roadmark_0033.jpg\n",
            "[299.335266 460.4001769999999 424.46005199999996 324.626465\n",
            " 393.70986899999997 392.475311 339.388885 341.858032 'leftturn'\n",
            " 'roadmark_0034.jpg']\n",
            "roadmark_0034.jpg\n",
            "[537.604797 689.351929 588.187195 530.9492799999999 387.53704799999997\n",
            " 375.191345 335.685181 345.561737 'rightturn' 'roadmark_0035.jpg']\n",
            "roadmark_0035.jpg\n",
            "[94.343597 184.859406 250.08402999999998 151.581528 373.956787 388.771606\n",
            " 344.327148 343.09259 'leftturn' 'roadmark_0036.jpg']\n",
            "roadmark_0036.jpg\n",
            "[340.599823 443.09567300000003 425.79116799999997 363.22879 334.450623\n",
            " 335.685181 309.759247 309.759247 'leftturn' 'roadmark_0037.jpg']\n",
            "roadmark_0037.jpg\n",
            "[488.353577 576.2071530000001 546.9226070000001 481.69799800000004\n",
            " 334.450623 330.746918 309.759247 312.228394 'rightturn'\n",
            " 'roadmark_0038.jpg']\n",
            "roadmark_0038.jpg\n",
            "[211.48168900000002 280.699677 305.99084500000004 254.077377 325.808655\n",
            " 336.919739 317.166656 313.46295200000003 'leftturn' 'roadmark_0039.jpg']\n",
            "roadmark_0039.jpg\n",
            "[328.619812 445.757904 423.128937 357.904327 339.388885 339.388885\n",
            " 315.932098 314.69754 'leftturn' 'roadmark_0040.jpg']\n",
            "roadmark_0040.jpg\n",
            "[497.67138700000004 584.193848 553.5781860000001 485.691345 343.09259\n",
            " 335.685181 310.993835 318.401245 'rightturn' 'roadmark_0041.jpg']\n",
            "roadmark_0041.jpg\n",
            "[279.368561 307.32196 239.435104 195.50831599999998 340.623444\n",
            " 319.63580299999995 318.401245 330.746918 'leftturn' 'roadmark_0042.jpg']\n",
            "roadmark_0042.jpg\n",
            "[328.619812 447.08902 428.4534 347.255402 348.030853 348.030853\n",
            " 319.63580299999995 319.63580299999995 'leftturn' 'roadmark_0043.jpg']\n",
            "roadmark_0043.jpg\n",
            "[499.00250199999994 602.829468 562.895996 481.69799800000004\n",
            " 346.79629500000004 338.154327 318.401245 320.870361 'rightturn'\n",
            " 'roadmark_0044.jpg']\n",
            "roadmark_0044.jpg\n",
            "[178.203827 259.401825 294.01080299999995 227.455078 335.685181 348.030853\n",
            " 323.339508 320.870361 'leftturn' 'roadmark_0045.jpg']\n",
            "roadmark_0045.jpg\n",
            "[319.302002 451.082367 431.11563099999995 344.59317000000004\n",
            " 354.20370499999996 354.20370499999996 325.808655 325.808655 'leftturn'\n",
            " 'roadmark_0046.jpg']\n",
            "roadmark_0046.jpg\n",
            "[501.664734 609.485046 574.876038 497.67138700000004 355.438263 349.265442\n",
            " 319.63580299999995 324.574066 'rightturn' 'roadmark_0047.jpg']\n",
            "roadmark_0047.jpg\n",
            "[155.574875 254.077377 298.00415 208.819473 344.327148 355.438263\n",
            " 328.277771 327.043213 'leftturn' 'roadmark_0048.jpg']\n",
            "roadmark_0048.jpg\n",
            "[316.639771 449.75125099999997 432.44674699999996 341.930939 365.314819\n",
            " 366.549377 328.277771 327.043213 'leftturn' 'roadmark_0049.jpg']\n",
            "roadmark_0049.jpg\n",
            "[518.969238 626.78949 586.856079 499.00250199999994 366.549377 352.969147\n",
            " 323.339508 328.277771 'rightturn' 'roadmark_0050.jpg']\n",
            "roadmark_0050.jpg\n",
            "[132.945923 231.448425 276.706329 200.83277900000002 351.734558 362.845673\n",
            " 333.216034 328.277771 'leftturn' 'roadmark_0051.jpg']\n",
            "roadmark_0051.jpg\n",
            "[300.666382 448.42013499999996 432.44674699999996 327.288696 371.48764\n",
            " 372.722229 338.154327 334.450623 'leftturn' 'roadmark_0052.jpg']\n",
            "roadmark_0052.jpg\n",
            "[522.962585 650.749573 602.829468 528.287048 369.018524 366.549377\n",
            " 330.746918 333.216034 'rightturn' 'roadmark_0053.jpg']\n",
            "roadmark_0053.jpg\n",
            "[112.979202 210.15058900000002 250.08402999999998 179.534943 360.376556\n",
            " 372.722229 338.154327 334.450623 'leftturn' 'roadmark_0054.jpg']\n",
            "roadmark_0054.jpg\n",
            "[290.017456 459.06906100000003 425.79116799999997 324.626465 380.129639\n",
            " 387.53704799999997 341.858032 343.09259 'leftturn' 'roadmark_0055.jpg']\n",
            "roadmark_0055.jpg\n",
            "[536.273682 668.054077 612.147278 526.955933 388.771606 365.314819\n",
            " 329.51236 341.858032 'rightturn' 'roadmark_0056.jpg']\n",
            "roadmark_0056.jpg\n",
            "[73.045753 202.163895 238.103989 152.912643 370.253082 383.833344\n",
            " 346.79629500000004 343.09259 'leftturn' 'roadmark_0057.jpg']\n",
            "roadmark_0057.jpg\n",
            "[290.017456 464.393524 432.44674699999996 308.653076 398.648163\n",
            " 403.58642599999996 352.969147 354.20370499999996 'leftturn'\n",
            " 'roadmark_0058.jpg']\n",
            "roadmark_0058.jpg\n",
            "[560.2337650000001 696.007507 625.458374 538.935913 401.117279 377.660492\n",
            " 336.919739 356.672852 'rightturn' 'roadmark_0059.jpg']\n",
            "roadmark_0059.jpg\n",
            "[55.741264 163.561569 220.7995 131.614807 386.30246 398.648163\n",
            " 354.20370499999996 349.265442 'leftturn' 'roadmark_0060.jpg']\n",
            "roadmark_0060.jpg\n",
            "[311.315308 479.03576699999996 444.426788 368.553253 352.969147 352.969147\n",
            " 308.524689 307.29013100000003 'rail' 'roadmark_0061.jpg']\n",
            "roadmark_0061.jpg\n",
            "[321.96423300000004 475.04241900000005 447.08902 372.5466 345.561737\n",
            " 345.561737 306.055542 306.055542 'rail' 'roadmark_0062.jpg']\n",
            "roadmark_0062.jpg\n",
            "[292.679688 481.69799800000004 448.42013499999996 363.22879 361.611115\n",
            " 362.845673 310.993835 312.228394 'rail' 'roadmark_0063.jpg']\n",
            "roadmark_0063.jpg\n",
            "[276.706329 500.33361799999994 448.42013499999996 360.566559 375.191345\n",
            " 375.191345 313.46295200000003 313.46295200000003 'rail'\n",
            " 'roadmark_0064.jpg']\n",
            "roadmark_0064.jpg\n",
            "[255.40849300000002 513.644775 452.413483 360.566559 394.944458 394.944458\n",
            " 315.932098 315.932098 'rail' 'roadmark_0065.jpg']\n",
            "roadmark_0065.jpg\n",
            "[332.613159 467.055725 443.09567300000003 375.208832 335.685181 335.685181\n",
            " 303.58642599999996 303.58642599999996 'rail' 'roadmark_0066.jpg']\n",
            "roadmark_0066.jpg\n",
            "[351.24874900000003 459.06906100000003 441.764557 383.195496 323.339508\n",
            " 323.339508 299.882721 299.882721 'rail' 'roadmark_0067.jpg']\n",
            "roadmark_0067.jpg\n",
            "[345.924286 459.06906100000003 444.426788 379.202148 328.277771 328.277771\n",
            " 301.117279 301.117279 'rail' 'roadmark_0068.jpg']\n",
            "roadmark_0068.jpg\n",
            "[238.103989 328.619812 365.891022 308.653076 319.63580299999995 322.10495\n",
            " 301.117279 299.882721 'rail' 'roadmark_0069.jpg']\n",
            "roadmark_0069.jpg\n",
            "[223.46173100000001 319.302002 360.566559 303.32861299999996 325.808655\n",
            " 327.043213 301.117279 301.117279 'rail' 'roadmark_0070.jpg']\n",
            "roadmark_0070.jpg\n",
            "[192.84608500000002 313.97753900000004 355.242096 296.673035 331.981476\n",
            " 331.981476 302.351837 302.351837 'rail' 'roadmark_0071.jpg']\n",
            "roadmark_0071.jpg\n",
            "[335.27536000000003 464.393524 445.757904 376.539948 333.216034 333.216034\n",
            " 302.351837 302.351837 'rail' 'roadmark_0072.jpg']\n",
            "roadmark_0072.jpg\n",
            "[183.52829 301.997498 353.91098 286.024139 335.685181 335.685181\n",
            " 306.055542 304.820984 'rail' 'roadmark_0073.jpg']\n",
            "roadmark_0073.jpg\n",
            "[159.568222 300.666382 345.924286 279.368561 341.858032 341.858032\n",
            " 308.524689 306.055542 'rail' 'roadmark_0074.jpg']\n",
            "roadmark_0074.jpg\n",
            "[144.925964 282.030792 345.924286 270.050751 346.79629500000004 350.5\n",
            " 310.993835 309.759247 'rail' 'roadmark_0075.jpg']\n",
            "roadmark_0075.jpg\n",
            "[108.985855 264.726288 343.262054 256.739594 357.90741 359.141968\n",
            " 310.993835 313.46295200000003 'rail' 'roadmark_0076.jpg']\n",
            "roadmark_0076.jpg\n",
            "[82.363564 232.77954100000002 343.262054 246.090683 366.549377 376.425934\n",
            " 313.46295200000003 315.932098 'rail' 'roadmark_0077.jpg']\n",
            "roadmark_0077.jpg\n",
            "[35.774544 216.806152 331.28204300000004 231.448425 380.129639 390.006165\n",
            " 318.401245 319.63580299999995 'rail' 'roadmark_0078.jpg']\n",
            "roadmark_0078.jpg\n",
            "[365.891022 444.426788 432.44674699999996 379.202148 334.450623 334.450623\n",
            " 310.993835 310.993835 '35' 'roadmark_0079.jpg']\n",
            "roadmark_0079.jpg\n",
            "[222.13061499999998 292.679688 327.288696 264.726288 331.981476 333.216034\n",
            " 314.69754 313.46295200000003 '35' 'roadmark_0080.jpg']\n",
            "roadmark_0080.jpg\n",
            "[357.904327 445.757904 433.77786299999997 376.539948 343.09259 341.858032\n",
            " 315.932098 315.932098 '35' 'roadmark_0081.jpg']\n",
            "roadmark_0081.jpg\n",
            "[372.5466 440.433441 432.44674699999996 381.86438 328.277771 328.277771\n",
            " 309.759247 309.759247 '35' 'roadmark_0082.jpg']\n",
            "roadmark_0082.jpg\n",
            "[232.77954100000002 305.99084500000004 332.613159 275.375214 327.043213\n",
            " 328.277771 310.993835 309.759247 '35' 'roadmark_0083.jpg']\n",
            "roadmark_0083.jpg\n",
            "[200.83277900000002 278.037445 320.633118 247.42179900000002 338.154327\n",
            " 340.623444 319.63580299999995 319.63580299999995 '35' 'roadmark_0084.jpg']\n",
            "roadmark_0084.jpg\n",
            "[352.579865 447.08902 433.77786299999997 375.208832 350.5 350.5\n",
            " 319.63580299999995 319.63580299999995 '35' 'roadmark_0085.jpg']\n",
            "roadmark_0085.jpg\n",
            "[167.554901 260.73294100000004 320.633118 243.428452 348.030853 349.265442\n",
            " 323.339508 322.10495 '35' 'roadmark_0086.jpg']\n",
            "roadmark_0086.jpg\n",
            "[345.924286 449.75125099999997 432.44674699999996 367.22213700000003\n",
            " 362.845673 362.845673 325.808655 325.808655 '35' 'roadmark_0087.jpg']\n",
            "roadmark_0087.jpg\n",
            "[139.601501 244.759567 296.673035 223.46173100000001 356.672852 359.141968\n",
            " 329.51236 327.043213 '35' 'roadmark_0088.jpg']\n",
            "roadmark_0088.jpg\n",
            "[331.28204300000004 460.4001769999999 435.10897800000004 360.566559\n",
            " 375.191345 375.191345 331.981476 331.981476 '35' 'roadmark_0089.jpg']\n",
            "roadmark_0089.jpg\n",
            "[116.972549 223.46173100000001 288.686371 210.15058900000002 364.080261\n",
            " 373.956787 333.216034 331.981476 '35' 'roadmark_0090.jpg']\n",
            "roadmark_0090.jpg\n",
            "[321.96423300000004 463.062408 440.433441 353.91098 393.70986899999997\n",
            " 392.475311 340.623444 340.623444 '35' 'roadmark_0091.jpg']\n",
            "roadmark_0091.jpg\n",
            "[71.71464499999999 188.85273700000002 276.706329 178.203827 383.833344\n",
            " 393.70986899999997 343.09259 339.388885 '35' 'roadmark_0092.jpg']\n",
            "roadmark_0092.jpg\n",
            "[345.924286 435.10897800000004 425.79116799999997 389.85107400000004\n",
            " 383.833344 382.598755 308.524689 309.759247 'forward' 'roadmark_0093.jpg']\n",
            "roadmark_0093.jpg\n",
            "[347.255402 443.09567300000003 425.79116799999997 380.53326400000003\n",
            " 392.475311 392.475311 313.46295200000003 310.993835 'forward'\n",
            " 'roadmark_0094.jpg']\n",
            "roadmark_0094.jpg\n",
            "[339.268707 424.46005199999996 433.77786299999997 385.857727 401.117279\n",
            " 401.117279 310.993835 310.993835 'forward' 'roadmark_0095.jpg']\n",
            "roadmark_0095.jpg\n",
            "[359.23544300000003 435.10897800000004 424.46005199999996 383.195496\n",
            " 371.48764 371.48764 312.228394 310.993835 'forward' 'roadmark_0096.jpg']\n",
            "roadmark_0096.jpg\n",
            "[361.897675 439.102325 427.122284 389.85107400000004 362.845673 365.314819\n",
            " 309.759247 309.759247 'forward' 'roadmark_0097.jpg']\n",
            "roadmark_0097.jpg\n",
            "[355.242096 439.102325 429.78451500000006 388.51995800000003 359.141968\n",
            " 359.141968 308.524689 308.524689 'forward' 'roadmark_0098.jpg']\n",
            "roadmark_0098.jpg\n",
            "[369.884369 432.44674699999996 425.79116799999997 388.51995800000003\n",
            " 352.969147 354.20370499999996 304.820984 306.055542 'forward'\n",
            " 'roadmark_0099.jpg']\n",
            "roadmark_0099.jpg\n",
            "[379.202148 433.77786299999997 428.4534 396.506653 339.388885 338.154327\n",
            " 302.351837 301.117279 'forward' 'roadmark_0100.jpg']\n",
            "roadmark_0100.jpg\n",
            "[373.877716 440.433441 429.78451500000006 389.85107400000004 345.561737\n",
            " 345.561737 303.58642599999996 302.351837 'forward' 'roadmark_0101.jpg']\n",
            "roadmark_0101.jpg\n",
            "[364.559906 437.77120999999994 429.78451500000006 392.513306 349.265442\n",
            " 349.265442 302.351837 302.351837 'forward' 'roadmark_0102.jpg']\n",
            "roadmark_0102.jpg\n",
            "[379.202148 469.717957 439.102325 387.188843 328.277771 328.277771\n",
            " 296.179016 296.179016 'leftturn' 'roadmark_0103.jpg']\n",
            "roadmark_0103.jpg\n",
            "[254.077377 327.288696 360.566559 312.64642299999997 319.63580299999995\n",
            " 329.51236 297.41357400000004 294.944458 'leftturn' 'roadmark_0104.jpg']\n",
            "roadmark_0104.jpg\n",
            "[385.857727 447.08902 468.386841 385.857727 385.857727 298.648163\n",
            " 298.648163 330.746918 'leftturn' 'roadmark_0105.jpg']\n",
            "roadmark_0105.jpg\n",
            "[305.99084500000004 363.22879 320.633118 254.077377 298.648163 298.648163\n",
            " 333.216034 322.10495 'leftturn' 'roadmark_0106.jpg']\n",
            "roadmark_0106.jpg\n",
            "[387.188843 439.102325 480.36688200000003 387.188843 298.648163 298.648163\n",
            " 338.154327 338.154327 'leftturn' 'roadmark_0107.jpg']\n",
            "roadmark_0107.jpg\n",
            "[303.32861299999996 357.904327 313.97753900000004 243.428452\n",
            " 297.41357400000004 299.882721 339.388885 335.685181 'leftturn'\n",
            " 'roadmark_0108.jpg']\n",
            "roadmark_0108.jpg\n",
            "[383.195496 444.426788 480.36688200000003 377.871063 303.58642599999996\n",
            " 302.351837 344.327148 344.327148 'leftturn' 'roadmark_0109.jpg']\n",
            "roadmark_0109.jpg\n",
            "[295.341919 361.897675 298.00415 246.090683 303.58642599999996\n",
            " 303.58642599999996 348.030853 327.043213 'leftturn' 'roadmark_0110.jpg']\n",
            "roadmark_0110.jpg\n",
            "[387.188843 444.426788 485.691345 365.891022 302.351837 302.351837\n",
            " 351.734558 349.265442 'leftturn' 'roadmark_0111.jpg']\n",
            "roadmark_0111.jpg\n",
            "[299.335266 355.242096 299.335266 191.514969 301.117279 301.117279 350.5\n",
            " 346.79629500000004 'leftturn' 'roadmark_0112.jpg']\n",
            "roadmark_0112.jpg\n",
            "[384.526611 447.08902 491.015808 368.553253 303.58642599999996 302.351837\n",
            " 359.141968 360.376556 'leftturn' 'roadmark_0113.jpg']\n",
            "roadmark_0113.jpg\n",
            "[291.34857200000005 351.24874900000003 287.355255 184.859406 304.820984\n",
            " 307.29013100000003 359.141968 341.858032 'leftturn' 'roadmark_0114.jpg']\n",
            "roadmark_0114.jpg\n",
            "[381.86438 449.75125099999997 499.00250199999994 360.566559 306.055542\n",
            " 306.055542 365.314819 365.314819 'leftturn' 'roadmark_0115.jpg']\n",
            "roadmark_0115.jpg\n",
            "[288.686371 351.24874900000003 280.699677 168.88601699999998 306.055542\n",
            " 306.055542 367.783966 351.734558 'leftturn' 'roadmark_0116.jpg']\n",
            "roadmark_0116.jpg\n",
            "[381.86438 452.413483 508.320312 365.891022 309.759247 308.524689\n",
            " 378.89505 380.129639 'leftturn' 'roadmark_0117.jpg']\n",
            "roadmark_0117.jpg\n",
            "[275.375214 340.599823 264.726288 138.270386 309.759247 309.759247\n",
            " 373.956787 359.141968 'leftturn' 'roadmark_0118.jpg']\n",
            "roadmark_0118.jpg\n",
            "[375.208832 452.413483 517.6381230000001 363.22879 310.993835 309.759247\n",
            " 390.006165 387.53704799999997 'leftturn' 'roadmark_0119.jpg']\n",
            "roadmark_0119.jpg\n",
            "[278.037445 131.614807 234.11064100000002 340.599823 309.759247 360.376556\n",
            " 387.53704799999997 314.69754 'leftturn' 'roadmark_0120.jpg']\n",
            "roadmark_0120.jpg\n",
            "[373.877716 460.4001769999999 528.287048 347.255402 312.228394 312.228394\n",
            " 406.055542 396.179016 'leftturn' 'roadmark_0121.jpg']\n",
            "roadmark_0121.jpg\n",
            "[262.064056 341.930939 219.468384 79.701332 313.46295200000003\n",
            " 313.46295200000003 402.351837 381.36419700000005 'leftturn'\n",
            " 'roadmark_0122.jpg']\n",
            "roadmark_0122.jpg\n",
            "[376.539948 449.75125099999997 500.33361799999994 340.599823 306.055542\n",
            " 304.820984 377.660492 377.660492 'leftturn' 'roadmark_0123.jpg']\n",
            "roadmark_0123.jpg\n",
            "[272.712982 337.937592 236.772873 107.65473899999999 307.29013100000003\n",
            " 307.29013100000003 381.36419700000005 362.845673 'leftturn'\n",
            " 'roadmark_0124.jpg']\n",
            "roadmark_0124.jpg\n",
            "[368.553253 449.75125099999997 510.982544 352.579865 310.993835 308.524689\n",
            " 391.240753 391.240753 'leftturn' 'roadmark_0125.jpg']\n",
            "roadmark_0125.jpg\n",
            "[262.064056 324.626465 220.7995 102.33028399999999 308.524689 309.759247\n",
            " 392.475311 373.956787 'leftturn' 'roadmark_0126.jpg']\n",
            "roadmark_0126.jpg\n",
            "[368.553253 448.42013499999996 524.2937009999999 367.22213700000003\n",
            " 315.932098 309.759247 407.29013100000003 401.117279 'leftturn'\n",
            " 'roadmark_0127.jpg']\n",
            "roadmark_0127.jpg\n",
            "[244.759567 324.626465 188.85273700000002 55.741264 314.69754 314.69754\n",
            " 404.820984 394.944458 'leftturn' 'roadmark_0128.jpg']\n",
            "roadmark_0128.jpg\n",
            "[348.586517 395.175537 389.85107400000004 360.566559 320.870361 320.870361\n",
            " 298.648163 297.41357400000004 'forward' 'roadmark_0129.jpg']\n",
            "roadmark_0129.jpg\n",
            "[363.22879 392.513306 397.837769 347.255402 298.648163 299.882721\n",
            " 324.574066 323.339508 'forward' 'roadmark_0130.jpg']\n",
            "roadmark_0130.jpg\n",
            "[352.579865 399.168884 393.844421 363.22879 328.277771 328.277771\n",
            " 298.648163 298.648163 'forward' 'roadmark_0131.jpg']\n",
            "roadmark_0131.jpg\n",
            "[341.930939 408.486694 401.831116 361.897675 331.981476 331.981476\n",
            " 298.648163 299.882721 'forward' 'roadmark_0132.jpg']\n",
            "roadmark_0132.jpg\n",
            "[340.599823 401.831116 395.175537 364.559906 330.746918 331.981476\n",
            " 298.648163 298.648163 'forward' 'roadmark_0133.jpg']\n",
            "roadmark_0133.jpg\n",
            "[341.930939 404.493347 397.837769 363.22879 334.450623 334.450623\n",
            " 302.351837 301.117279 'forward' 'roadmark_0134.jpg']\n",
            "roadmark_0134.jpg\n",
            "[363.22879 401.831116 404.493347 335.27536000000003 303.58642599999996\n",
            " 303.58642599999996 339.388885 339.388885 'forward' 'roadmark_0135.jpg']\n",
            "roadmark_0135.jpg\n",
            "[335.27536000000003 400.5 409.81781 359.23544300000003 348.030853\n",
            " 348.030853 306.055542 306.055542 'forward' 'roadmark_0136.jpg']\n",
            "roadmark_0136.jpg\n",
            "[333.944275 404.493347 397.837769 359.23544300000003 355.438263 352.969147\n",
            " 309.759247 308.524689 'forward' 'roadmark_0137.jpg']\n",
            "roadmark_0137.jpg\n",
            "[163.561569 219.468384 305.99084500000004 266.057404 341.858032 352.969147\n",
            " 312.228394 308.524689 'forward' 'roadmark_0138.jpg']\n",
            "roadmark_0138.jpg\n",
            "[321.96423300000004 411.14892599999996 397.837769 360.566559 362.845673\n",
            " 361.611115 308.524689 308.524689 'forward' 'roadmark_0139.jpg']\n",
            "roadmark_0139.jpg\n",
            "[140.932617 212.81280499999997 308.653076 250.08402999999998 349.265442\n",
            " 357.90741 313.46295200000003 310.993835 'forward' 'roadmark_0140.jpg']\n",
            "roadmark_0140.jpg\n",
            "[312.64642299999997 417.804504 397.837769 359.23544300000003 372.722229\n",
            " 372.722229 310.993835 312.228394 'forward' 'roadmark_0141.jpg']\n",
            "roadmark_0141.jpg\n",
            "[126.290352 195.50831599999998 299.335266 244.759567 352.969147 366.549377\n",
            " 315.932098 315.932098 'forward' 'roadmark_0142.jpg']\n",
            "roadmark_0142.jpg\n",
            "[357.904327 305.99084500000004 409.81781 397.837769 315.932098 378.89505\n",
            " 383.833344 319.63580299999995 'forward' 'roadmark_0143.jpg']\n",
            "roadmark_0143.jpg\n",
            "[77.039101 188.85273700000002 303.32861299999996 235.441757 367.783966\n",
            " 373.956787 314.69754 317.166656 'forward' 'roadmark_0144.jpg']\n",
            "roadmark_0144.jpg\n",
            "[287.355255 412.48004199999997 404.493347 348.586517 394.944458 394.944458\n",
            " 320.870361 319.63580299999995 'forward' 'roadmark_0145.jpg']\n",
            "roadmark_0145.jpg\n",
            "[46.423462 172.87936399999998 287.355255 222.13061499999998 377.660492\n",
            " 385.067902 318.401245 320.870361 'forward' 'roadmark_0146.jpg']\n",
            "roadmark_0146.jpg\n",
            "[509.651428 562.895996 529.618164 484.360229 343.09259 341.858032\n",
            " 320.870361 323.339508 'bike' 'roadmark_0147.jpg']\n",
            "roadmark_0147.jpg\n",
            "[521.63147 578.869385 540.267029 493.67804 351.734558 349.265442\n",
            " 328.277771 329.51236 'bike' 'roadmark_0148.jpg']\n",
            "roadmark_0148.jpg\n",
            "[532.280396 604.160583 554.9093019999999 500.33361799999994 360.376556\n",
            " 359.141968 333.216034 334.450623 'bike' 'roadmark_0149.jpg']\n",
            "roadmark_0149.jpg\n",
            "[514.975891 550.9159549999999 625.458374 562.895996 341.858032 375.191345\n",
            " 370.253082 340.623444 'bike' 'roadmark_0150.jpg']\n",
            "roadmark_0150.jpg\n",
            "[381.86438 443.09567300000003 432.44674699999996 383.195496 330.746918\n",
            " 329.51236 309.759247 309.759247 '35' 'roadmark_0151.jpg']\n",
            "roadmark_0151.jpg\n",
            "[240.76622000000003 305.99084500000004 333.944275 280.699677 328.277771\n",
            " 328.277771 309.759247 309.759247 '35' 'roadmark_0152.jpg']\n",
            "roadmark_0152.jpg\n",
            "[373.877716 445.757904 435.10897800000004 385.857727 334.450623 334.450623\n",
            " 310.993835 310.993835 '35' 'roadmark_0153.jpg']\n",
            "roadmark_0153.jpg\n",
            "[215.47503700000001 294.01080299999995 327.288696 267.388519 331.981476\n",
            " 336.919739 313.46295200000003 312.228394 '35' 'roadmark_0154.jpg']\n",
            "roadmark_0154.jpg\n",
            "[368.553253 456.40682999999996 437.77120999999994 381.86438 343.09259\n",
            " 343.09259 315.932098 315.932098 '35' 'roadmark_0155.jpg']\n",
            "roadmark_0155.jpg\n",
            "[203.49501 283.361908 317.970886 258.07070899999997 340.623444 343.09259\n",
            " 317.166656 315.932098 '35' 'roadmark_0156.jpg']\n",
            "roadmark_0156.jpg\n",
            "[365.891022 464.393524 440.433441 381.86438 355.438263 351.734558\n",
            " 319.63580299999995 320.870361 '35' 'roadmark_0157.jpg']\n",
            "roadmark_0157.jpg\n",
            "[182.197174 267.388519 308.653076 243.428452 349.265442 352.969147\n",
            " 323.339508 320.870361 '35' 'roadmark_0158.jpg']\n",
            "roadmark_0158.jpg\n",
            "[355.242096 464.393524 441.764557 380.53326400000003 366.549377 364.080261\n",
            " 327.043213 328.277771 '35' 'roadmark_0159.jpg']\n",
            "roadmark_0159.jpg\n",
            "[144.925964 246.090683 303.32861299999996 232.77954100000002 360.376556\n",
            " 364.080261 331.981476 327.043213 '35' 'roadmark_0160.jpg']\n",
            "roadmark_0160.jpg\n",
            "[347.255402 471.04907199999997 448.42013499999996 372.5466 382.598755\n",
            " 381.36419700000005 336.919739 336.919739 '35' 'roadmark_0161.jpg']\n",
            "roadmark_0161.jpg\n",
            "[103.6614 224.79284700000002 286.024139 204.826126 375.191345 380.129639\n",
            " 339.388885 336.919739 '35' 'roadmark_0162.jpg']\n",
            "roadmark_0162.jpg\n",
            "[347.255402 487.022461 457.737946 367.22213700000003 402.351837 401.117279\n",
            " 344.327148 346.79629500000004 '35' 'roadmark_0163.jpg']\n",
            "roadmark_0163.jpg\n",
            "[57.07238 188.85273700000002 280.699677 184.859406 391.240753 399.882721\n",
            " 348.030853 343.09259 '35' 'roadmark_0164.jpg']\n",
            "roadmark_0164.jpg\n",
            "[472.380188 487.022461 536.273682 502.99585 323.339508 341.858032\n",
            " 336.919739 318.401245 'bike' 'roadmark_0165.jpg']\n",
            "roadmark_0165.jpg\n",
            "[475.04241900000005 496.340271 549.584839 514.975891 325.808655 352.969147\n",
            " 346.79629500000004 322.10495 'bike' 'roadmark_0166.jpg']\n",
            "roadmark_0166.jpg\n",
            "[487.022461 508.320312 570.88269 525.624817 336.919739 366.549377\n",
            " 356.672852 330.746918 'bike' 'roadmark_0167.jpg']\n",
            "roadmark_0167.jpg\n",
            "[495.00915499999996 525.624817 594.8427730000001 536.273682 344.327148\n",
            " 383.833344 373.956787 338.154327 'bike' 'roadmark_0168.jpg']\n",
            "roadmark_0168.jpg\n",
            "[508.320312 549.584839 632.113953 560.2337650000001 359.141968 409.759247\n",
            " 396.179016 352.969147 'bike' 'roadmark_0169.jpg']\n",
            "roadmark_0169.jpg\n",
            "[360.566559 447.08902 435.10897800000004 389.85107400000004 329.51236\n",
            " 331.981476 313.46295200000003 313.46295200000003 '40' 'roadmark_0170.jpg']\n",
            "roadmark_0170.jpg\n",
            "[243.428452 325.957581 347.255402 291.34857200000005 328.277771 333.216034\n",
            " 310.993835 309.759247 '40' 'roadmark_0171.jpg']\n",
            "roadmark_0171.jpg\n",
            "[365.891022 449.75125099999997 439.102325 383.195496 336.919739 339.388885\n",
            " 309.759247 312.228394 '40' 'roadmark_0172.jpg']\n",
            "roadmark_0172.jpg\n",
            "[235.441757 315.308655 345.924286 282.030792 331.981476 338.154327\n",
            " 313.46295200000003 313.46295200000003 '40' 'roadmark_0173.jpg']\n",
            "roadmark_0173.jpg\n",
            "[357.904327 455.07571399999995 440.433441 383.195496 340.623444 343.09259\n",
            " 317.166656 315.932098 '40' 'roadmark_0174.jpg']\n",
            "roadmark_0174.jpg\n",
            "[219.468384 303.32861299999996 340.599823 274.044098 335.685181 341.858032\n",
            " 315.932098 315.932098 '40' 'roadmark_0175.jpg']\n",
            "roadmark_0175.jpg\n",
            "[355.242096 455.07571399999995 444.426788 373.877716 348.030853 349.265442\n",
            " 317.166656 317.166656 '40' 'roadmark_0176.jpg']\n",
            "roadmark_0176.jpg\n",
            "[200.83277900000002 298.00415 340.599823 272.712982 341.858032 348.030853\n",
            " 319.63580299999995 317.166656 '40' 'roadmark_0177.jpg']\n",
            "roadmark_0177.jpg\n",
            "[345.924286 456.40682999999996 444.426788 372.5466 356.672852 357.90741\n",
            " 322.10495 320.870361 '40' 'roadmark_0178.jpg']\n",
            "roadmark_0178.jpg\n",
            "[174.21048000000002 284.69302400000004 336.606476 264.726288 345.561737\n",
            " 355.438263 320.870361 318.401245 '40' 'roadmark_0179.jpg']\n",
            "roadmark_0179.jpg\n",
            "[340.599823 456.40682999999996 445.757904 368.553253 366.549377 366.549377\n",
            " 324.574066 323.339508 '40' 'roadmark_0180.jpg']\n",
            "roadmark_0180.jpg\n",
            "[151.581528 274.044098 319.302002 246.090683 360.376556 362.845673\n",
            " 323.339508 323.339508 '40' 'roadmark_0181.jpg']\n",
            "roadmark_0181.jpg\n",
            "[335.27536000000003 471.04907199999997 447.08902 363.22879 375.191345\n",
            " 375.191345 333.216034 333.216034 '40' 'roadmark_0182.jpg']\n",
            "roadmark_0182.jpg\n",
            "[132.945923 259.401825 316.639771 226.123962 361.611115 371.48764\n",
            " 329.51236 329.51236 '40' 'roadmark_0183.jpg']\n",
            "roadmark_0183.jpg\n",
            "[321.96423300000004 475.04241900000005 445.757904 365.891022\n",
            " 387.53704799999997 387.53704799999997 338.154327 338.154327 '40'\n",
            " 'roadmark_0184.jpg']\n",
            "roadmark_0184.jpg\n",
            "[106.323624 224.79284700000002 309.984192 210.15058900000002 375.191345\n",
            " 387.53704799999997 340.623444 335.685181 '40' 'roadmark_0185.jpg']\n",
            "roadmark_0185.jpg\n",
            "[365.891022 440.433441 427.122284 371.215485 329.51236 328.277771\n",
            " 307.29013100000003 307.29013100000003 '40' 'roadmark_0186.jpg']\n",
            "roadmark_0186.jpg\n",
            "[246.090683 315.308655 336.606476 283.361908 325.808655 329.51236\n",
            " 310.993835 308.524689 '40' 'roadmark_0187.jpg']\n",
            "roadmark_0187.jpg\n",
            "[364.559906 441.764557 425.79116799999997 371.215485 334.450623 334.450623\n",
            " 310.993835 310.993835 '40' 'roadmark_0188.jpg']\n",
            "roadmark_0188.jpg\n",
            "[255.40849300000002 258.07070899999997 308.653076 331.28204300000004\n",
            " 275.375214 320.870361 331.981476 334.450623 '40' 'roadmark_0189.jpg']\n",
            "roadmark_0189.jpg\n",
            "[360.566559 448.42013499999996 431.11563099999995 371.215485 339.388885\n",
            " 339.388885 313.46295200000003 313.46295200000003 '40' 'roadmark_0190.jpg']\n",
            "roadmark_0190.jpg\n",
            "[359.23544300000003 448.42013499999996 431.11563099999995\n",
            " 367.22213700000003 344.327148 344.327148 317.166656 317.166656 '40'\n",
            " 'roadmark_0191.jpg']\n",
            "roadmark_0191.jpg\n",
            "[356.573212 451.082367 433.77786299999997 364.559906 352.969147 352.969147\n",
            " 322.10495 322.10495 '40' 'roadmark_0192.jpg']\n",
            "roadmark_0192.jpg\n",
            "[344.59317000000004 467.055725 439.102325 361.897675 362.845673 362.845673\n",
            " 322.10495 323.339508 '40' 'roadmark_0193.jpg']\n",
            "roadmark_0193.jpg\n",
            "[345.924286 457.737946 441.764557 355.242096 369.018524 367.783966\n",
            " 328.277771 330.746918 '40' 'roadmark_0194.jpg']\n",
            "roadmark_0194.jpg\n",
            "[340.599823 471.04907199999997 443.09567300000003 356.573212 380.129639\n",
            " 380.129639 333.216034 333.216034 '40' 'roadmark_0195.jpg']\n",
            "roadmark_0195.jpg\n",
            "[325.957581 475.04241900000005 448.42013499999996 357.904327 394.944458\n",
            " 398.648163 336.919739 335.685181 '40' 'roadmark_0196.jpg']\n",
            "roadmark_0196.jpg\n",
            "[351.24874900000003 437.77120999999994 421.797852 373.877716 330.746918\n",
            " 330.746918 308.524689 308.524689 '40' 'roadmark_0197.jpg']\n",
            "roadmark_0197.jpg\n",
            "[222.13061499999998 305.99084500000004 341.930939 282.030792 330.746918\n",
            " 333.216034 312.228394 308.524689 '40' 'roadmark_0198.jpg']\n",
            "roadmark_0198.jpg\n",
            "[348.586517 445.757904 429.78451500000006 371.215485 339.388885 339.388885\n",
            " 309.759247 310.993835 '40' 'roadmark_0199.jpg']\n",
            "roadmark_0199.jpg\n",
            "[208.819473 300.666382 336.606476 267.388519 336.919739 338.154327\n",
            " 315.932098 313.46295200000003 '40' 'roadmark_0200.jpg']\n",
            "roadmark_0200.jpg\n",
            "[340.599823 443.09567300000003 428.4534 368.553253 346.79629500000004\n",
            " 349.265442 310.993835 313.46295200000003 '40' 'roadmark_0201.jpg']\n",
            "roadmark_0201.jpg\n",
            "[198.170547 292.679688 332.613159 256.739594 341.858032 348.030853\n",
            " 319.63580299999995 318.401245 '40' 'roadmark_0202.jpg']\n",
            "roadmark_0202.jpg\n",
            "[332.613159 443.09567300000003 433.77786299999997 363.22879 355.438263\n",
            " 354.20370499999996 319.63580299999995 318.401245 '40' 'roadmark_0203.jpg']\n",
            "roadmark_0203.jpg\n",
            "[174.21048000000002 279.368561 321.96423300000004 247.42179900000002 350.5\n",
            " 356.672852 324.574066 319.63580299999995 '40' 'roadmark_0204.jpg']\n",
            "roadmark_0204.jpg\n",
            "[328.619812 449.75125099999997 432.44674699999996 359.23544300000003\n",
            " 365.314819 366.549377 327.043213 328.277771 '40' 'roadmark_0205.jpg']\n",
            "roadmark_0205.jpg\n",
            "[148.919296 260.73294100000004 313.97753900000004 236.772873 359.141968\n",
            " 369.018524 330.746918 325.808655 '40' 'roadmark_0206.jpg']\n",
            "roadmark_0206.jpg\n",
            "[316.639771 463.062408 433.77786299999997 353.91098 378.89505 378.89505\n",
            " 328.277771 329.51236 '40' 'roadmark_0207.jpg']\n",
            "roadmark_0207.jpg\n",
            "[114.310318 244.759567 309.984192 215.47503700000001 375.191345 380.129639\n",
            " 333.216034 331.981476 '40' 'roadmark_0208.jpg']\n",
            "roadmark_0208.jpg\n",
            "[309.984192 469.717957 444.426788 344.59317000000004 397.41357400000004\n",
            " 397.41357400000004 341.858032 341.858032 '40' 'roadmark_0209.jpg']\n",
            "roadmark_0209.jpg\n",
            "[79.701332 212.81280499999997 295.341919 202.163895 383.833344 396.179016\n",
            " 344.327148 335.685181 '40' 'roadmark_0210.jpg']\n",
            "roadmark_0210.jpg\n",
            "[387.188843 361.897675 444.426788 429.78451500000006 296.179016 325.808655\n",
            " 325.808655 294.944458 'rightturn' 'roadmark_0211.jpg']\n",
            "roadmark_0211.jpg\n",
            "[357.904327 451.082367 435.10897800000004 383.195496 331.981476 331.981476\n",
            " 299.882721 298.648163 'rightturn' 'roadmark_0212.jpg']\n",
            "roadmark_0212.jpg\n",
            "[347.255402 456.40682999999996 435.10897800000004 389.85107400000004\n",
            " 339.388885 340.623444 296.179016 296.179016 'rightturn'\n",
            " 'roadmark_0213.jpg']\n",
            "roadmark_0213.jpg\n",
            "[344.59317000000004 460.4001769999999 435.10897800000004 381.86438\n",
            " 346.79629500000004 344.327148 298.648163 298.648163 'rightturn'\n",
            " 'roadmark_0214.jpg']\n",
            "roadmark_0214.jpg\n",
            "[333.944275 465.72464 440.433441 381.86438 352.969147 352.969147\n",
            " 303.58642599999996 303.58642599999996 'rightturn' 'roadmark_0215.jpg']\n",
            "roadmark_0215.jpg\n",
            "[325.957581 468.386841 443.09567300000003 377.871063 364.080261 364.080261\n",
            " 308.524689 308.524689 'rightturn' 'roadmark_0216.jpg']\n",
            "roadmark_0216.jpg\n",
            "[316.639771 481.69799800000004 447.08902 379.202148 376.425934 373.956787\n",
            " 308.524689 308.524689 'rightturn' 'roadmark_0217.jpg']\n",
            "roadmark_0217.jpg\n",
            "[304.659729 502.99585 453.74459800000005 375.208832 387.53704799999997\n",
            " 392.475311 313.46295200000003 310.993835 'rightturn' 'roadmark_0218.jpg']\n",
            "roadmark_0218.jpg\n",
            "[343.262054 449.75125099999997 423.128937 371.215485 343.09259 343.09259\n",
            " 294.944458 297.41357400000004 'rightturn' 'roadmark_0219.jpg']\n",
            "roadmark_0219.jpg\n",
            "[337.937592 457.737946 427.122284 373.877716 350.5 345.561737 296.179016\n",
            " 296.179016 'rightturn' 'roadmark_0220.jpg']\n",
            "roadmark_0220.jpg\n",
            "[331.28204300000004 455.07571399999995 431.11563099999995 369.884369\n",
            " 357.90741 356.672852 298.648163 299.882721 'rightturn'\n",
            " 'roadmark_0221.jpg']\n",
            "roadmark_0221.jpg\n",
            "[320.633118 455.07571399999995 429.78451500000006 367.22213700000003\n",
            " 371.48764 369.018524 302.351837 301.117279 'rightturn'\n",
            " 'roadmark_0222.jpg']\n",
            "roadmark_0222.jpg\n",
            "[307.32196 477.70465099999996 435.10897800000004 364.559906 386.30246\n",
            " 387.53704799999997 308.524689 307.29013100000003 'rightturn'\n",
            " 'roadmark_0223.jpg']\n",
            "roadmark_0223.jpg\n",
            "[357.904327 439.102325 457.737946 305.99084500000004 308.524689 308.524689\n",
            " 398.648163 397.41357400000004 'rightturn' 'roadmark_0224.jpg']\n",
            "roadmark_0224.jpg\n",
            "[315.308655 448.42013499999996 437.77120999999994 383.195496 350.5\n",
            " 348.030853 299.882721 298.648163 'rightturn' 'roadmark_0225.jpg']\n",
            "roadmark_0225.jpg\n",
            "[301.997498 432.44674699999996 439.102325 372.5466 365.314819 362.845673\n",
            " 303.58642599999996 304.820984 'rightturn' 'roadmark_0226.jpg']\n",
            "roadmark_0226.jpg\n",
            "[298.00415 453.74459800000005 437.77120999999994 372.5466 373.956787\n",
            " 372.722229 304.820984 304.820984 'rightturn' 'roadmark_0227.jpg']\n",
            "roadmark_0227.jpg\n",
            "[280.699677 437.77120999999994 439.102325 361.897675 390.006165 390.006165\n",
            " 309.759247 309.759247 'rightturn' 'roadmark_0228.jpg']\n",
            "roadmark_0228.jpg\n",
            "[279.368561 447.08902 441.764557 371.215485 393.70986899999997 394.944458\n",
            " 309.759247 309.759247 'rightturn' 'roadmark_0229.jpg']\n",
            "roadmark_0229.jpg\n",
            "[377.871063 432.44674699999996 427.122284 385.857727 339.388885 339.388885\n",
            " 314.69754 315.932098 '35' 'roadmark_0230.jpg']\n",
            "roadmark_0230.jpg\n",
            "[202.163895 264.726288 303.32861299999996 254.077377 336.919739 340.623444\n",
            " 318.401245 315.932098 '35' 'roadmark_0231.jpg']\n",
            "roadmark_0231.jpg\n",
            "[365.891022 444.426788 435.10897800000004 384.526611 350.5 351.734558\n",
            " 318.401245 318.401245 '35' 'roadmark_0232.jpg']\n",
            "roadmark_0232.jpg\n",
            "[167.554901 251.415146 298.00415 240.76622000000003 346.79629500000004\n",
            " 349.265442 319.63580299999995 319.63580299999995 '35' 'roadmark_0233.jpg']\n",
            "roadmark_0233.jpg\n",
            "[361.897675 441.764557 433.77786299999997 385.857727 365.314819 361.611115\n",
            " 323.339508 323.339508 '35' 'roadmark_0234.jpg']\n",
            "roadmark_0234.jpg\n",
            "[148.919296 226.123962 283.361908 230.11731 351.734558 359.141968\n",
            " 325.808655 324.574066 '35' 'roadmark_0235.jpg']\n",
            "roadmark_0235.jpg\n",
            "[356.573212 448.42013499999996 433.77786299999997 379.202148 370.253082\n",
            " 372.722229 329.51236 330.746918 '35' 'roadmark_0236.jpg']\n",
            "roadmark_0236.jpg\n",
            "[126.290352 199.50166299999998 272.712982 204.826126 361.611115 369.018524\n",
            " 331.981476 329.51236 '35' 'roadmark_0237.jpg']\n",
            "roadmark_0237.jpg\n",
            "[349.917633 449.75125099999997 436.44009400000004 373.877716 388.771606\n",
            " 385.067902 335.685181 334.450623 '35' 'roadmark_0238.jpg']\n",
            "roadmark_0238.jpg\n",
            "[83.69467900000001 182.197174 258.07070899999997 184.859406 378.89505\n",
            " 378.89505 334.450623 333.216034 '35' 'roadmark_0239.jpg']\n",
            "roadmark_0239.jpg\n",
            "[343.262054 444.426788 435.10897800000004 369.884369 399.882721\n",
            " 403.58642599999996 348.030853 346.79629500000004 '35' 'roadmark_0240.jpg']\n",
            "roadmark_0240.jpg\n",
            "[51.747921000000005 138.270386 232.77954100000002 152.912643 386.30246\n",
            " 393.70986899999997 344.327148 341.858032 '35' 'roadmark_0241.jpg']\n",
            "roadmark_0241.jpg\n",
            "[395.175537 441.764557 460.4001769999999 381.86438 308.524689 309.759247\n",
            " 380.129639 381.36419700000005 'forward' 'roadmark_0242.jpg']\n",
            "roadmark_0242.jpg\n",
            "[120.96588899999999 215.47503700000001 328.619812 270.050751 371.48764\n",
            " 377.660492 308.524689 308.524689 'forward' 'roadmark_0243.jpg']\n",
            "roadmark_0243.jpg\n",
            "[399.168884 444.426788 465.72464 389.85107400000004 309.759247 309.759247\n",
            " 391.240753 391.240753 'forward' 'roadmark_0244.jpg']\n",
            "roadmark_0244.jpg\n",
            "[79.701332 192.84608500000002 315.308655 262.064056 387.53704799999997\n",
            " 388.771606 313.46295200000003 310.993835 'forward' 'roadmark_0245.jpg']\n",
            "roadmark_0245.jpg\n",
            "[395.175537 447.08902 476.37353499999995 387.188843 313.46295200000003\n",
            " 313.46295200000003 407.29013100000003 401.117279 'forward'\n",
            " 'roadmark_0246.jpg']\n",
            "roadmark_0246.jpg\n",
            "[47.754578 135.608154 304.659729 260.73294100000004 393.70986899999997\n",
            " 406.055542 318.401245 313.46295200000003 'forward' 'roadmark_0247.jpg']\n",
            "roadmark_0247.jpg\n",
            "[393.844421 452.413483 479.03576699999996 383.195496 315.932098 314.69754\n",
            " 401.117279 398.648163 'forward' 'roadmark_0248.jpg']\n",
            "roadmark_0248.jpg\n",
            "[9.152246 250.08402999999998 298.00415 82.363564 404.820984 315.932098\n",
            " 323.339508 430.746918 'forward' 'roadmark_0249.jpg']\n",
            "roadmark_0249.jpg\n",
            "[393.844421 459.06906100000003 487.022461 383.195496 319.63580299999995\n",
            " 317.166656 407.29013100000003 398.648163 'forward' 'roadmark_0250.jpg']\n",
            "roadmark_0250.jpg\n",
            "[37.105656 240.76622000000003 284.69302400000004 146.25706499999998\n",
            " 388.771606 319.63580299999995 327.043213 409.759247 'forward'\n",
            " 'roadmark_0251.jpg']\n",
            "roadmark_0251.jpg\n",
            "[388.51995800000003 456.40682999999996 480.36688200000003 384.526611\n",
            " 324.574066 323.339508 402.351837 397.41357400000004 'forward'\n",
            " 'roadmark_0252.jpg']\n",
            "roadmark_0252.jpg\n",
            "[400.5 435.10897800000004 441.764557 399.168884 298.648163 298.648163\n",
            " 328.277771 329.51236 'forward' 'roadmark_0253.jpg']\n",
            "roadmark_0253.jpg\n",
            "[218.137268 278.037445 325.957581 292.679688 327.043213 330.746918\n",
            " 299.882721 299.882721 'forward' 'roadmark_0254.jpg']\n",
            "roadmark_0254.jpg\n",
            "[396.506653 437.77120999999994 444.426788 400.5 299.882721 299.882721\n",
            " 334.450623 334.450623 'forward' 'roadmark_0255.jpg']\n",
            "roadmark_0255.jpg\n",
            "[199.50166299999998 263.395172 328.619812 287.355255 328.277771 334.450623\n",
            " 301.117279 301.117279 'forward' 'roadmark_0256.jpg']\n",
            "roadmark_0256.jpg\n",
            "[396.506653 436.44009400000004 444.426788 405.824463 303.58642599999996\n",
            " 299.882721 341.858032 341.858032 'forward' 'roadmark_0257.jpg']\n",
            "roadmark_0257.jpg\n",
            "[192.84608500000002 258.07070899999997 317.970886 279.368561 335.685181\n",
            " 340.623444 304.820984 302.351837 'forward' 'roadmark_0258.jpg']\n",
            "roadmark_0258.jpg\n",
            "[401.831116 452.413483 433.77786299999997 395.175537 343.09259\n",
            " 346.79629500000004 303.58642599999996 301.117279 'forward'\n",
            " 'roadmark_0259.jpg']\n",
            "roadmark_0259.jpg\n",
            "[170.21713300000002 235.441757 313.97753900000004 279.368561 341.858032\n",
            " 349.265442 306.055542 303.58642599999996 'forward' 'roadmark_0260.jpg']\n",
            "roadmark_0260.jpg\n",
            "[397.837769 457.737946 437.77120999999994 400.5 359.141968\n",
            " 354.20370499999996 303.58642599999996 303.58642599999996 'forward'\n",
            " 'roadmark_0261.jpg']\n",
            "roadmark_0261.jpg\n",
            "[142.263733 216.806152 308.653076 264.726288 349.265442 351.734558\n",
            " 308.524689 306.055542 'forward' 'roadmark_0262.jpg']\n",
            "roadmark_0262.jpg\n",
            "[392.513306 464.393524 440.433441 396.506653 369.018524 366.549377\n",
            " 306.055542 306.055542 'forward' 'roadmark_0263.jpg']\n",
            "roadmark_0263.jpg\n",
            "[111.64808700000002 194.1772 309.984192 259.401825 357.90741 364.080261\n",
            " 306.055542 308.524689 'forward' 'roadmark_0264.jpg']\n",
            "roadmark_0264.jpg\n",
            "[389.85107400000004 475.04241900000005 445.757904 396.506653 385.067902\n",
            " 382.598755 306.055542 307.29013100000003 'forward' 'roadmark_0265.jpg']\n",
            "roadmark_0265.jpg\n",
            "[258.07070899999997 73.045753 155.574875 304.659729 309.759247 366.549377\n",
            " 373.956787 310.993835 'forward' 'roadmark_0266.jpg']\n",
            "roadmark_0266.jpg\n",
            "[391.18219 451.082367 467.055725 403.162231 310.993835 312.228394\n",
            " 396.179016 394.944458 'forward' 'roadmark_0267.jpg']\n",
            "roadmark_0267.jpg\n",
            "[29.118966999999998 239.435104 290.017456 135.608154 377.660492 314.69754\n",
            " 312.228394 386.30246 'forward' 'roadmark_0268.jpg']\n",
            "roadmark_0268.jpg\n",
            "[388.51995800000003 453.74459800000005 484.360229 389.85107400000004\n",
            " 314.69754 314.69754 406.055542 401.117279 'forward' 'roadmark_0269.jpg']\n",
            "roadmark_0269.jpg\n",
            "[26.456739000000002 110.316971 287.355255 224.79284700000002\n",
            " 381.36419700000005 402.351837 315.932098 314.69754 'forward'\n",
            " 'roadmark_0270.jpg']\n",
            "roadmark_0270.jpg\n",
            "[392.513306 445.757904 484.360229 389.85107400000004 317.166656 317.166656\n",
            " 401.117279 399.882721 'forward' 'roadmark_0271.jpg']\n",
            "roadmark_0271.jpg\n",
            "[216.806152 282.030792 94.343597 25.125624 319.63580299999995\n",
            " 319.63580299999995 410.993835 381.36419700000005 'forward'\n",
            " 'roadmark_0272.jpg']\n",
            "roadmark_0272.jpg\n",
            "[381.86438 460.4001769999999 488.353577 380.53326400000003 320.870361\n",
            " 319.63580299999995 399.882721 397.41357400000004 'forward'\n",
            " 'roadmark_0273.jpg']\n",
            "roadmark_0273.jpg\n",
            "[39.767887 188.85273700000002 251.415146 116.972549 367.783966 327.043213\n",
            " 327.043213 399.882721 'forward' 'roadmark_0274.jpg']\n",
            "roadmark_0274.jpg\n",
            "[472.380188 516.307007 537.604797 485.691345 315.932098 315.932098\n",
            " 327.043213 329.51236 'bike' 'roadmark_0275.jpg']\n",
            "roadmark_0275.jpg\n",
            "[481.69799800000004 524.2937009999999 549.584839 491.015808\n",
            " 319.63580299999995 317.166656 331.981476 331.981476 'bike'\n",
            " 'roadmark_0276.jpg']\n",
            "roadmark_0276.jpg\n",
            "[481.69799800000004 534.942566 557.571533 502.99585 320.870361\n",
            " 319.63580299999995 336.919739 339.388885 'bike' 'roadmark_0277.jpg']\n",
            "roadmark_0277.jpg\n",
            "[485.691345 546.9226070000001 569.551575 509.651428 325.808655 323.339508\n",
            " 343.09259 345.561737 'bike' 'roadmark_0278.jpg']\n",
            "roadmark_0278.jpg\n",
            "[493.67804 554.9093019999999 584.193848 516.307007 333.216034 329.51236\n",
            " 351.734558 352.969147 'bike' 'roadmark_0279.jpg']\n",
            "roadmark_0279.jpg\n",
            "[504.32696500000003 569.551575 600.167236 525.624817 340.623444 338.154327\n",
            " 357.90741 361.611115 'bike' 'roadmark_0280.jpg']\n",
            "roadmark_0280.jpg\n",
            "[514.975891 581.531616 617.4717410000001 538.935913 346.79629500000004\n",
            " 344.327148 367.783966 373.956787 'bike' 'roadmark_0281.jpg']\n",
            "roadmark_0281.jpg\n",
            "[526.955933 597.505005 644.0939940000001 560.2337650000001 357.90741\n",
            " 351.734558 381.36419700000005 385.067902 'bike' 'roadmark_0282.jpg']\n",
            "roadmark_0282.jpg\n",
            "[536.273682 620.133972 682.69635 581.531616 367.783966 364.080261\n",
            " 396.179016 402.351837 'bike' 'roadmark_0283.jpg']\n",
            "roadmark_0283.jpg\n",
            "[558.902649 645.42511 715.974182 606.822815 381.36419700000005 376.425934\n",
            " 417.166656 425.808655 'bike' 'roadmark_0284.jpg']\n",
            "roadmark_0284.jpg\n",
            "[381.86438 435.10897800000004 449.75125099999997 365.891022 294.944458\n",
            " 294.944458 312.228394 312.228394 'rail' 'roadmark_0285.jpg']\n",
            "roadmark_0285.jpg\n",
            "[264.726288 352.579865 368.553253 316.639771 310.993835 310.993835\n",
            " 294.944458 294.944458 'rail' 'roadmark_0286.jpg']\n",
            "roadmark_0286.jpg\n",
            "[383.195496 435.10897800000004 452.413483 363.22879 294.944458 294.944458\n",
            " 313.46295200000003 313.46295200000003 'rail' 'roadmark_0287.jpg']\n",
            "roadmark_0287.jpg\n",
            "[255.40849300000002 352.579865 367.22213700000003 315.308655\n",
            " 313.46295200000003 313.46295200000003 294.944458 294.944458 'rail'\n",
            " 'roadmark_0288.jpg']\n",
            "roadmark_0288.jpg\n",
            "[356.573212 456.40682999999996 436.44009400000004 379.202148 317.166656\n",
            " 317.166656 296.179016 296.179016 'rail' 'roadmark_0289.jpg']\n",
            "roadmark_0289.jpg\n",
            "[256.739594 344.59317000000004 365.891022 312.64642299999997 315.932098\n",
            " 315.932098 296.179016 296.179016 'rail' 'roadmark_0290.jpg']\n",
            "roadmark_0290.jpg\n",
            "[359.23544300000003 456.40682999999996 436.44009400000004 379.202148\n",
            " 318.401245 318.401245 298.648163 298.648163 'rail' 'roadmark_0291.jpg']\n",
            "roadmark_0291.jpg\n",
            "[240.76622000000003 343.262054 363.22879 312.64642299999997\n",
            " 319.63580299999995 320.870361 297.41357400000004 296.179016 'rail'\n",
            " 'roadmark_0292.jpg']\n",
            "roadmark_0292.jpg\n",
            "[356.573212 457.737946 437.77120999999994 379.202148 320.870361 320.870361\n",
            " 298.648163 298.648163 'rail' 'roadmark_0293.jpg']\n",
            "roadmark_0293.jpg\n",
            "[232.77954100000002 336.606476 367.22213700000003 304.659729 320.870361\n",
            " 322.10495 298.648163 298.648163 'rail' 'roadmark_0294.jpg']\n",
            "roadmark_0294.jpg\n",
            "[348.586517 464.393524 439.102325 377.871063 327.043213 327.043213\n",
            " 299.882721 299.882721 'rail' 'roadmark_0295.jpg']\n",
            "roadmark_0295.jpg\n",
            "[223.46173100000001 329.950928 364.559906 303.32861299999996 325.808655\n",
            " 325.808655 299.882721 299.882721 'rail' 'roadmark_0296.jpg']\n",
            "roadmark_0296.jpg\n",
            "[345.924286 469.717957 440.433441 377.871063 330.746918 330.746918\n",
            " 302.351837 302.351837 'rail' 'roadmark_0297.jpg']\n",
            "roadmark_0297.jpg\n",
            "[211.48168900000002 327.288696 361.897675 299.335266 329.51236 329.51236\n",
            " 301.117279 301.117279 'rail' 'roadmark_0298.jpg']\n",
            "roadmark_0298.jpg\n",
            "[335.27536000000003 475.04241900000005 441.764557 375.208832 338.154327\n",
            " 336.919739 302.351837 302.351837 'rail' 'roadmark_0299.jpg']\n",
            "roadmark_0299.jpg\n",
            "[206.157242 316.639771 360.566559 288.686371 331.981476 334.450623\n",
            " 301.117279 302.351837 'rail' 'roadmark_0300.jpg']\n",
            "roadmark_0300.jpg\n",
            "[333.944275 476.37353499999995 444.426788 373.877716 338.154327 338.154327\n",
            " 302.351837 302.351837 'rail' 'roadmark_0301.jpg']\n",
            "roadmark_0301.jpg\n",
            "[183.52829 307.32196 357.904327 287.355255 335.685181 338.154327\n",
            " 302.351837 302.351837 'rail' 'roadmark_0302.jpg']\n",
            "roadmark_0302.jpg\n",
            "[333.944275 480.36688200000003 445.757904 373.877716 344.327148 343.09259\n",
            " 303.58642599999996 303.58642599999996 'rail' 'roadmark_0303.jpg']\n",
            "roadmark_0303.jpg\n",
            "[176.872711 300.666382 357.904327 278.037445 340.623444 344.327148\n",
            " 302.351837 302.351837 'rail' 'roadmark_0304.jpg']\n",
            "roadmark_0304.jpg\n",
            "[321.96423300000004 487.022461 444.426788 371.215485 354.20370499999996\n",
            " 350.5 306.055542 306.055542 'rail' 'roadmark_0305.jpg']\n",
            "roadmark_0305.jpg\n",
            "[144.925964 290.017456 349.917633 279.368561 348.030853 352.969147\n",
            " 306.055542 304.820984 'rail' 'roadmark_0306.jpg']\n",
            "roadmark_0306.jpg\n",
            "[307.32196 497.67138700000004 449.75125099999997 367.22213700000003\n",
            " 371.48764 366.549377 308.524689 308.524689 'rail' 'roadmark_0307.jpg']\n",
            "roadmark_0307.jpg\n",
            "[126.290352 272.712982 349.917633 263.395172 357.90741 367.783966\n",
            " 308.524689 308.524689 'rail' 'roadmark_0308.jpg']\n",
            "roadmark_0308.jpg\n",
            "[301.997498 512.3136599999999 448.42013499999996 361.897675 382.598755\n",
            " 382.598755 312.228394 312.228394 'rail' 'roadmark_0309.jpg']\n",
            "roadmark_0309.jpg\n",
            "[89.01913499999999 258.07070899999997 343.262054 262.064056 369.018524\n",
            " 381.36419700000005 313.46295200000003 310.993835 'rail'\n",
            " 'roadmark_0310.jpg']\n",
            "roadmark_0310.jpg\n",
            "[283.361908 526.955933 451.082367 365.891022 390.006165 391.240753\n",
            " 314.69754 314.69754 'rail' 'roadmark_0311.jpg']\n",
            "roadmark_0311.jpg\n",
            "[61.065723 238.103989 335.27536000000003 244.759567 383.833344\n",
            " 393.70986899999997 318.401245 317.166656 'rail' 'roadmark_0312.jpg']\n",
            "roadmark_0312.jpg\n",
            "[284.69302400000004 524.2937009999999 457.737946 357.904327\n",
            " 397.41357400000004 402.351837 319.63580299999995 319.63580299999995\n",
            " 'rail' 'roadmark_0313.jpg']\n",
            "roadmark_0313.jpg\n",
            "[26.456739000000002 206.157242 333.944275 231.448425 393.70986899999997\n",
            " 406.055542 320.870361 322.10495 'rail' 'roadmark_0314.jpg']\n",
            "roadmark_0314.jpg\n",
            "[279.368561 524.2937009999999 460.4001769999999 352.579865 399.882721\n",
            " 399.882721 324.574066 323.339508 'rail' 'roadmark_0315.jpg']\n",
            "roadmark_0315.jpg\n",
            "[39.767887 227.455078 327.288696 228.786194 385.067902 401.117279\n",
            " 323.339508 320.870361 'rail' 'roadmark_0316.jpg']\n",
            "roadmark_0316.jpg\n",
            "[367.22213700000003 439.102325 431.11563099999995 385.857727 328.277771\n",
            " 327.043213 303.58642599999996 304.820984 '40' 'roadmark_0317.jpg']\n",
            "roadmark_0317.jpg\n",
            "[496.340271 566.8893429999999 521.63147 481.69799800000004 328.277771\n",
            " 324.574066 307.29013100000003 309.759247 '40' 'roadmark_0318.jpg']\n",
            "roadmark_0318.jpg\n",
            "[360.566559 445.757904 431.11563099999995 381.86438 335.685181 335.685181\n",
            " 306.055542 306.055542 '40' 'roadmark_0319.jpg']\n",
            "roadmark_0319.jpg\n",
            "[504.32696500000003 582.862732 530.9492799999999 481.69799800000004\n",
            " 330.746918 327.043213 309.759247 308.524689 '40' 'roadmark_0320.jpg']\n",
            "roadmark_0320.jpg\n",
            "[369.884369 445.757904 433.77786299999997 376.539948 335.685181 335.685181\n",
            " 310.993835 310.993835 '40' 'roadmark_0321.jpg']\n",
            "roadmark_0321.jpg\n",
            "[509.651428 588.187195 541.598145 496.340271 335.685181 331.981476\n",
            " 313.46295200000003 313.46295200000003 '40' 'roadmark_0322.jpg']\n",
            "roadmark_0322.jpg\n",
            "[361.897675 456.40682999999996 436.44009400000004 379.202148 343.09259\n",
            " 343.09259 310.993835 312.228394 '40' 'roadmark_0323.jpg']\n",
            "roadmark_0323.jpg\n",
            "[521.63147 602.829468 553.5781860000001 501.664734 339.388885 338.154327\n",
            " 315.932098 317.166656 '40' 'roadmark_0324.jpg']\n",
            "roadmark_0324.jpg\n",
            "[360.566559 456.40682999999996 437.77120999999994 377.871063 352.969147\n",
            " 350.5 315.932098 315.932098 '40' 'roadmark_0325.jpg']\n",
            "roadmark_0325.jpg\n",
            "[533.6115110000001 624.127258 564.227112 510.982544 348.030853 343.09259\n",
            " 319.63580299999995 322.10495 '40' 'roadmark_0326.jpg']\n",
            "roadmark_0326.jpg\n",
            "[352.579865 467.055725 449.75125099999997 371.215485 359.141968 359.141968\n",
            " 325.808655 324.574066 '40' 'roadmark_0327.jpg']\n",
            "roadmark_0327.jpg\n",
            "[541.598145 648.087341 580.2005 517.6381230000001 354.20370499999996\n",
            " 354.20370499999996 325.808655 325.808655 '40' 'roadmark_0328.jpg']\n",
            "roadmark_0328.jpg\n",
            "[352.579865 471.04907199999997 451.082367 371.215485 373.956787 373.956787\n",
            " 329.51236 329.51236 '40' 'roadmark_0329.jpg']\n",
            "roadmark_0329.jpg\n",
            "[560.2337650000001 676.040771 597.505005 526.955933 366.549377 367.783966\n",
            " 330.746918 330.746918 '40' 'roadmark_0330.jpg']\n",
            "roadmark_0330.jpg\n",
            "[336.606476 479.03576699999996 453.74459800000005 367.22213700000003\n",
            " 385.067902 386.30246 336.919739 335.685181 '40' 'roadmark_0331.jpg']\n",
            "roadmark_0331.jpg\n",
            "[574.876038 702.663086 604.160583 538.935913 385.067902 375.191345\n",
            " 334.450623 335.685181 '40' 'roadmark_0332.jpg']\n",
            "roadmark_0332.jpg\n",
            "[332.613159 485.691345 461.731293 365.891022 399.882721 403.58642599999996\n",
            " 346.79629500000004 346.79629500000004 '40' 'roadmark_0333.jpg']\n",
            "roadmark_0333.jpg\n",
            "[610.816162 743.9276120000001 630.782837 556.240417 399.882721\n",
            " 387.53704799999997 343.09259 348.030853 '40' 'roadmark_0334.jpg']\n",
            "roadmark_0334.jpg\n",
            "[252.746262 317.970886 331.28204300000004 283.361908 320.870361 329.51236\n",
            " 310.993835 307.29013100000003 'leftturn' 'roadmark_0335.jpg']\n",
            "roadmark_0335.jpg\n",
            "[234.11064100000002 308.653076 332.613159 280.699677 323.339508 333.216034\n",
            " 312.228394 308.524689 'leftturn' 'roadmark_0336.jpg']\n",
            "roadmark_0336.jpg\n",
            "[232.77954100000002 305.99084500000004 324.626465 270.050751 328.277771\n",
            " 336.919739 317.166656 312.228394 'leftturn' 'roadmark_0337.jpg']\n",
            "roadmark_0337.jpg\n",
            "[222.13061499999998 294.01080299999995 316.639771 260.73294100000004\n",
            " 331.981476 341.858032 319.63580299999995 314.69754 'leftturn'\n",
            " 'roadmark_0338.jpg']\n",
            "roadmark_0338.jpg\n",
            "[199.50166299999998 278.037445 308.653076 251.415146 335.685181 349.265442\n",
            " 324.574066 317.166656 'leftturn' 'roadmark_0339.jpg']\n",
            "roadmark_0339.jpg\n",
            "[186.190521 235.441757 295.341919 268.719635 343.09259 323.339508\n",
            " 334.450623 356.672852 'leftturn' 'roadmark_0340.jpg']\n",
            "roadmark_0340.jpg\n",
            "[167.554901 222.13061499999998 283.361908 248.752914 350.5 329.51236\n",
            " 335.685181 370.253082 'leftturn' 'roadmark_0341.jpg']\n",
            "roadmark_0341.jpg\n",
            "[138.270386 202.163895 271.381866 227.455078 360.376556 336.919739\n",
            " 344.327148 387.53704799999997 'leftturn' 'roadmark_0342.jpg']\n",
            "roadmark_0342.jpg\n",
            "[104.992516 178.203827 255.40849300000002 214.143921 371.48764 341.858032\n",
            " 356.672852 402.351837 'leftturn' 'roadmark_0343.jpg']\n",
            "roadmark_0343.jpg\n",
            "[238.103989 276.706329 312.64642299999997 288.686371 319.63580299999995\n",
            " 308.524689 317.166656 333.216034 'leftturn' 'roadmark_0344.jpg']\n",
            "roadmark_0344.jpg\n",
            "[219.468384 263.395172 303.32861299999996 276.706329 327.043213\n",
            " 313.46295200000003 318.401245 340.623444 'leftturn' 'roadmark_0345.jpg']\n",
            "roadmark_0345.jpg\n",
            "[204.826126 248.752914 296.673035 267.388519 333.216034 317.166656\n",
            " 323.339508 346.79629500000004 'leftturn' 'roadmark_0346.jpg']\n",
            "roadmark_0346.jpg\n",
            "[175.541595 232.77954100000002 279.368561 242.09733599999998 341.858032\n",
            " 324.574066 331.981476 362.845673 'leftturn' 'roadmark_0347.jpg']\n",
            "roadmark_0347.jpg\n",
            "[158.237106 214.143921 266.057404 222.13061499999998 348.030853 329.51236\n",
            " 340.623444 371.48764 'leftturn' 'roadmark_0348.jpg']\n",
            "roadmark_0348.jpg\n",
            "[244.759567 288.686371 329.950928 307.32196 322.10495 307.29013100000003\n",
            " 312.228394 331.981476 'leftturn' 'roadmark_0349.jpg']\n",
            "roadmark_0349.jpg\n",
            "[231.448425 275.375214 324.626465 294.01080299999995 327.043213 312.228394\n",
            " 314.69754 340.623444 'leftturn' 'roadmark_0350.jpg']\n",
            "roadmark_0350.jpg\n",
            "[210.15058900000002 260.73294100000004 317.970886 284.69302400000004\n",
            " 334.450623 318.401245 319.63580299999995 344.327148 'leftturn'\n",
            " 'roadmark_0351.jpg']\n",
            "roadmark_0351.jpg\n",
            "[188.85273700000002 244.759567 307.32196 266.057404 266.057404 341.858032\n",
            " 323.339508 331.981476 'leftturn' 'roadmark_0352.jpg']\n",
            "roadmark_0352.jpg\n",
            "[167.554901 226.123962 288.686371 247.42179900000002 351.734558 329.51236\n",
            " 336.919739 370.253082 'leftturn' 'roadmark_0353.jpg']\n",
            "roadmark_0353.jpg\n",
            "[132.945923 198.170547 274.044098 222.13061499999998 361.611115 338.154327\n",
            " 345.561737 387.53704799999997 'leftturn' 'roadmark_0354.jpg']\n",
            "roadmark_0354.jpg\n",
            "[243.428452 278.037445 332.613159 307.32196 318.401245 306.055542\n",
            " 309.759247 327.043213 'leftturn' 'roadmark_0355.jpg']\n",
            "roadmark_0355.jpg\n",
            "[231.448425 271.381866 320.633118 296.673035 323.339508 309.759247\n",
            " 310.993835 336.919739 'leftturn' 'roadmark_0356.jpg']\n",
            "roadmark_0356.jpg\n",
            "[216.806152 256.739594 304.659729 287.355255 328.277771 314.69754\n",
            " 318.401245 344.327148 'leftturn' 'roadmark_0357.jpg']\n",
            "roadmark_0357.jpg\n",
            "[194.1772 238.103989 296.673035 267.388519 335.685181 319.63580299999995\n",
            " 324.574066 354.20370499999996 'leftturn' 'roadmark_0358.jpg']\n",
            "roadmark_0358.jpg\n",
            "[162.230453 222.13061499999998 274.044098 248.752914 349.265442 325.808655\n",
            " 333.216034 369.018524 'leftturn' 'roadmark_0359.jpg']\n",
            "roadmark_0359.jpg\n",
            "[128.952576 196.83943200000002 258.07070899999997 218.137268 359.141968\n",
            " 334.450623 349.265442 382.598755 'leftturn' 'roadmark_0360.jpg']\n",
            "roadmark_0360.jpg\n",
            "[89.01913499999999 163.561569 227.455078 174.21048000000002 373.956787\n",
            " 346.79629500000004 352.969147 408.524689 'leftturn' 'roadmark_0361.jpg']\n",
            "roadmark_0361.jpg\n",
            "[238.103989 279.368561 325.957581 303.32861299999996 319.63580299999995\n",
            " 307.29013100000003 313.46295200000003 333.216034 'leftturn'\n",
            " 'roadmark_0362.jpg']\n",
            "roadmark_0362.jpg\n",
            "[222.13061499999998 263.395172 317.970886 288.686371 325.808655\n",
            " 313.46295200000003 314.69754 338.154327 'leftturn' 'roadmark_0363.jpg']\n",
            "roadmark_0363.jpg\n",
            "[204.826126 252.746262 308.653076 272.712982 331.981476 317.166656\n",
            " 320.870361 348.030853 'leftturn' 'roadmark_0364.jpg']\n",
            "roadmark_0364.jpg\n",
            "[190.183853 235.441757 286.024139 263.395172 339.388885 322.10495\n",
            " 328.277771 359.141968 'leftturn' 'roadmark_0365.jpg']\n",
            "roadmark_0365.jpg\n",
            "[158.237106 211.48168900000002 279.368561 235.441757 352.969147 329.51236\n",
            " 339.388885 371.48764 'leftturn' 'roadmark_0366.jpg']\n",
            "roadmark_0366.jpg\n",
            "[122.297005 199.50166299999998 255.40849300000002 218.137268 362.845673\n",
            " 335.685181 351.734558 390.006165 'leftturn' 'roadmark_0367.jpg']\n",
            "roadmark_0367.jpg\n",
            "[357.904327 425.79116799999997 425.79116799999997 372.5466 318.401245\n",
            " 318.401245 301.117279 301.117279 'ped' 'roadmark_0368.jpg']\n",
            "roadmark_0368.jpg\n",
            "[480.36688200000003 549.584839 521.63147 464.393524 318.401245 315.932098\n",
            " 302.351837 302.351837 'ped' 'roadmark_0369.jpg']\n",
            "roadmark_0369.jpg\n",
            "[352.579865 433.77786299999997 429.78451500000006 371.215485 322.10495\n",
            " 323.339508 301.117279 302.351837 'ped' 'roadmark_0370.jpg']\n",
            "roadmark_0370.jpg\n",
            "[485.691345 561.56488 521.63147 465.72464 324.574066 319.63580299999995\n",
            " 303.58642599999996 303.58642599999996 'ped' 'roadmark_0371.jpg']\n",
            "roadmark_0371.jpg\n",
            "[344.59317000000004 436.44009400000004 427.122284 369.884369 329.51236\n",
            " 330.746918 307.29013100000003 307.29013100000003 'ped'\n",
            " 'roadmark_0372.jpg']\n",
            "roadmark_0372.jpg\n",
            "[489.684692 573.5449219999999 530.9492799999999 473.711304 330.746918\n",
            " 325.808655 308.524689 308.524689 'ped' 'roadmark_0373.jpg']\n",
            "roadmark_0373.jpg\n",
            "[343.262054 439.102325 428.4534 365.891022 333.216034 336.919739\n",
            " 309.759247 308.524689 'ped' 'roadmark_0374.jpg']\n",
            "roadmark_0374.jpg\n",
            "[497.67138700000004 586.856079 538.935913 481.69799800000004 331.981476\n",
            " 329.51236 309.759247 310.993835 'ped' 'roadmark_0375.jpg']\n",
            "roadmark_0375.jpg\n",
            "[339.268707 437.77120999999994 429.78451500000006 360.566559 343.09259\n",
            " 343.09259 314.69754 314.69754 'ped' 'roadmark_0376.jpg']\n",
            "roadmark_0376.jpg\n",
            "[504.32696500000003 602.829468 549.584839 487.022461 343.09259 338.154327\n",
            " 315.932098 315.932098 'ped' 'roadmark_0377.jpg']\n",
            "roadmark_0377.jpg\n",
            "[333.944275 444.426788 427.122284 349.917633 350.5 352.969147 318.401245\n",
            " 319.63580299999995 'ped' 'roadmark_0378.jpg']\n",
            "roadmark_0378.jpg\n",
            "[513.644775 629.451721 561.56488 488.353577 351.734558 349.265442\n",
            " 319.63580299999995 320.870361 'ped' 'roadmark_0379.jpg']\n",
            "roadmark_0379.jpg\n",
            "[320.633118 447.08902 428.4534 349.917633 362.845673 362.845673 322.10495\n",
            " 323.339508 'ped' 'roadmark_0380.jpg']\n",
            "roadmark_0380.jpg\n",
            "[538.935913 642.762878 574.876038 500.33361799999994 361.611115\n",
            " 354.20370499999996 322.10495 327.043213 'ped' 'roadmark_0381.jpg']\n",
            "roadmark_0381.jpg\n",
            "[305.99084500000004 465.72464 441.764557 345.924286 380.129639 382.598755\n",
            " 324.574066 327.043213 'ped' 'roadmark_0382.jpg']\n",
            "roadmark_0382.jpg\n",
            "[549.584839 680.034119 589.518311 508.320312 377.660492 367.783966\n",
            " 329.51236 331.981476 'ped' 'roadmark_0383.jpg']\n",
            "roadmark_0383.jpg\n",
            "[284.69302400000004 469.717957 437.77120999999994 333.944275 396.179016\n",
            " 398.648163 338.154327 338.154327 'ped' 'roadmark_0384.jpg']\n",
            "roadmark_0384.jpg\n",
            "[572.213806 734.609802 605.491699 518.969238 392.475311 385.067902\n",
            " 335.685181 339.388885 'ped' 'roadmark_0385.jpg']\n",
            "roadmark_0385.jpg\n",
            "[356.573212 440.433441 424.46005199999996 375.208832 314.69754\n",
            " 313.46295200000003 294.944458 297.41357400000004 'xing'\n",
            " 'roadmark_0386.jpg']\n",
            "roadmark_0386.jpg\n",
            "[468.386841 540.267029 509.651428 456.40682999999996 317.166656 310.993835\n",
            " 298.648163 298.648163 'xing' 'roadmark_0387.jpg']\n",
            "roadmark_0387.jpg\n",
            "[361.897675 439.102325 424.46005199999996 377.871063 317.166656\n",
            " 319.63580299999995 296.179016 297.41357400000004 'xing'\n",
            " 'roadmark_0388.jpg']\n",
            "roadmark_0388.jpg\n",
            "[473.711304 548.253723 513.644775 461.731293 322.10495 315.932098\n",
            " 301.117279 301.117279 'xing' 'roadmark_0389.jpg']\n",
            "roadmark_0389.jpg\n",
            "[476.37353499999995 557.571533 518.969238 460.4001769999999 323.339508\n",
            " 322.10495 303.58642599999996 303.58642599999996 'xing'\n",
            " 'roadmark_0390.jpg']\n",
            "roadmark_0390.jpg\n",
            "[356.573212 435.10897800000004 429.78451500000006 371.215485 320.870361\n",
            " 320.870361 303.58642599999996 303.58642599999996 'xing'\n",
            " 'roadmark_0391.jpg']\n",
            "roadmark_0391.jpg\n",
            "[479.03576699999996 565.558228 528.287048 463.062408 329.51236 324.574066\n",
            " 307.29013100000003 306.055542 'xing' 'roadmark_0392.jpg']\n",
            "roadmark_0392.jpg\n",
            "[348.586517 445.757904 431.11563099999995 371.215485 325.808655 325.808655\n",
            " 304.820984 304.820984 'xing' 'roadmark_0393.jpg']\n",
            "roadmark_0393.jpg\n",
            "[487.022461 572.213806 537.604797 468.386841 333.216034 328.277771\n",
            " 309.759247 308.524689 'xing' 'roadmark_0394.jpg']\n",
            "roadmark_0394.jpg\n",
            "[351.24874900000003 440.433441 429.78451500000006 364.559906 330.746918\n",
            " 331.981476 308.524689 307.29013100000003 'xing' 'roadmark_0395.jpg']\n",
            "roadmark_0395.jpg\n",
            "[491.015808 588.187195 550.9159549999999 471.04907199999997 340.623444\n",
            " 331.981476 313.46295200000003 313.46295200000003 'xing'\n",
            " 'roadmark_0396.jpg']\n",
            "roadmark_0396.jpg\n",
            "[340.599823 440.433441 433.77786299999997 361.897675 338.154327 338.154327\n",
            " 312.228394 312.228394 'xing' 'roadmark_0397.jpg']\n",
            "roadmark_0397.jpg\n",
            "[502.99585 609.485046 557.571533 477.70465099999996 346.79629500000004\n",
            " 340.623444 317.166656 317.166656 'xing' 'roadmark_0398.jpg']\n",
            "roadmark_0398.jpg\n",
            "[335.27536000000003 443.09567300000003 433.77786299999997\n",
            " 359.23544300000003 344.327148 344.327148 315.932098 315.932098 'xing'\n",
            " 'roadmark_0399.jpg']\n",
            "roadmark_0399.jpg\n",
            "[514.975891 625.458374 566.8893429999999 487.022461 357.90741\n",
            " 346.79629500000004 322.10495 320.870361 'xing' 'roadmark_0400.jpg']\n",
            "roadmark_0400.jpg\n",
            "[327.288696 449.75125099999997 435.10897800000004 352.579865 352.969147\n",
            " 352.969147 320.870361 319.63580299999995 'xing' 'roadmark_0401.jpg']\n",
            "roadmark_0401.jpg\n",
            "[530.9492799999999 654.74292 574.876038 489.684692 364.080261 356.672852\n",
            " 324.574066 324.574066 'xing' 'roadmark_0402.jpg']\n",
            "roadmark_0402.jpg\n",
            "[316.639771 455.07571399999995 439.102325 348.586517 362.845673 362.845673\n",
            " 319.63580299999995 319.63580299999995 'xing' 'roadmark_0403.jpg']\n",
            "roadmark_0403.jpg\n",
            "[534.942566 681.365234 598.836121 501.664734 380.129639 367.783966\n",
            " 331.981476 333.216034 'xing' 'roadmark_0404.jpg']\n",
            "roadmark_0404.jpg\n",
            "[303.32861299999996 460.4001769999999 445.757904 343.262054 373.956787\n",
            " 376.425934 330.746918 329.51236 'xing' 'roadmark_0405.jpg']\n",
            "roadmark_0405.jpg\n",
            "[560.2337650000001 723.960876 614.8095089999999 505.658081\n",
            " 393.70986899999997 382.598755 336.919739 338.154327 'xing'\n",
            " 'roadmark_0406.jpg']\n",
            "roadmark_0406.jpg\n",
            "[294.01080299999995 469.717957 447.08902 333.944275 391.240753 391.240753\n",
            " 335.685181 335.685181 'xing' 'roadmark_0407.jpg']\n",
            "roadmark_0407.jpg\n",
            "[256.739594 327.288696 335.27536000000003 284.69302400000004 325.808655\n",
            " 329.51236 306.055542 307.29013100000003 'leftturn' 'roadmark_0408.jpg']\n",
            "roadmark_0408.jpg\n",
            "[254.077377 282.030792 332.613159 316.639771 324.574066 310.993835\n",
            " 315.932098 331.981476 'leftturn' 'roadmark_0409.jpg']\n",
            "roadmark_0409.jpg\n",
            "[240.76622000000003 283.361908 331.28204300000004 307.32196 327.043213\n",
            " 312.228394 320.870361 336.919739 'leftturn' 'roadmark_0410.jpg']\n",
            "roadmark_0410.jpg\n",
            "[230.11731 279.368561 328.619812 301.997498 330.746918 314.69754\n",
            " 327.043213 343.09259 'leftturn' 'roadmark_0411.jpg']\n",
            "roadmark_0411.jpg\n",
            "[228.786194 268.719635 325.957581 294.01080299999995 335.685181\n",
            " 319.63580299999995 328.277771 349.265442 'leftturn' 'roadmark_0412.jpg']\n",
            "roadmark_0412.jpg\n",
            "[210.15058900000002 271.381866 317.970886 288.686371 340.623444\n",
            " 319.63580299999995 335.685181 360.376556 'leftturn' 'roadmark_0413.jpg']\n",
            "roadmark_0413.jpg\n",
            "[194.1772 244.759567 308.653076 274.044098 350.5 330.746918 335.685181\n",
            " 365.314819 'leftturn' 'roadmark_0414.jpg']\n",
            "roadmark_0414.jpg\n",
            "[179.534943 242.09733599999998 305.99084500000004 262.064056 356.672852\n",
            " 334.450623 341.858032 378.89505 'leftturn' 'roadmark_0415.jpg']\n",
            "roadmark_0415.jpg\n",
            "[144.925964 231.448425 304.659729 254.077377 370.253082 339.388885\n",
            " 346.79629500000004 390.006165 'leftturn' 'roadmark_0416.jpg']\n",
            "roadmark_0416.jpg\n",
            "[136.93927 230.11731 284.69302400000004 222.13061499999998 377.660492\n",
            " 340.623444 367.783966 409.759247 'leftturn' 'roadmark_0417.jpg']\n",
            "roadmark_0417.jpg\n",
            "[373.877716 448.42013499999996 445.757904 381.86438 327.043213 328.277771\n",
            " 308.524689 308.524689 'leftturn' 'roadmark_0418.jpg']\n",
            "roadmark_0418.jpg\n",
            "[375.208832 445.757904 447.08902 377.871063 331.981476 333.216034\n",
            " 308.524689 310.993835 'leftturn' 'roadmark_0419.jpg']\n",
            "roadmark_0419.jpg\n",
            "[365.891022 449.75125099999997 441.764557 380.53326400000003 333.216034\n",
            " 335.685181 308.524689 308.524689 'leftturn' 'roadmark_0420.jpg']\n",
            "roadmark_0420.jpg\n",
            "[355.242096 448.42013499999996 443.09567300000003 379.202148 335.685181\n",
            " 343.09259 313.46295200000003 310.993835 'leftturn' 'roadmark_0421.jpg']\n",
            "roadmark_0421.jpg\n",
            "[352.579865 457.737946 444.426788 373.877716 343.09259 343.09259 314.69754\n",
            " 313.46295200000003 'leftturn' 'roadmark_0422.jpg']\n",
            "roadmark_0422.jpg\n",
            "[356.573212 452.413483 445.757904 365.891022 349.265442 349.265442\n",
            " 314.69754 315.932098 'leftturn' 'roadmark_0423.jpg']\n",
            "roadmark_0423.jpg\n",
            "[340.599823 457.737946 445.757904 368.553253 350.5 355.438263 314.69754\n",
            " 317.166656 'leftturn' 'roadmark_0424.jpg']\n",
            "roadmark_0424.jpg\n",
            "[320.633118 455.07571399999995 436.44009400000004 360.566559 367.783966\n",
            " 367.783966 323.339508 323.339508 'leftturn' 'roadmark_0425.jpg']\n",
            "roadmark_0425.jpg\n",
            "[323.29534900000004 457.737946 443.09567300000003 355.242096 366.549377\n",
            " 366.549377 330.746918 327.043213 'leftturn' 'roadmark_0426.jpg']\n",
            "roadmark_0426.jpg\n",
            "[333.944275 459.06906100000003 447.08902 345.924286 376.425934 377.660492\n",
            " 331.981476 333.216034 'leftturn' 'roadmark_0427.jpg']\n",
            "roadmark_0427.jpg\n",
            "[315.308655 464.393524 441.764557 337.937592 386.30246 386.30246\n",
            " 339.388885 338.154327 'leftturn' 'roadmark_0428.jpg']\n",
            "roadmark_0428.jpg\n",
            "[311.315308 451.082367 440.433441 333.944275 393.70986899999997 396.179016\n",
            " 341.858032 343.09259 'leftturn' 'roadmark_0429.jpg']\n",
            "roadmark_0429.jpg\n",
            "[311.315308 464.393524 437.77120999999994 325.957581 402.351837 401.117279\n",
            " 338.154327 348.030853 'leftturn' 'roadmark_0430.jpg']\n",
            "roadmark_0430.jpg\n",
            "[348.586517 441.764557 432.44674699999996 356.573212 336.919739 336.919739\n",
            " 320.870361 320.870361 'stop' 'roadmark_0431.jpg']\n",
            "roadmark_0431.jpg\n",
            "[347.255402 436.44009400000004 428.4534 355.242096 339.388885 339.388885\n",
            " 320.870361 320.870361 'stop' 'roadmark_0432.jpg']\n",
            "roadmark_0432.jpg\n",
            "[347.255402 432.44674699999996 429.78451500000006 355.242096 340.623444\n",
            " 339.388885 320.870361 322.10495 'stop' 'roadmark_0433.jpg']\n",
            "roadmark_0433.jpg\n",
            "[341.930939 437.77120999999994 431.11563099999995 351.24874900000003\n",
            " 340.623444 339.388885 323.339508 323.339508 'stop' 'roadmark_0434.jpg']\n",
            "roadmark_0434.jpg\n",
            "[340.599823 435.10897800000004 428.4534 348.586517 343.09259 340.623444\n",
            " 323.339508 323.339508 'stop' 'roadmark_0435.jpg']\n",
            "roadmark_0435.jpg\n",
            "[333.944275 440.433441 428.4534 347.255402 344.327148 343.09259 323.339508\n",
            " 324.574066 'stop' 'roadmark_0436.jpg']\n",
            "roadmark_0436.jpg\n",
            "[331.28204300000004 443.09567300000003 432.44674699999996 341.930939\n",
            " 344.327148 344.327148 324.574066 324.574066 'stop' 'roadmark_0437.jpg']\n",
            "roadmark_0437.jpg\n",
            "[327.288696 441.764557 428.4534 343.262054 346.79629500000004 345.561737\n",
            " 325.808655 325.808655 'stop' 'roadmark_0438.jpg']\n",
            "roadmark_0438.jpg\n",
            "[325.957581 440.433441 428.4534 340.599823 349.265442 350.5 325.808655\n",
            " 327.043213 'stop' 'roadmark_0439.jpg']\n",
            "roadmark_0439.jpg\n",
            "[319.302002 443.09567300000003 428.4534 339.268707 354.20370499999996\n",
            " 349.265442 328.277771 329.51236 'stop' 'roadmark_0440.jpg']\n",
            "roadmark_0440.jpg\n",
            "[316.639771 440.433441 428.4534 337.937592 354.20370499999996\n",
            " 354.20370499999996 329.51236 329.51236 'stop' 'roadmark_0441.jpg']\n",
            "roadmark_0441.jpg\n",
            "[315.308655 441.764557 427.122284 333.944275 357.90741 355.438263\n",
            " 330.746918 330.746918 'stop' 'roadmark_0442.jpg']\n",
            "roadmark_0442.jpg\n",
            "[305.99084500000004 444.426788 427.122284 335.27536000000003 360.376556\n",
            " 360.376556 331.981476 333.216034 'stop' 'roadmark_0443.jpg']\n",
            "roadmark_0443.jpg\n",
            "[304.659729 441.764557 424.46005199999996 328.619812 366.549377 364.080261\n",
            " 333.216034 333.216034 'stop' 'roadmark_0444.jpg']\n",
            "roadmark_0444.jpg\n",
            "[295.341919 447.08902 427.122284 323.29534900000004 367.783966 367.783966\n",
            " 336.919739 336.919739 'stop' 'roadmark_0445.jpg']\n",
            "roadmark_0445.jpg\n",
            "[295.341919 449.75125099999997 435.10897800000004 317.970886 373.956787\n",
            " 373.956787 339.388885 340.623444 'stop' 'roadmark_0446.jpg']\n",
            "roadmark_0446.jpg\n",
            "[284.69302400000004 449.75125099999997 431.11563099999995 317.970886\n",
            " 377.660492 377.660492 341.858032 341.858032 'stop' 'roadmark_0447.jpg']\n",
            "roadmark_0447.jpg\n",
            "[271.381866 453.74459800000005 429.78451500000006 316.639771 382.598755\n",
            " 381.36419700000005 341.858032 344.327148 'stop' 'roadmark_0448.jpg']\n",
            "roadmark_0448.jpg\n",
            "[276.706329 449.75125099999997 428.4534 308.653076 386.30246 386.30246\n",
            " 345.561737 348.030853 'stop' 'roadmark_0449.jpg']\n",
            "roadmark_0449.jpg\n",
            "[272.712982 453.74459800000005 431.11563099999995 312.64642299999997\n",
            " 393.70986899999997 392.475311 348.030853 349.265442 'stop'\n",
            " 'roadmark_0450.jpg']\n",
            "roadmark_0450.jpg\n",
            "[266.057404 451.082367 432.44674699999996 304.659729 401.117279 398.648163\n",
            " 351.734558 354.20370499999996 'stop' 'roadmark_0451.jpg']\n",
            "roadmark_0451.jpg\n",
            "[256.739594 459.06906100000003 432.44674699999996 301.997498 404.820984\n",
            " 403.58642599999996 355.438263 357.90741 'stop' 'roadmark_0452.jpg']\n",
            "roadmark_0452.jpg\n",
            "[251.415146 460.4001769999999 437.77120999999994 300.666382 415.932098\n",
            " 415.932098 354.20370499999996 354.20370499999996 'stop'\n",
            " 'roadmark_0453.jpg']\n",
            "roadmark_0453.jpg\n",
            "[234.11064100000002 467.055725 441.764557 300.666382 419.635803 415.932098\n",
            " 361.611115 360.376556 'stop' 'roadmark_0454.jpg']\n",
            "roadmark_0454.jpg\n",
            "[300.666382 345.924286 356.573212 321.96423300000004 323.339508 328.277771\n",
            " 315.932098 313.46295200000003 'leftturn' 'roadmark_0455.jpg']\n",
            "roadmark_0455.jpg\n",
            "[295.341919 339.268707 352.579865 325.957581 320.870361 330.746918\n",
            " 318.401245 312.228394 'leftturn' 'roadmark_0456.jpg']\n",
            "roadmark_0456.jpg\n",
            "[291.34857200000005 319.302002 349.917633 335.27536000000003 322.10495\n",
            " 313.46295200000003 317.166656 333.216034 'leftturn' 'roadmark_0457.jpg']\n",
            "roadmark_0457.jpg\n",
            "[284.69302400000004 317.970886 348.586517 332.613159 322.10495 312.228394\n",
            " 318.401245 334.450623 'leftturn' 'roadmark_0458.jpg']\n",
            "roadmark_0458.jpg\n",
            "[280.699677 313.97753900000004 348.586517 332.613159 323.339508 314.69754\n",
            " 320.870361 335.685181 'leftturn' 'roadmark_0459.jpg']\n",
            "roadmark_0459.jpg\n",
            "[272.712982 312.64642299999997 343.262054 328.619812 325.808655 317.166656\n",
            " 319.63580299999995 338.154327 'leftturn' 'roadmark_0460.jpg']\n",
            "roadmark_0460.jpg\n",
            "[270.050751 307.32196 340.599823 324.626465 328.277771 318.401245\n",
            " 323.339508 340.623444 'leftturn' 'roadmark_0461.jpg']\n",
            "roadmark_0461.jpg\n",
            "[260.73294100000004 296.673035 336.606476 319.302002 333.216034 322.10495\n",
            " 323.339508 343.09259 'leftturn' 'roadmark_0462.jpg']\n",
            "roadmark_0462.jpg\n",
            "[258.07070899999997 294.01080299999995 332.613159 312.64642299999997\n",
            " 331.981476 323.339508 328.277771 348.030853 'leftturn'\n",
            " 'roadmark_0463.jpg']\n",
            "roadmark_0463.jpg\n",
            "[251.415146 287.355255 329.950928 303.32861299999996 336.919739 324.574066\n",
            " 330.746918 349.265442 'leftturn' 'roadmark_0464.jpg']\n",
            "roadmark_0464.jpg\n",
            "[238.103989 279.368561 325.957581 303.32861299999996 339.388885 327.043213\n",
            " 333.216034 350.5 'leftturn' 'roadmark_0465.jpg']\n",
            "roadmark_0465.jpg\n",
            "[232.77954100000002 276.706329 313.97753900000004 299.335266 340.623444\n",
            " 327.043213 334.450623 352.969147 'leftturn' 'roadmark_0466.jpg']\n",
            "roadmark_0466.jpg\n",
            "[222.13061499999998 268.719635 313.97753900000004 292.679688 344.327148\n",
            " 328.277771 336.919739 360.376556 'leftturn' 'roadmark_0467.jpg']\n",
            "roadmark_0467.jpg\n",
            "[208.819473 258.07070899999997 305.99084500000004 280.699677\n",
            " 346.79629500000004 333.216034 336.919739 366.549377 'leftturn'\n",
            " 'roadmark_0468.jpg']\n",
            "roadmark_0468.jpg\n",
            "[196.83943200000002 250.08402999999998 301.997498 272.712982\n",
            " 354.20370499999996 335.685181 343.09259 370.253082 'leftturn'\n",
            " 'roadmark_0469.jpg']\n",
            "roadmark_0469.jpg\n",
            "[179.534943 247.42179900000002 295.341919 260.73294100000004 357.90741\n",
            " 336.919739 350.5 380.129639 'leftturn' 'roadmark_0470.jpg']\n",
            "roadmark_0470.jpg\n",
            "[162.230453 226.123962 278.037445 243.428452 364.080261 344.327148\n",
            " 351.734558 387.53704799999997 'leftturn' 'roadmark_0471.jpg']\n",
            "roadmark_0471.jpg\n",
            "[150.250412 212.81280499999997 271.381866 224.79284700000002 369.018524\n",
            " 348.030853 357.90741 394.944458 'leftturn' 'roadmark_0472.jpg']\n",
            "roadmark_0472.jpg\n",
            "[128.952576 196.83943200000002 248.752914 208.819473 375.191345 352.969147\n",
            " 362.845673 407.29013100000003 'leftturn' 'roadmark_0473.jpg']\n",
            "roadmark_0473.jpg\n",
            "[103.6614 179.534943 246.090683 178.203827 382.598755 359.141968\n",
            " 370.253082 422.10495 'leftturn' 'roadmark_0474.jpg']\n",
            "roadmark_0474.jpg\n",
            "[74.376869 164.892685 227.455078 151.581528 394.944458 361.611115\n",
            " 382.598755 438.15432699999997 'leftturn' 'roadmark_0475.jpg']\n",
            "roadmark_0475.jpg\n",
            "[385.857727 444.426788 433.77786299999997 396.506653 327.043213 327.043213\n",
            " 312.228394 312.228394 'ped' 'roadmark_0476.jpg']\n",
            "roadmark_0476.jpg\n",
            "[389.85107400000004 440.433441 436.44009400000004 393.844421 327.043213\n",
            " 327.043213 315.932098 315.932098 'ped' 'roadmark_0477.jpg']\n",
            "roadmark_0477.jpg\n",
            "[389.85107400000004 444.426788 436.44009400000004 392.513306 329.51236\n",
            " 329.51236 315.932098 315.932098 'ped' 'roadmark_0478.jpg']\n",
            "roadmark_0478.jpg\n",
            "[287.355255 347.255402 364.559906 316.639771 330.746918 331.981476\n",
            " 318.401245 317.166656 'ped' 'roadmark_0479.jpg']\n",
            "roadmark_0479.jpg\n",
            "[385.857727 447.08902 436.44009400000004 391.18219 331.981476 330.746918\n",
            " 314.69754 315.932098 'ped' 'roadmark_0480.jpg']\n",
            "roadmark_0480.jpg\n",
            "[279.368561 340.599823 357.904327 312.64642299999997 331.981476 333.216034\n",
            " 319.63580299999995 319.63580299999995 'ped' 'roadmark_0481.jpg']\n",
            "roadmark_0481.jpg\n",
            "[385.857727 449.75125099999997 437.77120999999994 392.513306 334.450623\n",
            " 334.450623 315.932098 315.932098 'ped' 'roadmark_0482.jpg']\n",
            "roadmark_0482.jpg\n",
            "[275.375214 341.930939 360.566559 311.315308 334.450623 334.450623\n",
            " 319.63580299999995 319.63580299999995 'ped' 'roadmark_0483.jpg']\n",
            "roadmark_0483.jpg\n",
            "[383.195496 452.413483 441.764557 391.18219 335.685181 335.685181\n",
            " 318.401245 318.401245 'ped' 'roadmark_0484.jpg']\n",
            "roadmark_0484.jpg\n",
            "[272.712982 339.268707 355.242096 304.659729 336.919739 336.919739\n",
            " 320.870361 320.870361 'ped' 'roadmark_0485.jpg']\n",
            "roadmark_0485.jpg\n",
            "[381.86438 455.07571399999995 439.102325 388.51995800000003 339.388885\n",
            " 339.388885 319.63580299999995 319.63580299999995 'ped'\n",
            " 'roadmark_0486.jpg']\n",
            "roadmark_0486.jpg\n",
            "[260.73294100000004 337.937592 353.91098 298.00415 339.388885 339.388885\n",
            " 323.339508 323.339508 'ped' 'roadmark_0487.jpg']\n",
            "roadmark_0487.jpg\n",
            "[379.202148 460.4001769999999 443.09567300000003 389.85107400000004\n",
            " 344.327148 344.327148 322.10495 322.10495 'ped' 'roadmark_0488.jpg']\n",
            "roadmark_0488.jpg\n",
            "[255.40849300000002 331.28204300000004 348.586517 295.341919 343.09259\n",
            " 343.09259 324.574066 324.574066 'ped' 'roadmark_0489.jpg']\n",
            "roadmark_0489.jpg\n",
            "[379.202148 456.40682999999996 445.757904 388.51995800000003\n",
            " 346.79629500000004 346.79629500000004 324.574066 324.574066 'ped'\n",
            " 'roadmark_0490.jpg']\n",
            "roadmark_0490.jpg\n",
            "[246.090683 332.613159 347.255402 294.01080299999995 345.561737 345.561737\n",
            " 327.043213 327.043213 'ped' 'roadmark_0491.jpg']\n",
            "roadmark_0491.jpg\n",
            "[380.53326400000003 459.06906100000003 448.42013499999996\n",
            " 389.85107400000004 350.5 350.5 328.277771 328.277771 'ped'\n",
            " 'roadmark_0492.jpg']\n",
            "roadmark_0492.jpg\n",
            "[246.090683 325.957581 341.930939 283.361908 348.030853 348.030853\n",
            " 330.746918 330.746918 'ped' 'roadmark_0493.jpg']\n",
            "roadmark_0493.jpg\n",
            "[376.539948 465.72464 449.75125099999997 388.51995800000003 356.672852\n",
            " 356.672852 330.746918 330.746918 'ped' 'roadmark_0494.jpg']\n",
            "roadmark_0494.jpg\n",
            "[232.77954100000002 319.302002 339.268707 276.706329 352.969147\n",
            " 354.20370499999996 333.216034 333.216034 'ped' 'roadmark_0495.jpg']\n",
            "roadmark_0495.jpg\n",
            "[372.5466 471.04907199999997 451.082367 384.526611 361.611115 360.376556\n",
            " 331.981476 331.981476 'ped' 'roadmark_0496.jpg']\n",
            "roadmark_0496.jpg\n",
            "[212.81280499999997 303.32861299999996 336.606476 272.712982 359.141968\n",
            " 360.376556 336.919739 334.450623 'ped' 'roadmark_0497.jpg']\n",
            "roadmark_0497.jpg\n",
            "[368.553253 477.70465099999996 453.74459800000005 381.86438 366.549377\n",
            " 366.549377 335.685181 335.685181 'ped' 'roadmark_0498.jpg']\n",
            "roadmark_0498.jpg\n",
            "[202.163895 295.341919 331.28204300000004 263.395172 362.845673 365.314819\n",
            " 339.388885 339.388885 'ped' 'roadmark_0499.jpg']\n",
            "roadmark_0499.jpg\n",
            "[371.215485 487.022461 460.4001769999999 383.195496 376.425934 376.425934\n",
            " 341.858032 340.623444 'ped' 'roadmark_0500.jpg']\n",
            "roadmark_0500.jpg\n",
            "[179.534943 291.34857200000005 323.29534900000004 248.752914 369.018524\n",
            " 373.956787 344.327148 343.09259 'ped' 'roadmark_0501.jpg']\n",
            "roadmark_0501.jpg\n",
            "[359.23544300000003 489.684692 460.4001769999999 381.86438 385.067902\n",
            " 385.067902 345.561737 345.561737 'ped' 'roadmark_0502.jpg']\n",
            "roadmark_0502.jpg\n",
            "[167.554901 271.381866 320.633118 236.772873 375.191345 381.36419700000005\n",
            " 349.265442 348.030853 'ped' 'roadmark_0503.jpg']\n",
            "roadmark_0503.jpg\n",
            "[353.91098 500.33361799999994 468.386841 379.202148 394.944458 394.944458\n",
            " 350.5 350.5 'ped' 'roadmark_0504.jpg']\n",
            "roadmark_0504.jpg\n",
            "[143.594849 260.73294100000004 316.639771 226.123962 385.067902 390.006165\n",
            " 351.734558 351.734558 'ped' 'roadmark_0505.jpg']\n",
            "roadmark_0505.jpg\n",
            "[351.24874900000003 521.63147 471.04907199999997 372.5466\n",
            " 407.29013100000003 407.29013100000003 356.672852 355.438263 'ped'\n",
            " 'roadmark_0506.jpg']\n",
            "roadmark_0506.jpg\n",
            "[107.65473899999999 247.42179900000002 304.659729 218.137268\n",
            " 397.41357400000004 407.29013100000003 357.90741 355.438263 'ped'\n",
            " 'roadmark_0507.jpg']\n",
            "roadmark_0507.jpg\n",
            "[199.50166299999998 235.441757 258.07070899999997 238.103989 333.216034\n",
            " 324.574066 329.51236 338.154327 'leftturn' 'roadmark_0508.jpg']\n",
            "roadmark_0508.jpg\n",
            "[184.859406 223.46173100000001 260.73294100000004 224.79284700000002\n",
            " 334.450623 327.043213 327.043213 340.623444 'leftturn'\n",
            " 'roadmark_0509.jpg']\n",
            "roadmark_0509.jpg\n",
            "[180.866058 216.806152 250.08402999999998 218.137268 336.919739 328.277771\n",
            " 328.277771 344.327148 'leftturn' 'roadmark_0510.jpg']\n",
            "roadmark_0510.jpg\n",
            "[162.230453 210.15058900000002 238.103989 203.49501 339.388885 329.51236\n",
            " 336.919739 346.79629500000004 'leftturn' 'roadmark_0511.jpg']\n",
            "roadmark_0511.jpg\n",
            "[154.243759 200.83277900000002 232.77954100000002 190.183853 340.623444\n",
            " 331.981476 338.154327 351.734558 'leftturn' 'roadmark_0512.jpg']\n",
            "roadmark_0512.jpg\n",
            "[140.932617 191.514969 215.47503700000001 176.872711 344.327148 334.450623\n",
            " 343.09259 356.672852 'leftturn' 'roadmark_0513.jpg']\n",
            "roadmark_0513.jpg\n",
            "[123.62812 172.87936399999998 212.81280499999997 159.568222 349.265442\n",
            " 338.154327 344.327148 361.611115 'leftturn' 'roadmark_0514.jpg']\n",
            "roadmark_0514.jpg\n",
            "[106.323624 164.892685 190.183853 146.25706499999998 352.969147 340.623444\n",
            " 349.265442 365.314819 'leftturn' 'roadmark_0515.jpg']\n",
            "roadmark_0515.jpg\n",
            "[388.51995800000003 448.42013499999996 439.102325 397.837769 325.808655\n",
            " 325.808655 312.228394 312.228394 'xing' 'roadmark_0516.jpg']\n",
            "roadmark_0516.jpg\n",
            "[86.356903 143.594849 174.21048000000002 126.290352 355.438263 345.561737\n",
            " 349.265442 371.48764 'leftturn' 'roadmark_0517.jpg']\n",
            "roadmark_0517.jpg\n",
            "[389.85107400000004 452.413483 443.09567300000003 396.506653 327.043213\n",
            " 327.043213 313.46295200000003 313.46295200000003 'xing'\n",
            " 'roadmark_0518.jpg']\n",
            "roadmark_0518.jpg\n",
            "[388.51995800000003 451.082367 440.433441 393.844421 329.51236 328.277771\n",
            " 312.228394 313.46295200000003 'xing' 'roadmark_0519.jpg']\n",
            "roadmark_0519.jpg\n",
            "[294.01080299999995 361.897675 372.5466 324.626465 328.277771 329.51236\n",
            " 314.69754 315.932098 'xing' 'roadmark_0520.jpg']\n",
            "roadmark_0520.jpg\n",
            "[385.857727 453.74459800000005 441.764557 393.844421 330.746918 330.746918\n",
            " 314.69754 314.69754 'xing' 'roadmark_0521.jpg']\n",
            "roadmark_0521.jpg\n",
            "[284.69302400000004 355.242096 371.215485 327.288696 330.746918 331.981476\n",
            " 315.932098 315.932098 'xing' 'roadmark_0522.jpg']\n",
            "roadmark_0522.jpg\n",
            "[379.202148 457.737946 441.764557 392.513306 333.216034 333.216034\n",
            " 317.166656 317.166656 'xing' 'roadmark_0523.jpg']\n",
            "roadmark_0523.jpg\n",
            "[284.69302400000004 351.24874900000003 367.22213700000003 316.639771\n",
            " 331.981476 331.981476 319.63580299999995 319.63580299999995 'xing'\n",
            " 'roadmark_0524.jpg']\n",
            "roadmark_0524.jpg\n",
            "[381.86438 460.4001769999999 444.426788 392.513306 333.216034 333.216034\n",
            " 318.401245 318.401245 'xing' 'roadmark_0525.jpg']\n",
            "roadmark_0525.jpg\n",
            "[274.044098 349.917633 368.553253 320.633118 334.450623 334.450623\n",
            " 318.401245 317.166656 'xing' 'roadmark_0526.jpg']\n",
            "roadmark_0526.jpg\n",
            "[376.539948 465.72464 449.75125099999997 393.844421 339.388885 339.388885\n",
            " 319.63580299999995 319.63580299999995 'xing' 'roadmark_0527.jpg']\n",
            "roadmark_0527.jpg\n",
            "[271.381866 344.59317000000004 363.22879 307.32196 338.154327 338.154327\n",
            " 322.10495 322.10495 'xing' 'roadmark_0528.jpg']\n",
            "roadmark_0528.jpg\n",
            "[377.871063 465.72464 449.75125099999997 385.857727 341.858032 341.858032\n",
            " 322.10495 322.10495 'xing' 'roadmark_0529.jpg']\n",
            "roadmark_0529.jpg\n",
            "[259.401825 341.930939 360.566559 303.32861299999996 341.858032 341.858032\n",
            " 324.574066 324.574066 'xing' 'roadmark_0530.jpg']\n",
            "roadmark_0530.jpg\n",
            "[373.877716 473.711304 453.74459800000005 384.526611 348.030853 348.030853\n",
            " 325.808655 325.808655 'xing' 'roadmark_0531.jpg']\n",
            "roadmark_0531.jpg\n",
            "[248.752914 337.937592 360.566559 299.335266 346.79629500000004\n",
            " 346.79629500000004 327.043213 327.043213 'xing' 'roadmark_0532.jpg']\n",
            "roadmark_0532.jpg\n",
            "[372.5466 471.04907199999997 455.07571399999995 385.857727 351.734558\n",
            " 350.5 330.746918 330.746918 'xing' 'roadmark_0533.jpg']\n",
            "roadmark_0533.jpg\n",
            "[242.09733599999998 328.619812 352.579865 292.679688 349.265442 351.734558\n",
            " 331.981476 331.981476 'xing' 'roadmark_0534.jpg']\n",
            "roadmark_0534.jpg\n",
            "[372.5466 473.711304 459.06906100000003 383.195496 356.672852\n",
            " 354.20370499999996 331.981476 333.216034 'xing' 'roadmark_0535.jpg']\n",
            "roadmark_0535.jpg\n",
            "[234.11064100000002 325.957581 351.24874900000003 284.69302400000004\n",
            " 355.438263 355.438263 335.685181 334.450623 'xing' 'roadmark_0536.jpg']\n",
            "roadmark_0536.jpg\n",
            "[369.884369 480.36688200000003 455.07571399999995 380.53326400000003\n",
            " 360.376556 360.376556 334.450623 334.450623 'xing' 'roadmark_0537.jpg']\n",
            "roadmark_0537.jpg\n",
            "[218.137268 324.626465 344.59317000000004 275.375214 359.141968 360.376556\n",
            " 336.919739 335.685181 'xing' 'roadmark_0538.jpg']\n",
            "roadmark_0538.jpg\n",
            "[371.215485 484.360229 461.731293 385.857727 366.549377 366.549377\n",
            " 336.919739 336.919739 'xing' 'roadmark_0539.jpg']\n",
            "roadmark_0539.jpg\n",
            "[204.826126 309.984192 349.917633 264.726288 364.080261 366.549377\n",
            " 339.388885 339.388885 'xing' 'roadmark_0540.jpg']\n",
            "roadmark_0540.jpg\n",
            "[359.23544300000003 487.022461 465.72464 379.202148 376.425934 376.425934\n",
            " 340.623444 340.623444 'xing' 'roadmark_0541.jpg']\n",
            "roadmark_0541.jpg\n",
            "[187.521637 298.00415 339.268707 254.077377 370.253082 370.253082\n",
            " 344.327148 344.327148 'xing' 'roadmark_0542.jpg']\n",
            "roadmark_0542.jpg\n",
            "[353.91098 500.33361799999994 471.04907199999997 372.5466 385.067902\n",
            " 385.067902 344.327148 344.327148 'xing' 'roadmark_0543.jpg']\n",
            "roadmark_0543.jpg\n",
            "[163.561569 288.686371 333.944275 242.09733599999998 377.660492\n",
            " 381.36419700000005 349.265442 349.265442 'xing' 'roadmark_0544.jpg']\n",
            "roadmark_0544.jpg\n",
            "[345.924286 502.99585 469.717957 372.5466 392.475311 391.240753 348.030853\n",
            " 349.265442 'xing' 'roadmark_0545.jpg']\n",
            "roadmark_0545.jpg\n",
            "[148.919296 274.044098 321.96423300000004 224.79284700000002\n",
            " 387.53704799999997 392.475311 354.20370499999996 354.20370499999996\n",
            " 'xing' 'roadmark_0546.jpg']\n",
            "roadmark_0546.jpg\n",
            "[339.268707 525.624817 476.37353499999995 369.884369 409.759247 409.759247\n",
            " 354.20370499999996 355.438263 'xing' 'roadmark_0547.jpg']\n",
            "roadmark_0547.jpg\n",
            "[112.979202 262.064056 316.639771 211.48168900000002 401.117279\n",
            " 407.29013100000003 361.611115 359.141968 'xing' 'roadmark_0548.jpg']\n",
            "roadmark_0548.jpg\n",
            "[495.00915499999996 541.598145 576.2071530000001 514.975891 343.09259\n",
            " 340.623444 356.672852 359.141968 'bike' 'roadmark_0549.jpg']\n",
            "roadmark_0549.jpg\n",
            "[500.33361799999994 548.253723 589.518311 522.962585 346.79629500000004\n",
            " 345.561737 362.845673 365.314819 'bike' 'roadmark_0550.jpg']\n",
            "roadmark_0550.jpg\n",
            "[506.989197 562.895996 610.816162 536.273682 351.734558 350.5 375.191345\n",
            " 375.191345 'bike' 'roadmark_0551.jpg']\n",
            "roadmark_0551.jpg\n",
            "[512.3136599999999 576.2071530000001 624.127258 545.591492 357.90741\n",
            " 357.90741 382.598755 382.598755 'bike' 'roadmark_0552.jpg']\n",
            "roadmark_0552.jpg\n",
            "[487.022461 533.6115110000001 569.551575 509.651428 339.388885 339.388885\n",
            " 357.90741 357.90741 'bike' 'roadmark_0553.jpg']\n",
            "roadmark_0553.jpg\n",
            "[489.684692 540.267029 577.538269 517.6381230000001 343.09259 343.09259\n",
            " 361.611115 362.845673 'bike' 'roadmark_0554.jpg']\n",
            "roadmark_0554.jpg\n",
            "[496.340271 549.584839 593.511658 528.287048 348.030853 346.79629500000004\n",
            " 370.253082 370.253082 'bike' 'roadmark_0555.jpg']\n",
            "roadmark_0555.jpg\n",
            "[504.32696500000003 565.558228 609.485046 538.935913 354.20370499999996\n",
            " 354.20370499999996 376.425934 378.89505 'bike' 'roadmark_0556.jpg']\n",
            "roadmark_0556.jpg\n",
            "[510.982544 580.2005 633.445068 554.9093019999999 360.376556 360.376556\n",
            " 385.067902 391.240753 'bike' 'roadmark_0557.jpg']\n",
            "roadmark_0557.jpg\n",
            "[195.50831599999998 234.11064100000002 256.739594 230.11731 331.981476\n",
            " 324.574066 329.51236 339.388885 'leftturn' 'roadmark_0558.jpg']\n",
            "roadmark_0558.jpg\n",
            "[182.197174 226.123962 251.415146 219.468384 334.450623 325.808655\n",
            " 334.450623 343.09259 'leftturn' 'roadmark_0559.jpg']\n",
            "roadmark_0559.jpg\n",
            "[168.88601699999998 207.488358 244.759567 210.15058900000002 338.154327\n",
            " 329.51236 330.746918 346.79629500000004 'leftturn' 'roadmark_0560.jpg']\n",
            "roadmark_0560.jpg\n",
            "[156.905991 192.84608500000002 230.11731 194.1772 340.623444 331.981476\n",
            " 335.685181 350.5 'leftturn' 'roadmark_0561.jpg']\n",
            "roadmark_0561.jpg\n",
            "[139.601501 182.197174 220.7995 179.534943 344.327148 335.685181\n",
            " 339.388885 356.672852 'leftturn' 'roadmark_0562.jpg']\n",
            "roadmark_0562.jpg\n",
            "[115.641434 171.548248 198.170547 162.230453 348.030853 336.919739\n",
            " 345.561737 361.611115 'leftturn' 'roadmark_0563.jpg']\n",
            "roadmark_0563.jpg\n",
            "[176.872711 218.137268 243.428452 202.163895 335.685181 325.808655\n",
            " 331.981476 346.79629500000004 'leftturn' 'roadmark_0564.jpg']\n",
            "roadmark_0564.jpg\n",
            "[196.83943200000002 239.435104 264.726288 235.441757 328.277771 320.870361\n",
            " 325.808655 334.450623 'leftturn' 'roadmark_0565.jpg']\n",
            "roadmark_0565.jpg\n",
            "[184.859406 226.123962 247.42179900000002 220.7995 331.981476 323.339508\n",
            " 330.746918 339.388885 'leftturn' 'roadmark_0566.jpg']\n",
            "roadmark_0566.jpg\n",
            "[151.581528 206.157242 231.448425 196.83943200000002 340.623444 329.51236\n",
            " 333.216034 349.265442 'leftturn' 'roadmark_0567.jpg']\n",
            "roadmark_0567.jpg\n",
            "[139.601501 195.50831599999998 203.49501 179.534943 344.327148 333.216034\n",
            " 344.327148 354.20370499999996 'leftturn' 'roadmark_0568.jpg']\n",
            "roadmark_0568.jpg\n",
            "[114.310318 167.554901 199.50166299999998 155.574875 348.030853 338.154327\n",
            " 339.388885 362.845673 'leftturn' 'roadmark_0569.jpg']\n",
            "roadmark_0569.jpg\n",
            "[90.35025 146.25706499999998 178.203827 134.277039 352.969147 343.09259\n",
            " 349.265442 365.314819 'leftturn' 'roadmark_0570.jpg']\n",
            "roadmark_0570.jpg\n",
            "[65.059067 131.614807 156.905991 107.65473899999999 360.376556 345.561737\n",
            " 355.438263 375.191345 'leftturn' 'roadmark_0571.jpg']\n",
            "roadmark_0571.jpg\n",
            "[25.125624 97.005821 136.93927 66.390182 370.253082 352.969147 360.376556\n",
            " 388.771606 'leftturn' 'roadmark_0572.jpg']\n",
            "roadmark_0572.jpg\n",
            "[240.76622000000003 278.037445 298.00415 263.395172 319.63580299999995\n",
            " 310.993835 318.401245 327.043213 'leftturn' 'roadmark_0573.jpg']\n",
            "roadmark_0573.jpg\n",
            "[228.786194 272.712982 294.01080299999995 270.050751 322.10495\n",
            " 313.46295200000003 318.401245 327.043213 'leftturn' 'roadmark_0574.jpg']\n",
            "roadmark_0574.jpg\n",
            "[224.79284700000002 259.401825 288.686371 256.739594 323.339508 317.166656\n",
            " 319.63580299999995 330.746918 'leftturn' 'roadmark_0575.jpg']\n",
            "roadmark_0575.jpg\n",
            "[215.47503700000001 255.40849300000002 279.368561 250.08402999999998\n",
            " 324.574066 317.166656 322.10495 334.450623 'leftturn' 'roadmark_0576.jpg']\n",
            "roadmark_0576.jpg\n",
            "[202.163895 242.09733599999998 268.719635 244.759567 328.277771 320.870361\n",
            " 322.10495 335.685181 'leftturn' 'roadmark_0577.jpg']\n",
            "roadmark_0577.jpg\n",
            "[194.1772 234.11064100000002 262.064056 235.441757 328.277771 320.870361\n",
            " 325.808655 338.154327 'leftturn' 'roadmark_0578.jpg']\n",
            "roadmark_0578.jpg\n",
            "[178.203827 223.46173100000001 252.746262 224.79284700000002 331.981476\n",
            " 322.10495 328.277771 341.858032 'leftturn' 'roadmark_0579.jpg']\n",
            "roadmark_0579.jpg\n",
            "[164.892685 212.81280499999997 240.76622000000003 207.488358 336.919739\n",
            " 325.808655 333.216034 344.327148 'leftturn' 'roadmark_0580.jpg']\n",
            "roadmark_0580.jpg\n",
            "[147.588181 203.49501 228.786194 199.50166299999998 338.154327 328.277771\n",
            " 334.450623 349.265442 'leftturn' 'roadmark_0581.jpg']\n",
            "roadmark_0581.jpg\n",
            "[123.62812 180.866058 216.806152 179.534943 341.858032 333.216034\n",
            " 335.685181 355.438263 'leftturn' 'roadmark_0582.jpg']\n",
            "roadmark_0582.jpg\n",
            "[106.323624 172.87936399999998 196.83943200000002 152.912643 348.030853\n",
            " 333.216034 346.79629500000004 361.611115 'leftturn' 'roadmark_0583.jpg']\n",
            "roadmark_0583.jpg\n",
            "[75.707985 151.581528 179.534943 134.277039 352.969147 339.388885\n",
            " 352.969147 366.549377 'leftturn' 'roadmark_0584.jpg']\n",
            "roadmark_0584.jpg\n",
            "[43.76123 124.959236 162.230453 100.99916800000001 360.376556 344.327148\n",
            " 354.20370499999996 376.425934 'leftturn' 'roadmark_0585.jpg']\n",
            "roadmark_0585.jpg\n",
            "[513.644775 568.220459 618.8028559999999 548.253723 350.5 348.030853\n",
            " 370.253082 373.956787 'bike' 'roadmark_0586.jpg']\n",
            "roadmark_0586.jpg\n",
            "[525.624817 585.524963 653.411804 562.895996 359.141968 354.20370499999996\n",
            " 382.598755 385.067902 'bike' 'roadmark_0587.jpg']\n",
            "roadmark_0587.jpg\n",
            "[536.273682 604.160583 680.034119 589.518311 367.783966 362.845673\n",
            " 388.771606 401.117279 'bike' 'roadmark_0588.jpg']\n",
            "roadmark_0588.jpg\n",
            "[214.143921 248.752914 271.381866 248.752914 328.277771 319.63580299999995\n",
            " 325.808655 334.450623 'leftturn' 'roadmark_0589.jpg']\n",
            "roadmark_0589.jpg\n",
            "[203.49501 236.772873 264.726288 236.772873 329.51236 322.10495 325.808655\n",
            " 336.919739 'leftturn' 'roadmark_0590.jpg']\n",
            "roadmark_0590.jpg\n",
            "[190.183853 231.448425 262.064056 222.13061499999998 333.216034 324.574066\n",
            " 330.746918 340.623444 'leftturn' 'roadmark_0591.jpg']\n",
            "roadmark_0591.jpg\n",
            "[176.872711 219.468384 243.428452 216.806152 336.919739 328.277771\n",
            " 333.216034 344.327148 'leftturn' 'roadmark_0592.jpg']\n",
            "roadmark_0592.jpg\n",
            "[152.912643 198.170547 235.441757 204.826126 341.858032 331.981476\n",
            " 331.981476 349.265442 'leftturn' 'roadmark_0593.jpg']\n",
            "roadmark_0593.jpg\n",
            "[132.945923 187.521637 220.7995 182.197174 345.561737 334.450623 343.09259\n",
            " 355.438263 'leftturn' 'roadmark_0594.jpg']\n",
            "roadmark_0594.jpg\n",
            "[230.11731 259.401825 290.017456 267.388519 322.10495 315.932098\n",
            " 317.166656 325.808655 'leftturn' 'roadmark_0595.jpg']\n",
            "roadmark_0595.jpg\n",
            "[219.468384 254.077377 282.030792 255.40849300000002 323.339508 315.932098\n",
            " 319.63580299999995 329.51236 'leftturn' 'roadmark_0596.jpg']\n",
            "roadmark_0596.jpg\n",
            "[209.65332 250.843246 272.811218 241.68992599999999 323.34481800000003\n",
            " 315.586212 323.34481800000003 330.241394 'leftturn' 'roadmark_0597.jpg']\n",
            "roadmark_0597.jpg\n",
            "[197.753998 235.282608 261.82724 237.113266 325.93102999999996 320.758606\n",
            " 325.06897000000004 334.551727 'leftturn' 'roadmark_0598.jpg']\n",
            "roadmark_0598.jpg\n",
            "[182.19335900000002 227.044617 252.67392 218.806641 328.517242 322.482758\n",
            " 329.379303 338.0 'leftturn' 'roadmark_0599.jpg']\n",
            "roadmark_0599.jpg\n",
            "[169.378723 212.399307 241.68992599999999 208.737991 332.82757599999997\n",
            " 325.93102999999996 331.103455 342.310333 'leftturn' 'roadmark_0600.jpg']\n",
            "roadmark_0600.jpg\n",
            "[149.241425 196.83866899999998 235.282608 191.34668 336.275848 329.379303\n",
            " 334.551727 347.482758 'leftturn' 'roadmark_0601.jpg']\n",
            "roadmark_0601.jpg\n",
            "[130.934784 180.362701 211.48397799999998 173.955383 341.448273 331.965515\n",
            " 342.310333 352.65518199999997 'leftturn' 'roadmark_0602.jpg']\n",
            "roadmark_0602.jpg\n",
            "[106.220825 162.056061 193.177353 143.749435 346.620697 336.275848\n",
            " 348.34481800000003 360.413788 'leftturn' 'roadmark_0603.jpg']\n",
            "roadmark_0603.jpg\n",
            "[209.65332 240.77459700000003 265.488556 242.60527000000002\n",
            " 325.93102999999996 319.034485 324.206909 331.103455 'leftturn'\n",
            " 'roadmark_0604.jpg']\n",
            "roadmark_0604.jpg\n",
            "[285.625854 314.916473 355.191071 335.96911600000004 325.06897000000004\n",
            " 317.310333 319.034485 332.82757599999997 'leftturn' 'roadmark_0605.jpg']\n",
            "roadmark_0605.jpg\n",
            "[377.159027 391.804352 434.824951 445.808929 329.379303 316.448273\n",
            " 315.586212 328.517242 'rightturn' 'roadmark_0606.jpg']\n",
            "roadmark_0606.jpg\n",
            "[196.83866899999998 233.45195 259.081238 227.959961 326.793091 321.620697\n",
            " 324.206909 334.551727 'leftturn' 'roadmark_0607.jpg']\n",
            "roadmark_0607.jpg\n",
            "[281.964539 311.255157 348.783752 329.561798 328.517242 319.034485\n",
            " 322.482758 338.0 'leftturn' 'roadmark_0608.jpg']\n",
            "roadmark_0608.jpg\n",
            "[374.413055 389.97369399999997 439.40161100000006 449.47024500000003\n",
            " 333.689667 318.17242400000003 319.896545 331.965515 'rightturn'\n",
            " 'roadmark_0609.jpg']\n",
            "roadmark_0609.jpg\n",
            "[369.83639500000004 392.719666 439.40161100000006 450.38559000000004\n",
            " 335.413788 318.17242400000003 319.034485 338.0 'rightturn'\n",
            " 'roadmark_0610.jpg']\n",
            "roadmark_0610.jpg\n",
            "[272.811218 303.01715099999996 345.122437 326.815796 331.103455 320.758606\n",
            " 322.482758 340.586212 'leftturn' 'roadmark_0611.jpg']\n",
            "roadmark_0611.jpg\n",
            "[181.27803 221.55262799999997 254.50457799999998 221.55262799999997\n",
            " 330.241394 323.34481800000003 325.93102999999996 336.275848 'leftturn'\n",
            " 'roadmark_0612.jpg']\n",
            "roadmark_0612.jpg\n",
            "[368.005707 389.97369399999997 435.740265 452.21624800000006 338.862061\n",
            " 322.482758 320.758606 338.0 'rightturn' 'roadmark_0613.jpg']\n",
            "roadmark_0613.jpg\n",
            "[265.488556 299.355835 339.630432 324.069794 331.103455 322.482758\n",
            " 326.793091 342.310333 'leftturn' 'roadmark_0614.jpg']\n",
            "roadmark_0614.jpg\n",
            "[167.54805 213.31465099999997 248.09726 212.399307 332.82757599999997\n",
            " 324.206909 326.793091 339.724152 'leftturn' 'roadmark_0615.jpg']\n",
            "roadmark_0615.jpg\n",
            "[363.429077 388.143036 441.23226900000003 451.300903 342.310333 324.206909\n",
            " 324.206909 342.310333 'rightturn' 'roadmark_0616.jpg']\n",
            "roadmark_0616.jpg\n",
            "[253.58924900000002 288.371857 337.799774 310.339813 337.137939\n",
            " 325.06897000000004 331.965515 347.482758 'leftturn' 'roadmark_0617.jpg']\n",
            "roadmark_0617.jpg\n",
            "[155.648743 199.584671 229.790619 202.330658 335.413788 327.65518199999997\n",
            " 331.103455 342.310333 'leftturn' 'roadmark_0618.jpg']\n",
            "roadmark_0618.jpg\n",
            "[365.25973500000003 383.566376 445.808929 457.70825199999996 347.482758\n",
            " 325.06897000000004 328.517242 349.206909 'rightturn' 'roadmark_0619.jpg']\n",
            "roadmark_0619.jpg\n",
            "[242.60527000000002 283.79519700000003 326.815796 309.4245 338.862061\n",
            " 327.65518199999997 334.551727 350.06897000000004 'leftturn'\n",
            " 'roadmark_0620.jpg']\n",
            "roadmark_0620.jpg\n",
            "[141.91876200000002 195.008011 212.399307 178.532043 338.0 328.517242\n",
            " 338.0 348.34481800000003 'leftturn' 'roadmark_0621.jpg']\n",
            "roadmark_0621.jpg\n",
            "[352.445068 375.328369 446.72424299999994 459.53891 353.517242\n",
            " 327.65518199999997 329.379303 356.103455 'rightturn' 'roadmark_0622.jpg']\n",
            "roadmark_0622.jpg\n",
            "[231.621277 268.234558 325.90045200000003 290.202515 344.896545 331.103455\n",
            " 338.862061 356.103455 'leftturn' 'roadmark_0623.jpg']\n",
            "roadmark_0623.jpg\n",
            "[123.61212900000001 178.532043 204.16133100000002 159.310074\n",
            " 343.17242400000003 331.965515 341.448273 354.379303 'leftturn'\n",
            " 'roadmark_0624.jpg']\n",
            "roadmark_0624.jpg\n",
            "[350.61441 378.989716 442.147583 458.62356600000004 358.689667\n",
            " 332.82757599999997 332.82757599999997 355.241394 'rightturn'\n",
            " 'roadmark_0625.jpg']\n",
            "roadmark_0625.jpg\n",
            "[218.806641 256.335236 311.255157 291.117859 350.93102999999996 335.413788\n",
            " 338.0 361.275848 'leftturn' 'roadmark_0626.jpg']\n",
            "roadmark_0626.jpg\n",
            "[101.644165 158.39473 188.600693 152.90274 347.482758 334.551727\n",
            " 344.034485 356.965515 'leftturn' 'roadmark_0627.jpg']\n",
            "roadmark_0627.jpg\n",
            "[343.291748 371.66705299999995 448.554932 462.284912 366.448273 335.413788\n",
            " 336.275848 363.0 'rightturn' 'roadmark_0628.jpg']\n",
            "roadmark_0628.jpg\n",
            "[199.584671 254.50457799999998 311.255157 277.387878 352.65518199999997\n",
            " 336.275848 345.758606 369.034485 'leftturn' 'roadmark_0629.jpg']\n",
            "roadmark_0629.jpg\n",
            "[82.422195 140.08810400000002 170.294052 127.273453 349.206909 338.862061\n",
            " 345.758606 363.0 'leftturn' 'roadmark_0630.jpg']\n",
            "roadmark_0630.jpg\n",
            "[336.88443 372.582367 449.47024500000003 466.861542 374.206909 339.724152\n",
            " 342.310333 375.93102999999996 'rightturn' 'roadmark_0631.jpg']\n",
            "roadmark_0631.jpg\n",
            "[181.27803 230.705948 294.779175 259.081238 360.413788 342.310333\n",
            " 348.34481800000003 376.793091 'leftturn' 'roadmark_0632.jpg']\n",
            "roadmark_0632.jpg\n",
            "[60.45423100000001 119.03546899999999 151.987411 97.98284100000001\n",
            " 354.379303 342.310333 350.93102999999996 371.620697 'leftturn'\n",
            " 'roadmark_0633.jpg']\n",
            "roadmark_0633.jpg\n",
            "[322.239136 364.34439100000003 458.62356600000004 484.25286900000003\n",
            " 386.275848 343.17242400000003 349.206909 388.0 'rightturn'\n",
            " 'roadmark_0634.jpg']\n",
            "roadmark_0634.jpg\n",
            "[159.310074 216.06063799999998 284.71054100000003 236.19793700000002\n",
            " 369.896545 347.482758 356.965515 388.0 'leftturn' 'roadmark_0635.jpg']\n",
            "roadmark_0635.jpg\n",
            "[30.248283 95.236839 132.76544199999998 65.030891 360.413788\n",
            " 348.34481800000003 356.103455 380.241394 'leftturn' 'roadmark_0636.jpg']\n",
            "roadmark_0636.jpg\n",
            "[312.170471 490.660187 461.36956799999996 358.852417 402.65518199999997\n",
            " 401.793091 354.379303 352.65518199999997 'rightturn' 'roadmark_0637.jpg']\n",
            "roadmark_0637.jpg\n",
            "[125.44279499999999 226.129288 283.79519700000003 194.092682 381.103455\n",
            " 403.517242 362.137939 355.241394 'leftturn' 'roadmark_0638.jpg']\n",
            "roadmark_0638.jpg\n",
            "[6.449657 65.030891 112.628143 12.856978999999999 368.17242400000003\n",
            " 354.379303 362.137939 394.034485 'leftturn' 'roadmark_0639.jpg']\n",
            "roadmark_0639.jpg\n",
            "[370.751709 388.143036 440.316925 449.47024500000003 329.379303 313.862061\n",
            " 313.862061 333.689667 'rightturn' 'roadmark_0640.jpg']\n",
            "roadmark_0640.jpg\n",
            "[280.13388100000003 308.50915499999996 347.868408 334.138458\n",
            " 325.93102999999996 315.586212 319.896545 331.965515 'leftturn'\n",
            " 'roadmark_0641.jpg']\n",
            "roadmark_0641.jpg\n",
            "[197.753998 223.383301 254.50457799999998 235.282608 325.93102999999996\n",
            " 319.034485 321.620697 331.103455 'leftturn' 'roadmark_0642.jpg']\n",
            "roadmark_0642.jpg\n",
            "[367.090393 381.735687 441.23226900000003 445.808929 331.965515 316.448273\n",
            " 316.448273 334.551727 'rightturn' 'roadmark_0643.jpg']\n",
            "roadmark_0643.jpg\n",
            "[273.72653199999996 301.18649300000004 346.03775 329.561798 328.517242\n",
            " 319.034485 321.620697 335.413788 'leftturn' 'roadmark_0644.jpg']\n",
            "roadmark_0644.jpg\n",
            "[187.685349 219.72197000000003 251.758575 224.29862999999997 326.793091\n",
            " 320.758606 324.206909 333.689667 'leftturn' 'roadmark_0645.jpg']\n",
            "roadmark_0645.jpg\n",
            "[361.598389 384.481689 438.486267 449.47024500000003 334.551727 319.034485\n",
            " 319.034485 338.0 'rightturn' 'roadmark_0646.jpg']\n",
            "roadmark_0646.jpg\n",
            "[267.319214 295.694519 345.122437 320.408478 329.379303 320.758606\n",
            " 323.34481800000003 338.0 'leftturn' 'roadmark_0647.jpg']\n",
            "roadmark_0647.jpg\n",
            "[178.532043 215.145309 247.181915 211.48397799999998 328.517242 321.620697\n",
            " 326.793091 336.275848 'leftturn' 'roadmark_0648.jpg']\n",
            "roadmark_0648.jpg\n",
            "[359.767731 377.159027 441.23226900000003 442.147583 336.275848 320.758606\n",
            " 319.896545 336.275848 'rightturn' 'roadmark_0649.jpg']\n",
            "roadmark_0649.jpg\n",
            "[261.82724 287.45651200000003 332.30777 322.239136 331.103455 322.482758\n",
            " 322.482758 338.862061 'leftturn' 'roadmark_0650.jpg']\n",
            "roadmark_0650.jpg\n",
            "[165.717392 202.330658 238.02861000000001 208.737991 330.241394 324.206909\n",
            " 325.06897000000004 337.137939 'leftturn' 'roadmark_0651.jpg']\n",
            "roadmark_0651.jpg\n",
            "[360.683075 449.47024500000003 439.40161100000006 378.074371 339.724152\n",
            " 340.586212 319.896545 320.758606 'rightturn' 'roadmark_0652.jpg']\n",
            "roadmark_0652.jpg\n",
            "[241.68992599999999 287.45651200000003 338.715088 313.08581499999997\n",
            " 334.551727 320.758606 325.06897000000004 341.448273 'leftturn'\n",
            " 'roadmark_0653.jpg']\n",
            "roadmark_0653.jpg\n",
            "[155.648743 197.753998 233.45195 191.34668 331.965515 324.206909\n",
            " 328.517242 340.586212 'leftturn' 'roadmark_0654.jpg']\n",
            "roadmark_0654.jpg\n",
            "[348.783752 450.38559000000004 436.65560899999997 374.413055\n",
            " 343.17242400000003 343.17242400000003 321.620697 322.482758 'rightturn'\n",
            " 'roadmark_0655.jpg']\n",
            "roadmark_0655.jpg\n",
            "[239.85926800000001 304.847839 331.392456 282.879852 336.275848\n",
            " 343.17242400000003 330.241394 322.482758 'leftturn' 'roadmark_0656.jpg']\n",
            "roadmark_0656.jpg\n",
            "[141.003433 184.93936200000002 226.129288 175.78604099999998 337.137939\n",
            " 343.17242400000003 328.517242 325.93102999999996 'leftturn'\n",
            " 'roadmark_0657.jpg']\n",
            "roadmark_0657.jpg\n",
            "[351.52975499999997 448.554932 441.23226900000003 368.921051 345.758606\n",
            " 345.758606 322.482758 321.620697 'rightturn' 'roadmark_0658.jpg']\n",
            "roadmark_0658.jpg\n",
            "[228.87528999999998 299.355835 327.73111 267.319214 342.310333\n",
            " 348.34481800000003 331.103455 326.793091 'leftturn' 'roadmark_0659.jpg']\n",
            "roadmark_0659.jpg\n",
            "[130.934784 169.378723 213.31465099999997 182.19335900000002 336.275848\n",
            " 346.620697 332.82757599999997 326.793091 'leftturn' 'roadmark_0660.jpg']\n",
            "roadmark_0660.jpg\n",
            "[347.868408 449.47024500000003 439.40161100000006 371.66705299999995\n",
            " 351.793091 349.206909 324.206909 324.206909 'rightturn'\n",
            " 'roadmark_0661.jpg']\n",
            "roadmark_0661.jpg\n",
            "[220.637299 289.28717 316.747131 270.065216 342.310333 350.93102999999996\n",
            " 337.137939 326.793091 'leftturn' 'roadmark_0662.jpg']\n",
            "roadmark_0662.jpg\n",
            "[114.458809 157.479401 204.16133100000002 168.463394 339.724152\n",
            " 350.06897000000004 337.137939 330.241394 'leftturn' 'roadmark_0663.jpg']\n",
            "roadmark_0663.jpg\n",
            "[339.630432 452.21624800000006 435.740265 365.25973500000003 355.241394\n",
            " 353.517242 328.517242 328.517242 'rightturn' 'roadmark_0664.jpg']\n",
            "roadmark_0664.jpg\n",
            "[205.991989 284.71054100000003 314.001129 259.081238 346.620697 355.241394\n",
            " 339.724152 331.103455 'leftturn' 'roadmark_0665.jpg']\n",
            "roadmark_0665.jpg\n",
            "[103.47483100000001 153.818085 190.431351 152.90274 344.034485 333.689667\n",
            " 337.137939 351.793091 'leftturn' 'roadmark_0666.jpg']\n",
            "roadmark_0666.jpg\n",
            "[335.05377200000004 357.021729 439.40161100000006 447.639587\n",
            " 357.82757599999997 333.689667 334.551727 360.413788 'rightturn'\n",
            " 'roadmark_0667.jpg']\n",
            "roadmark_0667.jpg\n",
            "[206.907318 243.52059900000003 299.355835 278.30319199999997\n",
            " 348.34481800000003 336.275848 336.275848 363.0 'leftturn'\n",
            " 'roadmark_0668.jpg']\n",
            "roadmark_0668.jpg\n",
            "[87.914185 139.172775 177.616699 135.51144399999998 347.482758 337.137939\n",
            " 340.586212 356.965515 'leftturn' 'roadmark_0669.jpg']\n",
            "roadmark_0669.jpg\n",
            "[329.561798 357.937073 436.65560899999997 437.57092300000005 363.862061\n",
            " 336.275848 337.137939 362.137939 'rightturn' 'roadmark_0670.jpg']\n",
            "roadmark_0670.jpg\n",
            "[187.685349 232.536606 296.609833 269.149872 352.65518199999997 338.862061\n",
            " 339.724152 363.862061 'leftturn' 'roadmark_0671.jpg']\n",
            "roadmark_0671.jpg\n",
            "[71.43821700000001 117.204803 171.209381 116.289474 350.93102999999996\n",
            " 340.586212 342.310333 362.137939 'leftturn' 'roadmark_0672.jpg']\n",
            "roadmark_0672.jpg\n",
            "[318.577789 451.300903 437.57092300000005 350.61441 367.310333 366.448273\n",
            " 334.551727 336.275848 'rightturn' 'roadmark_0673.jpg']\n",
            "roadmark_0673.jpg\n",
            "[169.378723 225.213959 281.964539 259.081238 356.103455 340.586212\n",
            " 344.034485 369.896545 'leftturn' 'roadmark_0674.jpg']\n",
            "roadmark_0674.jpg\n",
            "[53.13158000000001 116.289474 151.987411 100.728836 354.379303 340.586212\n",
            " 350.06897000000004 365.586212 'leftturn' 'roadmark_0675.jpg']\n",
            "roadmark_0675.jpg\n",
            "[306.678497 339.630432 446.72424299999994 448.554932 373.34481800000003\n",
            " 338.862061 339.724152 372.482758 'rightturn' 'roadmark_0676.jpg']\n",
            "roadmark_0676.jpg\n",
            "[156.564072 208.737991 274.64187599999997 248.09726 363.862061\n",
            " 343.17242400000003 346.620697 376.793091 'leftturn' 'roadmark_0677.jpg']\n",
            "roadmark_0677.jpg\n",
            "[33.909611 99.813499 137.342102 87.914185 357.82757599999997 344.896545\n",
            " 348.34481800000003 370.758606 'leftturn' 'roadmark_0678.jpg']\n",
            "roadmark_0678.jpg\n",
            "[310.339813 454.046906 435.740265 335.96911600000004 378.517242 378.517242\n",
            " 344.034485 343.17242400000003 'rightturn' 'roadmark_0679.jpg']\n",
            "roadmark_0679.jpg\n",
            "[139.172775 229.790619 281.964539 199.584671 370.758606 381.965515\n",
            " 350.06897000000004 345.758606 'leftturn' 'roadmark_0680.jpg']\n",
            "roadmark_0680.jpg\n",
            "[14.687643 82.422195 119.03546899999999 62.284896999999994 362.137939\n",
            " 348.34481800000003 352.65518199999997 376.793091 'leftturn'\n",
            " 'roadmark_0681.jpg']\n",
            "roadmark_0681.jpg\n",
            "[299.355835 333.223114 433.90960700000005 440.316925 387.137939 344.896545\n",
            " 346.620697 385.413788 'rightturn' 'roadmark_0682.jpg']\n",
            "roadmark_0682.jpg\n",
            "[129.104126 183.10870400000002 252.67392 223.383301 369.896545\n",
            " 352.65518199999997 353.517242 391.448273 'leftturn' 'roadmark_0683.jpg']\n",
            "roadmark_0683.jpg\n",
            "[282.879852 326.815796 431.16360499999996 443.978271 398.34481800000003\n",
            " 350.93102999999996 349.206909 390.586212 'rightturn' 'roadmark_0684.jpg']\n",
            "roadmark_0684.jpg\n",
            "[110.79748500000001 180.362701 235.282608 205.991989 376.793091\n",
            " 350.93102999999996 362.137939 396.620697 'leftturn' 'roadmark_0685.jpg']\n",
            "roadmark_0685.jpg\n",
            "[271.89587400000005 323.154449 431.16360499999996 439.40161100000006\n",
            " 403.517242 350.93102999999996 356.103455 406.103455 'rightturn'\n",
            " 'roadmark_0686.jpg']\n",
            "roadmark_0686.jpg\n",
            "[97.06750500000001 151.07208300000002 224.29862999999997 181.27803\n",
            " 382.82757599999997 363.0 362.137939 410.413788 'leftturn'\n",
            " 'roadmark_0687.jpg']\n",
            "roadmark_0687.jpg\n",
            "[265.488556 454.96225 438.486267 313.08581499999997 417.310333 417.310333\n",
            " 363.862061 363.862061 'rightturn' 'roadmark_0688.jpg']\n",
            "roadmark_0688.jpg\n",
            "[51.300915 140.08810400000002 226.129288 164.80206299999998 395.758606\n",
            " 364.724152 368.17242400000003 419.034485 'leftturn' 'roadmark_0689.jpg']\n",
            "roadmark_0689.jpg\n",
            "[651.758606 711.2551269999999 716.747131 649.927917 354.379303 356.965515\n",
            " 376.793091 369.896545 'bike' 'roadmark_0690.jpg']\n",
            "roadmark_0690.jpg\n",
            "[643.520569 711.2551269999999 715.831787 646.2666019999999 354.379303\n",
            " 359.551727 381.103455 373.34481800000003 'bike' 'roadmark_0691.jpg']\n",
            "roadmark_0691.jpg\n",
            "[640.774597 703.932495 712.170471 645.351257 357.82757599999997 359.551727\n",
            " 382.82757599999997 377.65518199999997 'bike' 'roadmark_0692.jpg']\n",
            "roadmark_0692.jpg\n",
            "[638.028625 702.101807 708.509155 639.8592530000001 357.82757599999997\n",
            " 363.0 383.689667 378.517242 'bike' 'roadmark_0693.jpg']\n",
            "roadmark_0693.jpg\n",
            "[631.621277 696.609863 711.2551269999999 636.197937 360.413788 363.862061\n",
            " 386.275848 381.103455 'bike' 'roadmark_0694.jpg']\n",
            "roadmark_0694.jpg\n",
            "[631.621277 696.609863 714.916504 633.4519650000001 363.0 363.862061\n",
            " 392.310333 385.413788 'bike' 'roadmark_0695.jpg']\n",
            "roadmark_0695.jpg\n",
            "[621.5526120000001 692.948486 714.916504 635.282593 363.862061\n",
            " 368.17242400000003 394.034485 390.586212 'bike' 'roadmark_0696.jpg']\n",
            "roadmark_0696.jpg\n",
            "[621.5526120000001 692.0332030000001 716.747131 631.621277\n",
            " 368.17242400000003 370.758606 400.06897000000004 394.034485 'bike'\n",
            " 'roadmark_0697.jpg']\n",
            "roadmark_0697.jpg\n",
            "[620.637329 696.609863 716.747131 632.536621 372.482758 376.793091\n",
            " 403.517242 401.793091 'bike' 'roadmark_0698.jpg']\n",
            "roadmark_0698.jpg\n",
            "[214.22997999999998 248.09726 279.218536 252.67392 324.206909 319.034485\n",
            " 322.482758 329.379303 'leftturn' 'roadmark_0699.jpg']\n",
            "roadmark_0699.jpg\n",
            "[207.822647 238.02861000000001 273.72653199999996 249.92791699999998\n",
            " 325.93102999999996 320.758606 320.758606 331.965515 'leftturn'\n",
            " 'roadmark_0700.jpg']\n",
            "roadmark_0700.jpg\n",
            "[203.246002 239.85926800000001 267.319214 239.85926800000001\n",
            " 325.93102999999996 319.896545 323.34481800000003 333.689667 'leftturn'\n",
            " 'roadmark_0701.jpg']\n",
            "roadmark_0701.jpg\n",
            "[193.177353 231.621277 264.573242 231.621277 327.65518199999997 320.758606\n",
            " 323.34481800000003 336.275848 'leftturn' 'roadmark_0702.jpg']\n",
            "roadmark_0702.jpg\n",
            "[184.93936200000002 222.46795699999998 256.335236 225.213959 329.379303\n",
            " 323.34481800000003 325.06897000000004 337.137939 'leftturn'\n",
            " 'roadmark_0703.jpg']\n",
            "roadmark_0703.jpg\n",
            "[181.27803 214.22997999999998 243.52059900000003 216.06063799999998\n",
            " 331.103455 324.206909 328.517242 340.586212 'leftturn'\n",
            " 'roadmark_0704.jpg']\n",
            "roadmark_0704.jpg\n",
            "[164.80206299999998 208.737991 243.52059900000003 205.991989\n",
            " 332.82757599999997 325.93102999999996 329.379303 343.17242400000003\n",
            " 'leftturn' 'roadmark_0705.jpg']\n",
            "roadmark_0705.jpg\n",
            "[152.90274 193.177353 235.282608 195.92334 336.275848 328.517242\n",
            " 331.965515 346.620697 'leftturn' 'roadmark_0706.jpg']\n",
            "roadmark_0706.jpg\n",
            "[144.664764 187.685349 220.637299 183.10870400000002 338.0 331.103455\n",
            " 334.551727 348.34481800000003 'leftturn' 'roadmark_0707.jpg']\n",
            "roadmark_0707.jpg\n",
            "[125.44279499999999 168.463394 206.907318 170.294052 343.17242400000003\n",
            " 333.689667 337.137939 353.517242 'leftturn' 'roadmark_0708.jpg']\n",
            "roadmark_0708.jpg\n",
            "[108.96682 157.479401 196.83866899999998 156.564072 346.620697 336.275848\n",
            " 340.586212 356.965515 'leftturn' 'roadmark_0709.jpg']\n",
            "roadmark_0709.jpg\n",
            "[93.406181 142.834091 188.600693 139.172775 349.206909 339.724152\n",
            " 344.896545 363.0 'leftturn' 'roadmark_0710.jpg']\n",
            "roadmark_0710.jpg\n",
            "[70.52288100000001 132.76544199999998 173.955383 114.458809 353.517242\n",
            " 341.448273 348.34481800000003 369.896545 'leftturn' 'roadmark_0711.jpg']\n",
            "roadmark_0711.jpg\n",
            "[387.227692 445.808929 436.65560899999997 387.227692 337.137939 335.413788\n",
            " 316.448273 318.17242400000003 '35' 'roadmark_0712.jpg']\n",
            "roadmark_0712.jpg\n",
            "[279.218536 339.630432 348.783752 303.01715099999996 333.689667 336.275848\n",
            " 319.896545 318.17242400000003 '35' 'roadmark_0713.jpg']\n",
            "roadmark_0713.jpg\n",
            "[384.481689 443.978271 433.90960700000005 388.143036 338.0 338.862061\n",
            " 319.034485 319.034485 '35' 'roadmark_0714.jpg']\n",
            "roadmark_0714.jpg\n",
            "[273.72653199999996 329.561798 352.445068 301.18649300000004 334.551727\n",
            " 336.275848 321.620697 321.620697 '35' 'roadmark_0715.jpg']\n",
            "roadmark_0715.jpg\n",
            "[378.989716 447.639587 437.57092300000005 388.143036 340.586212 340.586212\n",
            " 322.482758 322.482758 '35' 'roadmark_0716.jpg']\n",
            "roadmark_0716.jpg\n",
            "[266.4039 320.408478 345.122437 297.525177 338.862061 341.448273\n",
            " 325.06897000000004 321.620697 '35' 'roadmark_0717.jpg']\n",
            "roadmark_0717.jpg\n",
            "[380.820374 455.877563 442.147583 390.889008 344.034485 344.034485\n",
            " 324.206909 324.206909 '35' 'roadmark_0718.jpg']\n",
            "roadmark_0718.jpg\n",
            "[259.081238 326.815796 342.37643399999996 293.863831 339.724152 344.896545\n",
            " 326.793091 323.34481800000003 '35' 'roadmark_0719.jpg']\n",
            "roadmark_0719.jpg\n",
            "[380.820374 453.131592 439.40161100000006 388.143036 350.06897000000004\n",
            " 349.206909 326.793091 325.93102999999996 '35' 'roadmark_0720.jpg']\n",
            "roadmark_0720.jpg\n",
            "[249.92791699999998 318.577789 341.46109 286.541199 344.034485 347.482758\n",
            " 328.517242 325.93102999999996 '35' 'roadmark_0721.jpg']\n",
            "roadmark_0721.jpg\n",
            "[378.074371 456.792908 441.23226900000003 389.05835 354.379303 354.379303\n",
            " 328.517242 328.517242 '35' 'roadmark_0722.jpg']\n",
            "roadmark_0722.jpg\n",
            "[233.45195 308.50915499999996 338.715088 282.879852 350.06897000000004\n",
            " 353.517242 332.82757599999997 329.379303 '35' 'roadmark_0723.jpg']\n",
            "roadmark_0723.jpg\n",
            "[375.328369 457.70825199999996 446.72424299999994 383.566376 356.103455\n",
            " 357.82757599999997 331.103455 332.82757599999997 '35' 'roadmark_0724.jpg']\n",
            "roadmark_0724.jpg\n",
            "[223.383301 297.525177 333.223114 277.387878 355.241394 358.689667\n",
            " 335.413788 329.379303 '35' 'roadmark_0725.jpg']\n",
            "roadmark_0725.jpg\n",
            "[376.243713 463.200226 452.21624800000006 384.481689 364.724152 364.724152\n",
            " 334.551727 334.551727 '35' 'roadmark_0726.jpg']\n",
            "roadmark_0726.jpg\n",
            "[212.399307 297.525177 329.561798 259.081238 359.551727 363.862061 338.0\n",
            " 336.275848 '35' 'roadmark_0727.jpg']\n",
            "roadmark_0727.jpg\n",
            "[367.090393 467.77688600000005 453.131592 384.481689 370.758606 369.034485\n",
            " 338.0 338.862061 '35' 'roadmark_0728.jpg']\n",
            "roadmark_0728.jpg\n",
            "[192.262009 276.472534 322.239136 251.758575 363.862061 369.034485\n",
            " 344.034485 338.0 '35' 'roadmark_0729.jpg']\n",
            "roadmark_0729.jpg\n",
            "[367.090393 473.26889000000006 454.046906 382.651031 378.517242\n",
            " 377.65518199999997 343.17242400000003 343.17242400000003 '35'\n",
            " 'roadmark_0730.jpg']\n",
            "roadmark_0730.jpg\n",
            "[170.294052 272.811218 312.170471 233.45195 375.93102999999996\n",
            " 375.93102999999996 346.620697 343.17242400000003 '35' 'roadmark_0731.jpg']\n",
            "roadmark_0731.jpg\n",
            "[357.021729 474.184204 457.70825199999996 376.243713 392.310333 389.724152\n",
            " 348.34481800000003 347.482758 '35' 'roadmark_0732.jpg']\n",
            "roadmark_0732.jpg\n",
            "[154.73341399999998 258.165894 300.271179 219.72197000000003 381.103455\n",
            " 385.413788 349.206909 346.620697 '35' 'roadmark_0733.jpg']\n",
            "roadmark_0733.jpg\n",
            "[358.852417 488.829529 463.200226 378.989716 400.93102999999996\n",
            " 400.93102999999996 351.793091 350.93102999999996 '35' 'roadmark_0734.jpg']\n",
            "roadmark_0734.jpg\n",
            "[122.696793 226.129288 309.4245 203.246002 388.862061 400.06897000000004\n",
            " 354.379303 351.793091 '35' 'roadmark_0735.jpg']\n",
            "roadmark_0735.jpg\n",
            "[359.767731 497.98284900000004 468.69223 367.090393 418.17242400000003\n",
            " 414.724152 360.413788 363.862061 '35' 'roadmark_0736.jpg']\n",
            "roadmark_0736.jpg\n",
            "[63.200230000000005 179.447372 292.948517 217.89129599999998 405.241394\n",
            " 362.137939 362.137939 411.275848 '35' 'roadmark_0737.jpg']\n",
            "roadmark_0737.jpg\n",
            "[196.83866899999998 225.213959 253.58924900000002 223.383301\n",
            " 325.06897000000004 319.896545 324.206909 333.689667 'leftturn'\n",
            " 'roadmark_0738.jpg']\n",
            "roadmark_0738.jpg\n",
            "[184.024033 222.46795699999998 242.60527000000002 218.806641\n",
            " 327.65518199999997 319.896545 326.793091 337.137939 'leftturn'\n",
            " 'roadmark_0739.jpg']\n",
            "roadmark_0739.jpg\n",
            "[173.955383 211.48397799999998 236.19793700000002 210.56864900000002\n",
            " 328.517242 322.482758 331.103455 338.0 'leftturn' 'roadmark_0740.jpg']\n",
            "roadmark_0740.jpg\n",
            "[157.479401 196.83866899999998 234.367279 194.092682 331.103455\n",
            " 325.93102999999996 330.241394 343.17242400000003 'leftturn'\n",
            " 'roadmark_0741.jpg']\n",
            "roadmark_0741.jpg\n",
            "[143.749435 189.516022 215.145309 179.447372 334.551727 327.65518199999997\n",
            " 337.137939 346.620697 'leftturn' 'roadmark_0742.jpg']\n",
            "roadmark_0742.jpg\n",
            "[120.86613500000001 177.616699 196.83866899999998 171.209381 340.586212\n",
            " 330.241394 338.0 348.34481800000003 'leftturn' 'roadmark_0743.jpg']\n",
            "roadmark_0743.jpg\n",
            "[103.47483100000001 160.225403 186.77002 147.410751 342.310333\n",
            " 332.82757599999997 343.17242400000003 354.379303 'leftturn'\n",
            " 'roadmark_0744.jpg']\n",
            "roadmark_0744.jpg\n",
            "[76.93020600000001 141.003433 169.378723 125.44279499999999 347.482758\n",
            " 336.275848 344.896545 358.689667 'leftturn' 'roadmark_0745.jpg']\n",
            "roadmark_0745.jpg\n",
            "[59.538902 114.458809 147.410751 108.96682 351.793091 340.586212\n",
            " 347.482758 366.448273 'leftturn' 'roadmark_0746.jpg']\n",
            "roadmark_0746.jpg\n",
            "[186.77002 221.55262799999997 248.09726 218.806641 327.65518199999997\n",
            " 321.620697 325.93102999999996 334.551727 'leftturn' 'roadmark_0747.jpg']\n",
            "roadmark_0747.jpg\n",
            "[196.83866899999998 227.044617 265.488556 230.705948 327.65518199999997\n",
            " 322.482758 325.06897000000004 336.275848 'leftturn' 'roadmark_0748.jpg']\n",
            "roadmark_0748.jpg\n",
            "[182.19335900000002 222.46795699999998 254.50457799999998\n",
            " 216.06063799999998 331.103455 324.206909 328.517242 341.448273 'leftturn'\n",
            " 'roadmark_0749.jpg']\n",
            "roadmark_0749.jpg\n",
            "[162.056061 203.246002 245.35125699999998 203.246002 334.551727 326.793091\n",
            " 331.965515 345.758606 'leftturn' 'roadmark_0750.jpg']\n",
            "roadmark_0750.jpg\n",
            "[378.989716 436.65560899999997 434.824951 391.804352 308.689667 310.413788\n",
            " 296.620697 296.620697 '40' 'roadmark_0751.jpg']\n",
            "roadmark_0751.jpg\n",
            "[292.033173 357.021729 367.090393 327.73111 305.241394 308.689667\n",
            " 295.758606 295.758606 '40' 'roadmark_0752.jpg']\n",
            "roadmark_0752.jpg\n",
            "[364.34439100000003 441.23226900000003 426.586945 390.889008 313.0\n",
            " 313.862061 289.724152 289.724152 'rightturn' 'roadmark_0753.jpg']\n",
            "roadmark_0753.jpg\n",
            "[388.143036 440.316925 434.824951 392.719666 309.551727 309.551727\n",
            " 295.758606 295.758606 '35' 'roadmark_0754.jpg']\n",
            "roadmark_0754.jpg\n",
            "[285.625854 342.37643399999996 360.683075 316.747131 309.551727 310.413788\n",
            " 297.482758 298.34481800000003 '35' 'roadmark_0755.jpg']\n",
            "roadmark_0755.jpg\n",
            "[295.694519 346.03775 350.61441 312.170471 344.896545 345.758606\n",
            " 326.793091 326.793091 'diamond' 'roadmark_0756.jpg']\n",
            "roadmark_0756.jpg\n",
            "[273.72653199999996 346.953094 356.10641499999997 307.59381099999996\n",
            " 343.17242400000003 346.620697 325.93102999999996 325.06897000000004 'car'\n",
            " 'roadmark_0757.jpg']\n",
            "roadmark_0757.jpg\n",
            "[244.435928 339.630432 350.61441 287.45651200000003 349.206909 351.793091\n",
            " 329.379303 326.793091 'pool' 'roadmark_0758.jpg']\n",
            "roadmark_0758.jpg\n",
            "[230.705948 335.96911600000004 348.783752 277.387878 351.793091 355.241394\n",
            " 331.103455 331.965515 'lane' 'roadmark_0759.jpg']\n",
            "roadmark_0759.jpg\n",
            "[217.89129599999998 244.435928 277.387878 257.25057999999996 311.275848\n",
            " 306.103455 306.103455 314.724152 'leftturn' 'roadmark_0760.jpg']\n",
            "roadmark_0760.jpg\n",
            "[202.330658 242.60527000000002 267.319214 246.266586 313.0 305.241394\n",
            " 307.82757599999997 319.034485 'leftturn' 'roadmark_0761.jpg']\n",
            "roadmark_0761.jpg\n",
            "[188.600693 233.45195 265.488556 239.85926800000001 316.448273\n",
            " 307.82757599999997 309.551727 321.620697 'leftturn' 'roadmark_0762.jpg']\n",
            "roadmark_0762.jpg\n",
            "[177.616699 226.129288 259.081238 231.621277 319.034485 308.689667\n",
            " 310.413788 322.482758 'leftturn' 'roadmark_0763.jpg']\n",
            "roadmark_0763.jpg\n",
            "[172.12471000000002 212.399307 245.35125699999998 218.806641 319.034485\n",
            " 310.413788 312.137939 326.793091 'leftturn' 'roadmark_0764.jpg']\n",
            "roadmark_0764.jpg\n",
            "[154.73341399999998 202.330658 237.113266 206.907318 325.06897000000004\n",
            " 313.0 316.448273 329.379303 'leftturn' 'roadmark_0765.jpg']\n",
            "roadmark_0765.jpg\n",
            "[137.342102 187.685349 223.383301 187.685349 329.379303 316.448273\n",
            " 319.896545 333.689667 'leftturn' 'roadmark_0766.jpg']\n",
            "roadmark_0766.jpg\n",
            "[110.79748500000001 165.717392 213.31465099999997 171.209381 335.413788\n",
            " 321.620697 321.620697 341.448273 'leftturn' 'roadmark_0767.jpg']\n",
            "roadmark_0767.jpg\n",
            "[89.74485 157.479401 203.246002 161.140732 340.586212 323.34481800000003\n",
            " 325.06897000000004 344.896545 'leftturn' 'roadmark_0768.jpg']\n",
            "roadmark_0768.jpg\n",
            "[65.94622 124.52745800000001 174.870712 139.172775 346.620697 330.241394\n",
            " 331.965515 350.93102999999996 'leftturn' 'roadmark_0769.jpg']\n",
            "roadmark_0769.jpg\n",
            "[37.570938 114.458809 165.717392 102.559494 353.517242 331.965515\n",
            " 335.413788 360.413788 'leftturn' 'roadmark_0770.jpg']\n",
            "roadmark_0770.jpg\n",
            "[292.948517 323.154449 360.683075 338.715088 301.793091 294.034485\n",
            " 297.482758 308.689667 'leftturn' 'roadmark_0771.jpg']\n",
            "roadmark_0771.jpg\n",
            "[285.625854 317.66247599999997 348.783752 337.799774 305.241394 295.758606\n",
            " 297.482758 311.275848 'leftturn' 'roadmark_0772.jpg']\n",
            "roadmark_0772.jpg\n",
            "[278.30319199999997 311.255157 351.52975499999997 334.138458 305.241394\n",
            " 297.482758 299.206909 312.137939 'leftturn' 'roadmark_0773.jpg']\n",
            "roadmark_0773.jpg\n",
            "[274.64187599999997 303.932495 346.953094 330.47711200000003 309.551727\n",
            " 299.206909 301.793091 315.586212 'leftturn' 'roadmark_0774.jpg']\n",
            "roadmark_0774.jpg\n",
            "[268.234558 294.779175 344.207092 324.069794 313.0 302.65518199999997\n",
            " 303.517242 315.586212 'leftturn' 'roadmark_0775.jpg']\n",
            "roadmark_0775.jpg\n",
            "[259.081238 288.371857 341.46109 321.32379199999997 316.448273 305.241394\n",
            " 306.965515 319.034485 'leftturn' 'roadmark_0776.jpg']\n",
            "roadmark_0776.jpg\n",
            "[249.92791699999998 281.964539 335.96911600000004 314.916473\n",
            " 318.17242400000003 308.689667 309.551727 324.206909 'leftturn'\n",
            " 'roadmark_0777.jpg']\n",
            "roadmark_0777.jpg\n",
            "[240.77459700000003 278.30319199999997 329.561798 305.763153 322.482758\n",
            " 308.689667 310.413788 327.65518199999997 'leftturn' 'roadmark_0778.jpg']\n",
            "roadmark_0778.jpg\n",
            "[189.516022 225.213959 252.67392 232.536606 300.93102999999996 292.310333\n",
            " 294.034485 306.965515 'leftturn' 'roadmark_0779.jpg']\n",
            "roadmark_0779.jpg\n",
            "[177.616699 213.31465099999997 253.58924900000002 222.46795699999998\n",
            " 304.379303 296.620697 298.34481800000003 310.413788 'leftturn'\n",
            " 'roadmark_0780.jpg']\n",
            "roadmark_0780.jpg\n",
            "[157.479401 205.991989 237.113266 211.48397799999998 310.413788 299.206909\n",
            " 300.93102999999996 314.724152 'leftturn' 'roadmark_0781.jpg']\n",
            "roadmark_0781.jpg\n",
            "[150.156754 198.669342 228.87528999999998 198.669342 311.275848\n",
            " 300.93102999999996 303.517242 317.310333 'leftturn' 'roadmark_0782.jpg']\n",
            "roadmark_0782.jpg\n",
            "[144.664764 185.854691 213.31465099999997 187.685349 310.413788 303.517242\n",
            " 306.103455 320.758606 'leftturn' 'roadmark_0783.jpg']\n",
            "roadmark_0783.jpg\n",
            "[117.204803 164.80206299999998 208.737991 169.378723 317.310333 306.965515\n",
            " 307.82757599999997 323.34481800000003 'leftturn' 'roadmark_0784.jpg']\n",
            "roadmark_0784.jpg\n",
            "[94.32151 146.495422 189.516022 146.495422 321.620697 310.413788\n",
            " 311.275848 325.93102999999996 'leftturn' 'roadmark_0785.jpg']\n",
            "roadmark_0785.jpg\n",
            "[73.268883 130.019455 173.955383 133.680771 328.517242 313.0 315.586212\n",
            " 331.103455 'leftturn' 'roadmark_0786.jpg']\n",
            "roadmark_0786.jpg\n",
            "[43.062927 108.051491 160.225403 108.96682 331.965515 318.17242400000003\n",
            " 319.896545 337.137939 'leftturn' 'roadmark_0787.jpg']\n",
            "roadmark_0787.jpg\n",
            "[25.671625 84.252861 130.019455 88.829521 336.275848 322.482758 324.206909\n",
            " 343.17242400000003 'leftturn' 'roadmark_0788.jpg']\n",
            "roadmark_0788.jpg\n",
            "[133.680771 173.955383 211.48397799999998 183.10870400000002\n",
            " 318.17242400000003 308.689667 311.275848 325.93102999999996 'leftturn'\n",
            " 'roadmark_0789.jpg']\n",
            "roadmark_0789.jpg\n",
            "[117.204803 164.80206299999998 199.584671 172.12471000000002 320.758606\n",
            " 312.137939 311.275848 329.379303 'leftturn' 'roadmark_0790.jpg']\n",
            "roadmark_0790.jpg\n",
            "[105.305489 147.410751 187.685349 156.564072 324.206909 313.0 316.448273\n",
            " 332.82757599999997 'leftturn' 'roadmark_0791.jpg']\n",
            "roadmark_0791.jpg\n",
            "[81.506866 132.76544199999998 174.870712 134.596115 327.65518199999997\n",
            " 316.448273 320.758606 340.586212 'leftturn' 'roadmark_0792.jpg']\n",
            "roadmark_0792.jpg\n",
            "[128.188782 163.88673400000002 213.31465099999997 173.955383 322.482758\n",
            " 313.0 312.137939 331.965515 'leftturn' 'roadmark_0793.jpg']\n",
            "roadmark_0793.jpg\n",
            "[103.47483100000001 151.07208300000002 203.246002 162.056061 326.793091\n",
            " 314.724152 315.586212 331.103455 'leftturn' 'roadmark_0794.jpg']\n",
            "roadmark_0794.jpg\n",
            "[97.06750500000001 138.257431 183.10870400000002 141.91876200000002\n",
            " 324.206909 314.724152 316.448273 337.137939 'leftturn'\n",
            " 'roadmark_0795.jpg']\n",
            "roadmark_0795.jpg\n",
            "[568.463379 593.177368 629.790588 611.484009 292.310333 288.862061\n",
            " 297.482758 301.793091 'rightturn' 'roadmark_0796.jpg']\n",
            "roadmark_0796.jpg\n",
            "[570.294067 592.262024 633.4519650000001 616.0606690000001 291.448273\n",
            " 289.724152 296.620697 302.65518199999997 'rightturn' 'roadmark_0797.jpg']\n",
            "roadmark_0797.jpg\n",
            "[575.786011 588.600708 640.774597 629.790588 292.310333 288.0 295.758606\n",
            " 303.517242 'rightturn' 'roadmark_0798.jpg']\n",
            "roadmark_0798.jpg\n",
            "[587.6853639999999 596.838684 644.435913 638.028625 294.034485 289.724152\n",
            " 295.758606 305.241394 'rightturn' 'roadmark_0799.jpg']\n",
            "roadmark_0799.jpg\n",
            "[583.108704 605.07666 658.1658940000001 644.435913 292.310333 288.0\n",
            " 295.758606 305.241394 'rightturn' 'roadmark_0800.jpg']\n",
            "roadmark_0800.jpg\n",
            "[592.262024 605.992004 672.8112179999999 661.827209 291.448273 289.724152\n",
            " 297.482758 308.689667 'rightturn' 'roadmark_0801.jpg']\n",
            "roadmark_0801.jpg\n",
            "[607.822632 619.721985 686.541199 670.065247 295.758606 289.724152\n",
            " 300.06897000000004 309.551727 'rightturn' 'roadmark_0802.jpg']\n",
            "roadmark_0802.jpg\n",
            "[606.9073490000001 624.298645 695.694519 684.71051 293.17242400000003\n",
            " 289.724152 300.06897000000004 311.275848 'rightturn' 'roadmark_0803.jpg']\n",
            "roadmark_0803.jpg\n",
            "[616.0606690000001 630.705933 704.847839 693.863831 295.758606 291.448273\n",
            " 300.06897000000004 313.0 'rightturn' 'roadmark_0804.jpg']\n",
            "roadmark_0804.jpg\n",
            "[625.213989 636.197937 719.493164 714.916504 295.758606 291.448273\n",
            " 302.65518199999997 314.724152 'rightturn' 'roadmark_0805.jpg']\n",
            "roadmark_0805.jpg\n",
            "[638.943909 647.181946 736.88446 732.3078 299.206909 292.310333 304.379303\n",
            " 319.034485 'rightturn' 'roadmark_0806.jpg']\n",
            "roadmark_0806.jpg\n",
            "[652.6738889999999 660.911926 768.0057370000001 742.376404 301.793091\n",
            " 294.896545 311.275848 319.034485 'rightturn' 'roadmark_0807.jpg']\n",
            "roadmark_0807.jpg\n",
            "[655.4199219999999 670.065247 774.413025 761.598389 302.65518199999997\n",
            " 295.758606 311.275848 322.482758 'rightturn' 'roadmark_0808.jpg']\n",
            "roadmark_0808.jpg\n",
            "[669.149902 685.625854 791.804321 773.497742 302.65518199999997 297.482758\n",
            " 315.586212 322.482758 'rightturn' 'roadmark_0809.jpg']\n",
            "roadmark_0809.jpg\n",
            "[166.632721 209.65332 238.943939 203.246002 313.862061 305.241394\n",
            " 306.103455 317.310333 'leftturn' 'roadmark_0810.jpg']\n",
            "roadmark_0810.jpg\n",
            "[146.495422 189.516022 229.790619 189.516022 316.448273 307.82757599999997\n",
            " 306.965515 323.34481800000003 'leftturn' 'roadmark_0811.jpg']\n",
            "roadmark_0811.jpg\n",
            "[130.019455 171.209381 216.06063799999998 182.19335900000002 320.758606\n",
            " 310.413788 306.965515 323.34481800000003 'leftturn' 'roadmark_0812.jpg']\n",
            "roadmark_0812.jpg\n",
            "[120.86613500000001 179.447372 208.737991 173.955383 322.482758 309.551727\n",
            " 310.413788 326.793091 'leftturn' 'roadmark_0813.jpg']\n",
            "roadmark_0813.jpg\n",
            "[116.289474 158.39473 186.77002 159.310074 320.758606 313.0 313.0\n",
            " 331.103455 'leftturn' 'roadmark_0814.jpg']\n",
            "roadmark_0814.jpg\n",
            "[89.74485 146.495422 179.447372 151.07208300000002 327.65518199999997\n",
            " 315.586212 317.310333 334.551727 'leftturn' 'roadmark_0815.jpg']\n",
            "roadmark_0815.jpg\n",
            "[76.014877 125.44279499999999 165.717392 132.76544199999998 330.241394\n",
            " 320.758606 322.482758 338.862061 'leftturn' 'roadmark_0816.jpg']\n",
            "roadmark_0816.jpg\n",
            "[55.877575 106.220825 137.342102 113.54348 337.137939 325.06897000000004\n",
            " 325.06897000000004 344.896545 'leftturn' 'roadmark_0817.jpg']\n",
            "roadmark_0817.jpg\n",
            "[262.742554 321.32379199999997 371.66705299999995 335.96911600000004\n",
            " 314.724152 296.620697 295.758606 317.310333 'rail' 'roadmark_0818.jpg']\n",
            "roadmark_0818.jpg\n",
            "[364.34439100000003 386.31234700000005 442.147583 448.554932 315.586212\n",
            " 296.620697 296.620697 315.586212 'rail' 'roadmark_0819.jpg']\n",
            "roadmark_0819.jpg\n",
            "[250.843246 315.831818 363.429077 328.646454 317.310333 299.206909\n",
            " 298.34481800000003 319.896545 'rail' 'roadmark_0820.jpg']\n",
            "roadmark_0820.jpg\n",
            "[357.937073 385.39703399999996 438.486267 454.96225 321.620697 296.620697\n",
            " 297.482758 321.620697 'rail' 'roadmark_0821.jpg']\n",
            "roadmark_0821.jpg\n",
            "[194.092682 219.72197000000003 264.573242 238.02861000000001 309.551727\n",
            " 303.517242 300.93102999999996 313.862061 'leftturn' 'roadmark_0822.jpg']\n",
            "roadmark_0822.jpg\n",
            "[158.39473 192.262009 241.68992599999999 210.56864900000002 317.310333\n",
            " 307.82757599999997 306.103455 320.758606 'leftturn' 'roadmark_0823.jpg']\n",
            "roadmark_0823.jpg\n",
            "[98.89817 227.959961 265.488556 145.580093 338.0 307.82757599999997\n",
            " 308.689667 347.482758 'leftturn' 'roadmark_0824.jpg']\n",
            "roadmark_0824.jpg\n",
            "[76.93020600000001 228.87528999999998 263.657898 129.104126 344.034485\n",
            " 308.689667 312.137939 353.517242 'leftturn' 'roadmark_0825.jpg']\n",
            "roadmark_0825.jpg\n",
            "[55.877575 213.31465099999997 259.996582 108.051491 350.06897000000004\n",
            " 313.0 313.0 362.137939 'leftturn' 'roadmark_0826.jpg']\n",
            "roadmark_0826.jpg\n",
            "[26.586958000000003 200.5 262.742554 72.353546 356.965515 316.448273\n",
            " 313.862061 374.206909 'leftturn' 'roadmark_0827.jpg']\n",
            "roadmark_0827.jpg\n",
            "[8.28032 197.753998 241.68992599999999 38.486271 362.137939 317.310333\n",
            " 319.896545 384.551727 'leftturn' 'roadmark_0828.jpg']\n",
            "roadmark_0828.jpg\n",
            "[157.479401 221.55262799999997 244.435928 179.447372 313.862061\n",
            " 298.34481800000003 302.65518199999997 318.17242400000003 'leftturn'\n",
            " 'roadmark_0829.jpg']\n",
            "roadmark_0829.jpg\n",
            "[133.680771 207.822647 234.367279 162.056061 314.724152 300.93102999999996\n",
            " 300.93102999999996 321.620697 'leftturn' 'roadmark_0830.jpg']\n",
            "roadmark_0830.jpg\n",
            "[117.204803 216.06063799999998 259.996582 156.564072 323.34481800000003\n",
            " 300.93102999999996 300.93102999999996 335.413788 'leftturn'\n",
            " 'roadmark_0831.jpg']\n",
            "roadmark_0831.jpg\n",
            "[108.051491 213.31465099999997 253.58924900000002 141.91876200000002\n",
            " 327.65518199999997 302.65518199999997 305.241394 338.862061 'leftturn'\n",
            " 'roadmark_0832.jpg']\n",
            "roadmark_0832.jpg\n",
            "[81.506866 199.584671 257.25057999999996 132.76544199999998 331.103455\n",
            " 304.379303 300.93102999999996 341.448273 'leftturn' 'roadmark_0833.jpg']\n",
            "roadmark_0833.jpg\n",
            "[59.538902 204.16133100000002 245.35125699999998 110.79748500000001\n",
            " 335.413788 302.65518199999997 304.379303 347.482758 'leftturn'\n",
            " 'roadmark_0834.jpg']\n",
            "roadmark_0834.jpg\n",
            "[33.909611 196.83866899999998 234.367279 87.914185 340.586212 304.379303\n",
            " 307.82757599999997 353.517242 'leftturn' 'roadmark_0835.jpg']\n",
            "roadmark_0835.jpg\n",
            "[26.586958000000003 197.753998 232.536606 64.115562 341.448273 305.241394\n",
            " 308.689667 359.551727 'leftturn' 'roadmark_0836.jpg']\n",
            "roadmark_0836.jpg\n",
            "[4.618993 177.616699 214.22997999999998 29.332952000000002 345.758606\n",
            " 307.82757599999997 312.137939 370.758606 'leftturn' 'roadmark_0837.jpg']\n",
            "roadmark_0837.jpg\n",
            "[8.28032 174.870712 211.48397799999998 8.28032 351.793091 310.413788\n",
            " 314.724152 377.65518199999997 'leftturn' 'roadmark_0838.jpg']\n",
            "roadmark_0838.jpg\n",
            "[52.216248 116.289474 149.241425 100.728836 344.034485 327.65518199999997\n",
            " 331.965515 352.65518199999997 'leftturn' 'roadmark_0839.jpg']\n",
            "roadmark_0839.jpg\n",
            "[95.236839 135.51144399999998 181.27803 135.51144399999998 333.689667\n",
            " 322.482758 323.34481800000003 342.310333 'leftturn' 'roadmark_0840.jpg']\n",
            "roadmark_0840.jpg\n",
            "[552.902771 592.262024 762.513733 694.779175 311.275848 306.965515\n",
            " 355.241394 377.65518199999997 'rightturn' 'roadmark_0841.jpg']\n",
            "roadmark_0841.jpg\n",
            "[539.172791 588.600708 713.085815 678.303223 303.517242 298.34481800000003\n",
            " 335.413788 358.689667 'rightturn' 'roadmark_0842.jpg']\n",
            "roadmark_0842.jpg\n",
            "[31.163615999999998 200.5 237.113266 62.284896999999994 337.137939\n",
            " 300.06897000000004 303.517242 347.482758 'forward' 'roadmark_0843.jpg']\n",
            "roadmark_0843.jpg\n",
            "[14.687643 155.648743 208.737991 32.078945000000004 346.620697 310.413788\n",
            " 313.862061 364.724152 'leftturn' 'roadmark_0844.jpg']\n",
            "roadmark_0844.jpg\n",
            "[2.7883299999999998 141.91876200000002 201.415329 3.703661 349.206909\n",
            " 314.724152 313.862061 373.34481800000003 'leftturn' 'roadmark_0845.jpg']\n",
            "roadmark_0845.jpg\n",
            "[9.195652 180.362701 218.806641 25.671625 349.206909 309.551727 314.724152\n",
            " 370.758606 'leftturn' 'roadmark_0846.jpg']\n",
            "roadmark_0846.jpg\n",
            "[11.026316 169.378723 205.07666 27.502289 347.482758 309.551727 317.310333\n",
            " 369.034485 'leftturn' 'roadmark_0847.jpg']\n",
            "roadmark_0847.jpg\n",
            "[126.358124 212.399307 253.58924900000002 145.580093 319.034485\n",
            " 300.93102999999996 301.793091 329.379303 'leftturn' 'roadmark_0848.jpg']\n",
            "roadmark_0848.jpg\n",
            "[110.79748500000001 203.246002 242.60527000000002 140.08810400000002\n",
            " 322.482758 300.93102999999996 306.103455 330.241394 'leftturn'\n",
            " 'roadmark_0849.jpg']\n",
            "roadmark_0849.jpg\n",
            "[97.06750500000001 210.56864900000002 233.45195 100.728836\n",
            " 327.65518199999997 301.793091 307.82757599999997 338.862061 'leftturn'\n",
            " 'roadmark_0850.jpg']\n",
            "roadmark_0850.jpg\n",
            "[215.145309 244.435928 274.64187599999997 240.77459700000003 304.379303\n",
            " 297.482758 296.620697 308.689667 'leftturn' 'roadmark_0851.jpg']\n",
            "roadmark_0851.jpg\n",
            "[201.415329 243.52059900000003 266.4039 237.113266 306.965515 295.758606\n",
            " 296.620697 311.275848 'leftturn' 'roadmark_0852.jpg']\n",
            "roadmark_0852.jpg\n",
            "[206.907318 241.68992599999999 262.742554 230.705948 306.103455 295.758606\n",
            " 299.206909 313.0 'leftturn' 'roadmark_0853.jpg']\n",
            "roadmark_0853.jpg\n",
            "[191.34668 227.044617 253.58924900000002 222.46795699999998 308.689667\n",
            " 299.206909 299.206909 313.0 'leftturn' 'roadmark_0854.jpg']\n",
            "roadmark_0854.jpg\n",
            "[178.532043 217.89129599999998 241.68992599999999 217.89129599999998\n",
            " 310.413788 300.93102999999996 302.65518199999997 313.862061 'leftturn'\n",
            " 'roadmark_0855.jpg']\n",
            "roadmark_0855.jpg\n",
            "[178.532043 217.89129599999998 244.435928 203.246002 310.413788\n",
            " 300.93102999999996 302.65518199999997 319.034485 'leftturn'\n",
            " 'roadmark_0856.jpg']\n",
            "roadmark_0856.jpg\n",
            "[162.97138999999999 209.65332 237.113266 198.669342 314.724152 303.517242\n",
            " 306.965515 322.482758 'leftturn' 'roadmark_0857.jpg']\n",
            "roadmark_0857.jpg\n",
            "[153.818085 199.584671 226.129288 195.008011 316.448273 306.965515\n",
            " 306.965515 322.482758 'leftturn' 'roadmark_0858.jpg']\n",
            "roadmark_0858.jpg\n",
            "[146.495422 201.415329 227.044617 186.77002 318.17242400000003 304.379303\n",
            " 311.275848 326.793091 'leftturn' 'roadmark_0859.jpg']\n",
            "roadmark_0859.jpg\n",
            "[134.596115 183.10870400000002 213.31465099999997 175.78604099999998\n",
            " 320.758606 309.551727 310.413788 330.241394 'leftturn'\n",
            " 'roadmark_0860.jpg']\n",
            "roadmark_0860.jpg\n",
            "[123.61212900000001 183.10870400000002 209.65332 162.97138999999999\n",
            " 320.758606 308.689667 314.724152 331.965515 'leftturn'\n",
            " 'roadmark_0861.jpg']\n",
            "roadmark_0861.jpg\n",
            "[36.655605 123.61212900000001 167.54805 56.792908 342.310333 319.034485\n",
            " 323.34481800000003 356.965515 'leftturn' 'roadmark_0862.jpg']\n",
            "roadmark_0862.jpg\n",
            "[248.09726 263.657898 285.625854 270.98056 295.758606 291.448273\n",
            " 291.448273 302.65518199999997 'leftturn' 'roadmark_0863.jpg']\n",
            "roadmark_0863.jpg\n",
            "[11.941647999999999 92.490845 160.225403 29.332952000000002 347.482758\n",
            " 325.06897000000004 321.620697 363.862061 'leftturn' 'roadmark_0864.jpg']\n",
            "roadmark_0864.jpg\n",
            "[241.68992599999999 256.335236 283.79519700000003 256.335236 297.482758\n",
            " 290.586212 291.448273 305.241394 'leftturn' 'roadmark_0865.jpg']\n",
            "roadmark_0865.jpg\n",
            "[230.705948 251.758575 282.879852 253.58924900000002 299.206909\n",
            " 293.17242400000003 291.448273 306.965515 'leftturn' 'roadmark_0866.jpg']\n",
            "roadmark_0866.jpg\n",
            "[228.87528999999998 250.843246 283.79519700000003 252.67392\n",
            " 300.06897000000004 292.310333 293.17242400000003 306.965515 'leftturn'\n",
            " 'roadmark_0867.jpg']\n",
            "roadmark_0867.jpg\n",
            "[220.637299 244.435928 276.472534 245.35125699999998 303.517242 295.758606\n",
            " 296.620697 308.689667 'leftturn' 'roadmark_0868.jpg']\n",
            "roadmark_0868.jpg\n",
            "[215.145309 243.52059900000003 270.98056 241.68992599999999 303.517242\n",
            " 296.620697 297.482758 307.82757599999997 'leftturn' 'roadmark_0869.jpg']\n",
            "roadmark_0869.jpg\n",
            "[207.822647 238.02861000000001 270.065216 232.536606 306.103455 296.620697\n",
            " 299.206909 312.137939 'leftturn' 'roadmark_0870.jpg']\n",
            "roadmark_0870.jpg\n",
            "[202.330658 226.129288 267.319214 229.790619 306.103455 299.206909\n",
            " 300.93102999999996 313.862061 'leftturn' 'roadmark_0871.jpg']\n",
            "roadmark_0871.jpg\n",
            "[200.5 223.383301 269.149872 233.45195 307.82757599999997\n",
            " 298.34481800000003 300.06897000000004 313.0 'leftturn'\n",
            " 'roadmark_0872.jpg']\n",
            "roadmark_0872.jpg\n",
            "[190.431351 216.975967 258.165894 223.383301 309.551727 300.93102999999996\n",
            " 300.06897000000004 315.586212 'leftturn' 'roadmark_0873.jpg']\n",
            "roadmark_0873.jpg\n",
            "[185.854691 214.22997999999998 251.758575 224.29862999999997 313.0\n",
            " 301.793091 301.793091 319.034485 'leftturn' 'roadmark_0874.jpg']\n",
            "roadmark_0874.jpg\n",
            "[179.447372 205.07666 244.435928 208.737991 310.413788 305.241394\n",
            " 304.379303 319.896545 'leftturn' 'roadmark_0875.jpg']\n",
            "roadmark_0875.jpg\n",
            "[162.056061 210.56864900000002 247.181915 192.262009 316.448273 303.517242\n",
            " 304.379303 321.620697 'leftturn' 'roadmark_0876.jpg']\n",
            "roadmark_0876.jpg\n",
            "[153.818085 192.262009 237.113266 192.262009 316.448273 305.241394\n",
            " 305.241394 322.482758 'leftturn' 'roadmark_0877.jpg']\n",
            "roadmark_0877.jpg\n",
            "[143.749435 184.024033 240.77459700000003 186.77002 318.17242400000003\n",
            " 307.82757599999997 305.241394 325.93102999999996 'leftturn'\n",
            " 'roadmark_0878.jpg']\n",
            "roadmark_0878.jpg\n",
            "[130.019455 179.447372 239.85926800000001 167.54805 323.34481800000003\n",
            " 307.82757599999997 308.689667 331.103455 'leftturn' 'roadmark_0879.jpg']\n",
            "roadmark_0879.jpg\n",
            "[108.96682 176.70137 222.46795699999998 161.140732 324.206909 309.551727\n",
            " 309.551727 331.103455 'leftturn' 'roadmark_0880.jpg']\n",
            "roadmark_0880.jpg\n",
            "[100.728836 165.717392 215.145309 140.08810400000002 326.793091 310.413788\n",
            " 311.275848 335.413788 'leftturn' 'roadmark_0881.jpg']\n",
            "roadmark_0881.jpg\n",
            "[84.252861 156.564072 204.16133100000002 136.426773 329.379303 312.137939\n",
            " 315.586212 338.0 'leftturn' 'roadmark_0882.jpg']\n",
            "roadmark_0882.jpg\n",
            "[62.284896999999994 141.003433 192.262009 113.54348 335.413788 316.448273\n",
            " 317.310333 344.034485 'leftturn' 'roadmark_0883.jpg']\n",
            "roadmark_0883.jpg\n",
            "[43.062927 131.850113 183.10870400000002 94.32151 338.0 318.17242400000003\n",
            " 319.034485 350.06897000000004 'leftturn' 'roadmark_0884.jpg']\n",
            "roadmark_0884.jpg\n",
            "[27.502289 127.273453 171.209381 67.776886 341.448273 320.758606\n",
            " 325.06897000000004 357.82757599999997 'leftturn' 'roadmark_0885.jpg']\n",
            "roadmark_0885.jpg\n",
            "[103.47483100000001 143.749435 177.616699 137.342102 325.93102999999996\n",
            " 317.310333 320.758606 338.862061 'leftturn' 'roadmark_0886.jpg']\n",
            "roadmark_0886.jpg\n",
            "[80.59153 133.680771 167.54805 121.78146399999999 332.82757599999997\n",
            " 321.620697 324.206909 348.34481800000003 'leftturn' 'roadmark_0887.jpg']\n",
            "roadmark_0887.jpg\n",
            "[162.056061 195.008011 227.044617 185.854691 310.413788 301.793091\n",
            " 307.82757599999997 317.310333 'leftturn' 'roadmark_0888.jpg']\n",
            "roadmark_0888.jpg\n",
            "[154.73341399999998 185.854691 215.145309 186.77002 312.137939 305.241394\n",
            " 305.241394 317.310333 'leftturn' 'roadmark_0889.jpg']\n",
            "roadmark_0889.jpg\n",
            "[20.179634 70.52288100000001 109.882149 54.046909 341.448273 328.517242\n",
            " 333.689667 351.793091 'leftturn' 'roadmark_0890.jpg']\n",
            "roadmark_0890.jpg\n",
            "[205.07666 242.60527000000002 263.657898 234.367279 322.482758 315.586212\n",
            " 320.758606 331.965515 'leftturn' 'roadmark_0891.jpg']\n",
            "roadmark_0891.jpg\n",
            "[124.52745800000001 178.532043 207.822647 185.854691 339.724152 331.103455\n",
            " 333.689667 348.34481800000003 'leftturn' 'roadmark_0892.jpg']\n",
            "roadmark_0892.jpg\n",
            "[59.538902 127.273453 161.140732 104.39016 353.517242 339.724152\n",
            " 348.34481800000003 366.448273 'leftturn' 'roadmark_0893.jpg']\n",
            "roadmark_0893.jpg\n",
            "[240.77459700000003 270.065216 300.271179 271.89587400000005\n",
            " 323.34481800000003 315.586212 315.586212 325.93102999999996 'leftturn'\n",
            " 'roadmark_0894.jpg']\n",
            "roadmark_0894.jpg\n",
            "[281.049194 300.271179 350.61441 335.96911600000004 332.82757599999997\n",
            " 319.896545 322.482758 338.0 '35' 'roadmark_0895.jpg']\n",
            "roadmark_0895.jpg\n",
            "[387.227692 393.63501 440.316925 449.47024500000003 336.275848\n",
            " 318.17242400000003 318.17242400000003 337.137939 '35' 'roadmark_0896.jpg']\n",
            "roadmark_0896.jpg\n",
            "[211.48397799999998 249.92791699999998 321.32379199999997 288.371857\n",
            " 361.275848 337.137939 334.551727 369.034485 '35' 'roadmark_0897.jpg']\n",
            "roadmark_0897.jpg\n",
            "[372.582367 383.566376 451.300903 463.200226 365.586212 334.551727\n",
            " 333.689667 359.551727 '35' 'roadmark_0898.jpg']\n",
            "roadmark_0898.jpg\n",
            "[279.218536 307.59381099999996 340.545776 321.32379199999997\n",
            " 318.17242400000003 311.275848 313.862061 323.34481800000003 'leftturn'\n",
            " 'roadmark_0899.jpg']\n",
            "roadmark_0899.jpg\n",
            "[242.60527000000002 270.98056 310.339813 292.033173 330.241394 319.896545\n",
            " 321.620697 335.413788 'leftturn' 'roadmark_0900.jpg']\n",
            "roadmark_0900.jpg\n",
            "[161.140732 203.246002 260.911896 221.55262799999997 351.793091 336.275848\n",
            " 340.586212 366.448273 'leftturn' 'roadmark_0901.jpg']\n",
            "roadmark_0901.jpg\n",
            "[259.996582 290.202515 343.291748 312.170471 329.379303 319.034485\n",
            " 319.034485 334.551727 'leftturn' 'roadmark_0902.jpg']\n",
            "roadmark_0902.jpg\n",
            "[196.83866899999998 239.85926800000001 301.18649300000004 269.149872\n",
            " 349.206909 331.965515 334.551727 356.965515 'leftturn'\n",
            " 'roadmark_0903.jpg']\n",
            "roadmark_0903.jpg\n",
            "[271.89587400000005 301.18649300000004 347.868408 329.561798 337.137939\n",
            " 321.620697 326.793091 342.310333 'leftturn' 'roadmark_0904.jpg']\n",
            "roadmark_0904.jpg\n",
            "[180.362701 234.367279 314.916473 267.319214 363.862061 345.758606\n",
            " 349.206909 380.241394 'leftturn' 'roadmark_0905.jpg']\n",
            "roadmark_0905.jpg\n",
            "[258.165894 284.71054100000003 340.545776 315.831818 332.82757599999997\n",
            " 321.620697 321.620697 340.586212 'leftturn' 'roadmark_0906.jpg']\n",
            "roadmark_0906.jpg\n",
            "[190.431351 227.044617 303.01715099999996 259.081238 354.379303 340.586212\n",
            " 342.310333 371.620697 'leftturn' 'roadmark_0907.jpg']\n",
            "roadmark_0907.jpg\n",
            "[292.948517 305.763153 351.52975499999997 334.138458 324.206909 311.275848\n",
            " 313.862061 331.103455 'leftturn' 'roadmark_0908.jpg']\n",
            "roadmark_0908.jpg\n",
            "[265.488556 292.033173 345.122437 320.408478 334.551727 319.896545\n",
            " 322.482758 341.448273 'leftturn' 'roadmark_0909.jpg']\n",
            "roadmark_0909.jpg\n",
            "[228.87528999999998 262.742554 324.985138 301.18649300000004 353.517242\n",
            " 331.965515 338.862061 359.551727 'leftturn' 'roadmark_0910.jpg']\n",
            "roadmark_0910.jpg\n",
            "[170.294052 216.06063799999998 304.847839 262.742554 374.206909 347.482758\n",
            " 350.06897000000004 384.551727 'leftturn' 'roadmark_0911.jpg']\n",
            "roadmark_0911.jpg\n",
            "[381.735687 394.550354 431.16360499999996 426.586945 315.586212\n",
            " 302.65518199999997 305.241394 319.896545 'leftturn' 'roadmark_0912.jpg']\n",
            "roadmark_0912.jpg\n",
            "[378.989716 389.97369399999997 425.67163099999993 429.332947 322.482758\n",
            " 306.965515 309.551727 325.93102999999996 'leftturn' 'roadmark_0913.jpg']\n",
            "roadmark_0913.jpg\n",
            "[356.10641499999997 369.83639500000004 432.99429299999997\n",
            " 433.90960700000005 338.0 317.310333 319.034485 340.586212 'leftturn'\n",
            " 'roadmark_0914.jpg']\n",
            "roadmark_0914.jpg\n",
            "[331.392456 352.445068 429.332947 435.740265 354.379303 329.379303\n",
            " 332.82757599999997 364.724152 'leftturn' 'roadmark_0915.jpg']\n",
            "roadmark_0915.jpg\n",
            "[358.852417 367.090393 464.11557 487.914185 400.93102999999996 358.689667\n",
            " 358.689667 400.06897000000004 'leftturn' 'roadmark_0916.jpg']\n",
            "roadmark_0916.jpg\n",
            "[354.275757 364.34439100000003 463.200226 485.168182 387.137939 359.551727\n",
            " 359.551727 398.34481800000003 'leftturn' 'roadmark_0917.jpg']\n",
            "roadmark_0917.jpg\n",
            "[384.481689 391.804352 439.40161100000006 444.893585 337.137939\n",
            " 318.17242400000003 319.896545 339.724152 '35' 'roadmark_0918.jpg']\n",
            "roadmark_0918.jpg\n",
            "[490.660187 476.014862 523.612122 556.564087 338.862061 322.482758\n",
            " 319.034485 336.275848 '35' 'roadmark_0919.jpg']\n",
            "roadmark_0919.jpg\n",
            "[371.66705299999995 382.651031 447.639587 459.53891 361.275848\n",
            " 332.82757599999997 333.689667 363.862061 '35' 'roadmark_0920.jpg']\n",
            "roadmark_0920.jpg\n",
            "[539.172791 498.898163 569.378723 620.637329 367.310333 337.137939\n",
            " 333.689667 363.862061 '35' 'roadmark_0921.jpg']\n",
            "roadmark_0921.jpg\n",
            "[302.101837 323.154449 365.25973500000003 350.61441 325.06897000000004\n",
            " 313.0 312.137939 330.241394 'leftturn' 'roadmark_0922.jpg']\n",
            "roadmark_0922.jpg\n",
            "[270.065216 302.101837 348.783752 325.90045200000003 335.413788 320.758606\n",
            " 325.06897000000004 342.310333 'leftturn' 'roadmark_0923.jpg']\n",
            "roadmark_0923.jpg\n",
            "[197.753998 260.911896 314.001129 286.541199 356.965515 335.413788\n",
            " 341.448273 369.034485 'leftturn' 'roadmark_0924.jpg']\n",
            "roadmark_0924.jpg\n",
            "[298.440491 313.08581499999997 356.10641499999997 348.783752\n",
            " 325.06897000000004 314.724152 315.586212 325.93102999999996 'leftturn'\n",
            " 'roadmark_0925.jpg']\n",
            "roadmark_0925.jpg\n",
            "[260.911896 288.371857 345.122437 324.985138 336.275848 322.482758\n",
            " 323.34481800000003 340.586212 'leftturn' 'roadmark_0926.jpg']\n",
            "roadmark_0926.jpg\n",
            "[203.246002 247.181915 314.001129 282.879852 355.241394 338.0 340.586212\n",
            " 366.448273 'leftturn' 'roadmark_0927.jpg']\n",
            "roadmark_0927.jpg\n",
            "[331.392456 346.03775 375.328369 364.34439100000003 313.862061 306.103455\n",
            " 307.82757599999997 318.17242400000003 'leftturn' 'roadmark_0928.jpg']\n",
            "roadmark_0928.jpg\n",
            "[307.59381099999996 327.73111 368.921051 351.52975499999997 319.896545\n",
            " 311.275848 309.551727 325.06897000000004 'leftturn' 'roadmark_0929.jpg']\n",
            "roadmark_0929.jpg\n",
            "[278.30319199999997 307.59381099999996 353.360413 333.223114 330.241394\n",
            " 314.724152 321.620697 341.448273 'leftturn' 'roadmark_0930.jpg']\n",
            "roadmark_0930.jpg\n",
            "[227.044617 262.742554 336.88443 298.440491 353.517242 335.413788\n",
            " 335.413788 363.0 'leftturn' 'roadmark_0931.jpg']\n",
            "roadmark_0931.jpg\n",
            "[319.493134 324.069794 360.683075 354.275757 314.724152 306.965515\n",
            " 306.103455 315.586212 'leftturn' 'roadmark_0932.jpg']\n",
            "roadmark_0932.jpg\n",
            "[313.08581499999997 319.493134 355.191071 351.52975499999997 314.724152\n",
            " 306.103455 307.82757599999997 318.17242400000003 'leftturn'\n",
            " 'roadmark_0933.jpg']\n",
            "roadmark_0933.jpg\n",
            "[309.4245 318.577789 355.191071 350.61441 318.17242400000003 308.689667\n",
            " 311.275848 319.896545 'leftturn' 'roadmark_0934.jpg']\n",
            "roadmark_0934.jpg\n",
            "[307.59381099999996 315.831818 351.52975499999997 349.699097 319.034485\n",
            " 310.413788 309.551727 320.758606 'leftturn' 'roadmark_0935.jpg']\n",
            "roadmark_0935.jpg\n",
            "[301.18649300000004 310.339813 352.445068 346.03775 320.758606 313.0\n",
            " 311.275848 324.206909 'leftturn' 'roadmark_0936.jpg']\n",
            "roadmark_0936.jpg\n",
            "[296.609833 303.01715099999996 351.52975499999997 347.868408 319.896545\n",
            " 310.413788 309.551727 325.06897000000004 'leftturn' 'roadmark_0937.jpg']\n",
            "roadmark_0937.jpg\n",
            "[296.609833 303.932495 346.953094 335.05377200000004 323.34481800000003\n",
            " 311.275848 311.275848 326.793091 'leftturn' 'roadmark_0938.jpg']\n",
            "roadmark_0938.jpg\n",
            "[294.779175 306.678497 346.953094 338.715088 323.34481800000003 313.0\n",
            " 313.0 326.793091 'leftturn' 'roadmark_0939.jpg']\n",
            "roadmark_0939.jpg\n",
            "[294.779175 303.932495 346.953094 339.630432 324.206909 313.862061\n",
            " 313.862061 327.65518199999997 'leftturn' 'roadmark_0940.jpg']\n",
            "roadmark_0940.jpg\n",
            "[295.694519 303.01715099999996 347.868408 342.37643399999996\n",
            " 325.06897000000004 313.0 313.0 326.793091 'leftturn' 'roadmark_0941.jpg']\n",
            "roadmark_0941.jpg\n",
            "[293.863831 300.271179 349.699097 340.545776 324.206909 313.862061 313.0\n",
            " 325.93102999999996 'leftturn' 'roadmark_0942.jpg']\n",
            "roadmark_0942.jpg\n",
            "[292.948517 305.763153 346.03775 339.630432 325.93102999999996 313.862061\n",
            " 313.862061 331.103455 'leftturn' 'roadmark_0943.jpg']\n",
            "roadmark_0943.jpg\n",
            "[286.541199 305.763153 349.699097 341.46109 325.93102999999996 314.724152\n",
            " 313.862061 327.65518199999997 'leftturn' 'roadmark_0944.jpg']\n",
            "roadmark_0944.jpg\n",
            "[291.117859 301.18649300000004 346.953094 341.46109 329.379303 314.724152\n",
            " 317.310333 325.93102999999996 'leftturn' 'roadmark_0945.jpg']\n",
            "roadmark_0945.jpg\n",
            "[291.117859 300.271179 349.699097 341.46109 327.65518199999997 316.448273\n",
            " 313.862061 330.241394 'leftturn' 'roadmark_0946.jpg']\n",
            "roadmark_0946.jpg\n",
            "[293.863831 299.355835 349.699097 340.545776 327.65518199999997 316.448273\n",
            " 319.034485 332.82757599999997 'leftturn' 'roadmark_0947.jpg']\n",
            "roadmark_0947.jpg\n",
            "[289.28717 296.609833 342.37643399999996 335.96911600000004 329.379303\n",
            " 318.17242400000003 318.17242400000003 333.689667 'leftturn'\n",
            " 'roadmark_0948.jpg']\n",
            "roadmark_0948.jpg\n",
            "[289.28717 292.948517 342.37643399999996 333.223114 331.103455 319.896545\n",
            " 320.758606 334.551727 'leftturn' 'roadmark_0949.jpg']\n",
            "roadmark_0949.jpg\n",
            "[279.218536 290.202515 339.630432 330.47711200000003 333.689667 324.206909\n",
            " 324.206909 334.551727 'leftturn' 'roadmark_0950.jpg']\n",
            "roadmark_0950.jpg\n",
            "[277.387878 285.625854 333.223114 325.90045200000003 336.275848\n",
            " 323.34481800000003 323.34481800000003 341.448273 'leftturn'\n",
            " 'roadmark_0951.jpg']\n",
            "roadmark_0951.jpg\n",
            "[260.911896 273.72653199999996 333.223114 318.577789 340.586212\n",
            " 325.93102999999996 327.65518199999997 344.896545 'leftturn'\n",
            " 'roadmark_0952.jpg']\n",
            "roadmark_0952.jpg\n",
            "[249.01258900000002 264.573242 327.73111 304.847839 344.034485 329.379303\n",
            " 331.103455 348.34481800000003 'leftturn' 'roadmark_0953.jpg']\n",
            "roadmark_0953.jpg\n",
            "[231.621277 250.843246 313.08581499999997 299.355835 351.793091 337.137939\n",
            " 335.413788 356.965515 'leftturn' 'roadmark_0954.jpg']\n",
            "roadmark_0954.jpg\n",
            "[199.584671 228.87528999999998 305.763153 280.13388100000003 365.586212\n",
            " 344.034485 344.896545 368.17242400000003 'leftturn' 'roadmark_0955.jpg']\n",
            "roadmark_0955.jpg\n",
            "[163.88673400000002 195.92334 294.779175 259.081238 381.103455 353.517242\n",
            " 353.517242 385.413788 'leftturn' 'roadmark_0956.jpg']\n",
            "roadmark_0956.jpg\n",
            "[354.275757 370.751709 443.06292699999995 441.23226900000003 347.482758\n",
            " 327.65518199999997 327.65518199999997 346.620697 'keep'\n",
            " 'roadmark_0957.jpg']\n",
            "roadmark_0957.jpg\n",
            "[486.08352699999995 460.454224 543.749451 561.1407469999999 346.620697\n",
            " 326.793091 324.206909 340.586212 'keep' 'roadmark_0958.jpg']\n",
            "roadmark_0958.jpg\n",
            "[350.61441 364.34439100000003 443.978271 446.72424299999994 351.793091\n",
            " 330.241394 330.241394 350.93102999999996 'keep' 'roadmark_0959.jpg']\n",
            "roadmark_0959.jpg\n",
            "[491.5755 466.861542 538.257446 576.701355 351.793091 331.103455\n",
            " 325.93102999999996 346.620697 'keep' 'roadmark_0960.jpg']\n",
            "roadmark_0960.jpg\n",
            "[346.03775 359.767731 452.21624800000006 457.70825199999996 347.482758\n",
            " 328.517242 326.793091 347.482758 'clear' 'roadmark_0961.jpg']\n",
            "roadmark_0961.jpg\n",
            "[479.67620800000003 458.62356600000004 556.564087 583.108704\n",
            " 348.34481800000003 326.793091 327.65518199999997 341.448273 'clear'\n",
            " 'roadmark_0962.jpg']\n",
            "roadmark_0962.jpg\n",
            "[338.715088 355.191071 454.046906 465.03088399999996 354.379303 334.551727\n",
            " 332.82757599999997 354.379303 'clear' 'roadmark_0963.jpg']\n",
            "roadmark_0963.jpg\n",
            "[486.998871 467.77688600000005 573.955383 616.0606690000001\n",
            " 357.82757599999997 333.689667 332.82757599999997 351.793091 'clear'\n",
            " 'roadmark_0964.jpg']\n",
            "roadmark_0964.jpg\n",
            "[337.799774 350.61441 378.989716 370.751709 313.862061 306.103455\n",
            " 305.241394 315.586212 'leftturn' 'roadmark_0965.jpg']\n",
            "roadmark_0965.jpg\n",
            "[325.90045200000003 348.783752 377.159027 368.005707 313.862061 304.379303\n",
            " 306.103455 316.448273 'leftturn' 'roadmark_0966.jpg']\n",
            "roadmark_0966.jpg\n",
            "[305.763153 336.88443 367.090393 358.852417 324.206909 308.689667\n",
            " 311.275848 325.93102999999996 'leftturn' 'roadmark_0967.jpg']\n",
            "roadmark_0967.jpg\n",
            "[299.355835 326.815796 361.598389 351.52975499999997 325.93102999999996\n",
            " 313.0 316.448273 327.65518199999997 'leftturn' 'roadmark_0968.jpg']\n",
            "roadmark_0968.jpg\n",
            "[280.13388100000003 309.4245 353.360413 343.291748 332.82757599999997\n",
            " 319.034485 321.620697 337.137939 'leftturn' 'roadmark_0969.jpg']\n",
            "roadmark_0969.jpg\n",
            "[258.165894 289.28717 347.868408 324.069794 338.862061 324.206909\n",
            " 328.517242 344.896545 'leftturn' 'roadmark_0970.jpg']\n",
            "roadmark_0970.jpg\n",
            "[233.45195 269.149872 326.815796 309.4245 350.06897000000004\n",
            " 332.82757599999997 335.413788 356.965515 'leftturn' 'roadmark_0971.jpg']\n",
            "roadmark_0971.jpg\n",
            "[199.584671 249.01258900000002 321.32379199999997 285.625854 359.551727\n",
            " 341.448273 339.724152 369.034485 'leftturn' 'roadmark_0972.jpg']\n",
            "roadmark_0972.jpg\n",
            "[139.172775 215.145309 311.255157 251.758575 381.965515 352.65518199999997\n",
            " 355.241394 393.17242400000003 'leftturn' 'roadmark_0973.jpg']\n",
            "roadmark_0973.jpg\n",
            "[357.937073 378.989716 446.72424299999994 465.03088399999996\n",
            " 343.17242400000003 313.862061 315.586212 344.896545 'rail'\n",
            " 'roadmark_0974.jpg']\n",
            "roadmark_0974.jpg\n",
            "[507.13616900000005 461.36956799999996 525.44281 603.2459719999999\n",
            " 355.241394 317.310333 314.724152 350.06897000000004 'rail'\n",
            " 'roadmark_0975.jpg']\n",
            "roadmark_0975.jpg\n",
            "[353.360413 378.074371 447.639587 461.36956799999996 348.34481800000003\n",
            " 315.586212 317.310333 349.206909 'rail' 'roadmark_0976.jpg']\n",
            "roadmark_0976.jpg\n",
            "[347.868408 377.159027 447.639587 474.184204 356.103455 318.17242400000003\n",
            " 318.17242400000003 361.275848 'rail' 'roadmark_0977.jpg']\n",
            "roadmark_0977.jpg\n",
            "[516.28949 470.52288799999997 529.104126 620.637329 360.413788 319.896545\n",
            " 319.034485 351.793091 'rail' 'roadmark_0978.jpg']\n",
            "roadmark_0978.jpg\n",
            "[338.715088 374.413055 447.639587 485.168182 367.310333 319.896545\n",
            " 322.482758 366.448273 'rail' 'roadmark_0979.jpg']\n",
            "roadmark_0979.jpg\n",
            "[530.934753 471.43820199999993 540.088074 645.351257 372.482758\n",
            " 323.34481800000003 322.482758 357.82757599999997 'rail'\n",
            " 'roadmark_0980.jpg']\n",
            "roadmark_0980.jpg\n",
            "[339.630432 346.953094 378.989716 367.090393 313.862061 301.793091\n",
            " 302.65518199999997 313.862061 'leftturn' 'roadmark_0981.jpg']\n",
            "roadmark_0981.jpg\n",
            "[335.05377200000004 371.66705299999995 447.639587 493.406189\n",
            " 375.93102999999996 324.206909 324.206909 375.06897000000004 'rail'\n",
            " 'roadmark_0982.jpg']\n",
            "roadmark_0982.jpg\n",
            "[537.342102 476.93020599999994 544.664734 661.827209 377.65518199999997\n",
            " 325.93102999999996 325.06897000000004 363.862061 'rail'\n",
            " 'roadmark_0983.jpg']\n",
            "roadmark_0983.jpg\n",
            "[317.66247599999997 370.751709 453.131592 504.390167 388.0\n",
            " 325.93102999999996 325.06897000000004 382.82757599999997 'rail'\n",
            " 'roadmark_0984.jpg']\n",
            "roadmark_0984.jpg\n",
            "[555.648743 483.33752400000003 561.1407469999999 680.13385\n",
            " 393.17242400000003 328.517242 327.65518199999997 372.482758 'rail'\n",
            " 'roadmark_0985.jpg']\n",
            "roadmark_0985.jpg\n",
            "[336.88443 344.207092 378.989716 364.34439100000003 311.275848 303.517242\n",
            " 303.517242 313.862061 'leftturn' 'roadmark_0986.jpg']\n",
            "roadmark_0986.jpg\n",
            "[309.4245 372.582367 456.792908 518.1201169999999 400.93102999999996\n",
            " 331.103455 331.965515 398.34481800000003 'rail' 'roadmark_0987.jpg']\n",
            "roadmark_0987.jpg\n",
            "[579.4473879999999 483.33752400000003 564.802063 724.069824 405.241394\n",
            " 330.241394 328.517242 388.0 'rail' 'roadmark_0988.jpg']\n",
            "roadmark_0988.jpg\n",
            "[294.779175 367.090393 464.11557 534.59613 413.862061 331.103455\n",
            " 332.82757599999997 417.310333 'rail' 'roadmark_0989.jpg']\n",
            "roadmark_0989.jpg\n",
            "[605.992004 490.660187 581.278015 783.5663450000001 422.482758 335.413788\n",
            " 334.551727 406.103455 'rail' 'roadmark_0990.jpg']\n",
            "roadmark_0990.jpg\n",
            "[328.646454 342.37643399999996 376.243713 362.513733 313.862061 304.379303\n",
            " 306.103455 319.034485 'leftturn' 'roadmark_0991.jpg']\n",
            "roadmark_0991.jpg\n",
            "[299.355835 366.175049 471.43820199999993 545.5800780000001 415.586212\n",
            " 335.413788 335.413788 429.37930300000005 'rail' 'roadmark_0992.jpg']\n",
            "roadmark_0992.jpg\n",
            "[613.3146360000001 503.4748230000001 595.007996 775.3283690000001 438.0\n",
            " 340.586212 337.137939 396.620697 'rail' 'roadmark_0993.jpg']\n",
            "roadmark_0993.jpg\n",
            "[328.646454 339.630432 374.413055 363.429077 314.724152 307.82757599999997\n",
            " 306.965515 317.310333 'leftturn' 'roadmark_0994.jpg']\n",
            "roadmark_0994.jpg\n",
            "[307.59381099999996 359.767731 475.099548 536.4267580000001 415.586212\n",
            " 342.310333 340.586212 427.655182 'rail' 'roadmark_0995.jpg']\n",
            "roadmark_0995.jpg\n",
            "[662.742554 506.220825 604.161316 787.227661 466.44827300000003 344.896545\n",
            " 341.448273 404.379303 'rail' 'roadmark_0996.jpg']\n",
            "roadmark_0996.jpg\n",
            "[322.239136 336.88443 373.497711 360.683075 317.310333 306.965515\n",
            " 307.82757599999997 319.896545 'leftturn' 'roadmark_0997.jpg']\n",
            "roadmark_0997.jpg\n",
            "[303.932495 357.021729 477.845551 553.818054 406.103455 345.758606\n",
            " 344.034485 439.72415199999995 'rail' 'roadmark_0998.jpg']\n",
            "roadmark_0998.jpg\n",
            "[660.911926 511.71283 616.0606690000001 794.550354 472.482758 351.793091\n",
            " 344.896545 406.965515 'rail' 'roadmark_0999.jpg']\n",
            "roadmark_0999.jpg\n",
            "[320.408478 338.715088 368.921051 357.937073 319.896545 307.82757599999997\n",
            " 310.413788 321.620697 'leftturn' 'roadmark_1000.jpg']\n",
            "roadmark_1000.jpg\n",
            "[308.50915499999996 550.156738 486.08352699999995 350.61441 413.0\n",
            " 422.482758 357.82757599999997 355.241394 'rail' 'roadmark_1001.jpg']\n",
            "roadmark_1001.jpg\n",
            "[316.747131 334.138458 374.413055 358.852417 319.034485 310.413788\n",
            " 311.275848 322.482758 'leftturn' 'roadmark_1002.jpg']\n",
            "roadmark_1002.jpg\n",
            "[313.08581499999997 335.05377200000004 370.751709 356.10641499999997\n",
            " 319.896545 311.275848 311.275848 325.06897000000004 'leftturn'\n",
            " 'roadmark_1003.jpg']\n",
            "roadmark_1003.jpg\n",
            "[315.831818 336.88443 369.83639500000004 355.191071 319.896545 309.551727\n",
            " 312.137939 325.06897000000004 'leftturn' 'roadmark_1004.jpg']\n",
            "roadmark_1004.jpg\n",
            "[303.932495 332.30777 367.090393 350.61441 325.06897000000004 312.137939\n",
            " 311.275848 329.379303 'leftturn' 'roadmark_1005.jpg']\n",
            "roadmark_1005.jpg\n",
            "[308.50915499999996 333.223114 372.582367 350.61441 323.34481800000003\n",
            " 309.551727 312.137939 328.517242 'leftturn' 'roadmark_1006.jpg']\n",
            "roadmark_1006.jpg\n",
            "[303.01715099999996 331.392456 368.921051 351.52975499999997 324.206909\n",
            " 314.724152 313.862061 326.793091 'leftturn' 'roadmark_1007.jpg']\n",
            "roadmark_1007.jpg\n",
            "[302.101837 327.73111 367.090393 354.275757 325.06897000000004 313.862061\n",
            " 314.724152 326.793091 'leftturn' 'roadmark_1008.jpg']\n",
            "roadmark_1008.jpg\n",
            "[300.271179 324.985138 363.429077 351.52975499999997 325.93102999999996\n",
            " 313.862061 314.724152 329.379303 'leftturn' 'roadmark_1009.jpg']\n",
            "roadmark_1009.jpg\n",
            "[298.440491 319.493134 363.429077 345.122437 325.93102999999996 316.448273\n",
            " 317.310333 331.103455 'leftturn' 'roadmark_1010.jpg']\n",
            "roadmark_1010.jpg\n",
            "[299.355835 320.408478 362.513733 346.953094 326.793091 315.586212\n",
            " 317.310333 331.103455 'leftturn' 'roadmark_1011.jpg']\n",
            "roadmark_1011.jpg\n",
            "[294.779175 317.66247599999997 360.683075 347.868408 326.793091\n",
            " 318.17242400000003 317.310333 332.82757599999997 'leftturn'\n",
            " 'roadmark_1012.jpg']\n",
            "roadmark_1012.jpg\n",
            "[292.033173 318.577789 362.513733 345.122437 329.379303 314.724152\n",
            " 318.17242400000003 332.82757599999997 'leftturn' 'roadmark_1013.jpg']\n",
            "roadmark_1013.jpg\n",
            "[292.033173 316.747131 358.852417 344.207092 329.379303 319.034485\n",
            " 317.310333 332.82757599999997 'leftturn' 'roadmark_1014.jpg']\n",
            "roadmark_1014.jpg\n",
            "[285.625854 313.08581499999997 359.767731 342.37643399999996 330.241394\n",
            " 317.310333 318.17242400000003 337.137939 'leftturn' 'roadmark_1015.jpg']\n",
            "roadmark_1015.jpg\n",
            "[291.117859 313.08581499999997 363.429077 340.545776 328.517242\n",
            " 318.17242400000003 319.896545 331.965515 'leftturn' 'roadmark_1016.jpg']\n",
            "roadmark_1016.jpg\n",
            "[290.202515 315.831818 358.852417 338.715088 329.379303 317.310333\n",
            " 318.17242400000003 337.137939 'leftturn' 'roadmark_1017.jpg']\n",
            "roadmark_1017.jpg\n",
            "[290.202515 312.170471 354.275757 338.715088 329.379303 319.034485\n",
            " 319.034485 337.137939 'leftturn' 'roadmark_1018.jpg']\n",
            "roadmark_1018.jpg\n",
            "[288.371857 312.170471 354.275757 339.630432 331.103455 316.448273\n",
            " 320.758606 336.275848 'leftturn' 'roadmark_1019.jpg']\n",
            "roadmark_1019.jpg\n",
            "[287.45651200000003 310.339813 360.683075 343.291748 334.551727 319.896545\n",
            " 319.034485 337.137939 'leftturn' 'roadmark_1020.jpg']\n",
            "roadmark_1020.jpg\n",
            "[284.71054100000003 313.08581499999997 357.937073 343.291748\n",
            " 332.82757599999997 318.17242400000003 319.896545 334.551727 'leftturn'\n",
            " 'roadmark_1021.jpg']\n",
            "roadmark_1021.jpg\n",
            "[285.625854 310.339813 355.191071 345.122437 332.82757599999997 319.034485\n",
            " 320.758606 335.413788 'leftturn' 'roadmark_1022.jpg']\n",
            "roadmark_1022.jpg\n",
            "[282.879852 309.4245 358.852417 342.37643399999996 331.965515 321.620697\n",
            " 320.758606 334.551727 'leftturn' 'roadmark_1023.jpg']\n",
            "roadmark_1023.jpg\n",
            "[283.79519700000003 314.916473 357.021729 341.46109 332.82757599999997\n",
            " 318.17242400000003 319.034485 338.862061 'leftturn' 'roadmark_1024.jpg']\n",
            "roadmark_1024.jpg\n",
            "[289.28717 312.170471 362.513733 338.715088 332.82757599999997 316.448273\n",
            " 320.758606 334.551727 'leftturn' 'roadmark_1025.jpg']\n",
            "roadmark_1025.jpg\n",
            "[287.45651200000003 312.170471 356.10641499999997 340.545776\n",
            " 332.82757599999997 319.896545 319.034485 335.413788 'leftturn'\n",
            " 'roadmark_1026.jpg']\n",
            "roadmark_1026.jpg\n",
            "[285.625854 312.170471 355.191071 341.46109 331.103455 318.17242400000003\n",
            " 319.034485 337.137939 'leftturn' 'roadmark_1027.jpg']\n",
            "roadmark_1027.jpg\n",
            "[283.79519700000003 313.08581499999997 360.683075 339.630432 331.965515\n",
            " 318.17242400000003 319.896545 336.275848 'leftturn' 'roadmark_1028.jpg']\n",
            "roadmark_1028.jpg\n",
            "[281.049194 314.001129 356.10641499999997 346.953094 332.82757599999997\n",
            " 318.17242400000003 317.310333 335.413788 'leftturn' 'roadmark_1029.jpg']\n",
            "roadmark_1029.jpg\n",
            "[282.879852 316.747131 355.191071 343.291748 331.965515 317.310333\n",
            " 319.034485 335.413788 'leftturn' 'roadmark_1030.jpg']\n",
            "roadmark_1030.jpg\n",
            "[287.45651200000003 309.4245 355.191071 343.291748 331.103455 320.758606\n",
            " 319.034485 336.275848 'leftturn' 'roadmark_1031.jpg']\n",
            "roadmark_1031.jpg\n",
            "[289.28717 311.255157 356.10641499999997 345.122437 331.103455\n",
            " 318.17242400000003 320.758606 337.137939 'leftturn' 'roadmark_1032.jpg']\n",
            "roadmark_1032.jpg\n",
            "[286.541199 310.339813 358.852417 340.545776 331.103455 318.17242400000003\n",
            " 319.896545 338.0 'leftturn' 'roadmark_1033.jpg']\n",
            "roadmark_1033.jpg\n",
            "[285.625854 310.339813 360.683075 344.207092 331.965515 319.896545\n",
            " 320.758606 337.137939 'leftturn' 'roadmark_1034.jpg']\n",
            "roadmark_1034.jpg\n",
            "[286.541199 308.50915499999996 352.445068 342.37643399999996\n",
            " 332.82757599999997 320.758606 320.758606 335.413788 'leftturn'\n",
            " 'roadmark_1035.jpg']\n",
            "roadmark_1035.jpg\n",
            "[292.033173 310.339813 356.10641499999997 341.46109 331.103455 320.758606\n",
            " 320.758606 334.551727 'leftturn' 'roadmark_1036.jpg']\n",
            "roadmark_1036.jpg\n",
            "[290.202515 310.339813 351.52975499999997 342.37643399999996 331.103455\n",
            " 321.620697 321.620697 334.551727 'leftturn' 'roadmark_1037.jpg']\n",
            "roadmark_1037.jpg\n",
            "[292.948517 306.678497 350.61441 341.46109 331.965515 320.758606\n",
            " 320.758606 334.551727 'leftturn' 'roadmark_1038.jpg']\n",
            "roadmark_1038.jpg\n",
            "[291.117859 314.001129 352.445068 336.88443 331.965515 319.896545\n",
            " 322.482758 335.413788 'leftturn' 'roadmark_1039.jpg']\n",
            "roadmark_1039.jpg\n",
            "[284.71054100000003 308.50915499999996 351.52975499999997 345.122437\n",
            " 331.103455 320.758606 321.620697 333.689667 'leftturn'\n",
            " 'roadmark_1040.jpg']\n",
            "roadmark_1040.jpg\n",
            "[283.79519700000003 310.339813 354.275757 345.122437 333.689667 320.758606\n",
            " 319.896545 334.551727 'leftturn' 'roadmark_1041.jpg']\n",
            "roadmark_1041.jpg\n",
            "[285.625854 308.50915499999996 351.52975499999997 339.630432 333.689667\n",
            " 320.758606 321.620697 337.137939 'leftturn' 'roadmark_1042.jpg']\n",
            "roadmark_1042.jpg\n",
            "[286.541199 302.101837 355.191071 336.88443 331.965515 324.206909\n",
            " 321.620697 334.551727 'leftturn' 'roadmark_1043.jpg']\n",
            "roadmark_1043.jpg\n",
            "[281.964539 302.101837 353.360413 335.05377200000004 336.275848 322.482758\n",
            " 321.620697 338.0 'leftturn' 'roadmark_1044.jpg']\n",
            "roadmark_1044.jpg\n",
            "[280.13388100000003 307.59381099999996 352.445068 334.138458 333.689667\n",
            " 322.482758 320.758606 335.413788 'leftturn' 'roadmark_1045.jpg']\n",
            "roadmark_1045.jpg\n",
            "[274.64187599999997 306.678497 350.61441 335.05377200000004 334.551727\n",
            " 319.896545 319.896545 338.0 'leftturn' 'roadmark_1046.jpg']\n",
            "roadmark_1046.jpg\n",
            "[279.218536 304.847839 351.52975499999997 338.715088 335.413788 322.482758\n",
            " 319.896545 338.862061 'leftturn' 'roadmark_1047.jpg']\n",
            "roadmark_1047.jpg\n",
            "[275.55722000000003 307.59381099999996 353.360413 337.799774 337.137939\n",
            " 320.758606 323.34481800000003 338.0 'leftturn' 'roadmark_1048.jpg']\n",
            "roadmark_1048.jpg\n",
            "[274.64187599999997 300.271179 352.445068 334.138458 337.137939\n",
            " 323.34481800000003 319.896545 339.724152 'leftturn' 'roadmark_1049.jpg']\n",
            "roadmark_1049.jpg\n",
            "[276.472534 299.355835 351.52975499999997 335.96911600000004 334.551727\n",
            " 322.482758 321.620697 337.137939 'leftturn' 'roadmark_1050.jpg']\n",
            "roadmark_1050.jpg\n",
            "[281.049194 312.170471 358.852417 335.96911600000004 333.689667 319.896545\n",
            " 319.896545 338.862061 'leftturn' 'roadmark_1051.jpg']\n",
            "roadmark_1051.jpg\n",
            "[275.55722000000003 301.18649300000004 351.52975499999997\n",
            " 335.96911600000004 335.413788 322.482758 319.896545 339.724152 'leftturn'\n",
            " 'roadmark_1052.jpg']\n",
            "roadmark_1052.jpg\n",
            "[278.30319199999997 303.01715099999996 351.52975499999997 336.88443\n",
            " 335.413788 322.482758 320.758606 338.0 'leftturn' 'roadmark_1053.jpg']\n",
            "roadmark_1053.jpg\n",
            "[274.64187599999997 304.847839 353.360413 341.46109 334.551727 320.758606\n",
            " 320.758606 337.137939 'leftturn' 'roadmark_1054.jpg']\n",
            "roadmark_1054.jpg\n",
            "[274.64187599999997 307.59381099999996 353.360413 343.291748 336.275848\n",
            " 320.758606 319.896545 337.137939 'leftturn' 'roadmark_1055.jpg']\n",
            "roadmark_1055.jpg\n",
            "[277.387878 305.763153 354.275757 337.799774 333.689667 319.034485\n",
            " 320.758606 339.724152 'leftturn' 'roadmark_1056.jpg']\n",
            "roadmark_1056.jpg\n",
            "[284.71054100000003 309.4245 352.445068 337.799774 333.689667\n",
            " 318.17242400000003 322.482758 338.0 'leftturn' 'roadmark_1057.jpg']\n",
            "roadmark_1057.jpg\n",
            "[275.55722000000003 303.932495 349.699097 339.630432 333.689667 320.758606\n",
            " 319.034485 338.0 'leftturn' 'roadmark_1058.jpg']\n",
            "roadmark_1058.jpg\n",
            "[274.64187599999997 303.932495 352.445068 342.37643399999996 333.689667\n",
            " 321.620697 320.758606 338.0 'leftturn' 'roadmark_1059.jpg']\n",
            "roadmark_1059.jpg\n",
            "[281.049194 310.339813 352.445068 342.37643399999996 332.82757599999997\n",
            " 320.758606 320.758606 337.137939 'leftturn' 'roadmark_1060.jpg']\n",
            "roadmark_1060.jpg\n",
            "[279.218536 302.101837 347.868408 342.37643399999996 335.413788 322.482758\n",
            " 319.896545 338.862061 'leftturn' 'roadmark_1061.jpg']\n",
            "roadmark_1061.jpg\n",
            "[279.218536 307.59381099999996 353.360413 336.88443 333.689667 319.034485\n",
            " 319.034485 340.586212 'leftturn' 'roadmark_1062.jpg']\n",
            "roadmark_1062.jpg\n",
            "[277.387878 301.18649300000004 351.52975499999997 338.715088 334.551727\n",
            " 320.758606 320.758606 340.586212 'leftturn' 'roadmark_1063.jpg']\n",
            "roadmark_1063.jpg\n",
            "[278.30319199999997 299.355835 347.868408 339.630432 335.413788 320.758606\n",
            " 319.896545 339.724152 'leftturn' 'roadmark_1064.jpg']\n",
            "roadmark_1064.jpg\n",
            "[277.387878 299.355835 346.953094 345.122437 336.275848 320.758606\n",
            " 319.896545 338.862061 'leftturn' 'roadmark_1065.jpg']\n",
            "roadmark_1065.jpg\n",
            "[281.964539 295.694519 349.699097 345.122437 334.551727 321.620697\n",
            " 320.758606 336.275848 'leftturn' 'roadmark_1066.jpg']\n",
            "roadmark_1066.jpg\n",
            "[288.371857 301.18649300000004 349.699097 343.291748 333.689667 321.620697\n",
            " 323.34481800000003 336.275848 'leftturn' 'roadmark_1067.jpg']\n",
            "roadmark_1067.jpg\n",
            "[281.964539 305.763153 343.291748 343.291748 333.689667 322.482758\n",
            " 320.758606 338.0 'leftturn' 'roadmark_1068.jpg']\n",
            "roadmark_1068.jpg\n",
            "[281.964539 300.271179 349.699097 343.291748 333.689667 321.620697\n",
            " 321.620697 338.0 'leftturn' 'roadmark_1069.jpg']\n",
            "roadmark_1069.jpg\n",
            "[281.049194 302.101837 346.953094 343.291748 334.551727 320.758606\n",
            " 322.482758 335.413788 'leftturn' 'roadmark_1070.jpg']\n",
            "roadmark_1070.jpg\n",
            "[279.218536 309.4245 350.61441 341.46109 333.689667 319.896545 319.896545\n",
            " 337.137939 'leftturn' 'roadmark_1071.jpg']\n",
            "roadmark_1071.jpg\n",
            "[279.218536 310.339813 353.360413 338.715088 333.689667 320.758606\n",
            " 319.896545 341.448273 'leftturn' 'roadmark_1072.jpg']\n",
            "roadmark_1072.jpg\n",
            "[276.472534 302.101837 345.122437 338.715088 332.82757599999997 321.620697\n",
            " 319.896545 338.862061 'leftturn' 'roadmark_1073.jpg']\n",
            "roadmark_1073.jpg\n",
            "[281.964539 301.18649300000004 346.953094 340.545776 334.551727\n",
            " 323.34481800000003 319.896545 337.137939 'leftturn' 'roadmark_1074.jpg']\n",
            "roadmark_1074.jpg\n",
            "[277.387878 299.355835 350.61441 339.630432 334.551727 322.482758\n",
            " 322.482758 338.0 'leftturn' 'roadmark_1075.jpg']\n",
            "roadmark_1075.jpg\n",
            "[275.55722000000003 308.50915499999996 350.61441 333.223114 334.551727\n",
            " 319.896545 319.896545 339.724152 'leftturn' 'roadmark_1076.jpg']\n",
            "roadmark_1076.jpg\n",
            "[282.879852 308.50915499999996 350.61441 335.96911600000004\n",
            " 332.82757599999997 320.758606 320.758606 339.724152 'leftturn'\n",
            " 'roadmark_1077.jpg']\n",
            "roadmark_1077.jpg\n",
            "[279.218536 304.847839 343.291748 339.630432 335.413788 320.758606\n",
            " 321.620697 338.862061 'leftturn' 'roadmark_1078.jpg']\n",
            "roadmark_1078.jpg\n",
            "[277.387878 300.271179 350.61441 339.630432 335.413788 321.620697\n",
            " 319.896545 338.0 'leftturn' 'roadmark_1079.jpg']\n",
            "roadmark_1079.jpg\n",
            "[280.13388100000003 303.932495 351.52975499999997 341.46109 333.689667\n",
            " 321.620697 320.758606 337.137939 'leftturn' 'roadmark_1080.jpg']\n",
            "roadmark_1080.jpg\n",
            "[285.625854 308.50915499999996 355.191071 337.799774 333.689667\n",
            " 318.17242400000003 321.620697 340.586212 'leftturn' 'roadmark_1081.jpg']\n",
            "roadmark_1081.jpg\n",
            "[275.55722000000003 301.18649300000004 356.10641499999997 332.30777\n",
            " 336.275848 319.896545 322.482758 341.448273 'leftturn'\n",
            " 'roadmark_1082.jpg']\n",
            "roadmark_1082.jpg\n",
            "[277.387878 306.678497 352.445068 338.715088 334.551727 320.758606\n",
            " 321.620697 337.137939 'leftturn' 'roadmark_1083.jpg']\n",
            "roadmark_1083.jpg\n",
            "[279.218536 306.678497 354.275757 339.630432 332.82757599999997 319.896545\n",
            " 320.758606 338.0 'leftturn' 'roadmark_1084.jpg']\n",
            "roadmark_1084.jpg\n",
            "[281.049194 303.01715099999996 352.445068 344.207092 331.965515 322.482758\n",
            " 319.896545 335.413788 'leftturn' 'roadmark_1085.jpg']\n",
            "roadmark_1085.jpg\n",
            "[383.566376 400.042328 447.639587 468.69223 363.862061 337.137939\n",
            " 336.275848 363.0 '25' 'roadmark_1086.jpg']\n",
            "roadmark_1086.jpg\n",
            "[340.545776 362.513733 470.52288799999997 506.220825 364.724152 330.241394\n",
            " 330.241394 363.862061 'X-crossing' 'roadmark_1087.jpg']\n",
            "roadmark_1087.jpg\n",
            "[327.73111 360.683075 478.76086399999997 529.104126 382.82757599999997\n",
            " 337.137939 337.137939 380.241394 'X-crossing' 'roadmark_1088.jpg']\n",
            "roadmark_1088.jpg\n",
            "[191.34668 287.45651200000003 315.831818 254.50457799999998 364.724152\n",
            " 379.379303 348.34481800000003 343.17242400000003 'leftturn'\n",
            " 'roadmark_1089.jpg']\n",
            "roadmark_1089.jpg\n",
            "[363.429077 371.66705299999995 449.47024500000003 479.67620800000003\n",
            " 377.65518199999997 338.862061 341.448273 371.620697 'forward&right'\n",
            " 'roadmark_1090.jpg']\n",
            "roadmark_1090.jpg\n",
            "[323.154449 355.191071 460.454224 491.5755 363.0 329.379303 330.241394\n",
            " 362.137939 'X-crossing' 'roadmark_1091.jpg']\n",
            "roadmark_1091.jpg\n",
            "[273.72653199999996 332.30777 347.868408 304.847839 332.82757599999997\n",
            " 339.724152 323.34481800000003 320.758606 'leftturn' 'roadmark_1092.jpg']\n",
            "roadmark_1092.jpg\n",
            "[378.074371 380.820374 443.06292699999995 444.893585 338.0 320.758606\n",
            " 322.482758 338.862061 'forward&right' 'roadmark_1093.jpg']\n",
            "roadmark_1093.jpg\n",
            "[235.282608 270.98056 332.30777 315.831818 346.620697 327.65518199999997\n",
            " 330.241394 350.06897000000004 'leftturn' 'roadmark_1094.jpg']\n",
            "roadmark_1094.jpg\n",
            "[362.513733 376.243713 444.893585 465.03088399999996 350.93102999999996\n",
            " 323.34481800000003 328.517242 356.103455 'forward&right'\n",
            " 'roadmark_1095.jpg']\n",
            "roadmark_1095.jpg\n",
            "[361.598389 372.582367 440.316925 465.946228 361.275848 335.413788\n",
            " 335.413788 356.103455 'forward&right' 'roadmark_1096.jpg']\n",
            "roadmark_1096.jpg\n",
            "[357.937073 369.83639500000004 445.808929 466.861542 363.862061 335.413788\n",
            " 336.275848 363.0 'forward&right' 'roadmark_1097.jpg']\n",
            "roadmark_1097.jpg\n",
            "[350.61441 368.921051 438.486267 474.184204 373.34481800000003 339.724152\n",
            " 340.586212 369.034485 'forward&right' 'roadmark_1098.jpg']\n",
            "roadmark_1098.jpg\n",
            "[172.12471000000002 211.48397799999998 298.440491 256.335236 383.689667\n",
            " 358.689667 359.551727 397.482758 'leftturn' 'roadmark_1099.jpg']\n",
            "roadmark_1099.jpg\n",
            "[343.291748 356.10641499999997 440.316925 485.168182 394.896545\n",
            " 350.93102999999996 350.93102999999996 395.758606 'forward&right'\n",
            " 'roadmark_1100.jpg']\n",
            "roadmark_1100.jpg\n",
            "[340.545776 363.429077 460.454224 485.168182 355.241394 327.65518199999997\n",
            " 329.379303 357.82757599999997 'X-crossing' 'roadmark_1101.jpg']\n",
            "roadmark_1101.jpg\n",
            "[313.08581499999997 352.445068 466.861542 507.13616900000005 380.241394\n",
            " 338.862061 339.724152 379.379303 'X-crossing' 'roadmark_1102.jpg']\n",
            "roadmark_1102.jpg\n",
            "[233.45195 270.98056 321.32379199999997 310.339813 352.65518199999997\n",
            " 337.137939 342.310333 366.448273 'leftturn' 'roadmark_1103.jpg']\n",
            "roadmark_1103.jpg\n",
            "[231.621277 270.065216 324.069794 309.4245 358.689667 340.586212\n",
            " 341.448273 368.17242400000003 'leftturn' 'roadmark_1104.jpg']\n",
            "roadmark_1104.jpg\n",
            "[356.10641499999997 373.497711 471.43820199999993 497.98284900000004\n",
            " 354.379303 329.379303 327.65518199999997 353.517242 'X-crossing'\n",
            " 'roadmark_1105.jpg']\n",
            "roadmark_1105.jpg\n",
            "[380.820374 398.21167 436.65560899999997 438.486267 354.379303 329.379303\n",
            " 328.517242 352.65518199999997 'forward' 'roadmark_1106.jpg']\n",
            "roadmark_1106.jpg\n",
            "[498.898163 507.13616900000005 576.701355 580.362671 349.206909 328.517242\n",
            " 329.379303 345.758606 'rightturn' 'roadmark_1107.jpg']\n",
            "roadmark_1107.jpg\n",
            "[356.10641499999997 379.905029 431.16360499999996 447.639587 371.620697\n",
            " 338.862061 337.137939 374.206909 'forward' 'roadmark_1108.jpg']\n",
            "roadmark_1108.jpg\n",
            "[513.543457 520.86615 595.007996 609.65332 359.551727 338.862061\n",
            " 337.137939 355.241394 'rightturn' 'roadmark_1109.jpg']\n",
            "roadmark_1109.jpg\n",
            "[372.582367 390.889008 465.946228 490.660187 396.620697 349.206909\n",
            " 345.758606 386.275848 '25' 'roadmark_1110.jpg']\n",
            "roadmark_1110.jpg\n",
            "[171.209381 208.737991 272.811218 243.52059900000003 365.586212 341.448273\n",
            " 345.758606 369.896545 'leftturn' 'roadmark_1111.jpg']\n",
            "roadmark_1111.jpg\n",
            "[343.291748 372.582367 415.60296600000004 416.518311 338.862061\n",
            " 325.93102999999996 328.517242 346.620697 'leftturn' 'roadmark_1112.jpg']\n",
            "roadmark_1112.jpg\n",
            "[452.21624800000006 450.38559000000004 513.543457 527.2734379999999\n",
            " 349.206909 319.034485 325.06897000000004 344.896545 'forward&right'\n",
            " 'roadmark_1113.jpg']\n",
            "roadmark_1113.jpg\n",
            "[337.799774 361.598389 419.264313 422.010284 350.06897000000004 333.689667\n",
            " 331.965515 358.689667 'leftturn' 'roadmark_1114.jpg']\n",
            "roadmark_1114.jpg\n",
            "[465.946228 466.861542 536.4267580000001 571.209412 359.551727 326.793091\n",
            " 328.517242 352.65518199999997 'forward&right' 'roadmark_1115.jpg']\n",
            "roadmark_1115.jpg\n",
            "[324.069794 363.429077 434.824951 425.67163099999993 364.724152 341.448273\n",
            " 348.34481800000003 379.379303 'leftturn' 'roadmark_1116.jpg']\n",
            "roadmark_1116.jpg\n",
            "[489.74484299999995 488.829529 567.5480349999999 623.383301 384.551727\n",
            " 338.0 339.724152 368.17242400000003 'forward&right' 'roadmark_1117.jpg']\n",
            "roadmark_1117.jpg\n",
            "[383.566376 397.29632599999997 448.554932 466.861542 345.758606 329.379303\n",
            " 326.793091 344.896545 'leftturn' 'roadmark_1118.jpg']\n",
            "roadmark_1118.jpg\n",
            "[501.64416500000004 487.914185 554.7333980000001 586.77002 351.793091\n",
            " 326.793091 323.34481800000003 341.448273 'forward&right'\n",
            " 'roadmark_1119.jpg']\n",
            "roadmark_1119.jpg\n",
            "[370.751709 389.05835 444.893585 466.861542 354.379303 333.689667\n",
            " 335.413788 358.689667 'leftturn' 'roadmark_1120.jpg']\n",
            "roadmark_1120.jpg\n",
            "[510.79748499999994 487.914185 558.394714 609.65332 363.0 331.965515\n",
            " 331.965515 353.517242 'forward&right' 'roadmark_1121.jpg']\n",
            "roadmark_1121.jpg\n",
            "[363.429077 373.497711 448.554932 464.11557 368.17242400000003 341.448273\n",
            " 342.310333 370.758606 'leftturn' 'roadmark_1122.jpg']\n",
            "roadmark_1122.jpg\n",
            "[521.7814940000001 487.914185 573.040039 627.044617 375.06897000000004\n",
            " 338.862061 337.137939 363.0 'forward&right' 'roadmark_1123.jpg']\n",
            "roadmark_1123.jpg\n",
            "[355.191071 372.582367 422.010284 432.078949 373.34481800000003 345.758606\n",
            " 341.448273 379.379303 '25' 'roadmark_1124.jpg']\n",
            "roadmark_1124.jpg\n",
            "[342.37643399999996 363.429077 447.639587 456.792908 356.965515\n",
            " 332.82757599999997 330.241394 354.379303 'stop' 'roadmark_1125.jpg']\n",
            "roadmark_1125.jpg\n",
            "[335.05377200000004 360.683075 454.046906 465.946228 368.17242400000003\n",
            " 340.586212 339.724152 370.758606 'stop' 'roadmark_1126.jpg']\n",
            "roadmark_1126.jpg\n",
            "[362.513733 369.83639500000004 447.639587 450.38559000000004 342.310333\n",
            " 324.206909 322.482758 342.310333 'stop' 'roadmark_1127.jpg']\n",
            "roadmark_1127.jpg\n",
            "[341.46109 363.429077 473.26889000000006 485.168182 360.413788 335.413788\n",
            " 334.551727 363.862061 'speed' 'roadmark_1128.jpg']\n",
            "roadmark_1128.jpg\n",
            "[363.429077 377.159027 451.300903 448.554932 342.310333 323.34481800000003\n",
            " 325.06897000000004 348.34481800000003 'hump' 'roadmark_1129.jpg']\n",
            "roadmark_1129.jpg\n",
            "[346.03775 372.582367 451.300903 454.046906 357.82757599999997 330.241394\n",
            " 333.689667 364.724152 'hump' 'roadmark_1130.jpg']\n",
            "roadmark_1130.jpg\n",
            "[355.191071 368.921051 451.300903 472.353546 347.482758 326.793091\n",
            " 326.793091 346.620697 'speed' 'roadmark_1131.jpg']\n",
            "roadmark_1131.jpg\n",
            "[358.852417 366.175049 430.248291 436.65560899999997 338.0 319.034485\n",
            " 320.758606 338.862061 'hump' 'roadmark_1132.jpg']\n",
            "roadmark_1132.jpg\n",
            "[347.868408 362.513733 454.046906 462.284912 358.689667 338.0 337.137939\n",
            " 361.275848 'stop' 'roadmark_1133.jpg']\n",
            "roadmark_1133.jpg\n",
            "[357.021729 374.413055 441.23226900000003 449.47024500000003 369.034485\n",
            " 338.862061 338.862061 372.482758 '30' 'roadmark_1134.jpg']\n",
            "roadmark_1134.jpg\n",
            "[321.32379199999997 357.937073 446.72424299999994 445.808929 354.379303\n",
            " 331.965515 330.241394 356.965515 'slow' 'roadmark_1135.jpg']\n",
            "roadmark_1135.jpg\n",
            "[349.699097 371.66705299999995 440.316925 443.06292699999995\n",
            " 332.82757599999997 319.034485 313.862061 334.551727 'slow'\n",
            " 'roadmark_1136.jpg']\n",
            "roadmark_1136.jpg\n",
            "[355.191071 361.598389 432.99429299999997 441.23226900000003 329.379303\n",
            " 313.862061 315.586212 330.241394 'school' 'roadmark_1137.jpg']\n",
            "roadmark_1137.jpg\n",
            "[344.207092 354.275757 432.078949 454.96225 339.724152 323.34481800000003\n",
            " 320.758606 337.137939 'school' 'roadmark_1138.jpg']\n",
            "roadmark_1138.jpg\n",
            "[327.73111 343.291748 448.554932 469.607544 357.82757599999997\n",
            " 332.82757599999997 333.689667 350.93102999999996 'school'\n",
            " 'roadmark_1139.jpg']\n",
            "roadmark_1139.jpg\n",
            "[364.34439100000003 365.25973500000003 411.02630600000003 416.518311\n",
            " 324.206909 311.275848 308.689667 323.34481800000003 'xing'\n",
            " 'roadmark_1140.jpg']\n",
            "roadmark_1140.jpg\n",
            "[351.52975499999997 358.852417 417.433624 422.010284 330.241394 314.724152\n",
            " 313.862061 334.551727 'xing' 'roadmark_1141.jpg']\n",
            "roadmark_1141.jpg\n",
            "[346.03775 354.275757 420.179626 422.925629 340.586212 320.758606\n",
            " 321.620697 344.896545 'xing' 'roadmark_1142.jpg']\n",
            "roadmark_1142.jpg\n",
            "[321.32379199999997 342.37643399999996 429.332947 436.65560899999997\n",
            " 366.448273 335.413788 336.275848 366.448273 'xing' 'roadmark_1143.jpg']\n",
            "roadmark_1143.jpg\n",
            "[354.275757 363.429077 497.98284900000004 488.829529 355.241394 324.206909\n",
            " 329.379303 363.862061 'stripe' 'roadmark_1144.jpg']\n",
            "roadmark_1144.jpg\n",
            "[346.03775 375.328369 497.067505 497.067505 364.724152 328.517242\n",
            " 331.103455 369.896545 'stripe' 'roadmark_1145.jpg']\n",
            "roadmark_1145.jpg\n",
            "[346.03775 369.83639500000004 493.406189 506.220825 391.448273 345.758606\n",
            " 344.896545 386.275848 'stripe' 'roadmark_1146.jpg']\n",
            "roadmark_1146.jpg\n",
            "[403.70367400000003 407.36499 459.53891 474.184204 374.206909 338.0\n",
            " 338.862061 369.896545 '30' 'roadmark_1147.jpg']\n",
            "roadmark_1147.jpg\n",
            "[223.383301 259.081238 308.50915499999996 291.117859 347.482758 328.517242\n",
            " 331.965515 351.793091 'leftturn' 'roadmark_1148.jpg']\n",
            "roadmark_1148.jpg\n",
            "[138.257431 189.516022 265.488556 221.55262799999997 372.482758 351.793091\n",
            " 351.793091 387.137939 'leftturn' 'roadmark_1149.jpg']\n",
            "roadmark_1149.jpg\n",
            "[180.362701 213.31465099999997 277.387878 249.01258900000002\n",
            " 352.65518199999997 336.275848 341.448273 362.137939 'leftturn'\n",
            " 'roadmark_1150.jpg']\n",
            "roadmark_1150.jpg\n",
            "[126.358124 167.54805 236.19793700000002 203.246002 355.241394 340.586212\n",
            " 341.448273 372.482758 'leftturn' 'roadmark_1151.jpg']\n",
            "roadmark_1151.jpg\n",
            "[357.937073 368.921051 428.417633 432.078949 351.793091 324.206909\n",
            " 328.517242 354.379303 'rightturn' 'roadmark_1152.jpg']\n",
            "roadmark_1152.jpg\n",
            "[196.83866899999998 231.621277 299.355835 261.82724 350.93102999999996\n",
            " 328.517242 326.793091 353.517242 'forward&left' 'roadmark_1153.jpg']\n",
            "roadmark_1153.jpg\n",
            "[349.699097 361.598389 443.978271 452.21624800000006 371.620697\n",
            " 332.82757599999997 331.965515 370.758606 'rightturn' 'roadmark_1154.jpg']\n",
            "roadmark_1154.jpg\n",
            "[148.32608000000002 205.07666 287.45651200000003 220.637299 358.689667\n",
            " 333.689667 327.65518199999997 368.17242400000003 'forward&left'\n",
            " 'roadmark_1155.jpg']\n",
            "roadmark_1155.jpg\n",
            "[350.61441 363.429077 444.893585 461.36956799999996 380.241394 346.620697\n",
            " 344.896545 378.517242 'rightturn' 'roadmark_1156.jpg']\n",
            "roadmark_1156.jpg\n",
            "[111.712814 189.516022 282.879852 203.246002 371.620697 344.034485 338.0\n",
            " 386.275848 'forward&left' 'roadmark_1157.jpg']\n",
            "roadmark_1157.jpg\n",
            "[136.426773 213.31465099999997 282.879852 211.48397799999998 353.517242\n",
            " 328.517242 327.65518199999997 369.034485 'forward&left'\n",
            " 'roadmark_1158.jpg']\n",
            "roadmark_1158.jpg\n",
            "[352.445068 364.34439100000003 432.99429299999997 430.248291 344.896545\n",
            " 323.34481800000003 319.896545 340.586212 'rightturn' 'roadmark_1159.jpg']\n",
            "roadmark_1159.jpg\n",
            "[319.493134 341.46109 434.824951 432.99429299999997 378.517242 344.034485\n",
            " 338.862061 373.34481800000003 'rightturn' 'roadmark_1160.jpg']\n",
            "roadmark_1160.jpg\n",
            "[390.889008 400.042328 437.57092300000005 445.808929 350.93102999999996\n",
            " 326.793091 327.65518199999997 355.241394 '35' 'roadmark_1161.jpg']\n",
            "roadmark_1161.jpg\n",
            "[266.4039 300.271179 340.545776 309.4245 348.34481800000003\n",
            " 325.93102999999996 331.965515 354.379303 '35' 'roadmark_1162.jpg']\n",
            "roadmark_1162.jpg\n",
            "[383.566376 396.381012 444.893585 447.639587 363.862061 339.724152 338.0\n",
            " 370.758606 '35' 'roadmark_1163.jpg']\n",
            "roadmark_1163.jpg\n",
            "[214.22997999999998 275.55722000000003 326.815796 292.033173 362.137939\n",
            " 336.275848 339.724152 371.620697 '35' 'roadmark_1164.jpg']\n",
            "roadmark_1164.jpg\n",
            "[388.143036 393.63501 423.840973 444.893585 349.206909 319.896545\n",
            " 319.896545 350.06897000000004 'forward' 'roadmark_1165.jpg']\n",
            "roadmark_1165.jpg\n",
            "[253.58924900000002 293.863831 337.799774 315.831818 346.620697 324.206909\n",
            " 325.06897000000004 350.93102999999996 'forward' 'roadmark_1166.jpg']\n",
            "roadmark_1166.jpg\n",
            "[162.056061 200.5 249.01258900000002 206.907318 338.862061\n",
            " 323.34481800000003 331.103455 345.758606 'leftturn' 'roadmark_1167.jpg']\n",
            "roadmark_1167.jpg\n",
            "[387.227692 397.29632599999997 439.40161100000006 445.808929\n",
            " 352.65518199999997 330.241394 327.65518199999997 349.206909 'forward'\n",
            " 'roadmark_1168.jpg']\n",
            "roadmark_1168.jpg\n",
            "[368.921051 382.651031 435.740265 427.50228899999996 351.793091\n",
            " 325.06897000000004 328.517242 349.206909 '35' 'roadmark_1169.jpg']\n",
            "roadmark_1169.jpg\n",
            "[245.35125699999998 288.371857 336.88443 307.59381099999996\n",
            " 343.17242400000003 325.06897000000004 328.517242 350.93102999999996 '35'\n",
            " 'roadmark_1170.jpg']\n",
            "roadmark_1170.jpg\n",
            "[182.19335900000002 238.02861000000001 291.117859 239.85926800000001\n",
            " 355.241394 336.275848 342.310333 369.034485 'leftturn'\n",
            " 'roadmark_1171.jpg']\n",
            "roadmark_1171.jpg\n",
            "[190.431351 233.45195 288.371857 247.181915 354.379303 338.0 342.310333\n",
            " 369.896545 'leftturn' 'roadmark_1172.jpg']\n",
            "roadmark_1172.jpg\n",
            "[332.30777 356.10641499999997 433.90960700000005 419.264313\n",
            " 343.17242400000003 320.758606 324.206909 343.17242400000003 'keep'\n",
            " 'roadmark_1173.jpg']\n",
            "roadmark_1173.jpg\n",
            "[454.96225 446.72424299999994 519.035461 531.850098 342.310333\n",
            " 325.06897000000004 317.310333 338.862061 'keep' 'roadmark_1174.jpg']\n",
            "roadmark_1174.jpg\n",
            "[339.630432 357.021729 439.40161100000006 443.06292699999995 340.586212\n",
            " 325.06897000000004 322.482758 347.482758 'clear' 'roadmark_1175.jpg']\n",
            "roadmark_1175.jpg\n",
            "[468.69223 453.131592 532.765442 565.717407 348.34481800000003\n",
            " 325.93102999999996 320.758606 335.413788 'clear' 'roadmark_1176.jpg']\n",
            "roadmark_1176.jpg\n",
            "[354.275757 374.413055 417.433624 423.840973 359.551727 331.965515\n",
            " 331.103455 361.275848 '35' 'roadmark_1177.jpg']\n",
            "roadmark_1177.jpg\n",
            "[509.882141 483.33752400000003 530.934753 567.5480349999999 359.551727\n",
            " 333.689667 325.06897000000004 352.65518199999997 '35' 'roadmark_1178.jpg']\n",
            "roadmark_1178.jpg\n",
            "[358.852417 371.66705299999995 420.179626 422.925629 347.482758\n",
            " 327.65518199999997 326.793091 351.793091 '35' 'roadmark_1179.jpg']\n",
            "roadmark_1179.jpg\n",
            "[490.660187 466.861542 519.035461 545.5800780000001 350.93102999999996\n",
            " 328.517242 326.793091 345.758606 '35' 'roadmark_1180.jpg']\n",
            "roadmark_1180.jpg\n",
            "[356.10641499999997 373.497711 421.094971 425.67163099999993\n",
            " 357.82757599999997 332.82757599999997 329.379303 353.517242 '35'\n",
            " 'roadmark_1181.jpg']\n",
            "roadmark_1181.jpg\n",
            "[508.96682699999997 480.591522 541.003418 568.463379 357.82757599999997\n",
            " 331.965515 331.965515 352.65518199999997 '35' 'roadmark_1182.jpg']\n",
            "roadmark_1182.jpg\n",
            "[368.921051 373.497711 422.925629 429.332947 363.0 334.551727\n",
            " 332.82757599999997 363.0 '35' 'roadmark_1183.jpg']\n",
            "roadmark_1183.jpg\n",
            "[519.950806 477.845551 531.850098 569.378723 362.137939 335.413788\n",
            " 331.103455 353.517242 '35' 'roadmark_1184.jpg']\n",
            "roadmark_1184.jpg\n",
            "[384.481689 397.29632599999997 438.486267 447.639587 344.034485 324.206909\n",
            " 324.206909 351.793091 'forward' 'roadmark_1185.jpg']\n",
            "roadmark_1185.jpg\n",
            "[562.056091 531.850098 595.007996 633.4519650000001 361.275848 337.137939\n",
            " 330.241394 352.65518199999997 'rightturn' 'roadmark_1186.jpg']\n",
            "roadmark_1186.jpg\n",
            "[393.63501 394.550354 436.65560899999997 439.40161100000006 338.862061\n",
            " 317.310333 319.896545 340.586212 'forward' 'roadmark_1187.jpg']\n",
            "roadmark_1187.jpg\n",
            "[316.747131 347.868408 447.639587 458.62356600000004 413.862061\n",
            " 357.82757599999997 358.689667 423.344818 '35' 'roadmark_1188.jpg']\n",
            "roadmark_1188.jpg\n",
            "[195.92334 259.996582 312.170471 284.71054100000003 355.241394 334.551727\n",
            " 344.034485 371.620697 'leftturn' 'roadmark_1189.jpg']\n",
            "roadmark_1189.jpg\n",
            "[285.625854 352.445068 401.87298599999997 368.005707 360.413788 319.034485\n",
            " 322.482758 363.862061 'leftturn' 'roadmark_1190.jpg']\n",
            "roadmark_1190.jpg\n",
            "[324.069794 385.39703399999996 443.06292699999995 434.824951 351.793091\n",
            " 316.448273 318.17242400000003 357.82757599999997 'rail'\n",
            " 'roadmark_1191.jpg']\n",
            "roadmark_1191.jpg\n",
            "[251.758575 354.275757 437.57092300000005 448.554932 401.793091 331.103455\n",
            " 334.551727 414.724152 'rail' 'roadmark_1192.jpg']\n",
            "roadmark_1192.jpg\n",
            "[336.88443 371.66705299999995 423.840973 453.131592 375.93102999999996\n",
            " 328.517242 326.793091 381.965515 'leftturn' 'roadmark_1193.jpg']\n",
            "roadmark_1193.jpg\n",
            "[369.83639500000004 388.143036 438.486267 454.96225 356.103455 331.103455\n",
            " 331.965515 357.82757599999997 '40' 'roadmark_1194.jpg']\n",
            "roadmark_1194.jpg\n",
            "[238.02861000000001 276.472534 346.953094 316.747131 348.34481800000003\n",
            " 332.82757599999997 334.551727 356.965515 '40' 'roadmark_1195.jpg']\n",
            "roadmark_1195.jpg\n",
            "[520.86615 493.406189 551.072083 590.431335 358.689667 338.0 330.241394\n",
            " 350.93102999999996 '40' 'roadmark_1196.jpg']\n",
            "roadmark_1196.jpg\n",
            "[391.804352 408.280334 466.861542 477.845551 357.82757599999997 331.965515\n",
            " 331.103455 357.82757599999997 '40' 'roadmark_1197.jpg']\n",
            "roadmark_1197.jpg\n",
            "[589.515991 555.648743 615.145325 663.657898 363.0 335.413788 331.103455\n",
            " 353.517242 '40' 'roadmark_1198.jpg']\n",
            "roadmark_1198.jpg\n",
            "[285.625854 329.561798 369.83639500000004 333.223114 325.93102999999996\n",
            " 309.551727 309.551727 337.137939 'leftturn' 'roadmark_1199.jpg']\n",
            "roadmark_1199.jpg\n",
            "[246.266586 321.32379199999997 357.021729 319.493134 338.862061 314.724152\n",
            " 317.310333 347.482758 'leftturn' 'roadmark_1200.jpg']\n",
            "roadmark_1200.jpg\n",
            "[201.415329 304.847839 350.61441 284.71054100000003 352.65518199999997\n",
            " 314.724152 324.206909 366.448273 'leftturn' 'roadmark_1201.jpg']\n",
            "roadmark_1201.jpg\n",
            "[162.056061 294.779175 342.37643399999996 252.67392 364.724152 320.758606\n",
            " 325.06897000000004 390.586212 'leftturn' 'roadmark_1202.jpg']\n",
            "roadmark_1202.jpg\n",
            "[102.559494 287.45651200000003 341.46109 225.213959 385.413788 321.620697\n",
            " 328.517242 404.379303 'leftturn' 'roadmark_1203.jpg']\n",
            "roadmark_1203.jpg\n",
            "[110.79748500000001 283.79519700000003 328.646454 221.55262799999997\n",
            " 381.965515 325.93102999999996 329.379303 410.413788 'leftturn'\n",
            " 'roadmark_1204.jpg']\n",
            "roadmark_1204.jpg\n",
            "[77.845535 278.30319199999997 336.88443 202.330658 390.586212 326.793091\n",
            " 329.379303 419.896545 'leftturn' 'roadmark_1205.jpg']\n",
            "roadmark_1205.jpg\n",
            "[83.337532 293.863831 325.90045200000003 209.65332 392.310333 321.620697\n",
            " 337.137939 418.17242400000003 'leftturn' 'roadmark_1206.jpg']\n",
            "roadmark_1206.jpg\n",
            "[70.52288100000001 295.694519 331.392456 203.246002 395.758606\n",
            " 323.34481800000003 332.82757599999997 422.482758 'leftturn'\n",
            " 'roadmark_1207.jpg']\n",
            "roadmark_1207.jpg\n",
            "[102.559494 270.065216 346.03775 204.16133100000002 387.137939 330.241394\n",
            " 327.65518199999997 419.896545 'leftturn' 'roadmark_1208.jpg']\n",
            "roadmark_1208.jpg\n",
            "[102.559494 299.355835 324.985138 212.399307 382.82757599999997 321.620697\n",
            " 336.275848 419.034485 'leftturn' 'roadmark_1209.jpg']\n",
            "roadmark_1209.jpg\n",
            "[90.660187 292.948517 320.408478 205.07666 385.413788 322.482758\n",
            " 346.620697 421.62069699999995 'leftturn' 'roadmark_1210.jpg']\n",
            "roadmark_1210.jpg\n",
            "[89.74485 284.71054100000003 334.138458 194.092682 388.862061\n",
            " 325.06897000000004 335.413788 428.517242 'leftturn' 'roadmark_1211.jpg']\n",
            "roadmark_1211.jpg\n",
            "[105.305489 289.28717 323.154449 206.907318 383.689667 324.206909\n",
            " 341.448273 419.034485 'leftturn' 'roadmark_1212.jpg']\n",
            "roadmark_1212.jpg\n",
            "[106.220825 293.863831 326.815796 207.822647 388.0 323.34481800000003\n",
            " 344.896545 419.034485 'leftturn' 'roadmark_1213.jpg']\n",
            "roadmark_1213.jpg\n",
            "[95.236839 279.218536 339.630432 200.5 390.586212 327.65518199999997\n",
            " 334.551727 421.62069699999995 'leftturn' 'roadmark_1214.jpg']\n",
            "roadmark_1214.jpg\n",
            "[93.406181 286.541199 332.30777 199.584671 384.551727 325.06897000000004\n",
            " 339.724152 422.482758 'leftturn' 'roadmark_1215.jpg']\n",
            "roadmark_1215.jpg\n",
            "[98.89817 275.55722000000003 336.88443 205.991989 383.689667\n",
            " 327.65518199999997 330.241394 418.17242400000003 'leftturn'\n",
            " 'roadmark_1216.jpg']\n",
            "roadmark_1216.jpg\n",
            "[105.305489 292.033173 319.493134 201.415329 384.551727 324.206909\n",
            " 344.034485 422.482758 'leftturn' 'roadmark_1217.jpg']\n",
            "roadmark_1217.jpg\n",
            "[97.98284100000001 277.387878 331.392456 207.822647 383.689667 328.517242\n",
            " 329.379303 415.586212 'leftturn' 'roadmark_1218.jpg']\n",
            "roadmark_1218.jpg\n",
            "[119.95079799999999 304.847839 300.271179 204.16133100000002 378.517242\n",
            " 319.034485 356.965515 418.17242400000003 'leftturn' 'roadmark_1219.jpg']\n",
            "roadmark_1219.jpg\n",
            "[111.712814 268.234558 331.392456 205.07666 382.82757599999997 330.241394\n",
            " 331.965515 419.896545 'leftturn' 'roadmark_1220.jpg']\n",
            "roadmark_1220.jpg\n",
            "[96.152176 291.117859 321.32379199999997 201.415329 387.137939\n",
            " 323.34481800000003 337.137939 418.17242400000003 'leftturn'\n",
            " 'roadmark_1221.jpg']\n",
            "roadmark_1221.jpg\n",
            "[91.57551600000001 281.964539 333.223114 203.246002 388.862061\n",
            " 327.65518199999997 330.241394 419.034485 'leftturn' 'roadmark_1222.jpg']\n",
            "roadmark_1222.jpg\n",
            "[83.337532 281.049194 331.392456 207.822647 391.448273 327.65518199999997\n",
            " 331.965515 418.17242400000003 'leftturn' 'roadmark_1223.jpg']\n",
            "roadmark_1223.jpg\n",
            "[95.236839 281.964539 332.30777 203.246002 387.137939 326.793091\n",
            " 336.275848 421.62069699999995 'leftturn' 'roadmark_1224.jpg']\n",
            "roadmark_1224.jpg\n",
            "[93.406181 292.033173 328.646454 205.991989 389.724152 325.06897000000004\n",
            " 340.586212 417.310333 'leftturn' 'roadmark_1225.jpg']\n",
            "roadmark_1225.jpg\n",
            "[95.236839 290.202515 321.32379199999997 207.822647 385.413788 324.206909\n",
            " 347.482758 422.482758 'leftturn' 'roadmark_1226.jpg']\n",
            "roadmark_1226.jpg\n",
            "[94.32151 295.694519 308.50915499999996 195.008011 385.413788\n",
            " 323.34481800000003 347.482758 421.62069699999995 'leftturn'\n",
            " 'roadmark_1227.jpg']\n",
            "roadmark_1227.jpg\n",
            "[72.353546 284.71054100000003 324.069794 179.447372 393.17242400000003\n",
            " 326.793091 336.275848 429.37930300000005 'leftturn' 'roadmark_1228.jpg']\n",
            "roadmark_1228.jpg\n",
            "[62.284896999999994 294.779175 313.08581499999997 182.19335900000002\n",
            " 395.758606 321.620697 348.34481800000003 425.93102999999996 'leftturn'\n",
            " 'roadmark_1229.jpg']\n",
            "roadmark_1229.jpg\n",
            "[85.16819 281.049194 335.96911600000004 169.378723 388.0\n",
            " 327.65518199999997 334.551727 438.0 'leftturn' 'roadmark_1230.jpg']\n",
            "roadmark_1230.jpg\n",
            "[64.115562 279.218536 325.90045200000003 173.04003899999998 394.896545\n",
            " 327.65518199999997 336.275848 430.241394 'leftturn' 'roadmark_1231.jpg']\n",
            "roadmark_1231.jpg\n",
            "[72.353546 292.948517 313.08581499999997 171.209381 390.586212\n",
            " 323.34481800000003 349.206909 435.413788 'leftturn' 'roadmark_1232.jpg']\n",
            "roadmark_1232.jpg\n",
            "[79.676201 283.79519700000003 324.985138 172.12471000000002 389.724152\n",
            " 325.93102999999996 337.137939 435.413788 'leftturn' 'roadmark_1233.jpg']\n",
            "roadmark_1233.jpg\n",
            "[83.337532 269.149872 329.561798 173.04003899999998 391.448273 331.103455\n",
            " 336.275848 431.96551500000004 'leftturn' 'roadmark_1234.jpg']\n",
            "roadmark_1234.jpg\n",
            "[71.43821700000001 287.45651200000003 330.47711200000003\n",
            " 162.97138999999999 394.034485 325.93102999999996 338.0 437.13793899999996\n",
            " 'leftturn' 'roadmark_1235.jpg']\n",
            "roadmark_1235.jpg\n",
            "[81.506866 274.64187599999997 325.90045200000003 175.78604099999998\n",
            " 389.724152 328.517242 336.275848 431.103455 'leftturn'\n",
            " 'roadmark_1236.jpg']\n",
            "roadmark_1236.jpg\n",
            "[85.16819 270.98056 336.88443 162.056061 388.0 330.241394 336.275848\n",
            " 439.72415199999995 'leftturn' 'roadmark_1237.jpg']\n",
            "roadmark_1237.jpg\n",
            "[53.13158000000001 273.72653199999996 323.154449 173.955383 401.793091\n",
            " 329.379303 334.551727 431.103455 'leftturn' 'roadmark_1238.jpg']\n",
            "roadmark_1238.jpg\n",
            "[41.232265000000005 275.55722000000003 330.47711200000003 179.447372\n",
            " 402.65518199999997 328.517242 338.862061 430.241394 'leftturn'\n",
            " 'roadmark_1239.jpg']\n",
            "roadmark_1239.jpg\n",
            "[54.962242 281.964539 318.577789 179.447372 398.34481800000003\n",
            " 325.93102999999996 344.034485 430.241394 'leftturn' 'roadmark_1240.jpg']\n",
            "roadmark_1240.jpg\n",
            "[46.724255 287.45651200000003 312.170471 180.362701 400.93102999999996\n",
            " 325.06897000000004 344.034485 429.37930300000005 'leftturn'\n",
            " 'roadmark_1241.jpg']\n",
            "roadmark_1241.jpg\n",
            "[43.97826 278.30319199999997 331.392456 170.294052 400.93102999999996\n",
            " 326.793091 340.586212 430.241394 'leftturn' 'roadmark_1242.jpg']\n",
            "roadmark_1242.jpg\n",
            "[52.216248 288.371857 305.763153 187.685349 397.482758 323.34481800000003\n",
            " 353.517242 426.793091 'leftturn' 'roadmark_1243.jpg']\n",
            "roadmark_1243.jpg\n",
            "[54.962242 281.049194 324.069794 188.600693 397.482758 326.793091\n",
            " 342.310333 425.93102999999996 'leftturn' 'roadmark_1244.jpg']\n",
            "roadmark_1244.jpg\n",
            "[53.13158000000001 281.964539 331.392456 187.685349 398.34481800000003\n",
            " 326.793091 339.724152 429.37930300000005 'leftturn' 'roadmark_1245.jpg']\n",
            "roadmark_1245.jpg\n",
            "[49.470253 274.64187599999997 329.561798 176.70137 400.06897000000004\n",
            " 328.517242 340.586212 431.103455 'leftturn' 'roadmark_1246.jpg']\n",
            "roadmark_1246.jpg\n",
            "[49.470253 281.049194 323.154449 176.70137 399.206909 328.517242 338.0\n",
            " 435.413788 'leftturn' 'roadmark_1247.jpg']\n",
            "roadmark_1247.jpg\n",
            "[52.216248 286.541199 324.069794 190.431351 401.793091 325.06897000000004\n",
            " 343.17242400000003 424.206909 'leftturn' 'roadmark_1248.jpg']\n",
            "roadmark_1248.jpg\n",
            "[72.353546 266.4039 331.392456 184.024033 398.34481800000003 331.103455\n",
            " 332.82757599999997 427.655182 'leftturn' 'roadmark_1249.jpg']\n",
            "roadmark_1249.jpg\n",
            "[87.914185 256.335236 318.577789 197.753998 394.896545 334.551727\n",
            " 331.965515 432.82757599999997 'leftturn' 'roadmark_1250.jpg']\n",
            "roadmark_1250.jpg\n",
            "[48.55492 255.419907 319.493134 189.516022 404.379303 334.551727\n",
            " 332.82757599999997 431.96551500000004 'leftturn' 'roadmark_1251.jpg']\n",
            "roadmark_1251.jpg\n",
            "[39.401604 254.50457799999998 318.577789 184.93936200000002\n",
            " 400.93102999999996 334.551727 334.551727 438.0 'leftturn'\n",
            " 'roadmark_1252.jpg']\n",
            "roadmark_1252.jpg\n",
            "[41.232265000000005 261.82724 334.138458 182.19335900000002 403.517242\n",
            " 332.82757599999997 337.137939 430.241394 'leftturn' 'roadmark_1253.jpg']\n",
            "roadmark_1253.jpg\n",
            "[42.147597999999995 252.67392 325.90045200000003 186.77002 406.103455\n",
            " 335.413788 334.551727 425.93102999999996 'leftturn' 'roadmark_1254.jpg']\n",
            "roadmark_1254.jpg\n",
            "[56.792908 253.58924900000002 331.392456 176.70137 399.206909 335.413788\n",
            " 334.551727 424.206909 'leftturn' 'roadmark_1255.jpg']\n",
            "roadmark_1255.jpg\n",
            "[62.284896999999994 264.573242 326.815796 185.854691 395.758606 331.965515\n",
            " 332.82757599999997 429.37930300000005 'leftturn' 'roadmark_1256.jpg']\n",
            "roadmark_1256.jpg\n",
            "[67.776886 259.996582 326.815796 185.854691 394.034485 334.551727\n",
            " 334.551727 428.517242 'leftturn' 'roadmark_1257.jpg']\n",
            "roadmark_1257.jpg\n",
            "[62.284896999999994 258.165894 329.561798 179.447372 397.482758 333.689667\n",
            " 334.551727 426.793091 'leftturn' 'roadmark_1258.jpg']\n",
            "roadmark_1258.jpg\n",
            "[56.792908 268.234558 318.577789 181.27803 398.34481800000003\n",
            " 332.82757599999997 337.137939 433.689667 'leftturn' 'roadmark_1259.jpg']\n",
            "roadmark_1259.jpg\n",
            "[158.39473 270.98056 321.32379199999997 232.536606 370.758606 328.517242\n",
            " 333.689667 392.310333 'leftturn' 'roadmark_1260.jpg']\n",
            "roadmark_1260.jpg\n",
            "[78.76087199999999 246.266586 303.932495 178.532043 397.482758 338.0 338.0\n",
            " 425.93102999999996 'leftturn' 'roadmark_1261.jpg']\n",
            "roadmark_1261.jpg\n",
            "[303.01715099999996 346.03775 432.078949 466.861542 417.310333 335.413788\n",
            " 338.0 427.655182 'leftturn' 'roadmark_1262.jpg']\n",
            "roadmark_1262.jpg\n",
            "[342.37643399999996 357.021729 408.280334 420.179626 355.241394 315.586212\n",
            " 313.862061 355.241394 'rightturn' 'roadmark_1263.jpg']\n",
            "roadmark_1263.jpg\n",
            "[314.916473 348.783752 421.094971 454.96225 400.93102999999996\n",
            " 327.65518199999997 325.06897000000004 416.448273 'rightturn'\n",
            " 'roadmark_1264.jpg']\n",
            "roadmark_1264.jpg\n",
            "[343.291748 370.751709 423.840973 444.893585 360.413788 317.310333\n",
            " 317.310333 356.965515 'rightturn' 'roadmark_1265.jpg']\n",
            "roadmark_1265.jpg\n",
            "[329.561798 366.175049 433.90960700000005 454.046906 379.379303 321.620697\n",
            " 321.620697 385.413788 'rightturn' 'roadmark_1266.jpg']\n",
            "roadmark_1266.jpg\n",
            "[303.932495 368.921051 443.978271 443.06292699999995 379.379303 321.620697\n",
            " 325.93102999999996 389.724152 'rightturn' 'roadmark_1267.jpg']\n",
            "roadmark_1267.jpg\n",
            "[365.25973500000003 383.566376 452.21624800000006 457.70825199999996\n",
            " 386.275848 351.793091 352.65518199999997 388.862061 '35'\n",
            " 'roadmark_1268.jpg']\n",
            "roadmark_1268.jpg\n",
            "[141.003433 218.806641 270.98056 213.31465099999997 375.93102999999996\n",
            " 347.482758 352.65518199999997 391.448273 '35' 'roadmark_1269.jpg']\n",
            "roadmark_1269.jpg\n",
            "[125.44279499999999 164.80206299999998 213.31465099999997\n",
            " 162.97138999999999 345.758606 335.413788 338.0 353.517242 'leftturn'\n",
            " 'roadmark_1270.jpg']\n",
            "roadmark_1270.jpg\n",
            "[98.89817 150.156754 205.07666 146.495422 350.06897000000004 335.413788\n",
            " 338.0 356.103455 'rightturn' 'roadmark_1271.jpg']\n",
            "roadmark_1271.jpg\n",
            "[556.564087 502.559509 546.495422 591.34668 341.448273 313.862061\n",
            " 311.275848 334.551727 'rightturn' 'roadmark_1272.jpg']\n",
            "roadmark_1272.jpg\n",
            "[605.992004 515.374146 567.5480349999999 638.028625 353.517242 316.448273\n",
            " 313.0 337.137939 'rightturn' 'roadmark_1273.jpg']\n",
            "roadmark_1273.jpg\n",
            "[89.74485 223.383301 249.92791699999998 126.358124 341.448273 316.448273\n",
            " 321.620697 349.206909 'forward' 'roadmark_1274.jpg']\n",
            "roadmark_1274.jpg\n",
            "[400.957672 404.618988 434.824951 435.740265 333.689667 311.275848\n",
            " 310.413788 331.965515 'forward' 'roadmark_1275.jpg']\n",
            "roadmark_1275.jpg\n",
            "[263.657898 316.747131 345.122437 299.355835 327.65518199999997 310.413788\n",
            " 313.0 335.413788 'forward' 'roadmark_1276.jpg']\n",
            "roadmark_1276.jpg\n",
            "[395.465668 400.042328 438.486267 458.62356600000004 374.206909\n",
            " 323.34481800000003 321.620697 376.793091 'forward' 'roadmark_1277.jpg']\n",
            "roadmark_1277.jpg\n",
            "[156.564072 271.89587400000005 304.847839 222.46795699999998 359.551727\n",
            " 324.206909 325.06897000000004 370.758606 'forward' 'roadmark_1278.jpg']\n",
            "roadmark_1278.jpg\n",
            "[156.564072 210.56864900000002 242.60527000000002 181.27803 336.275848\n",
            " 319.034485 323.34481800000003 342.310333 'leftturn' 'roadmark_1279.jpg']\n",
            "roadmark_1279.jpg\n",
            "[107.136154 202.330658 249.01258900000002 150.156754 341.448273 319.896545\n",
            " 320.758606 351.793091 'leftturn' 'roadmark_1280.jpg']\n",
            "roadmark_1280.jpg\n",
            "[509.882141 481.506866 541.918762 565.717407 373.34481800000003\n",
            " 350.06897000000004 344.896545 369.896545 'bike' 'roadmark_1281.jpg']\n",
            "roadmark_1281.jpg\n",
            "[342.37643399999996 369.83639500000004 441.23226900000003 464.11557\n",
            " 354.379303 321.620697 321.620697 355.241394 'rail' 'roadmark_1282.jpg']\n",
            "roadmark_1282.jpg\n",
            "[209.65332 297.525177 361.598389 316.747131 349.206909 319.896545\n",
            " 321.620697 353.517242 'rail' 'roadmark_1283.jpg']\n",
            "roadmark_1283.jpg\n",
            "[322.239136 369.83639500000004 445.808929 482.42221100000006 371.620697\n",
            " 322.482758 323.34481800000003 370.758606 'rail' 'roadmark_1284.jpg']\n",
            "roadmark_1284.jpg\n",
            "[148.32608000000002 281.049194 357.937073 282.879852 364.724152 322.482758\n",
            " 324.206909 370.758606 'rail' 'roadmark_1285.jpg']\n",
            "roadmark_1285.jpg\n",
            "[301.18649300000004 353.360413 462.284912 493.406189 394.034485 342.310333\n",
            " 341.448273 395.758606 'rail' 'roadmark_1286.jpg']\n",
            "roadmark_1286.jpg\n",
            "[62.284896999999994 224.29862999999997 331.392456 214.22997999999998\n",
            " 395.758606 344.034485 345.758606 420.758606 'rail' 'roadmark_1287.jpg']\n",
            "roadmark_1287.jpg\n",
            "[104.39016 160.225403 180.362701 132.76544199999998 344.896545 334.551727\n",
            " 342.310333 355.241394 'leftturn' 'roadmark_1288.jpg']\n",
            "roadmark_1288.jpg\n",
            "[136.426773 180.362701 218.806641 164.80206299999998 336.275848\n",
            " 325.06897000000004 331.103455 345.758606 'leftturn' 'roadmark_1289.jpg']\n",
            "roadmark_1289.jpg\n",
            "[359.767731 379.905029 435.740265 443.06292699999995 351.793091 324.206909\n",
            " 328.517242 351.793091 '40' 'roadmark_1290.jpg']\n",
            "roadmark_1290.jpg\n",
            "[518.1201169999999 475.099548 532.765442 581.278015 355.241394 331.965515\n",
            " 327.65518199999997 346.620697 '40' 'roadmark_1291.jpg']\n",
            "roadmark_1291.jpg\n",
            "[249.92791699999998 288.371857 326.815796 313.08581499999997 336.275848\n",
            " 324.206909 329.379303 350.06897000000004 'leftturn' 'roadmark_1292.jpg']\n",
            "roadmark_1292.jpg\n",
            "[185.854691 240.77459700000003 302.101837 256.335236 356.103455 338.0\n",
            " 343.17242400000003 366.448273 'leftturn' 'roadmark_1293.jpg']\n",
            "roadmark_1293.jpg\n",
            "[242.60527000000002 283.79519700000003 331.392456 298.440491 338.0\n",
            " 325.06897000000004 327.65518199999997 343.17242400000003 'leftturn'\n",
            " 'roadmark_1294.jpg']\n",
            "roadmark_1294.jpg\n",
            "[224.29862999999997 282.879852 327.73111 296.609833 343.17242400000003\n",
            " 321.620697 329.379303 354.379303 'leftturn' 'roadmark_1295.jpg']\n",
            "roadmark_1295.jpg\n",
            "[240.77459700000003 296.609833 329.561798 303.01715099999996 336.275848\n",
            " 316.448273 325.06897000000004 345.758606 'leftturn' 'roadmark_1296.jpg']\n",
            "roadmark_1296.jpg\n",
            "[152.90274 239.85926800000001 288.371857 250.843246 360.413788 337.137939\n",
            " 345.758606 378.517242 'leftturn' 'roadmark_1297.jpg']\n",
            "roadmark_1297.jpg\n",
            "[344.207092 359.767731 426.586945 428.417633 345.758606 326.793091\n",
            " 325.93102999999996 355.241394 'ped' 'roadmark_1298.jpg']\n",
            "roadmark_1298.jpg\n",
            "[489.74484299999995 466.861542 530.0194700000001 561.1407469999999\n",
            " 350.93102999999996 328.517242 325.93102999999996 344.034485 'ped'\n",
            " 'roadmark_1299.jpg']\n",
            "roadmark_1299.jpg\n",
            "[325.90045200000003 352.445068 439.40161100000006 447.639587 364.724152\n",
            " 336.275848 338.0 363.862061 'xing' 'roadmark_1300.jpg']\n",
            "roadmark_1300.jpg\n",
            "[517.204834 479.67620800000003 570.294067 627.959961 378.517242 342.310333\n",
            " 339.724152 366.448273 'xing' 'roadmark_1301.jpg']\n",
            "roadmark_1301.jpg\n",
            "[311.255157 347.868408 439.40161100000006 453.131592 375.93102999999996\n",
            " 339.724152 340.586212 379.379303 'xing' 'roadmark_1302.jpg']\n",
            "roadmark_1302.jpg\n",
            "[504.390167 475.099548 558.394714 602.330688 371.620697 338.0 337.137939\n",
            " 358.689667 'xing' 'roadmark_1303.jpg']\n",
            "roadmark_1303.jpg\n",
            "[258.165894 295.694519 329.561798 306.678497 337.137939 325.06897000000004\n",
            " 325.93102999999996 346.620697 'leftturn' 'roadmark_1304.jpg']\n",
            "roadmark_1304.jpg\n",
            "[195.92334 263.657898 324.985138 281.964539 363.862061 341.448273\n",
            " 349.206909 381.965515 'leftturn' 'roadmark_1305.jpg']\n",
            "roadmark_1305.jpg\n",
            "[386.31234700000005 414.68765299999995 447.639587 447.639587 320.758606\n",
            " 307.82757599999997 311.275848 325.06897000000004 'leftturn'\n",
            " 'roadmark_1306.jpg']\n",
            "roadmark_1306.jpg\n",
            "[377.159027 398.21167 445.808929 455.877563 336.275848 319.034485\n",
            " 319.034485 338.0 'leftturn' 'roadmark_1307.jpg']\n",
            "roadmark_1307.jpg\n",
            "[353.360413 379.905029 450.38559000000004 466.861542 353.517242 331.103455\n",
            " 332.82757599999997 359.551727 'leftturn' 'roadmark_1308.jpg']\n",
            "roadmark_1308.jpg\n",
            "[313.08581499999997 360.683075 444.893585 470.52288799999997 385.413788\n",
            " 348.34481800000003 354.379303 392.310333 'leftturn' 'roadmark_1309.jpg']\n",
            "roadmark_1309.jpg\n",
            "[316.747131 329.561798 423.840973 422.010284 327.65518199999997 309.551727\n",
            " 309.551727 327.65518199999997 'stop' 'roadmark_1310.jpg']\n",
            "roadmark_1310.jpg\n",
            "[262.742554 294.779175 401.87298599999997 415.60296600000004 356.103455\n",
            " 325.93102999999996 324.206909 362.137939 'stop' 'roadmark_1311.jpg']\n",
            "roadmark_1311.jpg\n",
            "[169.378723 237.113266 393.63501 393.63501 400.93102999999996\n",
            " 352.65518199999997 352.65518199999997 408.689667 'stop'\n",
            " 'roadmark_1312.jpg']\n",
            "roadmark_1312.jpg\n",
            "[159.310074 202.330658 240.77459700000003 204.16133100000002\n",
            " 325.06897000000004 314.724152 318.17242400000003 333.689667 'leftturn'\n",
            " 'roadmark_1313.jpg']\n",
            "roadmark_1313.jpg\n",
            "[61.369564000000004 142.834091 180.362701 113.54348 347.482758 329.379303\n",
            " 337.137939 360.413788 'leftturn' 'roadmark_1314.jpg']\n",
            "roadmark_1314.jpg\n",
            "[179.447372 220.637299 252.67392 212.399307 321.620697 312.137939 313.0\n",
            " 327.65518199999997 'leftturn' 'roadmark_1315.jpg']\n",
            "roadmark_1315.jpg\n",
            "[21.094967 103.47483100000001 140.08810400000002 75.099541 358.689667\n",
            " 341.448273 350.06897000000004 371.620697 'leftturn' 'roadmark_1316.jpg']\n",
            "roadmark_1316.jpg\n",
            "[76.014877 146.495422 180.362701 127.273453 340.586212 324.206909\n",
            " 333.689667 350.93102999999996 'leftturn' 'roadmark_1317.jpg']\n",
            "roadmark_1317.jpg\n",
            "[162.056061 212.399307 244.435928 207.822647 325.93102999999996 313.862061\n",
            " 319.896545 333.689667 'leftturn' 'roadmark_1318.jpg']\n",
            "roadmark_1318.jpg\n",
            "[80.59153 142.834091 187.685349 119.03546899999999 338.862061\n",
            " 325.06897000000004 340.586212 356.103455 'leftturn' 'roadmark_1319.jpg']\n",
            "roadmark_1319.jpg\n",
            "[29.332952000000002 116.289474 174.870712 100.728836 349.206909 331.103455\n",
            " 332.82757599999997 358.689667 'leftturn' 'roadmark_1320.jpg']\n",
            "roadmark_1320.jpg\n",
            "[184.93936200000002 247.181915 303.01715099999996 274.64187599999997\n",
            " 352.65518199999997 326.793091 326.793091 359.551727 'leftturn'\n",
            " 'roadmark_1321.jpg']\n",
            "roadmark_1321.jpg\n",
            "[341.46109 362.513733 464.11557 476.93020599999994 363.0 328.517242\n",
            " 327.65518199999997 361.275848 'rightturn' 'roadmark_1322.jpg']\n",
            "roadmark_1322.jpg\n",
            "[253.58924900000002 273.72653199999996 342.37643399999996 323.154449\n",
            " 331.103455 316.448273 316.448273 341.448273 'leftturn'\n",
            " 'roadmark_1323.jpg']\n",
            "roadmark_1323.jpg\n",
            "[294.779175 324.069794 362.513733 349.699097 312.137939 300.93102999999996\n",
            " 302.65518199999997 317.310333 'leftturn' 'roadmark_1324.jpg']\n",
            "roadmark_1324.jpg\n",
            "[180.362701 237.113266 316.747131 289.28717 347.482758 330.241394\n",
            " 335.413788 358.689667 'leftturn' 'roadmark_1325.jpg']\n",
            "roadmark_1325.jpg\n",
            "[377.159027 390.889008 438.486267 454.046906 334.551727 308.689667\n",
            " 311.275848 330.241394 '35' 'roadmark_1326.jpg']\n",
            "roadmark_1326.jpg\n",
            "[509.882141 486.08352699999995 538.257446 561.1407469999999 331.965515\n",
            " 315.586212 311.275848 326.793091 '35' 'roadmark_1327.jpg']\n",
            "roadmark_1327.jpg\n",
            "[368.005707 379.905029 448.554932 467.77688600000005 353.517242 322.482758\n",
            " 322.482758 355.241394 '35' 'roadmark_1328.jpg']\n",
            "roadmark_1328.jpg\n",
            "[554.7333980000001 508.96682699999997 571.209412 618.806641 356.965515\n",
            " 327.65518199999997 322.482758 341.448273 '35' 'roadmark_1329.jpg']\n",
            "roadmark_1329.jpg\n",
            "[227.044617 260.911896 311.255157 291.117859 323.34481800000003 311.275848\n",
            " 316.448273 333.689667 'leftturn' 'roadmark_1330.jpg']\n",
            "roadmark_1330.jpg\n",
            "[115.374146 186.77002 255.419907 211.48397799999998 356.965515 333.689667\n",
            " 344.896545 376.793091 'leftturn' 'roadmark_1331.jpg']\n",
            "roadmark_1331.jpg\n",
            "[190.431351 259.081238 299.355835 273.72653199999996 333.689667 314.724152\n",
            " 324.206909 350.06897000000004 'leftturn' 'roadmark_1332.jpg']\n",
            "roadmark_1332.jpg\n",
            "[198.669342 244.435928 300.271179 264.573242 328.517242 314.724152\n",
            " 320.758606 345.758606 'leftturn' 'roadmark_1333.jpg']\n",
            "roadmark_1333.jpg\n",
            "[138.257431 184.93936200000002 254.50457799999998 220.637299\n",
            " 350.06897000000004 328.517242 332.82757599999997 365.586212 'leftturn'\n",
            " 'roadmark_1334.jpg']\n",
            "roadmark_1334.jpg\n",
            "[145.580093 186.77002 231.621277 182.19335900000002 321.620697 309.551727\n",
            " 311.275848 329.379303 'leftturn' 'roadmark_1335.jpg']\n",
            "roadmark_1335.jpg\n",
            "[79.676201 134.596115 187.685349 130.934784 333.689667 319.896545\n",
            " 325.93102999999996 342.310333 'leftturn' 'roadmark_1336.jpg']\n",
            "roadmark_1336.jpg\n",
            "[11.941647999999999 74.184212 124.52745800000001 50.385585999999996\n",
            " 348.34481800000003 331.965515 336.275848 361.275848 'leftturn'\n",
            " 'roadmark_1337.jpg']\n",
            "roadmark_1337.jpg\n",
            "[267.319214 293.863831 336.88443 330.47711200000003 313.862061\n",
            " 302.65518199999997 304.379303 319.034485 'leftturn' 'roadmark_1338.jpg']\n",
            "roadmark_1338.jpg\n",
            "[234.367279 273.72653199999996 330.47711200000003 299.355835 324.206909\n",
            " 312.137939 314.724152 328.517242 'leftturn' 'roadmark_1339.jpg']\n",
            "roadmark_1339.jpg\n",
            "[177.616699 227.959961 294.779175 262.742554 340.586212 323.34481800000003\n",
            " 325.06897000000004 350.06897000000004 'leftturn' 'roadmark_1340.jpg']\n",
            "roadmark_1340.jpg\n",
            "[105.305489 187.685349 256.335236 209.65332 361.275848 337.137939\n",
            " 342.310333 380.241394 'leftturn' 'roadmark_1341.jpg']\n",
            "roadmark_1341.jpg\n",
            "[398.21167 402.78833 459.53891 474.184204 363.862061 324.206909\n",
            " 323.34481800000003 355.241394 '35' 'roadmark_1342.jpg']\n",
            "roadmark_1342.jpg\n",
            "[237.113266 271.89587400000005 324.985138 302.101837 322.482758 311.275848\n",
            " 309.551727 335.413788 'leftturn' 'roadmark_1343.jpg']\n",
            "roadmark_1343.jpg\n",
            "[118.12013999999999 191.34668 271.89587400000005 218.806641 359.551727\n",
            " 337.137939 338.862061 376.793091 'leftturn' 'roadmark_1344.jpg']\n",
            "roadmark_1344.jpg\n",
            "[262.742554 292.948517 340.545776 323.154449 316.448273 305.241394\n",
            " 306.103455 324.206909 'leftturn' 'roadmark_1345.jpg']\n",
            "roadmark_1345.jpg\n",
            "[170.294052 227.959961 304.847839 259.996582 347.482758 327.65518199999997\n",
            " 328.517242 361.275848 'leftturn' 'roadmark_1346.jpg']\n",
            "roadmark_1346.jpg\n",
            "[271.89587400000005 307.59381099999996 359.767731 327.73111 314.724152\n",
            " 302.65518199999997 307.82757599999997 324.206909 'leftturn'\n",
            " 'roadmark_1347.jpg']\n",
            "roadmark_1347.jpg\n",
            "[205.991989 255.419907 316.747131 278.30319199999997 337.137939 319.034485\n",
            " 324.206909 352.65518199999997 'leftturn' 'roadmark_1348.jpg']\n",
            "roadmark_1348.jpg\n",
            "[108.051491 190.431351 265.488556 222.46795699999998 369.034485 341.448273\n",
            " 346.620697 387.137939 'leftturn' 'roadmark_1349.jpg']\n",
            "roadmark_1349.jpg\n",
            "[239.85926800000001 272.811218 319.493134 303.932495 318.17242400000003\n",
            " 306.965515 307.82757599999997 326.793091 'leftturn' 'roadmark_1350.jpg']\n",
            "roadmark_1350.jpg\n",
            "[170.294052 222.46795699999998 284.71054100000003 251.758575 339.724152\n",
            " 324.206909 325.93102999999996 348.34481800000003 'leftturn'\n",
            " 'roadmark_1351.jpg']\n",
            "roadmark_1351.jpg\n",
            "[87.914185 156.564072 241.68992599999999 172.12471000000002 363.0\n",
            " 344.034485 344.034485 390.586212 'leftturn' 'roadmark_1352.jpg']\n",
            "roadmark_1352.jpg\n",
            "[342.37643399999996 366.175049 432.078949 412.856964 306.103455 295.758606\n",
            " 301.793091 315.586212 'leftturn' 'roadmark_1353.jpg']\n",
            "roadmark_1353.jpg\n",
            "[344.207092 361.598389 432.078949 426.586945 321.620697 305.241394\n",
            " 306.965515 326.793091 'leftturn' 'roadmark_1354.jpg']\n",
            "roadmark_1354.jpg\n",
            "[332.30777 345.122437 439.40161100000006 432.99429299999997 335.413788\n",
            " 312.137939 317.310333 338.0 'leftturn' 'roadmark_1355.jpg']\n",
            "roadmark_1355.jpg\n",
            "[292.033173 335.96911600000004 426.586945 432.99429299999997 356.965515\n",
            " 318.17242400000003 324.206909 367.310333 'leftturn' 'roadmark_1356.jpg']\n",
            "roadmark_1356.jpg\n",
            "[259.081238 304.847839 421.094971 414.68765299999995 374.206909 335.413788\n",
            " 348.34481800000003 395.758606 'leftturn' 'roadmark_1357.jpg']\n",
            "roadmark_1357.jpg\n",
            "[371.66705299999995 386.31234700000005 447.639587 466.861542\n",
            " 343.17242400000003 308.689667 311.275848 341.448273 '35'\n",
            " 'roadmark_1358.jpg']\n",
            "roadmark_1358.jpg\n",
            "[233.45195 272.811218 333.223114 303.01715099999996 332.82757599999997\n",
            " 314.724152 314.724152 340.586212 '35' 'roadmark_1359.jpg']\n",
            "roadmark_1359.jpg\n",
            "[363.429077 378.074371 465.03088399999996 480.591522 385.413788 341.448273\n",
            " 343.17242400000003 384.551727 '35' 'roadmark_1360.jpg']\n",
            "roadmark_1360.jpg\n",
            "[128.188782 195.92334 290.202515 232.536606 371.620697 344.034485\n",
            " 343.17242400000003 382.82757599999997 '35' 'roadmark_1361.jpg']\n",
            "roadmark_1361.jpg\n",
            "[184.024033 219.72197000000003 268.234558 227.044617 321.620697 309.551727\n",
            " 311.275848 328.517242 'leftturn' 'roadmark_1362.jpg']\n",
            "roadmark_1362.jpg\n",
            "[71.43821700000001 139.172775 200.5 110.79748500000001 347.482758\n",
            " 330.241394 336.275848 365.586212 'leftturn' 'roadmark_1363.jpg']\n",
            "roadmark_1363.jpg\n",
            "[378.074371 393.63501 465.03088399999996 484.25286900000003\n",
            " 352.65518199999997 322.482758 324.206909 355.241394 '25'\n",
            " 'roadmark_1364.jpg']\n",
            "roadmark_1364.jpg\n",
            "[374.413055 391.804352 485.168182 502.559509 378.517242 334.551727\n",
            " 339.724152 382.82757599999997 '25' 'roadmark_1365.jpg']\n",
            "roadmark_1365.jpg\n",
            "[112.628143 176.70137 207.822647 169.378723 325.93102999999996 313.0\n",
            " 317.310333 333.689667 'leftturn' 'roadmark_1366.jpg']\n",
            "roadmark_1366.jpg\n",
            "[60.45423100000001 125.44279499999999 164.80206299999998\n",
            " 110.79748500000001 336.275848 322.482758 327.65518199999997\n",
            " 350.06897000000004 'leftturn' 'roadmark_1367.jpg']\n",
            "roadmark_1367.jpg\n",
            "[154.73341399999998 204.16133100000002 241.68992599999999 200.5 322.482758\n",
            " 310.413788 313.862061 328.517242 'leftturn' 'roadmark_1368.jpg']\n",
            "roadmark_1368.jpg\n",
            "[55.877575 131.850113 169.378723 115.374146 338.0 324.206909 328.517242\n",
            " 350.93102999999996 'leftturn' 'roadmark_1369.jpg']\n",
            "roadmark_1369.jpg\n",
            "[82.422195 148.32608000000002 194.092682 136.426773 333.689667 319.034485\n",
            " 323.34481800000003 342.310333 'leftturn' 'roadmark_1370.jpg']\n",
            "roadmark_1370.jpg\n",
            "[349.699097 361.598389 399.12701400000003 395.465668 339.724152 306.103455\n",
            " 308.689667 343.17242400000003 'forward' 'roadmark_1371.jpg']\n",
            "roadmark_1371.jpg\n",
            "[198.669342 270.065216 314.001129 254.50457799999998 331.965515\n",
            " 307.82757599999997 308.689667 341.448273 'forward' 'roadmark_1372.jpg']\n",
            "roadmark_1372.jpg\n",
            "[326.815796 363.429077 402.78833 400.957672 374.206909 315.586212\n",
            " 319.034485 373.34481800000003 'forward' 'roadmark_1373.jpg']\n",
            "roadmark_1373.jpg\n",
            "[135.51144399999998 252.67392 287.45651200000003 198.669342 360.413788\n",
            " 318.17242400000003 319.034485 372.482758 'forward' 'roadmark_1374.jpg']\n",
            "roadmark_1374.jpg\n",
            "[379.905029 387.227692 428.417633 447.639587 325.06897000000004 294.034485\n",
            " 294.034485 322.482758 'rightturn' 'roadmark_1375.jpg']\n",
            "roadmark_1375.jpg\n",
            "[248.09726 286.541199 331.392456 331.392456 328.517242 311.275848\n",
            " 311.275848 340.586212 '35' 'roadmark_1376.jpg']\n",
            "roadmark_1376.jpg\n",
            "[400.042328 400.042328 449.47024500000003 471.43820199999993 334.551727\n",
            " 310.413788 309.551727 331.103455 '35' 'roadmark_1377.jpg']\n",
            "roadmark_1377.jpg\n",
            "[197.753998 249.92791699999998 314.001129 294.779175 350.93102999999996\n",
            " 328.517242 329.379303 361.275848 '35' 'roadmark_1378.jpg']\n",
            "roadmark_1378.jpg\n",
            "[400.957672 400.042328 467.77688600000005 496.15216100000004 366.448273\n",
            " 324.206909 324.206909 357.82757599999997 '35' 'roadmark_1379.jpg']\n",
            "roadmark_1379.jpg\n",
            "[439.40161100000006 433.90960700000005 382.651031 351.52975499999997\n",
            " 337.137939 302.65518199999997 299.206909 332.82757599999997 'leftturn'\n",
            " 'roadmark_1380.jpg']\n",
            "roadmark_1380.jpg\n",
            "[460.454224 434.824951 376.243713 312.170471 391.448273 311.275848\n",
            " 307.82757599999997 368.17242400000003 'leftturn' 'roadmark_1381.jpg']\n",
            "roadmark_1381.jpg\n",
            "[283.79519700000003 335.05377200000004 417.433624 405.534332\n",
            " 375.93102999999996 334.551727 333.689667 381.103455 '25'\n",
            " 'roadmark_1382.jpg']\n",
            "roadmark_1382.jpg\n",
            "[307.59381099999996 402.78833 473.26889000000006 391.804352 363.862061\n",
            " 335.413788 343.17242400000003 385.413788 '25' 'roadmark_1383.jpg']\n",
            "roadmark_1383.jpg\n",
            "[320.408478 351.52975499999997 454.96225 457.70825199999996 349.206909\n",
            " 317.310333 319.034485 352.65518199999997 'xing' 'roadmark_1384.jpg']\n",
            "roadmark_1384.jpg\n",
            "[305.763153 342.37643399999996 442.147583 446.72424299999994 371.620697\n",
            " 333.689667 334.551727 371.620697 'ped' 'roadmark_1385.jpg']\n",
            "roadmark_1385.jpg\n",
            "[331.392456 347.868408 457.70825199999996 459.53891 335.413788 315.586212\n",
            " 313.862061 337.137939 'stop' 'roadmark_1386.jpg']\n",
            "roadmark_1386.jpg\n",
            "[306.678497 334.138458 468.69223 473.26889000000006 361.275848 330.241394\n",
            " 329.379303 364.724152 'stop' 'roadmark_1387.jpg']\n",
            "roadmark_1387.jpg\n",
            "[266.4039 314.001129 498.898163 523.612122 393.17242400000003\n",
            " 352.65518199999997 350.93102999999996 397.482758 'stop'\n",
            " 'roadmark_1388.jpg']\n",
            "roadmark_1388.jpg\n",
            "[184.024033 241.68992599999999 308.50915499999996 270.98056 345.758606\n",
            " 325.06897000000004 325.06897000000004 356.103455 '35' 'roadmark_1389.jpg']\n",
            "roadmark_1389.jpg\n",
            "[356.10641499999997 370.751709 449.47024500000003 455.877563 353.517242\n",
            " 325.93102999999996 325.06897000000004 354.379303 '35' 'roadmark_1390.jpg']\n",
            "roadmark_1390.jpg\n",
            "[353.360413 368.921051 452.21624800000006 443.978271 323.34481800000003\n",
            " 309.551727 309.551727 325.06897000000004 'stop' 'roadmark_1391.jpg']\n",
            "roadmark_1391.jpg\n",
            "[335.96911600000004 357.937073 450.38559000000004 465.946228 339.724152\n",
            " 319.896545 319.034485 342.310333 'stop' 'roadmark_1392.jpg']\n",
            "roadmark_1392.jpg\n",
            "[310.339813 344.207092 465.03088399999996 483.33752400000003 366.448273\n",
            " 335.413788 333.689667 372.482758 'stop' 'roadmark_1393.jpg']\n",
            "roadmark_1393.jpg\n",
            "[284.71054100000003 332.30777 476.014862 492.49084500000004 396.620697\n",
            " 347.482758 346.620697 402.65518199999997 'stop' 'roadmark_1394.jpg']\n",
            "roadmark_1394.jpg\n",
            "[212.399307 255.419907 322.239136 326.815796 364.724152 332.82757599999997\n",
            " 331.965515 363.862061 '25' 'roadmark_1395.jpg']\n",
            "roadmark_1395.jpg\n",
            "[269.149872 313.08581499999997 441.23226900000003 459.53891 366.448273\n",
            " 332.82757599999997 331.103455 368.17242400000003 'stop'\n",
            " 'roadmark_1396.jpg']\n",
            "roadmark_1396.jpg\n",
            "[339.630432 352.445068 422.010284 423.840973 344.896545 314.724152\n",
            " 316.448273 347.482758 '35' 'roadmark_1397.jpg']\n",
            "roadmark_1397.jpg\n",
            "[182.19335900000002 238.02861000000001 293.863831 260.911896 338.862061\n",
            " 319.896545 320.758606 348.34481800000003 '35' 'roadmark_1398.jpg']\n",
            "roadmark_1398.jpg\n",
            "[283.79519700000003 330.47711200000003 427.50228899999996\n",
            " 425.67163099999993 400.06897000000004 338.0 347.482758 403.517242 '35'\n",
            " 'roadmark_1399.jpg']\n",
            "roadmark_1399.jpg\n",
            "[35.740276 162.97138999999999 247.181915 148.32608000000002 379.379303\n",
            " 344.034485 351.793091 394.896545 '35' 'roadmark_1400.jpg']\n",
            "roadmark_1400.jpg\n",
            "[299.355835 383.566376 488.829529 411.94165 352.65518199999997 329.379303\n",
            " 333.689667 375.93102999999996 'ped' 'roadmark_1401.jpg']\n",
            "roadmark_1401.jpg\n",
            "[293.863831 362.513733 466.861542 458.62356600000004 363.0\n",
            " 325.93102999999996 330.241394 373.34481800000003 'xing'\n",
            " 'roadmark_1402.jpg']\n",
            "roadmark_1402.jpg\n",
            "[293.863831 330.47711200000003 403.70367400000003 397.29632599999997\n",
            " 356.103455 319.896545 323.34481800000003 365.586212 '25'\n",
            " 'roadmark_1403.jpg']\n",
            "roadmark_1403.jpg\n",
            "[252.67392 314.916473 387.227692 398.21167 383.689667 337.137939\n",
            " 334.551727 390.586212 '25' 'roadmark_1404.jpg']\n",
            "roadmark_1404.jpg\n",
            "[379.905029 393.63501 422.925629 440.316925 338.0 295.758606 297.482758\n",
            " 333.689667 'forward' 'roadmark_1405.jpg']\n",
            "roadmark_1405.jpg\n",
            "[232.536606 303.01715099999996 344.207092 298.440491 328.517242 301.793091\n",
            " 304.379303 334.551727 'leftturn' 'roadmark_1406.jpg']\n",
            "roadmark_1406.jpg\n",
            "[140.08810400000002 240.77459700000003 272.811218 173.955383\n",
            " 325.93102999999996 303.517242 305.241394 335.413788 'leftturn'\n",
            " 'roadmark_1407.jpg']\n",
            "roadmark_1407.jpg\n",
            "[388.143036 390.889008 435.740265 445.808929 375.93102999999996\n",
            " 307.82757599999997 311.275848 375.93102999999996 'forward'\n",
            " 'roadmark_1408.jpg']\n",
            "roadmark_1408.jpg\n",
            "[149.241425 270.98056 335.96911600000004 229.790619 350.93102999999996\n",
            " 310.413788 311.275848 369.896545 'leftturn' 'roadmark_1409.jpg']\n",
            "roadmark_1409.jpg\n",
            "[33.909611 199.584671 237.113266 72.353546 349.206909 310.413788 313.0\n",
            " 362.137939 'leftturn' 'roadmark_1410.jpg']\n",
            "roadmark_1410.jpg\n",
            "[263.657898 308.50915499999996 359.767731 337.799774 363.862061 330.241394\n",
            " 331.965515 366.448273 '25' 'roadmark_1411.jpg']\n",
            "roadmark_1411.jpg\n",
            "[319.493134 335.96911600000004 432.99429299999997 422.925629 337.137939\n",
            " 317.310333 315.586212 343.17242400000003 'yield' 'roadmark_1412.jpg']\n",
            "roadmark_1412.jpg\n",
            "[281.964539 319.493134 432.99429299999997 425.67163099999993 356.965515\n",
            " 325.06897000000004 326.793091 359.551727 'yield' 'roadmark_1413.jpg']\n",
            "roadmark_1413.jpg\n",
            "[245.35125699999998 285.625854 428.417633 430.248291 376.793091 338.0\n",
            " 336.275848 383.689667 'yield' 'roadmark_1414.jpg']\n",
            "roadmark_1414.jpg\n",
            "[353.360413 367.090393 420.179626 430.248291 350.06897000000004 315.586212\n",
            " 315.586212 352.65518199999997 '25' 'roadmark_1415.jpg']\n",
            "roadmark_1415.jpg\n",
            "[335.05377200000004 349.699097 427.50228899999996 424.756287 319.896545\n",
            " 305.241394 305.241394 325.06897000000004 'yield' 'roadmark_1416.jpg']\n",
            "roadmark_1416.jpg\n",
            "[332.30777 350.61441 443.06292699999995 438.486267 333.689667 313.862061\n",
            " 315.586212 338.0 'yield' 'roadmark_1417.jpg']\n",
            "roadmark_1417.jpg\n",
            "[315.831818 349.699097 463.200226 463.200226 361.275848 327.65518199999997\n",
            " 327.65518199999997 363.0 'yield' 'roadmark_1418.jpg']\n",
            "roadmark_1418.jpg\n",
            "[303.01715099999996 349.699097 477.845551 501.64416500000004 385.413788\n",
            " 340.586212 339.724152 388.862061 'yield' 'roadmark_1419.jpg']\n",
            "roadmark_1419.jpg\n",
            "[342.37643399999996 365.25973500000003 400.957672 401.87298599999997\n",
            " 332.82757599999997 312.137939 311.275848 334.551727 '25'\n",
            " 'roadmark_1420.jpg']\n",
            "roadmark_1420.jpg\n",
            "[314.916473 347.868408 401.87298599999997 397.29632599999997 358.689667\n",
            " 327.65518199999997 325.06897000000004 361.275848 '25' 'roadmark_1421.jpg']\n",
            "roadmark_1421.jpg\n",
            "[283.79519700000003 330.47711200000003 395.465668 383.566376 391.448273\n",
            " 344.034485 342.310333 389.724152 '25' 'roadmark_1422.jpg']\n",
            "roadmark_1422.jpg\n",
            "[364.34439100000003 389.05835 476.014862 483.33752400000003 354.379303\n",
            " 322.482758 325.93102999999996 355.241394 'rightturn' 'roadmark_1423.jpg']\n",
            "roadmark_1423.jpg\n",
            "[199.584671 281.964539 371.66705299999995 301.18649300000004 344.896545\n",
            " 318.17242400000003 313.862061 352.65518199999997 'forward&left'\n",
            " 'roadmark_1424.jpg']\n",
            "roadmark_1424.jpg\n",
            "[176.70137 280.13388100000003 360.683075 281.049194 348.34481800000003\n",
            " 320.758606 319.896545 367.310333 'forward&left' 'roadmark_1425.jpg']\n",
            "roadmark_1425.jpg\n",
            "[352.445068 382.651031 473.26889000000006 486.998871 370.758606 334.551727\n",
            " 332.82757599999997 367.310333 'rightturn' 'roadmark_1426.jpg']\n",
            "roadmark_1426.jpg\n",
            "[354.275757 382.651031 448.554932 474.184204 335.413788 305.241394\n",
            " 306.965515 338.0 'rail' 'roadmark_1427.jpg']\n",
            "roadmark_1427.jpg\n",
            "[227.959961 309.4245 368.921051 332.30777 331.965515 305.241394 306.965515\n",
            " 334.551727 'rail' 'roadmark_1428.jpg']\n",
            "roadmark_1428.jpg\n",
            "[330.47711200000003 373.497711 446.72424299999994 490.660187 353.517242\n",
            " 310.413788 308.689667 359.551727 'rail' 'roadmark_1429.jpg']\n",
            "roadmark_1429.jpg\n",
            "[169.378723 281.049194 355.191071 289.28717 347.482758 312.137939 313.0\n",
            " 357.82757599999997 'rail' 'roadmark_1430.jpg']\n",
            "roadmark_1430.jpg\n",
            "[292.033173 363.429077 458.62356600000004 519.035461 388.862061 319.896545\n",
            " 320.758606 391.448273 'rail' 'roadmark_1431.jpg']\n",
            "roadmark_1431.jpg\n",
            "[82.422195 257.25057999999996 343.291748 236.19793700000002 376.793091\n",
            " 319.034485 321.620697 390.586212 'rail' 'roadmark_1432.jpg']\n",
            "roadmark_1432.jpg\n",
            "[130.019455 181.27803 210.56864900000002 162.056061 326.793091 315.586212\n",
            " 319.034485 336.275848 'leftturn' 'roadmark_1433.jpg']\n",
            "roadmark_1433.jpg\n",
            "[88.829521 132.76544199999998 172.12471000000002 134.596115 331.965515\n",
            " 323.34481800000003 329.379303 344.034485 'leftturn' 'roadmark_1434.jpg']\n",
            "roadmark_1434.jpg\n",
            "[73.268883 130.019455 162.97138999999999 112.628143 334.551727 319.896545\n",
            " 330.241394 344.034485 'leftturn' 'roadmark_1435.jpg']\n",
            "roadmark_1435.jpg\n",
            "[349.699097 374.413055 422.925629 438.486267 340.586212 307.82757599999997\n",
            " 310.413788 338.862061 '40' 'roadmark_1436.jpg']\n",
            "roadmark_1436.jpg\n",
            "[242.60527000000002 280.13388100000003 327.73111 305.763153 321.620697\n",
            " 306.965515 311.275848 333.689667 'leftturn' 'roadmark_1437.jpg']\n",
            "roadmark_1437.jpg\n",
            "[177.616699 215.145309 299.355835 253.58924900000002 343.17242400000003\n",
            " 325.06897000000004 326.793091 355.241394 'leftturn' 'roadmark_1438.jpg']\n",
            "roadmark_1438.jpg\n",
            "[239.85926800000001 269.149872 321.32379199999997 296.609833 316.448273\n",
            " 306.103455 306.103455 325.93102999999996 'leftturn' 'roadmark_1439.jpg']\n",
            "roadmark_1439.jpg\n",
            "[151.07208300000002 216.975967 269.149872 227.044617 346.620697\n",
            " 323.34481800000003 329.379303 360.413788 'leftturn' 'roadmark_1440.jpg']\n",
            "roadmark_1440.jpg\n",
            "[98.89817 164.80206299999998 199.584671 147.410751 336.275848 320.758606\n",
            " 325.93102999999996 345.758606 'leftturn' 'roadmark_1441.jpg']\n",
            "roadmark_1441.jpg\n",
            "[148.32608000000002 207.822647 243.52059900000003 197.753998\n",
            " 327.65518199999997 313.0 317.310333 334.551727 'leftturn'\n",
            " 'roadmark_1442.jpg']\n",
            "roadmark_1442.jpg\n",
            "[24.756292000000002 118.12013999999999 171.209381 92.490845 356.965515\n",
            " 336.275848 344.034485 371.620697 'leftturn' 'roadmark_1443.jpg']\n",
            "roadmark_1443.jpg\n"
          ],
          "name": "stdout"
        }
      ]
    },
    {
      "metadata": {
        "id": "2qk2_hgZDYTx",
        "colab_type": "code",
        "outputId": "2f87f5f7-7174-4447-d94e-d1b352892e0f",
        "colab": {
          "base_uri": "https://localhost:8080/",
          "height": 350
        }
      },
      "cell_type": "code",
      "source": [
        "# Load and display random samples\n",
        "image_ids = np.random.choice(dataset_train.image_ids, 4)\n",
        "for image_id in image_ids:\n",
        "    image = dataset_train.load_image(image_id)\n",
        "    mask, class_ids = dataset_train.load_mask(image_id)\n",
        "    visualize.display_top_masks(image, class_ids, dataset_train.class_names)"
      ],
      "execution_count": 94,
      "outputs": [
        {
          "output_type": "stream",
          "text": [
            "{'all_points_x': [279, 353, 333, 319], 'all_points_y': [310, 338, 320, 341], 'name': 'polygon'}\n"
          ],
          "name": "stdout"
        },
        {
          "output_type": "error",
          "ename": "TypeError",
          "evalue": "ignored",
          "traceback": [
            "\u001b[1;31m---------------------------------------------------------------------------\u001b[0m",
            "\u001b[1;31mTypeError\u001b[0m                                 Traceback (most recent call last)",
            "\u001b[1;32m<ipython-input-94-9aab857691e7>\u001b[0m in \u001b[0;36m<module>\u001b[1;34m()\u001b[0m\n\u001b[0;32m      2\u001b[0m \u001b[1;32mfor\u001b[0m \u001b[0mimage_id\u001b[0m \u001b[1;32min\u001b[0m \u001b[0mimage_ids\u001b[0m\u001b[1;33m:\u001b[0m\u001b[1;33m\u001b[0m\u001b[0m\n\u001b[0;32m      3\u001b[0m     \u001b[0mimage\u001b[0m \u001b[1;33m=\u001b[0m \u001b[0mdataset_train\u001b[0m\u001b[1;33m.\u001b[0m\u001b[0mload_image\u001b[0m\u001b[1;33m(\u001b[0m\u001b[0mimage_id\u001b[0m\u001b[1;33m)\u001b[0m\u001b[1;33m\u001b[0m\u001b[0m\n\u001b[1;32m----> 4\u001b[1;33m     \u001b[0mmask\u001b[0m\u001b[1;33m,\u001b[0m \u001b[0mclass_ids\u001b[0m \u001b[1;33m=\u001b[0m \u001b[0mdataset_train\u001b[0m\u001b[1;33m.\u001b[0m\u001b[0mload_mask\u001b[0m\u001b[1;33m(\u001b[0m\u001b[0mimage_id\u001b[0m\u001b[1;33m)\u001b[0m\u001b[1;33m\u001b[0m\u001b[0m\n\u001b[0m\u001b[0;32m      5\u001b[0m     \u001b[0mvisualize\u001b[0m\u001b[1;33m.\u001b[0m\u001b[0mdisplay_top_masks\u001b[0m\u001b[1;33m(\u001b[0m\u001b[0mimage\u001b[0m\u001b[1;33m,\u001b[0m \u001b[0mclass_ids\u001b[0m\u001b[1;33m,\u001b[0m \u001b[0mdataset_train\u001b[0m\u001b[1;33m.\u001b[0m\u001b[0mclass_names\u001b[0m\u001b[1;33m)\u001b[0m\u001b[1;33m\u001b[0m\u001b[0m\n",
            "\u001b[1;32m<ipython-input-7-6c3edd9f42eb>\u001b[0m in \u001b[0;36mload_mask\u001b[1;34m(self, image_id)\u001b[0m\n\u001b[0;32m    118\u001b[0m             \u001b[1;31m# Get indexes of pixels inside the polygon and set them to 1\u001b[0m\u001b[1;33m\u001b[0m\u001b[1;33m\u001b[0m\u001b[0m\n\u001b[0;32m    119\u001b[0m             \u001b[0mprint\u001b[0m\u001b[1;33m(\u001b[0m\u001b[0minfo\u001b[0m\u001b[1;33m[\u001b[0m\u001b[1;34m\"polygons\"\u001b[0m\u001b[1;33m]\u001b[0m\u001b[1;33m)\u001b[0m\u001b[1;33m\u001b[0m\u001b[0m\n\u001b[1;32m--> 120\u001b[1;33m             \u001b[0mrr\u001b[0m\u001b[1;33m,\u001b[0m \u001b[0mcc\u001b[0m \u001b[1;33m=\u001b[0m \u001b[0mskimage\u001b[0m\u001b[1;33m.\u001b[0m\u001b[0mdraw\u001b[0m\u001b[1;33m.\u001b[0m\u001b[0mpolygon\u001b[0m\u001b[1;33m(\u001b[0m\u001b[0mp\u001b[0m\u001b[1;33m[\u001b[0m\u001b[1;34m'all_points_y'\u001b[0m\u001b[1;33m]\u001b[0m\u001b[1;33m,\u001b[0m \u001b[0mp\u001b[0m\u001b[1;33m[\u001b[0m\u001b[1;34m'all_points_x'\u001b[0m\u001b[1;33m]\u001b[0m\u001b[1;33m)\u001b[0m\u001b[1;33m\u001b[0m\u001b[0m\n\u001b[0m\u001b[0;32m    121\u001b[0m             \u001b[0mmask\u001b[0m\u001b[1;33m[\u001b[0m\u001b[0mrr\u001b[0m\u001b[1;33m,\u001b[0m \u001b[0mcc\u001b[0m\u001b[1;33m,\u001b[0m \u001b[0mi\u001b[0m\u001b[1;33m]\u001b[0m \u001b[1;33m=\u001b[0m \u001b[1;36m1\u001b[0m\u001b[1;33m\u001b[0m\u001b[0m\n\u001b[0;32m    122\u001b[0m \u001b[1;33m\u001b[0m\u001b[0m\n",
            "\u001b[1;31mTypeError\u001b[0m: string indices must be integers"
          ]
        }
      ]
    },
    {
      "metadata": {
        "id": "ad3WZ-CHIZbf",
        "colab_type": "code",
        "colab": {}
      },
      "cell_type": "code",
      "source": [
        "# Create model in training mode\n",
        "model = modellib.MaskRCNN(mode=\"training\", config=config,\n",
        "                          model_dir=MODEL_DIR)"
      ],
      "execution_count": 0,
      "outputs": []
    },
    {
      "metadata": {
        "id": "U2S807nAIboT",
        "colab_type": "code",
        "colab": {}
      },
      "cell_type": "code",
      "source": [
        "# Which weights to start with?\n",
        "init_with = \"coco\"  # imagenet, coco, or last\n",
        "\n",
        "if init_with == \"imagenet\":\n",
        "    model.load_weights(model.get_imagenet_weights(), by_name=True)\n",
        "elif init_with == \"coco\":\n",
        "    # Load weights trained on MS COCO, but skip layers that\n",
        "    # are different due to the different number of classes\n",
        "    # See README for instructions to download the COCO weights\n",
        "    model.load_weights(COCO_MODEL_PATH, by_name=True,\n",
        "                       exclude=[\"mrcnn_class_logits\", \"mrcnn_bbox_fc\", \n",
        "                                \"mrcnn_bbox\", \"mrcnn_mask\"])\n",
        "elif init_with == \"last\":\n",
        "    # Load the last model you trained and continue training\n",
        "    model.load_weights(model.find_last(), by_name=True)"
      ],
      "execution_count": 0,
      "outputs": []
    },
    {
      "metadata": {
        "id": "yLPar73dIg7a",
        "colab_type": "code",
        "outputId": "3389100a-905a-4c0a-e68f-dbed08bbe087",
        "colab": {
          "base_uri": "https://localhost:8080/",
          "height": 2291
        }
      },
      "cell_type": "code",
      "source": [
        "# Train the head branches\n",
        "# Passing layers=\"heads\" freezes all layers except the head\n",
        "# layers. You can also pass a regular expression to select\n",
        "# which layers to train by name pattern.\n",
        "model.train(dataset_train, dataset_val, \n",
        "            learning_rate=config.LEARNING_RATE, \n",
        "            epochs=1, \n",
        "            layers='heads')"
      ],
      "execution_count": 0,
      "outputs": [
        {
          "output_type": "stream",
          "text": [
            "\n",
            "Starting at epoch 0. LR=0.001\n",
            "\n",
            "Checkpoint Path: C:\\Users\\Kayode Hadilou ADJE\\AnacondaProjects\\Mask_RCNN\\logs\\road20181126T1434\\mask_rcnn_road_{epoch:04d}.h5\n",
            "Selecting layers to train\n",
            "fpn_c5p5               (Conv2D)\n",
            "fpn_c4p4               (Conv2D)\n",
            "fpn_c3p3               (Conv2D)\n",
            "fpn_c2p2               (Conv2D)\n",
            "fpn_p5                 (Conv2D)\n",
            "fpn_p2                 (Conv2D)\n",
            "fpn_p3                 (Conv2D)\n",
            "fpn_p4                 (Conv2D)\n",
            "In model:  rpn_model\n",
            "    rpn_conv_shared        (Conv2D)\n",
            "    rpn_class_raw          (Conv2D)\n",
            "    rpn_bbox_pred          (Conv2D)\n",
            "mrcnn_mask_conv1       (TimeDistributed)\n",
            "mrcnn_mask_bn1         (TimeDistributed)\n",
            "mrcnn_mask_conv2       (TimeDistributed)\n",
            "mrcnn_mask_bn2         (TimeDistributed)\n",
            "mrcnn_class_conv1      (TimeDistributed)\n",
            "mrcnn_class_bn1        (TimeDistributed)\n",
            "mrcnn_mask_conv3       (TimeDistributed)\n",
            "mrcnn_mask_bn3         (TimeDistributed)\n",
            "mrcnn_class_conv2      (TimeDistributed)\n",
            "mrcnn_class_bn2        (TimeDistributed)\n",
            "mrcnn_mask_conv4       (TimeDistributed)\n",
            "mrcnn_mask_bn4         (TimeDistributed)\n",
            "mrcnn_bbox_fc          (TimeDistributed)\n",
            "mrcnn_mask_deconv      (TimeDistributed)\n",
            "mrcnn_class_logits     (TimeDistributed)\n",
            "mrcnn_mask             (TimeDistributed)\n"
          ],
          "name": "stdout"
        },
        {
          "output_type": "stream",
          "text": [
            "C:\\Users\\Kayode Hadilou ADJE\\Anaconda3\\lib\\site-packages\\tensorflow\\python\\ops\\gradients_impl.py:112: UserWarning:\n",
            "\n",
            "Converting sparse IndexedSlices to a dense Tensor of unknown shape. This may consume a large amount of memory.\n",
            "\n"
          ],
          "name": "stderr"
        },
        {
          "output_type": "stream",
          "text": [
            "Epoch 1/1\n"
          ],
          "name": "stdout"
        },
        {
          "output_type": "stream",
          "text": [
            "ERROR:root:Error processing image {'id': 'roadmark_1069.jpg', 'source': 'balloon', 'path': 'D:/Datasets/RoadmarkingDataset/RoadMarkingDataset/roadmark_1069.jpg', 'width': 800, 'height': 600, 'polygons': {'all_points_x': [281.964539, 349, 333, 321], 'all_points_y': [300, 343, 321, 338], 'name': 'polygon'}}\n",
            "Traceback (most recent call last):\n",
            "  File \"C:\\Users\\Kayode Hadilou ADJE\\Anaconda3\\lib\\site-packages\\mask_rcnn-2.1-py3.6.egg\\mrcnn\\model.py\", line 1710, in data_generator\n",
            "    use_mini_mask=config.USE_MINI_MASK)\n",
            "  File \"C:\\Users\\Kayode Hadilou ADJE\\Anaconda3\\lib\\site-packages\\mask_rcnn-2.1-py3.6.egg\\mrcnn\\model.py\", line 1276, in load_image_gt\n",
            "    source_class_ids = dataset.source_class_ids[dataset.image_info[image_id][\"source\"]]\n",
            "KeyError: 'balloon'\n",
            "ERROR:root:Error processing image {'id': 'roadmark_0028.jpg', 'source': 'balloon', 'path': 'D:/Datasets/RoadmarkingDataset/RoadMarkingDataset/roadmark_0028.jpg', 'width': 800, 'height': 600, 'polygons': {'all_points_x': [344.59317000000004, 443, 327, 361], 'all_points_y': [428, 325, 327, 361], 'name': 'polygon'}}\n",
            "Traceback (most recent call last):\n",
            "  File \"C:\\Users\\Kayode Hadilou ADJE\\Anaconda3\\lib\\site-packages\\mask_rcnn-2.1-py3.6.egg\\mrcnn\\model.py\", line 1710, in data_generator\n",
            "    use_mini_mask=config.USE_MINI_MASK)\n",
            "  File \"C:\\Users\\Kayode Hadilou ADJE\\Anaconda3\\lib\\site-packages\\mask_rcnn-2.1-py3.6.egg\\mrcnn\\model.py\", line 1276, in load_image_gt\n",
            "    source_class_ids = dataset.source_class_ids[dataset.image_info[image_id][\"source\"]]\n",
            "KeyError: 'balloon'\n",
            "ERROR:root:Error processing image {'id': 'roadmark_0776.jpg', 'source': 'balloon', 'path': 'D:/Datasets/RoadmarkingDataset/RoadMarkingDataset/roadmark_0776.jpg', 'width': 800, 'height': 600, 'polygons': {'all_points_x': [259.081238, 341, 316, 306], 'all_points_y': [288, 321, 305, 319], 'name': 'polygon'}}\n",
            "Traceback (most recent call last):\n",
            "  File \"C:\\Users\\Kayode Hadilou ADJE\\Anaconda3\\lib\\site-packages\\mask_rcnn-2.1-py3.6.egg\\mrcnn\\model.py\", line 1710, in data_generator\n",
            "    use_mini_mask=config.USE_MINI_MASK)\n",
            "  File \"C:\\Users\\Kayode Hadilou ADJE\\Anaconda3\\lib\\site-packages\\mask_rcnn-2.1-py3.6.egg\\mrcnn\\model.py\", line 1276, in load_image_gt\n",
            "    source_class_ids = dataset.source_class_ids[dataset.image_info[image_id][\"source\"]]\n",
            "KeyError: 'balloon'\n",
            "ERROR:root:Error processing image {'id': 'roadmark_0683.jpg', 'source': 'balloon', 'path': 'D:/Datasets/RoadmarkingDataset/RoadMarkingDataset/roadmark_0683.jpg', 'width': 800, 'height': 600, 'polygons': {'all_points_x': [129.104126, 252, 369, 353], 'all_points_y': [183, 223, 352, 391], 'name': 'polygon'}}\n",
            "Traceback (most recent call last):\n",
            "  File \"C:\\Users\\Kayode Hadilou ADJE\\Anaconda3\\lib\\site-packages\\mask_rcnn-2.1-py3.6.egg\\mrcnn\\model.py\", line 1710, in data_generator\n",
            "    use_mini_mask=config.USE_MINI_MASK)\n",
            "  File \"C:\\Users\\Kayode Hadilou ADJE\\Anaconda3\\lib\\site-packages\\mask_rcnn-2.1-py3.6.egg\\mrcnn\\model.py\", line 1276, in load_image_gt\n",
            "    source_class_ids = dataset.source_class_ids[dataset.image_info[image_id][\"source\"]]\n",
            "KeyError: 'balloon'\n",
            "ERROR:root:Error processing image {'id': 'roadmark_0578.jpg', 'source': 'balloon', 'path': 'D:/Datasets/RoadmarkingDataset/RoadMarkingDataset/roadmark_0578.jpg', 'width': 800, 'height': 600, 'polygons': {'all_points_x': [194.1772, 262, 328, 325], 'all_points_y': [234, 235, 320, 338], 'name': 'polygon'}}\n",
            "Traceback (most recent call last):\n",
            "  File \"C:\\Users\\Kayode Hadilou ADJE\\Anaconda3\\lib\\site-packages\\mask_rcnn-2.1-py3.6.egg\\mrcnn\\model.py\", line 1710, in data_generator\n",
            "    use_mini_mask=config.USE_MINI_MASK)\n",
            "  File \"C:\\Users\\Kayode Hadilou ADJE\\Anaconda3\\lib\\site-packages\\mask_rcnn-2.1-py3.6.egg\\mrcnn\\model.py\", line 1276, in load_image_gt\n",
            "    source_class_ids = dataset.source_class_ids[dataset.image_info[image_id][\"source\"]]\n",
            "KeyError: 'balloon'\n",
            "ERROR:root:Error processing image {'id': 'roadmark_1011.jpg', 'source': 'balloon', 'path': 'D:/Datasets/RoadmarkingDataset/RoadMarkingDataset/roadmark_1011.jpg', 'width': 800, 'height': 600, 'polygons': {'all_points_x': [299.355835, 362, 326, 317], 'all_points_y': [320, 346, 315, 331], 'name': 'polygon'}}\n",
            "Traceback (most recent call last):\n",
            "  File \"C:\\Users\\Kayode Hadilou ADJE\\Anaconda3\\lib\\site-packages\\mask_rcnn-2.1-py3.6.egg\\mrcnn\\model.py\", line 1710, in data_generator\n",
            "    use_mini_mask=config.USE_MINI_MASK)\n",
            "  File \"C:\\Users\\Kayode Hadilou ADJE\\Anaconda3\\lib\\site-packages\\mask_rcnn-2.1-py3.6.egg\\mrcnn\\model.py\", line 1276, in load_image_gt\n",
            "    source_class_ids = dataset.source_class_ids[dataset.image_info[image_id][\"source\"]]\n",
            "KeyError: 'balloon'\n"
          ],
          "name": "stderr"
        },
        {
          "output_type": "error",
          "ename": "KeyError",
          "evalue": "ignored",
          "traceback": [
            "\u001b[1;31m---------------------------------------------------------------------------\u001b[0m",
            "\u001b[1;31mKeyError\u001b[0m                                  Traceback (most recent call last)",
            "\u001b[1;32m<ipython-input-26-29bde9940ee7>\u001b[0m in \u001b[0;36m<module>\u001b[1;34m()\u001b[0m\n\u001b[0;32m      2\u001b[0m             \u001b[0mlearning_rate\u001b[0m\u001b[1;33m=\u001b[0m\u001b[0mconfig\u001b[0m\u001b[1;33m.\u001b[0m\u001b[0mLEARNING_RATE\u001b[0m\u001b[1;33m,\u001b[0m\u001b[1;33m\u001b[0m\u001b[0m\n\u001b[0;32m      3\u001b[0m             \u001b[0mepochs\u001b[0m\u001b[1;33m=\u001b[0m\u001b[1;36m1\u001b[0m\u001b[1;33m,\u001b[0m\u001b[1;33m\u001b[0m\u001b[0m\n\u001b[1;32m----> 4\u001b[1;33m             layers='heads')\n\u001b[0m",
            "\u001b[1;32m~\\Anaconda3\\lib\\site-packages\\mask_rcnn-2.1-py3.6.egg\\mrcnn\\model.py\u001b[0m in \u001b[0;36mtrain\u001b[1;34m(self, train_dataset, val_dataset, learning_rate, epochs, layers, augmentation, custom_callbacks, no_augmentation_sources)\u001b[0m\n\u001b[0;32m   2373\u001b[0m             \u001b[0mmax_queue_size\u001b[0m\u001b[1;33m=\u001b[0m\u001b[1;36m100\u001b[0m\u001b[1;33m,\u001b[0m\u001b[1;33m\u001b[0m\u001b[0m\n\u001b[0;32m   2374\u001b[0m             \u001b[0mworkers\u001b[0m\u001b[1;33m=\u001b[0m\u001b[0mworkers\u001b[0m\u001b[1;33m,\u001b[0m\u001b[1;33m\u001b[0m\u001b[0m\n\u001b[1;32m-> 2375\u001b[1;33m             \u001b[0muse_multiprocessing\u001b[0m\u001b[1;33m=\u001b[0m\u001b[1;32mTrue\u001b[0m\u001b[1;33m,\u001b[0m\u001b[1;33m\u001b[0m\u001b[0m\n\u001b[0m\u001b[0;32m   2376\u001b[0m         )\n\u001b[0;32m   2377\u001b[0m         \u001b[0mself\u001b[0m\u001b[1;33m.\u001b[0m\u001b[0mepoch\u001b[0m \u001b[1;33m=\u001b[0m \u001b[0mmax\u001b[0m\u001b[1;33m(\u001b[0m\u001b[0mself\u001b[0m\u001b[1;33m.\u001b[0m\u001b[0mepoch\u001b[0m\u001b[1;33m,\u001b[0m \u001b[0mepochs\u001b[0m\u001b[1;33m)\u001b[0m\u001b[1;33m\u001b[0m\u001b[0m\n",
            "\u001b[1;32m~\\Anaconda3\\lib\\site-packages\\keras\\legacy\\interfaces.py\u001b[0m in \u001b[0;36mwrapper\u001b[1;34m(*args, **kwargs)\u001b[0m\n\u001b[0;32m     89\u001b[0m                 warnings.warn('Update your `' + object_name + '` call to the ' +\n\u001b[0;32m     90\u001b[0m                               'Keras 2 API: ' + signature, stacklevel=2)\n\u001b[1;32m---> 91\u001b[1;33m             \u001b[1;32mreturn\u001b[0m \u001b[0mfunc\u001b[0m\u001b[1;33m(\u001b[0m\u001b[1;33m*\u001b[0m\u001b[0margs\u001b[0m\u001b[1;33m,\u001b[0m \u001b[1;33m**\u001b[0m\u001b[0mkwargs\u001b[0m\u001b[1;33m)\u001b[0m\u001b[1;33m\u001b[0m\u001b[0m\n\u001b[0m\u001b[0;32m     92\u001b[0m         \u001b[0mwrapper\u001b[0m\u001b[1;33m.\u001b[0m\u001b[0m_original_function\u001b[0m \u001b[1;33m=\u001b[0m \u001b[0mfunc\u001b[0m\u001b[1;33m\u001b[0m\u001b[0m\n\u001b[0;32m     93\u001b[0m         \u001b[1;32mreturn\u001b[0m \u001b[0mwrapper\u001b[0m\u001b[1;33m\u001b[0m\u001b[0m\n",
            "\u001b[1;32m~\\Anaconda3\\lib\\site-packages\\keras\\engine\\training.py\u001b[0m in \u001b[0;36mfit_generator\u001b[1;34m(self, generator, steps_per_epoch, epochs, verbose, callbacks, validation_data, validation_steps, class_weight, max_queue_size, workers, use_multiprocessing, shuffle, initial_epoch)\u001b[0m\n\u001b[0;32m   1416\u001b[0m             \u001b[0muse_multiprocessing\u001b[0m\u001b[1;33m=\u001b[0m\u001b[0muse_multiprocessing\u001b[0m\u001b[1;33m,\u001b[0m\u001b[1;33m\u001b[0m\u001b[0m\n\u001b[0;32m   1417\u001b[0m             \u001b[0mshuffle\u001b[0m\u001b[1;33m=\u001b[0m\u001b[0mshuffle\u001b[0m\u001b[1;33m,\u001b[0m\u001b[1;33m\u001b[0m\u001b[0m\n\u001b[1;32m-> 1418\u001b[1;33m             initial_epoch=initial_epoch)\n\u001b[0m\u001b[0;32m   1419\u001b[0m \u001b[1;33m\u001b[0m\u001b[0m\n\u001b[0;32m   1420\u001b[0m     \u001b[1;33m@\u001b[0m\u001b[0minterfaces\u001b[0m\u001b[1;33m.\u001b[0m\u001b[0mlegacy_generator_methods_support\u001b[0m\u001b[1;33m\u001b[0m\u001b[0m\n",
            "\u001b[1;32m~\\Anaconda3\\lib\\site-packages\\keras\\engine\\training_generator.py\u001b[0m in \u001b[0;36mfit_generator\u001b[1;34m(model, generator, steps_per_epoch, epochs, verbose, callbacks, validation_data, validation_steps, class_weight, max_queue_size, workers, use_multiprocessing, shuffle, initial_epoch)\u001b[0m\n\u001b[0;32m    179\u001b[0m             \u001b[0mbatch_index\u001b[0m \u001b[1;33m=\u001b[0m \u001b[1;36m0\u001b[0m\u001b[1;33m\u001b[0m\u001b[0m\n\u001b[0;32m    180\u001b[0m             \u001b[1;32mwhile\u001b[0m \u001b[0msteps_done\u001b[0m \u001b[1;33m<\u001b[0m \u001b[0msteps_per_epoch\u001b[0m\u001b[1;33m:\u001b[0m\u001b[1;33m\u001b[0m\u001b[0m\n\u001b[1;32m--> 181\u001b[1;33m                 \u001b[0mgenerator_output\u001b[0m \u001b[1;33m=\u001b[0m \u001b[0mnext\u001b[0m\u001b[1;33m(\u001b[0m\u001b[0moutput_generator\u001b[0m\u001b[1;33m)\u001b[0m\u001b[1;33m\u001b[0m\u001b[0m\n\u001b[0m\u001b[0;32m    182\u001b[0m \u001b[1;33m\u001b[0m\u001b[0m\n\u001b[0;32m    183\u001b[0m                 \u001b[1;32mif\u001b[0m \u001b[1;32mnot\u001b[0m \u001b[0mhasattr\u001b[0m\u001b[1;33m(\u001b[0m\u001b[0mgenerator_output\u001b[0m\u001b[1;33m,\u001b[0m \u001b[1;34m'__len__'\u001b[0m\u001b[1;33m)\u001b[0m\u001b[1;33m:\u001b[0m\u001b[1;33m\u001b[0m\u001b[0m\n",
            "\u001b[1;32m~\\Anaconda3\\lib\\site-packages\\mask_rcnn-2.1-py3.6.egg\\mrcnn\\model.py\u001b[0m in \u001b[0;36mdata_generator\u001b[1;34m(dataset, config, shuffle, augment, augmentation, random_rois, batch_size, detection_targets, no_augmentation_sources)\u001b[0m\n\u001b[0;32m   1708\u001b[0m                     load_image_gt(dataset, config, image_id, augment=augment,\n\u001b[0;32m   1709\u001b[0m                                 \u001b[0maugmentation\u001b[0m\u001b[1;33m=\u001b[0m\u001b[0maugmentation\u001b[0m\u001b[1;33m,\u001b[0m\u001b[1;33m\u001b[0m\u001b[0m\n\u001b[1;32m-> 1710\u001b[1;33m                                 use_mini_mask=config.USE_MINI_MASK)\n\u001b[0m\u001b[0;32m   1711\u001b[0m \u001b[1;33m\u001b[0m\u001b[0m\n\u001b[0;32m   1712\u001b[0m             \u001b[1;31m# Skip images that have no instances. This can happen in cases\u001b[0m\u001b[1;33m\u001b[0m\u001b[1;33m\u001b[0m\u001b[0m\n",
            "\u001b[1;32m~\\Anaconda3\\lib\\site-packages\\mask_rcnn-2.1-py3.6.egg\\mrcnn\\model.py\u001b[0m in \u001b[0;36mload_image_gt\u001b[1;34m(dataset, config, image_id, augment, augmentation, use_mini_mask)\u001b[0m\n\u001b[0;32m   1274\u001b[0m     \u001b[1;31m# classes supported in the dataset of this image.\u001b[0m\u001b[1;33m\u001b[0m\u001b[1;33m\u001b[0m\u001b[0m\n\u001b[0;32m   1275\u001b[0m     \u001b[0mactive_class_ids\u001b[0m \u001b[1;33m=\u001b[0m \u001b[0mnp\u001b[0m\u001b[1;33m.\u001b[0m\u001b[0mzeros\u001b[0m\u001b[1;33m(\u001b[0m\u001b[1;33m[\u001b[0m\u001b[0mdataset\u001b[0m\u001b[1;33m.\u001b[0m\u001b[0mnum_classes\u001b[0m\u001b[1;33m]\u001b[0m\u001b[1;33m,\u001b[0m \u001b[0mdtype\u001b[0m\u001b[1;33m=\u001b[0m\u001b[0mnp\u001b[0m\u001b[1;33m.\u001b[0m\u001b[0mint32\u001b[0m\u001b[1;33m)\u001b[0m\u001b[1;33m\u001b[0m\u001b[0m\n\u001b[1;32m-> 1276\u001b[1;33m     \u001b[0msource_class_ids\u001b[0m \u001b[1;33m=\u001b[0m \u001b[0mdataset\u001b[0m\u001b[1;33m.\u001b[0m\u001b[0msource_class_ids\u001b[0m\u001b[1;33m[\u001b[0m\u001b[0mdataset\u001b[0m\u001b[1;33m.\u001b[0m\u001b[0mimage_info\u001b[0m\u001b[1;33m[\u001b[0m\u001b[0mimage_id\u001b[0m\u001b[1;33m]\u001b[0m\u001b[1;33m[\u001b[0m\u001b[1;34m\"source\"\u001b[0m\u001b[1;33m]\u001b[0m\u001b[1;33m]\u001b[0m\u001b[1;33m\u001b[0m\u001b[0m\n\u001b[0m\u001b[0;32m   1277\u001b[0m     \u001b[0mactive_class_ids\u001b[0m\u001b[1;33m[\u001b[0m\u001b[0msource_class_ids\u001b[0m\u001b[1;33m]\u001b[0m \u001b[1;33m=\u001b[0m \u001b[1;36m1\u001b[0m\u001b[1;33m\u001b[0m\u001b[0m\n\u001b[0;32m   1278\u001b[0m \u001b[1;33m\u001b[0m\u001b[0m\n",
            "\u001b[1;31mKeyError\u001b[0m: 'balloon'"
          ]
        }
      ]
    },
    {
      "metadata": {
        "id": "Lo0C4gG-ImNV",
        "colab_type": "code",
        "colab": {}
      },
      "cell_type": "code",
      "source": [
        "# Fine tune all layers\n",
        "# Passing layers=\"all\" trains all layers. You can also \n",
        "# pass a regular expression to select which layers to\n",
        "# train by name pattern.\n",
        "model.train(dataset_train, dataset_val, \n",
        "            learning_rate=config.LEARNING_RATE / 10,\n",
        "            epochs=2, \n",
        "            layers=\"all\")"
      ],
      "execution_count": 0,
      "outputs": []
    },
    {
      "metadata": {
        "id": "ANXNnGmzIsnV",
        "colab_type": "code",
        "colab": {}
      },
      "cell_type": "code",
      "source": [
        "class InferenceConfig(ShapesConfig):\n",
        "    GPU_COUNT = 1\n",
        "    IMAGES_PER_GPU = 1\n",
        "\n",
        "inference_config = InferenceConfig()\n",
        "\n",
        "# Recreate the model in inference mode\n",
        "model = modellib.MaskRCNN(mode=\"inference\", \n",
        "                          config=inference_config,\n",
        "                          model_dir=MODEL_DIR)\n",
        "\n",
        "# Get path to saved weights\n",
        "# Either set a specific path or find last trained weights\n",
        "# model_path = os.path.join(ROOT_DIR, \".h5 file name here\")\n",
        "model_path = model.find_last()\n",
        "\n",
        "# Load trained weights\n",
        "print(\"Loading weights from \", model_path)\n",
        "model.load_weights(model_path, by_name=True)"
      ],
      "execution_count": 0,
      "outputs": []
    },
    {
      "metadata": {
        "id": "v-2XWFsUIyM2",
        "colab_type": "code",
        "colab": {}
      },
      "cell_type": "code",
      "source": [
        "# Test on a random image\n",
        "image_id = random.choice(dataset_val.image_ids)\n",
        "original_image, image_meta, gt_class_id, gt_bbox, gt_mask =\\\n",
        "    modellib.load_image_gt(dataset_val, inference_config, \n",
        "                           image_id, use_mini_mask=False)\n",
        "\n",
        "log(\"original_image\", original_image)\n",
        "log(\"image_meta\", image_meta)\n",
        "log(\"gt_class_id\", gt_class_id)\n",
        "log(\"gt_bbox\", gt_bbox)\n",
        "log(\"gt_mask\", gt_mask)\n",
        "\n",
        "visualize.display_instances(original_image, gt_bbox, gt_mask, gt_class_id, \n",
        "                            dataset_train.class_names, figsize=(8, 8))"
      ],
      "execution_count": 0,
      "outputs": []
    },
    {
      "metadata": {
        "id": "jaI8mJPEI3Yq",
        "colab_type": "code",
        "colab": {}
      },
      "cell_type": "code",
      "source": [
        "results = model.detect([original_image], verbose=1)\n",
        "\n",
        "r = results[0]\n",
        "visualize.display_instances(original_image, r['rois'], r['masks'], r['class_ids'], \n",
        "                            dataset_val.class_names, r['scores'], ax=get_ax())\n",
        "AP, precisions, recalls, overlaps = utils.compute_ap(gt_bbox, gt_class_id, gt_mask,\n",
        "                                          r['rois'], r['class_ids'], r['scores'], r['masks'])\n",
        "visualize.plot_precision_recall(AP, precisions, recalls)"
      ],
      "execution_count": 0,
      "outputs": []
    },
    {
      "metadata": {
        "id": "Q0gCnYYJJDBm",
        "colab_type": "code",
        "colab": {}
      },
      "cell_type": "code",
      "source": [
        "# Compute VOC-Style mAP @ IoU=0.5\n",
        "# Running on 10 images. Increase for better accuracy.\n",
        "image_ids = np.random.choice(dataset_val.image_ids, 10)\n",
        "APs = []\n",
        "for image_id in image_ids:\n",
        "    # Load image and ground truth data\n",
        "    image, image_meta, gt_class_id, gt_bbox, gt_mask =\\\n",
        "        modellib.load_image_gt(dataset_val, inference_config,\n",
        "                               image_id, use_mini_mask=False)\n",
        "    molded_images = np.expand_dims(modellib.mold_image(image, inference_config), 0)\n",
        "    # Run object detection\n",
        "    results = model.detect([image], verbose=0)\n",
        "    r = results[0]\n",
        "    # Compute AP\n",
        "    AP, precisions, recalls, overlaps =\\\n",
        "        utils.compute_ap(gt_bbox, gt_class_id, gt_mask,\n",
        "                         r[\"rois\"], r[\"class_ids\"], r[\"scores\"], r['masks'])\n",
        "    APs.append(AP)\n",
        "    \n",
        "print(\"mAP: \", np.mean(APs))"
      ],
      "execution_count": 0,
      "outputs": []
    },
    {
      "metadata": {
        "id": "d4CoYKTPJD3a",
        "colab_type": "text"
      },
      "cell_type": "markdown",
      "source": [
        ""
      ]
    },
    {
      "metadata": {
        "id": "BIngwq55JEDd",
        "colab_type": "text"
      },
      "cell_type": "markdown",
      "source": [
        ""
      ]
    },
    {
      "metadata": {
        "id": "nVwOXpGJHroR",
        "colab_type": "code",
        "colab": {}
      },
      "cell_type": "code",
      "source": [
        "\n",
        "def getAnnotations():\n",
        "    dataDIR = \"D:/Datasets/RoadmarkingDataset/RoadMarkingDataset\"\n",
        "    annotationsDIR= \"D:/Datasets/RoadmarkingDataset/New folder/dataset_annotations.txt\"\n",
        "    annotations = genfromtxt(annotationsDIR, delimiter=',',dtype=str)\n",
        "    return annotations\n",
        "\n",
        "    \n",
        "    \n",
        "print(getAnnotations())"
      ],
      "execution_count": 0,
      "outputs": []
    },
    {
      "metadata": {
        "id": "AEzZNUow5cOe",
        "colab_type": "code",
        "colab": {}
      },
      "cell_type": "code",
      "source": [
        "dataDIR = \"D:/Datasets/RoadmarkingDataset/RoadMarkingDataset\"\n",
        "annotationsDIR= \"D:/Datasets/RoadmarkingDataset/New folder/dataset_annotations.txt\"\n",
        "df_train = pd.read_csv(annotationsDIR)\n",
        "#print(df_train.head())\n",
        "labels = df_train['label'].apply(lambda x: x.split(' '))\n",
        "labels"
      ],
      "execution_count": 0,
      "outputs": []
    },
    {
      "metadata": {
        "id": "cu-WVXmU8lcO",
        "colab_type": "code",
        "colab": {}
      },
      "cell_type": "code",
      "source": [
        "from collections import Counter, defaultdict\n",
        "counts = defaultdict(int)\n",
        "for l in labels:\n",
        "    for l2 in l:\n",
        "        counts[l2] += 1\n",
        "print(counts)\n",
        "data=[go.Bar(x=list(counts.keys()), y=list(counts.values()))]\n",
        "layout=dict(height=800, width=800, title='Distribution of training labels')\n",
        "fig=dict(data=data, layout=layout)\n",
        "py.iplot(data, filename='train-label-dist')\n",
        "py.show()"
      ],
      "execution_count": 0,
      "outputs": []
    },
    {
      "metadata": {
        "id": "2jLOlCPjDzy3",
        "colab_type": "code",
        "outputId": "fef84ce0-eb1b-4e5a-e7b5-d65fb0346f2f",
        "colab": {
          "base_uri": "https://localhost:8080/",
          "height": 722
        }
      },
      "cell_type": "code",
      "source": [
        "com = np.zeros([len(counts)]*2)\n",
        "for i, l in enumerate(list(counts.keys())):\n",
        "    for i2, l2 in enumerate(list(counts.keys())):\n",
        "        c = 0\n",
        "        cy = 0\n",
        "        for row in labels.values:\n",
        "            if l in row:\n",
        "                c += 1\n",
        "                if l2 in row: cy += 1\n",
        "        com[i, i2] = cy / c\n",
        "\n",
        "data=[go.Heatmap(z=com, x=list(counts.keys()), y=list(counts.keys()))]\n",
        "layout=go.Layout(height=800, width=800, title='Co-occurence matrix of training labels')\n",
        "fig=dict(data=data, layout=layout)\n",
        "py.iplot(data, filename='train-com')\n",
        "py.show()"
      ],
      "execution_count": 0,
      "outputs": [
        {
          "output_type": "display_data",
          "data": {
            "application/vnd.plotly.v1+json": {
              "data": [
                {
                  "x": [
                    "stop",
                    "leftturn",
                    "rightturn",
                    "rail",
                    "35",
                    "forward",
                    "bike",
                    "40",
                    "ped",
                    "xing",
                    "diamond",
                    "car",
                    "pool",
                    "lane",
                    "keep",
                    "clear",
                    "25",
                    "X-crossing",
                    "forward&right",
                    "speed",
                    "hump",
                    "30",
                    "slow",
                    "school",
                    "stripe",
                    "forward&left",
                    "yield"
                  ],
                  "y": [
                    "stop",
                    "leftturn",
                    "rightturn",
                    "rail",
                    "35",
                    "forward",
                    "bike",
                    "40",
                    "ped",
                    "xing",
                    "diamond",
                    "car",
                    "pool",
                    "lane",
                    "keep",
                    "clear",
                    "25",
                    "X-crossing",
                    "forward&right",
                    "speed",
                    "hump",
                    "30",
                    "slow",
                    "school",
                    "stripe",
                    "forward&left",
                    "yield"
                  ],
                  "z": [
                    [
                      1,
                      0,
                      0,
                      0,
                      0,
                      0,
                      0,
                      0,
                      0,
                      0,
                      0,
                      0,
                      0,
                      0,
                      0,
                      0,
                      0,
                      0,
                      0,
                      0,
                      0,
                      0,
                      0,
                      0,
                      0,
                      0,
                      0
                    ],
                    [
                      0,
                      1,
                      0,
                      0,
                      0,
                      0,
                      0,
                      0,
                      0,
                      0,
                      0,
                      0,
                      0,
                      0,
                      0,
                      0,
                      0,
                      0,
                      0,
                      0,
                      0,
                      0,
                      0,
                      0,
                      0,
                      0,
                      0
                    ],
                    [
                      0,
                      0,
                      1,
                      0,
                      0,
                      0,
                      0,
                      0,
                      0,
                      0,
                      0,
                      0,
                      0,
                      0,
                      0,
                      0,
                      0,
                      0,
                      0,
                      0,
                      0,
                      0,
                      0,
                      0,
                      0,
                      0,
                      0
                    ],
                    [
                      0,
                      0,
                      0,
                      1,
                      0,
                      0,
                      0,
                      0,
                      0,
                      0,
                      0,
                      0,
                      0,
                      0,
                      0,
                      0,
                      0,
                      0,
                      0,
                      0,
                      0,
                      0,
                      0,
                      0,
                      0,
                      0,
                      0
                    ],
                    [
                      0,
                      0,
                      0,
                      0,
                      1,
                      0,
                      0,
                      0,
                      0,
                      0,
                      0,
                      0,
                      0,
                      0,
                      0,
                      0,
                      0,
                      0,
                      0,
                      0,
                      0,
                      0,
                      0,
                      0,
                      0,
                      0,
                      0
                    ],
                    [
                      0,
                      0,
                      0,
                      0,
                      0,
                      1,
                      0,
                      0,
                      0,
                      0,
                      0,
                      0,
                      0,
                      0,
                      0,
                      0,
                      0,
                      0,
                      0,
                      0,
                      0,
                      0,
                      0,
                      0,
                      0,
                      0,
                      0
                    ],
                    [
                      0,
                      0,
                      0,
                      0,
                      0,
                      0,
                      1,
                      0,
                      0,
                      0,
                      0,
                      0,
                      0,
                      0,
                      0,
                      0,
                      0,
                      0,
                      0,
                      0,
                      0,
                      0,
                      0,
                      0,
                      0,
                      0,
                      0
                    ],
                    [
                      0,
                      0,
                      0,
                      0,
                      0,
                      0,
                      0,
                      1,
                      0,
                      0,
                      0,
                      0,
                      0,
                      0,
                      0,
                      0,
                      0,
                      0,
                      0,
                      0,
                      0,
                      0,
                      0,
                      0,
                      0,
                      0,
                      0
                    ],
                    [
                      0,
                      0,
                      0,
                      0,
                      0,
                      0,
                      0,
                      0,
                      1,
                      0,
                      0,
                      0,
                      0,
                      0,
                      0,
                      0,
                      0,
                      0,
                      0,
                      0,
                      0,
                      0,
                      0,
                      0,
                      0,
                      0,
                      0
                    ],
                    [
                      0,
                      0,
                      0,
                      0,
                      0,
                      0,
                      0,
                      0,
                      0,
                      1,
                      0,
                      0,
                      0,
                      0,
                      0,
                      0,
                      0,
                      0,
                      0,
                      0,
                      0,
                      0,
                      0,
                      0,
                      0,
                      0,
                      0
                    ],
                    [
                      0,
                      0,
                      0,
                      0,
                      0,
                      0,
                      0,
                      0,
                      0,
                      0,
                      1,
                      0,
                      0,
                      0,
                      0,
                      0,
                      0,
                      0,
                      0,
                      0,
                      0,
                      0,
                      0,
                      0,
                      0,
                      0,
                      0
                    ],
                    [
                      0,
                      0,
                      0,
                      0,
                      0,
                      0,
                      0,
                      0,
                      0,
                      0,
                      0,
                      1,
                      0,
                      0,
                      0,
                      0,
                      0,
                      0,
                      0,
                      0,
                      0,
                      0,
                      0,
                      0,
                      0,
                      0,
                      0
                    ],
                    [
                      0,
                      0,
                      0,
                      0,
                      0,
                      0,
                      0,
                      0,
                      0,
                      0,
                      0,
                      0,
                      1,
                      0,
                      0,
                      0,
                      0,
                      0,
                      0,
                      0,
                      0,
                      0,
                      0,
                      0,
                      0,
                      0,
                      0
                    ],
                    [
                      0,
                      0,
                      0,
                      0,
                      0,
                      0,
                      0,
                      0,
                      0,
                      0,
                      0,
                      0,
                      0,
                      1,
                      0,
                      0,
                      0,
                      0,
                      0,
                      0,
                      0,
                      0,
                      0,
                      0,
                      0,
                      0,
                      0
                    ],
                    [
                      0,
                      0,
                      0,
                      0,
                      0,
                      0,
                      0,
                      0,
                      0,
                      0,
                      0,
                      0,
                      0,
                      0,
                      1,
                      0,
                      0,
                      0,
                      0,
                      0,
                      0,
                      0,
                      0,
                      0,
                      0,
                      0,
                      0
                    ],
                    [
                      0,
                      0,
                      0,
                      0,
                      0,
                      0,
                      0,
                      0,
                      0,
                      0,
                      0,
                      0,
                      0,
                      0,
                      0,
                      1,
                      0,
                      0,
                      0,
                      0,
                      0,
                      0,
                      0,
                      0,
                      0,
                      0,
                      0
                    ],
                    [
                      0,
                      0,
                      0,
                      0,
                      0,
                      0,
                      0,
                      0,
                      0,
                      0,
                      0,
                      0,
                      0,
                      0,
                      0,
                      0,
                      1,
                      0,
                      0,
                      0,
                      0,
                      0,
                      0,
                      0,
                      0,
                      0,
                      0
                    ],
                    [
                      0,
                      0,
                      0,
                      0,
                      0,
                      0,
                      0,
                      0,
                      0,
                      0,
                      0,
                      0,
                      0,
                      0,
                      0,
                      0,
                      0,
                      1,
                      0,
                      0,
                      0,
                      0,
                      0,
                      0,
                      0,
                      0,
                      0
                    ],
                    [
                      0,
                      0,
                      0,
                      0,
                      0,
                      0,
                      0,
                      0,
                      0,
                      0,
                      0,
                      0,
                      0,
                      0,
                      0,
                      0,
                      0,
                      0,
                      1,
                      0,
                      0,
                      0,
                      0,
                      0,
                      0,
                      0,
                      0
                    ],
                    [
                      0,
                      0,
                      0,
                      0,
                      0,
                      0,
                      0,
                      0,
                      0,
                      0,
                      0,
                      0,
                      0,
                      0,
                      0,
                      0,
                      0,
                      0,
                      0,
                      1,
                      0,
                      0,
                      0,
                      0,
                      0,
                      0,
                      0
                    ],
                    [
                      0,
                      0,
                      0,
                      0,
                      0,
                      0,
                      0,
                      0,
                      0,
                      0,
                      0,
                      0,
                      0,
                      0,
                      0,
                      0,
                      0,
                      0,
                      0,
                      0,
                      1,
                      0,
                      0,
                      0,
                      0,
                      0,
                      0
                    ],
                    [
                      0,
                      0,
                      0,
                      0,
                      0,
                      0,
                      0,
                      0,
                      0,
                      0,
                      0,
                      0,
                      0,
                      0,
                      0,
                      0,
                      0,
                      0,
                      0,
                      0,
                      0,
                      1,
                      0,
                      0,
                      0,
                      0,
                      0
                    ],
                    [
                      0,
                      0,
                      0,
                      0,
                      0,
                      0,
                      0,
                      0,
                      0,
                      0,
                      0,
                      0,
                      0,
                      0,
                      0,
                      0,
                      0,
                      0,
                      0,
                      0,
                      0,
                      0,
                      1,
                      0,
                      0,
                      0,
                      0
                    ],
                    [
                      0,
                      0,
                      0,
                      0,
                      0,
                      0,
                      0,
                      0,
                      0,
                      0,
                      0,
                      0,
                      0,
                      0,
                      0,
                      0,
                      0,
                      0,
                      0,
                      0,
                      0,
                      0,
                      0,
                      1,
                      0,
                      0,
                      0
                    ],
                    [
                      0,
                      0,
                      0,
                      0,
                      0,
                      0,
                      0,
                      0,
                      0,
                      0,
                      0,
                      0,
                      0,
                      0,
                      0,
                      0,
                      0,
                      0,
                      0,
                      0,
                      0,
                      0,
                      0,
                      0,
                      1,
                      0,
                      0
                    ],
                    [
                      0,
                      0,
                      0,
                      0,
                      0,
                      0,
                      0,
                      0,
                      0,
                      0,
                      0,
                      0,
                      0,
                      0,
                      0,
                      0,
                      0,
                      0,
                      0,
                      0,
                      0,
                      0,
                      0,
                      0,
                      0,
                      1,
                      0
                    ],
                    [
                      0,
                      0,
                      0,
                      0,
                      0,
                      0,
                      0,
                      0,
                      0,
                      0,
                      0,
                      0,
                      0,
                      0,
                      0,
                      0,
                      0,
                      0,
                      0,
                      0,
                      0,
                      0,
                      0,
                      0,
                      0,
                      0,
                      1
                    ]
                  ],
                  "type": "heatmap",
                  "uid": "76dfb4bf-d3b6-418a-9536-12f962df4e73"
                }
              ],
              "layout": {},
              "config": {
                "showLink": true,
                "linkText": "Export to plot.ly",
                "plotlyServerURL": "https://plot.ly"
              }
            },
            "text/html": [
              "<div id=\"de2cb443-ec44-4fe5-a55d-4a3a429f8cb6\" style=\"height: 525px; width: 100%;\" class=\"plotly-graph-div\"></div><script type=\"text/javascript\">require([\"plotly\"], function(Plotly) { window.PLOTLYENV=window.PLOTLYENV || {};window.PLOTLYENV.BASE_URL=\"https://plot.ly\";Plotly.newPlot(\"de2cb443-ec44-4fe5-a55d-4a3a429f8cb6\", [{\"x\": [\"stop\", \"leftturn\", \"rightturn\", \"rail\", \"35\", \"forward\", \"bike\", \"40\", \"ped\", \"xing\", \"diamond\", \"car\", \"pool\", \"lane\", \"keep\", \"clear\", \"25\", \"X-crossing\", \"forward&right\", \"speed\", \"hump\", \"30\", \"slow\", \"school\", \"stripe\", \"forward&left\", \"yield\"], \"y\": [\"stop\", \"leftturn\", \"rightturn\", \"rail\", \"35\", \"forward\", \"bike\", \"40\", \"ped\", \"xing\", \"diamond\", \"car\", \"pool\", \"lane\", \"keep\", \"clear\", \"25\", \"X-crossing\", \"forward&right\", \"speed\", \"hump\", \"30\", \"slow\", \"school\", \"stripe\", \"forward&left\", \"yield\"], \"z\": [[1.0, 0.0, 0.0, 0.0, 0.0, 0.0, 0.0, 0.0, 0.0, 0.0, 0.0, 0.0, 0.0, 0.0, 0.0, 0.0, 0.0, 0.0, 0.0, 0.0, 0.0, 0.0, 0.0, 0.0, 0.0, 0.0, 0.0], [0.0, 1.0, 0.0, 0.0, 0.0, 0.0, 0.0, 0.0, 0.0, 0.0, 0.0, 0.0, 0.0, 0.0, 0.0, 0.0, 0.0, 0.0, 0.0, 0.0, 0.0, 0.0, 0.0, 0.0, 0.0, 0.0, 0.0], [0.0, 0.0, 1.0, 0.0, 0.0, 0.0, 0.0, 0.0, 0.0, 0.0, 0.0, 0.0, 0.0, 0.0, 0.0, 0.0, 0.0, 0.0, 0.0, 0.0, 0.0, 0.0, 0.0, 0.0, 0.0, 0.0, 0.0], [0.0, 0.0, 0.0, 1.0, 0.0, 0.0, 0.0, 0.0, 0.0, 0.0, 0.0, 0.0, 0.0, 0.0, 0.0, 0.0, 0.0, 0.0, 0.0, 0.0, 0.0, 0.0, 0.0, 0.0, 0.0, 0.0, 0.0], [0.0, 0.0, 0.0, 0.0, 1.0, 0.0, 0.0, 0.0, 0.0, 0.0, 0.0, 0.0, 0.0, 0.0, 0.0, 0.0, 0.0, 0.0, 0.0, 0.0, 0.0, 0.0, 0.0, 0.0, 0.0, 0.0, 0.0], [0.0, 0.0, 0.0, 0.0, 0.0, 1.0, 0.0, 0.0, 0.0, 0.0, 0.0, 0.0, 0.0, 0.0, 0.0, 0.0, 0.0, 0.0, 0.0, 0.0, 0.0, 0.0, 0.0, 0.0, 0.0, 0.0, 0.0], [0.0, 0.0, 0.0, 0.0, 0.0, 0.0, 1.0, 0.0, 0.0, 0.0, 0.0, 0.0, 0.0, 0.0, 0.0, 0.0, 0.0, 0.0, 0.0, 0.0, 0.0, 0.0, 0.0, 0.0, 0.0, 0.0, 0.0], [0.0, 0.0, 0.0, 0.0, 0.0, 0.0, 0.0, 1.0, 0.0, 0.0, 0.0, 0.0, 0.0, 0.0, 0.0, 0.0, 0.0, 0.0, 0.0, 0.0, 0.0, 0.0, 0.0, 0.0, 0.0, 0.0, 0.0], [0.0, 0.0, 0.0, 0.0, 0.0, 0.0, 0.0, 0.0, 1.0, 0.0, 0.0, 0.0, 0.0, 0.0, 0.0, 0.0, 0.0, 0.0, 0.0, 0.0, 0.0, 0.0, 0.0, 0.0, 0.0, 0.0, 0.0], [0.0, 0.0, 0.0, 0.0, 0.0, 0.0, 0.0, 0.0, 0.0, 1.0, 0.0, 0.0, 0.0, 0.0, 0.0, 0.0, 0.0, 0.0, 0.0, 0.0, 0.0, 0.0, 0.0, 0.0, 0.0, 0.0, 0.0], [0.0, 0.0, 0.0, 0.0, 0.0, 0.0, 0.0, 0.0, 0.0, 0.0, 1.0, 0.0, 0.0, 0.0, 0.0, 0.0, 0.0, 0.0, 0.0, 0.0, 0.0, 0.0, 0.0, 0.0, 0.0, 0.0, 0.0], [0.0, 0.0, 0.0, 0.0, 0.0, 0.0, 0.0, 0.0, 0.0, 0.0, 0.0, 1.0, 0.0, 0.0, 0.0, 0.0, 0.0, 0.0, 0.0, 0.0, 0.0, 0.0, 0.0, 0.0, 0.0, 0.0, 0.0], [0.0, 0.0, 0.0, 0.0, 0.0, 0.0, 0.0, 0.0, 0.0, 0.0, 0.0, 0.0, 1.0, 0.0, 0.0, 0.0, 0.0, 0.0, 0.0, 0.0, 0.0, 0.0, 0.0, 0.0, 0.0, 0.0, 0.0], [0.0, 0.0, 0.0, 0.0, 0.0, 0.0, 0.0, 0.0, 0.0, 0.0, 0.0, 0.0, 0.0, 1.0, 0.0, 0.0, 0.0, 0.0, 0.0, 0.0, 0.0, 0.0, 0.0, 0.0, 0.0, 0.0, 0.0], [0.0, 0.0, 0.0, 0.0, 0.0, 0.0, 0.0, 0.0, 0.0, 0.0, 0.0, 0.0, 0.0, 0.0, 1.0, 0.0, 0.0, 0.0, 0.0, 0.0, 0.0, 0.0, 0.0, 0.0, 0.0, 0.0, 0.0], [0.0, 0.0, 0.0, 0.0, 0.0, 0.0, 0.0, 0.0, 0.0, 0.0, 0.0, 0.0, 0.0, 0.0, 0.0, 1.0, 0.0, 0.0, 0.0, 0.0, 0.0, 0.0, 0.0, 0.0, 0.0, 0.0, 0.0], [0.0, 0.0, 0.0, 0.0, 0.0, 0.0, 0.0, 0.0, 0.0, 0.0, 0.0, 0.0, 0.0, 0.0, 0.0, 0.0, 1.0, 0.0, 0.0, 0.0, 0.0, 0.0, 0.0, 0.0, 0.0, 0.0, 0.0], [0.0, 0.0, 0.0, 0.0, 0.0, 0.0, 0.0, 0.0, 0.0, 0.0, 0.0, 0.0, 0.0, 0.0, 0.0, 0.0, 0.0, 1.0, 0.0, 0.0, 0.0, 0.0, 0.0, 0.0, 0.0, 0.0, 0.0], [0.0, 0.0, 0.0, 0.0, 0.0, 0.0, 0.0, 0.0, 0.0, 0.0, 0.0, 0.0, 0.0, 0.0, 0.0, 0.0, 0.0, 0.0, 1.0, 0.0, 0.0, 0.0, 0.0, 0.0, 0.0, 0.0, 0.0], [0.0, 0.0, 0.0, 0.0, 0.0, 0.0, 0.0, 0.0, 0.0, 0.0, 0.0, 0.0, 0.0, 0.0, 0.0, 0.0, 0.0, 0.0, 0.0, 1.0, 0.0, 0.0, 0.0, 0.0, 0.0, 0.0, 0.0], [0.0, 0.0, 0.0, 0.0, 0.0, 0.0, 0.0, 0.0, 0.0, 0.0, 0.0, 0.0, 0.0, 0.0, 0.0, 0.0, 0.0, 0.0, 0.0, 0.0, 1.0, 0.0, 0.0, 0.0, 0.0, 0.0, 0.0], [0.0, 0.0, 0.0, 0.0, 0.0, 0.0, 0.0, 0.0, 0.0, 0.0, 0.0, 0.0, 0.0, 0.0, 0.0, 0.0, 0.0, 0.0, 0.0, 0.0, 0.0, 1.0, 0.0, 0.0, 0.0, 0.0, 0.0], [0.0, 0.0, 0.0, 0.0, 0.0, 0.0, 0.0, 0.0, 0.0, 0.0, 0.0, 0.0, 0.0, 0.0, 0.0, 0.0, 0.0, 0.0, 0.0, 0.0, 0.0, 0.0, 1.0, 0.0, 0.0, 0.0, 0.0], [0.0, 0.0, 0.0, 0.0, 0.0, 0.0, 0.0, 0.0, 0.0, 0.0, 0.0, 0.0, 0.0, 0.0, 0.0, 0.0, 0.0, 0.0, 0.0, 0.0, 0.0, 0.0, 0.0, 1.0, 0.0, 0.0, 0.0], [0.0, 0.0, 0.0, 0.0, 0.0, 0.0, 0.0, 0.0, 0.0, 0.0, 0.0, 0.0, 0.0, 0.0, 0.0, 0.0, 0.0, 0.0, 0.0, 0.0, 0.0, 0.0, 0.0, 0.0, 1.0, 0.0, 0.0], [0.0, 0.0, 0.0, 0.0, 0.0, 0.0, 0.0, 0.0, 0.0, 0.0, 0.0, 0.0, 0.0, 0.0, 0.0, 0.0, 0.0, 0.0, 0.0, 0.0, 0.0, 0.0, 0.0, 0.0, 0.0, 1.0, 0.0], [0.0, 0.0, 0.0, 0.0, 0.0, 0.0, 0.0, 0.0, 0.0, 0.0, 0.0, 0.0, 0.0, 0.0, 0.0, 0.0, 0.0, 0.0, 0.0, 0.0, 0.0, 0.0, 0.0, 0.0, 0.0, 0.0, 1.0]], \"type\": \"heatmap\", \"uid\": \"c012d63b-93db-4917-af3a-a645908863b3\"}], {}, {\"showLink\": true, \"linkText\": \"Export to plot.ly\", \"plotlyServerURL\": \"https://plot.ly\"})});</script><script type=\"text/javascript\">window.addEventListener(\"resize\", function(){window._Plotly.Plots.resize(document.getElementById(\"de2cb443-ec44-4fe5-a55d-4a3a429f8cb6\"));});</script>"
            ],
            "text/vnd.plotly.v1+html": "<div id=\"de2cb443-ec44-4fe5-a55d-4a3a429f8cb6\" style=\"height: 525px; width: 100%;\" class=\"plotly-graph-div\"></div><script type=\"text/javascript\">require([\"plotly\"], function(Plotly) { window.PLOTLYENV=window.PLOTLYENV || {};window.PLOTLYENV.BASE_URL=\"https://plot.ly\";Plotly.newPlot(\"de2cb443-ec44-4fe5-a55d-4a3a429f8cb6\", [{\"x\": [\"stop\", \"leftturn\", \"rightturn\", \"rail\", \"35\", \"forward\", \"bike\", \"40\", \"ped\", \"xing\", \"diamond\", \"car\", \"pool\", \"lane\", \"keep\", \"clear\", \"25\", \"X-crossing\", \"forward&right\", \"speed\", \"hump\", \"30\", \"slow\", \"school\", \"stripe\", \"forward&left\", \"yield\"], \"y\": [\"stop\", \"leftturn\", \"rightturn\", \"rail\", \"35\", \"forward\", \"bike\", \"40\", \"ped\", \"xing\", \"diamond\", \"car\", \"pool\", \"lane\", \"keep\", \"clear\", \"25\", \"X-crossing\", \"forward&right\", \"speed\", \"hump\", \"30\", \"slow\", \"school\", \"stripe\", \"forward&left\", \"yield\"], \"z\": [[1.0, 0.0, 0.0, 0.0, 0.0, 0.0, 0.0, 0.0, 0.0, 0.0, 0.0, 0.0, 0.0, 0.0, 0.0, 0.0, 0.0, 0.0, 0.0, 0.0, 0.0, 0.0, 0.0, 0.0, 0.0, 0.0, 0.0], [0.0, 1.0, 0.0, 0.0, 0.0, 0.0, 0.0, 0.0, 0.0, 0.0, 0.0, 0.0, 0.0, 0.0, 0.0, 0.0, 0.0, 0.0, 0.0, 0.0, 0.0, 0.0, 0.0, 0.0, 0.0, 0.0, 0.0], [0.0, 0.0, 1.0, 0.0, 0.0, 0.0, 0.0, 0.0, 0.0, 0.0, 0.0, 0.0, 0.0, 0.0, 0.0, 0.0, 0.0, 0.0, 0.0, 0.0, 0.0, 0.0, 0.0, 0.0, 0.0, 0.0, 0.0], [0.0, 0.0, 0.0, 1.0, 0.0, 0.0, 0.0, 0.0, 0.0, 0.0, 0.0, 0.0, 0.0, 0.0, 0.0, 0.0, 0.0, 0.0, 0.0, 0.0, 0.0, 0.0, 0.0, 0.0, 0.0, 0.0, 0.0], [0.0, 0.0, 0.0, 0.0, 1.0, 0.0, 0.0, 0.0, 0.0, 0.0, 0.0, 0.0, 0.0, 0.0, 0.0, 0.0, 0.0, 0.0, 0.0, 0.0, 0.0, 0.0, 0.0, 0.0, 0.0, 0.0, 0.0], [0.0, 0.0, 0.0, 0.0, 0.0, 1.0, 0.0, 0.0, 0.0, 0.0, 0.0, 0.0, 0.0, 0.0, 0.0, 0.0, 0.0, 0.0, 0.0, 0.0, 0.0, 0.0, 0.0, 0.0, 0.0, 0.0, 0.0], [0.0, 0.0, 0.0, 0.0, 0.0, 0.0, 1.0, 0.0, 0.0, 0.0, 0.0, 0.0, 0.0, 0.0, 0.0, 0.0, 0.0, 0.0, 0.0, 0.0, 0.0, 0.0, 0.0, 0.0, 0.0, 0.0, 0.0], [0.0, 0.0, 0.0, 0.0, 0.0, 0.0, 0.0, 1.0, 0.0, 0.0, 0.0, 0.0, 0.0, 0.0, 0.0, 0.0, 0.0, 0.0, 0.0, 0.0, 0.0, 0.0, 0.0, 0.0, 0.0, 0.0, 0.0], [0.0, 0.0, 0.0, 0.0, 0.0, 0.0, 0.0, 0.0, 1.0, 0.0, 0.0, 0.0, 0.0, 0.0, 0.0, 0.0, 0.0, 0.0, 0.0, 0.0, 0.0, 0.0, 0.0, 0.0, 0.0, 0.0, 0.0], [0.0, 0.0, 0.0, 0.0, 0.0, 0.0, 0.0, 0.0, 0.0, 1.0, 0.0, 0.0, 0.0, 0.0, 0.0, 0.0, 0.0, 0.0, 0.0, 0.0, 0.0, 0.0, 0.0, 0.0, 0.0, 0.0, 0.0], [0.0, 0.0, 0.0, 0.0, 0.0, 0.0, 0.0, 0.0, 0.0, 0.0, 1.0, 0.0, 0.0, 0.0, 0.0, 0.0, 0.0, 0.0, 0.0, 0.0, 0.0, 0.0, 0.0, 0.0, 0.0, 0.0, 0.0], [0.0, 0.0, 0.0, 0.0, 0.0, 0.0, 0.0, 0.0, 0.0, 0.0, 0.0, 1.0, 0.0, 0.0, 0.0, 0.0, 0.0, 0.0, 0.0, 0.0, 0.0, 0.0, 0.0, 0.0, 0.0, 0.0, 0.0], [0.0, 0.0, 0.0, 0.0, 0.0, 0.0, 0.0, 0.0, 0.0, 0.0, 0.0, 0.0, 1.0, 0.0, 0.0, 0.0, 0.0, 0.0, 0.0, 0.0, 0.0, 0.0, 0.0, 0.0, 0.0, 0.0, 0.0], [0.0, 0.0, 0.0, 0.0, 0.0, 0.0, 0.0, 0.0, 0.0, 0.0, 0.0, 0.0, 0.0, 1.0, 0.0, 0.0, 0.0, 0.0, 0.0, 0.0, 0.0, 0.0, 0.0, 0.0, 0.0, 0.0, 0.0], [0.0, 0.0, 0.0, 0.0, 0.0, 0.0, 0.0, 0.0, 0.0, 0.0, 0.0, 0.0, 0.0, 0.0, 1.0, 0.0, 0.0, 0.0, 0.0, 0.0, 0.0, 0.0, 0.0, 0.0, 0.0, 0.0, 0.0], [0.0, 0.0, 0.0, 0.0, 0.0, 0.0, 0.0, 0.0, 0.0, 0.0, 0.0, 0.0, 0.0, 0.0, 0.0, 1.0, 0.0, 0.0, 0.0, 0.0, 0.0, 0.0, 0.0, 0.0, 0.0, 0.0, 0.0], [0.0, 0.0, 0.0, 0.0, 0.0, 0.0, 0.0, 0.0, 0.0, 0.0, 0.0, 0.0, 0.0, 0.0, 0.0, 0.0, 1.0, 0.0, 0.0, 0.0, 0.0, 0.0, 0.0, 0.0, 0.0, 0.0, 0.0], [0.0, 0.0, 0.0, 0.0, 0.0, 0.0, 0.0, 0.0, 0.0, 0.0, 0.0, 0.0, 0.0, 0.0, 0.0, 0.0, 0.0, 1.0, 0.0, 0.0, 0.0, 0.0, 0.0, 0.0, 0.0, 0.0, 0.0], [0.0, 0.0, 0.0, 0.0, 0.0, 0.0, 0.0, 0.0, 0.0, 0.0, 0.0, 0.0, 0.0, 0.0, 0.0, 0.0, 0.0, 0.0, 1.0, 0.0, 0.0, 0.0, 0.0, 0.0, 0.0, 0.0, 0.0], [0.0, 0.0, 0.0, 0.0, 0.0, 0.0, 0.0, 0.0, 0.0, 0.0, 0.0, 0.0, 0.0, 0.0, 0.0, 0.0, 0.0, 0.0, 0.0, 1.0, 0.0, 0.0, 0.0, 0.0, 0.0, 0.0, 0.0], [0.0, 0.0, 0.0, 0.0, 0.0, 0.0, 0.0, 0.0, 0.0, 0.0, 0.0, 0.0, 0.0, 0.0, 0.0, 0.0, 0.0, 0.0, 0.0, 0.0, 1.0, 0.0, 0.0, 0.0, 0.0, 0.0, 0.0], [0.0, 0.0, 0.0, 0.0, 0.0, 0.0, 0.0, 0.0, 0.0, 0.0, 0.0, 0.0, 0.0, 0.0, 0.0, 0.0, 0.0, 0.0, 0.0, 0.0, 0.0, 1.0, 0.0, 0.0, 0.0, 0.0, 0.0], [0.0, 0.0, 0.0, 0.0, 0.0, 0.0, 0.0, 0.0, 0.0, 0.0, 0.0, 0.0, 0.0, 0.0, 0.0, 0.0, 0.0, 0.0, 0.0, 0.0, 0.0, 0.0, 1.0, 0.0, 0.0, 0.0, 0.0], [0.0, 0.0, 0.0, 0.0, 0.0, 0.0, 0.0, 0.0, 0.0, 0.0, 0.0, 0.0, 0.0, 0.0, 0.0, 0.0, 0.0, 0.0, 0.0, 0.0, 0.0, 0.0, 0.0, 1.0, 0.0, 0.0, 0.0], [0.0, 0.0, 0.0, 0.0, 0.0, 0.0, 0.0, 0.0, 0.0, 0.0, 0.0, 0.0, 0.0, 0.0, 0.0, 0.0, 0.0, 0.0, 0.0, 0.0, 0.0, 0.0, 0.0, 0.0, 1.0, 0.0, 0.0], [0.0, 0.0, 0.0, 0.0, 0.0, 0.0, 0.0, 0.0, 0.0, 0.0, 0.0, 0.0, 0.0, 0.0, 0.0, 0.0, 0.0, 0.0, 0.0, 0.0, 0.0, 0.0, 0.0, 0.0, 0.0, 1.0, 0.0], [0.0, 0.0, 0.0, 0.0, 0.0, 0.0, 0.0, 0.0, 0.0, 0.0, 0.0, 0.0, 0.0, 0.0, 0.0, 0.0, 0.0, 0.0, 0.0, 0.0, 0.0, 0.0, 0.0, 0.0, 0.0, 0.0, 1.0]], \"type\": \"heatmap\", \"uid\": \"c012d63b-93db-4917-af3a-a645908863b3\"}], {}, {\"showLink\": true, \"linkText\": \"Export to plot.ly\", \"plotlyServerURL\": \"https://plot.ly\"})});</script><script type=\"text/javascript\">window.addEventListener(\"resize\", function(){window._Plotly.Plots.resize(document.getElementById(\"de2cb443-ec44-4fe5-a55d-4a3a429f8cb6\"));});</script>"
          },
          "metadata": {
            "tags": []
          }
        },
        {
          "output_type": "error",
          "ename": "AttributeError",
          "evalue": "ignored",
          "traceback": [
            "\u001b[1;31m---------------------------------------------------------------------------\u001b[0m",
            "\u001b[1;31mAttributeError\u001b[0m                            Traceback (most recent call last)",
            "\u001b[1;32m<ipython-input-267-c152f8732f51>\u001b[0m in \u001b[0;36m<module>\u001b[1;34m()\u001b[0m\n\u001b[0;32m     14\u001b[0m \u001b[0mfig\u001b[0m\u001b[1;33m=\u001b[0m\u001b[0mdict\u001b[0m\u001b[1;33m(\u001b[0m\u001b[0mdata\u001b[0m\u001b[1;33m=\u001b[0m\u001b[0mdata\u001b[0m\u001b[1;33m,\u001b[0m \u001b[0mlayout\u001b[0m\u001b[1;33m=\u001b[0m\u001b[0mlayout\u001b[0m\u001b[1;33m)\u001b[0m\u001b[1;33m\u001b[0m\u001b[0m\n\u001b[0;32m     15\u001b[0m \u001b[0mpy\u001b[0m\u001b[1;33m.\u001b[0m\u001b[0miplot\u001b[0m\u001b[1;33m(\u001b[0m\u001b[0mdata\u001b[0m\u001b[1;33m,\u001b[0m \u001b[0mfilename\u001b[0m\u001b[1;33m=\u001b[0m\u001b[1;34m'train-com'\u001b[0m\u001b[1;33m)\u001b[0m\u001b[1;33m\u001b[0m\u001b[0m\n\u001b[1;32m---> 16\u001b[1;33m \u001b[0mpy\u001b[0m\u001b[1;33m.\u001b[0m\u001b[0mshow\u001b[0m\u001b[1;33m(\u001b[0m\u001b[1;33m)\u001b[0m\u001b[1;33m\u001b[0m\u001b[0m\n\u001b[0m",
            "\u001b[1;31mAttributeError\u001b[0m: module 'plotly.offline' has no attribute 'show'"
          ]
        }
      ]
    }
  ]
}