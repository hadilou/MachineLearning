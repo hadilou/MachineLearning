{
 "cells": [
  {
   "cell_type": "code",
   "execution_count": 1,
   "metadata": {},
   "outputs": [
    {
     "name": "stderr",
     "output_type": "stream",
     "text": [
      "usage: ipykernel_launcher.py [-h] [--video VIDEO]\n",
      "ipykernel_launcher.py: error: unrecognized arguments: -f C:\\Users\\Kayode Hadilou ADJE\\AppData\\Roaming\\jupyter\\runtime\\kernel-92de907e-efa3-4c2f-89c2-dd093644759e.json\n"
     ]
    },
    {
     "ename": "SystemExit",
     "evalue": "2",
     "output_type": "error",
     "traceback": [
      "An exception has occurred, use %tb to see the full traceback.\n",
      "\u001b[1;31mSystemExit\u001b[0m\u001b[1;31m:\u001b[0m 2\n"
     ]
    },
    {
     "name": "stderr",
     "output_type": "stream",
     "text": [
      "C:\\Users\\Kayode Hadilou ADJE\\Anaconda3\\lib\\site-packages\\IPython\\core\\interactiveshell.py:2870: UserWarning: To exit: use 'exit', 'quit', or Ctrl-D.\n",
      "  warn(\"To exit: use 'exit', 'quit', or Ctrl-D.\", stacklevel=1)\n"
     ]
    }
   ],
   "source": [
    "import cv2 as cv\n",
    "import numpy as np\n",
    "import argparse\n",
    "import os.path\n",
    "import sys\n",
    "\n",
    "parser = argparse.ArgumentParser(description='Parse arguments')\n",
    "parser.add_argument('--video', help = 'Path to video file.')\n",
    "args = parser.parse_args()\n",
    "\n",
    "if (args.video):\n",
    "    #lets open the video file\n",
    "    if not os.path.isfile(args.video):\n",
    "        print(\"The video file\",args.video ,\" doesnt exist\")\n",
    "        sys.exit(1)\n",
    "    cap = cv.VideoCapture(args.video)\n",
    "    outputFile = args.video[:-4]+'_mask_rcnn_out_py.avi'\n",
    "else:\n",
    "    #start video capturing\n",
    "    cap = cv.VideoCapture(0)\n",
    "\n",
    "#writing the output video with cv.videowriter\n",
    "if(not args.image):\n",
    "    vid_writer = cv.VideoWriter(outputFile, cv.VideoWriter_fourcc('M','J','P','G'), 28, (round(cap.get(cv.CAP_PROP_FRAME_WIDTH)),round(cap.get(cv.CAP_PROP_FRAME_HEIGHT))))\n",
    "    \n",
    "while cv.waitKey(1) < 0:\n",
    "        \n",
    "    #video to frames\n",
    "    containFrame, frame = cap.read()\n",
    "    #stop if end of video    \n",
    "    if not containFrame:\n",
    "        print(\"Done extracting frames from video\")\n",
    "        print(\"Video saved at\",outputFile)\n",
    "        cv.waitKey(3000)\n",
    "        break"
   ]
  },
  {
   "cell_type": "code",
   "execution_count": null,
   "metadata": {
    "collapsed": true
   },
   "outputs": [],
   "source": []
  }
 ],
 "metadata": {
  "kernelspec": {
   "display_name": "Python 3",
   "language": "python",
   "name": "python3"
  },
  "language_info": {
   "codemirror_mode": {
    "name": "ipython",
    "version": 3
   },
   "file_extension": ".py",
   "mimetype": "text/x-python",
   "name": "python",
   "nbconvert_exporter": "python",
   "pygments_lexer": "ipython3",
   "version": "3.6.3"
  }
 },
 "nbformat": 4,
 "nbformat_minor": 2
}
